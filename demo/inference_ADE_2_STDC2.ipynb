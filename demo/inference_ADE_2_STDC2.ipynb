{
 "cells": [
  {
   "cell_type": "code",
   "execution_count": 1,
   "metadata": {
    "scrolled": true
   },
   "outputs": [
    {
     "name": "stdout",
     "output_type": "stream",
     "text": [
      "/bin/bash: nvcc: command not found\n",
      "gcc (Ubuntu 9.4.0-1ubuntu1~20.04.1) 9.4.0\n",
      "Copyright (C) 2019 Free Software Foundation, Inc.\n",
      "This is free software; see the source for copying conditions.  There is NO\n",
      "warranty; not even for MERCHANTABILITY or FITNESS FOR A PARTICULAR PURPOSE.\n",
      "\n"
     ]
    }
   ],
   "source": [
    "# Check nvcc version\n",
    "!nvcc -V\n",
    "# Check GCC version\n",
    "!gcc --version"
   ]
  },
  {
   "cell_type": "code",
   "execution_count": 2,
   "metadata": {
    "scrolled": true
   },
   "outputs": [
    {
     "name": "stdout",
     "output_type": "stream",
     "text": [
      "1.6.0 True\n",
      "0.22.1\n"
     ]
    }
   ],
   "source": [
    "# Check Pytorch installation\n",
    "import torch, torchvision\n",
    "print(torch.__version__, torch.cuda.is_available())\n",
    "\n",
    "# Check MMSegmentation installation\n",
    "import mmseg\n",
    "print(mmseg.__version__)"
   ]
  },
  {
   "cell_type": "code",
   "execution_count": 3,
   "metadata": {},
   "outputs": [
    {
     "data": {
      "text/html": [
       "<style>.container { width:100% !important; }</style>"
      ],
      "text/plain": [
       "<IPython.core.display.HTML object>"
      ]
     },
     "metadata": {},
     "output_type": "display_data"
    }
   ],
   "source": [
    "from IPython.core.display import display, HTML\n",
    "display(HTML(\"<style>.container { width:100% !important; }</style>\"))\n",
    "\n",
    "# Python ≥3.5 is required\n",
    "import sys\n",
    "assert sys.version_info >= (3, 5)\n",
    "\n",
    "# Scikit-Learn ≥0.20 is required\n",
    "import sklearn\n",
    "assert sklearn.__version__ >= \"0.20\"\n",
    "\n",
    "# Common imports\n",
    "import numpy as np\n",
    "import os\n",
    "\n",
    "# to make this notebook's output stable across runs\n",
    "np.random.seed(42)\n",
    "\n",
    "# To plot pretty figures\n",
    "%matplotlib inline\n",
    "import matplotlib as mpl\n",
    "import matplotlib.pyplot as plt\n",
    "mpl.rc('axes', labelsize=14)\n",
    "mpl.rc('xtick', labelsize=12)\n",
    "mpl.rc('ytick', labelsize=12)\n",
    "plt.rc('font', size=12) \n",
    "plt.rc('figure', figsize = (12, 5))\n",
    "\n",
    "# Settings for the visualizations\n",
    "import seaborn as sns\n",
    "sns.set_style(\"whitegrid\")\n",
    "sns.set_context(\"notebook\", font_scale=1, rc={\"lines.linewidth\": 2,'font.family': [u'times']})\n",
    "\n",
    "import pandas as pd\n",
    "pd.set_option('display.max_rows', 25)\n",
    "pd.set_option('display.max_columns', 500)\n",
    "pd.set_option('display.max_colwidth', 50)\n",
    "\n",
    "# Ignore useless warnings (see SciPy issue #5998)\n",
    "import warnings\n",
    "warnings.filterwarnings(action=\"ignore\", message=\"^internal gelsd\")"
   ]
  },
  {
   "cell_type": "code",
   "execution_count": 4,
   "metadata": {
    "scrolled": true
   },
   "outputs": [
    {
     "name": "stdout",
     "output_type": "stream",
     "text": [
      "0\n",
      "1\n",
      "0\n",
      "0\n",
      "cuda:0\n"
     ]
    },
    {
     "name": "stderr",
     "output_type": "stream",
     "text": [
      "/home/user/anaconda3/envs/python37/lib/python3.7/site-packages/torch/cuda/memory.py:346: FutureWarning: torch.cuda.memory_cached has been renamed to torch.cuda.memory_reserved\n",
      "  FutureWarning)\n"
     ]
    }
   ],
   "source": [
    "from torchvision import datasets, models, transforms\n",
    "import torch.optim as optim\n",
    "\n",
    "if torch.cuda.is_available():\n",
    "    torch.cuda.init()\n",
    "    print(torch.cuda.current_device())\n",
    "    print(torch.cuda.device_count())\n",
    "    print(torch.cuda.memory_allocated())\n",
    "    print(torch.cuda.memory_cached())\n",
    "    cuda = torch.device('cuda')\n",
    "    cuda0 = torch.device('cuda:0')\n",
    "    print(cuda0)"
   ]
  },
  {
   "cell_type": "code",
   "execution_count": 5,
   "metadata": {},
   "outputs": [
    {
     "data": {
      "text/plain": [
       "'|===========================================================================|\\n|                  PyTorch CUDA memory summary, device ID 0                 |\\n|---------------------------------------------------------------------------|\\n|            CUDA OOMs: 0            |        cudaMalloc retries: 0         |\\n|===========================================================================|\\n|        Metric         | Cur Usage  | Peak Usage | Tot Alloc  | Tot Freed  |\\n|---------------------------------------------------------------------------|\\n| Allocated memory      |       0 B  |       0 B  |       0 B  |       0 B  |\\n|       from large pool |       0 B  |       0 B  |       0 B  |       0 B  |\\n|       from small pool |       0 B  |       0 B  |       0 B  |       0 B  |\\n|---------------------------------------------------------------------------|\\n| Active memory         |       0 B  |       0 B  |       0 B  |       0 B  |\\n|       from large pool |       0 B  |       0 B  |       0 B  |       0 B  |\\n|       from small pool |       0 B  |       0 B  |       0 B  |       0 B  |\\n|---------------------------------------------------------------------------|\\n| GPU reserved memory   |       0 B  |       0 B  |       0 B  |       0 B  |\\n|       from large pool |       0 B  |       0 B  |       0 B  |       0 B  |\\n|       from small pool |       0 B  |       0 B  |       0 B  |       0 B  |\\n|---------------------------------------------------------------------------|\\n| Non-releasable memory |       0 B  |       0 B  |       0 B  |       0 B  |\\n|       from large pool |       0 B  |       0 B  |       0 B  |       0 B  |\\n|       from small pool |       0 B  |       0 B  |       0 B  |       0 B  |\\n|---------------------------------------------------------------------------|\\n| Allocations           |       0    |       0    |       0    |       0    |\\n|       from large pool |       0    |       0    |       0    |       0    |\\n|       from small pool |       0    |       0    |       0    |       0    |\\n|---------------------------------------------------------------------------|\\n| Active allocs         |       0    |       0    |       0    |       0    |\\n|       from large pool |       0    |       0    |       0    |       0    |\\n|       from small pool |       0    |       0    |       0    |       0    |\\n|---------------------------------------------------------------------------|\\n| GPU reserved segments |       0    |       0    |       0    |       0    |\\n|       from large pool |       0    |       0    |       0    |       0    |\\n|       from small pool |       0    |       0    |       0    |       0    |\\n|---------------------------------------------------------------------------|\\n| Non-releasable allocs |       0    |       0    |       0    |       0    |\\n|       from large pool |       0    |       0    |       0    |       0    |\\n|       from small pool |       0    |       0    |       0    |       0    |\\n|===========================================================================|\\n'"
      ]
     },
     "execution_count": 5,
     "metadata": {},
     "output_type": "execute_result"
    }
   ],
   "source": [
    "torch.cuda.memory_summary(device=None, abbreviated=False)"
   ]
  },
  {
   "cell_type": "code",
   "execution_count": 6,
   "metadata": {},
   "outputs": [],
   "source": [
    "torch.cuda.empty_cache()"
   ]
  },
  {
   "cell_type": "code",
   "execution_count": 7,
   "metadata": {
    "pycharm": {
     "is_executing": true
    }
   },
   "outputs": [],
   "source": [
    "from mmseg.apis import init_segmentor, inference_segmentor, show_result_pyplot\n",
    "from mmseg.core.evaluation import get_palette"
   ]
  },
  {
   "cell_type": "code",
   "execution_count": 8,
   "metadata": {
    "scrolled": true
   },
   "outputs": [
    {
     "name": "stdout",
     "output_type": "stream",
     "text": [
      "0.18.3\n"
     ]
    }
   ],
   "source": [
    "import os.path as osp\n",
    "import numpy as np\n",
    "from PIL import Image\n",
    "import skimage\n",
    "from skimage import io\n",
    "print(skimage.__version__)"
   ]
  },
  {
   "cell_type": "code",
   "execution_count": 9,
   "metadata": {},
   "outputs": [],
   "source": [
    "import mmcv"
   ]
  },
  {
   "cell_type": "code",
   "execution_count": 10,
   "metadata": {},
   "outputs": [],
   "source": [
    "classes = ['background', 'human']\n",
    "palette = [[0,0,0], [255,0,0]]\n",
    "class_weight = [1.0,20.0] # 0.05 human pixels"
   ]
  },
  {
   "cell_type": "code",
   "execution_count": 11,
   "metadata": {},
   "outputs": [],
   "source": [
    "import os.path as osp\n",
    "import mmcv\n",
    "import numpy as np\n",
    "from PIL import Image\n",
    "\n",
    "from mmseg.datasets.builder import DATASETS\n",
    "from mmseg.datasets.custom import CustomDataset\n",
    "\n",
    "\n",
    "@DATASETS.register_module()\n",
    "class ADE20KDataset01(CustomDataset):\n",
    "    \"\"\"ADE20K dataset.\n",
    "    In segmentation map annotation for ADE20K, 0 stands for background, which\n",
    "    is not included in 150 categories. ``reduce_zero_label`` is fixed to True.\n",
    "    The ``img_suffix`` is fixed to '.jpg' and ``seg_map_suffix`` is fixed to\n",
    "    '.png'.\n",
    "    \"\"\"\n",
    "    CLASSES = classes\n",
    "    PALETTE = palette\n",
    "\n",
    "    def __init__(self, **kwargs):\n",
    "        super(ADE20KDataset01, self).__init__(\n",
    "            img_suffix='.jpg',\n",
    "            seg_map_suffix='.png',\n",
    "            reduce_zero_label=False,\n",
    "            **kwargs)\n",
    "        assert osp.exists(self.img_dir)\n",
    "\n",
    "    def results2img(self, results, imgfile_prefix, to_label_id, indices=None):\n",
    "        if indices is None:\n",
    "            indices = list(range(len(self)))\n",
    "\n",
    "        mmcv.mkdir_or_exist(imgfile_prefix)\n",
    "        result_files = []\n",
    "        for result, idx in zip(results, indices):\n",
    "\n",
    "            filename = self.img_infos[idx]['filename']\n",
    "            basename = osp.splitext(osp.basename(filename))[0]\n",
    "\n",
    "            png_filename = osp.join(imgfile_prefix, f'{basename}.png')\n",
    "\n",
    "            output = Image.fromarray(result.astype(np.uint8))\n",
    "            output.save(png_filename)\n",
    "            result_files.append(png_filename)\n",
    "\n",
    "        return result_files\n",
    "\n",
    "    def format_results(self,\n",
    "                       results,\n",
    "                       imgfile_prefix,\n",
    "                       to_label_id=True,\n",
    "                       indices=None):\n",
    "        \n",
    "        if indices is None:\n",
    "            indices = list(range(len(self)))\n",
    "\n",
    "        assert isinstance(results, list), 'results must be a list.'\n",
    "        assert isinstance(indices, list), 'indices must be a list.'\n",
    "\n",
    "        result_files = self.results2img(results, imgfile_prefix, to_label_id,\n",
    "                                        indices)\n",
    "        return result_files"
   ]
  },
  {
   "cell_type": "code",
   "execution_count": 12,
   "metadata": {},
   "outputs": [],
   "source": [
    "from mmcv import Config\n",
    "cfg = Config.fromfile('../configs/stdc/stdc1_512x1024_80k_cityscapes.py')"
   ]
  },
  {
   "cell_type": "code",
   "execution_count": 13,
   "metadata": {},
   "outputs": [],
   "source": [
    "data_root = '../data/ade/ADEChallengeData2016'\n",
    "img_dir = 'images-binary'\n",
    "ann_dir = 'binary-labels'"
   ]
  },
  {
   "cell_type": "code",
   "execution_count": 14,
   "metadata": {},
   "outputs": [],
   "source": [
    "channels=(32, 64, 256, 512, 1024)"
   ]
  },
  {
   "cell_type": "code",
   "execution_count": 15,
   "metadata": {},
   "outputs": [],
   "source": [
    "decode_head_loss_weight = 1.0\n",
    "auxiliary_head_loss_weight = decode_head_loss_weight"
   ]
  },
  {
   "cell_type": "code",
   "execution_count": 16,
   "metadata": {},
   "outputs": [],
   "source": [
    "norm_config_type = 'BN'"
   ]
  },
  {
   "cell_type": "code",
   "execution_count": 17,
   "metadata": {},
   "outputs": [],
   "source": [
    "from mmseg.apis import set_random_seed\n",
    "# Since we use ony one GPU, BN is used instead of BN\n",
    "cfg.norm_cfg = dict(type=norm_config_type, requires_grad=True)  # Segmentation usually uses SyncBN\n",
    "# model settings\n",
    "cfg.model = dict(\n",
    "    type='EncoderDecoder',\n",
    "    pretrained=None,\n",
    "    backbone=dict(\n",
    "        type='STDCContextPathNet',\n",
    "        backbone_cfg=dict(\n",
    "            type='STDCNet',\n",
    "            stdc_type='STDCNet2',\n",
    "            in_channels=3,\n",
    "            channels=channels,\n",
    "            bottleneck_type='cat',\n",
    "            num_convs=4,\n",
    "            norm_cfg=cfg.norm_cfg,\n",
    "            act_cfg=dict(type='ReLU'),\n",
    "            with_final_conv=False),\n",
    "        last_in_channels=(1024, 512),\n",
    "        out_channels=128,\n",
    "        ffm_cfg=dict(in_channels=384, out_channels=256, scale_factor=4)),\n",
    "    decode_head=dict(\n",
    "        type='FCNHead',\n",
    "        in_channels=256,\n",
    "        channels=256,\n",
    "        num_convs=1,\n",
    "        num_classes=len(classes),\n",
    "        in_index=3,\n",
    "        concat_input=False,\n",
    "        dropout_ratio=0.1,\n",
    "        norm_cfg=cfg.norm_cfg,\n",
    "        align_corners=False,\n",
    "        sampler=dict(type='OHEMPixelSampler', thresh=0.7, min_kept=10000),\n",
    "        loss_decode=[\n",
    "                dict(\n",
    "                    type='CrossEntropyLoss',\n",
    "                    loss_name='loss_ce',\n",
    "                    use_sigmoid=False,\n",
    "                    loss_weight=decode_head_loss_weight, \n",
    "                    #class_weight=class_weight\n",
    "                ),\n",
    "                dict(\n",
    "                    type='DiceLoss',\n",
    "                    loss_name='loss_dice',\n",
    "                    loss_weight=decode_head_loss_weight, \n",
    "                    class_weight=class_weight\n",
    "                )\n",
    "            ]\n",
    "    ),\n",
    "    auxiliary_head=[\n",
    "        dict(\n",
    "            type='FCNHead',\n",
    "            in_channels=128,\n",
    "            channels=64,\n",
    "            num_convs=1,\n",
    "            num_classes=len(classes),\n",
    "            in_index=2,\n",
    "            norm_cfg=cfg.norm_cfg,\n",
    "            concat_input=False,\n",
    "            align_corners=False,\n",
    "            sampler=dict(type='OHEMPixelSampler', thresh=0.7, min_kept=10000),\n",
    "            loss_decode=[\n",
    "                dict(\n",
    "                    type='CrossEntropyLoss',\n",
    "                    loss_name='loss_ce',\n",
    "                    use_sigmoid=False,\n",
    "                    loss_weight=decode_head_loss_weight, \n",
    "                    #class_weight=class_weight\n",
    "                ),\n",
    "                dict(\n",
    "                    type='DiceLoss',\n",
    "                    loss_name='loss_dice',\n",
    "                    loss_weight=decode_head_loss_weight, \n",
    "                    class_weight=class_weight\n",
    "                )\n",
    "            ]\n",
    "        ),\n",
    "        dict(\n",
    "            type='FCNHead',\n",
    "            in_channels=128,\n",
    "            channels=64,\n",
    "            num_convs=1,\n",
    "            num_classes=len(classes),\n",
    "            in_index=1,\n",
    "            norm_cfg=cfg.norm_cfg,\n",
    "            concat_input=False,\n",
    "            align_corners=False,\n",
    "            sampler=dict(type='OHEMPixelSampler', thresh=0.7, min_kept=10000),\n",
    "            loss_decode=[\n",
    "                dict(\n",
    "                    type='CrossEntropyLoss',\n",
    "                    loss_name='loss_ce',\n",
    "                    use_sigmoid=False,\n",
    "                    loss_weight=decode_head_loss_weight, \n",
    "                    #class_weight=class_weight\n",
    "                ),\n",
    "                dict(\n",
    "                    type='DiceLoss',\n",
    "                    loss_name='loss_dice',\n",
    "                    loss_weight=decode_head_loss_weight, \n",
    "                    class_weight=class_weight\n",
    "                )\n",
    "            ]\n",
    "        ),\n",
    "        dict(\n",
    "            type='STDCHead',\n",
    "            in_channels=256,\n",
    "            channels=64,\n",
    "            num_convs=1,\n",
    "            num_classes=len(classes),\n",
    "            boundary_threshold=0.1,\n",
    "            in_index=0,\n",
    "            norm_cfg=cfg.norm_cfg,\n",
    "            concat_input=False,\n",
    "            align_corners=False,\n",
    "            loss_decode=[\n",
    "                dict(\n",
    "                    type='CrossEntropyLoss',\n",
    "                    loss_name='loss_ce',\n",
    "                    use_sigmoid=True,\n",
    "                    loss_weight=decode_head_loss_weight, \n",
    "                    #class_weight=class_weight\n",
    "                ),\n",
    "                dict(\n",
    "                    type='DiceLoss',\n",
    "                    loss_name='loss_dice',\n",
    "                    loss_weight=decode_head_loss_weight, \n",
    "                    class_weight=class_weight\n",
    "                )\n",
    "            ]\n",
    "        ),\n",
    "    ],\n",
    "    # model training and testing settings\n",
    "    train_cfg=dict(),\n",
    "    test_cfg=dict(mode='whole'))"
   ]
  },
  {
   "cell_type": "code",
   "execution_count": 18,
   "metadata": {},
   "outputs": [],
   "source": [
    "############### start dataset \n",
    "cfg.dataset_type = 'ADE20KDataset01'  # Dataset type, this will be used to define the dataset.\n",
    "cfg.data_root = data_root  # Root path of data.\n",
    "cfg.img_norm_cfg = dict(  # Image normalization config to normalize the input images.\n",
    "    mean=[123.675, 116.28, 103.53],  # Mean values used to pre-training the pre-trained backbone models.\n",
    "    std=[58.395, 57.12, 57.375],  # Standard variance used to pre-training the pre-trained backbone models.\n",
    "    to_rgb=True)  # The channel orders of image used to pre-training the pre-trained backbone models.\n",
    "cfg.crop_size = (512, 512)  # The crop size during training.\n",
    "\n",
    "cfg.train_pipeline = [  # Training pipeline.\n",
    "    dict(type='LoadImageFromFile'),  # First pipeline to load images from file path.\n",
    "    dict(type='LoadAnnotations', reduce_zero_label=False),  # Second pipeline to load annotations for current image.\n",
    "    dict(type='Resize',  # Augmentation pipeline that resize the images and their annotations.\n",
    "        img_scale=(2048, 512),  # The largest scale of image.\n",
    "        ratio_range=(0.5, 2.0)), # The augmented scale range as ratio.\n",
    "    dict(type='RandomCrop',  # Augmentation pipeline that randomly crop a patch from current image.\n",
    "        crop_size=cfg.crop_size,  # The crop size of patch.\n",
    "        cat_max_ratio=0.75),  # The max area ratio that could be occupied by single category.\n",
    "    dict(\n",
    "        type='RandomFlip',  # Augmentation pipeline that flip the images and their annotations\n",
    "        flip_ratio=0.5),  # The ratio or probability to flip\n",
    "    dict(type='PhotoMetricDistortion'),  # Augmentation pipeline that distort current image with several photo metric methods.\n",
    "    dict(\n",
    "        type='Normalize',  # Augmentation pipeline that normalize the input images\n",
    "        **cfg.img_norm_cfg),\n",
    "    dict(type='Pad',  # Augmentation pipeline that pad the image to specified size.\n",
    "        size=cfg.crop_size,  # The output size of padding.\n",
    "        pad_val=0,  # The padding value for image.\n",
    "        seg_pad_val=255),  # The padding value of 'gt_semantic_seg'.\n",
    "    dict(type='DefaultFormatBundle'),  # Default format bundle to gather data in the pipeline\n",
    "    dict(type='Collect',  # Pipeline that decides which keys in the data should be passed to the segmentor\n",
    "        keys=['img', 'gt_semantic_seg'])\n",
    "]\n",
    "\n",
    "cfg.test_pipeline = [\n",
    "    dict(type='LoadImageFromFile'),  # First pipeline to load images from file path\n",
    "    dict(\n",
    "        type='MultiScaleFlipAug',  # An encapsulation that encapsulates the test time augmentations\n",
    "        img_scale=(2048, 512),  # Decides the largest scale for testing, used for the Resize pipeline\n",
    "        flip=False,  # Whether to flip images during testing\n",
    "        transforms=[\n",
    "            dict(type='Resize',  # Use resize augmentation\n",
    "                 keep_ratio=True),  # Whether to keep the ratio between height and width, the img_scale set here will be suppressed by the img_scale set above.\n",
    "            dict(type='RandomFlip'),  # Thought RandomFlip is added in pipeline, it is not used when flip=False\n",
    "            dict(\n",
    "                type='Normalize',  # Normalization config, the values are from img_norm_cfg\n",
    "                 **cfg.img_norm_cfg),\n",
    "            dict(type='ImageToTensor', # Convert image to tensor\n",
    "                keys=['img']),\n",
    "            dict(type='Collect', # Collect pipeline that collect necessary keys for testing.\n",
    "                keys=['img'])\n",
    "        ])\n",
    "]\n",
    "cfg.data = dict(\n",
    "    samples_per_gpu=8,\n",
    "    workers_per_gpu=8,\n",
    "    train=dict(\n",
    "        type=cfg.dataset_type,\n",
    "        data_root=cfg.data_root,\n",
    "        img_dir=f'{img_dir}/training',\n",
    "        ann_dir=f'{ann_dir}/training',\n",
    "        pipeline=cfg.train_pipeline),\n",
    "    val=dict(\n",
    "        type=cfg.dataset_type,\n",
    "        data_root=cfg.data_root,\n",
    "        img_dir=f'{img_dir}/validation',\n",
    "        ann_dir=f'{ann_dir}/validation',\n",
    "        pipeline=cfg.test_pipeline),\n",
    "    test=dict(\n",
    "        type=cfg.dataset_type,\n",
    "        data_root=cfg.data_root,\n",
    "        img_dir=f'{img_dir}/validation',\n",
    "        ann_dir=f'{ann_dir}/validation',\n",
    "        pipeline=cfg.test_pipeline))\n",
    "############ end dataset"
   ]
  },
  {
   "cell_type": "code",
   "execution_count": 19,
   "metadata": {
    "scrolled": true
   },
   "outputs": [
    {
     "name": "stderr",
     "output_type": "stream",
     "text": [
      "2022-03-28 16:03:40,758 - mmseg - INFO - Loaded 5569 images\n"
     ]
    },
    {
     "name": "stdout",
     "output_type": "stream",
     "text": [
      "2\n"
     ]
    }
   ],
   "source": [
    "from mmseg.datasets import build_dataset\n",
    "from mmseg.models import build_segmentor\n",
    "from mmseg.apis import train_segmentor\n",
    "\n",
    "# Build the dataset\n",
    "datasets = [build_dataset(cfg.data.train)]\n",
    "#print(datasets[0].CLASSES)\n",
    "print(len(datasets[0].CLASSES))"
   ]
  },
  {
   "cell_type": "code",
   "execution_count": 20,
   "metadata": {},
   "outputs": [],
   "source": [
    "# modify num classes of the model in decode/auxiliary head\n",
    "cfg.model.decode_head.num_classes = len(datasets[0].CLASSES)\n",
    "\n",
    "cfg.model.auxiliary_head[0].num_classes = len(datasets[0].CLASSES)\n",
    "cfg.model.auxiliary_head[1].num_classes = len(datasets[0].CLASSES)\n",
    "cfg.model.auxiliary_head[2].num_classes = len(datasets[0].CLASSES)"
   ]
  },
  {
   "cell_type": "code",
   "execution_count": 21,
   "metadata": {},
   "outputs": [],
   "source": [
    "# Set up working dir to save files and logs.\n",
    "cfg.work_dir = './work_dirs/teststdc2.Training_Tricks.160000iter.tensorboard'\n",
    "\n",
    "############ start default runtime\n",
    "cfg.log_config = dict(  # config to register logger hook\n",
    "    interval=50,  # Interval to print the log\n",
    "    hooks=[\n",
    "        dict(type='TensorboardLoggerHook'),\n",
    "        dict(type='TextLoggerHook', by_epoch=False)\n",
    "    ])\n",
    "cfg.dist_params = dict(backend='nccl')  # Parameters to setup distributed training, the port can also be set.\n",
    "cfg.log_level = 'INFO'  # The level of logging.\n",
    "cfg.load_from = None  # load models as a pre-trained model from a given path. This will not resume training.\n",
    "cfg.resume_from = None  # Resume checkpoints from a given path, the training will be resumed from the iteration when the checkpoint's is saved.\n",
    "cfg.workflow = [('train', 1)]  # Workflow for runner. [('train', 1)] means there is only one workflow and the workflow named 'train' is executed once. The workflow trains the model by 40000 iterations according to the `runner.max_iters`.\n",
    "cfg.cudnn_benchmark = True  # Whether use cudnn_benchmark to speed up, which is fast for fixed input size.\n",
    "############ end default runtime\n",
    "\n",
    "############ start schedule\n",
    "cfg.optimizer = dict(  # Config used to build optimizer, support all the optimizers in PyTorch whose arguments are also the same as those in PyTorch\n",
    "    type='SGD',  # Type of optimizers, refer to https://github.com/open-mmlab/mmcv/blob/master/mmcv/runner/optimizer/default_constructor.py#L13 for more details\n",
    "    lr=0.005,  # Learning rate of optimizers, see detail usages of the parameters in the documentation of PyTorch\n",
    "    momentum=0.9,  # Momentum\n",
    "    weight_decay=0.0005\n",
    "    #paramwise_cfg=dict(custom_keys=dict(head=dict(lr_mult=10.0)))\n",
    ")\n",
    "cfg.optimizer_config = dict()  # Config used to build the optimizer hook, refer to https://github.com/open-mmlab/mmcv/blob/master/mmcv/runner/hooks/optimizer.py#L8 for implementation details.\n",
    "lr_config = dict(\n",
    "    policy='poly',  # The policy of scheduler, also support Step, CosineAnnealing, Cyclic, etc. Refer to details of supported LrUpdater from https://github.com/open-mmlab/mmcv/blob/master/mmcv/runner/hooks/lr_updater.py#L9.\n",
    "    power=0.9,  # The power of polynomial decay.\n",
    "    min_lr=0.00001,  # The minimum learning rate to stable the training.\n",
    "    by_epoch=False,\n",
    "    warmup='linear',\n",
    "    warmup_iters=1000\n",
    ")  # Whether count by epoch or not.\n",
    "cfg.runner=dict(\n",
    "    type='IterBasedRunner', # Type of runner to use (i.e. IterBasedRunner or EpochBasedRunner)\n",
    "    max_iters=160000) # Total number of iterations. For EpochBasedRunner use `max_epochs`\n",
    "cfg.checkpoint_config = dict(  # Config to set the checkpoint hook, Refer to https://github.com/open-mmlab/mmcv/blob/master/mmcv/runner/hooks/checkpoint.py for implementation.\n",
    "    by_epoch=False,  # Whether count by epoch or not.\n",
    "    interval=10000,\n",
    "    meta=dict(\n",
    "        CLASSES=classes,\n",
    "        PALETTE=palette\n",
    "    )\n",
    ")\n",
    "cfg.evaluation = dict(  # The config to build the evaluation hook. Please refer to mmseg/core/evaluation/eval_hook.py for details.\n",
    "    interval=2000,  # The interval of evaluation.\n",
    "    metric='mIoU',\n",
    "    pre_eval=True)  # The evaluation metric.\n",
    "\n",
    "############ end schedule"
   ]
  },
  {
   "cell_type": "code",
   "execution_count": 22,
   "metadata": {
    "scrolled": true
   },
   "outputs": [
    {
     "name": "stdout",
     "output_type": "stream",
     "text": [
      "Config:\n",
      "norm_cfg = dict(type='BN', requires_grad=True)\n",
      "model = dict(\n",
      "    type='EncoderDecoder',\n",
      "    pretrained=None,\n",
      "    backbone=dict(\n",
      "        type='STDCContextPathNet',\n",
      "        backbone_cfg=dict(\n",
      "            type='STDCNet',\n",
      "            stdc_type='STDCNet2',\n",
      "            in_channels=3,\n",
      "            channels=(32, 64, 256, 512, 1024),\n",
      "            bottleneck_type='cat',\n",
      "            num_convs=4,\n",
      "            norm_cfg=dict(type='BN', requires_grad=True),\n",
      "            act_cfg=dict(type='ReLU'),\n",
      "            with_final_conv=False),\n",
      "        last_in_channels=(1024, 512),\n",
      "        out_channels=128,\n",
      "        ffm_cfg=dict(in_channels=384, out_channels=256, scale_factor=4)),\n",
      "    decode_head=dict(\n",
      "        type='FCNHead',\n",
      "        in_channels=256,\n",
      "        channels=256,\n",
      "        num_convs=1,\n",
      "        num_classes=2,\n",
      "        in_index=3,\n",
      "        concat_input=False,\n",
      "        dropout_ratio=0.1,\n",
      "        norm_cfg=dict(type='BN', requires_grad=True),\n",
      "        align_corners=True,\n",
      "        sampler=dict(type='OHEMPixelSampler', thresh=0.7, min_kept=10000),\n",
      "        loss_decode=dict(\n",
      "            type='CrossEntropyLoss', use_sigmoid=False, loss_weight=1.0)),\n",
      "    auxiliary_head=[\n",
      "        dict(\n",
      "            type='FCNHead',\n",
      "            in_channels=128,\n",
      "            channels=64,\n",
      "            num_convs=1,\n",
      "            num_classes=2,\n",
      "            in_index=2,\n",
      "            norm_cfg=dict(type='BN', requires_grad=True),\n",
      "            concat_input=False,\n",
      "            align_corners=False,\n",
      "            sampler=dict(type='OHEMPixelSampler', thresh=0.7, min_kept=10000),\n",
      "            loss_decode=dict(\n",
      "                type='CrossEntropyLoss', use_sigmoid=False, loss_weight=1.0)),\n",
      "        dict(\n",
      "            type='FCNHead',\n",
      "            in_channels=128,\n",
      "            channels=64,\n",
      "            num_convs=1,\n",
      "            num_classes=2,\n",
      "            in_index=1,\n",
      "            norm_cfg=dict(type='BN', requires_grad=True),\n",
      "            concat_input=False,\n",
      "            align_corners=False,\n",
      "            sampler=dict(type='OHEMPixelSampler', thresh=0.7, min_kept=10000),\n",
      "            loss_decode=dict(\n",
      "                type='CrossEntropyLoss', use_sigmoid=False, loss_weight=1.0)),\n",
      "        dict(\n",
      "            type='STDCHead',\n",
      "            in_channels=256,\n",
      "            channels=64,\n",
      "            num_convs=1,\n",
      "            num_classes=2,\n",
      "            boundary_threshold=0.1,\n",
      "            in_index=0,\n",
      "            norm_cfg=dict(type='BN', requires_grad=True),\n",
      "            concat_input=False,\n",
      "            align_corners=True,\n",
      "            loss_decode=[\n",
      "                dict(\n",
      "                    type='CrossEntropyLoss',\n",
      "                    loss_name='loss_ce',\n",
      "                    use_sigmoid=True,\n",
      "                    loss_weight=1.0),\n",
      "                dict(type='DiceLoss', loss_name='loss_dice', loss_weight=1.0)\n",
      "            ])\n",
      "    ],\n",
      "    train_cfg=dict(),\n",
      "    test_cfg=dict(mode='whole'))\n",
      "dataset_type = 'ADE20KDataset01'\n",
      "data_root = '../data/ade/ADEChallengeData2016'\n",
      "img_norm_cfg = dict(\n",
      "    mean=[123.675, 116.28, 103.53], std=[58.395, 57.12, 57.375], to_rgb=True)\n",
      "crop_size = (512, 512)\n",
      "train_pipeline = [\n",
      "    dict(type='LoadImageFromFile'),\n",
      "    dict(type='LoadAnnotations', reduce_zero_label=False),\n",
      "    dict(type='Resize', img_scale=(2048, 512), ratio_range=(0.5, 2.0)),\n",
      "    dict(type='RandomCrop', crop_size=(512, 512), cat_max_ratio=0.75),\n",
      "    dict(type='RandomFlip', flip_ratio=0.5),\n",
      "    dict(type='PhotoMetricDistortion'),\n",
      "    dict(\n",
      "        type='Normalize',\n",
      "        mean=[123.675, 116.28, 103.53],\n",
      "        std=[58.395, 57.12, 57.375],\n",
      "        to_rgb=True),\n",
      "    dict(type='Pad', size=(512, 512), pad_val=0, seg_pad_val=255),\n",
      "    dict(type='DefaultFormatBundle'),\n",
      "    dict(type='Collect', keys=['img', 'gt_semantic_seg'])\n",
      "]\n",
      "test_pipeline = [\n",
      "    dict(type='LoadImageFromFile'),\n",
      "    dict(\n",
      "        type='MultiScaleFlipAug',\n",
      "        img_scale=(2048, 512),\n",
      "        flip=False,\n",
      "        transforms=[\n",
      "            dict(type='Resize', keep_ratio=True),\n",
      "            dict(type='RandomFlip'),\n",
      "            dict(\n",
      "                type='Normalize',\n",
      "                mean=[123.675, 116.28, 103.53],\n",
      "                std=[58.395, 57.12, 57.375],\n",
      "                to_rgb=True),\n",
      "            dict(type='ImageToTensor', keys=['img']),\n",
      "            dict(type='Collect', keys=['img'])\n",
      "        ])\n",
      "]\n",
      "data = dict(\n",
      "    samples_per_gpu=8,\n",
      "    workers_per_gpu=8,\n",
      "    train=dict(\n",
      "        type='ADE20KDataset01',\n",
      "        data_root='../data/ade/ADEChallengeData2016',\n",
      "        img_dir='images-binary/training',\n",
      "        ann_dir='binary-labels/training',\n",
      "        pipeline=[\n",
      "            dict(type='LoadImageFromFile'),\n",
      "            dict(type='LoadAnnotations', reduce_zero_label=False),\n",
      "            dict(type='Resize', img_scale=(2048, 512), ratio_range=(0.5, 2.0)),\n",
      "            dict(type='RandomCrop', crop_size=(512, 512), cat_max_ratio=0.75),\n",
      "            dict(type='RandomFlip', flip_ratio=0.5),\n",
      "            dict(type='PhotoMetricDistortion'),\n",
      "            dict(\n",
      "                type='Normalize',\n",
      "                mean=[123.675, 116.28, 103.53],\n",
      "                std=[58.395, 57.12, 57.375],\n",
      "                to_rgb=True),\n",
      "            dict(type='Pad', size=(512, 512), pad_val=0, seg_pad_val=255),\n",
      "            dict(type='DefaultFormatBundle'),\n",
      "            dict(type='Collect', keys=['img', 'gt_semantic_seg'])\n",
      "        ]),\n",
      "    val=dict(\n",
      "        type='ADE20KDataset01',\n",
      "        data_root='../data/ade/ADEChallengeData2016',\n",
      "        img_dir='images-binary/validation',\n",
      "        ann_dir='binary-labels/validation',\n",
      "        pipeline=[\n",
      "            dict(type='LoadImageFromFile'),\n",
      "            dict(\n",
      "                type='MultiScaleFlipAug',\n",
      "                img_scale=(2048, 512),\n",
      "                flip=False,\n",
      "                transforms=[\n",
      "                    dict(type='Resize', keep_ratio=True),\n",
      "                    dict(type='RandomFlip'),\n",
      "                    dict(\n",
      "                        type='Normalize',\n",
      "                        mean=[123.675, 116.28, 103.53],\n",
      "                        std=[58.395, 57.12, 57.375],\n",
      "                        to_rgb=True),\n",
      "                    dict(type='ImageToTensor', keys=['img']),\n",
      "                    dict(type='Collect', keys=['img'])\n",
      "                ])\n",
      "        ]),\n",
      "    test=dict(\n",
      "        type='ADE20KDataset01',\n",
      "        data_root='../data/ade/ADEChallengeData2016',\n",
      "        img_dir='images-binary/validation',\n",
      "        ann_dir='binary-labels/validation',\n",
      "        pipeline=[\n",
      "            dict(type='LoadImageFromFile'),\n",
      "            dict(\n",
      "                type='MultiScaleFlipAug',\n",
      "                img_scale=(2048, 512),\n",
      "                flip=False,\n",
      "                transforms=[\n",
      "                    dict(type='Resize', keep_ratio=True),\n",
      "                    dict(type='RandomFlip'),\n",
      "                    dict(\n",
      "                        type='Normalize',\n",
      "                        mean=[123.675, 116.28, 103.53],\n",
      "                        std=[58.395, 57.12, 57.375],\n",
      "                        to_rgb=True),\n",
      "                    dict(type='ImageToTensor', keys=['img']),\n",
      "                    dict(type='Collect', keys=['img'])\n",
      "                ])\n",
      "        ]))\n",
      "log_config = dict(\n",
      "    interval=50, hooks=[dict(type='TextLoggerHook', by_epoch=False)])\n",
      "dist_params = dict(backend='nccl')\n",
      "log_level = 'INFO'\n",
      "load_from = None\n",
      "resume_from = None\n",
      "workflow = [('train', 1)]\n",
      "cudnn_benchmark = True\n",
      "optimizer = dict(\n",
      "    type='SGD',\n",
      "    lr=0.01,\n",
      "    momentum=0.9,\n",
      "    weight_decay=0.0005,\n",
      "    paramwise_cfg=dict(\n",
      "        custom_keys=dict(\n",
      "            pos_block=dict(decay_mult=0.0),\n",
      "            norm=dict(decay_mult=0.0),\n",
      "            head=dict(lr_mult=10.0))))\n",
      "optimizer_config = dict()\n",
      "lr_config = dict(\n",
      "    policy='poly',\n",
      "    power=0.9,\n",
      "    min_lr=0.0001,\n",
      "    by_epoch=False,\n",
      "    warmup='linear',\n",
      "    warmup_iters=1000)\n",
      "runner = dict(type='IterBasedRunner', max_iters=160000)\n",
      "checkpoint_config = dict(\n",
      "    by_epoch=False,\n",
      "    interval=10000,\n",
      "    meta=dict(\n",
      "        CLASSES=['background', 'human'], PALETTE=[[0, 0, 0], [255, 0, 0]]))\n",
      "evaluation = dict(interval=5000, metric='mIoU', pre_eval=True)\n",
      "work_dir = './work_dirs/teststdc2.Training_Tricks.160000iter'\n",
      "seed = 0\n",
      "gpu_ids = range(0, 1)\n",
      "\n"
     ]
    }
   ],
   "source": [
    "# Set seed to facitate reproducing the result\n",
    "cfg.seed = 0\n",
    "set_random_seed(0, deterministic=False)\n",
    "cfg.gpu_ids = range(1)\n",
    "\n",
    "# Let's have a look at the final config used for training\n",
    "print(f'Config:\\n{cfg.pretty_text}')"
   ]
  },
  {
   "cell_type": "code",
   "execution_count": 23,
   "metadata": {
    "scrolled": false
   },
   "outputs": [],
   "source": [
    "# Build the detector\n",
    "model = build_segmentor(cfg.model, train_cfg=cfg.get('train_cfg'), test_cfg=cfg.get('test_cfg'))"
   ]
  },
  {
   "cell_type": "code",
   "execution_count": 24,
   "metadata": {},
   "outputs": [],
   "source": [
    "# Add an attribute for visualization convenience\n",
    "model.CLASSES = datasets[0].CLASSES\n",
    "model.PALETTE = datasets[0].PALETTE\n",
    "\n",
    "# Create work_dir\n",
    "mmcv.mkdir_or_exist(osp.abspath(cfg.work_dir))"
   ]
  },
  {
   "cell_type": "code",
   "execution_count": 25,
   "metadata": {
    "scrolled": true
   },
   "outputs": [
    {
     "name": "stderr",
     "output_type": "stream",
     "text": [
      "2022-03-28 16:03:42,003 - mmseg - INFO - Loaded 610 images\n",
      "2022-03-28 16:03:42,003 - mmseg - INFO - Start running, host: user@ESWS-VT02-01, work_dir: /home/user/workspace/github/mmsegmentation/demo/work_dirs/teststdc2.Training_Tricks.160000iter\n",
      "2022-03-28 16:03:42,004 - mmseg - INFO - Hooks will be executed in the following order:\n",
      "before_run:\n",
      "(VERY_HIGH   ) PolyLrUpdaterHook                  \n",
      "(NORMAL      ) CheckpointHook                     \n",
      "(LOW         ) EvalHook                           \n",
      "(VERY_LOW    ) TextLoggerHook                     \n",
      " -------------------- \n",
      "before_train_epoch:\n",
      "(VERY_HIGH   ) PolyLrUpdaterHook                  \n",
      "(LOW         ) IterTimerHook                      \n",
      "(LOW         ) EvalHook                           \n",
      "(VERY_LOW    ) TextLoggerHook                     \n",
      " -------------------- \n",
      "before_train_iter:\n",
      "(VERY_HIGH   ) PolyLrUpdaterHook                  \n",
      "(LOW         ) IterTimerHook                      \n",
      "(LOW         ) EvalHook                           \n",
      " -------------------- \n",
      "after_train_iter:\n",
      "(ABOVE_NORMAL) OptimizerHook                      \n",
      "(NORMAL      ) CheckpointHook                     \n",
      "(LOW         ) IterTimerHook                      \n",
      "(LOW         ) EvalHook                           \n",
      "(VERY_LOW    ) TextLoggerHook                     \n",
      " -------------------- \n",
      "after_train_epoch:\n",
      "(NORMAL      ) CheckpointHook                     \n",
      "(LOW         ) EvalHook                           \n",
      "(VERY_LOW    ) TextLoggerHook                     \n",
      " -------------------- \n",
      "before_val_epoch:\n",
      "(LOW         ) IterTimerHook                      \n",
      "(VERY_LOW    ) TextLoggerHook                     \n",
      " -------------------- \n",
      "before_val_iter:\n",
      "(LOW         ) IterTimerHook                      \n",
      " -------------------- \n",
      "after_val_iter:\n",
      "(LOW         ) IterTimerHook                      \n",
      " -------------------- \n",
      "after_val_epoch:\n",
      "(VERY_LOW    ) TextLoggerHook                     \n",
      " -------------------- \n",
      "after_run:\n",
      "(VERY_LOW    ) TextLoggerHook                     \n",
      " -------------------- \n",
      "2022-03-28 16:03:42,004 - mmseg - INFO - workflow: [('train', 1)], max: 160000 iters\n",
      "2022-03-28 16:03:42,004 - mmseg - INFO - Checkpoints will be saved to /home/user/workspace/github/mmsegmentation/demo/work_dirs/teststdc2.Training_Tricks.160000iter by HardDiskBackend.\n",
      "/home/user/workspace/github/mmsegmentation/mmseg/ops/wrappers.py:23: UserWarning: When align_corners=True, the output would more aligned if input size (64, 64) is `x+1` and out size (512, 512) is `nx+1`\n",
      "  f'When align_corners={align_corners}, '\n",
      "2022-03-28 16:04:00,480 - mmseg - INFO - Iter [50/160000]\tlr: 1.441e-03, eta: 16:16:21, time: 0.366, data_time: 0.012, memory: 2073, decode.loss_ce: 0.2280, decode.acc_seg: 89.4025, aux_0.loss_ce: 0.2190, aux_0.acc_seg: 89.6893, aux_1.loss_ce: 0.2236, aux_1.acc_seg: 89.6267, aux_2.loss_ce: 0.1895, aux_2.loss_dice: 0.4810, aux_2.acc_seg: 93.2477, loss: 1.3410\n",
      "2022-03-28 16:04:35,863 - mmseg - INFO - Iter [100/160000]\tlr: 1.890e-03, eta: 23:50:06, time: 0.707, data_time: 0.005, memory: 2073, decode.loss_ce: 0.1849, decode.acc_seg: 91.0912, aux_0.loss_ce: 0.1798, aux_0.acc_seg: 91.2480, aux_1.loss_ce: 0.1764, aux_1.acc_seg: 91.2505, aux_2.loss_ce: 0.0539, aux_2.loss_dice: 0.4257, aux_2.acc_seg: 99.0907, loss: 1.0207\n",
      "2022-03-28 16:05:12,070 - mmseg - INFO - Iter [150/160000]\tlr: 2.339e-03, eta: 1 day, 2:35:57, time: 0.724, data_time: 0.005, memory: 2073, decode.loss_ce: 0.1779, decode.acc_seg: 91.4903, aux_0.loss_ce: 0.1755, aux_0.acc_seg: 91.4917, aux_1.loss_ce: 0.1779, aux_1.acc_seg: 91.4917, aux_2.loss_ce: 0.0486, aux_2.loss_dice: 0.4162, aux_2.acc_seg: 99.1610, loss: 0.9961\n",
      "2022-03-28 16:05:48,454 - mmseg - INFO - Iter [200/160000]\tlr: 2.788e-03, eta: 1 day, 4:01:09, time: 0.728, data_time: 0.005, memory: 2073, decode.loss_ce: 0.1691, decode.acc_seg: 91.8297, aux_0.loss_ce: 0.1620, aux_0.acc_seg: 91.9074, aux_1.loss_ce: 0.1580, aux_1.acc_seg: 91.9074, aux_2.loss_ce: 0.0510, aux_2.loss_dice: 0.4285, aux_2.acc_seg: 99.0846, loss: 0.9685\n",
      "2022-03-28 16:06:24,826 - mmseg - INFO - Iter [250/160000]\tlr: 3.237e-03, eta: 1 day, 4:52:05, time: 0.728, data_time: 0.005, memory: 2073, decode.loss_ce: 0.1839, decode.acc_seg: 90.7416, aux_0.loss_ce: 0.1765, aux_0.acc_seg: 90.7433, aux_1.loss_ce: 0.1772, aux_1.acc_seg: 90.7436, aux_2.loss_ce: 0.0475, aux_2.loss_dice: 0.4150, aux_2.acc_seg: 99.1256, loss: 1.0002\n",
      "2022-03-28 16:07:01,316 - mmseg - INFO - Iter [300/160000]\tlr: 3.685e-03, eta: 1 day, 5:26:35, time: 0.730, data_time: 0.005, memory: 2073, decode.loss_ce: 0.1313, decode.acc_seg: 93.7795, aux_0.loss_ce: 0.1184, aux_0.acc_seg: 93.7810, aux_1.loss_ce: 0.1200, aux_1.acc_seg: 93.7811, aux_2.loss_ce: 0.0417, aux_2.loss_dice: 0.4069, aux_2.acc_seg: 99.2446, loss: 0.8184\n",
      "2022-03-28 16:07:37,875 - mmseg - INFO - Iter [350/160000]\tlr: 4.133e-03, eta: 1 day, 5:51:42, time: 0.731, data_time: 0.005, memory: 2073, decode.loss_ce: 0.1905, decode.acc_seg: 91.0361, aux_0.loss_ce: 0.1763, aux_0.acc_seg: 91.0381, aux_1.loss_ce: 0.1762, aux_1.acc_seg: 91.0378, aux_2.loss_ce: 0.0468, aux_2.loss_dice: 0.4294, aux_2.acc_seg: 99.1216, loss: 1.0192\n",
      "2022-03-28 16:08:14,393 - mmseg - INFO - Iter [400/160000]\tlr: 4.581e-03, eta: 1 day, 6:10:05, time: 0.730, data_time: 0.005, memory: 2073, decode.loss_ce: 0.1511, decode.acc_seg: 92.8622, aux_0.loss_ce: 0.1362, aux_0.acc_seg: 92.8639, aux_1.loss_ce: 0.1395, aux_1.acc_seg: 92.8639, aux_2.loss_ce: 0.0432, aux_2.loss_dice: 0.4069, aux_2.acc_seg: 99.1963, loss: 0.8769\n",
      "2022-03-28 16:08:50,795 - mmseg - INFO - Iter [450/160000]\tlr: 5.028e-03, eta: 1 day, 6:23:32, time: 0.728, data_time: 0.005, memory: 2073, decode.loss_ce: 0.1748, decode.acc_seg: 91.4862, aux_0.loss_ce: 0.1608, aux_0.acc_seg: 91.5698, aux_1.loss_ce: 0.1645, aux_1.acc_seg: 91.5646, aux_2.loss_ce: 0.0430, aux_2.loss_dice: 0.4200, aux_2.acc_seg: 99.1848, loss: 0.9630\n",
      "2022-03-28 16:09:27,180 - mmseg - INFO - Iter [500/160000]\tlr: 5.476e-03, eta: 1 day, 6:33:59, time: 0.727, data_time: 0.005, memory: 2073, decode.loss_ce: 0.1677, decode.acc_seg: 91.7058, aux_0.loss_ce: 0.1590, aux_0.acc_seg: 91.7076, aux_1.loss_ce: 0.1570, aux_1.acc_seg: 91.7076, aux_2.loss_ce: 0.0439, aux_2.loss_dice: 0.4065, aux_2.acc_seg: 99.1612, loss: 0.9342\n",
      "2022-03-28 16:10:03,593 - mmseg - INFO - Iter [550/160000]\tlr: 5.923e-03, eta: 1 day, 6:42:49, time: 0.729, data_time: 0.006, memory: 2073, decode.loss_ce: 0.1707, decode.acc_seg: 91.6131, aux_0.loss_ce: 0.1579, aux_0.acc_seg: 91.7064, aux_1.loss_ce: 0.1596, aux_1.acc_seg: 91.7089, aux_2.loss_ce: 0.0428, aux_2.loss_dice: 0.4123, aux_2.acc_seg: 99.1831, loss: 0.9434\n",
      "2022-03-28 16:10:40,049 - mmseg - INFO - Iter [600/160000]\tlr: 6.370e-03, eta: 1 day, 6:50:08, time: 0.729, data_time: 0.005, memory: 2073, decode.loss_ce: 0.1734, decode.acc_seg: 91.4882, aux_0.loss_ce: 0.1592, aux_0.acc_seg: 91.5375, aux_1.loss_ce: 0.1670, aux_1.acc_seg: 91.4794, aux_2.loss_ce: 0.0450, aux_2.loss_dice: 0.4273, aux_2.acc_seg: 99.1272, loss: 0.9719\n",
      "2022-03-28 16:11:16,577 - mmseg - INFO - Iter [650/160000]\tlr: 6.816e-03, eta: 1 day, 6:56:32, time: 0.731, data_time: 0.005, memory: 2073, decode.loss_ce: 0.1645, decode.acc_seg: 92.0513, aux_0.loss_ce: 0.1490, aux_0.acc_seg: 92.1653, aux_1.loss_ce: 0.1515, aux_1.acc_seg: 92.1698, aux_2.loss_ce: 0.0439, aux_2.loss_dice: 0.4182, aux_2.acc_seg: 99.1775, loss: 0.9270\n",
      "2022-03-28 16:11:54,619 - mmseg - INFO - Iter [700/160000]\tlr: 7.263e-03, eta: 1 day, 7:07:43, time: 0.761, data_time: 0.057, memory: 2073, decode.loss_ce: 0.1568, decode.acc_seg: 92.1561, aux_0.loss_ce: 0.1509, aux_0.acc_seg: 92.1613, aux_1.loss_ce: 0.1434, aux_1.acc_seg: 92.1613, aux_2.loss_ce: 0.0429, aux_2.loss_dice: 0.4056, aux_2.acc_seg: 99.1841, loss: 0.8996\n",
      "2022-03-28 16:12:30,973 - mmseg - INFO - Iter [750/160000]\tlr: 7.709e-03, eta: 1 day, 7:11:16, time: 0.727, data_time: 0.005, memory: 2073, decode.loss_ce: 0.1714, decode.acc_seg: 91.5601, aux_0.loss_ce: 0.1494, aux_0.acc_seg: 91.5649, aux_1.loss_ce: 0.1581, aux_1.acc_seg: 91.5685, aux_2.loss_ce: 0.0452, aux_2.loss_dice: 0.4248, aux_2.acc_seg: 99.1054, loss: 0.9489\n",
      "2022-03-28 16:13:07,313 - mmseg - INFO - Iter [800/160000]\tlr: 8.155e-03, eta: 1 day, 7:14:19, time: 0.727, data_time: 0.005, memory: 2073, decode.loss_ce: 0.1589, decode.acc_seg: 92.3101, aux_0.loss_ce: 0.1413, aux_0.acc_seg: 92.4332, aux_1.loss_ce: 0.1441, aux_1.acc_seg: 92.4636, aux_2.loss_ce: 0.0433, aux_2.loss_dice: 0.4114, aux_2.acc_seg: 99.1696, loss: 0.8990\n"
     ]
    },
    {
     "name": "stderr",
     "output_type": "stream",
     "text": [
      "2022-03-28 16:13:43,704 - mmseg - INFO - Iter [850/160000]\tlr: 8.600e-03, eta: 1 day, 7:17:02, time: 0.728, data_time: 0.005, memory: 2073, decode.loss_ce: 0.1388, decode.acc_seg: 92.9015, aux_0.loss_ce: 0.1366, aux_0.acc_seg: 92.9270, aux_1.loss_ce: 0.1364, aux_1.acc_seg: 92.9270, aux_2.loss_ce: 0.0404, aux_2.loss_dice: 0.4026, aux_2.acc_seg: 99.2255, loss: 0.8547\n",
      "2022-03-28 16:14:20,036 - mmseg - INFO - Iter [900/160000]\tlr: 9.045e-03, eta: 1 day, 7:19:15, time: 0.727, data_time: 0.005, memory: 2073, decode.loss_ce: 0.1555, decode.acc_seg: 91.8150, aux_0.loss_ce: 0.1548, aux_0.acc_seg: 91.7926, aux_1.loss_ce: 0.1501, aux_1.acc_seg: 91.8158, aux_2.loss_ce: 0.0454, aux_2.loss_dice: 0.4246, aux_2.acc_seg: 99.0945, loss: 0.9304\n",
      "2022-03-28 16:14:56,344 - mmseg - INFO - Iter [950/160000]\tlr: 9.491e-03, eta: 1 day, 7:21:07, time: 0.726, data_time: 0.005, memory: 2073, decode.loss_ce: 0.1347, decode.acc_seg: 92.5571, aux_0.loss_ce: 0.1378, aux_0.acc_seg: 92.5570, aux_1.loss_ce: 0.1354, aux_1.acc_seg: 92.5571, aux_2.loss_ce: 0.0411, aux_2.loss_dice: 0.4099, aux_2.acc_seg: 99.1668, loss: 0.8588\n",
      "2022-03-28 16:15:32,667 - mmseg - INFO - Iter [1000/160000]\tlr: 9.935e-03, eta: 1 day, 7:22:39, time: 0.726, data_time: 0.005, memory: 2073, decode.loss_ce: 0.1853, decode.acc_seg: 90.2550, aux_0.loss_ce: 0.1785, aux_0.acc_seg: 90.2294, aux_1.loss_ce: 0.1792, aux_1.acc_seg: 90.2567, aux_2.loss_ce: 0.0444, aux_2.loss_dice: 0.4314, aux_2.acc_seg: 99.1013, loss: 1.0187\n",
      "2022-03-28 16:16:09,027 - mmseg - INFO - Iter [1050/160000]\tlr: 9.942e-03, eta: 1 day, 7:24:10, time: 0.727, data_time: 0.006, memory: 2073, decode.loss_ce: 0.1576, decode.acc_seg: 91.6053, aux_0.loss_ce: 0.1598, aux_0.acc_seg: 91.5569, aux_1.loss_ce: 0.1585, aux_1.acc_seg: 91.6053, aux_2.loss_ce: 0.0451, aux_2.loss_dice: 0.4164, aux_2.acc_seg: 99.1467, loss: 0.9373\n",
      "2022-03-28 16:16:45,374 - mmseg - INFO - Iter [1100/160000]\tlr: 9.939e-03, eta: 1 day, 7:25:28, time: 0.727, data_time: 0.006, memory: 2073, decode.loss_ce: 0.1526, decode.acc_seg: 91.8701, aux_0.loss_ce: 0.1526, aux_0.acc_seg: 91.8453, aux_1.loss_ce: 0.1524, aux_1.acc_seg: 91.8701, aux_2.loss_ce: 0.0420, aux_2.loss_dice: 0.4305, aux_2.acc_seg: 99.1836, loss: 0.9301\n",
      "2022-03-28 16:17:21,692 - mmseg - INFO - Iter [1150/160000]\tlr: 9.936e-03, eta: 1 day, 7:26:34, time: 0.727, data_time: 0.006, memory: 2073, decode.loss_ce: 0.1441, decode.acc_seg: 92.3637, aux_0.loss_ce: 0.1424, aux_0.acc_seg: 92.3563, aux_1.loss_ce: 0.1421, aux_1.acc_seg: 92.3637, aux_2.loss_ce: 0.0397, aux_2.loss_dice: 0.4067, aux_2.acc_seg: 99.2275, loss: 0.8751\n",
      "2022-03-28 16:17:58,124 - mmseg - INFO - Iter [1200/160000]\tlr: 9.933e-03, eta: 1 day, 7:27:42, time: 0.728, data_time: 0.005, memory: 2073, decode.loss_ce: 0.1629, decode.acc_seg: 91.3793, aux_0.loss_ce: 0.1625, aux_0.acc_seg: 91.3793, aux_1.loss_ce: 0.1628, aux_1.acc_seg: 91.3793, aux_2.loss_ce: 0.0441, aux_2.loss_dice: 0.4119, aux_2.acc_seg: 99.1164, loss: 0.9440\n",
      "2022-03-28 16:18:34,363 - mmseg - INFO - Iter [1250/160000]\tlr: 9.930e-03, eta: 1 day, 7:28:25, time: 0.726, data_time: 0.006, memory: 2073, decode.loss_ce: 0.1512, decode.acc_seg: 91.6925, aux_0.loss_ce: 0.1550, aux_0.acc_seg: 91.6923, aux_1.loss_ce: 0.1524, aux_1.acc_seg: 91.6925, aux_2.loss_ce: 0.0429, aux_2.loss_dice: 0.4081, aux_2.acc_seg: 99.1783, loss: 0.9097\n",
      "2022-03-28 16:19:10,779 - mmseg - INFO - Iter [1300/160000]\tlr: 9.928e-03, eta: 1 day, 7:29:19, time: 0.728, data_time: 0.005, memory: 2073, decode.loss_ce: 0.1529, decode.acc_seg: 91.8605, aux_0.loss_ce: 0.1518, aux_0.acc_seg: 91.8579, aux_1.loss_ce: 0.1505, aux_1.acc_seg: 91.8605, aux_2.loss_ce: 0.0435, aux_2.loss_dice: 0.4116, aux_2.acc_seg: 99.1365, loss: 0.9103\n",
      "2022-03-28 16:19:44,949 - mmseg - INFO - Iter [1350/160000]\tlr: 9.925e-03, eta: 1 day, 7:25:43, time: 0.684, data_time: 0.005, memory: 2073, decode.loss_ce: 0.1383, decode.acc_seg: 92.6810, aux_0.loss_ce: 0.1427, aux_0.acc_seg: 92.6780, aux_1.loss_ce: 0.1416, aux_1.acc_seg: 92.6810, aux_2.loss_ce: 0.0392, aux_2.loss_dice: 0.4023, aux_2.acc_seg: 99.2225, loss: 0.8640\n",
      "2022-03-28 16:20:23,712 - mmseg - INFO - Iter [1400/160000]\tlr: 9.922e-03, eta: 1 day, 7:30:56, time: 0.775, data_time: 0.058, memory: 2073, decode.loss_ce: 0.1796, decode.acc_seg: 90.5222, aux_0.loss_ce: 0.1793, aux_0.acc_seg: 90.5208, aux_1.loss_ce: 0.1808, aux_1.acc_seg: 90.5222, aux_2.loss_ce: 0.0426, aux_2.loss_dice: 0.4076, aux_2.acc_seg: 99.1488, loss: 0.9898\n",
      "2022-03-28 16:21:00,096 - mmseg - INFO - Iter [1450/160000]\tlr: 9.919e-03, eta: 1 day, 7:31:29, time: 0.728, data_time: 0.005, memory: 2073, decode.loss_ce: 0.1315, decode.acc_seg: 92.8522, aux_0.loss_ce: 0.1330, aux_0.acc_seg: 92.8522, aux_1.loss_ce: 0.1349, aux_1.acc_seg: 92.8522, aux_2.loss_ce: 0.0393, aux_2.loss_dice: 0.3914, aux_2.acc_seg: 99.2331, loss: 0.8301\n",
      "2022-03-28 16:21:36,466 - mmseg - INFO - Iter [1500/160000]\tlr: 9.916e-03, eta: 1 day, 7:31:54, time: 0.727, data_time: 0.005, memory: 2073, decode.loss_ce: 0.1552, decode.acc_seg: 91.6852, aux_0.loss_ce: 0.1547, aux_0.acc_seg: 91.6852, aux_1.loss_ce: 0.1507, aux_1.acc_seg: 91.6852, aux_2.loss_ce: 0.0408, aux_2.loss_dice: 0.4206, aux_2.acc_seg: 99.1746, loss: 0.9220\n",
      "2022-03-28 16:22:12,871 - mmseg - INFO - Iter [1550/160000]\tlr: 9.914e-03, eta: 1 day, 7:32:18, time: 0.728, data_time: 0.005, memory: 2073, decode.loss_ce: 0.1302, decode.acc_seg: 93.0070, aux_0.loss_ce: 0.1291, aux_0.acc_seg: 93.0070, aux_1.loss_ce: 0.1305, aux_1.acc_seg: 93.0070, aux_2.loss_ce: 0.0396, aux_2.loss_dice: 0.4077, aux_2.acc_seg: 99.2251, loss: 0.8371\n",
      "2022-03-28 16:22:49,260 - mmseg - INFO - Iter [1600/160000]\tlr: 9.911e-03, eta: 1 day, 7:32:37, time: 0.728, data_time: 0.005, memory: 2073, decode.loss_ce: 0.1487, decode.acc_seg: 91.9178, aux_0.loss_ce: 0.1493, aux_0.acc_seg: 91.9178, aux_1.loss_ce: 0.1519, aux_1.acc_seg: 91.9178, aux_2.loss_ce: 0.0419, aux_2.loss_dice: 0.4097, aux_2.acc_seg: 99.1693, loss: 0.9014\n",
      "2022-03-28 16:23:25,699 - mmseg - INFO - Iter [1650/160000]\tlr: 9.908e-03, eta: 1 day, 7:33:00, time: 0.729, data_time: 0.005, memory: 2073, decode.loss_ce: 0.1489, decode.acc_seg: 91.9865, aux_0.loss_ce: 0.1470, aux_0.acc_seg: 91.9865, aux_1.loss_ce: 0.1468, aux_1.acc_seg: 91.9865, aux_2.loss_ce: 0.0412, aux_2.loss_dice: 0.4075, aux_2.acc_seg: 99.1664, loss: 0.8914\n",
      "2022-03-28 16:24:02,046 - mmseg - INFO - Iter [1700/160000]\tlr: 9.905e-03, eta: 1 day, 7:33:06, time: 0.726, data_time: 0.005, memory: 2073, decode.loss_ce: 0.1791, decode.acc_seg: 90.5898, aux_0.loss_ce: 0.1790, aux_0.acc_seg: 90.5898, aux_1.loss_ce: 0.1774, aux_1.acc_seg: 90.5898, aux_2.loss_ce: 0.0442, aux_2.loss_dice: 0.4068, aux_2.acc_seg: 99.1022, loss: 0.9865\n",
      "2022-03-28 16:24:38,389 - mmseg - INFO - Iter [1750/160000]\tlr: 9.903e-03, eta: 1 day, 7:33:13, time: 0.727, data_time: 0.006, memory: 2073, decode.loss_ce: 0.1392, decode.acc_seg: 92.7590, aux_0.loss_ce: 0.1357, aux_0.acc_seg: 92.7590, aux_1.loss_ce: 0.1366, aux_1.acc_seg: 92.7590, aux_2.loss_ce: 0.0403, aux_2.loss_dice: 0.4151, aux_2.acc_seg: 99.1915, loss: 0.8669\n",
      "2022-03-28 16:25:14,695 - mmseg - INFO - Iter [1800/160000]\tlr: 9.900e-03, eta: 1 day, 7:33:13, time: 0.726, data_time: 0.006, memory: 2073, decode.loss_ce: 0.1428, decode.acc_seg: 92.0904, aux_0.loss_ce: 0.1407, aux_0.acc_seg: 92.0904, aux_1.loss_ce: 0.1408, aux_1.acc_seg: 92.0904, aux_2.loss_ce: 0.0416, aux_2.loss_dice: 0.4202, aux_2.acc_seg: 99.1783, loss: 0.8862\n",
      "2022-03-28 16:25:50,968 - mmseg - INFO - Iter [1850/160000]\tlr: 9.897e-03, eta: 1 day, 7:33:11, time: 0.726, data_time: 0.006, memory: 2073, decode.loss_ce: 0.1664, decode.acc_seg: 91.2084, aux_0.loss_ce: 0.1642, aux_0.acc_seg: 91.2084, aux_1.loss_ce: 0.1711, aux_1.acc_seg: 91.2084, aux_2.loss_ce: 0.0436, aux_2.loss_dice: 0.4110, aux_2.acc_seg: 99.1150, loss: 0.9563\n",
      "2022-03-28 16:26:27,335 - mmseg - INFO - Iter [1900/160000]\tlr: 9.894e-03, eta: 1 day, 7:33:14, time: 0.727, data_time: 0.005, memory: 2073, decode.loss_ce: 0.1453, decode.acc_seg: 91.8625, aux_0.loss_ce: 0.1545, aux_0.acc_seg: 91.8625, aux_1.loss_ce: 0.1475, aux_1.acc_seg: 91.8625, aux_2.loss_ce: 0.0440, aux_2.loss_dice: 0.3993, aux_2.acc_seg: 99.1299, loss: 0.8905\n",
      "2022-03-28 16:27:03,678 - mmseg - INFO - Iter [1950/160000]\tlr: 9.891e-03, eta: 1 day, 7:33:12, time: 0.727, data_time: 0.005, memory: 2073, decode.loss_ce: 0.1519, decode.acc_seg: 91.7090, aux_0.loss_ce: 0.1499, aux_0.acc_seg: 91.7090, aux_1.loss_ce: 0.1533, aux_1.acc_seg: 91.7090, aux_2.loss_ce: 0.0408, aux_2.loss_dice: 0.3809, aux_2.acc_seg: 99.2438, loss: 0.8768\n"
     ]
    },
    {
     "name": "stderr",
     "output_type": "stream",
     "text": [
      "2022-03-28 16:27:37,324 - mmseg - INFO - Iter [2000/160000]\tlr: 9.889e-03, eta: 1 day, 7:29:34, time: 0.673, data_time: 0.005, memory: 2073, decode.loss_ce: 0.1564, decode.acc_seg: 91.4471, aux_0.loss_ce: 0.1558, aux_0.acc_seg: 91.4471, aux_1.loss_ce: 0.1551, aux_1.acc_seg: 91.4471, aux_2.loss_ce: 0.0439, aux_2.loss_dice: 0.4016, aux_2.acc_seg: 99.1915, loss: 0.9128\n",
      "2022-03-28 16:28:13,739 - mmseg - INFO - Iter [2050/160000]\tlr: 9.886e-03, eta: 1 day, 7:29:40, time: 0.728, data_time: 0.005, memory: 2073, decode.loss_ce: 0.1451, decode.acc_seg: 92.1969, aux_0.loss_ce: 0.1527, aux_0.acc_seg: 92.1969, aux_1.loss_ce: 0.1474, aux_1.acc_seg: 92.1969, aux_2.loss_ce: 0.0407, aux_2.loss_dice: 0.3823, aux_2.acc_seg: 99.2562, loss: 0.8682\n",
      "2022-03-28 16:28:52,676 - mmseg - INFO - Iter [2100/160000]\tlr: 9.883e-03, eta: 1 day, 7:32:53, time: 0.779, data_time: 0.059, memory: 2073, decode.loss_ce: 0.1623, decode.acc_seg: 91.3079, aux_0.loss_ce: 0.1582, aux_0.acc_seg: 91.3079, aux_1.loss_ce: 0.1584, aux_1.acc_seg: 91.3079, aux_2.loss_ce: 0.0437, aux_2.loss_dice: 0.3885, aux_2.acc_seg: 99.1934, loss: 0.9111\n",
      "2022-03-28 16:29:29,078 - mmseg - INFO - Iter [2150/160000]\tlr: 9.880e-03, eta: 1 day, 7:32:50, time: 0.728, data_time: 0.005, memory: 2073, decode.loss_ce: 0.1479, decode.acc_seg: 92.1961, aux_0.loss_ce: 0.1441, aux_0.acc_seg: 92.1961, aux_1.loss_ce: 0.1520, aux_1.acc_seg: 92.1961, aux_2.loss_ce: 0.0410, aux_2.loss_dice: 0.3850, aux_2.acc_seg: 99.2555, loss: 0.8699\n",
      "2022-03-28 16:30:05,442 - mmseg - INFO - Iter [2200/160000]\tlr: 9.877e-03, eta: 1 day, 7:32:42, time: 0.727, data_time: 0.005, memory: 2073, decode.loss_ce: 0.1385, decode.acc_seg: 92.6273, aux_0.loss_ce: 0.1379, aux_0.acc_seg: 92.6273, aux_1.loss_ce: 0.1354, aux_1.acc_seg: 92.6273, aux_2.loss_ce: 0.0411, aux_2.loss_dice: 0.3813, aux_2.acc_seg: 99.2604, loss: 0.8342\n",
      "2022-03-28 16:30:41,775 - mmseg - INFO - Iter [2250/160000]\tlr: 9.875e-03, eta: 1 day, 7:32:30, time: 0.727, data_time: 0.005, memory: 2073, decode.loss_ce: 0.1483, decode.acc_seg: 91.6336, aux_0.loss_ce: 0.1480, aux_0.acc_seg: 91.6336, aux_1.loss_ce: 0.1462, aux_1.acc_seg: 91.6336, aux_2.loss_ce: 0.0412, aux_2.loss_dice: 0.3859, aux_2.acc_seg: 99.2342, loss: 0.8695\n",
      "2022-03-28 16:31:18,154 - mmseg - INFO - Iter [2300/160000]\tlr: 9.872e-03, eta: 1 day, 7:32:20, time: 0.727, data_time: 0.005, memory: 2073, decode.loss_ce: 0.1404, decode.acc_seg: 92.5830, aux_0.loss_ce: 0.1464, aux_0.acc_seg: 92.5830, aux_1.loss_ce: 0.1466, aux_1.acc_seg: 92.5830, aux_2.loss_ce: 0.0398, aux_2.loss_dice: 0.3897, aux_2.acc_seg: 99.2782, loss: 0.8627\n",
      "2022-03-28 16:31:54,556 - mmseg - INFO - Iter [2350/160000]\tlr: 9.869e-03, eta: 1 day, 7:32:11, time: 0.728, data_time: 0.005, memory: 2073, decode.loss_ce: 0.1603, decode.acc_seg: 91.1507, aux_0.loss_ce: 0.1574, aux_0.acc_seg: 91.1507, aux_1.loss_ce: 0.1582, aux_1.acc_seg: 91.1507, aux_2.loss_ce: 0.0490, aux_2.loss_dice: 0.4139, aux_2.acc_seg: 99.1161, loss: 0.9389\n",
      "2022-03-28 16:32:30,943 - mmseg - INFO - Iter [2400/160000]\tlr: 9.866e-03, eta: 1 day, 7:32:01, time: 0.728, data_time: 0.005, memory: 2073, decode.loss_ce: 0.1660, decode.acc_seg: 91.2262, aux_0.loss_ce: 0.1703, aux_0.acc_seg: 91.2262, aux_1.loss_ce: 0.1697, aux_1.acc_seg: 91.2262, aux_2.loss_ce: 0.0469, aux_2.loss_dice: 0.4195, aux_2.acc_seg: 99.1291, loss: 0.9725\n",
      "2022-03-28 16:33:07,285 - mmseg - INFO - Iter [2450/160000]\tlr: 9.864e-03, eta: 1 day, 7:31:45, time: 0.727, data_time: 0.005, memory: 2073, decode.loss_ce: 0.1535, decode.acc_seg: 91.5669, aux_0.loss_ce: 0.1519, aux_0.acc_seg: 91.5669, aux_1.loss_ce: 0.1553, aux_1.acc_seg: 91.5669, aux_2.loss_ce: 0.0441, aux_2.loss_dice: 0.4195, aux_2.acc_seg: 99.1423, loss: 0.9244\n",
      "2022-03-28 16:33:43,654 - mmseg - INFO - Iter [2500/160000]\tlr: 9.861e-03, eta: 1 day, 7:31:31, time: 0.727, data_time: 0.005, memory: 2073, decode.loss_ce: 0.1533, decode.acc_seg: 91.9839, aux_0.loss_ce: 0.1526, aux_0.acc_seg: 91.9839, aux_1.loss_ce: 0.1511, aux_1.acc_seg: 91.9839, aux_2.loss_ce: 0.0404, aux_2.loss_dice: 0.3752, aux_2.acc_seg: 99.2191, loss: 0.8726\n",
      "2022-03-28 16:34:20,046 - mmseg - INFO - Iter [2550/160000]\tlr: 9.858e-03, eta: 1 day, 7:31:18, time: 0.728, data_time: 0.005, memory: 2073, decode.loss_ce: 0.1620, decode.acc_seg: 90.8967, aux_0.loss_ce: 0.1615, aux_0.acc_seg: 90.8967, aux_1.loss_ce: 0.1645, aux_1.acc_seg: 90.8967, aux_2.loss_ce: 0.0421, aux_2.loss_dice: 0.3781, aux_2.acc_seg: 99.1989, loss: 0.9082\n",
      "2022-03-28 16:34:56,428 - mmseg - INFO - Iter [2600/160000]\tlr: 9.855e-03, eta: 1 day, 7:31:02, time: 0.727, data_time: 0.005, memory: 2073, decode.loss_ce: 0.1608, decode.acc_seg: 91.3794, aux_0.loss_ce: 0.1681, aux_0.acc_seg: 91.3794, aux_1.loss_ce: 0.1638, aux_1.acc_seg: 91.3794, aux_2.loss_ce: 0.0419, aux_2.loss_dice: 0.3740, aux_2.acc_seg: 99.2136, loss: 0.9085\n",
      "2022-03-28 16:35:30,144 - mmseg - INFO - Iter [2650/160000]\tlr: 9.852e-03, eta: 1 day, 7:28:08, time: 0.674, data_time: 0.005, memory: 2073, decode.loss_ce: 0.1803, decode.acc_seg: 90.1656, aux_0.loss_ce: 0.1757, aux_0.acc_seg: 90.1656, aux_1.loss_ce: 0.1785, aux_1.acc_seg: 90.1656, aux_2.loss_ce: 0.0439, aux_2.loss_dice: 0.3805, aux_2.acc_seg: 99.1771, loss: 0.9589\n",
      "2022-03-28 16:36:06,490 - mmseg - INFO - Iter [2700/160000]\tlr: 9.850e-03, eta: 1 day, 7:27:52, time: 0.727, data_time: 0.005, memory: 2073, decode.loss_ce: 0.1354, decode.acc_seg: 92.6928, aux_0.loss_ce: 0.1384, aux_0.acc_seg: 92.6928, aux_1.loss_ce: 0.1341, aux_1.acc_seg: 92.6928, aux_2.loss_ce: 0.0397, aux_2.loss_dice: 0.3822, aux_2.acc_seg: 99.2693, loss: 0.8299\n",
      "2022-03-28 16:36:42,861 - mmseg - INFO - Iter [2750/160000]\tlr: 9.847e-03, eta: 1 day, 7:27:37, time: 0.727, data_time: 0.005, memory: 2073, decode.loss_ce: 0.1488, decode.acc_seg: 92.3525, aux_0.loss_ce: 0.1434, aux_0.acc_seg: 92.3525, aux_1.loss_ce: 0.1443, aux_1.acc_seg: 92.3525, aux_2.loss_ce: 0.0417, aux_2.loss_dice: 0.3932, aux_2.acc_seg: 99.2183, loss: 0.8713\n",
      "2022-03-28 16:37:21,811 - mmseg - INFO - Iter [2800/160000]\tlr: 9.844e-03, eta: 1 day, 7:29:46, time: 0.779, data_time: 0.058, memory: 2073, decode.loss_ce: 0.1490, decode.acc_seg: 91.8444, aux_0.loss_ce: 0.1505, aux_0.acc_seg: 91.8444, aux_1.loss_ce: 0.1523, aux_1.acc_seg: 91.8444, aux_2.loss_ce: 0.0393, aux_2.loss_dice: 0.3744, aux_2.acc_seg: 99.2762, loss: 0.8654\n",
      "2022-03-28 16:37:58,230 - mmseg - INFO - Iter [2850/160000]\tlr: 9.841e-03, eta: 1 day, 7:29:30, time: 0.729, data_time: 0.005, memory: 2073, decode.loss_ce: 0.1525, decode.acc_seg: 91.8212, aux_0.loss_ce: 0.1564, aux_0.acc_seg: 91.8212, aux_1.loss_ce: 0.1589, aux_1.acc_seg: 91.8212, aux_2.loss_ce: 0.0396, aux_2.loss_dice: 0.3573, aux_2.acc_seg: 99.2930, loss: 0.8647\n",
      "2022-03-28 16:38:34,552 - mmseg - INFO - Iter [2900/160000]\tlr: 9.838e-03, eta: 1 day, 7:29:07, time: 0.726, data_time: 0.005, memory: 2073, decode.loss_ce: 0.1532, decode.acc_seg: 91.6475, aux_0.loss_ce: 0.1510, aux_0.acc_seg: 91.6475, aux_1.loss_ce: 0.1478, aux_1.acc_seg: 91.6475, aux_2.loss_ce: 0.0431, aux_2.loss_dice: 0.3677, aux_2.acc_seg: 99.2077, loss: 0.8628\n",
      "2022-03-28 16:39:10,876 - mmseg - INFO - Iter [2950/160000]\tlr: 9.836e-03, eta: 1 day, 7:28:44, time: 0.727, data_time: 0.005, memory: 2073, decode.loss_ce: 0.1651, decode.acc_seg: 91.4906, aux_0.loss_ce: 0.1617, aux_0.acc_seg: 91.4906, aux_1.loss_ce: 0.1593, aux_1.acc_seg: 91.4906, aux_2.loss_ce: 0.0411, aux_2.loss_dice: 0.3841, aux_2.acc_seg: 99.2424, loss: 0.9113\n",
      "2022-03-28 16:39:47,234 - mmseg - INFO - Iter [3000/160000]\tlr: 9.833e-03, eta: 1 day, 7:28:23, time: 0.727, data_time: 0.005, memory: 2073, decode.loss_ce: 0.1431, decode.acc_seg: 92.1862, aux_0.loss_ce: 0.1418, aux_0.acc_seg: 92.1862, aux_1.loss_ce: 0.1448, aux_1.acc_seg: 92.1862, aux_2.loss_ce: 0.0395, aux_2.loss_dice: 0.3522, aux_2.acc_seg: 99.2815, loss: 0.8214\n",
      "2022-03-28 16:40:23,573 - mmseg - INFO - Iter [3050/160000]\tlr: 9.830e-03, eta: 1 day, 7:27:58, time: 0.726, data_time: 0.005, memory: 2073, decode.loss_ce: 0.1610, decode.acc_seg: 91.3429, aux_0.loss_ce: 0.1614, aux_0.acc_seg: 91.3429, aux_1.loss_ce: 0.1622, aux_1.acc_seg: 91.3429, aux_2.loss_ce: 0.0420, aux_2.loss_dice: 0.3550, aux_2.acc_seg: 99.2267, loss: 0.8816\n",
      "2022-03-28 16:40:59,945 - mmseg - INFO - Iter [3100/160000]\tlr: 9.827e-03, eta: 1 day, 7:27:37, time: 0.728, data_time: 0.006, memory: 2073, decode.loss_ce: 0.1666, decode.acc_seg: 91.1451, aux_0.loss_ce: 0.1656, aux_0.acc_seg: 91.1451, aux_1.loss_ce: 0.1661, aux_1.acc_seg: 91.1451, aux_2.loss_ce: 0.0428, aux_2.loss_dice: 0.3729, aux_2.acc_seg: 99.2005, loss: 0.9139\n"
     ]
    },
    {
     "name": "stderr",
     "output_type": "stream",
     "text": [
      "2022-03-28 16:41:36,274 - mmseg - INFO - Iter [3150/160000]\tlr: 9.824e-03, eta: 1 day, 7:27:12, time: 0.726, data_time: 0.006, memory: 2073, decode.loss_ce: 0.1315, decode.acc_seg: 93.0293, aux_0.loss_ce: 0.1331, aux_0.acc_seg: 93.0293, aux_1.loss_ce: 0.1260, aux_1.acc_seg: 93.0293, aux_2.loss_ce: 0.0414, aux_2.loss_dice: 0.3793, aux_2.acc_seg: 99.2400, loss: 0.8113\n",
      "2022-03-28 16:42:12,635 - mmseg - INFO - Iter [3200/160000]\tlr: 9.822e-03, eta: 1 day, 7:26:50, time: 0.728, data_time: 0.006, memory: 2073, decode.loss_ce: 0.1561, decode.acc_seg: 91.7844, aux_0.loss_ce: 0.1512, aux_0.acc_seg: 91.7844, aux_1.loss_ce: 0.1651, aux_1.acc_seg: 91.7844, aux_2.loss_ce: 0.0403, aux_2.loss_dice: 0.3655, aux_2.acc_seg: 99.2565, loss: 0.8782\n",
      "2022-03-28 16:42:48,976 - mmseg - INFO - Iter [3250/160000]\tlr: 9.819e-03, eta: 1 day, 7:26:26, time: 0.727, data_time: 0.006, memory: 2073, decode.loss_ce: 0.1274, decode.acc_seg: 92.9961, aux_0.loss_ce: 0.1330, aux_0.acc_seg: 92.9961, aux_1.loss_ce: 0.1301, aux_1.acc_seg: 92.9961, aux_2.loss_ce: 0.0395, aux_2.loss_dice: 0.3569, aux_2.acc_seg: 99.2484, loss: 0.7869\n",
      "2022-03-28 16:43:22,814 - mmseg - INFO - Iter [3300/160000]\tlr: 9.816e-03, eta: 1 day, 7:24:02, time: 0.677, data_time: 0.006, memory: 2073, decode.loss_ce: 0.1527, decode.acc_seg: 91.8187, aux_0.loss_ce: 0.1529, aux_0.acc_seg: 91.8187, aux_1.loss_ce: 0.1495, aux_1.acc_seg: 91.8187, aux_2.loss_ce: 0.0409, aux_2.loss_dice: 0.3450, aux_2.acc_seg: 99.2179, loss: 0.8410\n",
      "2022-03-28 16:43:59,183 - mmseg - INFO - Iter [3350/160000]\tlr: 9.813e-03, eta: 1 day, 7:23:40, time: 0.727, data_time: 0.005, memory: 2073, decode.loss_ce: 0.1528, decode.acc_seg: 91.2322, aux_0.loss_ce: 0.1534, aux_0.acc_seg: 91.2322, aux_1.loss_ce: 0.1612, aux_1.acc_seg: 91.2322, aux_2.loss_ce: 0.0422, aux_2.loss_dice: 0.3515, aux_2.acc_seg: 99.2249, loss: 0.8611\n",
      "2022-03-28 16:44:35,503 - mmseg - INFO - Iter [3400/160000]\tlr: 9.811e-03, eta: 1 day, 7:23:14, time: 0.726, data_time: 0.005, memory: 2073, decode.loss_ce: 0.1421, decode.acc_seg: 92.6151, aux_0.loss_ce: 0.1437, aux_0.acc_seg: 92.6151, aux_1.loss_ce: 0.1319, aux_1.acc_seg: 92.6151, aux_2.loss_ce: 0.0374, aux_2.loss_dice: 0.3605, aux_2.acc_seg: 99.2953, loss: 0.8156\n",
      "2022-03-28 16:45:11,916 - mmseg - INFO - Iter [3450/160000]\tlr: 9.808e-03, eta: 1 day, 7:22:53, time: 0.728, data_time: 0.006, memory: 2073, decode.loss_ce: 0.1587, decode.acc_seg: 91.5495, aux_0.loss_ce: 0.1560, aux_0.acc_seg: 91.5495, aux_1.loss_ce: 0.1639, aux_1.acc_seg: 91.5495, aux_2.loss_ce: 0.0412, aux_2.loss_dice: 0.3527, aux_2.acc_seg: 99.2076, loss: 0.8724\n",
      "2022-03-28 16:45:50,881 - mmseg - INFO - Iter [3500/160000]\tlr: 9.805e-03, eta: 1 day, 7:24:28, time: 0.780, data_time: 0.059, memory: 2073, decode.loss_ce: 0.1535, decode.acc_seg: 91.6023, aux_0.loss_ce: 0.1566, aux_0.acc_seg: 91.6023, aux_1.loss_ce: 0.1585, aux_1.acc_seg: 91.6023, aux_2.loss_ce: 0.0381, aux_2.loss_dice: 0.3356, aux_2.acc_seg: 99.2716, loss: 0.8423\n",
      "2022-03-28 16:46:27,220 - mmseg - INFO - Iter [3550/160000]\tlr: 9.802e-03, eta: 1 day, 7:24:01, time: 0.727, data_time: 0.005, memory: 2073, decode.loss_ce: 0.1590, decode.acc_seg: 91.4782, aux_0.loss_ce: 0.1595, aux_0.acc_seg: 91.4782, aux_1.loss_ce: 0.1574, aux_1.acc_seg: 91.4782, aux_2.loss_ce: 0.0410, aux_2.loss_dice: 0.3637, aux_2.acc_seg: 99.2274, loss: 0.8806\n",
      "2022-03-28 16:47:03,545 - mmseg - INFO - Iter [3600/160000]\tlr: 9.799e-03, eta: 1 day, 7:23:33, time: 0.726, data_time: 0.005, memory: 2073, decode.loss_ce: 0.1459, decode.acc_seg: 92.1494, aux_0.loss_ce: 0.1421, aux_0.acc_seg: 92.1494, aux_1.loss_ce: 0.1428, aux_1.acc_seg: 92.1494, aux_2.loss_ce: 0.0389, aux_2.loss_dice: 0.3433, aux_2.acc_seg: 99.2620, loss: 0.8129\n",
      "2022-03-28 16:47:39,914 - mmseg - INFO - Iter [3650/160000]\tlr: 9.797e-03, eta: 1 day, 7:23:07, time: 0.727, data_time: 0.005, memory: 2073, decode.loss_ce: 0.1793, decode.acc_seg: 90.2715, aux_0.loss_ce: 0.1762, aux_0.acc_seg: 90.2715, aux_1.loss_ce: 0.1837, aux_1.acc_seg: 90.2715, aux_2.loss_ce: 0.0447, aux_2.loss_dice: 0.3660, aux_2.acc_seg: 99.1296, loss: 0.9500\n",
      "2022-03-28 16:48:16,301 - mmseg - INFO - Iter [3700/160000]\tlr: 9.794e-03, eta: 1 day, 7:22:41, time: 0.728, data_time: 0.006, memory: 2073, decode.loss_ce: 0.1449, decode.acc_seg: 92.1389, aux_0.loss_ce: 0.1462, aux_0.acc_seg: 92.1389, aux_1.loss_ce: 0.1415, aux_1.acc_seg: 92.1389, aux_2.loss_ce: 0.0393, aux_2.loss_dice: 0.3482, aux_2.acc_seg: 99.2575, loss: 0.8200\n",
      "2022-03-28 16:48:52,657 - mmseg - INFO - Iter [3750/160000]\tlr: 9.791e-03, eta: 1 day, 7:22:14, time: 0.727, data_time: 0.006, memory: 2073, decode.loss_ce: 0.1355, decode.acc_seg: 92.5215, aux_0.loss_ce: 0.1362, aux_0.acc_seg: 92.5215, aux_1.loss_ce: 0.1367, aux_1.acc_seg: 92.5215, aux_2.loss_ce: 0.0373, aux_2.loss_dice: 0.3471, aux_2.acc_seg: 99.3045, loss: 0.7928\n",
      "2022-03-28 16:49:28,969 - mmseg - INFO - Iter [3800/160000]\tlr: 9.788e-03, eta: 1 day, 7:21:44, time: 0.726, data_time: 0.006, memory: 2073, decode.loss_ce: 0.1507, decode.acc_seg: 92.0301, aux_0.loss_ce: 0.1516, aux_0.acc_seg: 92.0301, aux_1.loss_ce: 0.1502, aux_1.acc_seg: 92.0301, aux_2.loss_ce: 0.0377, aux_2.loss_dice: 0.3497, aux_2.acc_seg: 99.2772, loss: 0.8398\n",
      "2022-03-28 16:50:05,331 - mmseg - INFO - Iter [3850/160000]\tlr: 9.785e-03, eta: 1 day, 7:21:17, time: 0.727, data_time: 0.006, memory: 2073, decode.loss_ce: 0.1457, decode.acc_seg: 92.2520, aux_0.loss_ce: 0.1439, aux_0.acc_seg: 92.2520, aux_1.loss_ce: 0.1447, aux_1.acc_seg: 92.2520, aux_2.loss_ce: 0.0377, aux_2.loss_dice: 0.3530, aux_2.acc_seg: 99.2892, loss: 0.8249\n",
      "2022-03-28 16:50:41,633 - mmseg - INFO - Iter [3900/160000]\tlr: 9.783e-03, eta: 1 day, 7:20:49, time: 0.727, data_time: 0.006, memory: 2073, decode.loss_ce: 0.1401, decode.acc_seg: 92.2109, aux_0.loss_ce: 0.1417, aux_0.acc_seg: 92.2109, aux_1.loss_ce: 0.1429, aux_1.acc_seg: 92.2109, aux_2.loss_ce: 0.0385, aux_2.loss_dice: 0.3381, aux_2.acc_seg: 99.2742, loss: 0.8012\n",
      "2022-03-28 16:51:15,359 - mmseg - INFO - Iter [3950/160000]\tlr: 9.780e-03, eta: 1 day, 7:18:36, time: 0.674, data_time: 0.006, memory: 2073, decode.loss_ce: 0.1621, decode.acc_seg: 91.3538, aux_0.loss_ce: 0.1641, aux_0.acc_seg: 91.3538, aux_1.loss_ce: 0.1629, aux_1.acc_seg: 91.3538, aux_2.loss_ce: 0.0396, aux_2.loss_dice: 0.3605, aux_2.acc_seg: 99.2437, loss: 0.8891\n",
      "2022-03-28 16:51:51,713 - mmseg - INFO - Iter [4000/160000]\tlr: 9.777e-03, eta: 1 day, 7:18:10, time: 0.728, data_time: 0.006, memory: 2073, decode.loss_ce: 0.1405, decode.acc_seg: 92.4222, aux_0.loss_ce: 0.1415, aux_0.acc_seg: 92.4222, aux_1.loss_ce: 0.1406, aux_1.acc_seg: 92.4222, aux_2.loss_ce: 0.0375, aux_2.loss_dice: 0.3341, aux_2.acc_seg: 99.2806, loss: 0.7943\n",
      "2022-03-28 16:52:28,022 - mmseg - INFO - Iter [4050/160000]\tlr: 9.774e-03, eta: 1 day, 7:17:42, time: 0.726, data_time: 0.005, memory: 2073, decode.loss_ce: 0.1275, decode.acc_seg: 92.9575, aux_0.loss_ce: 0.1256, aux_0.acc_seg: 92.9575, aux_1.loss_ce: 0.1267, aux_1.acc_seg: 92.9575, aux_2.loss_ce: 0.0360, aux_2.loss_dice: 0.3272, aux_2.acc_seg: 99.3117, loss: 0.7431\n",
      "2022-03-28 16:53:04,419 - mmseg - INFO - Iter [4100/160000]\tlr: 9.771e-03, eta: 1 day, 7:17:16, time: 0.728, data_time: 0.005, memory: 2073, decode.loss_ce: 0.1531, decode.acc_seg: 91.5279, aux_0.loss_ce: 0.1558, aux_0.acc_seg: 91.5279, aux_1.loss_ce: 0.1581, aux_1.acc_seg: 91.5279, aux_2.loss_ce: 0.0394, aux_2.loss_dice: 0.3580, aux_2.acc_seg: 99.2683, loss: 0.8645\n",
      "2022-03-28 16:53:40,791 - mmseg - INFO - Iter [4150/160000]\tlr: 9.769e-03, eta: 1 day, 7:16:49, time: 0.727, data_time: 0.005, memory: 2073, decode.loss_ce: 0.1565, decode.acc_seg: 91.9268, aux_0.loss_ce: 0.1549, aux_0.acc_seg: 91.9268, aux_1.loss_ce: 0.1542, aux_1.acc_seg: 91.9268, aux_2.loss_ce: 0.0421, aux_2.loss_dice: 0.3789, aux_2.acc_seg: 99.2566, loss: 0.8867\n",
      "2022-03-28 16:54:19,741 - mmseg - INFO - Iter [4200/160000]\tlr: 9.766e-03, eta: 1 day, 7:17:57, time: 0.779, data_time: 0.057, memory: 2073, decode.loss_ce: 0.1480, decode.acc_seg: 91.7851, aux_0.loss_ce: 0.1468, aux_0.acc_seg: 91.7851, aux_1.loss_ce: 0.1483, aux_1.acc_seg: 91.7851, aux_2.loss_ce: 0.0440, aux_2.loss_dice: 0.3751, aux_2.acc_seg: 99.2263, loss: 0.8621\n",
      "2022-03-28 16:54:56,077 - mmseg - INFO - Iter [4250/160000]\tlr: 9.763e-03, eta: 1 day, 7:17:28, time: 0.727, data_time: 0.005, memory: 2073, decode.loss_ce: 0.1425, decode.acc_seg: 92.2021, aux_0.loss_ce: 0.1446, aux_0.acc_seg: 92.2021, aux_1.loss_ce: 0.1408, aux_1.acc_seg: 92.2021, aux_2.loss_ce: 0.0406, aux_2.loss_dice: 0.3580, aux_2.acc_seg: 99.2336, loss: 0.8265\n"
     ]
    },
    {
     "name": "stderr",
     "output_type": "stream",
     "text": [
      "2022-03-28 16:55:32,428 - mmseg - INFO - Iter [4300/160000]\tlr: 9.760e-03, eta: 1 day, 7:16:58, time: 0.727, data_time: 0.005, memory: 2073, decode.loss_ce: 0.1301, decode.acc_seg: 92.8504, aux_0.loss_ce: 0.1310, aux_0.acc_seg: 92.8504, aux_1.loss_ce: 0.1326, aux_1.acc_seg: 92.8504, aux_2.loss_ce: 0.0371, aux_2.loss_dice: 0.3583, aux_2.acc_seg: 99.2848, loss: 0.7891\n",
      "2022-03-28 16:56:08,826 - mmseg - INFO - Iter [4350/160000]\tlr: 9.757e-03, eta: 1 day, 7:16:30, time: 0.728, data_time: 0.005, memory: 2073, decode.loss_ce: 0.1269, decode.acc_seg: 93.2525, aux_0.loss_ce: 0.1262, aux_0.acc_seg: 93.2525, aux_1.loss_ce: 0.1306, aux_1.acc_seg: 93.2525, aux_2.loss_ce: 0.0364, aux_2.loss_dice: 0.3455, aux_2.acc_seg: 99.3036, loss: 0.7656\n",
      "2022-03-28 16:56:45,213 - mmseg - INFO - Iter [4400/160000]\tlr: 9.755e-03, eta: 1 day, 7:16:02, time: 0.728, data_time: 0.005, memory: 2073, decode.loss_ce: 0.1400, decode.acc_seg: 92.6310, aux_0.loss_ce: 0.1381, aux_0.acc_seg: 92.6310, aux_1.loss_ce: 0.1356, aux_1.acc_seg: 92.6310, aux_2.loss_ce: 0.0388, aux_2.loss_dice: 0.3507, aux_2.acc_seg: 99.2535, loss: 0.8033\n",
      "2022-03-28 16:57:21,578 - mmseg - INFO - Iter [4450/160000]\tlr: 9.752e-03, eta: 1 day, 7:15:33, time: 0.727, data_time: 0.005, memory: 2073, decode.loss_ce: 0.1731, decode.acc_seg: 90.2604, aux_0.loss_ce: 0.1766, aux_0.acc_seg: 90.2604, aux_1.loss_ce: 0.1730, aux_1.acc_seg: 90.2604, aux_2.loss_ce: 0.0431, aux_2.loss_dice: 0.3380, aux_2.acc_seg: 99.1655, loss: 0.9038\n",
      "2022-03-28 16:57:57,898 - mmseg - INFO - Iter [4500/160000]\tlr: 9.749e-03, eta: 1 day, 7:15:01, time: 0.726, data_time: 0.005, memory: 2073, decode.loss_ce: 0.1551, decode.acc_seg: 91.7471, aux_0.loss_ce: 0.1515, aux_0.acc_seg: 91.7471, aux_1.loss_ce: 0.1523, aux_1.acc_seg: 91.7471, aux_2.loss_ce: 0.0399, aux_2.loss_dice: 0.3359, aux_2.acc_seg: 99.2251, loss: 0.8347\n",
      "2022-03-28 16:58:34,220 - mmseg - INFO - Iter [4550/160000]\tlr: 9.746e-03, eta: 1 day, 7:14:29, time: 0.726, data_time: 0.006, memory: 2073, decode.loss_ce: 0.1318, decode.acc_seg: 92.6177, aux_0.loss_ce: 0.1368, aux_0.acc_seg: 92.6177, aux_1.loss_ce: 0.1394, aux_1.acc_seg: 92.6177, aux_2.loss_ce: 0.0376, aux_2.loss_dice: 0.3300, aux_2.acc_seg: 99.2779, loss: 0.7756\n",
      "2022-03-28 16:59:08,108 - mmseg - INFO - Iter [4600/160000]\tlr: 9.744e-03, eta: 1 day, 7:12:37, time: 0.679, data_time: 0.006, memory: 2073, decode.loss_ce: 0.1323, decode.acc_seg: 92.8968, aux_0.loss_ce: 0.1273, aux_0.acc_seg: 92.8968, aux_1.loss_ce: 0.1331, aux_1.acc_seg: 92.8968, aux_2.loss_ce: 0.0380, aux_2.loss_dice: 0.3397, aux_2.acc_seg: 99.2706, loss: 0.7705\n",
      "2022-03-28 16:59:44,483 - mmseg - INFO - Iter [4650/160000]\tlr: 9.741e-03, eta: 1 day, 7:12:08, time: 0.727, data_time: 0.005, memory: 2073, decode.loss_ce: 0.1563, decode.acc_seg: 91.6006, aux_0.loss_ce: 0.1580, aux_0.acc_seg: 91.6006, aux_1.loss_ce: 0.1536, aux_1.acc_seg: 91.6006, aux_2.loss_ce: 0.0392, aux_2.loss_dice: 0.3425, aux_2.acc_seg: 99.2574, loss: 0.8495\n",
      "2022-03-28 17:00:19,263 - mmseg - INFO - Iter [4700/160000]\tlr: 9.738e-03, eta: 1 day, 7:10:47, time: 0.696, data_time: 0.005, memory: 2073, decode.loss_ce: 0.1611, decode.acc_seg: 91.0401, aux_0.loss_ce: 0.1616, aux_0.acc_seg: 91.0401, aux_1.loss_ce: 0.1587, aux_1.acc_seg: 91.0401, aux_2.loss_ce: 0.0408, aux_2.loss_dice: 0.3569, aux_2.acc_seg: 99.2156, loss: 0.8792\n",
      "2022-03-28 17:00:49,448 - mmseg - INFO - Iter [4750/160000]\tlr: 9.735e-03, eta: 1 day, 7:06:56, time: 0.604, data_time: 0.005, memory: 2073, decode.loss_ce: 0.1517, decode.acc_seg: 91.6277, aux_0.loss_ce: 0.1526, aux_0.acc_seg: 91.6277, aux_1.loss_ce: 0.1552, aux_1.acc_seg: 91.6277, aux_2.loss_ce: 0.0413, aux_2.loss_dice: 0.3498, aux_2.acc_seg: 99.2148, loss: 0.8507\n",
      "2022-03-28 17:01:25,816 - mmseg - INFO - Iter [4800/160000]\tlr: 9.732e-03, eta: 1 day, 7:06:29, time: 0.727, data_time: 0.005, memory: 2073, decode.loss_ce: 0.1547, decode.acc_seg: 91.8845, aux_0.loss_ce: 0.1542, aux_0.acc_seg: 91.8845, aux_1.loss_ce: 0.1486, aux_1.acc_seg: 91.8845, aux_2.loss_ce: 0.0380, aux_2.loss_dice: 0.3635, aux_2.acc_seg: 99.2797, loss: 0.8589\n",
      "2022-03-28 17:02:02,109 - mmseg - INFO - Iter [4850/160000]\tlr: 9.730e-03, eta: 1 day, 7:05:59, time: 0.725, data_time: 0.005, memory: 2073, decode.loss_ce: 0.1628, decode.acc_seg: 91.2745, aux_0.loss_ce: 0.1604, aux_0.acc_seg: 91.2745, aux_1.loss_ce: 0.1660, aux_1.acc_seg: 91.2745, aux_2.loss_ce: 0.0402, aux_2.loss_dice: 0.3534, aux_2.acc_seg: 99.2412, loss: 0.8827\n",
      "2022-03-28 17:02:41,140 - mmseg - INFO - Iter [4900/160000]\tlr: 9.727e-03, eta: 1 day, 7:06:57, time: 0.781, data_time: 0.060, memory: 2073, decode.loss_ce: 0.1335, decode.acc_seg: 92.6603, aux_0.loss_ce: 0.1403, aux_0.acc_seg: 92.6603, aux_1.loss_ce: 0.1355, aux_1.acc_seg: 92.6603, aux_2.loss_ce: 0.0367, aux_2.loss_dice: 0.3365, aux_2.acc_seg: 99.2982, loss: 0.7825\n",
      "2022-03-28 17:03:17,527 - mmseg - INFO - Iter [4950/160000]\tlr: 9.724e-03, eta: 1 day, 7:06:30, time: 0.728, data_time: 0.005, memory: 2073, decode.loss_ce: 0.1661, decode.acc_seg: 91.0971, aux_0.loss_ce: 0.1608, aux_0.acc_seg: 91.0971, aux_1.loss_ce: 0.1606, aux_1.acc_seg: 91.0971, aux_2.loss_ce: 0.0398, aux_2.loss_dice: 0.3468, aux_2.acc_seg: 99.2454, loss: 0.8741\n",
      "2022-03-28 17:03:53,891 - mmseg - INFO - Iter [5000/160000]\tlr: 9.721e-03, eta: 1 day, 7:06:02, time: 0.727, data_time: 0.005, memory: 2073, decode.loss_ce: 0.1471, decode.acc_seg: 92.0994, aux_0.loss_ce: 0.1501, aux_0.acc_seg: 92.0994, aux_1.loss_ce: 0.1536, aux_1.acc_seg: 92.0994, aux_2.loss_ce: 0.0380, aux_2.loss_dice: 0.3476, aux_2.acc_seg: 99.2679, loss: 0.8364\n"
     ]
    },
    {
     "name": "stdout",
     "output_type": "stream",
     "text": [
      "[                                                  ] 0/610, elapsed: 0s, ETA:"
     ]
    },
    {
     "name": "stderr",
     "output_type": "stream",
     "text": [
      "/home/user/workspace/github/mmsegmentation/mmseg/ops/wrappers.py:23: UserWarning: When align_corners=True, the output would more aligned if input size (64, 86) is `x+1` and out size (512, 683) is `nx+1`\n",
      "  f'When align_corners={align_corners}, '\n"
     ]
    },
    {
     "name": "stdout",
     "output_type": "stream",
     "text": [
      "[                                ] 5/610, 13.7 task/s, elapsed: 0s, ETA:    44s"
     ]
    },
    {
     "name": "stderr",
     "output_type": "stream",
     "text": [
      "/home/user/workspace/github/mmsegmentation/mmseg/ops/wrappers.py:23: UserWarning: When align_corners=True, the output would more aligned if input size (64, 94) is `x+1` and out size (512, 749) is `nx+1`\n",
      "  f'When align_corners={align_corners}, '\n",
      "/home/user/workspace/github/mmsegmentation/mmseg/ops/wrappers.py:23: UserWarning: When align_corners=True, the output would more aligned if input size (64, 96) is `x+1` and out size (512, 768) is `nx+1`\n",
      "  f'When align_corners={align_corners}, '\n",
      "/home/user/workspace/github/mmsegmentation/mmseg/ops/wrappers.py:23: UserWarning: When align_corners=True, the output would more aligned if input size (64, 93) is `x+1` and out size (512, 742) is `nx+1`\n",
      "  f'When align_corners={align_corners}, '\n",
      "/home/user/workspace/github/mmsegmentation/mmseg/ops/wrappers.py:23: UserWarning: When align_corners=True, the output would more aligned if input size (64, 96) is `x+1` and out size (512, 765) is `nx+1`\n",
      "  f'When align_corners={align_corners}, '\n"
     ]
    },
    {
     "name": "stdout",
     "output_type": "stream",
     "text": [
      "[                                ] 8/610, 17.4 task/s, elapsed: 0s, ETA:    35s"
     ]
    },
    {
     "name": "stderr",
     "output_type": "stream",
     "text": [
      "/home/user/workspace/github/mmsegmentation/mmseg/ops/wrappers.py:23: UserWarning: When align_corners=True, the output would more aligned if input size (64, 91) is `x+1` and out size (512, 727) is `nx+1`\n",
      "  f'When align_corners={align_corners}, '\n",
      "/home/user/workspace/github/mmsegmentation/mmseg/ops/wrappers.py:23: UserWarning: When align_corners=True, the output would more aligned if input size (86, 64) is `x+1` and out size (683, 512) is `nx+1`\n",
      "  f'When align_corners={align_corners}, '\n"
     ]
    },
    {
     "name": "stdout",
     "output_type": "stream",
     "text": [
      "[                               ] 11/610, 19.6 task/s, elapsed: 1s, ETA:    31s"
     ]
    },
    {
     "name": "stderr",
     "output_type": "stream",
     "text": [
      "/home/user/workspace/github/mmsegmentation/mmseg/ops/wrappers.py:23: UserWarning: When align_corners=True, the output would more aligned if input size (64, 96) is `x+1` and out size (512, 764) is `nx+1`\n",
      "  f'When align_corners={align_corners}, '\n",
      "/home/user/workspace/github/mmsegmentation/mmseg/ops/wrappers.py:23: UserWarning: When align_corners=True, the output would more aligned if input size (64, 93) is `x+1` and out size (512, 740) is `nx+1`\n",
      "  f'When align_corners={align_corners}, '\n",
      "/home/user/workspace/github/mmsegmentation/mmseg/ops/wrappers.py:23: UserWarning: When align_corners=True, the output would more aligned if input size (96, 64) is `x+1` and out size (767, 512) is `nx+1`\n",
      "  f'When align_corners={align_corners}, '\n"
     ]
    },
    {
     "name": "stdout",
     "output_type": "stream",
     "text": [
      "[>                              ] 20/610, 21.8 task/s, elapsed: 1s, ETA:    27s"
     ]
    },
    {
     "name": "stderr",
     "output_type": "stream",
     "text": [
      "/home/user/workspace/github/mmsegmentation/mmseg/ops/wrappers.py:23: UserWarning: When align_corners=True, the output would more aligned if input size (64, 95) is `x+1` and out size (512, 758) is `nx+1`\n",
      "  f'When align_corners={align_corners}, '\n",
      "/home/user/workspace/github/mmsegmentation/mmseg/ops/wrappers.py:23: UserWarning: When align_corners=True, the output would more aligned if input size (90, 64) is `x+1` and out size (718, 512) is `nx+1`\n",
      "  f'When align_corners={align_corners}, '\n",
      "/home/user/workspace/github/mmsegmentation/mmseg/ops/wrappers.py:23: UserWarning: When align_corners=True, the output would more aligned if input size (64, 93) is `x+1` and out size (512, 744) is `nx+1`\n",
      "  f'When align_corners={align_corners}, '\n",
      "/home/user/workspace/github/mmsegmentation/mmseg/ops/wrappers.py:23: UserWarning: When align_corners=True, the output would more aligned if input size (64, 120) is `x+1` and out size (512, 956) is `nx+1`\n",
      "  f'When align_corners={align_corners}, '\n"
     ]
    },
    {
     "name": "stdout",
     "output_type": "stream",
     "text": [
      "[>                              ] 26/610, 22.2 task/s, elapsed: 1s, ETA:    26s"
     ]
    },
    {
     "name": "stderr",
     "output_type": "stream",
     "text": [
      "/home/user/workspace/github/mmsegmentation/mmseg/ops/wrappers.py:23: UserWarning: When align_corners=True, the output would more aligned if input size (64, 85) is `x+1` and out size (512, 680) is `nx+1`\n",
      "  f'When align_corners={align_corners}, '\n"
     ]
    },
    {
     "name": "stdout",
     "output_type": "stream",
     "text": [
      "[>                              ] 34/610, 23.6 task/s, elapsed: 1s, ETA:    24s"
     ]
    },
    {
     "name": "stderr",
     "output_type": "stream",
     "text": [
      "/home/user/workspace/github/mmsegmentation/mmseg/ops/wrappers.py:23: UserWarning: When align_corners=True, the output would more aligned if input size (96, 64) is `x+1` and out size (768, 512) is `nx+1`\n",
      "  f'When align_corners={align_corners}, '\n",
      "/home/user/workspace/github/mmsegmentation/mmseg/ops/wrappers.py:23: UserWarning: When align_corners=True, the output would more aligned if input size (64, 87) is `x+1` and out size (512, 693) is `nx+1`\n",
      "  f'When align_corners={align_corners}, '\n",
      "/home/user/workspace/github/mmsegmentation/mmseg/ops/wrappers.py:23: UserWarning: When align_corners=True, the output would more aligned if input size (64, 96) is `x+1` and out size (512, 767) is `nx+1`\n",
      "  f'When align_corners={align_corners}, '\n"
     ]
    },
    {
     "name": "stdout",
     "output_type": "stream",
     "text": [
      "[>                              ] 39/610, 23.4 task/s, elapsed: 2s, ETA:    24s"
     ]
    },
    {
     "name": "stderr",
     "output_type": "stream",
     "text": [
      "/home/user/workspace/github/mmsegmentation/mmseg/ops/wrappers.py:23: UserWarning: When align_corners=True, the output would more aligned if input size (64, 86) is `x+1` and out size (512, 685) is `nx+1`\n",
      "  f'When align_corners={align_corners}, '\n"
     ]
    },
    {
     "name": "stdout",
     "output_type": "stream",
     "text": [
      "[>>                             ] 46/610, 24.4 task/s, elapsed: 2s, ETA:    23s"
     ]
    },
    {
     "name": "stderr",
     "output_type": "stream",
     "text": [
      "/home/user/workspace/github/mmsegmentation/mmseg/ops/wrappers.py:23: UserWarning: When align_corners=True, the output would more aligned if input size (64, 73) is `x+1` and out size (512, 582) is `nx+1`\n",
      "  f'When align_corners={align_corners}, '\n",
      "/home/user/workspace/github/mmsegmentation/mmseg/ops/wrappers.py:23: UserWarning: When align_corners=True, the output would more aligned if input size (64, 90) is `x+1` and out size (512, 718) is `nx+1`\n",
      "  f'When align_corners={align_corners}, '\n",
      "/home/user/workspace/github/mmsegmentation/mmseg/ops/wrappers.py:23: UserWarning: When align_corners=True, the output would more aligned if input size (64, 95) is `x+1` and out size (512, 754) is `nx+1`\n",
      "  f'When align_corners={align_corners}, '\n",
      "/home/user/workspace/github/mmsegmentation/mmseg/ops/wrappers.py:23: UserWarning: When align_corners=True, the output would more aligned if input size (64, 114) is `x+1` and out size (512, 911) is `nx+1`\n",
      "  f'When align_corners={align_corners}, '\n"
     ]
    },
    {
     "name": "stdout",
     "output_type": "stream",
     "text": [
      "[>>                             ] 52/610, 24.2 task/s, elapsed: 2s, ETA:    23s"
     ]
    },
    {
     "name": "stderr",
     "output_type": "stream",
     "text": [
      "/home/user/workspace/github/mmsegmentation/mmseg/ops/wrappers.py:23: UserWarning: When align_corners=True, the output would more aligned if input size (64, 100) is `x+1` and out size (512, 794) is `nx+1`\n",
      "  f'When align_corners={align_corners}, '\n",
      "/home/user/workspace/github/mmsegmentation/mmseg/ops/wrappers.py:23: UserWarning: When align_corners=True, the output would more aligned if input size (64, 94) is `x+1` and out size (512, 752) is `nx+1`\n",
      "  f'When align_corners={align_corners}, '\n",
      "/home/user/workspace/github/mmsegmentation/mmseg/ops/wrappers.py:23: UserWarning: When align_corners=True, the output would more aligned if input size (64, 84) is `x+1` and out size (512, 667) is `nx+1`\n",
      "  f'When align_corners={align_corners}, '\n",
      "/home/user/workspace/github/mmsegmentation/mmseg/ops/wrappers.py:23: UserWarning: When align_corners=True, the output would more aligned if input size (95, 64) is `x+1` and out size (756, 512) is `nx+1`\n",
      "  f'When align_corners={align_corners}, '\n"
     ]
    },
    {
     "name": "stdout",
     "output_type": "stream",
     "text": [
      "[>>                             ] 59/610, 24.7 task/s, elapsed: 2s, ETA:    22s"
     ]
    },
    {
     "name": "stderr",
     "output_type": "stream",
     "text": [
      "/home/user/workspace/github/mmsegmentation/mmseg/ops/wrappers.py:23: UserWarning: When align_corners=True, the output would more aligned if input size (64, 97) is `x+1` and out size (512, 770) is `nx+1`\n",
      "  f'When align_corners={align_corners}, '\n",
      "/home/user/workspace/github/mmsegmentation/mmseg/ops/wrappers.py:23: UserWarning: When align_corners=True, the output would more aligned if input size (64, 147) is `x+1` and out size (512, 1170) is `nx+1`\n",
      "  f'When align_corners={align_corners}, '\n",
      "/home/user/workspace/github/mmsegmentation/mmseg/ops/wrappers.py:23: UserWarning: When align_corners=True, the output would more aligned if input size (95, 64) is `x+1` and out size (754, 512) is `nx+1`\n",
      "  f'When align_corners={align_corners}, '\n",
      "/home/user/workspace/github/mmsegmentation/mmseg/ops/wrappers.py:23: UserWarning: When align_corners=True, the output would more aligned if input size (64, 86) is `x+1` and out size (512, 682) is `nx+1`\n",
      "  f'When align_corners={align_corners}, '\n"
     ]
    },
    {
     "name": "stdout",
     "output_type": "stream",
     "text": [
      "[>>>                            ] 65/610, 24.5 task/s, elapsed: 3s, ETA:    22s"
     ]
    },
    {
     "name": "stderr",
     "output_type": "stream",
     "text": [
      "/home/user/workspace/github/mmsegmentation/mmseg/ops/wrappers.py:23: UserWarning: When align_corners=True, the output would more aligned if input size (64, 87) is `x+1` and out size (512, 692) is `nx+1`\n",
      "  f'When align_corners={align_corners}, '\n",
      "/home/user/workspace/github/mmsegmentation/mmseg/ops/wrappers.py:23: UserWarning: When align_corners=True, the output would more aligned if input size (64, 80) is `x+1` and out size (512, 636) is `nx+1`\n",
      "  f'When align_corners={align_corners}, '\n",
      "/home/user/workspace/github/mmsegmentation/mmseg/ops/wrappers.py:23: UserWarning: When align_corners=True, the output would more aligned if input size (64, 105) is `x+1` and out size (512, 839) is `nx+1`\n",
      "  f'When align_corners={align_corners}, '\n"
     ]
    },
    {
     "name": "stdout",
     "output_type": "stream",
     "text": [
      "[>>>                            ] 72/610, 25.0 task/s, elapsed: 3s, ETA:    22s"
     ]
    },
    {
     "name": "stderr",
     "output_type": "stream",
     "text": [
      "/home/user/workspace/github/mmsegmentation/mmseg/ops/wrappers.py:23: UserWarning: When align_corners=True, the output would more aligned if input size (64, 86) is `x+1` and out size (512, 684) is `nx+1`\n",
      "  f'When align_corners={align_corners}, '\n",
      "/home/user/workspace/github/mmsegmentation/mmseg/ops/wrappers.py:23: UserWarning: When align_corners=True, the output would more aligned if input size (64, 70) is `x+1` and out size (512, 554) is `nx+1`\n",
      "  f'When align_corners={align_corners}, '\n",
      "/home/user/workspace/github/mmsegmentation/mmseg/ops/wrappers.py:23: UserWarning: When align_corners=True, the output would more aligned if input size (64, 93) is `x+1` and out size (512, 739) is `nx+1`\n",
      "  f'When align_corners={align_corners}, '\n"
     ]
    },
    {
     "name": "stdout",
     "output_type": "stream",
     "text": [
      "[>>>                            ] 77/610, 24.7 task/s, elapsed: 3s, ETA:    22s"
     ]
    },
    {
     "name": "stderr",
     "output_type": "stream",
     "text": [
      "/home/user/workspace/github/mmsegmentation/mmseg/ops/wrappers.py:23: UserWarning: When align_corners=True, the output would more aligned if input size (64, 85) is `x+1` and out size (512, 674) is `nx+1`\n",
      "  f'When align_corners={align_corners}, '\n",
      "/home/user/workspace/github/mmsegmentation/mmseg/ops/wrappers.py:23: UserWarning: When align_corners=True, the output would more aligned if input size (64, 106) is `x+1` and out size (512, 848) is `nx+1`\n",
      "  f'When align_corners={align_corners}, '\n",
      "/home/user/workspace/github/mmsegmentation/mmseg/ops/wrappers.py:23: UserWarning: When align_corners=True, the output would more aligned if input size (114, 64) is `x+1` and out size (910, 512) is `nx+1`\n",
      "  f'When align_corners={align_corners}, '\n"
     ]
    },
    {
     "name": "stdout",
     "output_type": "stream",
     "text": [
      "[>>>>                           ] 86/610, 25.3 task/s, elapsed: 3s, ETA:    21s"
     ]
    },
    {
     "name": "stderr",
     "output_type": "stream",
     "text": [
      "/home/user/workspace/github/mmsegmentation/mmseg/ops/wrappers.py:23: UserWarning: When align_corners=True, the output would more aligned if input size (64, 92) is `x+1` and out size (512, 731) is `nx+1`\n",
      "  f'When align_corners={align_corners}, '\n",
      "/home/user/workspace/github/mmsegmentation/mmseg/ops/wrappers.py:23: UserWarning: When align_corners=True, the output would more aligned if input size (78, 64) is `x+1` and out size (618, 512) is `nx+1`\n",
      "  f'When align_corners={align_corners}, '\n",
      "/home/user/workspace/github/mmsegmentation/mmseg/ops/wrappers.py:23: UserWarning: When align_corners=True, the output would more aligned if input size (64, 82) is `x+1` and out size (512, 651) is `nx+1`\n",
      "  f'When align_corners={align_corners}, '\n"
     ]
    },
    {
     "name": "stdout",
     "output_type": "stream",
     "text": [
      "[>>>>                           ] 92/610, 25.2 task/s, elapsed: 4s, ETA:    21s"
     ]
    },
    {
     "name": "stderr",
     "output_type": "stream",
     "text": [
      "/home/user/workspace/github/mmsegmentation/mmseg/ops/wrappers.py:23: UserWarning: When align_corners=True, the output would more aligned if input size (64, 108) is `x+1` and out size (512, 861) is `nx+1`\n",
      "  f'When align_corners={align_corners}, '\n",
      "/home/user/workspace/github/mmsegmentation/mmseg/ops/wrappers.py:23: UserWarning: When align_corners=True, the output would more aligned if input size (86, 64) is `x+1` and out size (686, 512) is `nx+1`\n",
      "  f'When align_corners={align_corners}, '\n",
      "/home/user/workspace/github/mmsegmentation/mmseg/ops/wrappers.py:23: UserWarning: When align_corners=True, the output would more aligned if input size (64, 105) is `x+1` and out size (512, 834) is `nx+1`\n",
      "  f'When align_corners={align_corners}, '\n"
     ]
    },
    {
     "name": "stdout",
     "output_type": "stream",
     "text": [
      "[>>>>>                         ] 106/610, 25.5 task/s, elapsed: 4s, ETA:    20s"
     ]
    },
    {
     "name": "stderr",
     "output_type": "stream",
     "text": [
      "/home/user/workspace/github/mmsegmentation/mmseg/ops/wrappers.py:23: UserWarning: When align_corners=True, the output would more aligned if input size (64, 90) is `x+1` and out size (512, 719) is `nx+1`\n",
      "  f'When align_corners={align_corners}, '\n",
      "/home/user/workspace/github/mmsegmentation/mmseg/ops/wrappers.py:23: UserWarning: When align_corners=True, the output would more aligned if input size (64, 97) is `x+1` and out size (512, 771) is `nx+1`\n",
      "  f'When align_corners={align_corners}, '\n",
      "/home/user/workspace/github/mmsegmentation/mmseg/ops/wrappers.py:23: UserWarning: When align_corners=True, the output would more aligned if input size (64, 95) is `x+1` and out size (512, 755) is `nx+1`\n",
      "  f'When align_corners={align_corners}, '\n",
      "/home/user/workspace/github/mmsegmentation/mmseg/ops/wrappers.py:23: UserWarning: When align_corners=True, the output would more aligned if input size (64, 65) is `x+1` and out size (512, 518) is `nx+1`\n",
      "  f'When align_corners={align_corners}, '\n"
     ]
    },
    {
     "name": "stdout",
     "output_type": "stream",
     "text": [
      "[>>>>>                         ] 111/610, 25.4 task/s, elapsed: 4s, ETA:    20s"
     ]
    },
    {
     "name": "stderr",
     "output_type": "stream",
     "text": [
      "/home/user/workspace/github/mmsegmentation/mmseg/ops/wrappers.py:23: UserWarning: When align_corners=True, the output would more aligned if input size (64, 98) is `x+1` and out size (512, 784) is `nx+1`\n",
      "  f'When align_corners={align_corners}, '\n",
      "/home/user/workspace/github/mmsegmentation/mmseg/ops/wrappers.py:23: UserWarning: When align_corners=True, the output would more aligned if input size (64, 83) is `x+1` and out size (512, 659) is `nx+1`\n",
      "  f'When align_corners={align_corners}, '\n"
     ]
    },
    {
     "name": "stdout",
     "output_type": "stream",
     "text": [
      "[>>>>>>                        ] 132/610, 25.4 task/s, elapsed: 5s, ETA:    19s"
     ]
    },
    {
     "name": "stderr",
     "output_type": "stream",
     "text": [
      "/home/user/workspace/github/mmsegmentation/mmseg/ops/wrappers.py:23: UserWarning: When align_corners=True, the output would more aligned if input size (64, 115) is `x+1` and out size (512, 919) is `nx+1`\n",
      "  f'When align_corners={align_corners}, '\n"
     ]
    },
    {
     "name": "stdout",
     "output_type": "stream",
     "text": [
      "[>>>>>>>                       ] 149/610, 25.3 task/s, elapsed: 6s, ETA:    18s"
     ]
    },
    {
     "name": "stderr",
     "output_type": "stream",
     "text": [
      "/home/user/workspace/github/mmsegmentation/mmseg/ops/wrappers.py:23: UserWarning: When align_corners=True, the output would more aligned if input size (64, 105) is `x+1` and out size (512, 835) is `nx+1`\n",
      "  f'When align_corners={align_corners}, '\n",
      "/home/user/workspace/github/mmsegmentation/mmseg/ops/wrappers.py:23: UserWarning: When align_corners=True, the output would more aligned if input size (64, 76) is `x+1` and out size (512, 608) is `nx+1`\n",
      "  f'When align_corners={align_corners}, '\n"
     ]
    },
    {
     "name": "stdout",
     "output_type": "stream",
     "text": [
      "[>>>>>>>                       ] 156/610, 25.5 task/s, elapsed: 6s, ETA:    18s"
     ]
    },
    {
     "name": "stderr",
     "output_type": "stream",
     "text": [
      "/home/user/workspace/github/mmsegmentation/mmseg/ops/wrappers.py:23: UserWarning: When align_corners=True, the output would more aligned if input size (64, 73) is `x+1` and out size (512, 579) is `nx+1`\n",
      "  f'When align_corners={align_corners}, '\n",
      "/home/user/workspace/github/mmsegmentation/mmseg/ops/wrappers.py:23: UserWarning: When align_corners=True, the output would more aligned if input size (86, 64) is `x+1` and out size (682, 512) is `nx+1`\n",
      "  f'When align_corners={align_corners}, '\n",
      "/home/user/workspace/github/mmsegmentation/mmseg/ops/wrappers.py:23: UserWarning: When align_corners=True, the output would more aligned if input size (64, 71) is `x+1` and out size (512, 562) is `nx+1`\n",
      "  f'When align_corners={align_corners}, '\n",
      "/home/user/workspace/github/mmsegmentation/mmseg/ops/wrappers.py:23: UserWarning: When align_corners=True, the output would more aligned if input size (64, 88) is `x+1` and out size (512, 702) is `nx+1`\n",
      "  f'When align_corners={align_corners}, '\n"
     ]
    },
    {
     "name": "stdout",
     "output_type": "stream",
     "text": [
      "[>>>>>>>                       ] 162/610, 25.5 task/s, elapsed: 6s, ETA:    18s"
     ]
    },
    {
     "name": "stderr",
     "output_type": "stream",
     "text": [
      "/home/user/workspace/github/mmsegmentation/mmseg/ops/wrappers.py:23: UserWarning: When align_corners=True, the output would more aligned if input size (64, 98) is `x+1` and out size (512, 783) is `nx+1`\n",
      "  f'When align_corners={align_corners}, '\n",
      "/home/user/workspace/github/mmsegmentation/mmseg/ops/wrappers.py:23: UserWarning: When align_corners=True, the output would more aligned if input size (64, 121) is `x+1` and out size (512, 963) is `nx+1`\n",
      "  f'When align_corners={align_corners}, '\n",
      "/home/user/workspace/github/mmsegmentation/mmseg/ops/wrappers.py:23: UserWarning: When align_corners=True, the output would more aligned if input size (64, 102) is `x+1` and out size (512, 814) is `nx+1`\n",
      "  f'When align_corners={align_corners}, '\n"
     ]
    },
    {
     "name": "stdout",
     "output_type": "stream",
     "text": [
      "[>>>>>>>>                      ] 170/610, 25.7 task/s, elapsed: 7s, ETA:    17s"
     ]
    },
    {
     "name": "stderr",
     "output_type": "stream",
     "text": [
      "/home/user/workspace/github/mmsegmentation/mmseg/ops/wrappers.py:23: UserWarning: When align_corners=True, the output would more aligned if input size (64, 99) is `x+1` and out size (512, 786) is `nx+1`\n",
      "  f'When align_corners={align_corners}, '\n",
      "/home/user/workspace/github/mmsegmentation/mmseg/ops/wrappers.py:23: UserWarning: When align_corners=True, the output would more aligned if input size (64, 79) is `x+1` and out size (512, 627) is `nx+1`\n",
      "  f'When align_corners={align_corners}, '\n"
     ]
    },
    {
     "name": "stdout",
     "output_type": "stream",
     "text": [
      "[>>>>>>>>                      ] 177/610, 25.7 task/s, elapsed: 7s, ETA:    17s"
     ]
    },
    {
     "name": "stderr",
     "output_type": "stream",
     "text": [
      "/home/user/workspace/github/mmsegmentation/mmseg/ops/wrappers.py:23: UserWarning: When align_corners=True, the output would more aligned if input size (64, 119) is `x+1` and out size (512, 952) is `nx+1`\n",
      "  f'When align_corners={align_corners}, '\n",
      "/home/user/workspace/github/mmsegmentation/mmseg/ops/wrappers.py:23: UserWarning: When align_corners=True, the output would more aligned if input size (97, 64) is `x+1` and out size (770, 512) is `nx+1`\n",
      "  f'When align_corners={align_corners}, '\n"
     ]
    },
    {
     "name": "stdout",
     "output_type": "stream",
     "text": [
      "[>>>>>>>>>                     ] 187/610, 25.8 task/s, elapsed: 7s, ETA:    16s"
     ]
    },
    {
     "name": "stderr",
     "output_type": "stream",
     "text": [
      "/home/user/workspace/github/mmsegmentation/mmseg/ops/wrappers.py:23: UserWarning: When align_corners=True, the output would more aligned if input size (64, 97) is `x+1` and out size (512, 773) is `nx+1`\n",
      "  f'When align_corners={align_corners}, '\n",
      "/home/user/workspace/github/mmsegmentation/mmseg/ops/wrappers.py:23: UserWarning: When align_corners=True, the output would more aligned if input size (64, 84) is `x+1` and out size (512, 668) is `nx+1`\n",
      "  f'When align_corners={align_corners}, '\n",
      "/home/user/workspace/github/mmsegmentation/mmseg/ops/wrappers.py:23: UserWarning: When align_corners=True, the output would more aligned if input size (64, 95) is `x+1` and out size (512, 759) is `nx+1`\n",
      "  f'When align_corners={align_corners}, '\n",
      "/home/user/workspace/github/mmsegmentation/mmseg/ops/wrappers.py:23: UserWarning: When align_corners=True, the output would more aligned if input size (64, 96) is `x+1` and out size (512, 766) is `nx+1`\n",
      "  f'When align_corners={align_corners}, '\n"
     ]
    },
    {
     "name": "stdout",
     "output_type": "stream",
     "text": [
      "[>>>>>>>>>                     ] 194/610, 26.0 task/s, elapsed: 7s, ETA:    16s"
     ]
    },
    {
     "name": "stderr",
     "output_type": "stream",
     "text": [
      "/home/user/workspace/github/mmsegmentation/mmseg/ops/wrappers.py:23: UserWarning: When align_corners=True, the output would more aligned if input size (64, 98) is `x+1` and out size (512, 780) is `nx+1`\n",
      "  f'When align_corners={align_corners}, '\n",
      "/home/user/workspace/github/mmsegmentation/mmseg/ops/wrappers.py:23: UserWarning: When align_corners=True, the output would more aligned if input size (64, 68) is `x+1` and out size (512, 540) is `nx+1`\n",
      "  f'When align_corners={align_corners}, '\n",
      "/home/user/workspace/github/mmsegmentation/mmseg/ops/wrappers.py:23: UserWarning: When align_corners=True, the output would more aligned if input size (64, 89) is `x+1` and out size (512, 706) is `nx+1`\n",
      "  f'When align_corners={align_corners}, '\n"
     ]
    },
    {
     "name": "stdout",
     "output_type": "stream",
     "text": [
      "[>>>>>>>>>                     ] 199/610, 25.9 task/s, elapsed: 8s, ETA:    16s"
     ]
    },
    {
     "name": "stderr",
     "output_type": "stream",
     "text": [
      "/home/user/workspace/github/mmsegmentation/mmseg/ops/wrappers.py:23: UserWarning: When align_corners=True, the output would more aligned if input size (64, 87) is `x+1` and out size (512, 696) is `nx+1`\n",
      "  f'When align_corners={align_corners}, '\n",
      "/home/user/workspace/github/mmsegmentation/mmseg/ops/wrappers.py:23: UserWarning: When align_corners=True, the output would more aligned if input size (64, 91) is `x+1` and out size (512, 726) is `nx+1`\n",
      "  f'When align_corners={align_corners}, '\n"
     ]
    },
    {
     "name": "stdout",
     "output_type": "stream",
     "text": [
      "[>>>>>>>>>>                    ] 207/610, 26.0 task/s, elapsed: 8s, ETA:    15s"
     ]
    },
    {
     "name": "stderr",
     "output_type": "stream",
     "text": [
      "/home/user/workspace/github/mmsegmentation/mmseg/ops/wrappers.py:23: UserWarning: When align_corners=True, the output would more aligned if input size (95, 64) is `x+1` and out size (759, 512) is `nx+1`\n",
      "  f'When align_corners={align_corners}, '\n"
     ]
    },
    {
     "name": "stdout",
     "output_type": "stream",
     "text": [
      "[>>>>>>>>>>>>>                ] 281/610, 26.3 task/s, elapsed: 11s, ETA:    12s"
     ]
    },
    {
     "name": "stderr",
     "output_type": "stream",
     "text": [
      "/home/user/workspace/github/mmsegmentation/mmseg/ops/wrappers.py:23: UserWarning: When align_corners=True, the output would more aligned if input size (64, 68) is `x+1` and out size (512, 544) is `nx+1`\n",
      "  f'When align_corners={align_corners}, '\n",
      "/home/user/workspace/github/mmsegmentation/mmseg/ops/wrappers.py:23: UserWarning: When align_corners=True, the output would more aligned if input size (73, 64) is `x+1` and out size (584, 512) is `nx+1`\n",
      "  f'When align_corners={align_corners}, '\n",
      "/home/user/workspace/github/mmsegmentation/mmseg/ops/wrappers.py:23: UserWarning: When align_corners=True, the output would more aligned if input size (64, 87) is `x+1` and out size (512, 690) is `nx+1`\n",
      "  f'When align_corners={align_corners}, '\n",
      "/home/user/workspace/github/mmsegmentation/mmseg/ops/wrappers.py:23: UserWarning: When align_corners=True, the output would more aligned if input size (64, 92) is `x+1` and out size (512, 734) is `nx+1`\n",
      "  f'When align_corners={align_corners}, '\n",
      "/home/user/workspace/github/mmsegmentation/mmseg/ops/wrappers.py:23: UserWarning: When align_corners=True, the output would more aligned if input size (86, 64) is `x+1` and out size (684, 512) is `nx+1`\n",
      "  f'When align_corners={align_corners}, '\n"
     ]
    },
    {
     "name": "stdout",
     "output_type": "stream",
     "text": [
      "[>>>>>>>>>>>>>                ] 289/610, 26.3 task/s, elapsed: 11s, ETA:    12s"
     ]
    },
    {
     "name": "stderr",
     "output_type": "stream",
     "text": [
      "/home/user/workspace/github/mmsegmentation/mmseg/ops/wrappers.py:23: UserWarning: When align_corners=True, the output would more aligned if input size (64, 90) is `x+1` and out size (512, 715) is `nx+1`\n",
      "  f'When align_corners={align_corners}, '\n",
      "/home/user/workspace/github/mmsegmentation/mmseg/ops/wrappers.py:23: UserWarning: When align_corners=True, the output would more aligned if input size (87, 64) is `x+1` and out size (694, 512) is `nx+1`\n",
      "  f'When align_corners={align_corners}, '\n",
      "/home/user/workspace/github/mmsegmentation/mmseg/ops/wrappers.py:23: UserWarning: When align_corners=True, the output would more aligned if input size (64, 88) is `x+1` and out size (512, 699) is `nx+1`\n",
      "  f'When align_corners={align_corners}, '\n"
     ]
    },
    {
     "name": "stdout",
     "output_type": "stream",
     "text": [
      "[>>>>>>>>>>>>>>               ] 298/610, 26.2 task/s, elapsed: 11s, ETA:    12s"
     ]
    },
    {
     "name": "stderr",
     "output_type": "stream",
     "text": [
      "/home/user/workspace/github/mmsegmentation/mmseg/ops/wrappers.py:23: UserWarning: When align_corners=True, the output would more aligned if input size (98, 64) is `x+1` and out size (780, 512) is `nx+1`\n",
      "  f'When align_corners={align_corners}, '\n"
     ]
    },
    {
     "name": "stdout",
     "output_type": "stream",
     "text": [
      "[>>>>>>>>>>>>>>>              ] 318/610, 26.3 task/s, elapsed: 12s, ETA:    11s"
     ]
    },
    {
     "name": "stderr",
     "output_type": "stream",
     "text": [
      "/home/user/workspace/github/mmsegmentation/mmseg/ops/wrappers.py:23: UserWarning: When align_corners=True, the output would more aligned if input size (64, 75) is `x+1` and out size (512, 594) is `nx+1`\n",
      "  f'When align_corners={align_corners}, '\n",
      "/home/user/workspace/github/mmsegmentation/mmseg/ops/wrappers.py:23: UserWarning: When align_corners=True, the output would more aligned if input size (64, 89) is `x+1` and out size (512, 707) is `nx+1`\n",
      "  f'When align_corners={align_corners}, '\n",
      "/home/user/workspace/github/mmsegmentation/mmseg/ops/wrappers.py:23: UserWarning: When align_corners=True, the output would more aligned if input size (64, 101) is `x+1` and out size (512, 802) is `nx+1`\n",
      "  f'When align_corners={align_corners}, '\n"
     ]
    },
    {
     "name": "stdout",
     "output_type": "stream",
     "text": [
      "[>>>>>>>>>>>>>>>              ] 323/610, 26.2 task/s, elapsed: 12s, ETA:    11s"
     ]
    },
    {
     "name": "stderr",
     "output_type": "stream",
     "text": [
      "/home/user/workspace/github/mmsegmentation/mmseg/ops/wrappers.py:23: UserWarning: When align_corners=True, the output would more aligned if input size (64, 123) is `x+1` and out size (512, 984) is `nx+1`\n",
      "  f'When align_corners={align_corners}, '\n",
      "/home/user/workspace/github/mmsegmentation/mmseg/ops/wrappers.py:23: UserWarning: When align_corners=True, the output would more aligned if input size (64, 86) is `x+1` and out size (512, 687) is `nx+1`\n",
      "  f'When align_corners={align_corners}, '\n"
     ]
    },
    {
     "name": "stdout",
     "output_type": "stream",
     "text": [
      "[>>>>>>>>>>>>>>>              ] 330/610, 26.3 task/s, elapsed: 13s, ETA:    11s"
     ]
    },
    {
     "name": "stderr",
     "output_type": "stream",
     "text": [
      "/home/user/workspace/github/mmsegmentation/mmseg/ops/wrappers.py:23: UserWarning: When align_corners=True, the output would more aligned if input size (95, 64) is `x+1` and out size (757, 512) is `nx+1`\n",
      "  f'When align_corners={align_corners}, '\n",
      "/home/user/workspace/github/mmsegmentation/mmseg/ops/wrappers.py:23: UserWarning: When align_corners=True, the output would more aligned if input size (64, 86) is `x+1` and out size (512, 686) is `nx+1`\n",
      "  f'When align_corners={align_corners}, '\n",
      "/home/user/workspace/github/mmsegmentation/mmseg/ops/wrappers.py:23: UserWarning: When align_corners=True, the output would more aligned if input size (64, 65) is `x+1` and out size (512, 515) is `nx+1`\n",
      "  f'When align_corners={align_corners}, '\n"
     ]
    },
    {
     "name": "stdout",
     "output_type": "stream",
     "text": [
      "[>>>>>>>>>>>>>>>>             ] 340/610, 26.3 task/s, elapsed: 13s, ETA:    10s"
     ]
    },
    {
     "name": "stderr",
     "output_type": "stream",
     "text": [
      "/home/user/workspace/github/mmsegmentation/mmseg/ops/wrappers.py:23: UserWarning: When align_corners=True, the output would more aligned if input size (64, 109) is `x+1` and out size (512, 871) is `nx+1`\n",
      "  f'When align_corners={align_corners}, '\n",
      "/home/user/workspace/github/mmsegmentation/mmseg/ops/wrappers.py:23: UserWarning: When align_corners=True, the output would more aligned if input size (64, 100) is `x+1` and out size (512, 796) is `nx+1`\n",
      "  f'When align_corners={align_corners}, '\n",
      "/home/user/workspace/github/mmsegmentation/mmseg/ops/wrappers.py:23: UserWarning: When align_corners=True, the output would more aligned if input size (64, 102) is `x+1` and out size (512, 811) is `nx+1`\n",
      "  f'When align_corners={align_corners}, '\n"
     ]
    },
    {
     "name": "stdout",
     "output_type": "stream",
     "text": [
      "[>>>>>>>>>>>>>>>>             ] 345/610, 26.3 task/s, elapsed: 13s, ETA:    10s"
     ]
    },
    {
     "name": "stderr",
     "output_type": "stream",
     "text": [
      "/home/user/workspace/github/mmsegmentation/mmseg/ops/wrappers.py:23: UserWarning: When align_corners=True, the output would more aligned if input size (64, 94) is `x+1` and out size (512, 746) is `nx+1`\n",
      "  f'When align_corners={align_corners}, '\n"
     ]
    },
    {
     "name": "stdout",
     "output_type": "stream",
     "text": [
      "[>>>>>>>>>>>>>>>>             ] 355/610, 26.2 task/s, elapsed: 14s, ETA:    10s"
     ]
    },
    {
     "name": "stderr",
     "output_type": "stream",
     "text": [
      "/home/user/workspace/github/mmsegmentation/mmseg/ops/wrappers.py:23: UserWarning: When align_corners=True, the output would more aligned if input size (64, 116) is `x+1` and out size (512, 923) is `nx+1`\n",
      "  f'When align_corners={align_corners}, '\n"
     ]
    },
    {
     "name": "stdout",
     "output_type": "stream",
     "text": [
      "[>>>>>>>>>>>>>>>>>            ] 371/610, 26.2 task/s, elapsed: 14s, ETA:     9s"
     ]
    },
    {
     "name": "stderr",
     "output_type": "stream",
     "text": [
      "/home/user/workspace/github/mmsegmentation/mmseg/ops/wrappers.py:23: UserWarning: When align_corners=True, the output would more aligned if input size (64, 94) is `x+1` and out size (512, 747) is `nx+1`\n",
      "  f'When align_corners={align_corners}, '\n"
     ]
    },
    {
     "name": "stdout",
     "output_type": "stream",
     "text": [
      "[>>>>>>>>>>>>>>>>>            ] 378/610, 26.3 task/s, elapsed: 14s, ETA:     9s"
     ]
    },
    {
     "name": "stderr",
     "output_type": "stream",
     "text": [
      "/home/user/workspace/github/mmsegmentation/mmseg/ops/wrappers.py:23: UserWarning: When align_corners=True, the output would more aligned if input size (64, 71) is `x+1` and out size (512, 566) is `nx+1`\n",
      "  f'When align_corners={align_corners}, '\n",
      "/home/user/workspace/github/mmsegmentation/mmseg/ops/wrappers.py:23: UserWarning: When align_corners=True, the output would more aligned if input size (93, 64) is `x+1` and out size (743, 512) is `nx+1`\n",
      "  f'When align_corners={align_corners}, '\n"
     ]
    },
    {
     "name": "stdout",
     "output_type": "stream",
     "text": [
      "[>>>>>>>>>>>>>>>>>>           ] 385/610, 26.3 task/s, elapsed: 15s, ETA:     9s"
     ]
    },
    {
     "name": "stderr",
     "output_type": "stream",
     "text": [
      "/home/user/workspace/github/mmsegmentation/mmseg/ops/wrappers.py:23: UserWarning: When align_corners=True, the output would more aligned if input size (64, 95) is `x+1` and out size (512, 760) is `nx+1`\n",
      "  f'When align_corners={align_corners}, '\n"
     ]
    },
    {
     "name": "stdout",
     "output_type": "stream",
     "text": [
      "[>>>>>>>>>>>>>>>>>>           ] 394/610, 26.2 task/s, elapsed: 15s, ETA:     8s"
     ]
    },
    {
     "name": "stderr",
     "output_type": "stream",
     "text": [
      "/home/user/workspace/github/mmsegmentation/mmseg/ops/wrappers.py:23: UserWarning: When align_corners=True, the output would more aligned if input size (86, 64) is `x+1` and out size (685, 512) is `nx+1`\n",
      "  f'When align_corners={align_corners}, '\n",
      "/home/user/workspace/github/mmsegmentation/mmseg/ops/wrappers.py:23: UserWarning: When align_corners=True, the output would more aligned if input size (64, 85) is `x+1` and out size (512, 679) is `nx+1`\n",
      "  f'When align_corners={align_corners}, '\n"
     ]
    },
    {
     "name": "stdout",
     "output_type": "stream",
     "text": [
      "[>>>>>>>>>>>>>>>>>>>          ] 403/610, 26.4 task/s, elapsed: 15s, ETA:     8s"
     ]
    },
    {
     "name": "stderr",
     "output_type": "stream",
     "text": [
      "/home/user/workspace/github/mmsegmentation/mmseg/ops/wrappers.py:23: UserWarning: When align_corners=True, the output would more aligned if input size (64, 88) is `x+1` and out size (512, 698) is `nx+1`\n",
      "  f'When align_corners={align_corners}, '\n",
      "/home/user/workspace/github/mmsegmentation/mmseg/ops/wrappers.py:23: UserWarning: When align_corners=True, the output would more aligned if input size (102, 64) is `x+1` and out size (812, 512) is `nx+1`\n",
      "  f'When align_corners={align_corners}, '\n",
      "/home/user/workspace/github/mmsegmentation/mmseg/ops/wrappers.py:23: UserWarning: When align_corners=True, the output would more aligned if input size (85, 64) is `x+1` and out size (674, 512) is `nx+1`\n",
      "  f'When align_corners={align_corners}, '\n",
      "/home/user/workspace/github/mmsegmentation/mmseg/ops/wrappers.py:23: UserWarning: When align_corners=True, the output would more aligned if input size (98, 64) is `x+1` and out size (779, 512) is `nx+1`\n",
      "  f'When align_corners={align_corners}, '\n"
     ]
    },
    {
     "name": "stdout",
     "output_type": "stream",
     "text": [
      "[>>>>>>>>>>>>>>>>>>>          ] 410/610, 26.3 task/s, elapsed: 16s, ETA:     8s"
     ]
    },
    {
     "name": "stderr",
     "output_type": "stream",
     "text": [
      "/home/user/workspace/github/mmsegmentation/mmseg/ops/wrappers.py:23: UserWarning: When align_corners=True, the output would more aligned if input size (64, 95) is `x+1` and out size (512, 756) is `nx+1`\n",
      "  f'When align_corners={align_corners}, '\n",
      "/home/user/workspace/github/mmsegmentation/mmseg/ops/wrappers.py:23: UserWarning: When align_corners=True, the output would more aligned if input size (64, 83) is `x+1` and out size (512, 660) is `nx+1`\n",
      "  f'When align_corners={align_corners}, '\n",
      "/home/user/workspace/github/mmsegmentation/mmseg/ops/wrappers.py:23: UserWarning: When align_corners=True, the output would more aligned if input size (64, 85) is `x+1` and out size (512, 677) is `nx+1`\n",
      "  f'When align_corners={align_corners}, '\n"
     ]
    },
    {
     "name": "stdout",
     "output_type": "stream",
     "text": [
      "[>>>>>>>>>>>>>>>>>>>          ] 417/610, 26.4 task/s, elapsed: 16s, ETA:     7s"
     ]
    },
    {
     "name": "stderr",
     "output_type": "stream",
     "text": [
      "/home/user/workspace/github/mmsegmentation/mmseg/ops/wrappers.py:23: UserWarning: When align_corners=True, the output would more aligned if input size (64, 107) is `x+1` and out size (512, 850) is `nx+1`\n",
      "  f'When align_corners={align_corners}, '\n",
      "/home/user/workspace/github/mmsegmentation/mmseg/ops/wrappers.py:23: UserWarning: When align_corners=True, the output would more aligned if input size (64, 82) is `x+1` and out size (512, 653) is `nx+1`\n",
      "  f'When align_corners={align_corners}, '\n",
      "/home/user/workspace/github/mmsegmentation/mmseg/ops/wrappers.py:23: UserWarning: When align_corners=True, the output would more aligned if input size (92, 64) is `x+1` and out size (733, 512) is `nx+1`\n",
      "  f'When align_corners={align_corners}, '\n",
      "/home/user/workspace/github/mmsegmentation/mmseg/ops/wrappers.py:23: UserWarning: When align_corners=True, the output would more aligned if input size (64, 86) is `x+1` and out size (512, 688) is `nx+1`\n",
      "  f'When align_corners={align_corners}, '\n"
     ]
    },
    {
     "name": "stdout",
     "output_type": "stream",
     "text": [
      "[>>>>>>>>>>>>>>>>>>>>         ] 429/610, 26.4 task/s, elapsed: 16s, ETA:     7s"
     ]
    },
    {
     "name": "stderr",
     "output_type": "stream",
     "text": [
      "/home/user/workspace/github/mmsegmentation/mmseg/ops/wrappers.py:23: UserWarning: When align_corners=True, the output would more aligned if input size (84, 64) is `x+1` and out size (669, 512) is `nx+1`\n",
      "  f'When align_corners={align_corners}, '\n",
      "/home/user/workspace/github/mmsegmentation/mmseg/ops/wrappers.py:23: UserWarning: When align_corners=True, the output would more aligned if input size (64, 109) is `x+1` and out size (512, 867) is `nx+1`\n",
      "  f'When align_corners={align_corners}, '\n"
     ]
    },
    {
     "name": "stdout",
     "output_type": "stream",
     "text": [
      "[>>>>>>>>>>>>>>>>>>>>>        ] 454/610, 26.4 task/s, elapsed: 17s, ETA:     6s"
     ]
    },
    {
     "name": "stderr",
     "output_type": "stream",
     "text": [
      "/home/user/workspace/github/mmsegmentation/mmseg/ops/wrappers.py:23: UserWarning: When align_corners=True, the output would more aligned if input size (64, 78) is `x+1` and out size (512, 621) is `nx+1`\n",
      "  f'When align_corners={align_corners}, '\n"
     ]
    },
    {
     "name": "stdout",
     "output_type": "stream",
     "text": [
      "[>>>>>>>>>>>>>>>>>>>>>>       ] 465/610, 26.5 task/s, elapsed: 18s, ETA:     5s"
     ]
    },
    {
     "name": "stderr",
     "output_type": "stream",
     "text": [
      "/home/user/workspace/github/mmsegmentation/mmseg/ops/wrappers.py:23: UserWarning: When align_corners=True, the output would more aligned if input size (64, 97) is `x+1` and out size (512, 775) is `nx+1`\n",
      "  f'When align_corners={align_corners}, '\n",
      "/home/user/workspace/github/mmsegmentation/mmseg/ops/wrappers.py:23: UserWarning: When align_corners=True, the output would more aligned if input size (64, 115) is `x+1` and out size (512, 914) is `nx+1`\n",
      "  f'When align_corners={align_corners}, '\n"
     ]
    },
    {
     "name": "stdout",
     "output_type": "stream",
     "text": [
      "[>>>>>>>>>>>>>>>>>>>>>>       ] 476/610, 26.5 task/s, elapsed: 18s, ETA:     5s"
     ]
    },
    {
     "name": "stderr",
     "output_type": "stream",
     "text": [
      "/home/user/workspace/github/mmsegmentation/mmseg/ops/wrappers.py:23: UserWarning: When align_corners=True, the output would more aligned if input size (79, 64) is `x+1` and out size (626, 512) is `nx+1`\n",
      "  f'When align_corners={align_corners}, '\n"
     ]
    },
    {
     "name": "stdout",
     "output_type": "stream",
     "text": [
      "[>>>>>>>>>>>>>>>>>>>>>>       ] 482/610, 26.5 task/s, elapsed: 18s, ETA:     5s"
     ]
    },
    {
     "name": "stderr",
     "output_type": "stream",
     "text": [
      "/home/user/workspace/github/mmsegmentation/mmseg/ops/wrappers.py:23: UserWarning: When align_corners=True, the output would more aligned if input size (87, 64) is `x+1` and out size (695, 512) is `nx+1`\n",
      "  f'When align_corners={align_corners}, '\n",
      "/home/user/workspace/github/mmsegmentation/mmseg/ops/wrappers.py:23: UserWarning: When align_corners=True, the output would more aligned if input size (64, 97) is `x+1` and out size (512, 776) is `nx+1`\n",
      "  f'When align_corners={align_corners}, '\n"
     ]
    },
    {
     "name": "stdout",
     "output_type": "stream",
     "text": [
      "[>>>>>>>>>>>>>>>>>>>>>>>      ] 490/610, 26.5 task/s, elapsed: 18s, ETA:     5s"
     ]
    },
    {
     "name": "stderr",
     "output_type": "stream",
     "text": [
      "/home/user/workspace/github/mmsegmentation/mmseg/ops/wrappers.py:23: UserWarning: When align_corners=True, the output would more aligned if input size (64, 94) is `x+1` and out size (512, 751) is `nx+1`\n",
      "  f'When align_corners={align_corners}, '\n",
      "/home/user/workspace/github/mmsegmentation/mmseg/ops/wrappers.py:23: UserWarning: When align_corners=True, the output would more aligned if input size (64, 80) is `x+1` and out size (512, 640) is `nx+1`\n",
      "  f'When align_corners={align_corners}, '\n"
     ]
    },
    {
     "name": "stdout",
     "output_type": "stream",
     "text": [
      "[>>>>>>>>>>>>>>>>>>>>>>>      ] 501/610, 26.5 task/s, elapsed: 19s, ETA:     4s"
     ]
    },
    {
     "name": "stderr",
     "output_type": "stream",
     "text": [
      "/home/user/workspace/github/mmsegmentation/mmseg/ops/wrappers.py:23: UserWarning: When align_corners=True, the output would more aligned if input size (64, 81) is `x+1` and out size (512, 644) is `nx+1`\n",
      "  f'When align_corners={align_corners}, '\n",
      "/home/user/workspace/github/mmsegmentation/mmseg/ops/wrappers.py:23: UserWarning: When align_corners=True, the output would more aligned if input size (64, 98) is `x+1` and out size (512, 779) is `nx+1`\n",
      "  f'When align_corners={align_corners}, '\n"
     ]
    },
    {
     "name": "stdout",
     "output_type": "stream",
     "text": [
      "[>>>>>>>>>>>>>>>>>>>>>>>>     ] 507/610, 26.5 task/s, elapsed: 19s, ETA:     4s"
     ]
    },
    {
     "name": "stderr",
     "output_type": "stream",
     "text": [
      "/home/user/workspace/github/mmsegmentation/mmseg/ops/wrappers.py:23: UserWarning: When align_corners=True, the output would more aligned if input size (64, 93) is `x+1` and out size (512, 741) is `nx+1`\n",
      "  f'When align_corners={align_corners}, '\n",
      "/home/user/workspace/github/mmsegmentation/mmseg/ops/wrappers.py:23: UserWarning: When align_corners=True, the output would more aligned if input size (64, 108) is `x+1` and out size (512, 862) is `nx+1`\n",
      "  f'When align_corners={align_corners}, '\n",
      "/home/user/workspace/github/mmsegmentation/mmseg/ops/wrappers.py:23: UserWarning: When align_corners=True, the output would more aligned if input size (64, 92) is `x+1` and out size (512, 735) is `nx+1`\n",
      "  f'When align_corners={align_corners}, '\n"
     ]
    },
    {
     "name": "stdout",
     "output_type": "stream",
     "text": [
      "[>>>>>>>>>>>>>>>>>>>>>>>>     ] 514/610, 26.5 task/s, elapsed: 19s, ETA:     4s"
     ]
    },
    {
     "name": "stderr",
     "output_type": "stream",
     "text": [
      "/home/user/workspace/github/mmsegmentation/mmseg/ops/wrappers.py:23: UserWarning: When align_corners=True, the output would more aligned if input size (64, 79) is `x+1` and out size (512, 630) is `nx+1`\n",
      "  f'When align_corners={align_corners}, '\n",
      "/home/user/workspace/github/mmsegmentation/mmseg/ops/wrappers.py:23: UserWarning: When align_corners=True, the output would more aligned if input size (64, 100) is `x+1` and out size (512, 800) is `nx+1`\n",
      "  f'When align_corners={align_corners}, '\n"
     ]
    },
    {
     "name": "stdout",
     "output_type": "stream",
     "text": [
      "[>>>>>>>>>>>>>>>>>>>>>>>>>>>  ] 587/610, 26.5 task/s, elapsed: 22s, ETA:     1s"
     ]
    },
    {
     "name": "stderr",
     "output_type": "stream",
     "text": [
      "/home/user/workspace/github/mmsegmentation/mmseg/ops/wrappers.py:23: UserWarning: When align_corners=True, the output would more aligned if input size (64, 112) is `x+1` and out size (512, 891) is `nx+1`\n",
      "  f'When align_corners={align_corners}, '\n",
      "/home/user/workspace/github/mmsegmentation/mmseg/ops/wrappers.py:23: UserWarning: When align_corners=True, the output would more aligned if input size (64, 92) is `x+1` and out size (512, 730) is `nx+1`\n",
      "  f'When align_corners={align_corners}, '\n",
      "/home/user/workspace/github/mmsegmentation/mmseg/ops/wrappers.py:23: UserWarning: When align_corners=True, the output would more aligned if input size (64, 103) is `x+1` and out size (512, 821) is `nx+1`\n",
      "  f'When align_corners={align_corners}, '\n"
     ]
    },
    {
     "name": "stdout",
     "output_type": "stream",
     "text": [
      "[>>>>>>>>>>>>>>>>>>>>>>>>>>>> ] 593/610, 26.5 task/s, elapsed: 22s, ETA:     1s"
     ]
    },
    {
     "name": "stderr",
     "output_type": "stream",
     "text": [
      "/home/user/workspace/github/mmsegmentation/mmseg/ops/wrappers.py:23: UserWarning: When align_corners=True, the output would more aligned if input size (64, 81) is `x+1` and out size (512, 645) is `nx+1`\n",
      "  f'When align_corners={align_corners}, '\n",
      "/home/user/workspace/github/mmsegmentation/mmseg/ops/wrappers.py:23: UserWarning: When align_corners=True, the output would more aligned if input size (85, 64) is `x+1` and out size (680, 512) is `nx+1`\n",
      "  f'When align_corners={align_corners}, '\n"
     ]
    },
    {
     "name": "stdout",
     "output_type": "stream",
     "text": [
      "[>>>>>>>>>>>>>>>>>>>>>>>>>>>> ] 606/610, 26.5 task/s, elapsed: 23s, ETA:     0s"
     ]
    },
    {
     "name": "stderr",
     "output_type": "stream",
     "text": [
      "/home/user/workspace/github/mmsegmentation/mmseg/ops/wrappers.py:23: UserWarning: When align_corners=True, the output would more aligned if input size (88, 64) is `x+1` and out size (704, 512) is `nx+1`\n",
      "  f'When align_corners={align_corners}, '\n",
      "/home/user/workspace/github/mmsegmentation/mmseg/ops/wrappers.py:23: UserWarning: When align_corners=True, the output would more aligned if input size (90, 64) is `x+1` and out size (719, 512) is `nx+1`\n",
      "  f'When align_corners={align_corners}, '\n",
      "/home/user/workspace/github/mmsegmentation/mmseg/ops/wrappers.py:23: UserWarning: When align_corners=True, the output would more aligned if input size (64, 121) is `x+1` and out size (512, 968) is `nx+1`\n",
      "  f'When align_corners={align_corners}, '\n"
     ]
    },
    {
     "name": "stdout",
     "output_type": "stream",
     "text": [
      "[>>>>>>>>>>>>>>>>>>>>>>>>>>>>>] 610/610, 26.5 task/s, elapsed: 23s, ETA:     0s"
     ]
    },
    {
     "name": "stderr",
     "output_type": "stream",
     "text": [
      "2022-03-28 17:04:16,924 - mmseg - INFO - per class results:\n",
      "2022-03-28 17:04:16,925 - mmseg - INFO - \n",
      "+------------+-------+-------+\n",
      "|   Class    |  IoU  |  Acc  |\n",
      "+------------+-------+-------+\n",
      "| background | 94.83 | 100.0 |\n",
      "|   human    |  0.0  |  0.0  |\n",
      "+------------+-------+-------+\n",
      "2022-03-28 17:04:16,925 - mmseg - INFO - Summary:\n",
      "2022-03-28 17:04:16,925 - mmseg - INFO - \n",
      "+-------+-------+------+\n",
      "|  aAcc |  mIoU | mAcc |\n",
      "+-------+-------+------+\n",
      "| 94.83 | 47.41 | 50.0 |\n",
      "+-------+-------+------+\n",
      "2022-03-28 17:04:16,928 - mmseg - INFO - Iter(val) [610]\taAcc: 0.9483, mIoU: 0.4741, mAcc: 0.5000, IoU.background: 0.9483, IoU.human: 0.0000, Acc.background: 1.0000, Acc.human: 0.0000\n",
      "2022-03-28 17:04:53,324 - mmseg - INFO - Iter [5050/160000]\tlr: 9.718e-03, eta: 1 day, 7:17:21, time: 1.188, data_time: 0.466, memory: 2073, decode.loss_ce: 0.1806, decode.acc_seg: 90.6769, aux_0.loss_ce: 0.1800, aux_0.acc_seg: 90.6769, aux_1.loss_ce: 0.1774, aux_1.acc_seg: 90.6769, aux_2.loss_ce: 0.0406, aux_2.loss_dice: 0.3469, aux_2.acc_seg: 99.2317, loss: 0.9255\n",
      "2022-03-28 17:05:29,669 - mmseg - INFO - Iter [5100/160000]\tlr: 9.716e-03, eta: 1 day, 7:16:44, time: 0.727, data_time: 0.005, memory: 2073, decode.loss_ce: 0.1219, decode.acc_seg: 93.2765, aux_0.loss_ce: 0.1243, aux_0.acc_seg: 93.2765, aux_1.loss_ce: 0.1267, aux_1.acc_seg: 93.2765, aux_2.loss_ce: 0.0349, aux_2.loss_dice: 0.3305, aux_2.acc_seg: 99.3354, loss: 0.7383\n",
      "2022-03-28 17:06:06,060 - mmseg - INFO - Iter [5150/160000]\tlr: 9.713e-03, eta: 1 day, 7:16:08, time: 0.727, data_time: 0.006, memory: 2073, decode.loss_ce: 0.1442, decode.acc_seg: 92.4316, aux_0.loss_ce: 0.1391, aux_0.acc_seg: 92.4316, aux_1.loss_ce: 0.1339, aux_1.acc_seg: 92.4316, aux_2.loss_ce: 0.0394, aux_2.loss_dice: 0.3591, aux_2.acc_seg: 99.2543, loss: 0.8158\n",
      "2022-03-28 17:06:42,348 - mmseg - INFO - Iter [5200/160000]\tlr: 9.710e-03, eta: 1 day, 7:15:31, time: 0.726, data_time: 0.006, memory: 2073, decode.loss_ce: 0.1507, decode.acc_seg: 91.8662, aux_0.loss_ce: 0.1555, aux_0.acc_seg: 91.8662, aux_1.loss_ce: 0.1597, aux_1.acc_seg: 91.8662, aux_2.loss_ce: 0.0382, aux_2.loss_dice: 0.3314, aux_2.acc_seg: 99.2721, loss: 0.8355\n",
      "2022-03-28 17:07:15,982 - mmseg - INFO - Iter [5250/160000]\tlr: 9.707e-03, eta: 1 day, 7:13:34, time: 0.673, data_time: 0.006, memory: 2073, decode.loss_ce: 0.1430, decode.acc_seg: 92.1382, aux_0.loss_ce: 0.1476, aux_0.acc_seg: 92.1382, aux_1.loss_ce: 0.1464, aux_1.acc_seg: 92.1382, aux_2.loss_ce: 0.0434, aux_2.loss_dice: 0.3816, aux_2.acc_seg: 99.2100, loss: 0.8620\n",
      "2022-03-28 17:07:52,324 - mmseg - INFO - Iter [5300/160000]\tlr: 9.704e-03, eta: 1 day, 7:12:59, time: 0.727, data_time: 0.006, memory: 2073, decode.loss_ce: 0.1670, decode.acc_seg: 91.0889, aux_0.loss_ce: 0.1635, aux_0.acc_seg: 91.0889, aux_1.loss_ce: 0.1670, aux_1.acc_seg: 91.0889, aux_2.loss_ce: 0.0488, aux_2.loss_dice: 0.4192, aux_2.acc_seg: 99.1159, loss: 0.9655\n",
      "2022-03-28 17:08:28,760 - mmseg - INFO - Iter [5350/160000]\tlr: 9.702e-03, eta: 1 day, 7:12:26, time: 0.729, data_time: 0.005, memory: 2073, decode.loss_ce: 0.1460, decode.acc_seg: 92.2992, aux_0.loss_ce: 0.1441, aux_0.acc_seg: 92.2992, aux_1.loss_ce: 0.1421, aux_1.acc_seg: 92.2992, aux_2.loss_ce: 0.0400, aux_2.loss_dice: 0.3628, aux_2.acc_seg: 99.2461, loss: 0.8349\n",
      "2022-03-28 17:09:05,111 - mmseg - INFO - Iter [5400/160000]\tlr: 9.699e-03, eta: 1 day, 7:11:51, time: 0.727, data_time: 0.005, memory: 2073, decode.loss_ce: 0.1375, decode.acc_seg: 92.2438, aux_0.loss_ce: 0.1387, aux_0.acc_seg: 92.2438, aux_1.loss_ce: 0.1404, aux_1.acc_seg: 92.2438, aux_2.loss_ce: 0.0376, aux_2.loss_dice: 0.3432, aux_2.acc_seg: 99.2800, loss: 0.7974\n",
      "2022-03-28 17:09:41,500 - mmseg - INFO - Iter [5450/160000]\tlr: 9.696e-03, eta: 1 day, 7:11:16, time: 0.728, data_time: 0.005, memory: 2073, decode.loss_ce: 0.1477, decode.acc_seg: 92.2052, aux_0.loss_ce: 0.1466, aux_0.acc_seg: 92.2052, aux_1.loss_ce: 0.1479, aux_1.acc_seg: 92.2052, aux_2.loss_ce: 0.0390, aux_2.loss_dice: 0.3513, aux_2.acc_seg: 99.2528, loss: 0.8324\n",
      "2022-03-28 17:10:17,868 - mmseg - INFO - Iter [5500/160000]\tlr: 9.693e-03, eta: 1 day, 7:10:41, time: 0.727, data_time: 0.005, memory: 2073, decode.loss_ce: 0.1536, decode.acc_seg: 91.4392, aux_0.loss_ce: 0.1507, aux_0.acc_seg: 91.4392, aux_1.loss_ce: 0.1485, aux_1.acc_seg: 91.4392, aux_2.loss_ce: 0.0387, aux_2.loss_dice: 0.3383, aux_2.acc_seg: 99.2746, loss: 0.8298\n",
      "2022-03-28 17:10:54,206 - mmseg - INFO - Iter [5550/160000]\tlr: 9.690e-03, eta: 1 day, 7:10:05, time: 0.727, data_time: 0.005, memory: 2073, decode.loss_ce: 0.1619, decode.acc_seg: 91.0344, aux_0.loss_ce: 0.1690, aux_0.acc_seg: 91.0344, aux_1.loss_ce: 0.1696, aux_1.acc_seg: 91.0344, aux_2.loss_ce: 0.0385, aux_2.loss_dice: 0.3486, aux_2.acc_seg: 99.2752, loss: 0.8876\n",
      "2022-03-28 17:11:33,334 - mmseg - INFO - Iter [5600/160000]\tlr: 9.688e-03, eta: 1 day, 7:10:45, time: 0.782, data_time: 0.061, memory: 2073, decode.loss_ce: 0.1582, decode.acc_seg: 91.5070, aux_0.loss_ce: 0.1636, aux_0.acc_seg: 91.5070, aux_1.loss_ce: 0.1619, aux_1.acc_seg: 91.5070, aux_2.loss_ce: 0.0387, aux_2.loss_dice: 0.3514, aux_2.acc_seg: 99.2439, loss: 0.8738\n",
      "2022-03-28 17:12:09,715 - mmseg - INFO - Iter [5650/160000]\tlr: 9.685e-03, eta: 1 day, 7:10:10, time: 0.728, data_time: 0.006, memory: 2073, decode.loss_ce: 0.1461, decode.acc_seg: 92.1136, aux_0.loss_ce: 0.1516, aux_0.acc_seg: 92.1136, aux_1.loss_ce: 0.1497, aux_1.acc_seg: 92.1136, aux_2.loss_ce: 0.0379, aux_2.loss_dice: 0.3481, aux_2.acc_seg: 99.2797, loss: 0.8333\n",
      "2022-03-28 17:12:45,983 - mmseg - INFO - Iter [5700/160000]\tlr: 9.682e-03, eta: 1 day, 7:09:32, time: 0.726, data_time: 0.006, memory: 2073, decode.loss_ce: 0.1500, decode.acc_seg: 92.0029, aux_0.loss_ce: 0.1437, aux_0.acc_seg: 92.0029, aux_1.loss_ce: 0.1430, aux_1.acc_seg: 92.0029, aux_2.loss_ce: 0.0366, aux_2.loss_dice: 0.3252, aux_2.acc_seg: 99.2925, loss: 0.7984\n",
      "2022-03-28 17:13:22,343 - mmseg - INFO - Iter [5750/160000]\tlr: 9.679e-03, eta: 1 day, 7:08:56, time: 0.727, data_time: 0.006, memory: 2073, decode.loss_ce: 0.1627, decode.acc_seg: 91.0590, aux_0.loss_ce: 0.1592, aux_0.acc_seg: 91.0590, aux_1.loss_ce: 0.1672, aux_1.acc_seg: 91.0590, aux_2.loss_ce: 0.0395, aux_2.loss_dice: 0.3425, aux_2.acc_seg: 99.2371, loss: 0.8712\n",
      "2022-03-28 17:13:58,704 - mmseg - INFO - Iter [5800/160000]\tlr: 9.676e-03, eta: 1 day, 7:08:20, time: 0.727, data_time: 0.005, memory: 2073, decode.loss_ce: 0.1518, decode.acc_seg: 92.0032, aux_0.loss_ce: 0.1536, aux_0.acc_seg: 92.0032, aux_1.loss_ce: 0.1480, aux_1.acc_seg: 92.0032, aux_2.loss_ce: 0.0388, aux_2.loss_dice: 0.3417, aux_2.acc_seg: 99.2642, loss: 0.8339\n",
      "2022-03-28 17:14:33,259 - mmseg - INFO - Iter [5850/160000]\tlr: 9.674e-03, eta: 1 day, 7:06:57, time: 0.692, data_time: 0.005, memory: 2073, decode.loss_ce: 0.1398, decode.acc_seg: 92.5547, aux_0.loss_ce: 0.1404, aux_0.acc_seg: 92.5547, aux_1.loss_ce: 0.1393, aux_1.acc_seg: 92.5547, aux_2.loss_ce: 0.0363, aux_2.loss_dice: 0.3300, aux_2.acc_seg: 99.2995, loss: 0.7859\n",
      "2022-03-28 17:15:08,799 - mmseg - INFO - Iter [5900/160000]\tlr: 9.671e-03, eta: 1 day, 7:05:59, time: 0.710, data_time: 0.005, memory: 2073, decode.loss_ce: 0.1313, decode.acc_seg: 92.7641, aux_0.loss_ce: 0.1350, aux_0.acc_seg: 92.7641, aux_1.loss_ce: 0.1339, aux_1.acc_seg: 92.7641, aux_2.loss_ce: 0.0357, aux_2.loss_dice: 0.3458, aux_2.acc_seg: 99.3213, loss: 0.7817\n",
      "2022-03-28 17:15:45,193 - mmseg - INFO - Iter [5950/160000]\tlr: 9.668e-03, eta: 1 day, 7:05:25, time: 0.728, data_time: 0.005, memory: 2073, decode.loss_ce: 0.1546, decode.acc_seg: 91.3301, aux_0.loss_ce: 0.1582, aux_0.acc_seg: 91.3301, aux_1.loss_ce: 0.1596, aux_1.acc_seg: 91.3301, aux_2.loss_ce: 0.0379, aux_2.loss_dice: 0.3384, aux_2.acc_seg: 99.2661, loss: 0.8488\n",
      "2022-03-28 17:16:21,574 - mmseg - INFO - Iter [6000/160000]\tlr: 9.665e-03, eta: 1 day, 7:04:50, time: 0.728, data_time: 0.005, memory: 2073, decode.loss_ce: 0.1538, decode.acc_seg: 91.5677, aux_0.loss_ce: 0.1479, aux_0.acc_seg: 91.5677, aux_1.loss_ce: 0.1444, aux_1.acc_seg: 91.5677, aux_2.loss_ce: 0.0392, aux_2.loss_dice: 0.3279, aux_2.acc_seg: 99.2528, loss: 0.8133\n",
      "2022-03-28 17:16:57,947 - mmseg - INFO - Iter [6050/160000]\tlr: 9.663e-03, eta: 1 day, 7:04:15, time: 0.727, data_time: 0.005, memory: 2073, decode.loss_ce: 0.1515, decode.acc_seg: 92.1071, aux_0.loss_ce: 0.1506, aux_0.acc_seg: 92.1071, aux_1.loss_ce: 0.1557, aux_1.acc_seg: 92.1071, aux_2.loss_ce: 0.0387, aux_2.loss_dice: 0.3363, aux_2.acc_seg: 99.2649, loss: 0.8328\n"
     ]
    },
    {
     "name": "stderr",
     "output_type": "stream",
     "text": [
      "2022-03-28 17:17:34,311 - mmseg - INFO - Iter [6100/160000]\tlr: 9.660e-03, eta: 1 day, 7:03:39, time: 0.727, data_time: 0.005, memory: 2073, decode.loss_ce: 0.1444, decode.acc_seg: 91.9367, aux_0.loss_ce: 0.1517, aux_0.acc_seg: 91.9367, aux_1.loss_ce: 0.1482, aux_1.acc_seg: 91.9367, aux_2.loss_ce: 0.0386, aux_2.loss_dice: 0.3274, aux_2.acc_seg: 99.2555, loss: 0.8103\n",
      "2022-03-28 17:18:10,675 - mmseg - INFO - Iter [6150/160000]\tlr: 9.657e-03, eta: 1 day, 7:03:03, time: 0.727, data_time: 0.005, memory: 2073, decode.loss_ce: 0.1646, decode.acc_seg: 91.4980, aux_0.loss_ce: 0.1600, aux_0.acc_seg: 91.4980, aux_1.loss_ce: 0.1590, aux_1.acc_seg: 91.4980, aux_2.loss_ce: 0.0385, aux_2.loss_dice: 0.3635, aux_2.acc_seg: 99.2618, loss: 0.8856\n",
      "2022-03-28 17:18:47,108 - mmseg - INFO - Iter [6200/160000]\tlr: 9.654e-03, eta: 1 day, 7:02:29, time: 0.729, data_time: 0.006, memory: 2073, decode.loss_ce: 0.1401, decode.acc_seg: 92.3200, aux_0.loss_ce: 0.1408, aux_0.acc_seg: 92.3200, aux_1.loss_ce: 0.1450, aux_1.acc_seg: 92.3200, aux_2.loss_ce: 0.0376, aux_2.loss_dice: 0.3428, aux_2.acc_seg: 99.2801, loss: 0.8064\n",
      "2022-03-28 17:19:23,464 - mmseg - INFO - Iter [6250/160000]\tlr: 9.651e-03, eta: 1 day, 7:01:53, time: 0.727, data_time: 0.006, memory: 2073, decode.loss_ce: 0.1576, decode.acc_seg: 91.7201, aux_0.loss_ce: 0.1573, aux_0.acc_seg: 91.7201, aux_1.loss_ce: 0.1559, aux_1.acc_seg: 91.7201, aux_2.loss_ce: 0.0393, aux_2.loss_dice: 0.3412, aux_2.acc_seg: 99.2231, loss: 0.8513\n",
      "2022-03-28 17:20:02,515 - mmseg - INFO - Iter [6300/160000]\tlr: 9.649e-03, eta: 1 day, 7:02:24, time: 0.782, data_time: 0.061, memory: 2073, decode.loss_ce: 0.1625, decode.acc_seg: 91.1621, aux_0.loss_ce: 0.1626, aux_0.acc_seg: 91.1621, aux_1.loss_ce: 0.1647, aux_1.acc_seg: 91.1621, aux_2.loss_ce: 0.0418, aux_2.loss_dice: 0.3524, aux_2.acc_seg: 99.2003, loss: 0.8840\n",
      "2022-03-28 17:20:38,882 - mmseg - INFO - Iter [6350/160000]\tlr: 9.646e-03, eta: 1 day, 7:01:48, time: 0.727, data_time: 0.005, memory: 2073, decode.loss_ce: 0.1384, decode.acc_seg: 92.4226, aux_0.loss_ce: 0.1368, aux_0.acc_seg: 92.4226, aux_1.loss_ce: 0.1363, aux_1.acc_seg: 92.4226, aux_2.loss_ce: 0.0370, aux_2.loss_dice: 0.3361, aux_2.acc_seg: 99.2852, loss: 0.7845\n",
      "2022-03-28 17:21:15,307 - mmseg - INFO - Iter [6400/160000]\tlr: 9.643e-03, eta: 1 day, 7:01:14, time: 0.729, data_time: 0.005, memory: 2073, decode.loss_ce: 0.1449, decode.acc_seg: 92.1003, aux_0.loss_ce: 0.1454, aux_0.acc_seg: 92.1003, aux_1.loss_ce: 0.1437, aux_1.acc_seg: 92.1003, aux_2.loss_ce: 0.0366, aux_2.loss_dice: 0.3245, aux_2.acc_seg: 99.2839, loss: 0.7951\n",
      "2022-03-28 17:21:51,700 - mmseg - INFO - Iter [6450/160000]\tlr: 9.640e-03, eta: 1 day, 7:00:38, time: 0.728, data_time: 0.005, memory: 2073, decode.loss_ce: 0.1626, decode.acc_seg: 91.3596, aux_0.loss_ce: 0.1633, aux_0.acc_seg: 91.3596, aux_1.loss_ce: 0.1651, aux_1.acc_seg: 91.3596, aux_2.loss_ce: 0.0395, aux_2.loss_dice: 0.3301, aux_2.acc_seg: 99.2354, loss: 0.8605\n",
      "2022-03-28 17:22:25,409 - mmseg - INFO - Iter [6500/160000]\tlr: 9.637e-03, eta: 1 day, 6:58:59, time: 0.674, data_time: 0.005, memory: 2073, decode.loss_ce: 0.1702, decode.acc_seg: 90.8964, aux_0.loss_ce: 0.1682, aux_0.acc_seg: 90.8964, aux_1.loss_ce: 0.1672, aux_1.acc_seg: 90.8964, aux_2.loss_ce: 0.0395, aux_2.loss_dice: 0.3499, aux_2.acc_seg: 99.2175, loss: 0.8949\n",
      "2022-03-28 17:23:01,819 - mmseg - INFO - Iter [6550/160000]\tlr: 9.635e-03, eta: 1 day, 6:58:25, time: 0.728, data_time: 0.006, memory: 2073, decode.loss_ce: 0.1397, decode.acc_seg: 92.3598, aux_0.loss_ce: 0.1423, aux_0.acc_seg: 92.3598, aux_1.loss_ce: 0.1401, aux_1.acc_seg: 92.3598, aux_2.loss_ce: 0.0360, aux_2.loss_dice: 0.3229, aux_2.acc_seg: 99.3043, loss: 0.7809\n",
      "2022-03-28 17:23:38,221 - mmseg - INFO - Iter [6600/160000]\tlr: 9.632e-03, eta: 1 day, 6:57:50, time: 0.728, data_time: 0.006, memory: 2073, decode.loss_ce: 0.1485, decode.acc_seg: 91.9918, aux_0.loss_ce: 0.1514, aux_0.acc_seg: 91.9918, aux_1.loss_ce: 0.1490, aux_1.acc_seg: 91.9918, aux_2.loss_ce: 0.0362, aux_2.loss_dice: 0.3302, aux_2.acc_seg: 99.3043, loss: 0.8154\n",
      "2022-03-28 17:24:14,605 - mmseg - INFO - Iter [6650/160000]\tlr: 9.629e-03, eta: 1 day, 6:57:15, time: 0.728, data_time: 0.005, memory: 2073, decode.loss_ce: 0.1258, decode.acc_seg: 93.0961, aux_0.loss_ce: 0.1267, aux_0.acc_seg: 93.0961, aux_1.loss_ce: 0.1282, aux_1.acc_seg: 93.0961, aux_2.loss_ce: 0.0368, aux_2.loss_dice: 0.3401, aux_2.acc_seg: 99.2884, loss: 0.7576\n",
      "2022-03-28 17:24:50,977 - mmseg - INFO - Iter [6700/160000]\tlr: 9.626e-03, eta: 1 day, 6:56:40, time: 0.728, data_time: 0.006, memory: 2073, decode.loss_ce: 0.1570, decode.acc_seg: 91.4841, aux_0.loss_ce: 0.1546, aux_0.acc_seg: 91.4841, aux_1.loss_ce: 0.1580, aux_1.acc_seg: 91.4841, aux_2.loss_ce: 0.0388, aux_2.loss_dice: 0.3572, aux_2.acc_seg: 99.2771, loss: 0.8656\n",
      "2022-03-28 17:25:27,306 - mmseg - INFO - Iter [6750/160000]\tlr: 9.623e-03, eta: 1 day, 6:56:03, time: 0.726, data_time: 0.005, memory: 2073, decode.loss_ce: 0.1501, decode.acc_seg: 91.6010, aux_0.loss_ce: 0.1573, aux_0.acc_seg: 91.6010, aux_1.loss_ce: 0.1472, aux_1.acc_seg: 91.6010, aux_2.loss_ce: 0.0390, aux_2.loss_dice: 0.3420, aux_2.acc_seg: 99.2456, loss: 0.8357\n",
      "2022-03-28 17:26:03,692 - mmseg - INFO - Iter [6800/160000]\tlr: 9.621e-03, eta: 1 day, 6:55:28, time: 0.728, data_time: 0.006, memory: 2073, decode.loss_ce: 0.1432, decode.acc_seg: 92.3023, aux_0.loss_ce: 0.1418, aux_0.acc_seg: 92.3023, aux_1.loss_ce: 0.1463, aux_1.acc_seg: 92.3023, aux_2.loss_ce: 0.0367, aux_2.loss_dice: 0.3324, aux_2.acc_seg: 99.2838, loss: 0.8004\n",
      "2022-03-28 17:26:40,141 - mmseg - INFO - Iter [6850/160000]\tlr: 9.618e-03, eta: 1 day, 6:54:54, time: 0.729, data_time: 0.006, memory: 2073, decode.loss_ce: 0.1573, decode.acc_seg: 91.5367, aux_0.loss_ce: 0.1567, aux_0.acc_seg: 91.5367, aux_1.loss_ce: 0.1556, aux_1.acc_seg: 91.5367, aux_2.loss_ce: 0.0406, aux_2.loss_dice: 0.3457, aux_2.acc_seg: 99.2461, loss: 0.8559\n",
      "2022-03-28 17:27:16,508 - mmseg - INFO - Iter [6900/160000]\tlr: 9.615e-03, eta: 1 day, 6:54:19, time: 0.727, data_time: 0.005, memory: 2073, decode.loss_ce: 0.1570, decode.acc_seg: 91.6297, aux_0.loss_ce: 0.1571, aux_0.acc_seg: 91.6297, aux_1.loss_ce: 0.1561, aux_1.acc_seg: 91.6297, aux_2.loss_ce: 0.0421, aux_2.loss_dice: 0.3660, aux_2.acc_seg: 99.2159, loss: 0.8782\n",
      "2022-03-28 17:27:52,784 - mmseg - INFO - Iter [6950/160000]\tlr: 9.612e-03, eta: 1 day, 6:53:40, time: 0.725, data_time: 0.005, memory: 2073, decode.loss_ce: 0.1409, decode.acc_seg: 92.1591, aux_0.loss_ce: 0.1419, aux_0.acc_seg: 92.1591, aux_1.loss_ce: 0.1433, aux_1.acc_seg: 92.1591, aux_2.loss_ce: 0.0387, aux_2.loss_dice: 0.3785, aux_2.acc_seg: 99.2567, loss: 0.8433\n",
      "2022-03-28 17:28:31,690 - mmseg - INFO - Iter [7000/160000]\tlr: 9.609e-03, eta: 1 day, 6:54:00, time: 0.778, data_time: 0.058, memory: 2073, decode.loss_ce: 0.1445, decode.acc_seg: 92.1622, aux_0.loss_ce: 0.1444, aux_0.acc_seg: 92.1622, aux_1.loss_ce: 0.1426, aux_1.acc_seg: 92.1622, aux_2.loss_ce: 0.0385, aux_2.loss_dice: 0.3640, aux_2.acc_seg: 99.2728, loss: 0.8339\n",
      "2022-03-28 17:29:08,069 - mmseg - INFO - Iter [7050/160000]\tlr: 9.607e-03, eta: 1 day, 6:53:24, time: 0.728, data_time: 0.006, memory: 2073, decode.loss_ce: 0.1486, decode.acc_seg: 92.0059, aux_0.loss_ce: 0.1463, aux_0.acc_seg: 92.0059, aux_1.loss_ce: 0.1471, aux_1.acc_seg: 92.0059, aux_2.loss_ce: 0.0403, aux_2.loss_dice: 0.3874, aux_2.acc_seg: 99.2131, loss: 0.8697\n",
      "2022-03-28 17:29:44,443 - mmseg - INFO - Iter [7100/160000]\tlr: 9.604e-03, eta: 1 day, 6:52:48, time: 0.727, data_time: 0.006, memory: 2073, decode.loss_ce: 0.1504, decode.acc_seg: 91.8281, aux_0.loss_ce: 0.1567, aux_0.acc_seg: 91.8281, aux_1.loss_ce: 0.1554, aux_1.acc_seg: 91.8281, aux_2.loss_ce: 0.0390, aux_2.loss_dice: 0.3509, aux_2.acc_seg: 99.2286, loss: 0.8524\n",
      "2022-03-28 17:30:18,093 - mmseg - INFO - Iter [7150/160000]\tlr: 9.601e-03, eta: 1 day, 6:51:14, time: 0.673, data_time: 0.006, memory: 2073, decode.loss_ce: 0.1393, decode.acc_seg: 92.7238, aux_0.loss_ce: 0.1402, aux_0.acc_seg: 92.7238, aux_1.loss_ce: 0.1362, aux_1.acc_seg: 92.7238, aux_2.loss_ce: 0.0375, aux_2.loss_dice: 0.3619, aux_2.acc_seg: 99.2805, loss: 0.8151\n",
      "2022-03-28 17:30:54,349 - mmseg - INFO - Iter [7200/160000]\tlr: 9.598e-03, eta: 1 day, 6:50:37, time: 0.726, data_time: 0.006, memory: 2073, decode.loss_ce: 0.1330, decode.acc_seg: 92.6203, aux_0.loss_ce: 0.1302, aux_0.acc_seg: 92.6203, aux_1.loss_ce: 0.1340, aux_1.acc_seg: 92.6203, aux_2.loss_ce: 0.0382, aux_2.loss_dice: 0.3368, aux_2.acc_seg: 99.2589, loss: 0.7722\n"
     ]
    },
    {
     "name": "stderr",
     "output_type": "stream",
     "text": [
      "2022-03-28 17:31:30,762 - mmseg - INFO - Iter [7250/160000]\tlr: 9.595e-03, eta: 1 day, 6:50:02, time: 0.728, data_time: 0.005, memory: 2073, decode.loss_ce: 0.1460, decode.acc_seg: 91.7980, aux_0.loss_ce: 0.1540, aux_0.acc_seg: 91.7980, aux_1.loss_ce: 0.1502, aux_1.acc_seg: 91.7980, aux_2.loss_ce: 0.0375, aux_2.loss_dice: 0.3493, aux_2.acc_seg: 99.2853, loss: 0.8369\n",
      "2022-03-28 17:32:07,143 - mmseg - INFO - Iter [7300/160000]\tlr: 9.593e-03, eta: 1 day, 6:49:27, time: 0.728, data_time: 0.005, memory: 2073, decode.loss_ce: 0.1503, decode.acc_seg: 91.7082, aux_0.loss_ce: 0.1467, aux_0.acc_seg: 91.7082, aux_1.loss_ce: 0.1474, aux_1.acc_seg: 91.7082, aux_2.loss_ce: 0.0375, aux_2.loss_dice: 0.3325, aux_2.acc_seg: 99.2695, loss: 0.8144\n",
      "2022-03-28 17:32:43,491 - mmseg - INFO - Iter [7350/160000]\tlr: 9.590e-03, eta: 1 day, 6:48:51, time: 0.727, data_time: 0.005, memory: 2073, decode.loss_ce: 0.1487, decode.acc_seg: 92.2031, aux_0.loss_ce: 0.1461, aux_0.acc_seg: 92.2031, aux_1.loss_ce: 0.1521, aux_1.acc_seg: 92.2031, aux_2.loss_ce: 0.0381, aux_2.loss_dice: 0.3432, aux_2.acc_seg: 99.2416, loss: 0.8281\n",
      "2022-03-28 17:33:19,885 - mmseg - INFO - Iter [7400/160000]\tlr: 9.587e-03, eta: 1 day, 6:48:16, time: 0.728, data_time: 0.005, memory: 2073, decode.loss_ce: 0.1512, decode.acc_seg: 91.3805, aux_0.loss_ce: 0.1542, aux_0.acc_seg: 91.3805, aux_1.loss_ce: 0.1497, aux_1.acc_seg: 91.3805, aux_2.loss_ce: 0.0390, aux_2.loss_dice: 0.3405, aux_2.acc_seg: 99.2688, loss: 0.8346\n",
      "2022-03-28 17:33:56,282 - mmseg - INFO - Iter [7450/160000]\tlr: 9.584e-03, eta: 1 day, 6:47:41, time: 0.728, data_time: 0.005, memory: 2073, decode.loss_ce: 0.1451, decode.acc_seg: 92.3420, aux_0.loss_ce: 0.1455, aux_0.acc_seg: 92.3420, aux_1.loss_ce: 0.1464, aux_1.acc_seg: 92.3420, aux_2.loss_ce: 0.0395, aux_2.loss_dice: 0.3533, aux_2.acc_seg: 99.2785, loss: 0.8298\n",
      "2022-03-28 17:34:32,628 - mmseg - INFO - Iter [7500/160000]\tlr: 9.581e-03, eta: 1 day, 6:47:04, time: 0.727, data_time: 0.005, memory: 2073, decode.loss_ce: 0.1755, decode.acc_seg: 90.7192, aux_0.loss_ce: 0.1742, aux_0.acc_seg: 90.7192, aux_1.loss_ce: 0.1719, aux_1.acc_seg: 90.7192, aux_2.loss_ce: 0.0400, aux_2.loss_dice: 0.3499, aux_2.acc_seg: 99.2328, loss: 0.9115\n",
      "2022-03-28 17:35:09,021 - mmseg - INFO - Iter [7550/160000]\tlr: 9.579e-03, eta: 1 day, 6:46:29, time: 0.728, data_time: 0.005, memory: 2073, decode.loss_ce: 0.1596, decode.acc_seg: 91.1700, aux_0.loss_ce: 0.1579, aux_0.acc_seg: 91.1700, aux_1.loss_ce: 0.1601, aux_1.acc_seg: 91.1700, aux_2.loss_ce: 0.0391, aux_2.loss_dice: 0.3380, aux_2.acc_seg: 99.2469, loss: 0.8546\n",
      "2022-03-28 17:35:45,379 - mmseg - INFO - Iter [7600/160000]\tlr: 9.576e-03, eta: 1 day, 6:45:53, time: 0.727, data_time: 0.006, memory: 2073, decode.loss_ce: 0.1720, decode.acc_seg: 90.9835, aux_0.loss_ce: 0.1710, aux_0.acc_seg: 90.9835, aux_1.loss_ce: 0.1716, aux_1.acc_seg: 90.9835, aux_2.loss_ce: 0.0422, aux_2.loss_dice: 0.3666, aux_2.acc_seg: 99.2071, loss: 0.9233\n",
      "2022-03-28 17:36:21,719 - mmseg - INFO - Iter [7650/160000]\tlr: 9.573e-03, eta: 1 day, 6:45:16, time: 0.726, data_time: 0.006, memory: 2073, decode.loss_ce: 0.1450, decode.acc_seg: 92.0932, aux_0.loss_ce: 0.1441, aux_0.acc_seg: 92.0932, aux_1.loss_ce: 0.1444, aux_1.acc_seg: 92.0932, aux_2.loss_ce: 0.0379, aux_2.loss_dice: 0.3358, aux_2.acc_seg: 99.2794, loss: 0.8072\n",
      "2022-03-28 17:37:00,535 - mmseg - INFO - Iter [7700/160000]\tlr: 9.570e-03, eta: 1 day, 6:45:29, time: 0.776, data_time: 0.057, memory: 2073, decode.loss_ce: 0.1454, decode.acc_seg: 92.1378, aux_0.loss_ce: 0.1449, aux_0.acc_seg: 92.1378, aux_1.loss_ce: 0.1472, aux_1.acc_seg: 92.1378, aux_2.loss_ce: 0.0391, aux_2.loss_dice: 0.3526, aux_2.acc_seg: 99.2710, loss: 0.8291\n",
      "2022-03-28 17:37:36,841 - mmseg - INFO - Iter [7750/160000]\tlr: 9.567e-03, eta: 1 day, 6:44:53, time: 0.727, data_time: 0.006, memory: 2073, decode.loss_ce: 0.1446, decode.acc_seg: 92.0023, aux_0.loss_ce: 0.1477, aux_0.acc_seg: 92.0023, aux_1.loss_ce: 0.1468, aux_1.acc_seg: 92.0023, aux_2.loss_ce: 0.0385, aux_2.loss_dice: 0.3548, aux_2.acc_seg: 99.2707, loss: 0.8324\n",
      "2022-03-28 17:38:10,653 - mmseg - INFO - Iter [7800/160000]\tlr: 9.565e-03, eta: 1 day, 6:43:26, time: 0.676, data_time: 0.005, memory: 2073, decode.loss_ce: 0.1543, decode.acc_seg: 91.5627, aux_0.loss_ce: 0.1620, aux_0.acc_seg: 91.5627, aux_1.loss_ce: 0.1574, aux_1.acc_seg: 91.5627, aux_2.loss_ce: 0.0401, aux_2.loss_dice: 0.3575, aux_2.acc_seg: 99.2128, loss: 0.8713\n",
      "2022-03-28 17:38:47,059 - mmseg - INFO - Iter [7850/160000]\tlr: 9.562e-03, eta: 1 day, 6:42:51, time: 0.728, data_time: 0.006, memory: 2073, decode.loss_ce: 0.1563, decode.acc_seg: 91.5241, aux_0.loss_ce: 0.1540, aux_0.acc_seg: 91.5241, aux_1.loss_ce: 0.1539, aux_1.acc_seg: 91.5241, aux_2.loss_ce: 0.0392, aux_2.loss_dice: 0.3405, aux_2.acc_seg: 99.2360, loss: 0.8439\n",
      "2022-03-28 17:39:23,408 - mmseg - INFO - Iter [7900/160000]\tlr: 9.559e-03, eta: 1 day, 6:42:15, time: 0.727, data_time: 0.006, memory: 2073, decode.loss_ce: 0.1661, decode.acc_seg: 91.6116, aux_0.loss_ce: 0.1529, aux_0.acc_seg: 91.6116, aux_1.loss_ce: 0.1660, aux_1.acc_seg: 91.6116, aux_2.loss_ce: 0.0370, aux_2.loss_dice: 0.3282, aux_2.acc_seg: 99.2811, loss: 0.8503\n",
      "2022-03-28 17:39:59,810 - mmseg - INFO - Iter [7950/160000]\tlr: 9.556e-03, eta: 1 day, 6:41:40, time: 0.728, data_time: 0.006, memory: 2073, decode.loss_ce: 0.1605, decode.acc_seg: 91.1388, aux_0.loss_ce: 0.1605, aux_0.acc_seg: 91.1388, aux_1.loss_ce: 0.1612, aux_1.acc_seg: 91.1388, aux_2.loss_ce: 0.0420, aux_2.loss_dice: 0.3502, aux_2.acc_seg: 99.1876, loss: 0.8743\n",
      "2022-03-28 17:40:36,102 - mmseg - INFO - Iter [8000/160000]\tlr: 9.553e-03, eta: 1 day, 6:41:03, time: 0.726, data_time: 0.006, memory: 2073, decode.loss_ce: 0.1459, decode.acc_seg: 92.1247, aux_0.loss_ce: 0.1481, aux_0.acc_seg: 92.1247, aux_1.loss_ce: 0.1456, aux_1.acc_seg: 92.1247, aux_2.loss_ce: 0.0364, aux_2.loss_dice: 0.3485, aux_2.acc_seg: 99.2955, loss: 0.8245\n",
      "2022-03-28 17:41:12,498 - mmseg - INFO - Iter [8050/160000]\tlr: 9.551e-03, eta: 1 day, 6:40:28, time: 0.728, data_time: 0.006, memory: 2073, decode.loss_ce: 0.1540, decode.acc_seg: 91.4028, aux_0.loss_ce: 0.1573, aux_0.acc_seg: 91.4028, aux_1.loss_ce: 0.1568, aux_1.acc_seg: 91.4028, aux_2.loss_ce: 0.0392, aux_2.loss_dice: 0.3513, aux_2.acc_seg: 99.2468, loss: 0.8586\n",
      "2022-03-28 17:41:48,890 - mmseg - INFO - Iter [8100/160000]\tlr: 9.548e-03, eta: 1 day, 6:39:53, time: 0.728, data_time: 0.006, memory: 2073, decode.loss_ce: 0.1546, decode.acc_seg: 91.7851, aux_0.loss_ce: 0.1544, aux_0.acc_seg: 91.7851, aux_1.loss_ce: 0.1526, aux_1.acc_seg: 91.7851, aux_2.loss_ce: 0.0385, aux_2.loss_dice: 0.3505, aux_2.acc_seg: 99.2680, loss: 0.8506\n",
      "2022-03-28 17:42:25,284 - mmseg - INFO - Iter [8150/160000]\tlr: 9.545e-03, eta: 1 day, 6:39:18, time: 0.728, data_time: 0.005, memory: 2073, decode.loss_ce: 0.1498, decode.acc_seg: 92.0889, aux_0.loss_ce: 0.1481, aux_0.acc_seg: 92.0889, aux_1.loss_ce: 0.1527, aux_1.acc_seg: 92.0889, aux_2.loss_ce: 0.0386, aux_2.loss_dice: 0.3581, aux_2.acc_seg: 99.2674, loss: 0.8472\n",
      "2022-03-28 17:43:01,666 - mmseg - INFO - Iter [8200/160000]\tlr: 9.542e-03, eta: 1 day, 6:38:42, time: 0.727, data_time: 0.005, memory: 2073, decode.loss_ce: 0.1292, decode.acc_seg: 92.6655, aux_0.loss_ce: 0.1431, aux_0.acc_seg: 92.6655, aux_1.loss_ce: 0.1347, aux_1.acc_seg: 92.6655, aux_2.loss_ce: 0.0366, aux_2.loss_dice: 0.3177, aux_2.acc_seg: 99.3055, loss: 0.7614\n",
      "2022-03-28 17:43:38,033 - mmseg - INFO - Iter [8250/160000]\tlr: 9.539e-03, eta: 1 day, 6:38:06, time: 0.727, data_time: 0.005, memory: 2073, decode.loss_ce: 0.1454, decode.acc_seg: 92.1550, aux_0.loss_ce: 0.1369, aux_0.acc_seg: 92.1550, aux_1.loss_ce: 0.1405, aux_1.acc_seg: 92.1550, aux_2.loss_ce: 0.0360, aux_2.loss_dice: 0.3291, aux_2.acc_seg: 99.2998, loss: 0.7879\n",
      "2022-03-28 17:44:14,445 - mmseg - INFO - Iter [8300/160000]\tlr: 9.537e-03, eta: 1 day, 6:37:31, time: 0.728, data_time: 0.005, memory: 2073, decode.loss_ce: 0.1505, decode.acc_seg: 91.9728, aux_0.loss_ce: 0.1429, aux_0.acc_seg: 91.9728, aux_1.loss_ce: 0.1480, aux_1.acc_seg: 91.9728, aux_2.loss_ce: 0.0370, aux_2.loss_dice: 0.3321, aux_2.acc_seg: 99.2771, loss: 0.8105\n",
      "2022-03-28 17:44:50,815 - mmseg - INFO - Iter [8350/160000]\tlr: 9.534e-03, eta: 1 day, 6:36:55, time: 0.727, data_time: 0.005, memory: 2073, decode.loss_ce: 0.1584, decode.acc_seg: 91.3377, aux_0.loss_ce: 0.1665, aux_0.acc_seg: 91.3377, aux_1.loss_ce: 0.1631, aux_1.acc_seg: 91.3377, aux_2.loss_ce: 0.0392, aux_2.loss_dice: 0.3418, aux_2.acc_seg: 99.2312, loss: 0.8690\n"
     ]
    },
    {
     "name": "stderr",
     "output_type": "stream",
     "text": [
      "2022-03-28 17:45:29,806 - mmseg - INFO - Iter [8400/160000]\tlr: 9.531e-03, eta: 1 day, 6:37:07, time: 0.780, data_time: 0.060, memory: 2073, decode.loss_ce: 0.1544, decode.acc_seg: 91.6780, aux_0.loss_ce: 0.1556, aux_0.acc_seg: 91.6780, aux_1.loss_ce: 0.1562, aux_1.acc_seg: 91.6780, aux_2.loss_ce: 0.0385, aux_2.loss_dice: 0.3375, aux_2.acc_seg: 99.2477, loss: 0.8422\n",
      "2022-03-28 17:46:03,488 - mmseg - INFO - Iter [8450/160000]\tlr: 9.528e-03, eta: 1 day, 6:35:42, time: 0.673, data_time: 0.005, memory: 2073, decode.loss_ce: 0.1356, decode.acc_seg: 92.7255, aux_0.loss_ce: 0.1344, aux_0.acc_seg: 92.7255, aux_1.loss_ce: 0.1346, aux_1.acc_seg: 92.7255, aux_2.loss_ce: 0.0394, aux_2.loss_dice: 0.3754, aux_2.acc_seg: 99.2416, loss: 0.8194\n",
      "2022-03-28 17:46:39,868 - mmseg - INFO - Iter [8500/160000]\tlr: 9.525e-03, eta: 1 day, 6:35:07, time: 0.728, data_time: 0.006, memory: 2073, decode.loss_ce: 0.1520, decode.acc_seg: 91.5711, aux_0.loss_ce: 0.1525, aux_0.acc_seg: 91.5711, aux_1.loss_ce: 0.1548, aux_1.acc_seg: 91.5711, aux_2.loss_ce: 0.0390, aux_2.loss_dice: 0.3168, aux_2.acc_seg: 99.2280, loss: 0.8151\n",
      "2022-03-28 17:47:16,199 - mmseg - INFO - Iter [8550/160000]\tlr: 9.523e-03, eta: 1 day, 6:34:30, time: 0.727, data_time: 0.005, memory: 2073, decode.loss_ce: 0.1480, decode.acc_seg: 92.0741, aux_0.loss_ce: 0.1449, aux_0.acc_seg: 92.0741, aux_1.loss_ce: 0.1429, aux_1.acc_seg: 92.0741, aux_2.loss_ce: 0.0376, aux_2.loss_dice: 0.3418, aux_2.acc_seg: 99.2754, loss: 0.8152\n",
      "2022-03-28 17:47:52,578 - mmseg - INFO - Iter [8600/160000]\tlr: 9.520e-03, eta: 1 day, 6:33:55, time: 0.728, data_time: 0.005, memory: 2073, decode.loss_ce: 0.1447, decode.acc_seg: 92.0780, aux_0.loss_ce: 0.1501, aux_0.acc_seg: 92.0780, aux_1.loss_ce: 0.1447, aux_1.acc_seg: 92.0780, aux_2.loss_ce: 0.0384, aux_2.loss_dice: 0.3357, aux_2.acc_seg: 99.2488, loss: 0.8136\n",
      "2022-03-28 17:48:29,012 - mmseg - INFO - Iter [8650/160000]\tlr: 9.517e-03, eta: 1 day, 6:33:20, time: 0.728, data_time: 0.005, memory: 2073, decode.loss_ce: 0.1673, decode.acc_seg: 90.8929, aux_0.loss_ce: 0.1670, aux_0.acc_seg: 90.8929, aux_1.loss_ce: 0.1681, aux_1.acc_seg: 90.8929, aux_2.loss_ce: 0.0406, aux_2.loss_dice: 0.3292, aux_2.acc_seg: 99.2192, loss: 0.8722\n",
      "2022-03-28 17:49:05,342 - mmseg - INFO - Iter [8700/160000]\tlr: 9.514e-03, eta: 1 day, 6:32:44, time: 0.727, data_time: 0.006, memory: 2073, decode.loss_ce: 0.1469, decode.acc_seg: 91.8085, aux_0.loss_ce: 0.1437, aux_0.acc_seg: 91.8085, aux_1.loss_ce: 0.1514, aux_1.acc_seg: 91.8085, aux_2.loss_ce: 0.0372, aux_2.loss_dice: 0.3356, aux_2.acc_seg: 99.2801, loss: 0.8149\n",
      "2022-03-28 17:49:41,665 - mmseg - INFO - Iter [8750/160000]\tlr: 9.511e-03, eta: 1 day, 6:32:07, time: 0.726, data_time: 0.005, memory: 2073, decode.loss_ce: 0.1446, decode.acc_seg: 92.0152, aux_0.loss_ce: 0.1510, aux_0.acc_seg: 92.0152, aux_1.loss_ce: 0.1442, aux_1.acc_seg: 92.0152, aux_2.loss_ce: 0.0390, aux_2.loss_dice: 0.3404, aux_2.acc_seg: 99.2361, loss: 0.8191\n",
      "2022-03-28 17:50:17,993 - mmseg - INFO - Iter [8800/160000]\tlr: 9.509e-03, eta: 1 day, 6:31:30, time: 0.727, data_time: 0.006, memory: 2073, decode.loss_ce: 0.1355, decode.acc_seg: 92.6862, aux_0.loss_ce: 0.1370, aux_0.acc_seg: 92.6862, aux_1.loss_ce: 0.1382, aux_1.acc_seg: 92.6862, aux_2.loss_ce: 0.0351, aux_2.loss_dice: 0.3282, aux_2.acc_seg: 99.3243, loss: 0.7740\n",
      "2022-03-28 17:50:54,239 - mmseg - INFO - Iter [8850/160000]\tlr: 9.506e-03, eta: 1 day, 6:30:52, time: 0.725, data_time: 0.006, memory: 2073, decode.loss_ce: 0.1516, decode.acc_seg: 91.7326, aux_0.loss_ce: 0.1479, aux_0.acc_seg: 91.7326, aux_1.loss_ce: 0.1480, aux_1.acc_seg: 91.7326, aux_2.loss_ce: 0.0372, aux_2.loss_dice: 0.3454, aux_2.acc_seg: 99.2625, loss: 0.8301\n",
      "2022-03-28 17:51:30,528 - mmseg - INFO - Iter [8900/160000]\tlr: 9.503e-03, eta: 1 day, 6:30:15, time: 0.726, data_time: 0.006, memory: 2073, decode.loss_ce: 0.1697, decode.acc_seg: 90.7695, aux_0.loss_ce: 0.1698, aux_0.acc_seg: 90.7695, aux_1.loss_ce: 0.1701, aux_1.acc_seg: 90.7695, aux_2.loss_ce: 0.0400, aux_2.loss_dice: 0.3329, aux_2.acc_seg: 99.2071, loss: 0.8825\n",
      "2022-03-28 17:52:06,901 - mmseg - INFO - Iter [8950/160000]\tlr: 9.500e-03, eta: 1 day, 6:29:39, time: 0.727, data_time: 0.005, memory: 2073, decode.loss_ce: 0.1352, decode.acc_seg: 92.8230, aux_0.loss_ce: 0.1321, aux_0.acc_seg: 92.8230, aux_1.loss_ce: 0.1309, aux_1.acc_seg: 92.8230, aux_2.loss_ce: 0.0343, aux_2.loss_dice: 0.3131, aux_2.acc_seg: 99.3348, loss: 0.7455\n",
      "2022-03-28 17:52:43,268 - mmseg - INFO - Iter [9000/160000]\tlr: 9.497e-03, eta: 1 day, 6:29:04, time: 0.727, data_time: 0.005, memory: 2073, decode.loss_ce: 0.1467, decode.acc_seg: 91.9910, aux_0.loss_ce: 0.1494, aux_0.acc_seg: 91.9910, aux_1.loss_ce: 0.1515, aux_1.acc_seg: 91.9910, aux_2.loss_ce: 0.0376, aux_2.loss_dice: 0.3463, aux_2.acc_seg: 99.2696, loss: 0.8314\n",
      "2022-03-28 17:53:22,198 - mmseg - INFO - Iter [9050/160000]\tlr: 9.495e-03, eta: 1 day, 6:29:10, time: 0.778, data_time: 0.056, memory: 2073, decode.loss_ce: 0.1539, decode.acc_seg: 91.7431, aux_0.loss_ce: 0.1508, aux_0.acc_seg: 91.7431, aux_1.loss_ce: 0.1518, aux_1.acc_seg: 91.7431, aux_2.loss_ce: 0.0376, aux_2.loss_dice: 0.3162, aux_2.acc_seg: 99.2528, loss: 0.8103\n",
      "2022-03-28 17:53:55,925 - mmseg - INFO - Iter [9100/160000]\tlr: 9.492e-03, eta: 1 day, 6:27:51, time: 0.675, data_time: 0.006, memory: 2073, decode.loss_ce: 0.1393, decode.acc_seg: 92.5171, aux_0.loss_ce: 0.1462, aux_0.acc_seg: 92.5171, aux_1.loss_ce: 0.1363, aux_1.acc_seg: 92.5171, aux_2.loss_ce: 0.0358, aux_2.loss_dice: 0.3282, aux_2.acc_seg: 99.3044, loss: 0.7859\n",
      "2022-03-28 17:54:32,308 - mmseg - INFO - Iter [9150/160000]\tlr: 9.489e-03, eta: 1 day, 6:27:15, time: 0.727, data_time: 0.005, memory: 2073, decode.loss_ce: 0.1366, decode.acc_seg: 92.3889, aux_0.loss_ce: 0.1386, aux_0.acc_seg: 92.3889, aux_1.loss_ce: 0.1398, aux_1.acc_seg: 92.3889, aux_2.loss_ce: 0.0378, aux_2.loss_dice: 0.3589, aux_2.acc_seg: 99.2797, loss: 0.8118\n",
      "2022-03-28 17:55:08,640 - mmseg - INFO - Iter [9200/160000]\tlr: 9.486e-03, eta: 1 day, 6:26:39, time: 0.727, data_time: 0.005, memory: 2073, decode.loss_ce: 0.1402, decode.acc_seg: 92.2962, aux_0.loss_ce: 0.1388, aux_0.acc_seg: 92.2962, aux_1.loss_ce: 0.1441, aux_1.acc_seg: 92.2962, aux_2.loss_ce: 0.0384, aux_2.loss_dice: 0.3399, aux_2.acc_seg: 99.2397, loss: 0.8013\n",
      "2022-03-28 17:55:45,073 - mmseg - INFO - Iter [9250/160000]\tlr: 9.483e-03, eta: 1 day, 6:26:04, time: 0.729, data_time: 0.005, memory: 2073, decode.loss_ce: 0.1385, decode.acc_seg: 92.7742, aux_0.loss_ce: 0.1352, aux_0.acc_seg: 92.7742, aux_1.loss_ce: 0.1357, aux_1.acc_seg: 92.7742, aux_2.loss_ce: 0.0376, aux_2.loss_dice: 0.3431, aux_2.acc_seg: 99.2593, loss: 0.7900\n",
      "2022-03-28 17:56:21,405 - mmseg - INFO - Iter [9300/160000]\tlr: 9.481e-03, eta: 1 day, 6:25:27, time: 0.727, data_time: 0.005, memory: 2073, decode.loss_ce: 0.1534, decode.acc_seg: 91.5189, aux_0.loss_ce: 0.1543, aux_0.acc_seg: 91.5189, aux_1.loss_ce: 0.1545, aux_1.acc_seg: 91.5189, aux_2.loss_ce: 0.0371, aux_2.loss_dice: 0.3349, aux_2.acc_seg: 99.2713, loss: 0.8342\n",
      "2022-03-28 17:56:49,970 - mmseg - INFO - Iter [9350/160000]\tlr: 9.478e-03, eta: 1 day, 6:22:45, time: 0.571, data_time: 0.005, memory: 2073, decode.loss_ce: 0.1605, decode.acc_seg: 90.8024, aux_0.loss_ce: 0.1649, aux_0.acc_seg: 90.8024, aux_1.loss_ce: 0.1646, aux_1.acc_seg: 90.8024, aux_2.loss_ce: 0.0411, aux_2.loss_dice: 0.3414, aux_2.acc_seg: 99.1841, loss: 0.8724\n",
      "2022-03-28 17:57:26,255 - mmseg - INFO - Iter [9400/160000]\tlr: 9.475e-03, eta: 1 day, 6:22:09, time: 0.726, data_time: 0.006, memory: 2073, decode.loss_ce: 0.1512, decode.acc_seg: 91.9333, aux_0.loss_ce: 0.1475, aux_0.acc_seg: 91.9333, aux_1.loss_ce: 0.1485, aux_1.acc_seg: 91.9333, aux_2.loss_ce: 0.0373, aux_2.loss_dice: 0.3389, aux_2.acc_seg: 99.2817, loss: 0.8233\n",
      "2022-03-28 17:58:02,544 - mmseg - INFO - Iter [9450/160000]\tlr: 9.472e-03, eta: 1 day, 6:21:33, time: 0.727, data_time: 0.006, memory: 2073, decode.loss_ce: 0.1367, decode.acc_seg: 92.3966, aux_0.loss_ce: 0.1351, aux_0.acc_seg: 92.3966, aux_1.loss_ce: 0.1355, aux_1.acc_seg: 92.3966, aux_2.loss_ce: 0.0364, aux_2.loss_dice: 0.3372, aux_2.acc_seg: 99.2912, loss: 0.7810\n",
      "2022-03-28 17:58:38,915 - mmseg - INFO - Iter [9500/160000]\tlr: 9.469e-03, eta: 1 day, 6:20:58, time: 0.727, data_time: 0.005, memory: 2073, decode.loss_ce: 0.1300, decode.acc_seg: 92.7614, aux_0.loss_ce: 0.1317, aux_0.acc_seg: 92.7614, aux_1.loss_ce: 0.1303, aux_1.acc_seg: 92.7614, aux_2.loss_ce: 0.0371, aux_2.loss_dice: 0.3410, aux_2.acc_seg: 99.2838, loss: 0.7701\n"
     ]
    },
    {
     "name": "stderr",
     "output_type": "stream",
     "text": [
      "2022-03-28 17:59:15,257 - mmseg - INFO - Iter [9550/160000]\tlr: 9.467e-03, eta: 1 day, 6:20:22, time: 0.727, data_time: 0.005, memory: 2073, decode.loss_ce: 0.1580, decode.acc_seg: 91.2678, aux_0.loss_ce: 0.1553, aux_0.acc_seg: 91.2678, aux_1.loss_ce: 0.1592, aux_1.acc_seg: 91.2678, aux_2.loss_ce: 0.0404, aux_2.loss_dice: 0.3453, aux_2.acc_seg: 99.1903, loss: 0.8582\n",
      "2022-03-28 17:59:51,637 - mmseg - INFO - Iter [9600/160000]\tlr: 9.464e-03, eta: 1 day, 6:19:47, time: 0.727, data_time: 0.005, memory: 2073, decode.loss_ce: 0.1992, decode.acc_seg: 89.6200, aux_0.loss_ce: 0.1992, aux_0.acc_seg: 89.6190, aux_1.loss_ce: 0.1950, aux_1.acc_seg: 89.6190, aux_2.loss_ce: 0.0434, aux_2.loss_dice: 0.3882, aux_2.acc_seg: 99.1750, loss: 1.0250\n",
      "2022-03-28 18:00:28,025 - mmseg - INFO - Iter [9650/160000]\tlr: 9.461e-03, eta: 1 day, 6:19:12, time: 0.728, data_time: 0.006, memory: 2073, decode.loss_ce: 0.1327, decode.acc_seg: 92.6720, aux_0.loss_ce: 0.1337, aux_0.acc_seg: 92.6720, aux_1.loss_ce: 0.1338, aux_1.acc_seg: 92.6720, aux_2.loss_ce: 0.0373, aux_2.loss_dice: 0.3473, aux_2.acc_seg: 99.3019, loss: 0.7848\n",
      "2022-03-28 18:01:04,428 - mmseg - INFO - Iter [9700/160000]\tlr: 9.458e-03, eta: 1 day, 6:18:37, time: 0.728, data_time: 0.005, memory: 2073, decode.loss_ce: 0.1520, decode.acc_seg: 91.7763, aux_0.loss_ce: 0.1520, aux_0.acc_seg: 91.7763, aux_1.loss_ce: 0.1512, aux_1.acc_seg: 91.7763, aux_2.loss_ce: 0.0412, aux_2.loss_dice: 0.3489, aux_2.acc_seg: 99.2571, loss: 0.8453\n",
      "2022-03-28 18:01:43,192 - mmseg - INFO - Iter [9750/160000]\tlr: 9.455e-03, eta: 1 day, 6:18:39, time: 0.776, data_time: 0.057, memory: 2073, decode.loss_ce: 0.1629, decode.acc_seg: 91.2995, aux_0.loss_ce: 0.1622, aux_0.acc_seg: 91.2995, aux_1.loss_ce: 0.1694, aux_1.acc_seg: 91.2995, aux_2.loss_ce: 0.0378, aux_2.loss_dice: 0.3335, aux_2.acc_seg: 99.2749, loss: 0.8658\n",
      "2022-03-28 18:02:16,956 - mmseg - INFO - Iter [9800/160000]\tlr: 9.453e-03, eta: 1 day, 6:17:24, time: 0.675, data_time: 0.005, memory: 2073, decode.loss_ce: 0.1439, decode.acc_seg: 91.8125, aux_0.loss_ce: 0.1473, aux_0.acc_seg: 91.8125, aux_1.loss_ce: 0.1425, aux_1.acc_seg: 91.8125, aux_2.loss_ce: 0.0412, aux_2.loss_dice: 0.3591, aux_2.acc_seg: 99.2150, loss: 0.8340\n",
      "2022-03-28 18:02:53,307 - mmseg - INFO - Iter [9850/160000]\tlr: 9.450e-03, eta: 1 day, 6:16:48, time: 0.727, data_time: 0.005, memory: 2073, decode.loss_ce: 0.1717, decode.acc_seg: 90.7718, aux_0.loss_ce: 0.1721, aux_0.acc_seg: 90.7718, aux_1.loss_ce: 0.1724, aux_1.acc_seg: 90.7718, aux_2.loss_ce: 0.0388, aux_2.loss_dice: 0.3466, aux_2.acc_seg: 99.2502, loss: 0.9015\n",
      "2022-03-28 18:03:29,748 - mmseg - INFO - Iter [9900/160000]\tlr: 9.447e-03, eta: 1 day, 6:16:14, time: 0.729, data_time: 0.005, memory: 2073, decode.loss_ce: 0.1106, decode.acc_seg: 93.9037, aux_0.loss_ce: 0.1142, aux_0.acc_seg: 93.9037, aux_1.loss_ce: 0.1126, aux_1.acc_seg: 93.9037, aux_2.loss_ce: 0.0360, aux_2.loss_dice: 0.3405, aux_2.acc_seg: 99.3076, loss: 0.7139\n",
      "2022-03-28 18:04:06,174 - mmseg - INFO - Iter [9950/160000]\tlr: 9.444e-03, eta: 1 day, 6:15:40, time: 0.729, data_time: 0.005, memory: 2073, decode.loss_ce: 0.1709, decode.acc_seg: 91.1559, aux_0.loss_ce: 0.1591, aux_0.acc_seg: 91.1559, aux_1.loss_ce: 0.1680, aux_1.acc_seg: 91.1559, aux_2.loss_ce: 0.0388, aux_2.loss_dice: 0.3255, aux_2.acc_seg: 99.2435, loss: 0.8623\n",
      "2022-03-28 18:04:42,412 - mmseg - INFO - Saving checkpoint at 10000 iterations\n",
      "2022-03-28 18:04:42,626 - mmseg - INFO - Iter [10000/160000]\tlr: 9.441e-03, eta: 1 day, 6:15:07, time: 0.731, data_time: 0.005, memory: 2073, decode.loss_ce: 0.1382, decode.acc_seg: 92.4353, aux_0.loss_ce: 0.1474, aux_0.acc_seg: 92.4353, aux_1.loss_ce: 0.1373, aux_1.acc_seg: 92.4353, aux_2.loss_ce: 0.0368, aux_2.loss_dice: 0.3451, aux_2.acc_seg: 99.2996, loss: 0.8047\n"
     ]
    },
    {
     "name": "stdout",
     "output_type": "stream",
     "text": [
      "[>>>>>>>>>>>>>>>>>>>>>>>>>>>>>] 610/610, 26.9 task/s, elapsed: 23s, ETA:     0s"
     ]
    },
    {
     "name": "stderr",
     "output_type": "stream",
     "text": [
      "2022-03-28 18:05:05,396 - mmseg - INFO - per class results:\n",
      "2022-03-28 18:05:05,396 - mmseg - INFO - \n",
      "+------------+-------+-------+\n",
      "|   Class    |  IoU  |  Acc  |\n",
      "+------------+-------+-------+\n",
      "| background | 94.83 | 100.0 |\n",
      "|   human    |  0.0  |  0.0  |\n",
      "+------------+-------+-------+\n",
      "2022-03-28 18:05:05,397 - mmseg - INFO - Summary:\n",
      "2022-03-28 18:05:05,397 - mmseg - INFO - \n",
      "+-------+-------+------+\n",
      "|  aAcc |  mIoU | mAcc |\n",
      "+-------+-------+------+\n",
      "| 94.83 | 47.41 | 50.0 |\n",
      "+-------+-------+------+\n",
      "2022-03-28 18:05:05,400 - mmseg - INFO - Iter(val) [610]\taAcc: 0.9483, mIoU: 0.4741, mAcc: 0.5000, IoU.background: 0.9483, IoU.human: 0.0000, Acc.background: 1.0000, Acc.human: 0.0000\n",
      "2022-03-28 18:05:41,773 - mmseg - INFO - Iter [10050/160000]\tlr: 9.439e-03, eta: 1 day, 6:20:10, time: 1.181, data_time: 0.459, memory: 2073, decode.loss_ce: 0.1349, decode.acc_seg: 92.4559, aux_0.loss_ce: 0.1370, aux_0.acc_seg: 92.4559, aux_1.loss_ce: 0.1413, aux_1.acc_seg: 92.4559, aux_2.loss_ce: 0.0356, aux_2.loss_dice: 0.3359, aux_2.acc_seg: 99.3180, loss: 0.7846\n",
      "2022-03-28 18:06:18,290 - mmseg - INFO - Iter [10100/160000]\tlr: 9.436e-03, eta: 1 day, 6:19:35, time: 0.730, data_time: 0.006, memory: 2073, decode.loss_ce: 0.1467, decode.acc_seg: 92.0826, aux_0.loss_ce: 0.1463, aux_0.acc_seg: 92.0826, aux_1.loss_ce: 0.1444, aux_1.acc_seg: 92.0826, aux_2.loss_ce: 0.0391, aux_2.loss_dice: 0.3349, aux_2.acc_seg: 99.2346, loss: 0.8115\n",
      "2022-03-28 18:06:54,654 - mmseg - INFO - Iter [10150/160000]\tlr: 9.433e-03, eta: 1 day, 6:18:57, time: 0.727, data_time: 0.006, memory: 2073, decode.loss_ce: 0.1393, decode.acc_seg: 92.3376, aux_0.loss_ce: 0.1368, aux_0.acc_seg: 92.3376, aux_1.loss_ce: 0.1357, aux_1.acc_seg: 92.3376, aux_2.loss_ce: 0.0378, aux_2.loss_dice: 0.3443, aux_2.acc_seg: 99.2674, loss: 0.7938\n",
      "2022-03-28 18:07:30,936 - mmseg - INFO - Iter [10200/160000]\tlr: 9.430e-03, eta: 1 day, 6:18:19, time: 0.726, data_time: 0.006, memory: 2073, decode.loss_ce: 0.1535, decode.acc_seg: 91.5055, aux_0.loss_ce: 0.1547, aux_0.acc_seg: 91.5052, aux_1.loss_ce: 0.1560, aux_1.acc_seg: 91.5052, aux_2.loss_ce: 0.0402, aux_2.loss_dice: 0.3444, aux_2.acc_seg: 99.2436, loss: 0.8489\n",
      "2022-03-28 18:08:07,251 - mmseg - INFO - Iter [10250/160000]\tlr: 9.427e-03, eta: 1 day, 6:17:42, time: 0.727, data_time: 0.006, memory: 2073, decode.loss_ce: 0.1597, decode.acc_seg: 91.1442, aux_0.loss_ce: 0.1592, aux_0.acc_seg: 91.1447, aux_1.loss_ce: 0.1565, aux_1.acc_seg: 91.1447, aux_2.loss_ce: 0.0403, aux_2.loss_dice: 0.3331, aux_2.acc_seg: 99.2230, loss: 0.8488\n",
      "2022-03-28 18:08:43,680 - mmseg - INFO - Iter [10300/160000]\tlr: 9.425e-03, eta: 1 day, 6:17:05, time: 0.729, data_time: 0.005, memory: 2073, decode.loss_ce: 0.1391, decode.acc_seg: 92.3977, aux_0.loss_ce: 0.1415, aux_0.acc_seg: 92.3952, aux_1.loss_ce: 0.1401, aux_1.acc_seg: 92.3952, aux_2.loss_ce: 0.0391, aux_2.loss_dice: 0.3230, aux_2.acc_seg: 99.2501, loss: 0.7828\n",
      "2022-03-28 18:09:20,026 - mmseg - INFO - Iter [10350/160000]\tlr: 9.422e-03, eta: 1 day, 6:16:28, time: 0.727, data_time: 0.005, memory: 2073, decode.loss_ce: 0.1570, decode.acc_seg: 91.6132, aux_0.loss_ce: 0.1548, aux_0.acc_seg: 91.6056, aux_1.loss_ce: 0.1605, aux_1.acc_seg: 91.6057, aux_2.loss_ce: 0.0388, aux_2.loss_dice: 0.3321, aux_2.acc_seg: 99.2461, loss: 0.8432\n",
      "2022-03-28 18:09:53,796 - mmseg - INFO - Iter [10400/160000]\tlr: 9.419e-03, eta: 1 day, 6:15:13, time: 0.675, data_time: 0.006, memory: 2073, decode.loss_ce: 0.1378, decode.acc_seg: 92.4872, aux_0.loss_ce: 0.1354, aux_0.acc_seg: 92.4850, aux_1.loss_ce: 0.1361, aux_1.acc_seg: 92.4886, aux_2.loss_ce: 0.0365, aux_2.loss_dice: 0.3415, aux_2.acc_seg: 99.2936, loss: 0.7874\n",
      "2022-03-28 18:10:32,781 - mmseg - INFO - Iter [10450/160000]\tlr: 9.416e-03, eta: 1 day, 6:15:14, time: 0.779, data_time: 0.058, memory: 2073, decode.loss_ce: 0.1608, decode.acc_seg: 91.1773, aux_0.loss_ce: 0.1592, aux_0.acc_seg: 91.1773, aux_1.loss_ce: 0.1614, aux_1.acc_seg: 91.1773, aux_2.loss_ce: 0.0375, aux_2.loss_dice: 0.3337, aux_2.acc_seg: 99.2725, loss: 0.8525\n",
      "2022-03-28 18:11:09,047 - mmseg - INFO - Iter [10500/160000]\tlr: 9.413e-03, eta: 1 day, 6:14:36, time: 0.726, data_time: 0.006, memory: 2073, decode.loss_ce: 0.1578, decode.acc_seg: 91.4480, aux_0.loss_ce: 0.1623, aux_0.acc_seg: 91.4481, aux_1.loss_ce: 0.1572, aux_1.acc_seg: 91.4481, aux_2.loss_ce: 0.0383, aux_2.loss_dice: 0.3530, aux_2.acc_seg: 99.2710, loss: 0.8686\n",
      "2022-03-28 18:11:45,407 - mmseg - INFO - Iter [10550/160000]\tlr: 9.411e-03, eta: 1 day, 6:13:59, time: 0.727, data_time: 0.006, memory: 2073, decode.loss_ce: 0.1597, decode.acc_seg: 91.3883, aux_0.loss_ce: 0.1577, aux_0.acc_seg: 91.3877, aux_1.loss_ce: 0.1606, aux_1.acc_seg: 91.3925, aux_2.loss_ce: 0.0410, aux_2.loss_dice: 0.3502, aux_2.acc_seg: 99.1862, loss: 0.8691\n",
      "2022-03-28 18:12:21,778 - mmseg - INFO - Iter [10600/160000]\tlr: 9.408e-03, eta: 1 day, 6:13:21, time: 0.727, data_time: 0.005, memory: 2073, decode.loss_ce: 0.1444, decode.acc_seg: 92.2385, aux_0.loss_ce: 0.1423, aux_0.acc_seg: 92.2463, aux_1.loss_ce: 0.1395, aux_1.acc_seg: 92.2515, aux_2.loss_ce: 0.0366, aux_2.loss_dice: 0.3150, aux_2.acc_seg: 99.2930, loss: 0.7779\n",
      "2022-03-28 18:12:58,164 - mmseg - INFO - Iter [10650/160000]\tlr: 9.405e-03, eta: 1 day, 6:12:45, time: 0.728, data_time: 0.006, memory: 2073, decode.loss_ce: 0.1323, decode.acc_seg: 92.7033, aux_0.loss_ce: 0.1355, aux_0.acc_seg: 92.7029, aux_1.loss_ce: 0.1373, aux_1.acc_seg: 92.7029, aux_2.loss_ce: 0.0361, aux_2.loss_dice: 0.3290, aux_2.acc_seg: 99.3072, loss: 0.7704\n",
      "2022-03-28 18:13:34,550 - mmseg - INFO - Iter [10700/160000]\tlr: 9.402e-03, eta: 1 day, 6:12:08, time: 0.728, data_time: 0.005, memory: 2073, decode.loss_ce: 0.1616, decode.acc_seg: 91.0046, aux_0.loss_ce: 0.1604, aux_0.acc_seg: 91.0051, aux_1.loss_ce: 0.1621, aux_1.acc_seg: 91.0051, aux_2.loss_ce: 0.0381, aux_2.loss_dice: 0.3337, aux_2.acc_seg: 99.2654, loss: 0.8558\n",
      "2022-03-28 18:14:10,961 - mmseg - INFO - Iter [10750/160000]\tlr: 9.399e-03, eta: 1 day, 6:11:31, time: 0.728, data_time: 0.006, memory: 2073, decode.loss_ce: 0.1586, decode.acc_seg: 91.7656, aux_0.loss_ce: 0.1557, aux_0.acc_seg: 91.7685, aux_1.loss_ce: 0.1582, aux_1.acc_seg: 91.7627, aux_2.loss_ce: 0.0392, aux_2.loss_dice: 0.3310, aux_2.acc_seg: 99.2429, loss: 0.8427\n",
      "2022-03-28 18:14:47,278 - mmseg - INFO - Iter [10800/160000]\tlr: 9.397e-03, eta: 1 day, 6:10:54, time: 0.726, data_time: 0.005, memory: 2073, decode.loss_ce: 0.1307, decode.acc_seg: 92.8731, aux_0.loss_ce: 0.1349, aux_0.acc_seg: 92.8731, aux_1.loss_ce: 0.1320, aux_1.acc_seg: 92.8732, aux_2.loss_ce: 0.0360, aux_2.loss_dice: 0.3273, aux_2.acc_seg: 99.2826, loss: 0.7609\n",
      "2022-03-28 18:15:23,691 - mmseg - INFO - Iter [10850/160000]\tlr: 9.394e-03, eta: 1 day, 6:10:17, time: 0.728, data_time: 0.005, memory: 2073, decode.loss_ce: 0.1526, decode.acc_seg: 91.4114, aux_0.loss_ce: 0.1548, aux_0.acc_seg: 91.4138, aux_1.loss_ce: 0.1531, aux_1.acc_seg: 91.4181, aux_2.loss_ce: 0.0379, aux_2.loss_dice: 0.3248, aux_2.acc_seg: 99.2581, loss: 0.8232\n",
      "2022-03-28 18:16:00,005 - mmseg - INFO - Iter [10900/160000]\tlr: 9.391e-03, eta: 1 day, 6:09:39, time: 0.726, data_time: 0.005, memory: 2073, decode.loss_ce: 0.1200, decode.acc_seg: 93.4063, aux_0.loss_ce: 0.1186, aux_0.acc_seg: 93.4063, aux_1.loss_ce: 0.1193, aux_1.acc_seg: 93.4063, aux_2.loss_ce: 0.0360, aux_2.loss_dice: 0.3174, aux_2.acc_seg: 99.2842, loss: 0.7113\n",
      "2022-03-28 18:16:36,390 - mmseg - INFO - Iter [10950/160000]\tlr: 9.388e-03, eta: 1 day, 6:09:03, time: 0.728, data_time: 0.006, memory: 2073, decode.loss_ce: 0.1746, decode.acc_seg: 90.4752, aux_0.loss_ce: 0.1766, aux_0.acc_seg: 90.4893, aux_1.loss_ce: 0.1754, aux_1.acc_seg: 90.4695, aux_2.loss_ce: 0.0405, aux_2.loss_dice: 0.3555, aux_2.acc_seg: 99.2401, loss: 0.9226\n",
      "2022-03-28 18:17:12,821 - mmseg - INFO - Iter [11000/160000]\tlr: 9.385e-03, eta: 1 day, 6:08:26, time: 0.728, data_time: 0.005, memory: 2073, decode.loss_ce: 0.1503, decode.acc_seg: 91.9752, aux_0.loss_ce: 0.1462, aux_0.acc_seg: 91.9692, aux_1.loss_ce: 0.1496, aux_1.acc_seg: 91.9734, aux_2.loss_ce: 0.0364, aux_2.loss_dice: 0.3514, aux_2.acc_seg: 99.2989, loss: 0.8340\n",
      "2022-03-28 18:17:46,441 - mmseg - INFO - Iter [11050/160000]\tlr: 9.383e-03, eta: 1 day, 6:07:13, time: 0.673, data_time: 0.006, memory: 2073, decode.loss_ce: 0.1426, decode.acc_seg: 92.3006, aux_0.loss_ce: 0.1426, aux_0.acc_seg: 92.3006, aux_1.loss_ce: 0.1458, aux_1.acc_seg: 92.3006, aux_2.loss_ce: 0.0366, aux_2.loss_dice: 0.3202, aux_2.acc_seg: 99.2783, loss: 0.7878\n"
     ]
    },
    {
     "name": "stderr",
     "output_type": "stream",
     "text": [
      "2022-03-28 18:18:22,835 - mmseg - INFO - Iter [11100/160000]\tlr: 9.380e-03, eta: 1 day, 6:06:36, time: 0.728, data_time: 0.005, memory: 2073, decode.loss_ce: 0.1462, decode.acc_seg: 91.6009, aux_0.loss_ce: 0.1487, aux_0.acc_seg: 91.6037, aux_1.loss_ce: 0.1443, aux_1.acc_seg: 91.5959, aux_2.loss_ce: 0.0392, aux_2.loss_dice: 0.3314, aux_2.acc_seg: 99.2274, loss: 0.8099\n",
      "2022-03-28 18:19:01,823 - mmseg - INFO - Iter [11150/160000]\tlr: 9.377e-03, eta: 1 day, 6:06:34, time: 0.780, data_time: 0.058, memory: 2073, decode.loss_ce: 0.1622, decode.acc_seg: 91.4506, aux_0.loss_ce: 0.1593, aux_0.acc_seg: 91.4510, aux_1.loss_ce: 0.1582, aux_1.acc_seg: 91.4510, aux_2.loss_ce: 0.0378, aux_2.loss_dice: 0.3250, aux_2.acc_seg: 99.2605, loss: 0.8425\n",
      "2022-03-28 18:19:38,272 - mmseg - INFO - Iter [11200/160000]\tlr: 9.374e-03, eta: 1 day, 6:05:58, time: 0.729, data_time: 0.005, memory: 2073, decode.loss_ce: 0.1415, decode.acc_seg: 92.3060, aux_0.loss_ce: 0.1413, aux_0.acc_seg: 92.3073, aux_1.loss_ce: 0.1438, aux_1.acc_seg: 92.3073, aux_2.loss_ce: 0.0352, aux_2.loss_dice: 0.3324, aux_2.acc_seg: 99.3181, loss: 0.7942\n",
      "2022-03-28 18:20:14,612 - mmseg - INFO - Iter [11250/160000]\tlr: 9.371e-03, eta: 1 day, 6:05:21, time: 0.727, data_time: 0.005, memory: 2073, decode.loss_ce: 0.1692, decode.acc_seg: 90.7643, aux_0.loss_ce: 0.1643, aux_0.acc_seg: 90.7610, aux_1.loss_ce: 0.1710, aux_1.acc_seg: 90.7729, aux_2.loss_ce: 0.0399, aux_2.loss_dice: 0.3409, aux_2.acc_seg: 99.2089, loss: 0.8853\n",
      "2022-03-28 18:20:50,977 - mmseg - INFO - Iter [11300/160000]\tlr: 9.369e-03, eta: 1 day, 6:04:44, time: 0.727, data_time: 0.005, memory: 2073, decode.loss_ce: 0.1504, decode.acc_seg: 91.7348, aux_0.loss_ce: 0.1615, aux_0.acc_seg: 91.7456, aux_1.loss_ce: 0.1542, aux_1.acc_seg: 91.7450, aux_2.loss_ce: 0.0421, aux_2.loss_dice: 0.3727, aux_2.acc_seg: 99.2026, loss: 0.8810\n",
      "2022-03-28 18:21:27,384 - mmseg - INFO - Iter [11350/160000]\tlr: 9.366e-03, eta: 1 day, 6:04:07, time: 0.727, data_time: 0.005, memory: 2073, decode.loss_ce: 0.1316, decode.acc_seg: 92.8489, aux_0.loss_ce: 0.1314, aux_0.acc_seg: 92.8489, aux_1.loss_ce: 0.1313, aux_1.acc_seg: 92.8489, aux_2.loss_ce: 0.0366, aux_2.loss_dice: 0.3534, aux_2.acc_seg: 99.2705, loss: 0.7843\n",
      "2022-03-28 18:22:03,734 - mmseg - INFO - Iter [11400/160000]\tlr: 9.363e-03, eta: 1 day, 6:03:30, time: 0.727, data_time: 0.006, memory: 2073, decode.loss_ce: 0.1365, decode.acc_seg: 92.5370, aux_0.loss_ce: 0.1338, aux_0.acc_seg: 92.5430, aux_1.loss_ce: 0.1371, aux_1.acc_seg: 92.5316, aux_2.loss_ce: 0.0377, aux_2.loss_dice: 0.3457, aux_2.acc_seg: 99.2433, loss: 0.7907\n",
      "2022-03-28 18:22:40,046 - mmseg - INFO - Iter [11450/160000]\tlr: 9.360e-03, eta: 1 day, 6:02:53, time: 0.727, data_time: 0.006, memory: 2073, decode.loss_ce: 0.1739, decode.acc_seg: 90.5407, aux_0.loss_ce: 0.1731, aux_0.acc_seg: 90.5346, aux_1.loss_ce: 0.1710, aux_1.acc_seg: 90.5398, aux_2.loss_ce: 0.0400, aux_2.loss_dice: 0.3438, aux_2.acc_seg: 99.2136, loss: 0.9018\n",
      "2022-03-28 18:23:16,403 - mmseg - INFO - Iter [11500/160000]\tlr: 9.357e-03, eta: 1 day, 6:02:16, time: 0.727, data_time: 0.005, memory: 2073, decode.loss_ce: 0.1577, decode.acc_seg: 91.2624, aux_0.loss_ce: 0.1579, aux_0.acc_seg: 91.2663, aux_1.loss_ce: 0.1576, aux_1.acc_seg: 91.2649, aux_2.loss_ce: 0.0420, aux_2.loss_dice: 0.3547, aux_2.acc_seg: 99.1742, loss: 0.8699\n",
      "2022-03-28 18:23:52,736 - mmseg - INFO - Iter [11550/160000]\tlr: 9.354e-03, eta: 1 day, 6:01:38, time: 0.727, data_time: 0.005, memory: 2073, decode.loss_ce: 0.1286, decode.acc_seg: 92.8119, aux_0.loss_ce: 0.1289, aux_0.acc_seg: 92.8204, aux_1.loss_ce: 0.1324, aux_1.acc_seg: 92.8207, aux_2.loss_ce: 0.0367, aux_2.loss_dice: 0.3463, aux_2.acc_seg: 99.2942, loss: 0.7729\n",
      "2022-03-28 18:24:29,082 - mmseg - INFO - Iter [11600/160000]\tlr: 9.352e-03, eta: 1 day, 6:01:01, time: 0.727, data_time: 0.005, memory: 2073, decode.loss_ce: 0.1514, decode.acc_seg: 92.0387, aux_0.loss_ce: 0.1531, aux_0.acc_seg: 92.0387, aux_1.loss_ce: 0.1468, aux_1.acc_seg: 92.0387, aux_2.loss_ce: 0.0414, aux_2.loss_dice: 0.3652, aux_2.acc_seg: 99.2239, loss: 0.8579\n",
      "2022-03-28 18:25:03,968 - mmseg - INFO - Iter [11650/160000]\tlr: 9.349e-03, eta: 1 day, 6:00:05, time: 0.698, data_time: 0.005, memory: 2073, decode.loss_ce: 0.1675, decode.acc_seg: 91.1262, aux_0.loss_ce: 0.1639, aux_0.acc_seg: 91.1281, aux_1.loss_ce: 0.1613, aux_1.acc_seg: 91.1249, aux_2.loss_ce: 0.0400, aux_2.loss_dice: 0.3405, aux_2.acc_seg: 99.2205, loss: 0.8731\n",
      "2022-03-28 18:25:39,158 - mmseg - INFO - Iter [11700/160000]\tlr: 9.346e-03, eta: 1 day, 5:59:13, time: 0.703, data_time: 0.005, memory: 2073, decode.loss_ce: 0.1437, decode.acc_seg: 91.6554, aux_0.loss_ce: 0.1450, aux_0.acc_seg: 91.6615, aux_1.loss_ce: 0.1513, aux_1.acc_seg: 91.6596, aux_2.loss_ce: 0.0384, aux_2.loss_dice: 0.3353, aux_2.acc_seg: 99.2407, loss: 0.8137\n",
      "2022-03-28 18:26:15,512 - mmseg - INFO - Iter [11750/160000]\tlr: 9.343e-03, eta: 1 day, 5:58:36, time: 0.727, data_time: 0.005, memory: 2073, decode.loss_ce: 0.1529, decode.acc_seg: 91.7567, aux_0.loss_ce: 0.1509, aux_0.acc_seg: 91.7565, aux_1.loss_ce: 0.1503, aux_1.acc_seg: 91.7578, aux_2.loss_ce: 0.0377, aux_2.loss_dice: 0.3328, aux_2.acc_seg: 99.2629, loss: 0.8246\n",
      "2022-03-28 18:26:51,879 - mmseg - INFO - Iter [11800/160000]\tlr: 9.340e-03, eta: 1 day, 5:58:00, time: 0.727, data_time: 0.005, memory: 2073, decode.loss_ce: 0.1266, decode.acc_seg: 92.9616, aux_0.loss_ce: 0.1294, aux_0.acc_seg: 92.9729, aux_1.loss_ce: 0.1293, aux_1.acc_seg: 92.9427, aux_2.loss_ce: 0.0354, aux_2.loss_dice: 0.3371, aux_2.acc_seg: 99.3064, loss: 0.7577\n",
      "2022-03-28 18:27:30,816 - mmseg - INFO - Iter [11850/160000]\tlr: 9.338e-03, eta: 1 day, 5:57:55, time: 0.779, data_time: 0.059, memory: 2073, decode.loss_ce: 0.1603, decode.acc_seg: 91.5334, aux_0.loss_ce: 0.1588, aux_0.acc_seg: 91.5319, aux_1.loss_ce: 0.1604, aux_1.acc_seg: 91.5356, aux_2.loss_ce: 0.0385, aux_2.loss_dice: 0.3115, aux_2.acc_seg: 99.2286, loss: 0.8296\n",
      "2022-03-28 18:28:07,135 - mmseg - INFO - Iter [11900/160000]\tlr: 9.335e-03, eta: 1 day, 5:57:17, time: 0.726, data_time: 0.005, memory: 2073, decode.loss_ce: 0.1235, decode.acc_seg: 93.0314, aux_0.loss_ce: 0.1232, aux_0.acc_seg: 93.0458, aux_1.loss_ce: 0.1218, aux_1.acc_seg: 93.0521, aux_2.loss_ce: 0.0390, aux_2.loss_dice: 0.3301, aux_2.acc_seg: 99.2594, loss: 0.7377\n",
      "2022-03-28 18:28:43,521 - mmseg - INFO - Iter [11950/160000]\tlr: 9.332e-03, eta: 1 day, 5:56:41, time: 0.728, data_time: 0.005, memory: 2073, decode.loss_ce: 0.1410, decode.acc_seg: 92.2288, aux_0.loss_ce: 0.1421, aux_0.acc_seg: 92.2297, aux_1.loss_ce: 0.1450, aux_1.acc_seg: 92.2295, aux_2.loss_ce: 0.0386, aux_2.loss_dice: 0.3392, aux_2.acc_seg: 99.2404, loss: 0.8059\n",
      "2022-03-28 18:29:19,861 - mmseg - INFO - Iter [12000/160000]\tlr: 9.329e-03, eta: 1 day, 5:56:03, time: 0.727, data_time: 0.005, memory: 2073, decode.loss_ce: 0.1496, decode.acc_seg: 91.8424, aux_0.loss_ce: 0.1504, aux_0.acc_seg: 91.8473, aux_1.loss_ce: 0.1478, aux_1.acc_seg: 91.8483, aux_2.loss_ce: 0.0381, aux_2.loss_dice: 0.3491, aux_2.acc_seg: 99.2329, loss: 0.8350\n",
      "2022-03-28 18:29:56,238 - mmseg - INFO - Iter [12050/160000]\tlr: 9.326e-03, eta: 1 day, 5:55:27, time: 0.728, data_time: 0.006, memory: 2073, decode.loss_ce: 0.1659, decode.acc_seg: 90.6813, aux_0.loss_ce: 0.1663, aux_0.acc_seg: 90.6701, aux_1.loss_ce: 0.1678, aux_1.acc_seg: 90.6622, aux_2.loss_ce: 0.0388, aux_2.loss_dice: 0.3312, aux_2.acc_seg: 99.2350, loss: 0.8699\n",
      "2022-03-28 18:30:32,677 - mmseg - INFO - Iter [12100/160000]\tlr: 9.324e-03, eta: 1 day, 5:54:51, time: 0.729, data_time: 0.005, memory: 2073, decode.loss_ce: 0.1430, decode.acc_seg: 92.2506, aux_0.loss_ce: 0.1441, aux_0.acc_seg: 92.2496, aux_1.loss_ce: 0.1436, aux_1.acc_seg: 92.2506, aux_2.loss_ce: 0.0372, aux_2.loss_dice: 0.3121, aux_2.acc_seg: 99.2679, loss: 0.7801\n",
      "2022-03-28 18:31:09,079 - mmseg - INFO - Iter [12150/160000]\tlr: 9.321e-03, eta: 1 day, 5:54:14, time: 0.728, data_time: 0.006, memory: 2073, decode.loss_ce: 0.1352, decode.acc_seg: 92.6148, aux_0.loss_ce: 0.1340, aux_0.acc_seg: 92.6148, aux_1.loss_ce: 0.1324, aux_1.acc_seg: 92.6148, aux_2.loss_ce: 0.0361, aux_2.loss_dice: 0.3394, aux_2.acc_seg: 99.3066, loss: 0.7771\n",
      "2022-03-28 18:31:45,491 - mmseg - INFO - Iter [12200/160000]\tlr: 9.318e-03, eta: 1 day, 5:53:38, time: 0.728, data_time: 0.005, memory: 2073, decode.loss_ce: 0.1574, decode.acc_seg: 91.3937, aux_0.loss_ce: 0.1590, aux_0.acc_seg: 91.3817, aux_1.loss_ce: 0.1590, aux_1.acc_seg: 91.3834, aux_2.loss_ce: 0.0377, aux_2.loss_dice: 0.3225, aux_2.acc_seg: 99.2624, loss: 0.8356\n"
     ]
    },
    {
     "name": "stderr",
     "output_type": "stream",
     "text": [
      "2022-03-28 18:32:21,842 - mmseg - INFO - Iter [12250/160000]\tlr: 9.315e-03, eta: 1 day, 5:53:01, time: 0.727, data_time: 0.006, memory: 2073, decode.loss_ce: 0.1628, decode.acc_seg: 90.9255, aux_0.loss_ce: 0.1631, aux_0.acc_seg: 90.9469, aux_1.loss_ce: 0.1632, aux_1.acc_seg: 90.9530, aux_2.loss_ce: 0.0382, aux_2.loss_dice: 0.3304, aux_2.acc_seg: 99.2289, loss: 0.8576\n",
      "2022-03-28 18:32:55,521 - mmseg - INFO - Iter [12300/160000]\tlr: 9.312e-03, eta: 1 day, 5:51:52, time: 0.673, data_time: 0.005, memory: 2073, decode.loss_ce: 0.1601, decode.acc_seg: 91.5079, aux_0.loss_ce: 0.1585, aux_0.acc_seg: 91.4974, aux_1.loss_ce: 0.1595, aux_1.acc_seg: 91.5145, aux_2.loss_ce: 0.0379, aux_2.loss_dice: 0.3192, aux_2.acc_seg: 99.2614, loss: 0.8353\n",
      "2022-03-28 18:33:31,863 - mmseg - INFO - Iter [12350/160000]\tlr: 9.310e-03, eta: 1 day, 5:51:15, time: 0.727, data_time: 0.006, memory: 2073, decode.loss_ce: 0.1189, decode.acc_seg: 93.2555, aux_0.loss_ce: 0.1202, aux_0.acc_seg: 93.2552, aux_1.loss_ce: 0.1220, aux_1.acc_seg: 93.2596, aux_2.loss_ce: 0.0349, aux_2.loss_dice: 0.3107, aux_2.acc_seg: 99.3119, loss: 0.7067\n",
      "2022-03-28 18:34:08,153 - mmseg - INFO - Iter [12400/160000]\tlr: 9.307e-03, eta: 1 day, 5:50:37, time: 0.726, data_time: 0.005, memory: 2073, decode.loss_ce: 0.1577, decode.acc_seg: 91.1058, aux_0.loss_ce: 0.1606, aux_0.acc_seg: 91.1023, aux_1.loss_ce: 0.1570, aux_1.acc_seg: 91.0842, aux_2.loss_ce: 0.0391, aux_2.loss_dice: 0.3351, aux_2.acc_seg: 99.2164, loss: 0.8495\n",
      "2022-03-28 18:34:44,492 - mmseg - INFO - Iter [12450/160000]\tlr: 9.304e-03, eta: 1 day, 5:50:00, time: 0.726, data_time: 0.006, memory: 2073, decode.loss_ce: 0.1564, decode.acc_seg: 91.7250, aux_0.loss_ce: 0.1506, aux_0.acc_seg: 91.7250, aux_1.loss_ce: 0.1547, aux_1.acc_seg: 91.7250, aux_2.loss_ce: 0.0377, aux_2.loss_dice: 0.3320, aux_2.acc_seg: 99.2599, loss: 0.8314\n",
      "2022-03-28 18:35:20,868 - mmseg - INFO - Iter [12500/160000]\tlr: 9.301e-03, eta: 1 day, 5:49:23, time: 0.727, data_time: 0.006, memory: 2073, decode.loss_ce: 0.1485, decode.acc_seg: 91.4075, aux_0.loss_ce: 0.1533, aux_0.acc_seg: 91.4188, aux_1.loss_ce: 0.1528, aux_1.acc_seg: 91.4135, aux_2.loss_ce: 0.0376, aux_2.loss_dice: 0.3193, aux_2.acc_seg: 99.2582, loss: 0.8115\n",
      "2022-03-28 18:35:59,715 - mmseg - INFO - Iter [12550/160000]\tlr: 9.298e-03, eta: 1 day, 5:49:16, time: 0.777, data_time: 0.058, memory: 2073, decode.loss_ce: 0.1550, decode.acc_seg: 91.9932, aux_0.loss_ce: 0.1536, aux_0.acc_seg: 91.9921, aux_1.loss_ce: 0.1566, aux_1.acc_seg: 91.9925, aux_2.loss_ce: 0.0368, aux_2.loss_dice: 0.3369, aux_2.acc_seg: 99.2741, loss: 0.8390\n",
      "2022-03-28 18:36:36,054 - mmseg - INFO - Iter [12600/160000]\tlr: 9.296e-03, eta: 1 day, 5:48:39, time: 0.727, data_time: 0.005, memory: 2073, decode.loss_ce: 0.1346, decode.acc_seg: 92.7999, aux_0.loss_ce: 0.1371, aux_0.acc_seg: 92.7999, aux_1.loss_ce: 0.1320, aux_1.acc_seg: 92.7999, aux_2.loss_ce: 0.0365, aux_2.loss_dice: 0.3131, aux_2.acc_seg: 99.2745, loss: 0.7533\n",
      "2022-03-28 18:37:12,396 - mmseg - INFO - Iter [12650/160000]\tlr: 9.293e-03, eta: 1 day, 5:48:01, time: 0.727, data_time: 0.005, memory: 2073, decode.loss_ce: 0.1306, decode.acc_seg: 92.6202, aux_0.loss_ce: 0.1296, aux_0.acc_seg: 92.6216, aux_1.loss_ce: 0.1323, aux_1.acc_seg: 92.6216, aux_2.loss_ce: 0.0373, aux_2.loss_dice: 0.3206, aux_2.acc_seg: 99.2668, loss: 0.7504\n",
      "2022-03-28 18:37:48,729 - mmseg - INFO - Iter [12700/160000]\tlr: 9.290e-03, eta: 1 day, 5:47:24, time: 0.727, data_time: 0.005, memory: 2073, decode.loss_ce: 0.1503, decode.acc_seg: 91.6806, aux_0.loss_ce: 0.1516, aux_0.acc_seg: 91.6863, aux_1.loss_ce: 0.1521, aux_1.acc_seg: 91.6845, aux_2.loss_ce: 0.0384, aux_2.loss_dice: 0.3180, aux_2.acc_seg: 99.2584, loss: 0.8105\n",
      "2022-03-28 18:38:25,062 - mmseg - INFO - Iter [12750/160000]\tlr: 9.287e-03, eta: 1 day, 5:46:47, time: 0.727, data_time: 0.005, memory: 2073, decode.loss_ce: 0.1424, decode.acc_seg: 92.2834, aux_0.loss_ce: 0.1428, aux_0.acc_seg: 92.2864, aux_1.loss_ce: 0.1425, aux_1.acc_seg: 92.2847, aux_2.loss_ce: 0.0357, aux_2.loss_dice: 0.3048, aux_2.acc_seg: 99.3006, loss: 0.7682\n",
      "2022-03-28 18:39:01,397 - mmseg - INFO - Iter [12800/160000]\tlr: 9.284e-03, eta: 1 day, 5:46:10, time: 0.727, data_time: 0.006, memory: 2073, decode.loss_ce: 0.1408, decode.acc_seg: 92.0176, aux_0.loss_ce: 0.1418, aux_0.acc_seg: 92.0136, aux_1.loss_ce: 0.1454, aux_1.acc_seg: 92.0152, aux_2.loss_ce: 0.0381, aux_2.loss_dice: 0.3360, aux_2.acc_seg: 99.2540, loss: 0.8020\n",
      "2022-03-28 18:39:37,742 - mmseg - INFO - Iter [12850/160000]\tlr: 9.282e-03, eta: 1 day, 5:45:33, time: 0.727, data_time: 0.006, memory: 2073, decode.loss_ce: 0.1585, decode.acc_seg: 91.3069, aux_0.loss_ce: 0.1528, aux_0.acc_seg: 91.3174, aux_1.loss_ce: 0.1520, aux_1.acc_seg: 91.3232, aux_2.loss_ce: 0.0372, aux_2.loss_dice: 0.3084, aux_2.acc_seg: 99.2699, loss: 0.8090\n",
      "2022-03-28 18:40:14,169 - mmseg - INFO - Iter [12900/160000]\tlr: 9.279e-03, eta: 1 day, 5:44:56, time: 0.728, data_time: 0.006, memory: 2073, decode.loss_ce: 0.1281, decode.acc_seg: 92.8645, aux_0.loss_ce: 0.1309, aux_0.acc_seg: 92.8595, aux_1.loss_ce: 0.1294, aux_1.acc_seg: 92.8578, aux_2.loss_ce: 0.0353, aux_2.loss_dice: 0.3277, aux_2.acc_seg: 99.2986, loss: 0.7515\n",
      "2022-03-28 18:40:47,891 - mmseg - INFO - Iter [12950/160000]\tlr: 9.276e-03, eta: 1 day, 5:43:50, time: 0.675, data_time: 0.006, memory: 2073, decode.loss_ce: 0.1435, decode.acc_seg: 92.0171, aux_0.loss_ce: 0.1458, aux_0.acc_seg: 92.0249, aux_1.loss_ce: 0.1483, aux_1.acc_seg: 92.0329, aux_2.loss_ce: 0.0356, aux_2.loss_dice: 0.3046, aux_2.acc_seg: 99.2960, loss: 0.7778\n",
      "2022-03-28 18:41:24,264 - mmseg - INFO - Iter [13000/160000]\tlr: 9.273e-03, eta: 1 day, 5:43:13, time: 0.727, data_time: 0.006, memory: 2073, decode.loss_ce: 0.1343, decode.acc_seg: 92.3462, aux_0.loss_ce: 0.1351, aux_0.acc_seg: 92.3462, aux_1.loss_ce: 0.1360, aux_1.acc_seg: 92.3462, aux_2.loss_ce: 0.0337, aux_2.loss_dice: 0.3104, aux_2.acc_seg: 99.3279, loss: 0.7495\n",
      "2022-03-28 18:42:00,625 - mmseg - INFO - Iter [13050/160000]\tlr: 9.270e-03, eta: 1 day, 5:42:36, time: 0.727, data_time: 0.005, memory: 2073, decode.loss_ce: 0.1529, decode.acc_seg: 91.8026, aux_0.loss_ce: 0.1499, aux_0.acc_seg: 91.7821, aux_1.loss_ce: 0.1470, aux_1.acc_seg: 91.7999, aux_2.loss_ce: 0.0374, aux_2.loss_dice: 0.3561, aux_2.acc_seg: 99.2675, loss: 0.8432\n",
      "2022-03-28 18:42:36,969 - mmseg - INFO - Iter [13100/160000]\tlr: 9.267e-03, eta: 1 day, 5:42:00, time: 0.727, data_time: 0.005, memory: 2073, decode.loss_ce: 0.1381, decode.acc_seg: 92.0842, aux_0.loss_ce: 0.1420, aux_0.acc_seg: 92.0262, aux_1.loss_ce: 0.1423, aux_1.acc_seg: 92.0634, aux_2.loss_ce: 0.0355, aux_2.loss_dice: 0.3323, aux_2.acc_seg: 99.2782, loss: 0.7901\n",
      "2022-03-28 18:43:13,337 - mmseg - INFO - Iter [13150/160000]\tlr: 9.265e-03, eta: 1 day, 5:41:23, time: 0.727, data_time: 0.005, memory: 2073, decode.loss_ce: 0.1561, decode.acc_seg: 91.1555, aux_0.loss_ce: 0.1622, aux_0.acc_seg: 91.1835, aux_1.loss_ce: 0.1651, aux_1.acc_seg: 91.1728, aux_2.loss_ce: 0.0397, aux_2.loss_dice: 0.3290, aux_2.acc_seg: 99.2134, loss: 0.8521\n",
      "2022-03-28 18:43:49,674 - mmseg - INFO - Iter [13200/160000]\tlr: 9.262e-03, eta: 1 day, 5:40:45, time: 0.727, data_time: 0.006, memory: 2073, decode.loss_ce: 0.1640, decode.acc_seg: 91.3288, aux_0.loss_ce: 0.1566, aux_0.acc_seg: 91.3288, aux_1.loss_ce: 0.1551, aux_1.acc_seg: 91.3288, aux_2.loss_ce: 0.0385, aux_2.loss_dice: 0.3245, aux_2.acc_seg: 99.2372, loss: 0.8387\n",
      "2022-03-28 18:44:28,594 - mmseg - INFO - Iter [13250/160000]\tlr: 9.259e-03, eta: 1 day, 5:40:37, time: 0.779, data_time: 0.059, memory: 2073, decode.loss_ce: 0.1544, decode.acc_seg: 91.8147, aux_0.loss_ce: 0.1507, aux_0.acc_seg: 91.8162, aux_1.loss_ce: 0.1502, aux_1.acc_seg: 91.8160, aux_2.loss_ce: 0.0340, aux_2.loss_dice: 0.3338, aux_2.acc_seg: 99.3427, loss: 0.8232\n",
      "2022-03-28 18:45:04,978 - mmseg - INFO - Iter [13300/160000]\tlr: 9.256e-03, eta: 1 day, 5:40:00, time: 0.728, data_time: 0.006, memory: 2073, decode.loss_ce: 0.1338, decode.acc_seg: 92.5864, aux_0.loss_ce: 0.1384, aux_0.acc_seg: 92.6202, aux_1.loss_ce: 0.1368, aux_1.acc_seg: 92.6036, aux_2.loss_ce: 0.0368, aux_2.loss_dice: 0.3296, aux_2.acc_seg: 99.2993, loss: 0.7755\n",
      "2022-03-28 18:45:41,225 - mmseg - INFO - Iter [13350/160000]\tlr: 9.253e-03, eta: 1 day, 5:39:23, time: 0.726, data_time: 0.006, memory: 2073, decode.loss_ce: 0.1278, decode.acc_seg: 92.9277, aux_0.loss_ce: 0.1252, aux_0.acc_seg: 92.9237, aux_1.loss_ce: 0.1292, aux_1.acc_seg: 92.9222, aux_2.loss_ce: 0.0367, aux_2.loss_dice: 0.3156, aux_2.acc_seg: 99.2637, loss: 0.7345\n"
     ]
    },
    {
     "name": "stderr",
     "output_type": "stream",
     "text": [
      "2022-03-28 18:46:17,628 - mmseg - INFO - Iter [13400/160000]\tlr: 9.251e-03, eta: 1 day, 5:38:46, time: 0.728, data_time: 0.005, memory: 2073, decode.loss_ce: 0.1468, decode.acc_seg: 91.9130, aux_0.loss_ce: 0.1514, aux_0.acc_seg: 91.9128, aux_1.loss_ce: 0.1471, aux_1.acc_seg: 91.9514, aux_2.loss_ce: 0.0356, aux_2.loss_dice: 0.3108, aux_2.acc_seg: 99.3051, loss: 0.7919\n",
      "2022-03-28 18:46:53,996 - mmseg - INFO - Iter [13450/160000]\tlr: 9.248e-03, eta: 1 day, 5:38:10, time: 0.727, data_time: 0.005, memory: 2073, decode.loss_ce: 0.1273, decode.acc_seg: 92.9306, aux_0.loss_ce: 0.1259, aux_0.acc_seg: 92.9024, aux_1.loss_ce: 0.1286, aux_1.acc_seg: 92.9280, aux_2.loss_ce: 0.0364, aux_2.loss_dice: 0.3434, aux_2.acc_seg: 99.2849, loss: 0.7617\n",
      "2022-03-28 18:47:30,358 - mmseg - INFO - Iter [13500/160000]\tlr: 9.245e-03, eta: 1 day, 5:37:33, time: 0.727, data_time: 0.005, memory: 2073, decode.loss_ce: 0.1512, decode.acc_seg: 91.5155, aux_0.loss_ce: 0.1496, aux_0.acc_seg: 91.5166, aux_1.loss_ce: 0.1521, aux_1.acc_seg: 91.5271, aux_2.loss_ce: 0.0383, aux_2.loss_dice: 0.3218, aux_2.acc_seg: 99.2367, loss: 0.8130\n",
      "2022-03-28 18:48:06,738 - mmseg - INFO - Iter [13550/160000]\tlr: 9.242e-03, eta: 1 day, 5:36:56, time: 0.728, data_time: 0.005, memory: 2073, decode.loss_ce: 0.1462, decode.acc_seg: 91.9493, aux_0.loss_ce: 0.1480, aux_0.acc_seg: 91.9428, aux_1.loss_ce: 0.1458, aux_1.acc_seg: 91.9503, aux_2.loss_ce: 0.0361, aux_2.loss_dice: 0.3242, aux_2.acc_seg: 99.2907, loss: 0.8003\n",
      "2022-03-28 18:48:40,362 - mmseg - INFO - Iter [13600/160000]\tlr: 9.239e-03, eta: 1 day, 5:35:50, time: 0.673, data_time: 0.006, memory: 2073, decode.loss_ce: 0.1324, decode.acc_seg: 92.7638, aux_0.loss_ce: 0.1317, aux_0.acc_seg: 92.7532, aux_1.loss_ce: 0.1318, aux_1.acc_seg: 92.7596, aux_2.loss_ce: 0.0363, aux_2.loss_dice: 0.3076, aux_2.acc_seg: 99.2883, loss: 0.7398\n",
      "2022-03-28 18:49:16,747 - mmseg - INFO - Iter [13650/160000]\tlr: 9.237e-03, eta: 1 day, 5:35:13, time: 0.728, data_time: 0.005, memory: 2073, decode.loss_ce: 0.1538, decode.acc_seg: 91.3740, aux_0.loss_ce: 0.1530, aux_0.acc_seg: 91.3852, aux_1.loss_ce: 0.1514, aux_1.acc_seg: 91.3792, aux_2.loss_ce: 0.0373, aux_2.loss_dice: 0.3263, aux_2.acc_seg: 99.2703, loss: 0.8219\n",
      "2022-03-28 18:49:53,161 - mmseg - INFO - Iter [13700/160000]\tlr: 9.234e-03, eta: 1 day, 5:34:37, time: 0.728, data_time: 0.006, memory: 2073, decode.loss_ce: 0.1556, decode.acc_seg: 91.6723, aux_0.loss_ce: 0.1551, aux_0.acc_seg: 91.6838, aux_1.loss_ce: 0.1560, aux_1.acc_seg: 91.6712, aux_2.loss_ce: 0.0364, aux_2.loss_dice: 0.3304, aux_2.acc_seg: 99.2879, loss: 0.8335\n",
      "2022-03-28 18:50:29,509 - mmseg - INFO - Iter [13750/160000]\tlr: 9.231e-03, eta: 1 day, 5:34:00, time: 0.727, data_time: 0.006, memory: 2073, decode.loss_ce: 0.1600, decode.acc_seg: 90.9297, aux_0.loss_ce: 0.1622, aux_0.acc_seg: 90.9224, aux_1.loss_ce: 0.1618, aux_1.acc_seg: 90.9162, aux_2.loss_ce: 0.0389, aux_2.loss_dice: 0.3195, aux_2.acc_seg: 99.2029, loss: 0.8424\n",
      "2022-03-28 18:51:05,928 - mmseg - INFO - Iter [13800/160000]\tlr: 9.228e-03, eta: 1 day, 5:33:24, time: 0.729, data_time: 0.006, memory: 2073, decode.loss_ce: 0.1622, decode.acc_seg: 90.7322, aux_0.loss_ce: 0.1627, aux_0.acc_seg: 90.6668, aux_1.loss_ce: 0.1664, aux_1.acc_seg: 90.6967, aux_2.loss_ce: 0.0382, aux_2.loss_dice: 0.3289, aux_2.acc_seg: 99.2294, loss: 0.8585\n",
      "2022-03-28 18:51:42,286 - mmseg - INFO - Iter [13850/160000]\tlr: 9.225e-03, eta: 1 day, 5:32:48, time: 0.727, data_time: 0.005, memory: 2073, decode.loss_ce: 0.1381, decode.acc_seg: 92.3713, aux_0.loss_ce: 0.1369, aux_0.acc_seg: 92.3416, aux_1.loss_ce: 0.1362, aux_1.acc_seg: 92.3758, aux_2.loss_ce: 0.0342, aux_2.loss_dice: 0.3233, aux_2.acc_seg: 99.3310, loss: 0.7686\n",
      "2022-03-28 18:52:18,591 - mmseg - INFO - Iter [13900/160000]\tlr: 9.223e-03, eta: 1 day, 5:32:10, time: 0.726, data_time: 0.006, memory: 2073, decode.loss_ce: 0.1293, decode.acc_seg: 92.7182, aux_0.loss_ce: 0.1323, aux_0.acc_seg: 92.7054, aux_1.loss_ce: 0.1309, aux_1.acc_seg: 92.7198, aux_2.loss_ce: 0.0360, aux_2.loss_dice: 0.3285, aux_2.acc_seg: 99.2973, loss: 0.7570\n",
      "2022-03-28 18:52:54,612 - mmseg - INFO - Iter [13950/160000]\tlr: 9.220e-03, eta: 1 day, 5:31:30, time: 0.721, data_time: 0.059, memory: 2073, decode.loss_ce: 0.1474, decode.acc_seg: 91.7784, aux_0.loss_ce: 0.1484, aux_0.acc_seg: 91.7964, aux_1.loss_ce: 0.1480, aux_1.acc_seg: 91.7904, aux_2.loss_ce: 0.0372, aux_2.loss_dice: 0.3139, aux_2.acc_seg: 99.2657, loss: 0.7949\n",
      "2022-03-28 18:53:26,275 - mmseg - INFO - Iter [14000/160000]\tlr: 9.217e-03, eta: 1 day, 5:30:04, time: 0.633, data_time: 0.005, memory: 2073, decode.loss_ce: 0.1241, decode.acc_seg: 93.1322, aux_0.loss_ce: 0.1257, aux_0.acc_seg: 93.1238, aux_1.loss_ce: 0.1251, aux_1.acc_seg: 93.1322, aux_2.loss_ce: 0.0351, aux_2.loss_dice: 0.3208, aux_2.acc_seg: 99.3081, loss: 0.7307\n",
      "2022-03-28 18:54:02,551 - mmseg - INFO - Iter [14050/160000]\tlr: 9.214e-03, eta: 1 day, 5:29:27, time: 0.725, data_time: 0.006, memory: 2073, decode.loss_ce: 0.1558, decode.acc_seg: 91.2380, aux_0.loss_ce: 0.1563, aux_0.acc_seg: 91.1989, aux_1.loss_ce: 0.1572, aux_1.acc_seg: 91.2079, aux_2.loss_ce: 0.0391, aux_2.loss_dice: 0.3199, aux_2.acc_seg: 99.2100, loss: 0.8283\n",
      "2022-03-28 18:54:38,888 - mmseg - INFO - Iter [14100/160000]\tlr: 9.211e-03, eta: 1 day, 5:28:50, time: 0.727, data_time: 0.006, memory: 2073, decode.loss_ce: 0.1775, decode.acc_seg: 90.4144, aux_0.loss_ce: 0.1778, aux_0.acc_seg: 90.3697, aux_1.loss_ce: 0.1800, aux_1.acc_seg: 90.3622, aux_2.loss_ce: 0.0411, aux_2.loss_dice: 0.3380, aux_2.acc_seg: 99.1830, loss: 0.9143\n",
      "2022-03-28 18:55:15,219 - mmseg - INFO - Iter [14150/160000]\tlr: 9.208e-03, eta: 1 day, 5:28:14, time: 0.727, data_time: 0.006, memory: 2073, decode.loss_ce: 0.1424, decode.acc_seg: 92.1320, aux_0.loss_ce: 0.1438, aux_0.acc_seg: 92.1381, aux_1.loss_ce: 0.1442, aux_1.acc_seg: 92.1477, aux_2.loss_ce: 0.0358, aux_2.loss_dice: 0.3257, aux_2.acc_seg: 99.3113, loss: 0.7918\n",
      "2022-03-28 18:55:51,659 - mmseg - INFO - Iter [14200/160000]\tlr: 9.206e-03, eta: 1 day, 5:27:38, time: 0.729, data_time: 0.005, memory: 2073, decode.loss_ce: 0.1345, decode.acc_seg: 92.5362, aux_0.loss_ce: 0.1336, aux_0.acc_seg: 92.5320, aux_1.loss_ce: 0.1352, aux_1.acc_seg: 92.5327, aux_2.loss_ce: 0.0357, aux_2.loss_dice: 0.3171, aux_2.acc_seg: 99.3034, loss: 0.7561\n",
      "2022-03-28 18:56:27,997 - mmseg - INFO - Iter [14250/160000]\tlr: 9.203e-03, eta: 1 day, 5:27:01, time: 0.727, data_time: 0.005, memory: 2073, decode.loss_ce: 0.1607, decode.acc_seg: 91.0821, aux_0.loss_ce: 0.1620, aux_0.acc_seg: 91.0744, aux_1.loss_ce: 0.1601, aux_1.acc_seg: 91.0584, aux_2.loss_ce: 0.0379, aux_2.loss_dice: 0.3303, aux_2.acc_seg: 99.2679, loss: 0.8509\n",
      "2022-03-28 18:57:01,939 - mmseg - INFO - Iter [14300/160000]\tlr: 9.200e-03, eta: 1 day, 5:26:00, time: 0.679, data_time: 0.006, memory: 2073, decode.loss_ce: 0.1392, decode.acc_seg: 92.6000, aux_0.loss_ce: 0.1351, aux_0.acc_seg: 92.6266, aux_1.loss_ce: 0.1357, aux_1.acc_seg: 92.6166, aux_2.loss_ce: 0.0370, aux_2.loss_dice: 0.3263, aux_2.acc_seg: 99.2706, loss: 0.7733\n",
      "2022-03-28 18:57:38,285 - mmseg - INFO - Iter [14350/160000]\tlr: 9.197e-03, eta: 1 day, 5:25:23, time: 0.726, data_time: 0.006, memory: 2073, decode.loss_ce: 0.1446, decode.acc_seg: 91.7513, aux_0.loss_ce: 0.1472, aux_0.acc_seg: 91.7560, aux_1.loss_ce: 0.1493, aux_1.acc_seg: 91.7632, aux_2.loss_ce: 0.0374, aux_2.loss_dice: 0.3214, aux_2.acc_seg: 99.2599, loss: 0.8000\n",
      "2022-03-28 18:58:14,581 - mmseg - INFO - Iter [14400/160000]\tlr: 9.194e-03, eta: 1 day, 5:24:46, time: 0.726, data_time: 0.006, memory: 2073, decode.loss_ce: 0.1747, decode.acc_seg: 90.7023, aux_0.loss_ce: 0.1719, aux_0.acc_seg: 90.7121, aux_1.loss_ce: 0.1723, aux_1.acc_seg: 90.7329, aux_2.loss_ce: 0.0381, aux_2.loss_dice: 0.3328, aux_2.acc_seg: 99.2479, loss: 0.8899\n",
      "2022-03-28 18:58:50,893 - mmseg - INFO - Iter [14450/160000]\tlr: 9.192e-03, eta: 1 day, 5:24:10, time: 0.727, data_time: 0.006, memory: 2073, decode.loss_ce: 0.1421, decode.acc_seg: 91.6945, aux_0.loss_ce: 0.1495, aux_0.acc_seg: 91.6949, aux_1.loss_ce: 0.1446, aux_1.acc_seg: 91.6802, aux_2.loss_ce: 0.0376, aux_2.loss_dice: 0.3190, aux_2.acc_seg: 99.2521, loss: 0.7928\n",
      "2022-03-28 18:59:27,193 - mmseg - INFO - Iter [14500/160000]\tlr: 9.189e-03, eta: 1 day, 5:23:33, time: 0.726, data_time: 0.005, memory: 2073, decode.loss_ce: 0.1505, decode.acc_seg: 91.6119, aux_0.loss_ce: 0.1452, aux_0.acc_seg: 91.6038, aux_1.loss_ce: 0.1482, aux_1.acc_seg: 91.6085, aux_2.loss_ce: 0.0373, aux_2.loss_dice: 0.3251, aux_2.acc_seg: 99.2618, loss: 0.8062\n"
     ]
    },
    {
     "name": "stderr",
     "output_type": "stream",
     "text": [
      "2022-03-28 19:00:03,493 - mmseg - INFO - Iter [14550/160000]\tlr: 9.186e-03, eta: 1 day, 5:22:56, time: 0.726, data_time: 0.005, memory: 2073, decode.loss_ce: 0.1232, decode.acc_seg: 93.1613, aux_0.loss_ce: 0.1234, aux_0.acc_seg: 93.1694, aux_1.loss_ce: 0.1246, aux_1.acc_seg: 93.1112, aux_2.loss_ce: 0.0345, aux_2.loss_dice: 0.3149, aux_2.acc_seg: 99.3121, loss: 0.7205\n",
      "2022-03-28 19:00:39,873 - mmseg - INFO - Iter [14600/160000]\tlr: 9.183e-03, eta: 1 day, 5:22:19, time: 0.727, data_time: 0.005, memory: 2073, decode.loss_ce: 0.1467, decode.acc_seg: 92.2127, aux_0.loss_ce: 0.1421, aux_0.acc_seg: 92.2103, aux_1.loss_ce: 0.1444, aux_1.acc_seg: 92.2111, aux_2.loss_ce: 0.0369, aux_2.loss_dice: 0.3394, aux_2.acc_seg: 99.2952, loss: 0.8096\n",
      "2022-03-28 19:01:18,879 - mmseg - INFO - Iter [14650/160000]\tlr: 9.180e-03, eta: 1 day, 5:22:09, time: 0.780, data_time: 0.058, memory: 2073, decode.loss_ce: 0.1739, decode.acc_seg: 90.3778, aux_0.loss_ce: 0.1798, aux_0.acc_seg: 90.3329, aux_1.loss_ce: 0.1775, aux_1.acc_seg: 90.2628, aux_2.loss_ce: 0.0407, aux_2.loss_dice: 0.3415, aux_2.acc_seg: 99.1852, loss: 0.9134\n",
      "2022-03-28 19:01:55,296 - mmseg - INFO - Iter [14700/160000]\tlr: 9.178e-03, eta: 1 day, 5:21:33, time: 0.728, data_time: 0.005, memory: 2073, decode.loss_ce: 0.1475, decode.acc_seg: 92.0119, aux_0.loss_ce: 0.1483, aux_0.acc_seg: 92.0216, aux_1.loss_ce: 0.1492, aux_1.acc_seg: 92.0107, aux_2.loss_ce: 0.0397, aux_2.loss_dice: 0.3472, aux_2.acc_seg: 99.2290, loss: 0.8319\n",
      "2022-03-28 19:02:31,615 - mmseg - INFO - Iter [14750/160000]\tlr: 9.175e-03, eta: 1 day, 5:20:56, time: 0.726, data_time: 0.005, memory: 2073, decode.loss_ce: 0.1618, decode.acc_seg: 90.9080, aux_0.loss_ce: 0.1602, aux_0.acc_seg: 90.9025, aux_1.loss_ce: 0.1601, aux_1.acc_seg: 90.9029, aux_2.loss_ce: 0.0398, aux_2.loss_dice: 0.3384, aux_2.acc_seg: 99.2041, loss: 0.8602\n",
      "2022-03-28 19:03:08,059 - mmseg - INFO - Iter [14800/160000]\tlr: 9.172e-03, eta: 1 day, 5:20:21, time: 0.729, data_time: 0.005, memory: 2073, decode.loss_ce: 0.1573, decode.acc_seg: 91.2958, aux_0.loss_ce: 0.1553, aux_0.acc_seg: 91.2597, aux_1.loss_ce: 0.1560, aux_1.acc_seg: 91.3096, aux_2.loss_ce: 0.0386, aux_2.loss_dice: 0.3347, aux_2.acc_seg: 99.2421, loss: 0.8418\n",
      "2022-03-28 19:03:44,472 - mmseg - INFO - Iter [14850/160000]\tlr: 9.169e-03, eta: 1 day, 5:19:45, time: 0.728, data_time: 0.005, memory: 2073, decode.loss_ce: 0.1642, decode.acc_seg: 90.8889, aux_0.loss_ce: 0.1701, aux_0.acc_seg: 90.8807, aux_1.loss_ce: 0.1659, aux_1.acc_seg: 90.9124, aux_2.loss_ce: 0.0395, aux_2.loss_dice: 0.3512, aux_2.acc_seg: 99.2290, loss: 0.8909\n",
      "2022-03-28 19:04:20,787 - mmseg - INFO - Iter [14900/160000]\tlr: 9.166e-03, eta: 1 day, 5:19:08, time: 0.726, data_time: 0.005, memory: 2073, decode.loss_ce: 0.1342, decode.acc_seg: 92.6213, aux_0.loss_ce: 0.1277, aux_0.acc_seg: 92.5706, aux_1.loss_ce: 0.1352, aux_1.acc_seg: 92.5446, aux_2.loss_ce: 0.0378, aux_2.loss_dice: 0.3275, aux_2.acc_seg: 99.2550, loss: 0.7624\n",
      "2022-03-28 19:04:54,544 - mmseg - INFO - Iter [14950/160000]\tlr: 9.163e-03, eta: 1 day, 5:18:06, time: 0.675, data_time: 0.006, memory: 2073, decode.loss_ce: 0.1525, decode.acc_seg: 91.3180, aux_0.loss_ce: 0.1604, aux_0.acc_seg: 91.3011, aux_1.loss_ce: 0.1528, aux_1.acc_seg: 91.3352, aux_2.loss_ce: 0.0361, aux_2.loss_dice: 0.3260, aux_2.acc_seg: 99.2925, loss: 0.8280\n",
      "2022-03-28 19:05:30,923 - mmseg - INFO - Iter [15000/160000]\tlr: 9.161e-03, eta: 1 day, 5:17:30, time: 0.728, data_time: 0.006, memory: 2073, decode.loss_ce: 0.1429, decode.acc_seg: 92.3797, aux_0.loss_ce: 0.1450, aux_0.acc_seg: 92.3895, aux_1.loss_ce: 0.1437, aux_1.acc_seg: 92.3699, aux_2.loss_ce: 0.0358, aux_2.loss_dice: 0.3198, aux_2.acc_seg: 99.3217, loss: 0.7872\n"
     ]
    },
    {
     "name": "stdout",
     "output_type": "stream",
     "text": [
      "[>>>>>>>>>>>>>>>>>>>>>>>>>>>>>] 610/610, 26.7 task/s, elapsed: 23s, ETA:     0s"
     ]
    },
    {
     "name": "stderr",
     "output_type": "stream",
     "text": [
      "2022-03-28 19:05:53,818 - mmseg - INFO - per class results:\n",
      "2022-03-28 19:05:53,818 - mmseg - INFO - \n",
      "+------------+-------+-------+\n",
      "|   Class    |  IoU  |  Acc  |\n",
      "+------------+-------+-------+\n",
      "| background | 94.88 | 99.99 |\n",
      "|   human    |  1.34 |  1.35 |\n",
      "+------------+-------+-------+\n",
      "2022-03-28 19:05:53,818 - mmseg - INFO - Summary:\n",
      "2022-03-28 19:05:53,819 - mmseg - INFO - \n",
      "+-------+-------+-------+\n",
      "|  aAcc |  mIoU |  mAcc |\n",
      "+-------+-------+-------+\n",
      "| 94.88 | 48.11 | 50.67 |\n",
      "+-------+-------+-------+\n",
      "2022-03-28 19:05:53,821 - mmseg - INFO - Iter(val) [610]\taAcc: 0.9488, mIoU: 0.4811, mAcc: 0.5067, IoU.background: 0.9488, IoU.human: 0.0134, Acc.background: 0.9999, Acc.human: 0.0135\n",
      "2022-03-28 19:06:30,235 - mmseg - INFO - Iter [15050/160000]\tlr: 9.158e-03, eta: 1 day, 5:20:35, time: 1.186, data_time: 0.463, memory: 2073, decode.loss_ce: 0.1398, decode.acc_seg: 92.3866, aux_0.loss_ce: 0.1366, aux_0.acc_seg: 92.4169, aux_1.loss_ce: 0.1419, aux_1.acc_seg: 92.4511, aux_2.loss_ce: 0.0358, aux_2.loss_dice: 0.3346, aux_2.acc_seg: 99.2858, loss: 0.7885\n",
      "2022-03-28 19:07:06,548 - mmseg - INFO - Iter [15100/160000]\tlr: 9.155e-03, eta: 1 day, 5:19:57, time: 0.726, data_time: 0.006, memory: 2073, decode.loss_ce: 0.1527, decode.acc_seg: 91.2539, aux_0.loss_ce: 0.1535, aux_0.acc_seg: 91.2395, aux_1.loss_ce: 0.1553, aux_1.acc_seg: 91.2377, aux_2.loss_ce: 0.0386, aux_2.loss_dice: 0.3337, aux_2.acc_seg: 99.2453, loss: 0.8338\n",
      "2022-03-28 19:07:42,832 - mmseg - INFO - Iter [15150/160000]\tlr: 9.152e-03, eta: 1 day, 5:19:19, time: 0.726, data_time: 0.006, memory: 2073, decode.loss_ce: 0.1250, decode.acc_seg: 93.2401, aux_0.loss_ce: 0.1250, aux_0.acc_seg: 93.2422, aux_1.loss_ce: 0.1236, aux_1.acc_seg: 93.2308, aux_2.loss_ce: 0.0350, aux_2.loss_dice: 0.3393, aux_2.acc_seg: 99.3149, loss: 0.7479\n",
      "2022-03-28 19:08:19,210 - mmseg - INFO - Iter [15200/160000]\tlr: 9.149e-03, eta: 1 day, 5:18:42, time: 0.728, data_time: 0.005, memory: 2073, decode.loss_ce: 0.1282, decode.acc_seg: 92.8124, aux_0.loss_ce: 0.1272, aux_0.acc_seg: 92.7841, aux_1.loss_ce: 0.1272, aux_1.acc_seg: 92.7936, aux_2.loss_ce: 0.0360, aux_2.loss_dice: 0.3247, aux_2.acc_seg: 99.3122, loss: 0.7433\n",
      "2022-03-28 19:08:55,578 - mmseg - INFO - Iter [15250/160000]\tlr: 9.147e-03, eta: 1 day, 5:18:05, time: 0.727, data_time: 0.005, memory: 2073, decode.loss_ce: 0.1371, decode.acc_seg: 92.2596, aux_0.loss_ce: 0.1406, aux_0.acc_seg: 92.2694, aux_1.loss_ce: 0.1385, aux_1.acc_seg: 92.2484, aux_2.loss_ce: 0.0371, aux_2.loss_dice: 0.3253, aux_2.acc_seg: 99.2562, loss: 0.7786\n",
      "2022-03-28 19:09:31,920 - mmseg - INFO - Iter [15300/160000]\tlr: 9.144e-03, eta: 1 day, 5:17:28, time: 0.727, data_time: 0.005, memory: 2073, decode.loss_ce: 0.1590, decode.acc_seg: 91.5540, aux_0.loss_ce: 0.1522, aux_0.acc_seg: 91.5583, aux_1.loss_ce: 0.1592, aux_1.acc_seg: 91.5399, aux_2.loss_ce: 0.0382, aux_2.loss_dice: 0.3300, aux_2.acc_seg: 99.2253, loss: 0.8387\n",
      "2022-03-28 19:10:10,923 - mmseg - INFO - Iter [15350/160000]\tlr: 9.141e-03, eta: 1 day, 5:17:15, time: 0.780, data_time: 0.059, memory: 2073, decode.loss_ce: 0.1252, decode.acc_seg: 92.6883, aux_0.loss_ce: 0.1293, aux_0.acc_seg: 92.7022, aux_1.loss_ce: 0.1254, aux_1.acc_seg: 92.6970, aux_2.loss_ce: 0.0366, aux_2.loss_dice: 0.3403, aux_2.acc_seg: 99.2948, loss: 0.7568\n",
      "2022-03-28 19:10:47,289 - mmseg - INFO - Iter [15400/160000]\tlr: 9.138e-03, eta: 1 day, 5:16:38, time: 0.728, data_time: 0.006, memory: 2073, decode.loss_ce: 0.1368, decode.acc_seg: 92.4862, aux_0.loss_ce: 0.1375, aux_0.acc_seg: 92.4616, aux_1.loss_ce: 0.1382, aux_1.acc_seg: 92.4728, aux_2.loss_ce: 0.0353, aux_2.loss_dice: 0.3318, aux_2.acc_seg: 99.2964, loss: 0.7796\n",
      "2022-03-28 19:11:23,673 - mmseg - INFO - Iter [15450/160000]\tlr: 9.135e-03, eta: 1 day, 5:16:01, time: 0.728, data_time: 0.005, memory: 2073, decode.loss_ce: 0.1418, decode.acc_seg: 91.8907, aux_0.loss_ce: 0.1448, aux_0.acc_seg: 91.8505, aux_1.loss_ce: 0.1418, aux_1.acc_seg: 91.9144, aux_2.loss_ce: 0.0367, aux_2.loss_dice: 0.3256, aux_2.acc_seg: 99.2622, loss: 0.7907\n",
      "2022-03-28 19:12:00,075 - mmseg - INFO - Iter [15500/160000]\tlr: 9.133e-03, eta: 1 day, 5:15:24, time: 0.728, data_time: 0.006, memory: 2073, decode.loss_ce: 0.1418, decode.acc_seg: 92.2514, aux_0.loss_ce: 0.1405, aux_0.acc_seg: 92.2402, aux_1.loss_ce: 0.1445, aux_1.acc_seg: 92.2141, aux_2.loss_ce: 0.0374, aux_2.loss_dice: 0.3233, aux_2.acc_seg: 99.2489, loss: 0.7876\n",
      "2022-03-28 19:12:33,912 - mmseg - INFO - Iter [15550/160000]\tlr: 9.130e-03, eta: 1 day, 5:14:23, time: 0.676, data_time: 0.006, memory: 2073, decode.loss_ce: 0.1541, decode.acc_seg: 91.6133, aux_0.loss_ce: 0.1525, aux_0.acc_seg: 91.5833, aux_1.loss_ce: 0.1522, aux_1.acc_seg: 91.6092, aux_2.loss_ce: 0.0381, aux_2.loss_dice: 0.3255, aux_2.acc_seg: 99.2251, loss: 0.8224\n",
      "2022-03-28 19:13:10,209 - mmseg - INFO - Iter [15600/160000]\tlr: 9.127e-03, eta: 1 day, 5:13:46, time: 0.727, data_time: 0.006, memory: 2073, decode.loss_ce: 0.1613, decode.acc_seg: 91.0666, aux_0.loss_ce: 0.1637, aux_0.acc_seg: 91.0320, aux_1.loss_ce: 0.1639, aux_1.acc_seg: 91.0451, aux_2.loss_ce: 0.0397, aux_2.loss_dice: 0.3479, aux_2.acc_seg: 99.2347, loss: 0.8766\n",
      "2022-03-28 19:13:46,589 - mmseg - INFO - Iter [15650/160000]\tlr: 9.124e-03, eta: 1 day, 5:13:09, time: 0.728, data_time: 0.006, memory: 2073, decode.loss_ce: 0.1473, decode.acc_seg: 91.6902, aux_0.loss_ce: 0.1463, aux_0.acc_seg: 91.6181, aux_1.loss_ce: 0.1466, aux_1.acc_seg: 91.6578, aux_2.loss_ce: 0.0381, aux_2.loss_dice: 0.3338, aux_2.acc_seg: 99.2454, loss: 0.8120\n",
      "2022-03-28 19:14:22,994 - mmseg - INFO - Iter [15700/160000]\tlr: 9.121e-03, eta: 1 day, 5:12:32, time: 0.728, data_time: 0.005, memory: 2073, decode.loss_ce: 0.1357, decode.acc_seg: 92.5920, aux_0.loss_ce: 0.1361, aux_0.acc_seg: 92.6255, aux_1.loss_ce: 0.1354, aux_1.acc_seg: 92.6290, aux_2.loss_ce: 0.0352, aux_2.loss_dice: 0.3141, aux_2.acc_seg: 99.3055, loss: 0.7565\n",
      "2022-03-28 19:14:59,341 - mmseg - INFO - Iter [15750/160000]\tlr: 9.118e-03, eta: 1 day, 5:11:55, time: 0.727, data_time: 0.005, memory: 2073, decode.loss_ce: 0.1469, decode.acc_seg: 91.5673, aux_0.loss_ce: 0.1487, aux_0.acc_seg: 91.5200, aux_1.loss_ce: 0.1499, aux_1.acc_seg: 91.5804, aux_2.loss_ce: 0.0393, aux_2.loss_dice: 0.3321, aux_2.acc_seg: 99.2119, loss: 0.8169\n",
      "2022-03-28 19:15:35,675 - mmseg - INFO - Iter [15800/160000]\tlr: 9.116e-03, eta: 1 day, 5:11:18, time: 0.727, data_time: 0.005, memory: 2073, decode.loss_ce: 0.1425, decode.acc_seg: 92.2685, aux_0.loss_ce: 0.1429, aux_0.acc_seg: 92.2772, aux_1.loss_ce: 0.1412, aux_1.acc_seg: 92.2847, aux_2.loss_ce: 0.0370, aux_2.loss_dice: 0.3201, aux_2.acc_seg: 99.2661, loss: 0.7838\n",
      "2022-03-28 19:16:12,080 - mmseg - INFO - Iter [15850/160000]\tlr: 9.113e-03, eta: 1 day, 5:10:41, time: 0.728, data_time: 0.006, memory: 2073, decode.loss_ce: 0.1430, decode.acc_seg: 91.7387, aux_0.loss_ce: 0.1446, aux_0.acc_seg: 91.7355, aux_1.loss_ce: 0.1439, aux_1.acc_seg: 91.7394, aux_2.loss_ce: 0.0359, aux_2.loss_dice: 0.3109, aux_2.acc_seg: 99.2951, loss: 0.7782\n",
      "2022-03-28 19:16:48,405 - mmseg - INFO - Iter [15900/160000]\tlr: 9.110e-03, eta: 1 day, 5:10:04, time: 0.726, data_time: 0.006, memory: 2073, decode.loss_ce: 0.1378, decode.acc_seg: 92.3377, aux_0.loss_ce: 0.1371, aux_0.acc_seg: 92.3366, aux_1.loss_ce: 0.1390, aux_1.acc_seg: 92.3377, aux_2.loss_ce: 0.0344, aux_2.loss_dice: 0.3053, aux_2.acc_seg: 99.3239, loss: 0.7536\n",
      "2022-03-28 19:17:24,837 - mmseg - INFO - Iter [15950/160000]\tlr: 9.107e-03, eta: 1 day, 5:09:27, time: 0.729, data_time: 0.006, memory: 2073, decode.loss_ce: 0.1374, decode.acc_seg: 92.1768, aux_0.loss_ce: 0.1380, aux_0.acc_seg: 92.1693, aux_1.loss_ce: 0.1379, aux_1.acc_seg: 92.1661, aux_2.loss_ce: 0.0360, aux_2.loss_dice: 0.3174, aux_2.acc_seg: 99.2821, loss: 0.7668\n",
      "2022-03-28 19:18:01,286 - mmseg - INFO - Iter [16000/160000]\tlr: 9.104e-03, eta: 1 day, 5:08:51, time: 0.729, data_time: 0.005, memory: 2073, decode.loss_ce: 0.1567, decode.acc_seg: 91.3269, aux_0.loss_ce: 0.1576, aux_0.acc_seg: 91.2792, aux_1.loss_ce: 0.1566, aux_1.acc_seg: 91.3174, aux_2.loss_ce: 0.0379, aux_2.loss_dice: 0.3364, aux_2.acc_seg: 99.2476, loss: 0.8453\n",
      "2022-03-28 19:18:40,302 - mmseg - INFO - Iter [16050/160000]\tlr: 9.102e-03, eta: 1 day, 5:08:37, time: 0.780, data_time: 0.059, memory: 2073, decode.loss_ce: 0.1616, decode.acc_seg: 90.9109, aux_0.loss_ce: 0.1603, aux_0.acc_seg: 90.8815, aux_1.loss_ce: 0.1654, aux_1.acc_seg: 90.8423, aux_2.loss_ce: 0.0392, aux_2.loss_dice: 0.3369, aux_2.acc_seg: 99.2265, loss: 0.8635\n"
     ]
    },
    {
     "name": "stderr",
     "output_type": "stream",
     "text": [
      "2022-03-28 19:19:16,687 - mmseg - INFO - Iter [16100/160000]\tlr: 9.099e-03, eta: 1 day, 5:08:01, time: 0.728, data_time: 0.006, memory: 2073, decode.loss_ce: 0.1593, decode.acc_seg: 91.4290, aux_0.loss_ce: 0.1610, aux_0.acc_seg: 91.4261, aux_1.loss_ce: 0.1579, aux_1.acc_seg: 91.4238, aux_2.loss_ce: 0.0371, aux_2.loss_dice: 0.3441, aux_2.acc_seg: 99.2826, loss: 0.8595\n",
      "2022-03-28 19:19:52,567 - mmseg - INFO - Iter [16150/160000]\tlr: 9.096e-03, eta: 1 day, 5:07:19, time: 0.718, data_time: 0.005, memory: 2073, decode.loss_ce: 0.1299, decode.acc_seg: 92.8031, aux_0.loss_ce: 0.1289, aux_0.acc_seg: 92.7950, aux_1.loss_ce: 0.1299, aux_1.acc_seg: 92.7976, aux_2.loss_ce: 0.0358, aux_2.loss_dice: 0.3286, aux_2.acc_seg: 99.2863, loss: 0.7531\n",
      "2022-03-28 19:20:26,578 - mmseg - INFO - Iter [16200/160000]\tlr: 9.093e-03, eta: 1 day, 5:06:21, time: 0.679, data_time: 0.005, memory: 2073, decode.loss_ce: 0.1209, decode.acc_seg: 93.2004, aux_0.loss_ce: 0.1230, aux_0.acc_seg: 93.1238, aux_1.loss_ce: 0.1228, aux_1.acc_seg: 93.1311, aux_2.loss_ce: 0.0345, aux_2.loss_dice: 0.3440, aux_2.acc_seg: 99.3143, loss: 0.7453\n",
      "2022-03-28 19:21:02,822 - mmseg - INFO - Iter [16250/160000]\tlr: 9.090e-03, eta: 1 day, 5:05:43, time: 0.726, data_time: 0.006, memory: 2073, decode.loss_ce: 0.1511, decode.acc_seg: 91.5623, aux_0.loss_ce: 0.1500, aux_0.acc_seg: 91.6154, aux_1.loss_ce: 0.1485, aux_1.acc_seg: 91.5567, aux_2.loss_ce: 0.0379, aux_2.loss_dice: 0.3276, aux_2.acc_seg: 99.2419, loss: 0.8151\n",
      "2022-03-28 19:21:39,239 - mmseg - INFO - Iter [16300/160000]\tlr: 9.088e-03, eta: 1 day, 5:05:07, time: 0.729, data_time: 0.005, memory: 2073, decode.loss_ce: 0.1399, decode.acc_seg: 92.2669, aux_0.loss_ce: 0.1401, aux_0.acc_seg: 92.2538, aux_1.loss_ce: 0.1420, aux_1.acc_seg: 92.2863, aux_2.loss_ce: 0.0472, aux_2.loss_dice: 0.4201, aux_2.acc_seg: 99.1628, loss: 0.8893\n",
      "2022-03-28 19:22:15,669 - mmseg - INFO - Iter [16350/160000]\tlr: 9.085e-03, eta: 1 day, 5:04:30, time: 0.729, data_time: 0.005, memory: 2073, decode.loss_ce: 0.1512, decode.acc_seg: 91.6785, aux_0.loss_ce: 0.1525, aux_0.acc_seg: 91.6631, aux_1.loss_ce: 0.1565, aux_1.acc_seg: 91.6253, aux_2.loss_ce: 0.0425, aux_2.loss_dice: 0.3992, aux_2.acc_seg: 99.1733, loss: 0.9019\n",
      "2022-03-28 19:22:52,045 - mmseg - INFO - Iter [16400/160000]\tlr: 9.082e-03, eta: 1 day, 5:03:53, time: 0.727, data_time: 0.005, memory: 2073, decode.loss_ce: 0.1524, decode.acc_seg: 91.8121, aux_0.loss_ce: 0.1560, aux_0.acc_seg: 91.7799, aux_1.loss_ce: 0.1557, aux_1.acc_seg: 91.7307, aux_2.loss_ce: 0.0404, aux_2.loss_dice: 0.4045, aux_2.acc_seg: 99.1892, loss: 0.9091\n",
      "2022-03-28 19:23:28,380 - mmseg - INFO - Iter [16450/160000]\tlr: 9.079e-03, eta: 1 day, 5:03:16, time: 0.727, data_time: 0.006, memory: 2073, decode.loss_ce: 0.1359, decode.acc_seg: 92.1240, aux_0.loss_ce: 0.1376, aux_0.acc_seg: 92.1650, aux_1.loss_ce: 0.1365, aux_1.acc_seg: 92.2315, aux_2.loss_ce: 0.0428, aux_2.loss_dice: 0.3730, aux_2.acc_seg: 99.1907, loss: 0.8259\n",
      "2022-03-28 19:24:04,729 - mmseg - INFO - Iter [16500/160000]\tlr: 9.076e-03, eta: 1 day, 5:02:39, time: 0.727, data_time: 0.005, memory: 2073, decode.loss_ce: 0.1374, decode.acc_seg: 92.0830, aux_0.loss_ce: 0.1310, aux_0.acc_seg: 92.1013, aux_1.loss_ce: 0.1320, aux_1.acc_seg: 92.1422, aux_2.loss_ce: 0.0428, aux_2.loss_dice: 0.3536, aux_2.acc_seg: 99.1968, loss: 0.7969\n",
      "2022-03-28 19:24:41,052 - mmseg - INFO - Iter [16550/160000]\tlr: 9.073e-03, eta: 1 day, 5:02:01, time: 0.726, data_time: 0.005, memory: 2073, decode.loss_ce: 0.1504, decode.acc_seg: 91.9752, aux_0.loss_ce: 0.1550, aux_0.acc_seg: 91.9627, aux_1.loss_ce: 0.1526, aux_1.acc_seg: 91.9806, aux_2.loss_ce: 0.0402, aux_2.loss_dice: 0.3464, aux_2.acc_seg: 99.2338, loss: 0.8446\n",
      "2022-03-28 19:25:17,415 - mmseg - INFO - Iter [16600/160000]\tlr: 9.071e-03, eta: 1 day, 5:01:24, time: 0.727, data_time: 0.005, memory: 2073, decode.loss_ce: 0.1159, decode.acc_seg: 93.3944, aux_0.loss_ce: 0.1183, aux_0.acc_seg: 93.3369, aux_1.loss_ce: 0.1183, aux_1.acc_seg: 93.3439, aux_2.loss_ce: 0.0367, aux_2.loss_dice: 0.3447, aux_2.acc_seg: 99.2762, loss: 0.7339\n",
      "2022-03-28 19:25:53,823 - mmseg - INFO - Iter [16650/160000]\tlr: 9.068e-03, eta: 1 day, 5:00:48, time: 0.728, data_time: 0.006, memory: 2073, decode.loss_ce: 0.1333, decode.acc_seg: 92.4715, aux_0.loss_ce: 0.1320, aux_0.acc_seg: 92.4490, aux_1.loss_ce: 0.1325, aux_1.acc_seg: 92.4887, aux_2.loss_ce: 0.0383, aux_2.loss_dice: 0.3436, aux_2.acc_seg: 99.2485, loss: 0.7797\n",
      "2022-03-28 19:26:30,213 - mmseg - INFO - Iter [16700/160000]\tlr: 9.065e-03, eta: 1 day, 5:00:11, time: 0.727, data_time: 0.005, memory: 2073, decode.loss_ce: 0.1722, decode.acc_seg: 91.1274, aux_0.loss_ce: 0.1682, aux_0.acc_seg: 91.0613, aux_1.loss_ce: 0.1688, aux_1.acc_seg: 91.0166, aux_2.loss_ce: 0.0406, aux_2.loss_dice: 0.3343, aux_2.acc_seg: 99.2213, loss: 0.8841\n",
      "2022-03-28 19:27:09,225 - mmseg - INFO - Iter [16750/160000]\tlr: 9.062e-03, eta: 1 day, 4:59:56, time: 0.781, data_time: 0.059, memory: 2073, decode.loss_ce: 0.1251, decode.acc_seg: 92.4283, aux_0.loss_ce: 0.1285, aux_0.acc_seg: 92.4128, aux_1.loss_ce: 0.1339, aux_1.acc_seg: 92.4204, aux_2.loss_ce: 0.0373, aux_2.loss_dice: 0.3479, aux_2.acc_seg: 99.2774, loss: 0.7727\n",
      "2022-03-28 19:27:43,431 - mmseg - INFO - Iter [16800/160000]\tlr: 9.059e-03, eta: 1 day, 4:59:01, time: 0.685, data_time: 0.005, memory: 2073, decode.loss_ce: 0.1588, decode.acc_seg: 91.3207, aux_0.loss_ce: 0.1652, aux_0.acc_seg: 91.3130, aux_1.loss_ce: 0.1594, aux_1.acc_seg: 91.3302, aux_2.loss_ce: 0.0381, aux_2.loss_dice: 0.3345, aux_2.acc_seg: 99.2586, loss: 0.8560\n",
      "2022-03-28 19:28:19,320 - mmseg - INFO - Iter [16850/160000]\tlr: 9.057e-03, eta: 1 day, 4:58:20, time: 0.717, data_time: 0.005, memory: 2073, decode.loss_ce: 0.1537, decode.acc_seg: 91.1605, aux_0.loss_ce: 0.1517, aux_0.acc_seg: 91.3076, aux_1.loss_ce: 0.1532, aux_1.acc_seg: 91.2123, aux_2.loss_ce: 0.0408, aux_2.loss_dice: 0.3538, aux_2.acc_seg: 99.2053, loss: 0.8532\n",
      "2022-03-28 19:28:55,636 - mmseg - INFO - Iter [16900/160000]\tlr: 9.054e-03, eta: 1 day, 4:57:43, time: 0.726, data_time: 0.005, memory: 2073, decode.loss_ce: 0.1340, decode.acc_seg: 92.4790, aux_0.loss_ce: 0.1305, aux_0.acc_seg: 92.4584, aux_1.loss_ce: 0.1337, aux_1.acc_seg: 92.4255, aux_2.loss_ce: 0.0390, aux_2.loss_dice: 0.3320, aux_2.acc_seg: 99.2401, loss: 0.7692\n",
      "2022-03-28 19:29:32,040 - mmseg - INFO - Iter [16950/160000]\tlr: 9.051e-03, eta: 1 day, 4:57:06, time: 0.728, data_time: 0.005, memory: 2073, decode.loss_ce: 0.1500, decode.acc_seg: 91.8237, aux_0.loss_ce: 0.1491, aux_0.acc_seg: 91.8210, aux_1.loss_ce: 0.1499, aux_1.acc_seg: 91.7315, aux_2.loss_ce: 0.0385, aux_2.loss_dice: 0.3504, aux_2.acc_seg: 99.2434, loss: 0.8379\n",
      "2022-03-28 19:30:08,284 - mmseg - INFO - Iter [17000/160000]\tlr: 9.048e-03, eta: 1 day, 4:56:28, time: 0.724, data_time: 0.006, memory: 2073, decode.loss_ce: 0.1285, decode.acc_seg: 92.2472, aux_0.loss_ce: 0.1298, aux_0.acc_seg: 92.2003, aux_1.loss_ce: 0.1294, aux_1.acc_seg: 92.1701, aux_2.loss_ce: 0.0375, aux_2.loss_dice: 0.3168, aux_2.acc_seg: 99.2790, loss: 0.7420\n",
      "2022-03-28 19:30:44,706 - mmseg - INFO - Iter [17050/160000]\tlr: 9.045e-03, eta: 1 day, 4:55:51, time: 0.728, data_time: 0.006, memory: 2073, decode.loss_ce: 0.1337, decode.acc_seg: 92.7671, aux_0.loss_ce: 0.1343, aux_0.acc_seg: 92.7605, aux_1.loss_ce: 0.1339, aux_1.acc_seg: 92.7352, aux_2.loss_ce: 0.0365, aux_2.loss_dice: 0.3241, aux_2.acc_seg: 99.3075, loss: 0.7625\n",
      "2022-03-28 19:31:21,032 - mmseg - INFO - Iter [17100/160000]\tlr: 9.043e-03, eta: 1 day, 4:55:14, time: 0.726, data_time: 0.006, memory: 2073, decode.loss_ce: 0.1227, decode.acc_seg: 92.8166, aux_0.loss_ce: 0.1290, aux_0.acc_seg: 92.8038, aux_1.loss_ce: 0.1253, aux_1.acc_seg: 92.8274, aux_2.loss_ce: 0.0370, aux_2.loss_dice: 0.3102, aux_2.acc_seg: 99.2779, loss: 0.7243\n",
      "2022-03-28 19:31:57,315 - mmseg - INFO - Iter [17150/160000]\tlr: 9.040e-03, eta: 1 day, 4:54:36, time: 0.726, data_time: 0.006, memory: 2073, decode.loss_ce: 0.1408, decode.acc_seg: 92.0095, aux_0.loss_ce: 0.1364, aux_0.acc_seg: 92.0174, aux_1.loss_ce: 0.1409, aux_1.acc_seg: 92.0038, aux_2.loss_ce: 0.0367, aux_2.loss_dice: 0.3181, aux_2.acc_seg: 99.2814, loss: 0.7728\n",
      "2022-03-28 19:32:33,711 - mmseg - INFO - Iter [17200/160000]\tlr: 9.037e-03, eta: 1 day, 4:54:00, time: 0.728, data_time: 0.005, memory: 2073, decode.loss_ce: 0.1271, decode.acc_seg: 92.9369, aux_0.loss_ce: 0.1253, aux_0.acc_seg: 92.9369, aux_1.loss_ce: 0.1250, aux_1.acc_seg: 92.9569, aux_2.loss_ce: 0.0360, aux_2.loss_dice: 0.3258, aux_2.acc_seg: 99.2949, loss: 0.7392\n"
     ]
    },
    {
     "name": "stderr",
     "output_type": "stream",
     "text": [
      "2022-03-28 19:33:10,075 - mmseg - INFO - Iter [17250/160000]\tlr: 9.034e-03, eta: 1 day, 4:53:23, time: 0.727, data_time: 0.005, memory: 2073, decode.loss_ce: 0.1300, decode.acc_seg: 92.7974, aux_0.loss_ce: 0.1318, aux_0.acc_seg: 92.7853, aux_1.loss_ce: 0.1312, aux_1.acc_seg: 92.7889, aux_2.loss_ce: 0.0351, aux_2.loss_dice: 0.3166, aux_2.acc_seg: 99.2904, loss: 0.7447\n",
      "2022-03-28 19:33:46,400 - mmseg - INFO - Iter [17300/160000]\tlr: 9.031e-03, eta: 1 day, 4:52:46, time: 0.727, data_time: 0.005, memory: 2073, decode.loss_ce: 0.1548, decode.acc_seg: 91.3839, aux_0.loss_ce: 0.1545, aux_0.acc_seg: 91.3271, aux_1.loss_ce: 0.1583, aux_1.acc_seg: 91.2879, aux_2.loss_ce: 0.0367, aux_2.loss_dice: 0.3239, aux_2.acc_seg: 99.2682, loss: 0.8281\n",
      "2022-03-28 19:34:22,711 - mmseg - INFO - Iter [17350/160000]\tlr: 9.028e-03, eta: 1 day, 4:52:08, time: 0.725, data_time: 0.005, memory: 2073, decode.loss_ce: 0.1601, decode.acc_seg: 90.9785, aux_0.loss_ce: 0.1623, aux_0.acc_seg: 90.9583, aux_1.loss_ce: 0.1578, aux_1.acc_seg: 90.9794, aux_2.loss_ce: 0.0413, aux_2.loss_dice: 0.3493, aux_2.acc_seg: 99.1921, loss: 0.8708\n",
      "2022-03-28 19:34:59,041 - mmseg - INFO - Iter [17400/160000]\tlr: 9.026e-03, eta: 1 day, 4:51:31, time: 0.727, data_time: 0.006, memory: 2073, decode.loss_ce: 0.1527, decode.acc_seg: 92.0426, aux_0.loss_ce: 0.1487, aux_0.acc_seg: 92.0417, aux_1.loss_ce: 0.1517, aux_1.acc_seg: 92.0699, aux_2.loss_ce: 0.0343, aux_2.loss_dice: 0.3189, aux_2.acc_seg: 99.3482, loss: 0.8064\n",
      "2022-03-28 19:35:35,409 - mmseg - INFO - Iter [17450/160000]\tlr: 9.023e-03, eta: 1 day, 4:50:54, time: 0.728, data_time: 0.059, memory: 2073, decode.loss_ce: 0.1374, decode.acc_seg: 91.9813, aux_0.loss_ce: 0.1402, aux_0.acc_seg: 91.8772, aux_1.loss_ce: 0.1400, aux_1.acc_seg: 91.8756, aux_2.loss_ce: 0.0396, aux_2.loss_dice: 0.3198, aux_2.acc_seg: 99.2282, loss: 0.7770\n",
      "2022-03-28 19:36:11,813 - mmseg - INFO - Iter [17500/160000]\tlr: 9.020e-03, eta: 1 day, 4:50:17, time: 0.728, data_time: 0.006, memory: 2073, decode.loss_ce: 0.1493, decode.acc_seg: 91.3712, aux_0.loss_ce: 0.1488, aux_0.acc_seg: 91.3641, aux_1.loss_ce: 0.1498, aux_1.acc_seg: 91.3659, aux_2.loss_ce: 0.0380, aux_2.loss_dice: 0.3376, aux_2.acc_seg: 99.2594, loss: 0.8234\n",
      "2022-03-28 19:36:48,193 - mmseg - INFO - Iter [17550/160000]\tlr: 9.017e-03, eta: 1 day, 4:49:41, time: 0.728, data_time: 0.006, memory: 2073, decode.loss_ce: 0.1457, decode.acc_seg: 91.8396, aux_0.loss_ce: 0.1465, aux_0.acc_seg: 91.8206, aux_1.loss_ce: 0.1461, aux_1.acc_seg: 91.8261, aux_2.loss_ce: 0.0374, aux_2.loss_dice: 0.3172, aux_2.acc_seg: 99.2686, loss: 0.7929\n",
      "2022-03-28 19:37:24,627 - mmseg - INFO - Iter [17600/160000]\tlr: 9.014e-03, eta: 1 day, 4:49:04, time: 0.729, data_time: 0.005, memory: 2073, decode.loss_ce: 0.1275, decode.acc_seg: 93.0665, aux_0.loss_ce: 0.1287, aux_0.acc_seg: 92.9778, aux_1.loss_ce: 0.1272, aux_1.acc_seg: 93.0256, aux_2.loss_ce: 0.0352, aux_2.loss_dice: 0.3222, aux_2.acc_seg: 99.3224, loss: 0.7407\n",
      "2022-03-28 19:38:00,949 - mmseg - INFO - Iter [17650/160000]\tlr: 9.012e-03, eta: 1 day, 4:48:27, time: 0.726, data_time: 0.005, memory: 2073, decode.loss_ce: 0.1389, decode.acc_seg: 92.0378, aux_0.loss_ce: 0.1398, aux_0.acc_seg: 92.0557, aux_1.loss_ce: 0.1390, aux_1.acc_seg: 92.0460, aux_2.loss_ce: 0.0365, aux_2.loss_dice: 0.3200, aux_2.acc_seg: 99.2778, loss: 0.7743\n",
      "2022-03-28 19:38:37,322 - mmseg - INFO - Iter [17700/160000]\tlr: 9.009e-03, eta: 1 day, 4:47:50, time: 0.727, data_time: 0.005, memory: 2073, decode.loss_ce: 0.1471, decode.acc_seg: 91.5300, aux_0.loss_ce: 0.1479, aux_0.acc_seg: 91.5573, aux_1.loss_ce: 0.1484, aux_1.acc_seg: 91.5315, aux_2.loss_ce: 0.0380, aux_2.loss_dice: 0.3236, aux_2.acc_seg: 99.2562, loss: 0.8050\n",
      "2022-03-28 19:39:13,717 - mmseg - INFO - Iter [17750/160000]\tlr: 9.006e-03, eta: 1 day, 4:47:13, time: 0.728, data_time: 0.006, memory: 2073, decode.loss_ce: 0.1549, decode.acc_seg: 91.2121, aux_0.loss_ce: 0.1521, aux_0.acc_seg: 91.2337, aux_1.loss_ce: 0.1552, aux_1.acc_seg: 91.2819, aux_2.loss_ce: 0.0376, aux_2.loss_dice: 0.3387, aux_2.acc_seg: 99.2586, loss: 0.8386\n",
      "2022-03-28 19:39:50,046 - mmseg - INFO - Iter [17800/160000]\tlr: 9.003e-03, eta: 1 day, 4:46:36, time: 0.726, data_time: 0.006, memory: 2073, decode.loss_ce: 0.1482, decode.acc_seg: 91.9158, aux_0.loss_ce: 0.1489, aux_0.acc_seg: 91.9141, aux_1.loss_ce: 0.1457, aux_1.acc_seg: 91.8925, aux_2.loss_ce: 0.0353, aux_2.loss_dice: 0.3039, aux_2.acc_seg: 99.3135, loss: 0.7819\n",
      "2022-03-28 19:40:26,476 - mmseg - INFO - Iter [17850/160000]\tlr: 9.000e-03, eta: 1 day, 4:46:00, time: 0.729, data_time: 0.006, memory: 2073, decode.loss_ce: 0.1255, decode.acc_seg: 92.9277, aux_0.loss_ce: 0.1270, aux_0.acc_seg: 92.9222, aux_1.loss_ce: 0.1299, aux_1.acc_seg: 92.9383, aux_2.loss_ce: 0.0343, aux_2.loss_dice: 0.3143, aux_2.acc_seg: 99.3419, loss: 0.7310\n",
      "2022-03-28 19:41:02,809 - mmseg - INFO - Iter [17900/160000]\tlr: 8.997e-03, eta: 1 day, 4:45:22, time: 0.726, data_time: 0.005, memory: 2073, decode.loss_ce: 0.1232, decode.acc_seg: 92.8551, aux_0.loss_ce: 0.1239, aux_0.acc_seg: 92.9096, aux_1.loss_ce: 0.1243, aux_1.acc_seg: 92.9310, aux_2.loss_ce: 0.0353, aux_2.loss_dice: 0.3205, aux_2.acc_seg: 99.3017, loss: 0.7272\n",
      "2022-03-28 19:41:39,029 - mmseg - INFO - Iter [17950/160000]\tlr: 8.995e-03, eta: 1 day, 4:44:45, time: 0.725, data_time: 0.006, memory: 2073, decode.loss_ce: 0.1606, decode.acc_seg: 91.3246, aux_0.loss_ce: 0.1558, aux_0.acc_seg: 91.3225, aux_1.loss_ce: 0.1579, aux_1.acc_seg: 91.3656, aux_2.loss_ce: 0.0377, aux_2.loss_dice: 0.3238, aux_2.acc_seg: 99.2527, loss: 0.8358\n",
      "2022-03-28 19:42:15,395 - mmseg - INFO - Iter [18000/160000]\tlr: 8.992e-03, eta: 1 day, 4:44:08, time: 0.727, data_time: 0.005, memory: 2073, decode.loss_ce: 0.1381, decode.acc_seg: 91.7354, aux_0.loss_ce: 0.1406, aux_0.acc_seg: 91.6468, aux_1.loss_ce: 0.1412, aux_1.acc_seg: 91.6363, aux_2.loss_ce: 0.0373, aux_2.loss_dice: 0.3216, aux_2.acc_seg: 99.2668, loss: 0.7789\n",
      "2022-03-28 19:42:51,810 - mmseg - INFO - Iter [18050/160000]\tlr: 8.989e-03, eta: 1 day, 4:43:31, time: 0.729, data_time: 0.006, memory: 2073, decode.loss_ce: 0.1411, decode.acc_seg: 92.5984, aux_0.loss_ce: 0.1408, aux_0.acc_seg: 92.6141, aux_1.loss_ce: 0.1419, aux_1.acc_seg: 92.5943, aux_2.loss_ce: 0.0365, aux_2.loss_dice: 0.3240, aux_2.acc_seg: 99.2920, loss: 0.7843\n",
      "2022-03-28 19:43:29,417 - mmseg - INFO - Iter [18100/160000]\tlr: 8.986e-03, eta: 1 day, 4:43:04, time: 0.752, data_time: 0.058, memory: 2073, decode.loss_ce: 0.1402, decode.acc_seg: 91.9836, aux_0.loss_ce: 0.1421, aux_0.acc_seg: 91.9565, aux_1.loss_ce: 0.1411, aux_1.acc_seg: 91.9927, aux_2.loss_ce: 0.0395, aux_2.loss_dice: 0.3363, aux_2.acc_seg: 99.2538, loss: 0.7992\n",
      "2022-03-28 19:44:05,774 - mmseg - INFO - Iter [18150/160000]\tlr: 8.983e-03, eta: 1 day, 4:42:27, time: 0.727, data_time: 0.005, memory: 2073, decode.loss_ce: 0.1514, decode.acc_seg: 91.4782, aux_0.loss_ce: 0.1511, aux_0.acc_seg: 91.4657, aux_1.loss_ce: 0.1506, aux_1.acc_seg: 91.5116, aux_2.loss_ce: 0.0370, aux_2.loss_dice: 0.3408, aux_2.acc_seg: 99.2811, loss: 0.8309\n",
      "2022-03-28 19:44:42,157 - mmseg - INFO - Iter [18200/160000]\tlr: 8.981e-03, eta: 1 day, 4:41:50, time: 0.727, data_time: 0.005, memory: 2073, decode.loss_ce: 0.1464, decode.acc_seg: 91.6048, aux_0.loss_ce: 0.1442, aux_0.acc_seg: 91.5752, aux_1.loss_ce: 0.1444, aux_1.acc_seg: 91.5527, aux_2.loss_ce: 0.0399, aux_2.loss_dice: 0.3318, aux_2.acc_seg: 99.2038, loss: 0.8066\n",
      "2022-03-28 19:45:18,541 - mmseg - INFO - Iter [18250/160000]\tlr: 8.978e-03, eta: 1 day, 4:41:13, time: 0.727, data_time: 0.006, memory: 2073, decode.loss_ce: 0.1294, decode.acc_seg: 92.7533, aux_0.loss_ce: 0.1319, aux_0.acc_seg: 92.7765, aux_1.loss_ce: 0.1331, aux_1.acc_seg: 92.7543, aux_2.loss_ce: 0.0361, aux_2.loss_dice: 0.3181, aux_2.acc_seg: 99.2782, loss: 0.7486\n",
      "2022-03-28 19:45:54,932 - mmseg - INFO - Iter [18300/160000]\tlr: 8.975e-03, eta: 1 day, 4:40:36, time: 0.728, data_time: 0.006, memory: 2073, decode.loss_ce: 0.1400, decode.acc_seg: 92.1569, aux_0.loss_ce: 0.1394, aux_0.acc_seg: 92.0915, aux_1.loss_ce: 0.1354, aux_1.acc_seg: 92.1854, aux_2.loss_ce: 0.0363, aux_2.loss_dice: 0.3054, aux_2.acc_seg: 99.2833, loss: 0.7564\n",
      "2022-03-28 19:46:31,303 - mmseg - INFO - Iter [18350/160000]\tlr: 8.972e-03, eta: 1 day, 4:40:00, time: 0.728, data_time: 0.006, memory: 2073, decode.loss_ce: 0.1395, decode.acc_seg: 92.0452, aux_0.loss_ce: 0.1406, aux_0.acc_seg: 92.0425, aux_1.loss_ce: 0.1423, aux_1.acc_seg: 92.0465, aux_2.loss_ce: 0.0363, aux_2.loss_dice: 0.3201, aux_2.acc_seg: 99.2881, loss: 0.7789\n"
     ]
    },
    {
     "name": "stderr",
     "output_type": "stream",
     "text": [
      "2022-03-28 19:47:07,609 - mmseg - INFO - Iter [18400/160000]\tlr: 8.969e-03, eta: 1 day, 4:39:22, time: 0.726, data_time: 0.006, memory: 2073, decode.loss_ce: 0.1567, decode.acc_seg: 90.8088, aux_0.loss_ce: 0.1562, aux_0.acc_seg: 90.7499, aux_1.loss_ce: 0.1617, aux_1.acc_seg: 90.7141, aux_2.loss_ce: 0.0373, aux_2.loss_dice: 0.2995, aux_2.acc_seg: 99.2504, loss: 0.8114\n",
      "2022-03-28 19:47:43,909 - mmseg - INFO - Iter [18450/160000]\tlr: 8.966e-03, eta: 1 day, 4:38:45, time: 0.726, data_time: 0.006, memory: 2073, decode.loss_ce: 0.1386, decode.acc_seg: 91.9810, aux_0.loss_ce: 0.1400, aux_0.acc_seg: 91.9914, aux_1.loss_ce: 0.1391, aux_1.acc_seg: 91.9790, aux_2.loss_ce: 0.0354, aux_2.loss_dice: 0.3199, aux_2.acc_seg: 99.2923, loss: 0.7731\n",
      "2022-03-28 19:48:20,264 - mmseg - INFO - Iter [18500/160000]\tlr: 8.964e-03, eta: 1 day, 4:38:08, time: 0.727, data_time: 0.005, memory: 2073, decode.loss_ce: 0.1344, decode.acc_seg: 92.4003, aux_0.loss_ce: 0.1349, aux_0.acc_seg: 92.3319, aux_1.loss_ce: 0.1347, aux_1.acc_seg: 92.3474, aux_2.loss_ce: 0.0369, aux_2.loss_dice: 0.3111, aux_2.acc_seg: 99.2605, loss: 0.7521\n",
      "2022-03-28 19:48:56,626 - mmseg - INFO - Iter [18550/160000]\tlr: 8.961e-03, eta: 1 day, 4:37:31, time: 0.727, data_time: 0.005, memory: 2073, decode.loss_ce: 0.1392, decode.acc_seg: 92.1435, aux_0.loss_ce: 0.1409, aux_0.acc_seg: 92.0689, aux_1.loss_ce: 0.1425, aux_1.acc_seg: 92.0736, aux_2.loss_ce: 0.0383, aux_2.loss_dice: 0.3290, aux_2.acc_seg: 99.2603, loss: 0.7899\n",
      "2022-03-28 19:49:25,364 - mmseg - INFO - Iter [18600/160000]\tlr: 8.958e-03, eta: 1 day, 4:35:56, time: 0.575, data_time: 0.005, memory: 2073, decode.loss_ce: 0.1312, decode.acc_seg: 92.5520, aux_0.loss_ce: 0.1316, aux_0.acc_seg: 92.5284, aux_1.loss_ce: 0.1282, aux_1.acc_seg: 92.5294, aux_2.loss_ce: 0.0366, aux_2.loss_dice: 0.3129, aux_2.acc_seg: 99.2934, loss: 0.7405\n",
      "2022-03-28 19:50:01,487 - mmseg - INFO - Iter [18650/160000]\tlr: 8.955e-03, eta: 1 day, 4:35:17, time: 0.722, data_time: 0.005, memory: 2073, decode.loss_ce: 0.1332, decode.acc_seg: 92.3247, aux_0.loss_ce: 0.1333, aux_0.acc_seg: 92.2989, aux_1.loss_ce: 0.1373, aux_1.acc_seg: 92.3692, aux_2.loss_ce: 0.0364, aux_2.loss_dice: 0.3263, aux_2.acc_seg: 99.2839, loss: 0.7665\n",
      "2022-03-28 19:50:37,740 - mmseg - INFO - Iter [18700/160000]\tlr: 8.952e-03, eta: 1 day, 4:34:40, time: 0.726, data_time: 0.006, memory: 2073, decode.loss_ce: 0.1354, decode.acc_seg: 92.0671, aux_0.loss_ce: 0.1360, aux_0.acc_seg: 92.0636, aux_1.loss_ce: 0.1356, aux_1.acc_seg: 92.1076, aux_2.loss_ce: 0.0359, aux_2.loss_dice: 0.3350, aux_2.acc_seg: 99.3002, loss: 0.7780\n",
      "2022-03-28 19:51:14,124 - mmseg - INFO - Iter [18750/160000]\tlr: 8.950e-03, eta: 1 day, 4:34:04, time: 0.728, data_time: 0.005, memory: 2073, decode.loss_ce: 0.1587, decode.acc_seg: 91.0287, aux_0.loss_ce: 0.1610, aux_0.acc_seg: 90.9896, aux_1.loss_ce: 0.1602, aux_1.acc_seg: 91.0165, aux_2.loss_ce: 0.0387, aux_2.loss_dice: 0.3403, aux_2.acc_seg: 99.2361, loss: 0.8589\n",
      "2022-03-28 19:51:50,573 - mmseg - INFO - Iter [18800/160000]\tlr: 8.947e-03, eta: 1 day, 4:33:28, time: 0.729, data_time: 0.057, memory: 2073, decode.loss_ce: 0.1311, decode.acc_seg: 92.7793, aux_0.loss_ce: 0.1305, aux_0.acc_seg: 92.8067, aux_1.loss_ce: 0.1325, aux_1.acc_seg: 92.7504, aux_2.loss_ce: 0.0373, aux_2.loss_dice: 0.3289, aux_2.acc_seg: 99.2801, loss: 0.7604\n",
      "2022-03-28 19:52:26,923 - mmseg - INFO - Iter [18850/160000]\tlr: 8.944e-03, eta: 1 day, 4:32:51, time: 0.727, data_time: 0.005, memory: 2073, decode.loss_ce: 0.1431, decode.acc_seg: 92.0317, aux_0.loss_ce: 0.1420, aux_0.acc_seg: 91.9666, aux_1.loss_ce: 0.1408, aux_1.acc_seg: 92.0118, aux_2.loss_ce: 0.0370, aux_2.loss_dice: 0.3180, aux_2.acc_seg: 99.2761, loss: 0.7809\n",
      "2022-03-28 19:53:03,237 - mmseg - INFO - Iter [18900/160000]\tlr: 8.941e-03, eta: 1 day, 4:32:14, time: 0.726, data_time: 0.005, memory: 2073, decode.loss_ce: 0.1388, decode.acc_seg: 92.1132, aux_0.loss_ce: 0.1401, aux_0.acc_seg: 92.1007, aux_1.loss_ce: 0.1402, aux_1.acc_seg: 92.1114, aux_2.loss_ce: 0.0358, aux_2.loss_dice: 0.3443, aux_2.acc_seg: 99.3091, loss: 0.7991\n",
      "2022-03-28 19:53:39,614 - mmseg - INFO - Iter [18950/160000]\tlr: 8.938e-03, eta: 1 day, 4:31:37, time: 0.727, data_time: 0.005, memory: 2073, decode.loss_ce: 0.1499, decode.acc_seg: 91.6401, aux_0.loss_ce: 0.1482, aux_0.acc_seg: 91.6091, aux_1.loss_ce: 0.1487, aux_1.acc_seg: 91.5989, aux_2.loss_ce: 0.0368, aux_2.loss_dice: 0.3257, aux_2.acc_seg: 99.2800, loss: 0.8094\n",
      "2022-03-28 19:54:15,977 - mmseg - INFO - Iter [19000/160000]\tlr: 8.935e-03, eta: 1 day, 4:31:00, time: 0.727, data_time: 0.005, memory: 2073, decode.loss_ce: 0.1367, decode.acc_seg: 91.8527, aux_0.loss_ce: 0.1378, aux_0.acc_seg: 91.8401, aux_1.loss_ce: 0.1403, aux_1.acc_seg: 91.8001, aux_2.loss_ce: 0.0373, aux_2.loss_dice: 0.3250, aux_2.acc_seg: 99.2725, loss: 0.7771\n",
      "2022-03-28 19:54:52,435 - mmseg - INFO - Iter [19050/160000]\tlr: 8.933e-03, eta: 1 day, 4:30:24, time: 0.730, data_time: 0.006, memory: 2073, decode.loss_ce: 0.1366, decode.acc_seg: 92.6886, aux_0.loss_ce: 0.1379, aux_0.acc_seg: 92.6445, aux_1.loss_ce: 0.1376, aux_1.acc_seg: 92.6551, aux_2.loss_ce: 0.0349, aux_2.loss_dice: 0.3165, aux_2.acc_seg: 99.3185, loss: 0.7636\n",
      "2022-03-28 19:55:28,813 - mmseg - INFO - Iter [19100/160000]\tlr: 8.930e-03, eta: 1 day, 4:29:47, time: 0.727, data_time: 0.006, memory: 2073, decode.loss_ce: 0.1645, decode.acc_seg: 90.9924, aux_0.loss_ce: 0.1648, aux_0.acc_seg: 90.9485, aux_1.loss_ce: 0.1648, aux_1.acc_seg: 90.9797, aux_2.loss_ce: 0.0400, aux_2.loss_dice: 0.3449, aux_2.acc_seg: 99.2058, loss: 0.8790\n",
      "2022-03-28 19:56:05,192 - mmseg - INFO - Iter [19150/160000]\tlr: 8.927e-03, eta: 1 day, 4:29:11, time: 0.727, data_time: 0.006, memory: 2073, decode.loss_ce: 0.1693, decode.acc_seg: 90.7942, aux_0.loss_ce: 0.1691, aux_0.acc_seg: 90.7769, aux_1.loss_ce: 0.1695, aux_1.acc_seg: 90.7808, aux_2.loss_ce: 0.0390, aux_2.loss_dice: 0.3268, aux_2.acc_seg: 99.2211, loss: 0.8737\n",
      "2022-03-28 19:56:41,542 - mmseg - INFO - Iter [19200/160000]\tlr: 8.924e-03, eta: 1 day, 4:28:34, time: 0.727, data_time: 0.006, memory: 2073, decode.loss_ce: 0.1535, decode.acc_seg: 90.9945, aux_0.loss_ce: 0.1559, aux_0.acc_seg: 90.9450, aux_1.loss_ce: 0.1542, aux_1.acc_seg: 90.9845, aux_2.loss_ce: 0.0380, aux_2.loss_dice: 0.3366, aux_2.acc_seg: 99.2540, loss: 0.8381\n",
      "2022-03-28 19:57:17,898 - mmseg - INFO - Iter [19250/160000]\tlr: 8.921e-03, eta: 1 day, 4:27:57, time: 0.728, data_time: 0.006, memory: 2073, decode.loss_ce: 0.1349, decode.acc_seg: 92.8565, aux_0.loss_ce: 0.1336, aux_0.acc_seg: 92.8426, aux_1.loss_ce: 0.1368, aux_1.acc_seg: 92.7891, aux_2.loss_ce: 0.0357, aux_2.loss_dice: 0.3316, aux_2.acc_seg: 99.3151, loss: 0.7726\n",
      "2022-03-28 19:57:54,290 - mmseg - INFO - Iter [19300/160000]\tlr: 8.918e-03, eta: 1 day, 4:27:21, time: 0.728, data_time: 0.005, memory: 2073, decode.loss_ce: 0.1314, decode.acc_seg: 92.7729, aux_0.loss_ce: 0.1330, aux_0.acc_seg: 92.6925, aux_1.loss_ce: 0.1322, aux_1.acc_seg: 92.6929, aux_2.loss_ce: 0.0346, aux_2.loss_dice: 0.3244, aux_2.acc_seg: 99.3330, loss: 0.7556\n",
      "2022-03-28 19:58:30,612 - mmseg - INFO - Iter [19350/160000]\tlr: 8.916e-03, eta: 1 day, 4:26:44, time: 0.726, data_time: 0.005, memory: 2073, decode.loss_ce: 0.1234, decode.acc_seg: 92.5719, aux_0.loss_ce: 0.1235, aux_0.acc_seg: 92.5310, aux_1.loss_ce: 0.1247, aux_1.acc_seg: 92.5365, aux_2.loss_ce: 0.0357, aux_2.loss_dice: 0.3042, aux_2.acc_seg: 99.2908, loss: 0.7116\n",
      "2022-03-28 19:59:06,963 - mmseg - INFO - Iter [19400/160000]\tlr: 8.913e-03, eta: 1 day, 4:26:07, time: 0.727, data_time: 0.005, memory: 2073, decode.loss_ce: 0.1330, decode.acc_seg: 92.1559, aux_0.loss_ce: 0.1350, aux_0.acc_seg: 92.1584, aux_1.loss_ce: 0.1390, aux_1.acc_seg: 92.2043, aux_2.loss_ce: 0.0383, aux_2.loss_dice: 0.3232, aux_2.acc_seg: 99.2395, loss: 0.7686\n",
      "2022-03-28 19:59:40,661 - mmseg - INFO - Iter [19450/160000]\tlr: 8.910e-03, eta: 1 day, 4:25:11, time: 0.674, data_time: 0.006, memory: 2073, decode.loss_ce: 0.1327, decode.acc_seg: 92.7741, aux_0.loss_ce: 0.1304, aux_0.acc_seg: 92.8165, aux_1.loss_ce: 0.1256, aux_1.acc_seg: 92.7412, aux_2.loss_ce: 0.0350, aux_2.loss_dice: 0.3229, aux_2.acc_seg: 99.3023, loss: 0.7465\n",
      "2022-03-28 20:00:19,764 - mmseg - INFO - Iter [19500/160000]\tlr: 8.907e-03, eta: 1 day, 4:24:54, time: 0.781, data_time: 0.059, memory: 2073, decode.loss_ce: 0.1202, decode.acc_seg: 93.0759, aux_0.loss_ce: 0.1202, aux_0.acc_seg: 93.1117, aux_1.loss_ce: 0.1224, aux_1.acc_seg: 93.0752, aux_2.loss_ce: 0.0337, aux_2.loss_dice: 0.3138, aux_2.acc_seg: 99.3374, loss: 0.7103\n"
     ]
    },
    {
     "name": "stderr",
     "output_type": "stream",
     "text": [
      "2022-03-28 20:00:56,171 - mmseg - INFO - Iter [19550/160000]\tlr: 8.904e-03, eta: 1 day, 4:24:18, time: 0.728, data_time: 0.006, memory: 2073, decode.loss_ce: 0.1247, decode.acc_seg: 93.1176, aux_0.loss_ce: 0.1253, aux_0.acc_seg: 93.1247, aux_1.loss_ce: 0.1254, aux_1.acc_seg: 93.1144, aux_2.loss_ce: 0.0359, aux_2.loss_dice: 0.3293, aux_2.acc_seg: 99.2892, loss: 0.7405\n",
      "2022-03-28 20:01:32,446 - mmseg - INFO - Iter [19600/160000]\tlr: 8.902e-03, eta: 1 day, 4:23:40, time: 0.725, data_time: 0.006, memory: 2073, decode.loss_ce: 0.1366, decode.acc_seg: 92.0816, aux_0.loss_ce: 0.1371, aux_0.acc_seg: 92.0876, aux_1.loss_ce: 0.1407, aux_1.acc_seg: 92.0255, aux_2.loss_ce: 0.0382, aux_2.loss_dice: 0.3307, aux_2.acc_seg: 99.2260, loss: 0.7834\n",
      "2022-03-28 20:02:08,763 - mmseg - INFO - Iter [19650/160000]\tlr: 8.899e-03, eta: 1 day, 4:23:04, time: 0.727, data_time: 0.006, memory: 2073, decode.loss_ce: 0.1308, decode.acc_seg: 92.9178, aux_0.loss_ce: 0.1302, aux_0.acc_seg: 92.8463, aux_1.loss_ce: 0.1285, aux_1.acc_seg: 92.9164, aux_2.loss_ce: 0.0328, aux_2.loss_dice: 0.3070, aux_2.acc_seg: 99.3559, loss: 0.7293\n",
      "2022-03-28 20:02:45,162 - mmseg - INFO - Iter [19700/160000]\tlr: 8.896e-03, eta: 1 day, 4:22:27, time: 0.728, data_time: 0.005, memory: 2073, decode.loss_ce: 0.1356, decode.acc_seg: 92.3397, aux_0.loss_ce: 0.1378, aux_0.acc_seg: 92.3125, aux_1.loss_ce: 0.1364, aux_1.acc_seg: 92.2748, aux_2.loss_ce: 0.0341, aux_2.loss_dice: 0.3024, aux_2.acc_seg: 99.3190, loss: 0.7463\n",
      "2022-03-28 20:03:21,536 - mmseg - INFO - Iter [19750/160000]\tlr: 8.893e-03, eta: 1 day, 4:21:50, time: 0.727, data_time: 0.005, memory: 2073, decode.loss_ce: 0.1388, decode.acc_seg: 92.0692, aux_0.loss_ce: 0.1396, aux_0.acc_seg: 92.0349, aux_1.loss_ce: 0.1413, aux_1.acc_seg: 92.0490, aux_2.loss_ce: 0.0383, aux_2.loss_dice: 0.3150, aux_2.acc_seg: 99.2345, loss: 0.7730\n",
      "2022-03-28 20:03:57,906 - mmseg - INFO - Iter [19800/160000]\tlr: 8.890e-03, eta: 1 day, 4:21:14, time: 0.728, data_time: 0.005, memory: 2073, decode.loss_ce: 0.1338, decode.acc_seg: 92.4298, aux_0.loss_ce: 0.1339, aux_0.acc_seg: 92.3889, aux_1.loss_ce: 0.1281, aux_1.acc_seg: 92.3801, aux_2.loss_ce: 0.0343, aux_2.loss_dice: 0.3139, aux_2.acc_seg: 99.3047, loss: 0.7440\n",
      "2022-03-28 20:04:34,284 - mmseg - INFO - Iter [19850/160000]\tlr: 8.887e-03, eta: 1 day, 4:20:37, time: 0.728, data_time: 0.005, memory: 2073, decode.loss_ce: 0.1433, decode.acc_seg: 91.8717, aux_0.loss_ce: 0.1442, aux_0.acc_seg: 91.8641, aux_1.loss_ce: 0.1518, aux_1.acc_seg: 91.8558, aux_2.loss_ce: 0.0377, aux_2.loss_dice: 0.3173, aux_2.acc_seg: 99.2544, loss: 0.7942\n",
      "2022-03-28 20:05:10,660 - mmseg - INFO - Iter [19900/160000]\tlr: 8.885e-03, eta: 1 day, 4:20:01, time: 0.727, data_time: 0.005, memory: 2073, decode.loss_ce: 0.1478, decode.acc_seg: 91.4371, aux_0.loss_ce: 0.1452, aux_0.acc_seg: 91.5704, aux_1.loss_ce: 0.1469, aux_1.acc_seg: 91.3526, aux_2.loss_ce: 0.0371, aux_2.loss_dice: 0.3206, aux_2.acc_seg: 99.2526, loss: 0.7976\n",
      "2022-03-28 20:05:47,118 - mmseg - INFO - Iter [19950/160000]\tlr: 8.882e-03, eta: 1 day, 4:19:25, time: 0.729, data_time: 0.005, memory: 2073, decode.loss_ce: 0.1287, decode.acc_seg: 92.6547, aux_0.loss_ce: 0.1306, aux_0.acc_seg: 92.5254, aux_1.loss_ce: 0.1325, aux_1.acc_seg: 92.5959, aux_2.loss_ce: 0.0366, aux_2.loss_dice: 0.3309, aux_2.acc_seg: 99.2803, loss: 0.7592\n",
      "2022-03-28 20:06:23,345 - mmseg - INFO - Saving checkpoint at 20000 iterations\n",
      "2022-03-28 20:06:23,576 - mmseg - INFO - Iter [20000/160000]\tlr: 8.879e-03, eta: 1 day, 4:18:49, time: 0.731, data_time: 0.005, memory: 2073, decode.loss_ce: 0.1523, decode.acc_seg: 91.4537, aux_0.loss_ce: 0.1524, aux_0.acc_seg: 91.4708, aux_1.loss_ce: 0.1499, aux_1.acc_seg: 91.4880, aux_2.loss_ce: 0.0390, aux_2.loss_dice: 0.3302, aux_2.acc_seg: 99.2398, loss: 0.8238\n"
     ]
    },
    {
     "name": "stdout",
     "output_type": "stream",
     "text": [
      "[>>>>>>>>>>>>>>>>>>>>>>>>>>>>>] 610/610, 26.9 task/s, elapsed: 23s, ETA:     0s"
     ]
    },
    {
     "name": "stderr",
     "output_type": "stream",
     "text": [
      "2022-03-28 20:06:46,334 - mmseg - INFO - per class results:\n",
      "2022-03-28 20:06:46,334 - mmseg - INFO - \n",
      "+------------+-------+-------+\n",
      "|   Class    |  IoU  |  Acc  |\n",
      "+------------+-------+-------+\n",
      "| background | 95.11 |  98.8 |\n",
      "|   human    | 23.78 | 29.02 |\n",
      "+------------+-------+-------+\n",
      "2022-03-28 20:06:46,334 - mmseg - INFO - Summary:\n",
      "2022-03-28 20:06:46,335 - mmseg - INFO - \n",
      "+-------+-------+-------+\n",
      "|  aAcc |  mIoU |  mAcc |\n",
      "+-------+-------+-------+\n",
      "| 95.19 | 59.45 | 63.91 |\n",
      "+-------+-------+-------+\n",
      "2022-03-28 20:06:46,337 - mmseg - INFO - Iter(val) [610]\taAcc: 0.9519, mIoU: 0.5945, mAcc: 0.6391, IoU.background: 0.9511, IoU.human: 0.2378, Acc.background: 0.9880, Acc.human: 0.2902\n",
      "2022-03-28 20:07:20,137 - mmseg - INFO - Iter [20050/160000]\tlr: 8.876e-03, eta: 1 day, 4:20:33, time: 1.130, data_time: 0.459, memory: 2073, decode.loss_ce: 0.1210, decode.acc_seg: 93.0806, aux_0.loss_ce: 0.1240, aux_0.acc_seg: 92.9972, aux_1.loss_ce: 0.1230, aux_1.acc_seg: 92.9885, aux_2.loss_ce: 0.0370, aux_2.loss_dice: 0.3307, aux_2.acc_seg: 99.2805, loss: 0.7358\n",
      "2022-03-28 20:07:56,423 - mmseg - INFO - Iter [20100/160000]\tlr: 8.873e-03, eta: 1 day, 4:19:55, time: 0.725, data_time: 0.005, memory: 2073, decode.loss_ce: 0.1386, decode.acc_seg: 92.2396, aux_0.loss_ce: 0.1368, aux_0.acc_seg: 92.1677, aux_1.loss_ce: 0.1394, aux_1.acc_seg: 92.1434, aux_2.loss_ce: 0.0356, aux_2.loss_dice: 0.3363, aux_2.acc_seg: 99.2937, loss: 0.7866\n",
      "2022-03-28 20:08:32,786 - mmseg - INFO - Iter [20150/160000]\tlr: 8.871e-03, eta: 1 day, 4:19:18, time: 0.727, data_time: 0.006, memory: 2073, decode.loss_ce: 0.1375, decode.acc_seg: 91.7344, aux_0.loss_ce: 0.1389, aux_0.acc_seg: 91.8040, aux_1.loss_ce: 0.1393, aux_1.acc_seg: 91.8019, aux_2.loss_ce: 0.0371, aux_2.loss_dice: 0.3234, aux_2.acc_seg: 99.2628, loss: 0.7761\n",
      "2022-03-28 20:09:11,812 - mmseg - INFO - Iter [20200/160000]\tlr: 8.868e-03, eta: 1 day, 4:18:59, time: 0.781, data_time: 0.058, memory: 2073, decode.loss_ce: 0.1510, decode.acc_seg: 91.2477, aux_0.loss_ce: 0.1482, aux_0.acc_seg: 91.4423, aux_1.loss_ce: 0.1509, aux_1.acc_seg: 91.3481, aux_2.loss_ce: 0.0367, aux_2.loss_dice: 0.3300, aux_2.acc_seg: 99.2686, loss: 0.8168\n",
      "2022-03-28 20:09:48,117 - mmseg - INFO - Iter [20250/160000]\tlr: 8.865e-03, eta: 1 day, 4:18:22, time: 0.726, data_time: 0.006, memory: 2073, decode.loss_ce: 0.1351, decode.acc_seg: 92.4701, aux_0.loss_ce: 0.1384, aux_0.acc_seg: 92.4244, aux_1.loss_ce: 0.1341, aux_1.acc_seg: 92.4328, aux_2.loss_ce: 0.0361, aux_2.loss_dice: 0.3116, aux_2.acc_seg: 99.2954, loss: 0.7552\n",
      "2022-03-28 20:10:24,374 - mmseg - INFO - Iter [20300/160000]\tlr: 8.862e-03, eta: 1 day, 4:17:44, time: 0.726, data_time: 0.006, memory: 2073, decode.loss_ce: 0.1220, decode.acc_seg: 93.2153, aux_0.loss_ce: 0.1190, aux_0.acc_seg: 93.1259, aux_1.loss_ce: 0.1266, aux_1.acc_seg: 93.1864, aux_2.loss_ce: 0.0344, aux_2.loss_dice: 0.3076, aux_2.acc_seg: 99.3206, loss: 0.7097\n",
      "2022-03-28 20:11:00,733 - mmseg - INFO - Iter [20350/160000]\tlr: 8.859e-03, eta: 1 day, 4:17:07, time: 0.727, data_time: 0.005, memory: 2073, decode.loss_ce: 0.1302, decode.acc_seg: 92.3448, aux_0.loss_ce: 0.1324, aux_0.acc_seg: 92.3315, aux_1.loss_ce: 0.1297, aux_1.acc_seg: 92.2739, aux_2.loss_ce: 0.0352, aux_2.loss_dice: 0.3253, aux_2.acc_seg: 99.3008, loss: 0.7529\n",
      "2022-03-28 20:11:37,106 - mmseg - INFO - Iter [20400/160000]\tlr: 8.856e-03, eta: 1 day, 4:16:30, time: 0.728, data_time: 0.006, memory: 2073, decode.loss_ce: 0.1373, decode.acc_seg: 92.1756, aux_0.loss_ce: 0.1380, aux_0.acc_seg: 92.1183, aux_1.loss_ce: 0.1365, aux_1.acc_seg: 92.1433, aux_2.loss_ce: 0.0368, aux_2.loss_dice: 0.3275, aux_2.acc_seg: 99.2721, loss: 0.7759\n",
      "2022-03-28 20:12:13,516 - mmseg - INFO - Iter [20450/160000]\tlr: 8.854e-03, eta: 1 day, 4:15:53, time: 0.728, data_time: 0.005, memory: 2073, decode.loss_ce: 0.1379, decode.acc_seg: 92.4391, aux_0.loss_ce: 0.1411, aux_0.acc_seg: 92.3415, aux_1.loss_ce: 0.1396, aux_1.acc_seg: 92.4149, aux_2.loss_ce: 0.0372, aux_2.loss_dice: 0.3313, aux_2.acc_seg: 99.2810, loss: 0.7872\n",
      "2022-03-28 20:12:49,869 - mmseg - INFO - Iter [20500/160000]\tlr: 8.851e-03, eta: 1 day, 4:15:16, time: 0.727, data_time: 0.005, memory: 2073, decode.loss_ce: 0.1426, decode.acc_seg: 92.0897, aux_0.loss_ce: 0.1382, aux_0.acc_seg: 92.1355, aux_1.loss_ce: 0.1407, aux_1.acc_seg: 92.1719, aux_2.loss_ce: 0.0362, aux_2.loss_dice: 0.3136, aux_2.acc_seg: 99.2715, loss: 0.7714\n",
      "2022-03-28 20:13:26,222 - mmseg - INFO - Iter [20550/160000]\tlr: 8.848e-03, eta: 1 day, 4:14:39, time: 0.727, data_time: 0.006, memory: 2073, decode.loss_ce: 0.1213, decode.acc_seg: 92.8732, aux_0.loss_ce: 0.1231, aux_0.acc_seg: 92.8516, aux_1.loss_ce: 0.1246, aux_1.acc_seg: 92.8370, aux_2.loss_ce: 0.0358, aux_2.loss_dice: 0.3293, aux_2.acc_seg: 99.2888, loss: 0.7341\n",
      "2022-03-28 20:14:02,583 - mmseg - INFO - Iter [20600/160000]\tlr: 8.845e-03, eta: 1 day, 4:14:02, time: 0.727, data_time: 0.005, memory: 2073, decode.loss_ce: 0.1704, decode.acc_seg: 90.3320, aux_0.loss_ce: 0.1704, aux_0.acc_seg: 90.3601, aux_1.loss_ce: 0.1699, aux_1.acc_seg: 90.2636, aux_2.loss_ce: 0.0385, aux_2.loss_dice: 0.3316, aux_2.acc_seg: 99.2356, loss: 0.8807\n",
      "2022-03-28 20:14:38,948 - mmseg - INFO - Iter [20650/160000]\tlr: 8.842e-03, eta: 1 day, 4:13:25, time: 0.727, data_time: 0.006, memory: 2073, decode.loss_ce: 0.1383, decode.acc_seg: 91.7564, aux_0.loss_ce: 0.1384, aux_0.acc_seg: 91.7746, aux_1.loss_ce: 0.1439, aux_1.acc_seg: 91.7693, aux_2.loss_ce: 0.0357, aux_2.loss_dice: 0.3172, aux_2.acc_seg: 99.2991, loss: 0.7735\n",
      "2022-03-28 20:15:12,643 - mmseg - INFO - Iter [20700/160000]\tlr: 8.839e-03, eta: 1 day, 4:12:30, time: 0.674, data_time: 0.006, memory: 2073, decode.loss_ce: 0.1373, decode.acc_seg: 92.5633, aux_0.loss_ce: 0.1369, aux_0.acc_seg: 92.5216, aux_1.loss_ce: 0.1309, aux_1.acc_seg: 92.5645, aux_2.loss_ce: 0.0344, aux_2.loss_dice: 0.3261, aux_2.acc_seg: 99.3186, loss: 0.7656\n",
      "2022-03-28 20:15:49,031 - mmseg - INFO - Iter [20750/160000]\tlr: 8.837e-03, eta: 1 day, 4:11:53, time: 0.728, data_time: 0.005, memory: 2073, decode.loss_ce: 0.1227, decode.acc_seg: 92.8460, aux_0.loss_ce: 0.1245, aux_0.acc_seg: 92.8177, aux_1.loss_ce: 0.1247, aux_1.acc_seg: 92.8066, aux_2.loss_ce: 0.0357, aux_2.loss_dice: 0.3393, aux_2.acc_seg: 99.3062, loss: 0.7470\n",
      "2022-03-28 20:16:25,354 - mmseg - INFO - Iter [20800/160000]\tlr: 8.834e-03, eta: 1 day, 4:11:16, time: 0.726, data_time: 0.005, memory: 2073, decode.loss_ce: 0.1436, decode.acc_seg: 91.6652, aux_0.loss_ce: 0.1399, aux_0.acc_seg: 91.6686, aux_1.loss_ce: 0.1441, aux_1.acc_seg: 91.6812, aux_2.loss_ce: 0.0395, aux_2.loss_dice: 0.3220, aux_2.acc_seg: 99.2211, loss: 0.7890\n",
      "2022-03-28 20:17:01,673 - mmseg - INFO - Iter [20850/160000]\tlr: 8.831e-03, eta: 1 day, 4:10:38, time: 0.726, data_time: 0.006, memory: 2073, decode.loss_ce: 0.1481, decode.acc_seg: 91.6038, aux_0.loss_ce: 0.1505, aux_0.acc_seg: 91.5402, aux_1.loss_ce: 0.1479, aux_1.acc_seg: 91.4890, aux_2.loss_ce: 0.0382, aux_2.loss_dice: 0.3137, aux_2.acc_seg: 99.2353, loss: 0.7984\n",
      "2022-03-28 20:17:40,520 - mmseg - INFO - Iter [20900/160000]\tlr: 8.828e-03, eta: 1 day, 4:10:18, time: 0.776, data_time: 0.056, memory: 2073, decode.loss_ce: 0.1312, decode.acc_seg: 92.3307, aux_0.loss_ce: 0.1327, aux_0.acc_seg: 92.3254, aux_1.loss_ce: 0.1331, aux_1.acc_seg: 92.3492, aux_2.loss_ce: 0.0363, aux_2.loss_dice: 0.3254, aux_2.acc_seg: 99.2940, loss: 0.7588\n",
      "2022-03-28 20:18:16,809 - mmseg - INFO - Iter [20950/160000]\tlr: 8.825e-03, eta: 1 day, 4:09:40, time: 0.726, data_time: 0.006, memory: 2073, decode.loss_ce: 0.1420, decode.acc_seg: 91.9674, aux_0.loss_ce: 0.1425, aux_0.acc_seg: 92.0186, aux_1.loss_ce: 0.1419, aux_1.acc_seg: 91.9196, aux_2.loss_ce: 0.0369, aux_2.loss_dice: 0.3178, aux_2.acc_seg: 99.2754, loss: 0.7812\n",
      "2022-03-28 20:18:53,124 - mmseg - INFO - Iter [21000/160000]\tlr: 8.823e-03, eta: 1 day, 4:09:03, time: 0.727, data_time: 0.006, memory: 2073, decode.loss_ce: 0.1374, decode.acc_seg: 91.9998, aux_0.loss_ce: 0.1360, aux_0.acc_seg: 92.1388, aux_1.loss_ce: 0.1416, aux_1.acc_seg: 91.9493, aux_2.loss_ce: 0.0354, aux_2.loss_dice: 0.3101, aux_2.acc_seg: 99.2993, loss: 0.7605\n",
      "2022-03-28 20:19:29,525 - mmseg - INFO - Iter [21050/160000]\tlr: 8.820e-03, eta: 1 day, 4:08:26, time: 0.728, data_time: 0.005, memory: 2073, decode.loss_ce: 0.1355, decode.acc_seg: 92.0223, aux_0.loss_ce: 0.1340, aux_0.acc_seg: 92.0423, aux_1.loss_ce: 0.1338, aux_1.acc_seg: 92.0217, aux_2.loss_ce: 0.0380, aux_2.loss_dice: 0.3144, aux_2.acc_seg: 99.2387, loss: 0.7557\n"
     ]
    },
    {
     "name": "stderr",
     "output_type": "stream",
     "text": [
      "2022-03-28 20:20:05,912 - mmseg - INFO - Iter [21100/160000]\tlr: 8.817e-03, eta: 1 day, 4:07:49, time: 0.728, data_time: 0.005, memory: 2073, decode.loss_ce: 0.1450, decode.acc_seg: 91.7536, aux_0.loss_ce: 0.1463, aux_0.acc_seg: 91.7095, aux_1.loss_ce: 0.1451, aux_1.acc_seg: 91.7857, aux_2.loss_ce: 0.0359, aux_2.loss_dice: 0.3066, aux_2.acc_seg: 99.2903, loss: 0.7789\n",
      "2022-03-28 20:20:42,245 - mmseg - INFO - Iter [21150/160000]\tlr: 8.814e-03, eta: 1 day, 4:07:12, time: 0.727, data_time: 0.005, memory: 2073, decode.loss_ce: 0.1471, decode.acc_seg: 91.6328, aux_0.loss_ce: 0.1479, aux_0.acc_seg: 91.6088, aux_1.loss_ce: 0.1502, aux_1.acc_seg: 91.7031, aux_2.loss_ce: 0.0391, aux_2.loss_dice: 0.3227, aux_2.acc_seg: 99.2242, loss: 0.8069\n",
      "2022-03-28 20:21:18,615 - mmseg - INFO - Iter [21200/160000]\tlr: 8.811e-03, eta: 1 day, 4:06:35, time: 0.727, data_time: 0.006, memory: 2073, decode.loss_ce: 0.1175, decode.acc_seg: 92.9679, aux_0.loss_ce: 0.1188, aux_0.acc_seg: 92.9388, aux_1.loss_ce: 0.1183, aux_1.acc_seg: 92.9697, aux_2.loss_ce: 0.0337, aux_2.loss_dice: 0.3115, aux_2.acc_seg: 99.3258, loss: 0.6999\n",
      "2022-03-28 20:21:54,963 - mmseg - INFO - Iter [21250/160000]\tlr: 8.808e-03, eta: 1 day, 4:05:58, time: 0.727, data_time: 0.006, memory: 2073, decode.loss_ce: 0.1312, decode.acc_seg: 92.6769, aux_0.loss_ce: 0.1320, aux_0.acc_seg: 92.6914, aux_1.loss_ce: 0.1308, aux_1.acc_seg: 92.6414, aux_2.loss_ce: 0.0349, aux_2.loss_dice: 0.3277, aux_2.acc_seg: 99.2922, loss: 0.7566\n",
      "2022-03-28 20:22:31,335 - mmseg - INFO - Iter [21300/160000]\tlr: 8.806e-03, eta: 1 day, 4:05:21, time: 0.727, data_time: 0.005, memory: 2073, decode.loss_ce: 0.1358, decode.acc_seg: 92.1783, aux_0.loss_ce: 0.1358, aux_0.acc_seg: 92.1335, aux_1.loss_ce: 0.1386, aux_1.acc_seg: 92.1244, aux_2.loss_ce: 0.0345, aux_2.loss_dice: 0.3229, aux_2.acc_seg: 99.3112, loss: 0.7677\n",
      "2022-03-28 20:23:04,949 - mmseg - INFO - Iter [21350/160000]\tlr: 8.803e-03, eta: 1 day, 4:04:26, time: 0.672, data_time: 0.006, memory: 2073, decode.loss_ce: 0.1470, decode.acc_seg: 91.8482, aux_0.loss_ce: 0.1473, aux_0.acc_seg: 91.8297, aux_1.loss_ce: 0.1447, aux_1.acc_seg: 91.8458, aux_2.loss_ce: 0.0371, aux_2.loss_dice: 0.3425, aux_2.acc_seg: 99.2530, loss: 0.8187\n",
      "2022-03-28 20:23:41,234 - mmseg - INFO - Iter [21400/160000]\tlr: 8.800e-03, eta: 1 day, 4:03:48, time: 0.726, data_time: 0.006, memory: 2073, decode.loss_ce: 0.1286, decode.acc_seg: 92.4411, aux_0.loss_ce: 0.1280, aux_0.acc_seg: 92.4206, aux_1.loss_ce: 0.1308, aux_1.acc_seg: 92.3192, aux_2.loss_ce: 0.0350, aux_2.loss_dice: 0.3141, aux_2.acc_seg: 99.3042, loss: 0.7365\n",
      "2022-03-28 20:24:17,625 - mmseg - INFO - Iter [21450/160000]\tlr: 8.797e-03, eta: 1 day, 4:03:11, time: 0.728, data_time: 0.006, memory: 2073, decode.loss_ce: 0.1464, decode.acc_seg: 92.0573, aux_0.loss_ce: 0.1471, aux_0.acc_seg: 92.0516, aux_1.loss_ce: 0.1460, aux_1.acc_seg: 91.9752, aux_2.loss_ce: 0.0376, aux_2.loss_dice: 0.3387, aux_2.acc_seg: 99.2354, loss: 0.8159\n",
      "2022-03-28 20:24:53,926 - mmseg - INFO - Iter [21500/160000]\tlr: 8.794e-03, eta: 1 day, 4:02:34, time: 0.727, data_time: 0.006, memory: 2073, decode.loss_ce: 0.1116, decode.acc_seg: 93.1195, aux_0.loss_ce: 0.1149, aux_0.acc_seg: 93.0792, aux_1.loss_ce: 0.1153, aux_1.acc_seg: 93.1618, aux_2.loss_ce: 0.0342, aux_2.loss_dice: 0.2995, aux_2.acc_seg: 99.2920, loss: 0.6755\n",
      "2022-03-28 20:25:30,312 - mmseg - INFO - Iter [21550/160000]\tlr: 8.791e-03, eta: 1 day, 4:01:57, time: 0.728, data_time: 0.005, memory: 2073, decode.loss_ce: 0.1162, decode.acc_seg: 93.6337, aux_0.loss_ce: 0.1154, aux_0.acc_seg: 93.6916, aux_1.loss_ce: 0.1176, aux_1.acc_seg: 93.6205, aux_2.loss_ce: 0.0349, aux_2.loss_dice: 0.3113, aux_2.acc_seg: 99.2921, loss: 0.6953\n",
      "2022-03-28 20:26:09,368 - mmseg - INFO - Iter [21600/160000]\tlr: 8.789e-03, eta: 1 day, 4:01:37, time: 0.780, data_time: 0.058, memory: 2073, decode.loss_ce: 0.1462, decode.acc_seg: 91.9615, aux_0.loss_ce: 0.1473, aux_0.acc_seg: 91.8958, aux_1.loss_ce: 0.1458, aux_1.acc_seg: 91.8467, aux_2.loss_ce: 0.0362, aux_2.loss_dice: 0.3332, aux_2.acc_seg: 99.2740, loss: 0.8086\n",
      "2022-03-28 20:26:45,760 - mmseg - INFO - Iter [21650/160000]\tlr: 8.786e-03, eta: 1 day, 4:01:01, time: 0.728, data_time: 0.006, memory: 2073, decode.loss_ce: 0.1261, decode.acc_seg: 92.6071, aux_0.loss_ce: 0.1253, aux_0.acc_seg: 92.5968, aux_1.loss_ce: 0.1264, aux_1.acc_seg: 92.5389, aux_2.loss_ce: 0.0351, aux_2.loss_dice: 0.3191, aux_2.acc_seg: 99.3028, loss: 0.7320\n",
      "2022-03-28 20:27:22,197 - mmseg - INFO - Iter [21700/160000]\tlr: 8.783e-03, eta: 1 day, 4:00:24, time: 0.729, data_time: 0.006, memory: 2073, decode.loss_ce: 0.1625, decode.acc_seg: 91.1367, aux_0.loss_ce: 0.1624, aux_0.acc_seg: 91.0873, aux_1.loss_ce: 0.1630, aux_1.acc_seg: 91.0691, aux_2.loss_ce: 0.0373, aux_2.loss_dice: 0.3282, aux_2.acc_seg: 99.2726, loss: 0.8533\n",
      "2022-03-28 20:27:58,545 - mmseg - INFO - Iter [21750/160000]\tlr: 8.780e-03, eta: 1 day, 3:59:47, time: 0.728, data_time: 0.006, memory: 2073, decode.loss_ce: 0.1398, decode.acc_seg: 92.0391, aux_0.loss_ce: 0.1398, aux_0.acc_seg: 92.0622, aux_1.loss_ce: 0.1413, aux_1.acc_seg: 91.9845, aux_2.loss_ce: 0.0361, aux_2.loss_dice: 0.3243, aux_2.acc_seg: 99.2777, loss: 0.7814\n",
      "2022-03-28 20:28:34,895 - mmseg - INFO - Iter [21800/160000]\tlr: 8.777e-03, eta: 1 day, 3:59:10, time: 0.727, data_time: 0.005, memory: 2073, decode.loss_ce: 0.1118, decode.acc_seg: 93.8307, aux_0.loss_ce: 0.1118, aux_0.acc_seg: 93.7940, aux_1.loss_ce: 0.1130, aux_1.acc_seg: 93.7312, aux_2.loss_ce: 0.0346, aux_2.loss_dice: 0.3081, aux_2.acc_seg: 99.3027, loss: 0.6792\n",
      "2022-03-28 20:29:11,254 - mmseg - INFO - Iter [21850/160000]\tlr: 8.775e-03, eta: 1 day, 3:58:33, time: 0.727, data_time: 0.005, memory: 2073, decode.loss_ce: 0.1289, decode.acc_seg: 92.1072, aux_0.loss_ce: 0.1299, aux_0.acc_seg: 92.0344, aux_1.loss_ce: 0.1327, aux_1.acc_seg: 91.9394, aux_2.loss_ce: 0.0372, aux_2.loss_dice: 0.3338, aux_2.acc_seg: 99.2573, loss: 0.7625\n",
      "2022-03-28 20:29:47,618 - mmseg - INFO - Iter [21900/160000]\tlr: 8.772e-03, eta: 1 day, 3:57:56, time: 0.727, data_time: 0.005, memory: 2073, decode.loss_ce: 0.1399, decode.acc_seg: 92.3681, aux_0.loss_ce: 0.1418, aux_0.acc_seg: 92.3595, aux_1.loss_ce: 0.1400, aux_1.acc_seg: 92.3675, aux_2.loss_ce: 0.0366, aux_2.loss_dice: 0.3430, aux_2.acc_seg: 99.3011, loss: 0.8013\n",
      "2022-03-28 20:30:23,980 - mmseg - INFO - Iter [21950/160000]\tlr: 8.769e-03, eta: 1 day, 3:57:19, time: 0.727, data_time: 0.005, memory: 2073, decode.loss_ce: 0.1270, decode.acc_seg: 92.6330, aux_0.loss_ce: 0.1264, aux_0.acc_seg: 92.6153, aux_1.loss_ce: 0.1291, aux_1.acc_seg: 92.6212, aux_2.loss_ce: 0.0345, aux_2.loss_dice: 0.3112, aux_2.acc_seg: 99.3203, loss: 0.7283\n",
      "2022-03-28 20:30:57,627 - mmseg - INFO - Iter [22000/160000]\tlr: 8.766e-03, eta: 1 day, 3:56:25, time: 0.673, data_time: 0.006, memory: 2073, decode.loss_ce: 0.1222, decode.acc_seg: 93.2427, aux_0.loss_ce: 0.1229, aux_0.acc_seg: 93.1394, aux_1.loss_ce: 0.1219, aux_1.acc_seg: 93.1501, aux_2.loss_ce: 0.0353, aux_2.loss_dice: 0.3182, aux_2.acc_seg: 99.2813, loss: 0.7204\n",
      "2022-03-28 20:31:33,963 - mmseg - INFO - Iter [22050/160000]\tlr: 8.763e-03, eta: 1 day, 3:55:48, time: 0.727, data_time: 0.005, memory: 2073, decode.loss_ce: 0.1324, decode.acc_seg: 92.5770, aux_0.loss_ce: 0.1332, aux_0.acc_seg: 92.5114, aux_1.loss_ce: 0.1339, aux_1.acc_seg: 92.4397, aux_2.loss_ce: 0.0364, aux_2.loss_dice: 0.3159, aux_2.acc_seg: 99.2684, loss: 0.7517\n",
      "2022-03-28 20:32:10,360 - mmseg - INFO - Iter [22100/160000]\tlr: 8.760e-03, eta: 1 day, 3:55:11, time: 0.728, data_time: 0.005, memory: 2073, decode.loss_ce: 0.1290, decode.acc_seg: 92.3957, aux_0.loss_ce: 0.1301, aux_0.acc_seg: 92.3751, aux_1.loss_ce: 0.1301, aux_1.acc_seg: 92.3295, aux_2.loss_ce: 0.0355, aux_2.loss_dice: 0.3251, aux_2.acc_seg: 99.2832, loss: 0.7498\n",
      "2022-03-28 20:32:46,713 - mmseg - INFO - Iter [22150/160000]\tlr: 8.758e-03, eta: 1 day, 3:54:34, time: 0.727, data_time: 0.006, memory: 2073, decode.loss_ce: 0.1338, decode.acc_seg: 91.9818, aux_0.loss_ce: 0.1346, aux_0.acc_seg: 91.9984, aux_1.loss_ce: 0.1358, aux_1.acc_seg: 91.8984, aux_2.loss_ce: 0.0398, aux_2.loss_dice: 0.3486, aux_2.acc_seg: 99.2116, loss: 0.7926\n",
      "2022-03-28 20:33:23,061 - mmseg - INFO - Iter [22200/160000]\tlr: 8.755e-03, eta: 1 day, 3:53:57, time: 0.727, data_time: 0.006, memory: 2073, decode.loss_ce: 0.1405, decode.acc_seg: 92.1435, aux_0.loss_ce: 0.1427, aux_0.acc_seg: 92.1090, aux_1.loss_ce: 0.1402, aux_1.acc_seg: 92.0975, aux_2.loss_ce: 0.0384, aux_2.loss_dice: 0.3306, aux_2.acc_seg: 99.2399, loss: 0.7924\n"
     ]
    },
    {
     "name": "stderr",
     "output_type": "stream",
     "text": [
      "2022-03-28 20:33:59,280 - mmseg - INFO - Iter [22250/160000]\tlr: 8.752e-03, eta: 1 day, 3:53:19, time: 0.725, data_time: 0.006, memory: 2073, decode.loss_ce: 0.1282, decode.acc_seg: 92.5480, aux_0.loss_ce: 0.1264, aux_0.acc_seg: 92.5047, aux_1.loss_ce: 0.1286, aux_1.acc_seg: 92.4771, aux_2.loss_ce: 0.0346, aux_2.loss_dice: 0.3286, aux_2.acc_seg: 99.3248, loss: 0.7463\n",
      "2022-03-28 20:34:38,348 - mmseg - INFO - Iter [22300/160000]\tlr: 8.749e-03, eta: 1 day, 3:52:59, time: 0.781, data_time: 0.060, memory: 2073, decode.loss_ce: 0.1373, decode.acc_seg: 91.8892, aux_0.loss_ce: 0.1348, aux_0.acc_seg: 91.9094, aux_1.loss_ce: 0.1388, aux_1.acc_seg: 91.7750, aux_2.loss_ce: 0.0386, aux_2.loss_dice: 0.3266, aux_2.acc_seg: 99.2366, loss: 0.7760\n",
      "2022-03-28 20:35:14,721 - mmseg - INFO - Iter [22350/160000]\tlr: 8.746e-03, eta: 1 day, 3:52:22, time: 0.727, data_time: 0.006, memory: 2073, decode.loss_ce: 0.1199, decode.acc_seg: 93.5357, aux_0.loss_ce: 0.1208, aux_0.acc_seg: 93.4015, aux_1.loss_ce: 0.1198, aux_1.acc_seg: 93.4611, aux_2.loss_ce: 0.0342, aux_2.loss_dice: 0.3034, aux_2.acc_seg: 99.3311, loss: 0.6981\n",
      "2022-03-28 20:35:51,134 - mmseg - INFO - Iter [22400/160000]\tlr: 8.743e-03, eta: 1 day, 3:51:45, time: 0.728, data_time: 0.006, memory: 2073, decode.loss_ce: 0.1453, decode.acc_seg: 91.7902, aux_0.loss_ce: 0.1460, aux_0.acc_seg: 91.8235, aux_1.loss_ce: 0.1454, aux_1.acc_seg: 91.7036, aux_2.loss_ce: 0.0358, aux_2.loss_dice: 0.3189, aux_2.acc_seg: 99.2931, loss: 0.7914\n",
      "2022-03-28 20:36:27,442 - mmseg - INFO - Iter [22450/160000]\tlr: 8.741e-03, eta: 1 day, 3:51:08, time: 0.726, data_time: 0.006, memory: 2073, decode.loss_ce: 0.1264, decode.acc_seg: 92.4549, aux_0.loss_ce: 0.1281, aux_0.acc_seg: 92.4228, aux_1.loss_ce: 0.1287, aux_1.acc_seg: 92.5055, aux_2.loss_ce: 0.0354, aux_2.loss_dice: 0.3204, aux_2.acc_seg: 99.2919, loss: 0.7391\n",
      "2022-03-28 20:37:03,738 - mmseg - INFO - Iter [22500/160000]\tlr: 8.738e-03, eta: 1 day, 3:50:31, time: 0.727, data_time: 0.006, memory: 2073, decode.loss_ce: 0.1418, decode.acc_seg: 92.0358, aux_0.loss_ce: 0.1442, aux_0.acc_seg: 91.9743, aux_1.loss_ce: 0.1427, aux_1.acc_seg: 91.9982, aux_2.loss_ce: 0.0351, aux_2.loss_dice: 0.3090, aux_2.acc_seg: 99.3215, loss: 0.7728\n",
      "2022-03-28 20:37:40,146 - mmseg - INFO - Iter [22550/160000]\tlr: 8.735e-03, eta: 1 day, 3:49:54, time: 0.728, data_time: 0.005, memory: 2073, decode.loss_ce: 0.1453, decode.acc_seg: 91.8185, aux_0.loss_ce: 0.1454, aux_0.acc_seg: 91.7319, aux_1.loss_ce: 0.1491, aux_1.acc_seg: 91.7016, aux_2.loss_ce: 0.0384, aux_2.loss_dice: 0.3228, aux_2.acc_seg: 99.2290, loss: 0.8009\n",
      "2022-03-28 20:38:15,029 - mmseg - INFO - Iter [22600/160000]\tlr: 8.732e-03, eta: 1 day, 3:49:08, time: 0.698, data_time: 0.005, memory: 2073, decode.loss_ce: 0.1549, decode.acc_seg: 91.2896, aux_0.loss_ce: 0.1562, aux_0.acc_seg: 91.2220, aux_1.loss_ce: 0.1546, aux_1.acc_seg: 91.3107, aux_2.loss_ce: 0.0382, aux_2.loss_dice: 0.3254, aux_2.acc_seg: 99.2548, loss: 0.8293\n",
      "2022-03-28 20:38:50,460 - mmseg - INFO - Iter [22650/160000]\tlr: 8.729e-03, eta: 1 day, 3:48:25, time: 0.708, data_time: 0.005, memory: 2073, decode.loss_ce: 0.1286, decode.acc_seg: 92.6761, aux_0.loss_ce: 0.1285, aux_0.acc_seg: 92.6474, aux_1.loss_ce: 0.1285, aux_1.acc_seg: 92.6285, aux_2.loss_ce: 0.0358, aux_2.loss_dice: 0.3293, aux_2.acc_seg: 99.2877, loss: 0.7507\n",
      "2022-03-28 20:39:26,869 - mmseg - INFO - Iter [22700/160000]\tlr: 8.726e-03, eta: 1 day, 3:47:49, time: 0.728, data_time: 0.006, memory: 2073, decode.loss_ce: 0.1292, decode.acc_seg: 92.7387, aux_0.loss_ce: 0.1290, aux_0.acc_seg: 92.6938, aux_1.loss_ce: 0.1309, aux_1.acc_seg: 92.5530, aux_2.loss_ce: 0.0355, aux_2.loss_dice: 0.3156, aux_2.acc_seg: 99.2890, loss: 0.7402\n",
      "2022-03-28 20:40:03,233 - mmseg - INFO - Iter [22750/160000]\tlr: 8.724e-03, eta: 1 day, 3:47:12, time: 0.727, data_time: 0.006, memory: 2073, decode.loss_ce: 0.1472, decode.acc_seg: 91.3844, aux_0.loss_ce: 0.1478, aux_0.acc_seg: 91.3951, aux_1.loss_ce: 0.1485, aux_1.acc_seg: 91.3236, aux_2.loss_ce: 0.0389, aux_2.loss_dice: 0.3428, aux_2.acc_seg: 99.2024, loss: 0.8253\n",
      "2022-03-28 20:40:39,646 - mmseg - INFO - Iter [22800/160000]\tlr: 8.721e-03, eta: 1 day, 3:46:35, time: 0.728, data_time: 0.006, memory: 2073, decode.loss_ce: 0.1227, decode.acc_seg: 92.9254, aux_0.loss_ce: 0.1236, aux_0.acc_seg: 92.8633, aux_1.loss_ce: 0.1242, aux_1.acc_seg: 92.7851, aux_2.loss_ce: 0.0371, aux_2.loss_dice: 0.3293, aux_2.acc_seg: 99.2531, loss: 0.7369\n",
      "2022-03-28 20:41:16,038 - mmseg - INFO - Iter [22850/160000]\tlr: 8.718e-03, eta: 1 day, 3:45:58, time: 0.728, data_time: 0.006, memory: 2073, decode.loss_ce: 0.1217, decode.acc_seg: 92.7466, aux_0.loss_ce: 0.1205, aux_0.acc_seg: 92.8114, aux_1.loss_ce: 0.1219, aux_1.acc_seg: 92.7493, aux_2.loss_ce: 0.0361, aux_2.loss_dice: 0.3184, aux_2.acc_seg: 99.2724, loss: 0.7186\n",
      "2022-03-28 20:41:52,374 - mmseg - INFO - Iter [22900/160000]\tlr: 8.715e-03, eta: 1 day, 3:45:21, time: 0.727, data_time: 0.006, memory: 2073, decode.loss_ce: 0.1324, decode.acc_seg: 92.4759, aux_0.loss_ce: 0.1333, aux_0.acc_seg: 92.4959, aux_1.loss_ce: 0.1339, aux_1.acc_seg: 92.4326, aux_2.loss_ce: 0.0352, aux_2.loss_dice: 0.3165, aux_2.acc_seg: 99.2767, loss: 0.7513\n",
      "2022-03-28 20:42:28,746 - mmseg - INFO - Iter [22950/160000]\tlr: 8.712e-03, eta: 1 day, 3:44:44, time: 0.727, data_time: 0.006, memory: 2073, decode.loss_ce: 0.1286, decode.acc_seg: 92.6401, aux_0.loss_ce: 0.1271, aux_0.acc_seg: 92.5995, aux_1.loss_ce: 0.1259, aux_1.acc_seg: 92.6562, aux_2.loss_ce: 0.0335, aux_2.loss_dice: 0.3265, aux_2.acc_seg: 99.3284, loss: 0.7415\n",
      "2022-03-28 20:43:07,800 - mmseg - INFO - Iter [23000/160000]\tlr: 8.710e-03, eta: 1 day, 3:44:24, time: 0.782, data_time: 0.059, memory: 2073, decode.loss_ce: 0.1327, decode.acc_seg: 92.3845, aux_0.loss_ce: 0.1359, aux_0.acc_seg: 92.4355, aux_1.loss_ce: 0.1364, aux_1.acc_seg: 92.4134, aux_2.loss_ce: 0.0356, aux_2.loss_dice: 0.3171, aux_2.acc_seg: 99.2886, loss: 0.7578\n",
      "2022-03-28 20:43:44,193 - mmseg - INFO - Iter [23050/160000]\tlr: 8.707e-03, eta: 1 day, 3:43:47, time: 0.728, data_time: 0.005, memory: 2073, decode.loss_ce: 0.1485, decode.acc_seg: 91.4299, aux_0.loss_ce: 0.1458, aux_0.acc_seg: 91.3857, aux_1.loss_ce: 0.1471, aux_1.acc_seg: 91.3061, aux_2.loss_ce: 0.0394, aux_2.loss_dice: 0.3325, aux_2.acc_seg: 99.1999, loss: 0.8134\n",
      "2022-03-28 20:44:20,542 - mmseg - INFO - Iter [23100/160000]\tlr: 8.704e-03, eta: 1 day, 3:43:10, time: 0.727, data_time: 0.006, memory: 2073, decode.loss_ce: 0.1352, decode.acc_seg: 91.9481, aux_0.loss_ce: 0.1365, aux_0.acc_seg: 91.9376, aux_1.loss_ce: 0.1374, aux_1.acc_seg: 91.8888, aux_2.loss_ce: 0.0342, aux_2.loss_dice: 0.3185, aux_2.acc_seg: 99.3152, loss: 0.7618\n",
      "2022-03-28 20:44:56,960 - mmseg - INFO - Iter [23150/160000]\tlr: 8.701e-03, eta: 1 day, 3:42:33, time: 0.728, data_time: 0.006, memory: 2073, decode.loss_ce: 0.1365, decode.acc_seg: 92.6353, aux_0.loss_ce: 0.1377, aux_0.acc_seg: 92.6317, aux_1.loss_ce: 0.1398, aux_1.acc_seg: 92.5373, aux_2.loss_ce: 0.0351, aux_2.loss_dice: 0.3200, aux_2.acc_seg: 99.2984, loss: 0.7691\n",
      "2022-03-28 20:45:30,666 - mmseg - INFO - Iter [23200/160000]\tlr: 8.698e-03, eta: 1 day, 3:41:41, time: 0.675, data_time: 0.006, memory: 2073, decode.loss_ce: 0.1210, decode.acc_seg: 93.0558, aux_0.loss_ce: 0.1212, aux_0.acc_seg: 93.0723, aux_1.loss_ce: 0.1194, aux_1.acc_seg: 93.0119, aux_2.loss_ce: 0.0332, aux_2.loss_dice: 0.2992, aux_2.acc_seg: 99.3286, loss: 0.6939\n",
      "2022-03-28 20:46:01,923 - mmseg - INFO - Iter [23250/160000]\tlr: 8.695e-03, eta: 1 day, 3:40:34, time: 0.625, data_time: 0.005, memory: 2073, decode.loss_ce: 0.1315, decode.acc_seg: 92.5134, aux_0.loss_ce: 0.1307, aux_0.acc_seg: 92.5407, aux_1.loss_ce: 0.1337, aux_1.acc_seg: 92.4542, aux_2.loss_ce: 0.0362, aux_2.loss_dice: 0.3263, aux_2.acc_seg: 99.2780, loss: 0.7583\n",
      "2022-03-28 20:46:35,606 - mmseg - INFO - Iter [23300/160000]\tlr: 8.693e-03, eta: 1 day, 3:39:41, time: 0.673, data_time: 0.006, memory: 2073, decode.loss_ce: 0.1311, decode.acc_seg: 92.2262, aux_0.loss_ce: 0.1324, aux_0.acc_seg: 92.2159, aux_1.loss_ce: 0.1341, aux_1.acc_seg: 92.1682, aux_2.loss_ce: 0.0360, aux_2.loss_dice: 0.3034, aux_2.acc_seg: 99.2670, loss: 0.7371\n",
      "2022-03-28 20:47:11,907 - mmseg - INFO - Iter [23350/160000]\tlr: 8.690e-03, eta: 1 day, 3:39:04, time: 0.727, data_time: 0.006, memory: 2073, decode.loss_ce: 0.1489, decode.acc_seg: 91.3015, aux_0.loss_ce: 0.1507, aux_0.acc_seg: 91.2419, aux_1.loss_ce: 0.1508, aux_1.acc_seg: 91.2367, aux_2.loss_ce: 0.0406, aux_2.loss_dice: 0.3289, aux_2.acc_seg: 99.1734, loss: 0.8198\n"
     ]
    },
    {
     "name": "stderr",
     "output_type": "stream",
     "text": [
      "2022-03-28 20:47:48,272 - mmseg - INFO - Iter [23400/160000]\tlr: 8.687e-03, eta: 1 day, 3:38:27, time: 0.727, data_time: 0.006, memory: 2073, decode.loss_ce: 0.1251, decode.acc_seg: 92.6900, aux_0.loss_ce: 0.1223, aux_0.acc_seg: 92.7038, aux_1.loss_ce: 0.1241, aux_1.acc_seg: 92.7004, aux_2.loss_ce: 0.0344, aux_2.loss_dice: 0.3197, aux_2.acc_seg: 99.3109, loss: 0.7256\n",
      "2022-03-28 20:48:24,605 - mmseg - INFO - Iter [23450/160000]\tlr: 8.684e-03, eta: 1 day, 3:37:50, time: 0.727, data_time: 0.005, memory: 2073, decode.loss_ce: 0.1281, decode.acc_seg: 92.3151, aux_0.loss_ce: 0.1314, aux_0.acc_seg: 92.3850, aux_1.loss_ce: 0.1314, aux_1.acc_seg: 92.3171, aux_2.loss_ce: 0.0366, aux_2.loss_dice: 0.3046, aux_2.acc_seg: 99.2708, loss: 0.7321\n",
      "2022-03-28 20:49:00,987 - mmseg - INFO - Iter [23500/160000]\tlr: 8.681e-03, eta: 1 day, 3:37:14, time: 0.728, data_time: 0.006, memory: 2073, decode.loss_ce: 0.1196, decode.acc_seg: 92.8691, aux_0.loss_ce: 0.1185, aux_0.acc_seg: 92.8727, aux_1.loss_ce: 0.1194, aux_1.acc_seg: 92.8979, aux_2.loss_ce: 0.0350, aux_2.loss_dice: 0.3116, aux_2.acc_seg: 99.2948, loss: 0.7041\n",
      "2022-03-28 20:49:37,335 - mmseg - INFO - Iter [23550/160000]\tlr: 8.678e-03, eta: 1 day, 3:36:37, time: 0.727, data_time: 0.005, memory: 2073, decode.loss_ce: 0.1273, decode.acc_seg: 92.7810, aux_0.loss_ce: 0.1272, aux_0.acc_seg: 92.8223, aux_1.loss_ce: 0.1296, aux_1.acc_seg: 92.6190, aux_2.loss_ce: 0.0339, aux_2.loss_dice: 0.3253, aux_2.acc_seg: 99.3231, loss: 0.7433\n",
      "2022-03-28 20:50:13,677 - mmseg - INFO - Iter [23600/160000]\tlr: 8.676e-03, eta: 1 day, 3:36:00, time: 0.726, data_time: 0.006, memory: 2073, decode.loss_ce: 0.1327, decode.acc_seg: 92.3975, aux_0.loss_ce: 0.1327, aux_0.acc_seg: 92.4474, aux_1.loss_ce: 0.1338, aux_1.acc_seg: 92.3605, aux_2.loss_ce: 0.0350, aux_2.loss_dice: 0.3035, aux_2.acc_seg: 99.3030, loss: 0.7376\n",
      "2022-03-28 20:50:49,919 - mmseg - INFO - Iter [23650/160000]\tlr: 8.673e-03, eta: 1 day, 3:35:23, time: 0.726, data_time: 0.006, memory: 2073, decode.loss_ce: 0.1223, decode.acc_seg: 93.1934, aux_0.loss_ce: 0.1236, aux_0.acc_seg: 93.1388, aux_1.loss_ce: 0.1210, aux_1.acc_seg: 93.1373, aux_2.loss_ce: 0.0360, aux_2.loss_dice: 0.3132, aux_2.acc_seg: 99.2832, loss: 0.7162\n",
      "2022-03-28 20:51:28,922 - mmseg - INFO - Iter [23700/160000]\tlr: 8.670e-03, eta: 1 day, 3:35:01, time: 0.779, data_time: 0.058, memory: 2073, decode.loss_ce: 0.1269, decode.acc_seg: 92.3159, aux_0.loss_ce: 0.1267, aux_0.acc_seg: 92.2609, aux_1.loss_ce: 0.1297, aux_1.acc_seg: 92.3048, aux_2.loss_ce: 0.0355, aux_2.loss_dice: 0.3258, aux_2.acc_seg: 99.2900, loss: 0.7445\n",
      "2022-03-28 20:52:05,224 - mmseg - INFO - Iter [23750/160000]\tlr: 8.667e-03, eta: 1 day, 3:34:24, time: 0.727, data_time: 0.006, memory: 2073, decode.loss_ce: 0.1283, decode.acc_seg: 92.5506, aux_0.loss_ce: 0.1324, aux_0.acc_seg: 92.5197, aux_1.loss_ce: 0.1335, aux_1.acc_seg: 92.4924, aux_2.loss_ce: 0.0356, aux_2.loss_dice: 0.3237, aux_2.acc_seg: 99.2822, loss: 0.7535\n",
      "2022-03-28 20:52:41,616 - mmseg - INFO - Iter [23800/160000]\tlr: 8.664e-03, eta: 1 day, 3:33:47, time: 0.728, data_time: 0.005, memory: 2073, decode.loss_ce: 0.1325, decode.acc_seg: 92.6095, aux_0.loss_ce: 0.1287, aux_0.acc_seg: 92.6749, aux_1.loss_ce: 0.1300, aux_1.acc_seg: 92.6005, aux_2.loss_ce: 0.0329, aux_2.loss_dice: 0.3095, aux_2.acc_seg: 99.3443, loss: 0.7337\n",
      "2022-03-28 20:53:18,008 - mmseg - INFO - Iter [23850/160000]\tlr: 8.661e-03, eta: 1 day, 3:33:11, time: 0.728, data_time: 0.005, memory: 2073, decode.loss_ce: 0.1384, decode.acc_seg: 91.4956, aux_0.loss_ce: 0.1384, aux_0.acc_seg: 91.5906, aux_1.loss_ce: 0.1379, aux_1.acc_seg: 91.5162, aux_2.loss_ce: 0.0372, aux_2.loss_dice: 0.3146, aux_2.acc_seg: 99.2404, loss: 0.7665\n",
      "2022-03-28 20:53:54,362 - mmseg - INFO - Iter [23900/160000]\tlr: 8.659e-03, eta: 1 day, 3:32:34, time: 0.727, data_time: 0.005, memory: 2073, decode.loss_ce: 0.1161, decode.acc_seg: 93.1034, aux_0.loss_ce: 0.1152, aux_0.acc_seg: 93.0560, aux_1.loss_ce: 0.1162, aux_1.acc_seg: 93.0345, aux_2.loss_ce: 0.0345, aux_2.loss_dice: 0.3124, aux_2.acc_seg: 99.2996, loss: 0.6944\n",
      "2022-03-28 20:54:28,051 - mmseg - INFO - Iter [23950/160000]\tlr: 8.656e-03, eta: 1 day, 3:31:42, time: 0.674, data_time: 0.005, memory: 2073, decode.loss_ce: 0.1345, decode.acc_seg: 92.0873, aux_0.loss_ce: 0.1388, aux_0.acc_seg: 92.0861, aux_1.loss_ce: 0.1363, aux_1.acc_seg: 91.9469, aux_2.loss_ce: 0.0370, aux_2.loss_dice: 0.3172, aux_2.acc_seg: 99.2659, loss: 0.7639\n",
      "2022-03-28 20:55:04,438 - mmseg - INFO - Iter [24000/160000]\tlr: 8.653e-03, eta: 1 day, 3:31:05, time: 0.728, data_time: 0.005, memory: 2073, decode.loss_ce: 0.1363, decode.acc_seg: 92.1700, aux_0.loss_ce: 0.1344, aux_0.acc_seg: 92.0803, aux_1.loss_ce: 0.1378, aux_1.acc_seg: 92.1174, aux_2.loss_ce: 0.0402, aux_2.loss_dice: 0.3347, aux_2.acc_seg: 99.2165, loss: 0.7835\n",
      "2022-03-28 20:55:40,854 - mmseg - INFO - Iter [24050/160000]\tlr: 8.650e-03, eta: 1 day, 3:30:29, time: 0.728, data_time: 0.005, memory: 2073, decode.loss_ce: 0.1403, decode.acc_seg: 91.8304, aux_0.loss_ce: 0.1404, aux_0.acc_seg: 91.7745, aux_1.loss_ce: 0.1404, aux_1.acc_seg: 91.8250, aux_2.loss_ce: 0.0412, aux_2.loss_dice: 0.3377, aux_2.acc_seg: 99.1830, loss: 0.8000\n",
      "2022-03-28 20:56:17,276 - mmseg - INFO - Iter [24100/160000]\tlr: 8.647e-03, eta: 1 day, 3:29:52, time: 0.728, data_time: 0.006, memory: 2073, decode.loss_ce: 0.1250, decode.acc_seg: 92.7737, aux_0.loss_ce: 0.1262, aux_0.acc_seg: 92.6873, aux_1.loss_ce: 0.1255, aux_1.acc_seg: 92.7062, aux_2.loss_ce: 0.0381, aux_2.loss_dice: 0.3257, aux_2.acc_seg: 99.2377, loss: 0.7405\n",
      "2022-03-28 20:56:53,632 - mmseg - INFO - Iter [24150/160000]\tlr: 8.644e-03, eta: 1 day, 3:29:15, time: 0.727, data_time: 0.006, memory: 2073, decode.loss_ce: 0.1136, decode.acc_seg: 93.3354, aux_0.loss_ce: 0.1142, aux_0.acc_seg: 93.2814, aux_1.loss_ce: 0.1146, aux_1.acc_seg: 93.2341, aux_2.loss_ce: 0.0341, aux_2.loss_dice: 0.3155, aux_2.acc_seg: 99.3145, loss: 0.6920\n",
      "2022-03-28 20:57:29,928 - mmseg - INFO - Iter [24200/160000]\tlr: 8.642e-03, eta: 1 day, 3:28:38, time: 0.725, data_time: 0.006, memory: 2073, decode.loss_ce: 0.1296, decode.acc_seg: 92.5958, aux_0.loss_ce: 0.1302, aux_0.acc_seg: 92.5718, aux_1.loss_ce: 0.1319, aux_1.acc_seg: 92.5287, aux_2.loss_ce: 0.0354, aux_2.loss_dice: 0.3177, aux_2.acc_seg: 99.2926, loss: 0.7449\n",
      "2022-03-28 20:58:06,218 - mmseg - INFO - Iter [24250/160000]\tlr: 8.639e-03, eta: 1 day, 3:28:01, time: 0.726, data_time: 0.006, memory: 2073, decode.loss_ce: 0.1461, decode.acc_seg: 91.5252, aux_0.loss_ce: 0.1467, aux_0.acc_seg: 91.3850, aux_1.loss_ce: 0.1455, aux_1.acc_seg: 91.2904, aux_2.loss_ce: 0.0358, aux_2.loss_dice: 0.3115, aux_2.acc_seg: 99.2799, loss: 0.7855\n",
      "2022-03-28 20:58:42,565 - mmseg - INFO - Iter [24300/160000]\tlr: 8.636e-03, eta: 1 day, 3:27:24, time: 0.727, data_time: 0.006, memory: 2073, decode.loss_ce: 0.1207, decode.acc_seg: 92.8541, aux_0.loss_ce: 0.1229, aux_0.acc_seg: 92.8618, aux_1.loss_ce: 0.1238, aux_1.acc_seg: 92.8351, aux_2.loss_ce: 0.0334, aux_2.loss_dice: 0.3210, aux_2.acc_seg: 99.3300, loss: 0.7218\n",
      "2022-03-28 20:59:18,996 - mmseg - INFO - Iter [24350/160000]\tlr: 8.633e-03, eta: 1 day, 3:26:48, time: 0.729, data_time: 0.005, memory: 2073, decode.loss_ce: 0.1365, decode.acc_seg: 92.1630, aux_0.loss_ce: 0.1376, aux_0.acc_seg: 92.1110, aux_1.loss_ce: 0.1376, aux_1.acc_seg: 92.1373, aux_2.loss_ce: 0.0359, aux_2.loss_dice: 0.3222, aux_2.acc_seg: 99.2639, loss: 0.7699\n",
      "2022-03-28 20:59:58,153 - mmseg - INFO - Iter [24400/160000]\tlr: 8.630e-03, eta: 1 day, 3:26:27, time: 0.783, data_time: 0.058, memory: 2073, decode.loss_ce: 0.1219, decode.acc_seg: 93.1590, aux_0.loss_ce: 0.1244, aux_0.acc_seg: 93.1335, aux_1.loss_ce: 0.1186, aux_1.acc_seg: 93.1245, aux_2.loss_ce: 0.0352, aux_2.loss_dice: 0.3226, aux_2.acc_seg: 99.2897, loss: 0.7226\n",
      "2022-03-28 21:00:34,450 - mmseg - INFO - Iter [24450/160000]\tlr: 8.627e-03, eta: 1 day, 3:25:49, time: 0.725, data_time: 0.005, memory: 2073, decode.loss_ce: 0.1176, decode.acc_seg: 93.1162, aux_0.loss_ce: 0.1152, aux_0.acc_seg: 93.0661, aux_1.loss_ce: 0.1208, aux_1.acc_seg: 93.2052, aux_2.loss_ce: 0.0363, aux_2.loss_dice: 0.3196, aux_2.acc_seg: 99.2905, loss: 0.7095\n",
      "2022-03-28 21:01:10,765 - mmseg - INFO - Iter [24500/160000]\tlr: 8.625e-03, eta: 1 day, 3:25:12, time: 0.726, data_time: 0.006, memory: 2073, decode.loss_ce: 0.1369, decode.acc_seg: 92.2826, aux_0.loss_ce: 0.1371, aux_0.acc_seg: 92.3346, aux_1.loss_ce: 0.1450, aux_1.acc_seg: 92.2753, aux_2.loss_ce: 0.0367, aux_2.loss_dice: 0.3310, aux_2.acc_seg: 99.2670, loss: 0.7867\n"
     ]
    },
    {
     "name": "stderr",
     "output_type": "stream",
     "text": [
      "2022-03-28 21:01:47,051 - mmseg - INFO - Iter [24550/160000]\tlr: 8.622e-03, eta: 1 day, 3:24:35, time: 0.726, data_time: 0.006, memory: 2073, decode.loss_ce: 0.1369, decode.acc_seg: 92.4670, aux_0.loss_ce: 0.1380, aux_0.acc_seg: 92.4395, aux_1.loss_ce: 0.1326, aux_1.acc_seg: 92.4356, aux_2.loss_ce: 0.0346, aux_2.loss_dice: 0.3323, aux_2.acc_seg: 99.3040, loss: 0.7745\n",
      "2022-03-28 21:02:20,830 - mmseg - INFO - Iter [24600/160000]\tlr: 8.619e-03, eta: 1 day, 3:23:44, time: 0.675, data_time: 0.006, memory: 2073, decode.loss_ce: 0.1221, decode.acc_seg: 92.8547, aux_0.loss_ce: 0.1225, aux_0.acc_seg: 92.8546, aux_1.loss_ce: 0.1255, aux_1.acc_seg: 92.8700, aux_2.loss_ce: 0.0359, aux_2.loss_dice: 0.3035, aux_2.acc_seg: 99.2936, loss: 0.7094\n",
      "2022-03-28 21:02:57,074 - mmseg - INFO - Iter [24650/160000]\tlr: 8.616e-03, eta: 1 day, 3:23:07, time: 0.725, data_time: 0.006, memory: 2073, decode.loss_ce: 0.1379, decode.acc_seg: 92.1488, aux_0.loss_ce: 0.1368, aux_0.acc_seg: 92.1389, aux_1.loss_ce: 0.1378, aux_1.acc_seg: 92.1268, aux_2.loss_ce: 0.0370, aux_2.loss_dice: 0.3213, aux_2.acc_seg: 99.2540, loss: 0.7709\n",
      "2022-03-28 21:03:33,460 - mmseg - INFO - Iter [24700/160000]\tlr: 8.613e-03, eta: 1 day, 3:22:30, time: 0.728, data_time: 0.006, memory: 2073, decode.loss_ce: 0.1327, decode.acc_seg: 92.3422, aux_0.loss_ce: 0.1340, aux_0.acc_seg: 92.3479, aux_1.loss_ce: 0.1361, aux_1.acc_seg: 92.3028, aux_2.loss_ce: 0.0391, aux_2.loss_dice: 0.3128, aux_2.acc_seg: 99.1983, loss: 0.7547\n",
      "2022-03-28 21:04:09,731 - mmseg - INFO - Iter [24750/160000]\tlr: 8.610e-03, eta: 1 day, 3:21:53, time: 0.726, data_time: 0.006, memory: 2073, decode.loss_ce: 0.1158, decode.acc_seg: 93.0349, aux_0.loss_ce: 0.1154, aux_0.acc_seg: 93.0776, aux_1.loss_ce: 0.1146, aux_1.acc_seg: 93.0801, aux_2.loss_ce: 0.0351, aux_2.loss_dice: 0.3028, aux_2.acc_seg: 99.2901, loss: 0.6837\n",
      "2022-03-28 21:04:46,161 - mmseg - INFO - Iter [24800/160000]\tlr: 8.608e-03, eta: 1 day, 3:21:17, time: 0.729, data_time: 0.005, memory: 2073, decode.loss_ce: 0.1358, decode.acc_seg: 92.5212, aux_0.loss_ce: 0.1356, aux_0.acc_seg: 92.5224, aux_1.loss_ce: 0.1347, aux_1.acc_seg: 92.3787, aux_2.loss_ce: 0.0355, aux_2.loss_dice: 0.3097, aux_2.acc_seg: 99.2759, loss: 0.7513\n",
      "2022-03-28 21:05:22,559 - mmseg - INFO - Iter [24850/160000]\tlr: 8.605e-03, eta: 1 day, 3:20:40, time: 0.728, data_time: 0.005, memory: 2073, decode.loss_ce: 0.1033, decode.acc_seg: 93.7794, aux_0.loss_ce: 0.1033, aux_0.acc_seg: 93.8161, aux_1.loss_ce: 0.1031, aux_1.acc_seg: 93.7709, aux_2.loss_ce: 0.0332, aux_2.loss_dice: 0.3140, aux_2.acc_seg: 99.3381, loss: 0.6569\n",
      "2022-03-28 21:05:58,955 - mmseg - INFO - Iter [24900/160000]\tlr: 8.602e-03, eta: 1 day, 3:20:04, time: 0.728, data_time: 0.005, memory: 2073, decode.loss_ce: 0.1083, decode.acc_seg: 93.5171, aux_0.loss_ce: 0.1089, aux_0.acc_seg: 93.4595, aux_1.loss_ce: 0.1124, aux_1.acc_seg: 93.3770, aux_2.loss_ce: 0.0323, aux_2.loss_dice: 0.3049, aux_2.acc_seg: 99.3633, loss: 0.6668\n",
      "2022-03-28 21:06:35,327 - mmseg - INFO - Iter [24950/160000]\tlr: 8.599e-03, eta: 1 day, 3:19:27, time: 0.727, data_time: 0.005, memory: 2073, decode.loss_ce: 0.1162, decode.acc_seg: 92.9639, aux_0.loss_ce: 0.1172, aux_0.acc_seg: 92.9280, aux_1.loss_ce: 0.1219, aux_1.acc_seg: 92.8421, aux_2.loss_ce: 0.0348, aux_2.loss_dice: 0.3125, aux_2.acc_seg: 99.2927, loss: 0.7026\n",
      "2022-03-28 21:07:11,735 - mmseg - INFO - Iter [25000/160000]\tlr: 8.596e-03, eta: 1 day, 3:18:51, time: 0.728, data_time: 0.005, memory: 2073, decode.loss_ce: 0.1339, decode.acc_seg: 92.4390, aux_0.loss_ce: 0.1340, aux_0.acc_seg: 92.4515, aux_1.loss_ce: 0.1315, aux_1.acc_seg: 92.4368, aux_2.loss_ce: 0.0372, aux_2.loss_dice: 0.3354, aux_2.acc_seg: 99.2469, loss: 0.7720\n"
     ]
    },
    {
     "name": "stdout",
     "output_type": "stream",
     "text": [
      "[>>>>>>>>>>>>>>>>>>>>>>>>>>>>>] 610/610, 27.0 task/s, elapsed: 23s, ETA:     0s"
     ]
    },
    {
     "name": "stderr",
     "output_type": "stream",
     "text": [
      "2022-03-28 21:07:34,386 - mmseg - INFO - per class results:\n",
      "2022-03-28 21:07:34,387 - mmseg - INFO - \n",
      "+------------+-------+-------+\n",
      "|   Class    |  IoU  |  Acc  |\n",
      "+------------+-------+-------+\n",
      "| background | 95.23 | 99.93 |\n",
      "|   human    |  9.26 |  9.37 |\n",
      "+------------+-------+-------+\n",
      "2022-03-28 21:07:34,387 - mmseg - INFO - Summary:\n",
      "2022-03-28 21:07:34,387 - mmseg - INFO - \n",
      "+-------+-------+-------+\n",
      "|  aAcc |  mIoU |  mAcc |\n",
      "+-------+-------+-------+\n",
      "| 95.25 | 52.24 | 54.65 |\n",
      "+-------+-------+-------+\n",
      "2022-03-28 21:07:34,391 - mmseg - INFO - Iter(val) [610]\taAcc: 0.9525, mIoU: 0.5224, mAcc: 0.5465, IoU.background: 0.9523, IoU.human: 0.0926, Acc.background: 0.9993, Acc.human: 0.0937\n",
      "2022-03-28 21:08:10,743 - mmseg - INFO - Iter [25050/160000]\tlr: 8.593e-03, eta: 1 day, 3:20:16, time: 1.180, data_time: 0.458, memory: 2073, decode.loss_ce: 0.1321, decode.acc_seg: 92.3891, aux_0.loss_ce: 0.1329, aux_0.acc_seg: 92.3345, aux_1.loss_ce: 0.1325, aux_1.acc_seg: 92.2800, aux_2.loss_ce: 0.0390, aux_2.loss_dice: 0.3344, aux_2.acc_seg: 99.2238, loss: 0.7709\n",
      "2022-03-28 21:08:49,722 - mmseg - INFO - Iter [25100/160000]\tlr: 8.591e-03, eta: 1 day, 3:19:53, time: 0.779, data_time: 0.056, memory: 2073, decode.loss_ce: 0.1137, decode.acc_seg: 93.3006, aux_0.loss_ce: 0.1157, aux_0.acc_seg: 93.3063, aux_1.loss_ce: 0.1156, aux_1.acc_seg: 93.2384, aux_2.loss_ce: 0.0349, aux_2.loss_dice: 0.3151, aux_2.acc_seg: 99.3305, loss: 0.6950\n",
      "2022-03-28 21:09:26,119 - mmseg - INFO - Iter [25150/160000]\tlr: 8.588e-03, eta: 1 day, 3:19:16, time: 0.728, data_time: 0.006, memory: 2073, decode.loss_ce: 0.1168, decode.acc_seg: 93.6304, aux_0.loss_ce: 0.1153, aux_0.acc_seg: 93.5115, aux_1.loss_ce: 0.1160, aux_1.acc_seg: 93.4869, aux_2.loss_ce: 0.0350, aux_2.loss_dice: 0.3292, aux_2.acc_seg: 99.2973, loss: 0.7123\n",
      "2022-03-28 21:10:00,034 - mmseg - INFO - Iter [25200/160000]\tlr: 8.585e-03, eta: 1 day, 3:18:26, time: 0.678, data_time: 0.006, memory: 2073, decode.loss_ce: 0.1314, decode.acc_seg: 92.4855, aux_0.loss_ce: 0.1335, aux_0.acc_seg: 92.4712, aux_1.loss_ce: 0.1350, aux_1.acc_seg: 92.4191, aux_2.loss_ce: 0.0393, aux_2.loss_dice: 0.3304, aux_2.acc_seg: 99.2033, loss: 0.7697\n",
      "2022-03-28 21:10:36,391 - mmseg - INFO - Iter [25250/160000]\tlr: 8.582e-03, eta: 1 day, 3:17:49, time: 0.727, data_time: 0.005, memory: 2073, decode.loss_ce: 0.1228, decode.acc_seg: 93.0640, aux_0.loss_ce: 0.1213, aux_0.acc_seg: 93.0221, aux_1.loss_ce: 0.1214, aux_1.acc_seg: 92.9931, aux_2.loss_ce: 0.0347, aux_2.loss_dice: 0.3262, aux_2.acc_seg: 99.3282, loss: 0.7264\n",
      "2022-03-28 21:11:12,804 - mmseg - INFO - Iter [25300/160000]\tlr: 8.579e-03, eta: 1 day, 3:17:12, time: 0.728, data_time: 0.006, memory: 2073, decode.loss_ce: 0.1282, decode.acc_seg: 92.5710, aux_0.loss_ce: 0.1345, aux_0.acc_seg: 92.5384, aux_1.loss_ce: 0.1336, aux_1.acc_seg: 92.4398, aux_2.loss_ce: 0.0364, aux_2.loss_dice: 0.3342, aux_2.acc_seg: 99.2922, loss: 0.7669\n",
      "2022-03-28 21:11:49,126 - mmseg - INFO - Iter [25350/160000]\tlr: 8.576e-03, eta: 1 day, 3:16:35, time: 0.726, data_time: 0.006, memory: 2073, decode.loss_ce: 0.1307, decode.acc_seg: 92.1720, aux_0.loss_ce: 0.1301, aux_0.acc_seg: 92.1549, aux_1.loss_ce: 0.1328, aux_1.acc_seg: 92.0990, aux_2.loss_ce: 0.0383, aux_2.loss_dice: 0.3285, aux_2.acc_seg: 99.2393, loss: 0.7604\n",
      "2022-03-28 21:12:25,401 - mmseg - INFO - Iter [25400/160000]\tlr: 8.574e-03, eta: 1 day, 3:15:57, time: 0.726, data_time: 0.006, memory: 2073, decode.loss_ce: 0.1236, decode.acc_seg: 92.9244, aux_0.loss_ce: 0.1211, aux_0.acc_seg: 92.8698, aux_1.loss_ce: 0.1207, aux_1.acc_seg: 92.9402, aux_2.loss_ce: 0.0379, aux_2.loss_dice: 0.3390, aux_2.acc_seg: 99.2538, loss: 0.7424\n",
      "2022-03-28 21:13:01,736 - mmseg - INFO - Iter [25450/160000]\tlr: 8.571e-03, eta: 1 day, 3:15:20, time: 0.727, data_time: 0.005, memory: 2073, decode.loss_ce: 0.1254, decode.acc_seg: 92.7851, aux_0.loss_ce: 0.1293, aux_0.acc_seg: 92.7027, aux_1.loss_ce: 0.1286, aux_1.acc_seg: 92.7372, aux_2.loss_ce: 0.0363, aux_2.loss_dice: 0.3375, aux_2.acc_seg: 99.2792, loss: 0.7570\n",
      "2022-03-28 21:13:38,069 - mmseg - INFO - Iter [25500/160000]\tlr: 8.568e-03, eta: 1 day, 3:14:43, time: 0.727, data_time: 0.005, memory: 2073, decode.loss_ce: 0.1160, decode.acc_seg: 93.0029, aux_0.loss_ce: 0.1192, aux_0.acc_seg: 92.9862, aux_1.loss_ce: 0.1190, aux_1.acc_seg: 92.9300, aux_2.loss_ce: 0.0334, aux_2.loss_dice: 0.2939, aux_2.acc_seg: 99.3404, loss: 0.6815\n",
      "2022-03-28 21:14:14,397 - mmseg - INFO - Iter [25550/160000]\tlr: 8.565e-03, eta: 1 day, 3:14:06, time: 0.727, data_time: 0.006, memory: 2073, decode.loss_ce: 0.1236, decode.acc_seg: 92.7448, aux_0.loss_ce: 0.1185, aux_0.acc_seg: 92.7029, aux_1.loss_ce: 0.1238, aux_1.acc_seg: 92.6669, aux_2.loss_ce: 0.0362, aux_2.loss_dice: 0.3316, aux_2.acc_seg: 99.2631, loss: 0.7338\n",
      "2022-03-28 21:14:50,707 - mmseg - INFO - Iter [25600/160000]\tlr: 8.562e-03, eta: 1 day, 3:13:29, time: 0.725, data_time: 0.005, memory: 2073, decode.loss_ce: 0.1306, decode.acc_seg: 92.2593, aux_0.loss_ce: 0.1380, aux_0.acc_seg: 92.1492, aux_1.loss_ce: 0.1339, aux_1.acc_seg: 92.0967, aux_2.loss_ce: 0.0370, aux_2.loss_dice: 0.3272, aux_2.acc_seg: 99.2653, loss: 0.7667\n",
      "2022-03-28 21:15:27,035 - mmseg - INFO - Iter [25650/160000]\tlr: 8.559e-03, eta: 1 day, 3:12:51, time: 0.727, data_time: 0.006, memory: 2073, decode.loss_ce: 0.1283, decode.acc_seg: 92.9336, aux_0.loss_ce: 0.1286, aux_0.acc_seg: 92.8104, aux_1.loss_ce: 0.1324, aux_1.acc_seg: 92.8023, aux_2.loss_ce: 0.0345, aux_2.loss_dice: 0.3191, aux_2.acc_seg: 99.3252, loss: 0.7429\n",
      "2022-03-28 21:16:03,331 - mmseg - INFO - Iter [25700/160000]\tlr: 8.557e-03, eta: 1 day, 3:12:14, time: 0.726, data_time: 0.006, memory: 2073, decode.loss_ce: 0.1357, decode.acc_seg: 92.1029, aux_0.loss_ce: 0.1360, aux_0.acc_seg: 92.1132, aux_1.loss_ce: 0.1366, aux_1.acc_seg: 92.1102, aux_2.loss_ce: 0.0374, aux_2.loss_dice: 0.3196, aux_2.acc_seg: 99.2382, loss: 0.7653\n",
      "2022-03-28 21:16:39,662 - mmseg - INFO - Iter [25750/160000]\tlr: 8.554e-03, eta: 1 day, 3:11:37, time: 0.726, data_time: 0.005, memory: 2073, decode.loss_ce: 0.1234, decode.acc_seg: 92.9292, aux_0.loss_ce: 0.1216, aux_0.acc_seg: 92.9287, aux_1.loss_ce: 0.1223, aux_1.acc_seg: 92.8711, aux_2.loss_ce: 0.0345, aux_2.loss_dice: 0.3253, aux_2.acc_seg: 99.3077, loss: 0.7271\n",
      "2022-03-28 21:17:18,639 - mmseg - INFO - Iter [25800/160000]\tlr: 8.551e-03, eta: 1 day, 3:11:14, time: 0.780, data_time: 0.059, memory: 2073, decode.loss_ce: 0.1213, decode.acc_seg: 92.6108, aux_0.loss_ce: 0.1231, aux_0.acc_seg: 92.6391, aux_1.loss_ce: 0.1220, aux_1.acc_seg: 92.6130, aux_2.loss_ce: 0.0325, aux_2.loss_dice: 0.3134, aux_2.acc_seg: 99.3608, loss: 0.7123\n",
      "2022-03-28 21:17:52,347 - mmseg - INFO - Iter [25850/160000]\tlr: 8.548e-03, eta: 1 day, 3:10:23, time: 0.674, data_time: 0.006, memory: 2073, decode.loss_ce: 0.1360, decode.acc_seg: 92.2214, aux_0.loss_ce: 0.1384, aux_0.acc_seg: 92.0599, aux_1.loss_ce: 0.1387, aux_1.acc_seg: 92.1132, aux_2.loss_ce: 0.0368, aux_2.loss_dice: 0.3169, aux_2.acc_seg: 99.2471, loss: 0.7668\n",
      "2022-03-28 21:18:28,698 - mmseg - INFO - Iter [25900/160000]\tlr: 8.545e-03, eta: 1 day, 3:09:46, time: 0.727, data_time: 0.006, memory: 2073, decode.loss_ce: 0.1060, decode.acc_seg: 93.8734, aux_0.loss_ce: 0.1057, aux_0.acc_seg: 93.8286, aux_1.loss_ce: 0.1067, aux_1.acc_seg: 93.8621, aux_2.loss_ce: 0.0347, aux_2.loss_dice: 0.3072, aux_2.acc_seg: 99.2896, loss: 0.6602\n",
      "2022-03-28 21:19:05,073 - mmseg - INFO - Iter [25950/160000]\tlr: 8.542e-03, eta: 1 day, 3:09:09, time: 0.727, data_time: 0.005, memory: 2073, decode.loss_ce: 0.1384, decode.acc_seg: 91.8629, aux_0.loss_ce: 0.1403, aux_0.acc_seg: 91.8852, aux_1.loss_ce: 0.1402, aux_1.acc_seg: 91.7827, aux_2.loss_ce: 0.0378, aux_2.loss_dice: 0.3424, aux_2.acc_seg: 99.2493, loss: 0.7992\n",
      "2022-03-28 21:19:41,384 - mmseg - INFO - Iter [26000/160000]\tlr: 8.540e-03, eta: 1 day, 3:08:32, time: 0.726, data_time: 0.006, memory: 2073, decode.loss_ce: 0.1097, decode.acc_seg: 93.4037, aux_0.loss_ce: 0.1139, aux_0.acc_seg: 93.3209, aux_1.loss_ce: 0.1138, aux_1.acc_seg: 93.3334, aux_2.loss_ce: 0.0348, aux_2.loss_dice: 0.3092, aux_2.acc_seg: 99.3101, loss: 0.6814\n",
      "2022-03-28 21:20:17,731 - mmseg - INFO - Iter [26050/160000]\tlr: 8.537e-03, eta: 1 day, 3:07:55, time: 0.727, data_time: 0.006, memory: 2073, decode.loss_ce: 0.1381, decode.acc_seg: 92.1682, aux_0.loss_ce: 0.1337, aux_0.acc_seg: 92.1967, aux_1.loss_ce: 0.1348, aux_1.acc_seg: 92.0690, aux_2.loss_ce: 0.0362, aux_2.loss_dice: 0.3188, aux_2.acc_seg: 99.2596, loss: 0.7616\n"
     ]
    },
    {
     "name": "stderr",
     "output_type": "stream",
     "text": [
      "2022-03-28 21:20:54,136 - mmseg - INFO - Iter [26100/160000]\tlr: 8.534e-03, eta: 1 day, 3:07:18, time: 0.728, data_time: 0.006, memory: 2073, decode.loss_ce: 0.1139, decode.acc_seg: 93.7056, aux_0.loss_ce: 0.1093, aux_0.acc_seg: 93.6848, aux_1.loss_ce: 0.1132, aux_1.acc_seg: 93.5657, aux_2.loss_ce: 0.0320, aux_2.loss_dice: 0.3264, aux_2.acc_seg: 99.3653, loss: 0.6947\n",
      "2022-03-28 21:21:30,447 - mmseg - INFO - Iter [26150/160000]\tlr: 8.531e-03, eta: 1 day, 3:06:41, time: 0.726, data_time: 0.006, memory: 2073, decode.loss_ce: 0.1174, decode.acc_seg: 93.1323, aux_0.loss_ce: 0.1220, aux_0.acc_seg: 93.0420, aux_1.loss_ce: 0.1214, aux_1.acc_seg: 93.1003, aux_2.loss_ce: 0.0364, aux_2.loss_dice: 0.3217, aux_2.acc_seg: 99.2550, loss: 0.7188\n",
      "2022-03-28 21:22:06,700 - mmseg - INFO - Iter [26200/160000]\tlr: 8.528e-03, eta: 1 day, 3:06:03, time: 0.726, data_time: 0.006, memory: 2073, decode.loss_ce: 0.1257, decode.acc_seg: 92.6305, aux_0.loss_ce: 0.1261, aux_0.acc_seg: 92.6601, aux_1.loss_ce: 0.1264, aux_1.acc_seg: 92.6469, aux_2.loss_ce: 0.0369, aux_2.loss_dice: 0.3142, aux_2.acc_seg: 99.2605, loss: 0.7293\n",
      "2022-03-28 21:22:43,061 - mmseg - INFO - Iter [26250/160000]\tlr: 8.525e-03, eta: 1 day, 3:05:26, time: 0.727, data_time: 0.005, memory: 2073, decode.loss_ce: 0.1496, decode.acc_seg: 91.6626, aux_0.loss_ce: 0.1487, aux_0.acc_seg: 91.6142, aux_1.loss_ce: 0.1502, aux_1.acc_seg: 91.5762, aux_2.loss_ce: 0.0393, aux_2.loss_dice: 0.3216, aux_2.acc_seg: 99.2172, loss: 0.8095\n",
      "2022-03-28 21:23:19,366 - mmseg - INFO - Iter [26300/160000]\tlr: 8.523e-03, eta: 1 day, 3:04:49, time: 0.726, data_time: 0.005, memory: 2073, decode.loss_ce: 0.1271, decode.acc_seg: 92.5653, aux_0.loss_ce: 0.1271, aux_0.acc_seg: 92.5904, aux_1.loss_ce: 0.1284, aux_1.acc_seg: 92.4826, aux_2.loss_ce: 0.0367, aux_2.loss_dice: 0.3074, aux_2.acc_seg: 99.2451, loss: 0.7268\n",
      "2022-03-28 21:23:55,728 - mmseg - INFO - Iter [26350/160000]\tlr: 8.520e-03, eta: 1 day, 3:04:12, time: 0.727, data_time: 0.005, memory: 2073, decode.loss_ce: 0.1073, decode.acc_seg: 93.7401, aux_0.loss_ce: 0.1070, aux_0.acc_seg: 93.7323, aux_1.loss_ce: 0.1083, aux_1.acc_seg: 93.7130, aux_2.loss_ce: 0.0344, aux_2.loss_dice: 0.2965, aux_2.acc_seg: 99.3102, loss: 0.6536\n",
      "2022-03-28 21:24:32,147 - mmseg - INFO - Iter [26400/160000]\tlr: 8.517e-03, eta: 1 day, 3:03:35, time: 0.728, data_time: 0.005, memory: 2073, decode.loss_ce: 0.1163, decode.acc_seg: 93.4706, aux_0.loss_ce: 0.1179, aux_0.acc_seg: 93.5046, aux_1.loss_ce: 0.1169, aux_1.acc_seg: 93.5055, aux_2.loss_ce: 0.0351, aux_2.loss_dice: 0.3215, aux_2.acc_seg: 99.2936, loss: 0.7078\n",
      "2022-03-28 21:25:11,091 - mmseg - INFO - Iter [26450/160000]\tlr: 8.514e-03, eta: 1 day, 3:03:12, time: 0.779, data_time: 0.059, memory: 2073, decode.loss_ce: 0.1320, decode.acc_seg: 92.3988, aux_0.loss_ce: 0.1340, aux_0.acc_seg: 92.3125, aux_1.loss_ce: 0.1343, aux_1.acc_seg: 92.2504, aux_2.loss_ce: 0.0352, aux_2.loss_dice: 0.3152, aux_2.acc_seg: 99.2940, loss: 0.7507\n",
      "2022-03-28 21:25:44,794 - mmseg - INFO - Iter [26500/160000]\tlr: 8.511e-03, eta: 1 day, 3:02:21, time: 0.674, data_time: 0.006, memory: 2073, decode.loss_ce: 0.0970, decode.acc_seg: 94.1962, aux_0.loss_ce: 0.0964, aux_0.acc_seg: 94.0665, aux_1.loss_ce: 0.0963, aux_1.acc_seg: 94.1285, aux_2.loss_ce: 0.0343, aux_2.loss_dice: 0.3027, aux_2.acc_seg: 99.2981, loss: 0.6267\n",
      "2022-03-28 21:26:21,102 - mmseg - INFO - Iter [26550/160000]\tlr: 8.508e-03, eta: 1 day, 3:01:44, time: 0.727, data_time: 0.006, memory: 2073, decode.loss_ce: 0.1228, decode.acc_seg: 93.0758, aux_0.loss_ce: 0.1269, aux_0.acc_seg: 93.0782, aux_1.loss_ce: 0.1262, aux_1.acc_seg: 93.0013, aux_2.loss_ce: 0.0340, aux_2.loss_dice: 0.3273, aux_2.acc_seg: 99.3326, loss: 0.7372\n",
      "2022-03-28 21:26:57,493 - mmseg - INFO - Iter [26600/160000]\tlr: 8.506e-03, eta: 1 day, 3:01:07, time: 0.728, data_time: 0.005, memory: 2073, decode.loss_ce: 0.1144, decode.acc_seg: 93.8210, aux_0.loss_ce: 0.1120, aux_0.acc_seg: 93.8073, aux_1.loss_ce: 0.1156, aux_1.acc_seg: 93.7309, aux_2.loss_ce: 0.0337, aux_2.loss_dice: 0.3287, aux_2.acc_seg: 99.3202, loss: 0.7043\n",
      "2022-03-28 21:27:33,876 - mmseg - INFO - Iter [26650/160000]\tlr: 8.503e-03, eta: 1 day, 3:00:30, time: 0.728, data_time: 0.005, memory: 2073, decode.loss_ce: 0.1314, decode.acc_seg: 92.4248, aux_0.loss_ce: 0.1307, aux_0.acc_seg: 92.3406, aux_1.loss_ce: 0.1326, aux_1.acc_seg: 92.3359, aux_2.loss_ce: 0.0361, aux_2.loss_dice: 0.3038, aux_2.acc_seg: 99.2734, loss: 0.7346\n",
      "2022-03-28 21:28:10,276 - mmseg - INFO - Iter [26700/160000]\tlr: 8.500e-03, eta: 1 day, 2:59:54, time: 0.728, data_time: 0.005, memory: 2073, decode.loss_ce: 0.1084, decode.acc_seg: 93.8199, aux_0.loss_ce: 0.1128, aux_0.acc_seg: 93.7989, aux_1.loss_ce: 0.1093, aux_1.acc_seg: 93.8357, aux_2.loss_ce: 0.0352, aux_2.loss_dice: 0.3127, aux_2.acc_seg: 99.2840, loss: 0.6784\n",
      "2022-03-28 21:28:46,608 - mmseg - INFO - Iter [26750/160000]\tlr: 8.497e-03, eta: 1 day, 2:59:17, time: 0.727, data_time: 0.005, memory: 2073, decode.loss_ce: 0.1249, decode.acc_seg: 92.9191, aux_0.loss_ce: 0.1271, aux_0.acc_seg: 92.8838, aux_1.loss_ce: 0.1277, aux_1.acc_seg: 92.8513, aux_2.loss_ce: 0.0365, aux_2.loss_dice: 0.3342, aux_2.acc_seg: 99.2632, loss: 0.7504\n",
      "2022-03-28 21:29:22,971 - mmseg - INFO - Iter [26800/160000]\tlr: 8.494e-03, eta: 1 day, 2:58:40, time: 0.727, data_time: 0.005, memory: 2073, decode.loss_ce: 0.1502, decode.acc_seg: 91.6145, aux_0.loss_ce: 0.1449, aux_0.acc_seg: 91.5453, aux_1.loss_ce: 0.1494, aux_1.acc_seg: 91.6271, aux_2.loss_ce: 0.0411, aux_2.loss_dice: 0.3398, aux_2.acc_seg: 99.1875, loss: 0.8254\n",
      "2022-03-28 21:29:59,336 - mmseg - INFO - Iter [26850/160000]\tlr: 8.491e-03, eta: 1 day, 2:58:03, time: 0.727, data_time: 0.005, memory: 2073, decode.loss_ce: 0.1154, decode.acc_seg: 92.9931, aux_0.loss_ce: 0.1161, aux_0.acc_seg: 92.9876, aux_1.loss_ce: 0.1164, aux_1.acc_seg: 92.9003, aux_2.loss_ce: 0.0397, aux_2.loss_dice: 0.3658, aux_2.acc_seg: 99.2439, loss: 0.7534\n",
      "2022-03-28 21:30:35,518 - mmseg - INFO - Iter [26900/160000]\tlr: 8.489e-03, eta: 1 day, 2:57:25, time: 0.723, data_time: 0.005, memory: 2073, decode.loss_ce: 0.1307, decode.acc_seg: 92.2503, aux_0.loss_ce: 0.1324, aux_0.acc_seg: 92.2611, aux_1.loss_ce: 0.1322, aux_1.acc_seg: 92.1953, aux_2.loss_ce: 0.0381, aux_2.loss_dice: 0.3514, aux_2.acc_seg: 99.2518, loss: 0.7848\n",
      "2022-03-28 21:31:11,981 - mmseg - INFO - Iter [26950/160000]\tlr: 8.486e-03, eta: 1 day, 2:56:48, time: 0.729, data_time: 0.006, memory: 2073, decode.loss_ce: 0.1268, decode.acc_seg: 92.9897, aux_0.loss_ce: 0.1277, aux_0.acc_seg: 92.9274, aux_1.loss_ce: 0.1276, aux_1.acc_seg: 92.8893, aux_2.loss_ce: 0.0339, aux_2.loss_dice: 0.3317, aux_2.acc_seg: 99.3436, loss: 0.7477\n",
      "2022-03-28 21:31:48,260 - mmseg - INFO - Iter [27000/160000]\tlr: 8.483e-03, eta: 1 day, 2:56:11, time: 0.726, data_time: 0.006, memory: 2073, decode.loss_ce: 0.1187, decode.acc_seg: 92.9470, aux_0.loss_ce: 0.1194, aux_0.acc_seg: 92.8971, aux_1.loss_ce: 0.1192, aux_1.acc_seg: 92.9376, aux_2.loss_ce: 0.0362, aux_2.loss_dice: 0.3179, aux_2.acc_seg: 99.2715, loss: 0.7115\n",
      "2022-03-28 21:32:24,715 - mmseg - INFO - Iter [27050/160000]\tlr: 8.480e-03, eta: 1 day, 2:55:35, time: 0.729, data_time: 0.005, memory: 2073, decode.loss_ce: 0.1278, decode.acc_seg: 92.6895, aux_0.loss_ce: 0.1290, aux_0.acc_seg: 92.6529, aux_1.loss_ce: 0.1305, aux_1.acc_seg: 92.6082, aux_2.loss_ce: 0.0351, aux_2.loss_dice: 0.3320, aux_2.acc_seg: 99.2968, loss: 0.7544\n",
      "2022-03-28 21:33:01,103 - mmseg - INFO - Iter [27100/160000]\tlr: 8.477e-03, eta: 1 day, 2:54:58, time: 0.728, data_time: 0.005, memory: 2073, decode.loss_ce: 0.1288, decode.acc_seg: 92.7242, aux_0.loss_ce: 0.1283, aux_0.acc_seg: 92.6535, aux_1.loss_ce: 0.1304, aux_1.acc_seg: 92.6227, aux_2.loss_ce: 0.0365, aux_2.loss_dice: 0.3263, aux_2.acc_seg: 99.2679, loss: 0.7503\n",
      "2022-03-28 21:33:37,543 - mmseg - INFO - Iter [27150/160000]\tlr: 8.474e-03, eta: 1 day, 2:54:21, time: 0.729, data_time: 0.060, memory: 2073, decode.loss_ce: 0.1137, decode.acc_seg: 93.4594, aux_0.loss_ce: 0.1143, aux_0.acc_seg: 93.3898, aux_1.loss_ce: 0.1148, aux_1.acc_seg: 93.3694, aux_2.loss_ce: 0.0364, aux_2.loss_dice: 0.3337, aux_2.acc_seg: 99.2866, loss: 0.7130\n",
      "2022-03-28 21:34:13,973 - mmseg - INFO - Iter [27200/160000]\tlr: 8.472e-03, eta: 1 day, 2:53:45, time: 0.729, data_time: 0.005, memory: 2073, decode.loss_ce: 0.1157, decode.acc_seg: 93.3094, aux_0.loss_ce: 0.1198, aux_0.acc_seg: 93.2714, aux_1.loss_ce: 0.1187, aux_1.acc_seg: 93.1873, aux_2.loss_ce: 0.0352, aux_2.loss_dice: 0.3234, aux_2.acc_seg: 99.3026, loss: 0.7129\n"
     ]
    },
    {
     "name": "stderr",
     "output_type": "stream",
     "text": [
      "2022-03-28 21:34:50,455 - mmseg - INFO - Iter [27250/160000]\tlr: 8.469e-03, eta: 1 day, 2:53:08, time: 0.730, data_time: 0.005, memory: 2073, decode.loss_ce: 0.1145, decode.acc_seg: 93.4813, aux_0.loss_ce: 0.1138, aux_0.acc_seg: 93.4593, aux_1.loss_ce: 0.1143, aux_1.acc_seg: 93.4551, aux_2.loss_ce: 0.0359, aux_2.loss_dice: 0.3286, aux_2.acc_seg: 99.3173, loss: 0.7069\n",
      "2022-03-28 21:35:26,896 - mmseg - INFO - Iter [27300/160000]\tlr: 8.466e-03, eta: 1 day, 2:52:32, time: 0.729, data_time: 0.005, memory: 2073, decode.loss_ce: 0.1420, decode.acc_seg: 91.9615, aux_0.loss_ce: 0.1420, aux_0.acc_seg: 91.9500, aux_1.loss_ce: 0.1418, aux_1.acc_seg: 91.9043, aux_2.loss_ce: 0.0385, aux_2.loss_dice: 0.3534, aux_2.acc_seg: 99.2573, loss: 0.8177\n",
      "2022-03-28 21:36:03,270 - mmseg - INFO - Iter [27350/160000]\tlr: 8.463e-03, eta: 1 day, 2:51:55, time: 0.728, data_time: 0.006, memory: 2073, decode.loss_ce: 0.1162, decode.acc_seg: 93.3130, aux_0.loss_ce: 0.1178, aux_0.acc_seg: 93.2156, aux_1.loss_ce: 0.1191, aux_1.acc_seg: 93.1064, aux_2.loss_ce: 0.0348, aux_2.loss_dice: 0.3342, aux_2.acc_seg: 99.3162, loss: 0.7221\n",
      "2022-03-28 21:36:39,621 - mmseg - INFO - Iter [27400/160000]\tlr: 8.460e-03, eta: 1 day, 2:51:18, time: 0.727, data_time: 0.005, memory: 2073, decode.loss_ce: 0.1209, decode.acc_seg: 92.8235, aux_0.loss_ce: 0.1208, aux_0.acc_seg: 92.7822, aux_1.loss_ce: 0.1213, aux_1.acc_seg: 92.7848, aux_2.loss_ce: 0.0356, aux_2.loss_dice: 0.3130, aux_2.acc_seg: 99.2748, loss: 0.7115\n",
      "2022-03-28 21:37:16,056 - mmseg - INFO - Iter [27450/160000]\tlr: 8.457e-03, eta: 1 day, 2:50:42, time: 0.729, data_time: 0.005, memory: 2073, decode.loss_ce: 0.1169, decode.acc_seg: 93.5515, aux_0.loss_ce: 0.1189, aux_0.acc_seg: 93.4818, aux_1.loss_ce: 0.1186, aux_1.acc_seg: 93.4574, aux_2.loss_ce: 0.0364, aux_2.loss_dice: 0.3239, aux_2.acc_seg: 99.2635, loss: 0.7148\n",
      "2022-03-28 21:37:52,395 - mmseg - INFO - Iter [27500/160000]\tlr: 8.455e-03, eta: 1 day, 2:50:05, time: 0.727, data_time: 0.006, memory: 2073, decode.loss_ce: 0.1053, decode.acc_seg: 93.8250, aux_0.loss_ce: 0.1059, aux_0.acc_seg: 93.8489, aux_1.loss_ce: 0.1064, aux_1.acc_seg: 93.7945, aux_2.loss_ce: 0.0363, aux_2.loss_dice: 0.3126, aux_2.acc_seg: 99.2717, loss: 0.6664\n",
      "2022-03-28 21:38:28,794 - mmseg - INFO - Iter [27550/160000]\tlr: 8.452e-03, eta: 1 day, 2:49:28, time: 0.728, data_time: 0.006, memory: 2073, decode.loss_ce: 0.1265, decode.acc_seg: 92.8229, aux_0.loss_ce: 0.1282, aux_0.acc_seg: 92.7773, aux_1.loss_ce: 0.1287, aux_1.acc_seg: 92.7217, aux_2.loss_ce: 0.0373, aux_2.loss_dice: 0.3300, aux_2.acc_seg: 99.2597, loss: 0.7507\n",
      "2022-03-28 21:39:05,128 - mmseg - INFO - Iter [27600/160000]\tlr: 8.449e-03, eta: 1 day, 2:48:51, time: 0.727, data_time: 0.006, memory: 2073, decode.loss_ce: 0.1271, decode.acc_seg: 93.0446, aux_0.loss_ce: 0.1264, aux_0.acc_seg: 92.9657, aux_1.loss_ce: 0.1275, aux_1.acc_seg: 92.9823, aux_2.loss_ce: 0.0355, aux_2.loss_dice: 0.3280, aux_2.acc_seg: 99.3040, loss: 0.7445\n",
      "2022-03-28 21:39:41,380 - mmseg - INFO - Iter [27650/160000]\tlr: 8.446e-03, eta: 1 day, 2:48:13, time: 0.726, data_time: 0.006, memory: 2073, decode.loss_ce: 0.1300, decode.acc_seg: 92.3330, aux_0.loss_ce: 0.1313, aux_0.acc_seg: 92.3077, aux_1.loss_ce: 0.1330, aux_1.acc_seg: 92.3008, aux_2.loss_ce: 0.0365, aux_2.loss_dice: 0.3240, aux_2.acc_seg: 99.2621, loss: 0.7547\n",
      "2022-03-28 21:40:17,734 - mmseg - INFO - Iter [27700/160000]\tlr: 8.443e-03, eta: 1 day, 2:47:36, time: 0.727, data_time: 0.005, memory: 2073, decode.loss_ce: 0.1233, decode.acc_seg: 92.8558, aux_0.loss_ce: 0.1249, aux_0.acc_seg: 92.7251, aux_1.loss_ce: 0.1224, aux_1.acc_seg: 92.6546, aux_2.loss_ce: 0.0385, aux_2.loss_dice: 0.3385, aux_2.acc_seg: 99.2095, loss: 0.7475\n",
      "2022-03-28 21:40:54,083 - mmseg - INFO - Iter [27750/160000]\tlr: 8.440e-03, eta: 1 day, 2:46:59, time: 0.727, data_time: 0.005, memory: 2073, decode.loss_ce: 0.1158, decode.acc_seg: 93.0730, aux_0.loss_ce: 0.1155, aux_0.acc_seg: 93.0820, aux_1.loss_ce: 0.1186, aux_1.acc_seg: 93.0665, aux_2.loss_ce: 0.0373, aux_2.loss_dice: 0.3269, aux_2.acc_seg: 99.2479, loss: 0.7140\n",
      "2022-03-28 21:41:27,851 - mmseg - INFO - Iter [27800/160000]\tlr: 8.438e-03, eta: 1 day, 2:46:10, time: 0.675, data_time: 0.006, memory: 2073, decode.loss_ce: 0.1353, decode.acc_seg: 92.0671, aux_0.loss_ce: 0.1365, aux_0.acc_seg: 92.0144, aux_1.loss_ce: 0.1380, aux_1.acc_seg: 92.0388, aux_2.loss_ce: 0.0394, aux_2.loss_dice: 0.3191, aux_2.acc_seg: 99.2078, loss: 0.7683\n",
      "2022-03-28 21:42:01,611 - mmseg - INFO - Iter [27850/160000]\tlr: 8.435e-03, eta: 1 day, 2:45:21, time: 0.676, data_time: 0.060, memory: 2073, decode.loss_ce: 0.1295, decode.acc_seg: 92.5791, aux_0.loss_ce: 0.1322, aux_0.acc_seg: 92.4671, aux_1.loss_ce: 0.1302, aux_1.acc_seg: 92.4953, aux_2.loss_ce: 0.0374, aux_2.loss_dice: 0.3424, aux_2.acc_seg: 99.2501, loss: 0.7717\n",
      "2022-03-28 21:42:37,528 - mmseg - INFO - Iter [27900/160000]\tlr: 8.432e-03, eta: 1 day, 2:44:42, time: 0.718, data_time: 0.005, memory: 2073, decode.loss_ce: 0.1257, decode.acc_seg: 92.6506, aux_0.loss_ce: 0.1246, aux_0.acc_seg: 92.7103, aux_1.loss_ce: 0.1269, aux_1.acc_seg: 92.7047, aux_2.loss_ce: 0.0355, aux_2.loss_dice: 0.3154, aux_2.acc_seg: 99.2972, loss: 0.7280\n",
      "2022-03-28 21:43:13,818 - mmseg - INFO - Iter [27950/160000]\tlr: 8.429e-03, eta: 1 day, 2:44:05, time: 0.726, data_time: 0.006, memory: 2073, decode.loss_ce: 0.1330, decode.acc_seg: 92.3706, aux_0.loss_ce: 0.1323, aux_0.acc_seg: 92.4453, aux_1.loss_ce: 0.1340, aux_1.acc_seg: 92.3491, aux_2.loss_ce: 0.0373, aux_2.loss_dice: 0.3054, aux_2.acc_seg: 99.2192, loss: 0.7420\n",
      "2022-03-28 21:43:50,215 - mmseg - INFO - Iter [28000/160000]\tlr: 8.426e-03, eta: 1 day, 2:43:28, time: 0.728, data_time: 0.005, memory: 2073, decode.loss_ce: 0.1106, decode.acc_seg: 93.6576, aux_0.loss_ce: 0.1114, aux_0.acc_seg: 93.6298, aux_1.loss_ce: 0.1118, aux_1.acc_seg: 93.6067, aux_2.loss_ce: 0.0348, aux_2.loss_dice: 0.3396, aux_2.acc_seg: 99.3033, loss: 0.7083\n",
      "2022-03-28 21:44:26,619 - mmseg - INFO - Iter [28050/160000]\tlr: 8.423e-03, eta: 1 day, 2:42:52, time: 0.728, data_time: 0.005, memory: 2073, decode.loss_ce: 0.1176, decode.acc_seg: 93.2592, aux_0.loss_ce: 0.1205, aux_0.acc_seg: 93.1895, aux_1.loss_ce: 0.1214, aux_1.acc_seg: 93.1703, aux_2.loss_ce: 0.0354, aux_2.loss_dice: 0.3225, aux_2.acc_seg: 99.2880, loss: 0.7175\n",
      "2022-03-28 21:45:03,022 - mmseg - INFO - Iter [28100/160000]\tlr: 8.421e-03, eta: 1 day, 2:42:15, time: 0.728, data_time: 0.006, memory: 2073, decode.loss_ce: 0.1077, decode.acc_seg: 93.7776, aux_0.loss_ce: 0.1070, aux_0.acc_seg: 93.7705, aux_1.loss_ce: 0.1048, aux_1.acc_seg: 93.7561, aux_2.loss_ce: 0.0328, aux_2.loss_dice: 0.3196, aux_2.acc_seg: 99.3296, loss: 0.6720\n",
      "2022-03-28 21:45:39,389 - mmseg - INFO - Iter [28150/160000]\tlr: 8.418e-03, eta: 1 day, 2:41:38, time: 0.727, data_time: 0.006, memory: 2073, decode.loss_ce: 0.1206, decode.acc_seg: 92.9344, aux_0.loss_ce: 0.1252, aux_0.acc_seg: 92.7983, aux_1.loss_ce: 0.1282, aux_1.acc_seg: 92.7889, aux_2.loss_ce: 0.0351, aux_2.loss_dice: 0.3100, aux_2.acc_seg: 99.2927, loss: 0.7191\n",
      "2022-03-28 21:46:15,758 - mmseg - INFO - Iter [28200/160000]\tlr: 8.415e-03, eta: 1 day, 2:41:01, time: 0.727, data_time: 0.006, memory: 2073, decode.loss_ce: 0.1245, decode.acc_seg: 92.4887, aux_0.loss_ce: 0.1216, aux_0.acc_seg: 92.4882, aux_1.loss_ce: 0.1223, aux_1.acc_seg: 92.3946, aux_2.loss_ce: 0.0340, aux_2.loss_dice: 0.3019, aux_2.acc_seg: 99.3173, loss: 0.7042\n",
      "2022-03-28 21:46:52,156 - mmseg - INFO - Iter [28250/160000]\tlr: 8.412e-03, eta: 1 day, 2:40:25, time: 0.728, data_time: 0.006, memory: 2073, decode.loss_ce: 0.1233, decode.acc_seg: 93.2400, aux_0.loss_ce: 0.1225, aux_0.acc_seg: 93.2475, aux_1.loss_ce: 0.1233, aux_1.acc_seg: 93.2042, aux_2.loss_ce: 0.0336, aux_2.loss_dice: 0.3200, aux_2.acc_seg: 99.3362, loss: 0.7228\n",
      "2022-03-28 21:47:28,413 - mmseg - INFO - Iter [28300/160000]\tlr: 8.409e-03, eta: 1 day, 2:39:48, time: 0.726, data_time: 0.006, memory: 2073, decode.loss_ce: 0.1297, decode.acc_seg: 92.6606, aux_0.loss_ce: 0.1315, aux_0.acc_seg: 92.6189, aux_1.loss_ce: 0.1320, aux_1.acc_seg: 92.6119, aux_2.loss_ce: 0.0358, aux_2.loss_dice: 0.3171, aux_2.acc_seg: 99.2689, loss: 0.7461\n",
      "2022-03-28 21:48:04,756 - mmseg - INFO - Iter [28350/160000]\tlr: 8.406e-03, eta: 1 day, 2:39:11, time: 0.727, data_time: 0.005, memory: 2073, decode.loss_ce: 0.1161, decode.acc_seg: 93.1073, aux_0.loss_ce: 0.1163, aux_0.acc_seg: 93.0492, aux_1.loss_ce: 0.1185, aux_1.acc_seg: 92.9162, aux_2.loss_ce: 0.0370, aux_2.loss_dice: 0.3301, aux_2.acc_seg: 99.2480, loss: 0.7179\n"
     ]
    },
    {
     "name": "stderr",
     "output_type": "stream",
     "text": [
      "2022-03-28 21:48:41,111 - mmseg - INFO - Iter [28400/160000]\tlr: 8.403e-03, eta: 1 day, 2:38:34, time: 0.727, data_time: 0.005, memory: 2073, decode.loss_ce: 0.1262, decode.acc_seg: 92.7419, aux_0.loss_ce: 0.1277, aux_0.acc_seg: 92.7064, aux_1.loss_ce: 0.1267, aux_1.acc_seg: 92.8039, aux_2.loss_ce: 0.0364, aux_2.loss_dice: 0.3159, aux_2.acc_seg: 99.2718, loss: 0.7328\n",
      "2022-03-28 21:49:14,787 - mmseg - INFO - Iter [28450/160000]\tlr: 8.401e-03, eta: 1 day, 2:37:44, time: 0.673, data_time: 0.006, memory: 2073, decode.loss_ce: 0.1229, decode.acc_seg: 93.0138, aux_0.loss_ce: 0.1229, aux_0.acc_seg: 92.9686, aux_1.loss_ce: 0.1249, aux_1.acc_seg: 92.9578, aux_2.loss_ce: 0.0362, aux_2.loss_dice: 0.3148, aux_2.acc_seg: 99.2476, loss: 0.7217\n",
      "2022-03-28 21:49:51,142 - mmseg - INFO - Iter [28500/160000]\tlr: 8.398e-03, eta: 1 day, 2:37:08, time: 0.727, data_time: 0.006, memory: 2073, decode.loss_ce: 0.1120, decode.acc_seg: 93.4361, aux_0.loss_ce: 0.1126, aux_0.acc_seg: 93.4343, aux_1.loss_ce: 0.1121, aux_1.acc_seg: 93.4499, aux_2.loss_ce: 0.0370, aux_2.loss_dice: 0.3174, aux_2.acc_seg: 99.2487, loss: 0.6910\n",
      "2022-03-28 21:50:30,074 - mmseg - INFO - Iter [28550/160000]\tlr: 8.395e-03, eta: 1 day, 2:36:43, time: 0.779, data_time: 0.058, memory: 2073, decode.loss_ce: 0.1237, decode.acc_seg: 92.7577, aux_0.loss_ce: 0.1238, aux_0.acc_seg: 92.7290, aux_1.loss_ce: 0.1263, aux_1.acc_seg: 92.7160, aux_2.loss_ce: 0.0369, aux_2.loss_dice: 0.3172, aux_2.acc_seg: 99.2573, loss: 0.7279\n",
      "2022-03-28 21:51:06,388 - mmseg - INFO - Iter [28600/160000]\tlr: 8.392e-03, eta: 1 day, 2:36:06, time: 0.726, data_time: 0.005, memory: 2073, decode.loss_ce: 0.1207, decode.acc_seg: 93.0401, aux_0.loss_ce: 0.1216, aux_0.acc_seg: 92.9770, aux_1.loss_ce: 0.1201, aux_1.acc_seg: 93.0204, aux_2.loss_ce: 0.0356, aux_2.loss_dice: 0.3222, aux_2.acc_seg: 99.2848, loss: 0.7202\n",
      "2022-03-28 21:51:42,732 - mmseg - INFO - Iter [28650/160000]\tlr: 8.389e-03, eta: 1 day, 2:35:29, time: 0.727, data_time: 0.006, memory: 2073, decode.loss_ce: 0.1054, decode.acc_seg: 93.9258, aux_0.loss_ce: 0.1063, aux_0.acc_seg: 93.9052, aux_1.loss_ce: 0.1042, aux_1.acc_seg: 93.9239, aux_2.loss_ce: 0.0331, aux_2.loss_dice: 0.3195, aux_2.acc_seg: 99.3278, loss: 0.6685\n",
      "2022-03-28 21:52:19,126 - mmseg - INFO - Iter [28700/160000]\tlr: 8.386e-03, eta: 1 day, 2:34:52, time: 0.728, data_time: 0.006, memory: 2073, decode.loss_ce: 0.1227, decode.acc_seg: 93.2396, aux_0.loss_ce: 0.1219, aux_0.acc_seg: 93.2371, aux_1.loss_ce: 0.1246, aux_1.acc_seg: 93.1167, aux_2.loss_ce: 0.0365, aux_2.loss_dice: 0.3394, aux_2.acc_seg: 99.2496, loss: 0.7451\n",
      "2022-03-28 21:52:55,470 - mmseg - INFO - Iter [28750/160000]\tlr: 8.384e-03, eta: 1 day, 2:34:15, time: 0.727, data_time: 0.006, memory: 2073, decode.loss_ce: 0.1368, decode.acc_seg: 92.2070, aux_0.loss_ce: 0.1358, aux_0.acc_seg: 92.1596, aux_1.loss_ce: 0.1392, aux_1.acc_seg: 92.0203, aux_2.loss_ce: 0.0369, aux_2.loss_dice: 0.3312, aux_2.acc_seg: 99.2525, loss: 0.7798\n",
      "2022-03-28 21:53:31,862 - mmseg - INFO - Iter [28800/160000]\tlr: 8.381e-03, eta: 1 day, 2:33:39, time: 0.728, data_time: 0.005, memory: 2073, decode.loss_ce: 0.1181, decode.acc_seg: 93.3083, aux_0.loss_ce: 0.1192, aux_0.acc_seg: 93.2575, aux_1.loss_ce: 0.1192, aux_1.acc_seg: 93.1751, aux_2.loss_ce: 0.0340, aux_2.loss_dice: 0.3218, aux_2.acc_seg: 99.3124, loss: 0.7122\n",
      "2022-03-28 21:54:08,242 - mmseg - INFO - Iter [28850/160000]\tlr: 8.378e-03, eta: 1 day, 2:33:02, time: 0.727, data_time: 0.005, memory: 2073, decode.loss_ce: 0.1188, decode.acc_seg: 92.9881, aux_0.loss_ce: 0.1201, aux_0.acc_seg: 92.9208, aux_1.loss_ce: 0.1202, aux_1.acc_seg: 92.9200, aux_2.loss_ce: 0.0380, aux_2.loss_dice: 0.3221, aux_2.acc_seg: 99.2347, loss: 0.7192\n",
      "2022-03-28 21:54:44,586 - mmseg - INFO - Iter [28900/160000]\tlr: 8.375e-03, eta: 1 day, 2:32:25, time: 0.727, data_time: 0.006, memory: 2073, decode.loss_ce: 0.1180, decode.acc_seg: 93.1446, aux_0.loss_ce: 0.1180, aux_0.acc_seg: 93.1322, aux_1.loss_ce: 0.1203, aux_1.acc_seg: 93.1482, aux_2.loss_ce: 0.0350, aux_2.loss_dice: 0.3149, aux_2.acc_seg: 99.2834, loss: 0.7061\n",
      "2022-03-28 21:55:20,906 - mmseg - INFO - Iter [28950/160000]\tlr: 8.372e-03, eta: 1 day, 2:31:48, time: 0.726, data_time: 0.006, memory: 2073, decode.loss_ce: 0.1040, decode.acc_seg: 93.8806, aux_0.loss_ce: 0.1038, aux_0.acc_seg: 93.9172, aux_1.loss_ce: 0.1058, aux_1.acc_seg: 93.8271, aux_2.loss_ce: 0.0333, aux_2.loss_dice: 0.3127, aux_2.acc_seg: 99.3255, loss: 0.6597\n",
      "2022-03-28 21:55:57,314 - mmseg - INFO - Iter [29000/160000]\tlr: 8.369e-03, eta: 1 day, 2:31:11, time: 0.728, data_time: 0.006, memory: 2073, decode.loss_ce: 0.1166, decode.acc_seg: 93.5721, aux_0.loss_ce: 0.1176, aux_0.acc_seg: 93.4606, aux_1.loss_ce: 0.1165, aux_1.acc_seg: 93.4700, aux_2.loss_ce: 0.0341, aux_2.loss_dice: 0.3030, aux_2.acc_seg: 99.3058, loss: 0.6878\n",
      "2022-03-28 21:56:33,659 - mmseg - INFO - Iter [29050/160000]\tlr: 8.367e-03, eta: 1 day, 2:30:35, time: 0.727, data_time: 0.006, memory: 2073, decode.loss_ce: 0.1083, decode.acc_seg: 93.5393, aux_0.loss_ce: 0.1081, aux_0.acc_seg: 93.5124, aux_1.loss_ce: 0.1100, aux_1.acc_seg: 93.3698, aux_2.loss_ce: 0.0329, aux_2.loss_dice: 0.3097, aux_2.acc_seg: 99.3271, loss: 0.6691\n",
      "2022-03-28 21:57:07,394 - mmseg - INFO - Iter [29100/160000]\tlr: 8.364e-03, eta: 1 day, 2:29:46, time: 0.675, data_time: 0.006, memory: 2073, decode.loss_ce: 0.1327, decode.acc_seg: 92.0261, aux_0.loss_ce: 0.1353, aux_0.acc_seg: 92.0053, aux_1.loss_ce: 0.1370, aux_1.acc_seg: 91.8755, aux_2.loss_ce: 0.0367, aux_2.loss_dice: 0.3144, aux_2.acc_seg: 99.2452, loss: 0.7562\n",
      "2022-03-28 21:57:43,686 - mmseg - INFO - Iter [29150/160000]\tlr: 8.361e-03, eta: 1 day, 2:29:09, time: 0.726, data_time: 0.006, memory: 2073, decode.loss_ce: 0.1406, decode.acc_seg: 92.0329, aux_0.loss_ce: 0.1386, aux_0.acc_seg: 91.9354, aux_1.loss_ce: 0.1378, aux_1.acc_seg: 91.9773, aux_2.loss_ce: 0.0384, aux_2.loss_dice: 0.3292, aux_2.acc_seg: 99.2172, loss: 0.7847\n",
      "2022-03-28 21:58:20,081 - mmseg - INFO - Iter [29200/160000]\tlr: 8.358e-03, eta: 1 day, 2:28:32, time: 0.728, data_time: 0.006, memory: 2073, decode.loss_ce: 0.1135, decode.acc_seg: 93.5129, aux_0.loss_ce: 0.1181, aux_0.acc_seg: 93.5238, aux_1.loss_ce: 0.1201, aux_1.acc_seg: 93.3333, aux_2.loss_ce: 0.0364, aux_2.loss_dice: 0.3301, aux_2.acc_seg: 99.2646, loss: 0.7183\n",
      "2022-03-28 21:58:59,108 - mmseg - INFO - Iter [29250/160000]\tlr: 8.355e-03, eta: 1 day, 2:28:07, time: 0.781, data_time: 0.061, memory: 2073, decode.loss_ce: 0.1219, decode.acc_seg: 93.0845, aux_0.loss_ce: 0.1195, aux_0.acc_seg: 93.0878, aux_1.loss_ce: 0.1218, aux_1.acc_seg: 93.0716, aux_2.loss_ce: 0.0362, aux_2.loss_dice: 0.3279, aux_2.acc_seg: 99.2680, loss: 0.7273\n",
      "2022-03-28 21:59:35,502 - mmseg - INFO - Iter [29300/160000]\tlr: 8.352e-03, eta: 1 day, 2:27:31, time: 0.728, data_time: 0.005, memory: 2073, decode.loss_ce: 0.1320, decode.acc_seg: 92.0285, aux_0.loss_ce: 0.1329, aux_0.acc_seg: 91.9852, aux_1.loss_ce: 0.1360, aux_1.acc_seg: 91.8724, aux_2.loss_ce: 0.0380, aux_2.loss_dice: 0.3176, aux_2.acc_seg: 99.2225, loss: 0.7565\n",
      "2022-03-28 22:00:11,904 - mmseg - INFO - Iter [29350/160000]\tlr: 8.350e-03, eta: 1 day, 2:26:54, time: 0.728, data_time: 0.005, memory: 2073, decode.loss_ce: 0.1107, decode.acc_seg: 93.7662, aux_0.loss_ce: 0.1120, aux_0.acc_seg: 93.7717, aux_1.loss_ce: 0.1133, aux_1.acc_seg: 93.7127, aux_2.loss_ce: 0.0338, aux_2.loss_dice: 0.3189, aux_2.acc_seg: 99.3218, loss: 0.6887\n",
      "2022-03-28 22:00:48,297 - mmseg - INFO - Iter [29400/160000]\tlr: 8.347e-03, eta: 1 day, 2:26:18, time: 0.728, data_time: 0.006, memory: 2073, decode.loss_ce: 0.1160, decode.acc_seg: 93.2602, aux_0.loss_ce: 0.1160, aux_0.acc_seg: 93.1626, aux_1.loss_ce: 0.1167, aux_1.acc_seg: 93.1690, aux_2.loss_ce: 0.0342, aux_2.loss_dice: 0.3195, aux_2.acc_seg: 99.2934, loss: 0.7023\n",
      "2022-03-28 22:01:24,647 - mmseg - INFO - Iter [29450/160000]\tlr: 8.344e-03, eta: 1 day, 2:25:41, time: 0.727, data_time: 0.005, memory: 2073, decode.loss_ce: 0.1091, decode.acc_seg: 93.7438, aux_0.loss_ce: 0.1093, aux_0.acc_seg: 93.7696, aux_1.loss_ce: 0.1112, aux_1.acc_seg: 93.6530, aux_2.loss_ce: 0.0339, aux_2.loss_dice: 0.3142, aux_2.acc_seg: 99.3097, loss: 0.6776\n",
      "2022-03-28 22:02:01,015 - mmseg - INFO - Iter [29500/160000]\tlr: 8.341e-03, eta: 1 day, 2:25:04, time: 0.727, data_time: 0.005, memory: 2073, decode.loss_ce: 0.1034, decode.acc_seg: 94.0397, aux_0.loss_ce: 0.1046, aux_0.acc_seg: 93.9541, aux_1.loss_ce: 0.1069, aux_1.acc_seg: 93.8093, aux_2.loss_ce: 0.0358, aux_2.loss_dice: 0.3242, aux_2.acc_seg: 99.2643, loss: 0.6749\n"
     ]
    },
    {
     "name": "stderr",
     "output_type": "stream",
     "text": [
      "2022-03-28 22:02:37,413 - mmseg - INFO - Iter [29550/160000]\tlr: 8.338e-03, eta: 1 day, 2:24:27, time: 0.728, data_time: 0.005, memory: 2073, decode.loss_ce: 0.0973, decode.acc_seg: 94.4781, aux_0.loss_ce: 0.0974, aux_0.acc_seg: 94.4575, aux_1.loss_ce: 0.0999, aux_1.acc_seg: 94.3713, aux_2.loss_ce: 0.0331, aux_2.loss_dice: 0.3107, aux_2.acc_seg: 99.3116, loss: 0.6383\n",
      "2022-03-28 22:03:13,722 - mmseg - INFO - Iter [29600/160000]\tlr: 8.335e-03, eta: 1 day, 2:23:50, time: 0.726, data_time: 0.005, memory: 2073, decode.loss_ce: 0.1336, decode.acc_seg: 92.1280, aux_0.loss_ce: 0.1331, aux_0.acc_seg: 92.1216, aux_1.loss_ce: 0.1333, aux_1.acc_seg: 92.0570, aux_2.loss_ce: 0.0377, aux_2.loss_dice: 0.3247, aux_2.acc_seg: 99.2093, loss: 0.7623\n",
      "2022-03-28 22:03:50,009 - mmseg - INFO - Iter [29650/160000]\tlr: 8.332e-03, eta: 1 day, 2:23:13, time: 0.725, data_time: 0.006, memory: 2073, decode.loss_ce: 0.1191, decode.acc_seg: 93.0171, aux_0.loss_ce: 0.1218, aux_0.acc_seg: 92.9490, aux_1.loss_ce: 0.1238, aux_1.acc_seg: 92.8470, aux_2.loss_ce: 0.0355, aux_2.loss_dice: 0.3196, aux_2.acc_seg: 99.2705, loss: 0.7197\n",
      "2022-03-28 22:04:26,307 - mmseg - INFO - Iter [29700/160000]\tlr: 8.330e-03, eta: 1 day, 2:22:36, time: 0.726, data_time: 0.006, memory: 2073, decode.loss_ce: 0.0966, decode.acc_seg: 94.4050, aux_0.loss_ce: 0.0944, aux_0.acc_seg: 94.3536, aux_1.loss_ce: 0.0947, aux_1.acc_seg: 94.3289, aux_2.loss_ce: 0.0314, aux_2.loss_dice: 0.3021, aux_2.acc_seg: 99.3783, loss: 0.6191\n",
      "2022-03-28 22:05:00,143 - mmseg - INFO - Iter [29750/160000]\tlr: 8.327e-03, eta: 1 day, 2:21:48, time: 0.677, data_time: 0.006, memory: 2073, decode.loss_ce: 0.1179, decode.acc_seg: 93.3003, aux_0.loss_ce: 0.1213, aux_0.acc_seg: 93.2752, aux_1.loss_ce: 0.1236, aux_1.acc_seg: 93.2226, aux_2.loss_ce: 0.0347, aux_2.loss_dice: 0.3119, aux_2.acc_seg: 99.2963, loss: 0.7094\n",
      "2022-03-28 22:05:36,488 - mmseg - INFO - Iter [29800/160000]\tlr: 8.324e-03, eta: 1 day, 2:21:12, time: 0.727, data_time: 0.006, memory: 2073, decode.loss_ce: 0.1194, decode.acc_seg: 93.0692, aux_0.loss_ce: 0.1198, aux_0.acc_seg: 93.0387, aux_1.loss_ce: 0.1209, aux_1.acc_seg: 93.0051, aux_2.loss_ce: 0.0376, aux_2.loss_dice: 0.3331, aux_2.acc_seg: 99.2403, loss: 0.7308\n",
      "2022-03-28 22:06:12,856 - mmseg - INFO - Iter [29850/160000]\tlr: 8.321e-03, eta: 1 day, 2:20:35, time: 0.727, data_time: 0.006, memory: 2073, decode.loss_ce: 0.1251, decode.acc_seg: 92.6907, aux_0.loss_ce: 0.1264, aux_0.acc_seg: 92.6332, aux_1.loss_ce: 0.1249, aux_1.acc_seg: 92.7653, aux_2.loss_ce: 0.0353, aux_2.loss_dice: 0.3382, aux_2.acc_seg: 99.2791, loss: 0.7500\n",
      "2022-03-28 22:06:49,180 - mmseg - INFO - Iter [29900/160000]\tlr: 8.318e-03, eta: 1 day, 2:19:58, time: 0.726, data_time: 0.006, memory: 2073, decode.loss_ce: 0.1368, decode.acc_seg: 91.7154, aux_0.loss_ce: 0.1365, aux_0.acc_seg: 91.6558, aux_1.loss_ce: 0.1373, aux_1.acc_seg: 91.6219, aux_2.loss_ce: 0.0376, aux_2.loss_dice: 0.3144, aux_2.acc_seg: 99.2188, loss: 0.7625\n",
      "2022-03-28 22:07:28,179 - mmseg - INFO - Iter [29950/160000]\tlr: 8.315e-03, eta: 1 day, 2:19:33, time: 0.781, data_time: 0.059, memory: 2073, decode.loss_ce: 0.1016, decode.acc_seg: 94.2342, aux_0.loss_ce: 0.1021, aux_0.acc_seg: 94.1979, aux_1.loss_ce: 0.1026, aux_1.acc_seg: 94.1591, aux_2.loss_ce: 0.0315, aux_2.loss_dice: 0.3194, aux_2.acc_seg: 99.3729, loss: 0.6572\n",
      "2022-03-28 22:08:04,457 - mmseg - INFO - Saving checkpoint at 30000 iterations\n",
      "2022-03-28 22:08:04,656 - mmseg - INFO - Iter [30000/160000]\tlr: 8.313e-03, eta: 1 day, 2:18:57, time: 0.731, data_time: 0.005, memory: 2073, decode.loss_ce: 0.1140, decode.acc_seg: 93.5356, aux_0.loss_ce: 0.1163, aux_0.acc_seg: 93.4525, aux_1.loss_ce: 0.1184, aux_1.acc_seg: 93.3996, aux_2.loss_ce: 0.0346, aux_2.loss_dice: 0.3113, aux_2.acc_seg: 99.3003, loss: 0.6946\n"
     ]
    },
    {
     "name": "stdout",
     "output_type": "stream",
     "text": [
      "[>>>>>>>>>>>>>>>>>>>>>>>>>>>>>] 610/610, 26.8 task/s, elapsed: 23s, ETA:     0s"
     ]
    },
    {
     "name": "stderr",
     "output_type": "stream",
     "text": [
      "2022-03-28 22:08:27,430 - mmseg - INFO - per class results:\n",
      "2022-03-28 22:08:27,431 - mmseg - INFO - \n",
      "+------------+-------+-------+\n",
      "|   Class    |  IoU  |  Acc  |\n",
      "+------------+-------+-------+\n",
      "| background | 96.05 | 99.65 |\n",
      "|   human    | 29.55 | 31.47 |\n",
      "+------------+-------+-------+\n",
      "2022-03-28 22:08:27,431 - mmseg - INFO - Summary:\n",
      "2022-03-28 22:08:27,432 - mmseg - INFO - \n",
      "+-------+------+-------+\n",
      "|  aAcc | mIoU |  mAcc |\n",
      "+-------+------+-------+\n",
      "| 96.12 | 62.8 | 65.56 |\n",
      "+-------+------+-------+\n",
      "2022-03-28 22:08:27,434 - mmseg - INFO - Iter(val) [610]\taAcc: 0.9612, mIoU: 0.6280, mAcc: 0.6556, IoU.background: 0.9605, IoU.human: 0.2955, Acc.background: 0.9965, Acc.human: 0.3147\n",
      "2022-03-28 22:09:03,684 - mmseg - INFO - Iter [30050/160000]\tlr: 8.310e-03, eta: 1 day, 2:19:58, time: 1.179, data_time: 0.460, memory: 2073, decode.loss_ce: 0.1133, decode.acc_seg: 93.4050, aux_0.loss_ce: 0.1138, aux_0.acc_seg: 93.3865, aux_1.loss_ce: 0.1148, aux_1.acc_seg: 93.2852, aux_2.loss_ce: 0.0356, aux_2.loss_dice: 0.3147, aux_2.acc_seg: 99.2783, loss: 0.6921\n",
      "2022-03-28 22:09:40,061 - mmseg - INFO - Iter [30100/160000]\tlr: 8.307e-03, eta: 1 day, 2:19:21, time: 0.728, data_time: 0.005, memory: 2073, decode.loss_ce: 0.1274, decode.acc_seg: 92.6870, aux_0.loss_ce: 0.1274, aux_0.acc_seg: 92.7113, aux_1.loss_ce: 0.1266, aux_1.acc_seg: 92.6336, aux_2.loss_ce: 0.0362, aux_2.loss_dice: 0.3264, aux_2.acc_seg: 99.2696, loss: 0.7441\n",
      "2022-03-28 22:10:16,457 - mmseg - INFO - Iter [30150/160000]\tlr: 8.304e-03, eta: 1 day, 2:18:44, time: 0.728, data_time: 0.005, memory: 2073, decode.loss_ce: 0.0990, decode.acc_seg: 94.7516, aux_0.loss_ce: 0.1006, aux_0.acc_seg: 94.6541, aux_1.loss_ce: 0.1020, aux_1.acc_seg: 94.5700, aux_2.loss_ce: 0.0320, aux_2.loss_dice: 0.3008, aux_2.acc_seg: 99.3612, loss: 0.6344\n",
      "2022-03-28 22:10:52,746 - mmseg - INFO - Iter [30200/160000]\tlr: 8.301e-03, eta: 1 day, 2:18:07, time: 0.726, data_time: 0.006, memory: 2073, decode.loss_ce: 0.0965, decode.acc_seg: 94.3587, aux_0.loss_ce: 0.0975, aux_0.acc_seg: 94.3163, aux_1.loss_ce: 0.0996, aux_1.acc_seg: 94.2283, aux_2.loss_ce: 0.0351, aux_2.loss_dice: 0.3133, aux_2.acc_seg: 99.2728, loss: 0.6420\n",
      "2022-03-28 22:11:29,013 - mmseg - INFO - Iter [30250/160000]\tlr: 8.298e-03, eta: 1 day, 2:17:29, time: 0.725, data_time: 0.005, memory: 2073, decode.loss_ce: 0.1284, decode.acc_seg: 91.8990, aux_0.loss_ce: 0.1271, aux_0.acc_seg: 92.1310, aux_1.loss_ce: 0.1297, aux_1.acc_seg: 91.9754, aux_2.loss_ce: 0.0362, aux_2.loss_dice: 0.3130, aux_2.acc_seg: 99.2491, loss: 0.7345\n",
      "2022-03-28 22:12:05,415 - mmseg - INFO - Iter [30300/160000]\tlr: 8.296e-03, eta: 1 day, 2:16:52, time: 0.728, data_time: 0.006, memory: 2073, decode.loss_ce: 0.1167, decode.acc_seg: 92.9056, aux_0.loss_ce: 0.1171, aux_0.acc_seg: 92.9232, aux_1.loss_ce: 0.1195, aux_1.acc_seg: 92.8843, aux_2.loss_ce: 0.0357, aux_2.loss_dice: 0.3132, aux_2.acc_seg: 99.2650, loss: 0.7022\n",
      "2022-03-28 22:12:39,118 - mmseg - INFO - Iter [30350/160000]\tlr: 8.293e-03, eta: 1 day, 2:16:04, time: 0.674, data_time: 0.006, memory: 2073, decode.loss_ce: 0.1317, decode.acc_seg: 92.5050, aux_0.loss_ce: 0.1322, aux_0.acc_seg: 92.5051, aux_1.loss_ce: 0.1343, aux_1.acc_seg: 92.5137, aux_2.loss_ce: 0.0361, aux_2.loss_dice: 0.3383, aux_2.acc_seg: 99.2640, loss: 0.7726\n",
      "2022-03-28 22:13:15,470 - mmseg - INFO - Iter [30400/160000]\tlr: 8.290e-03, eta: 1 day, 2:15:27, time: 0.727, data_time: 0.006, memory: 2073, decode.loss_ce: 0.1316, decode.acc_seg: 92.5628, aux_0.loss_ce: 0.1320, aux_0.acc_seg: 92.4742, aux_1.loss_ce: 0.1293, aux_1.acc_seg: 92.4881, aux_2.loss_ce: 0.0375, aux_2.loss_dice: 0.3255, aux_2.acc_seg: 99.2370, loss: 0.7559\n",
      "2022-03-28 22:13:51,832 - mmseg - INFO - Iter [30450/160000]\tlr: 8.287e-03, eta: 1 day, 2:14:50, time: 0.727, data_time: 0.006, memory: 2073, decode.loss_ce: 0.1216, decode.acc_seg: 92.5837, aux_0.loss_ce: 0.1245, aux_0.acc_seg: 92.5451, aux_1.loss_ce: 0.1250, aux_1.acc_seg: 92.5569, aux_2.loss_ce: 0.0357, aux_2.loss_dice: 0.3112, aux_2.acc_seg: 99.2584, loss: 0.7180\n",
      "2022-03-28 22:14:28,132 - mmseg - INFO - Iter [30500/160000]\tlr: 8.284e-03, eta: 1 day, 2:14:13, time: 0.726, data_time: 0.006, memory: 2073, decode.loss_ce: 0.1124, decode.acc_seg: 93.5425, aux_0.loss_ce: 0.1107, aux_0.acc_seg: 93.4300, aux_1.loss_ce: 0.1128, aux_1.acc_seg: 93.3697, aux_2.loss_ce: 0.0361, aux_2.loss_dice: 0.3361, aux_2.acc_seg: 99.2707, loss: 0.7081\n",
      "2022-03-28 22:15:04,404 - mmseg - INFO - Iter [30550/160000]\tlr: 8.281e-03, eta: 1 day, 2:13:36, time: 0.726, data_time: 0.006, memory: 2073, decode.loss_ce: 0.1169, decode.acc_seg: 93.3519, aux_0.loss_ce: 0.1186, aux_0.acc_seg: 93.3078, aux_1.loss_ce: 0.1190, aux_1.acc_seg: 93.2508, aux_2.loss_ce: 0.0365, aux_2.loss_dice: 0.3131, aux_2.acc_seg: 99.2370, loss: 0.7042\n",
      "2022-03-28 22:15:40,797 - mmseg - INFO - Iter [30600/160000]\tlr: 8.278e-03, eta: 1 day, 2:12:59, time: 0.728, data_time: 0.006, memory: 2073, decode.loss_ce: 0.0965, decode.acc_seg: 94.4192, aux_0.loss_ce: 0.0977, aux_0.acc_seg: 94.3444, aux_1.loss_ce: 0.0978, aux_1.acc_seg: 94.3330, aux_2.loss_ce: 0.0335, aux_2.loss_dice: 0.3090, aux_2.acc_seg: 99.3217, loss: 0.6346\n",
      "2022-03-28 22:16:19,813 - mmseg - INFO - Iter [30650/160000]\tlr: 8.276e-03, eta: 1 day, 2:12:33, time: 0.780, data_time: 0.058, memory: 2073, decode.loss_ce: 0.1024, decode.acc_seg: 94.3518, aux_0.loss_ce: 0.1044, aux_0.acc_seg: 94.3159, aux_1.loss_ce: 0.1041, aux_1.acc_seg: 94.2379, aux_2.loss_ce: 0.0334, aux_2.loss_dice: 0.3067, aux_2.acc_seg: 99.3279, loss: 0.6510\n",
      "2022-03-28 22:16:56,154 - mmseg - INFO - Iter [30700/160000]\tlr: 8.273e-03, eta: 1 day, 2:11:56, time: 0.727, data_time: 0.006, memory: 2073, decode.loss_ce: 0.1042, decode.acc_seg: 94.0574, aux_0.loss_ce: 0.1031, aux_0.acc_seg: 94.0827, aux_1.loss_ce: 0.1056, aux_1.acc_seg: 94.0439, aux_2.loss_ce: 0.0346, aux_2.loss_dice: 0.3187, aux_2.acc_seg: 99.2970, loss: 0.6662\n",
      "2022-03-28 22:17:32,507 - mmseg - INFO - Iter [30750/160000]\tlr: 8.270e-03, eta: 1 day, 2:11:19, time: 0.727, data_time: 0.006, memory: 2073, decode.loss_ce: 0.1223, decode.acc_seg: 92.7079, aux_0.loss_ce: 0.1230, aux_0.acc_seg: 92.6684, aux_1.loss_ce: 0.1233, aux_1.acc_seg: 92.6372, aux_2.loss_ce: 0.0357, aux_2.loss_dice: 0.3105, aux_2.acc_seg: 99.2794, loss: 0.7149\n",
      "2022-03-28 22:18:08,878 - mmseg - INFO - Iter [30800/160000]\tlr: 8.267e-03, eta: 1 day, 2:10:42, time: 0.727, data_time: 0.005, memory: 2073, decode.loss_ce: 0.1041, decode.acc_seg: 93.8520, aux_0.loss_ce: 0.1059, aux_0.acc_seg: 93.7885, aux_1.loss_ce: 0.1071, aux_1.acc_seg: 93.7394, aux_2.loss_ce: 0.0339, aux_2.loss_dice: 0.3202, aux_2.acc_seg: 99.3111, loss: 0.6711\n",
      "2022-03-28 22:18:45,229 - mmseg - INFO - Iter [30850/160000]\tlr: 8.264e-03, eta: 1 day, 2:10:05, time: 0.727, data_time: 0.005, memory: 2073, decode.loss_ce: 0.1229, decode.acc_seg: 93.0414, aux_0.loss_ce: 0.1231, aux_0.acc_seg: 92.9810, aux_1.loss_ce: 0.1255, aux_1.acc_seg: 92.8796, aux_2.loss_ce: 0.0378, aux_2.loss_dice: 0.3296, aux_2.acc_seg: 99.2353, loss: 0.7389\n",
      "2022-03-28 22:19:21,660 - mmseg - INFO - Iter [30900/160000]\tlr: 8.261e-03, eta: 1 day, 2:09:29, time: 0.729, data_time: 0.005, memory: 2073, decode.loss_ce: 0.1229, decode.acc_seg: 92.5799, aux_0.loss_ce: 0.1221, aux_0.acc_seg: 92.7135, aux_1.loss_ce: 0.1232, aux_1.acc_seg: 92.6047, aux_2.loss_ce: 0.0349, aux_2.loss_dice: 0.3096, aux_2.acc_seg: 99.2764, loss: 0.7128\n",
      "2022-03-28 22:19:58,105 - mmseg - INFO - Iter [30950/160000]\tlr: 8.259e-03, eta: 1 day, 2:08:52, time: 0.729, data_time: 0.005, memory: 2073, decode.loss_ce: 0.1190, decode.acc_seg: 92.9820, aux_0.loss_ce: 0.1201, aux_0.acc_seg: 92.9943, aux_1.loss_ce: 0.1208, aux_1.acc_seg: 92.8657, aux_2.loss_ce: 0.0363, aux_2.loss_dice: 0.3080, aux_2.acc_seg: 99.2659, loss: 0.7041\n",
      "2022-03-28 22:20:31,758 - mmseg - INFO - Iter [31000/160000]\tlr: 8.256e-03, eta: 1 day, 2:08:04, time: 0.673, data_time: 0.005, memory: 2073, decode.loss_ce: 0.1172, decode.acc_seg: 93.2097, aux_0.loss_ce: 0.1168, aux_0.acc_seg: 93.1858, aux_1.loss_ce: 0.1197, aux_1.acc_seg: 93.0349, aux_2.loss_ce: 0.0340, aux_2.loss_dice: 0.3198, aux_2.acc_seg: 99.3145, loss: 0.7075\n",
      "2022-03-28 22:21:08,099 - mmseg - INFO - Iter [31050/160000]\tlr: 8.253e-03, eta: 1 day, 2:07:27, time: 0.727, data_time: 0.006, memory: 2073, decode.loss_ce: 0.1139, decode.acc_seg: 93.6578, aux_0.loss_ce: 0.1143, aux_0.acc_seg: 93.5953, aux_1.loss_ce: 0.1168, aux_1.acc_seg: 93.5417, aux_2.loss_ce: 0.0364, aux_2.loss_dice: 0.3025, aux_2.acc_seg: 99.2426, loss: 0.6839\n"
     ]
    },
    {
     "name": "stderr",
     "output_type": "stream",
     "text": [
      "2022-03-28 22:21:44,539 - mmseg - INFO - Iter [31100/160000]\tlr: 8.250e-03, eta: 1 day, 2:06:50, time: 0.729, data_time: 0.006, memory: 2073, decode.loss_ce: 0.1030, decode.acc_seg: 93.8092, aux_0.loss_ce: 0.1040, aux_0.acc_seg: 93.6617, aux_1.loss_ce: 0.1040, aux_1.acc_seg: 93.6577, aux_2.loss_ce: 0.0332, aux_2.loss_dice: 0.3142, aux_2.acc_seg: 99.3175, loss: 0.6583\n",
      "2022-03-28 22:22:20,857 - mmseg - INFO - Iter [31150/160000]\tlr: 8.247e-03, eta: 1 day, 2:06:13, time: 0.726, data_time: 0.005, memory: 2073, decode.loss_ce: 0.1033, decode.acc_seg: 94.0247, aux_0.loss_ce: 0.1032, aux_0.acc_seg: 93.9587, aux_1.loss_ce: 0.1043, aux_1.acc_seg: 93.9502, aux_2.loss_ce: 0.0336, aux_2.loss_dice: 0.3001, aux_2.acc_seg: 99.3078, loss: 0.6446\n",
      "2022-03-28 22:22:57,234 - mmseg - INFO - Iter [31200/160000]\tlr: 8.244e-03, eta: 1 day, 2:05:37, time: 0.728, data_time: 0.005, memory: 2073, decode.loss_ce: 0.0949, decode.acc_seg: 94.6006, aux_0.loss_ce: 0.0957, aux_0.acc_seg: 94.5654, aux_1.loss_ce: 0.0972, aux_1.acc_seg: 94.4485, aux_2.loss_ce: 0.0341, aux_2.loss_dice: 0.3242, aux_2.acc_seg: 99.2994, loss: 0.6462\n",
      "2022-03-28 22:23:33,615 - mmseg - INFO - Iter [31250/160000]\tlr: 8.241e-03, eta: 1 day, 2:05:00, time: 0.727, data_time: 0.005, memory: 2073, decode.loss_ce: 0.1235, decode.acc_seg: 92.8186, aux_0.loss_ce: 0.1288, aux_0.acc_seg: 92.8106, aux_1.loss_ce: 0.1298, aux_1.acc_seg: 92.7154, aux_2.loss_ce: 0.0371, aux_2.loss_dice: 0.3098, aux_2.acc_seg: 99.2384, loss: 0.7290\n",
      "2022-03-28 22:24:10,025 - mmseg - INFO - Iter [31300/160000]\tlr: 8.239e-03, eta: 1 day, 2:04:23, time: 0.728, data_time: 0.006, memory: 2073, decode.loss_ce: 0.1134, decode.acc_seg: 93.6674, aux_0.loss_ce: 0.1108, aux_0.acc_seg: 93.7503, aux_1.loss_ce: 0.1114, aux_1.acc_seg: 93.5805, aux_2.loss_ce: 0.0348, aux_2.loss_dice: 0.3092, aux_2.acc_seg: 99.2971, loss: 0.6796\n",
      "2022-03-28 22:24:48,954 - mmseg - INFO - Iter [31350/160000]\tlr: 8.236e-03, eta: 1 day, 2:03:57, time: 0.779, data_time: 0.058, memory: 2073, decode.loss_ce: 0.1056, decode.acc_seg: 93.9103, aux_0.loss_ce: 0.1064, aux_0.acc_seg: 93.8735, aux_1.loss_ce: 0.1092, aux_1.acc_seg: 93.8229, aux_2.loss_ce: 0.0337, aux_2.loss_dice: 0.3116, aux_2.acc_seg: 99.3124, loss: 0.6664\n",
      "2022-03-28 22:25:25,380 - mmseg - INFO - Iter [31400/160000]\tlr: 8.233e-03, eta: 1 day, 2:03:20, time: 0.729, data_time: 0.005, memory: 2073, decode.loss_ce: 0.1082, decode.acc_seg: 93.9165, aux_0.loss_ce: 0.1088, aux_0.acc_seg: 93.8921, aux_1.loss_ce: 0.1093, aux_1.acc_seg: 93.7503, aux_2.loss_ce: 0.0357, aux_2.loss_dice: 0.3187, aux_2.acc_seg: 99.2738, loss: 0.6807\n",
      "2022-03-28 22:26:01,782 - mmseg - INFO - Iter [31450/160000]\tlr: 8.230e-03, eta: 1 day, 2:02:43, time: 0.728, data_time: 0.005, memory: 2073, decode.loss_ce: 0.1136, decode.acc_seg: 93.5546, aux_0.loss_ce: 0.1137, aux_0.acc_seg: 93.5149, aux_1.loss_ce: 0.1144, aux_1.acc_seg: 93.3509, aux_2.loss_ce: 0.0363, aux_2.loss_dice: 0.3087, aux_2.acc_seg: 99.2718, loss: 0.6866\n",
      "2022-03-28 22:26:38,171 - mmseg - INFO - Iter [31500/160000]\tlr: 8.227e-03, eta: 1 day, 2:02:06, time: 0.728, data_time: 0.005, memory: 2073, decode.loss_ce: 0.0982, decode.acc_seg: 94.2817, aux_0.loss_ce: 0.1003, aux_0.acc_seg: 94.2374, aux_1.loss_ce: 0.1033, aux_1.acc_seg: 94.1857, aux_2.loss_ce: 0.0340, aux_2.loss_dice: 0.3033, aux_2.acc_seg: 99.3139, loss: 0.6391\n",
      "2022-03-28 22:27:14,567 - mmseg - INFO - Iter [31550/160000]\tlr: 8.224e-03, eta: 1 day, 2:01:30, time: 0.728, data_time: 0.005, memory: 2073, decode.loss_ce: 0.1018, decode.acc_seg: 94.1542, aux_0.loss_ce: 0.1014, aux_0.acc_seg: 94.1720, aux_1.loss_ce: 0.1028, aux_1.acc_seg: 94.0503, aux_2.loss_ce: 0.0363, aux_2.loss_dice: 0.3247, aux_2.acc_seg: 99.2583, loss: 0.6670\n",
      "2022-03-28 22:27:50,890 - mmseg - INFO - Iter [31600/160000]\tlr: 8.222e-03, eta: 1 day, 2:00:53, time: 0.727, data_time: 0.006, memory: 2073, decode.loss_ce: 0.1112, decode.acc_seg: 93.6921, aux_0.loss_ce: 0.1131, aux_0.acc_seg: 93.6781, aux_1.loss_ce: 0.1134, aux_1.acc_seg: 93.6399, aux_2.loss_ce: 0.0358, aux_2.loss_dice: 0.3175, aux_2.acc_seg: 99.2724, loss: 0.6912\n",
      "2022-03-28 22:28:24,569 - mmseg - INFO - Iter [31650/160000]\tlr: 8.219e-03, eta: 1 day, 2:00:05, time: 0.674, data_time: 0.006, memory: 2073, decode.loss_ce: 0.1192, decode.acc_seg: 93.1207, aux_0.loss_ce: 0.1192, aux_0.acc_seg: 93.1202, aux_1.loss_ce: 0.1209, aux_1.acc_seg: 93.0431, aux_2.loss_ce: 0.0344, aux_2.loss_dice: 0.3140, aux_2.acc_seg: 99.2940, loss: 0.7078\n",
      "2022-03-28 22:29:00,949 - mmseg - INFO - Iter [31700/160000]\tlr: 8.216e-03, eta: 1 day, 1:59:28, time: 0.728, data_time: 0.005, memory: 2073, decode.loss_ce: 0.1005, decode.acc_seg: 94.2150, aux_0.loss_ce: 0.1000, aux_0.acc_seg: 94.2278, aux_1.loss_ce: 0.0995, aux_1.acc_seg: 94.1694, aux_2.loss_ce: 0.0331, aux_2.loss_dice: 0.3198, aux_2.acc_seg: 99.3303, loss: 0.6529\n",
      "2022-03-28 22:29:37,320 - mmseg - INFO - Iter [31750/160000]\tlr: 8.213e-03, eta: 1 day, 1:58:51, time: 0.728, data_time: 0.005, memory: 2073, decode.loss_ce: 0.1218, decode.acc_seg: 92.9094, aux_0.loss_ce: 0.1203, aux_0.acc_seg: 92.9592, aux_1.loss_ce: 0.1236, aux_1.acc_seg: 92.7874, aux_2.loss_ce: 0.0360, aux_2.loss_dice: 0.3300, aux_2.acc_seg: 99.2634, loss: 0.7316\n",
      "2022-03-28 22:30:13,736 - mmseg - INFO - Iter [31800/160000]\tlr: 8.210e-03, eta: 1 day, 1:58:15, time: 0.728, data_time: 0.005, memory: 2073, decode.loss_ce: 0.1099, decode.acc_seg: 93.3753, aux_0.loss_ce: 0.1121, aux_0.acc_seg: 93.2379, aux_1.loss_ce: 0.1117, aux_1.acc_seg: 93.2539, aux_2.loss_ce: 0.0355, aux_2.loss_dice: 0.3278, aux_2.acc_seg: 99.2856, loss: 0.6972\n",
      "2022-03-28 22:30:50,191 - mmseg - INFO - Iter [31850/160000]\tlr: 8.207e-03, eta: 1 day, 1:57:38, time: 0.729, data_time: 0.006, memory: 2073, decode.loss_ce: 0.1141, decode.acc_seg: 93.4979, aux_0.loss_ce: 0.1153, aux_0.acc_seg: 93.4342, aux_1.loss_ce: 0.1148, aux_1.acc_seg: 93.3621, aux_2.loss_ce: 0.0356, aux_2.loss_dice: 0.3260, aux_2.acc_seg: 99.2641, loss: 0.7057\n",
      "2022-03-28 22:31:26,563 - mmseg - INFO - Iter [31900/160000]\tlr: 8.204e-03, eta: 1 day, 1:57:01, time: 0.728, data_time: 0.006, memory: 2073, decode.loss_ce: 0.1007, decode.acc_seg: 94.2220, aux_0.loss_ce: 0.1024, aux_0.acc_seg: 94.2142, aux_1.loss_ce: 0.1037, aux_1.acc_seg: 94.1251, aux_2.loss_ce: 0.0383, aux_2.loss_dice: 0.3477, aux_2.acc_seg: 99.2808, loss: 0.6928\n",
      "2022-03-28 22:32:02,907 - mmseg - INFO - Iter [31950/160000]\tlr: 8.202e-03, eta: 1 day, 1:56:24, time: 0.727, data_time: 0.005, memory: 2073, decode.loss_ce: 0.1125, decode.acc_seg: 93.4374, aux_0.loss_ce: 0.1109, aux_0.acc_seg: 93.3742, aux_1.loss_ce: 0.1129, aux_1.acc_seg: 93.3806, aux_2.loss_ce: 0.0357, aux_2.loss_dice: 0.3109, aux_2.acc_seg: 99.2847, loss: 0.6829\n",
      "2022-03-28 22:32:39,274 - mmseg - INFO - Iter [32000/160000]\tlr: 8.199e-03, eta: 1 day, 1:55:47, time: 0.727, data_time: 0.006, memory: 2073, decode.loss_ce: 0.1167, decode.acc_seg: 93.0455, aux_0.loss_ce: 0.1174, aux_0.acc_seg: 93.0438, aux_1.loss_ce: 0.1197, aux_1.acc_seg: 92.9095, aux_2.loss_ce: 0.0342, aux_2.loss_dice: 0.3274, aux_2.acc_seg: 99.3015, loss: 0.7155\n",
      "2022-03-28 22:33:18,299 - mmseg - INFO - Iter [32050/160000]\tlr: 8.196e-03, eta: 1 day, 1:55:21, time: 0.781, data_time: 0.060, memory: 2073, decode.loss_ce: 0.1179, decode.acc_seg: 93.5822, aux_0.loss_ce: 0.1183, aux_0.acc_seg: 93.5566, aux_1.loss_ce: 0.1197, aux_1.acc_seg: 93.4814, aux_2.loss_ce: 0.0361, aux_2.loss_dice: 0.3332, aux_2.acc_seg: 99.2678, loss: 0.7252\n",
      "2022-03-28 22:33:54,658 - mmseg - INFO - Iter [32100/160000]\tlr: 8.193e-03, eta: 1 day, 1:54:44, time: 0.727, data_time: 0.006, memory: 2073, decode.loss_ce: 0.1200, decode.acc_seg: 93.0846, aux_0.loss_ce: 0.1204, aux_0.acc_seg: 93.0242, aux_1.loss_ce: 0.1208, aux_1.acc_seg: 92.9451, aux_2.loss_ce: 0.0367, aux_2.loss_dice: 0.3294, aux_2.acc_seg: 99.2435, loss: 0.7273\n",
      "2022-03-28 22:34:31,093 - mmseg - INFO - Iter [32150/160000]\tlr: 8.190e-03, eta: 1 day, 1:54:08, time: 0.729, data_time: 0.005, memory: 2073, decode.loss_ce: 0.1109, decode.acc_seg: 93.3124, aux_0.loss_ce: 0.1103, aux_0.acc_seg: 93.3498, aux_1.loss_ce: 0.1129, aux_1.acc_seg: 93.2897, aux_2.loss_ce: 0.0359, aux_2.loss_dice: 0.3239, aux_2.acc_seg: 99.2623, loss: 0.6940\n",
      "2022-03-28 22:35:07,417 - mmseg - INFO - Iter [32200/160000]\tlr: 8.187e-03, eta: 1 day, 1:53:31, time: 0.726, data_time: 0.005, memory: 2073, decode.loss_ce: 0.1151, decode.acc_seg: 93.8092, aux_0.loss_ce: 0.1160, aux_0.acc_seg: 93.6518, aux_1.loss_ce: 0.1169, aux_1.acc_seg: 93.6866, aux_2.loss_ce: 0.0337, aux_2.loss_dice: 0.3190, aux_2.acc_seg: 99.3263, loss: 0.7008\n"
     ]
    },
    {
     "name": "stderr",
     "output_type": "stream",
     "text": [
      "2022-03-28 22:35:43,838 - mmseg - INFO - Iter [32250/160000]\tlr: 8.185e-03, eta: 1 day, 1:52:54, time: 0.728, data_time: 0.005, memory: 2073, decode.loss_ce: 0.0962, decode.acc_seg: 94.3220, aux_0.loss_ce: 0.0983, aux_0.acc_seg: 94.2765, aux_1.loss_ce: 0.0973, aux_1.acc_seg: 94.2259, aux_2.loss_ce: 0.0323, aux_2.loss_dice: 0.3037, aux_2.acc_seg: 99.3467, loss: 0.6277\n",
      "2022-03-28 22:36:17,498 - mmseg - INFO - Iter [32300/160000]\tlr: 8.182e-03, eta: 1 day, 1:52:06, time: 0.673, data_time: 0.006, memory: 2073, decode.loss_ce: 0.1059, decode.acc_seg: 93.6834, aux_0.loss_ce: 0.1064, aux_0.acc_seg: 93.5929, aux_1.loss_ce: 0.1094, aux_1.acc_seg: 93.5033, aux_2.loss_ce: 0.0353, aux_2.loss_dice: 0.3238, aux_2.acc_seg: 99.2797, loss: 0.6807\n",
      "2022-03-28 22:36:53,910 - mmseg - INFO - Iter [32350/160000]\tlr: 8.179e-03, eta: 1 day, 1:51:30, time: 0.728, data_time: 0.005, memory: 2073, decode.loss_ce: 0.1061, decode.acc_seg: 93.8653, aux_0.loss_ce: 0.1070, aux_0.acc_seg: 93.7285, aux_1.loss_ce: 0.1086, aux_1.acc_seg: 93.7482, aux_2.loss_ce: 0.0342, aux_2.loss_dice: 0.3260, aux_2.acc_seg: 99.2971, loss: 0.6820\n",
      "2022-03-28 22:37:30,272 - mmseg - INFO - Iter [32400/160000]\tlr: 8.176e-03, eta: 1 day, 1:50:53, time: 0.727, data_time: 0.005, memory: 2073, decode.loss_ce: 0.1324, decode.acc_seg: 92.5855, aux_0.loss_ce: 0.1340, aux_0.acc_seg: 92.4846, aux_1.loss_ce: 0.1317, aux_1.acc_seg: 92.5677, aux_2.loss_ce: 0.0339, aux_2.loss_dice: 0.3331, aux_2.acc_seg: 99.3125, loss: 0.7651\n",
      "2022-03-28 22:38:05,853 - mmseg - INFO - Iter [32450/160000]\tlr: 8.173e-03, eta: 1 day, 1:50:13, time: 0.712, data_time: 0.005, memory: 2073, decode.loss_ce: 0.1065, decode.acc_seg: 93.5298, aux_0.loss_ce: 0.1056, aux_0.acc_seg: 93.6177, aux_1.loss_ce: 0.1087, aux_1.acc_seg: 93.4753, aux_2.loss_ce: 0.0331, aux_2.loss_dice: 0.3026, aux_2.acc_seg: 99.3151, loss: 0.6565\n",
      "2022-03-28 22:38:35,083 - mmseg - INFO - Iter [32500/160000]\tlr: 8.170e-03, eta: 1 day, 1:49:08, time: 0.584, data_time: 0.005, memory: 2073, decode.loss_ce: 0.1348, decode.acc_seg: 92.4996, aux_0.loss_ce: 0.1351, aux_0.acc_seg: 92.4539, aux_1.loss_ce: 0.1348, aux_1.acc_seg: 92.4024, aux_2.loss_ce: 0.0371, aux_2.loss_dice: 0.3291, aux_2.acc_seg: 99.2460, loss: 0.7709\n",
      "2022-03-28 22:39:11,409 - mmseg - INFO - Iter [32550/160000]\tlr: 8.167e-03, eta: 1 day, 1:48:31, time: 0.727, data_time: 0.006, memory: 2073, decode.loss_ce: 0.1120, decode.acc_seg: 93.5491, aux_0.loss_ce: 0.1133, aux_0.acc_seg: 93.4863, aux_1.loss_ce: 0.1133, aux_1.acc_seg: 93.3503, aux_2.loss_ce: 0.0393, aux_2.loss_dice: 0.3327, aux_2.acc_seg: 99.2015, loss: 0.7106\n",
      "2022-03-28 22:39:47,734 - mmseg - INFO - Iter [32600/160000]\tlr: 8.165e-03, eta: 1 day, 1:47:54, time: 0.726, data_time: 0.005, memory: 2073, decode.loss_ce: 0.0999, decode.acc_seg: 93.8524, aux_0.loss_ce: 0.1027, aux_0.acc_seg: 93.7190, aux_1.loss_ce: 0.1055, aux_1.acc_seg: 93.6138, aux_2.loss_ce: 0.0346, aux_2.loss_dice: 0.3147, aux_2.acc_seg: 99.2935, loss: 0.6574\n",
      "2022-03-28 22:40:24,131 - mmseg - INFO - Iter [32650/160000]\tlr: 8.162e-03, eta: 1 day, 1:47:18, time: 0.728, data_time: 0.005, memory: 2073, decode.loss_ce: 0.1190, decode.acc_seg: 93.6857, aux_0.loss_ce: 0.1199, aux_0.acc_seg: 93.6392, aux_1.loss_ce: 0.1197, aux_1.acc_seg: 93.6044, aux_2.loss_ce: 0.0351, aux_2.loss_dice: 0.3217, aux_2.acc_seg: 99.2974, loss: 0.7154\n",
      "2022-03-28 22:41:00,496 - mmseg - INFO - Iter [32700/160000]\tlr: 8.159e-03, eta: 1 day, 1:46:41, time: 0.727, data_time: 0.006, memory: 2073, decode.loss_ce: 0.1122, decode.acc_seg: 93.1910, aux_0.loss_ce: 0.1119, aux_0.acc_seg: 93.1600, aux_1.loss_ce: 0.1133, aux_1.acc_seg: 93.1209, aux_2.loss_ce: 0.0353, aux_2.loss_dice: 0.3081, aux_2.acc_seg: 99.2785, loss: 0.6808\n",
      "2022-03-28 22:41:39,401 - mmseg - INFO - Iter [32750/160000]\tlr: 8.156e-03, eta: 1 day, 1:46:14, time: 0.779, data_time: 0.059, memory: 2073, decode.loss_ce: 0.0992, decode.acc_seg: 93.8128, aux_0.loss_ce: 0.0996, aux_0.acc_seg: 93.7500, aux_1.loss_ce: 0.1017, aux_1.acc_seg: 93.6609, aux_2.loss_ce: 0.0339, aux_2.loss_dice: 0.3051, aux_2.acc_seg: 99.3038, loss: 0.6395\n",
      "2022-03-28 22:42:15,742 - mmseg - INFO - Iter [32800/160000]\tlr: 8.153e-03, eta: 1 day, 1:45:37, time: 0.727, data_time: 0.005, memory: 2073, decode.loss_ce: 0.1026, decode.acc_seg: 94.2769, aux_0.loss_ce: 0.1011, aux_0.acc_seg: 94.2673, aux_1.loss_ce: 0.1019, aux_1.acc_seg: 94.1954, aux_2.loss_ce: 0.0329, aux_2.loss_dice: 0.3020, aux_2.acc_seg: 99.3325, loss: 0.6405\n",
      "2022-03-28 22:42:52,015 - mmseg - INFO - Iter [32850/160000]\tlr: 8.150e-03, eta: 1 day, 1:45:00, time: 0.726, data_time: 0.006, memory: 2073, decode.loss_ce: 0.1231, decode.acc_seg: 93.0073, aux_0.loss_ce: 0.1209, aux_0.acc_seg: 92.9045, aux_1.loss_ce: 0.1214, aux_1.acc_seg: 92.8437, aux_2.loss_ce: 0.0368, aux_2.loss_dice: 0.3265, aux_2.acc_seg: 99.2590, loss: 0.7287\n",
      "2022-03-28 22:43:28,438 - mmseg - INFO - Iter [32900/160000]\tlr: 8.148e-03, eta: 1 day, 1:44:23, time: 0.729, data_time: 0.006, memory: 2073, decode.loss_ce: 0.1051, decode.acc_seg: 93.7740, aux_0.loss_ce: 0.1108, aux_0.acc_seg: 93.7103, aux_1.loss_ce: 0.1119, aux_1.acc_seg: 93.6593, aux_2.loss_ce: 0.0356, aux_2.loss_dice: 0.3157, aux_2.acc_seg: 99.2676, loss: 0.6792\n",
      "2022-03-28 22:44:02,213 - mmseg - INFO - Iter [32950/160000]\tlr: 8.145e-03, eta: 1 day, 1:43:36, time: 0.675, data_time: 0.005, memory: 2073, decode.loss_ce: 0.1076, decode.acc_seg: 93.8600, aux_0.loss_ce: 0.1088, aux_0.acc_seg: 93.8225, aux_1.loss_ce: 0.1105, aux_1.acc_seg: 93.7317, aux_2.loss_ce: 0.0348, aux_2.loss_dice: 0.3204, aux_2.acc_seg: 99.2835, loss: 0.6821\n",
      "2022-03-28 22:44:38,571 - mmseg - INFO - Iter [33000/160000]\tlr: 8.142e-03, eta: 1 day, 1:43:00, time: 0.727, data_time: 0.006, memory: 2073, decode.loss_ce: 0.0958, decode.acc_seg: 94.2637, aux_0.loss_ce: 0.0970, aux_0.acc_seg: 94.2015, aux_1.loss_ce: 0.0974, aux_1.acc_seg: 94.0704, aux_2.loss_ce: 0.0335, aux_2.loss_dice: 0.3296, aux_2.acc_seg: 99.3240, loss: 0.6533\n",
      "2022-03-28 22:45:14,909 - mmseg - INFO - Iter [33050/160000]\tlr: 8.139e-03, eta: 1 day, 1:42:23, time: 0.727, data_time: 0.006, memory: 2073, decode.loss_ce: 0.1289, decode.acc_seg: 92.8344, aux_0.loss_ce: 0.1298, aux_0.acc_seg: 92.7873, aux_1.loss_ce: 0.1312, aux_1.acc_seg: 92.6806, aux_2.loss_ce: 0.0352, aux_2.loss_dice: 0.3087, aux_2.acc_seg: 99.2953, loss: 0.7337\n",
      "2022-03-28 22:45:51,298 - mmseg - INFO - Iter [33100/160000]\tlr: 8.136e-03, eta: 1 day, 1:41:46, time: 0.728, data_time: 0.005, memory: 2073, decode.loss_ce: 0.1005, decode.acc_seg: 93.9617, aux_0.loss_ce: 0.1011, aux_0.acc_seg: 93.9408, aux_1.loss_ce: 0.1043, aux_1.acc_seg: 93.8228, aux_2.loss_ce: 0.0357, aux_2.loss_dice: 0.3209, aux_2.acc_seg: 99.2734, loss: 0.6624\n",
      "2022-03-28 22:46:27,690 - mmseg - INFO - Iter [33150/160000]\tlr: 8.133e-03, eta: 1 day, 1:41:09, time: 0.728, data_time: 0.005, memory: 2073, decode.loss_ce: 0.1122, decode.acc_seg: 93.8478, aux_0.loss_ce: 0.1134, aux_0.acc_seg: 93.7248, aux_1.loss_ce: 0.1113, aux_1.acc_seg: 93.7118, aux_2.loss_ce: 0.0325, aux_2.loss_dice: 0.3070, aux_2.acc_seg: 99.3456, loss: 0.6764\n",
      "2022-03-28 22:47:03,989 - mmseg - INFO - Iter [33200/160000]\tlr: 8.130e-03, eta: 1 day, 1:40:32, time: 0.726, data_time: 0.005, memory: 2073, decode.loss_ce: 0.0994, decode.acc_seg: 93.9907, aux_0.loss_ce: 0.1000, aux_0.acc_seg: 93.9714, aux_1.loss_ce: 0.1030, aux_1.acc_seg: 93.9516, aux_2.loss_ce: 0.0355, aux_2.loss_dice: 0.3283, aux_2.acc_seg: 99.2807, loss: 0.6662\n",
      "2022-03-28 22:47:40,343 - mmseg - INFO - Iter [33250/160000]\tlr: 8.128e-03, eta: 1 day, 1:39:56, time: 0.727, data_time: 0.006, memory: 2073, decode.loss_ce: 0.1200, decode.acc_seg: 93.0843, aux_0.loss_ce: 0.1186, aux_0.acc_seg: 92.9933, aux_1.loss_ce: 0.1211, aux_1.acc_seg: 92.9467, aux_2.loss_ce: 0.0348, aux_2.loss_dice: 0.3098, aux_2.acc_seg: 99.2717, loss: 0.7043\n",
      "2022-03-28 22:48:16,746 - mmseg - INFO - Iter [33300/160000]\tlr: 8.125e-03, eta: 1 day, 1:39:19, time: 0.728, data_time: 0.006, memory: 2073, decode.loss_ce: 0.1151, decode.acc_seg: 93.3620, aux_0.loss_ce: 0.1171, aux_0.acc_seg: 93.3510, aux_1.loss_ce: 0.1169, aux_1.acc_seg: 93.3434, aux_2.loss_ce: 0.0374, aux_2.loss_dice: 0.3282, aux_2.acc_seg: 99.2286, loss: 0.7147\n",
      "2022-03-28 22:48:53,074 - mmseg - INFO - Iter [33350/160000]\tlr: 8.122e-03, eta: 1 day, 1:38:42, time: 0.727, data_time: 0.006, memory: 2073, decode.loss_ce: 0.1103, decode.acc_seg: 93.7122, aux_0.loss_ce: 0.1120, aux_0.acc_seg: 93.6564, aux_1.loss_ce: 0.1124, aux_1.acc_seg: 93.6157, aux_2.loss_ce: 0.0377, aux_2.loss_dice: 0.3249, aux_2.acc_seg: 99.2237, loss: 0.6973\n"
     ]
    },
    {
     "name": "stderr",
     "output_type": "stream",
     "text": [
      "2022-03-28 22:49:29,292 - mmseg - INFO - Iter [33400/160000]\tlr: 8.119e-03, eta: 1 day, 1:38:05, time: 0.724, data_time: 0.005, memory: 2073, decode.loss_ce: 0.1120, decode.acc_seg: 93.6552, aux_0.loss_ce: 0.1118, aux_0.acc_seg: 93.6173, aux_1.loss_ce: 0.1138, aux_1.acc_seg: 93.5457, aux_2.loss_ce: 0.0389, aux_2.loss_dice: 0.3462, aux_2.acc_seg: 99.1911, loss: 0.7226\n",
      "2022-03-28 22:50:08,277 - mmseg - INFO - Iter [33450/160000]\tlr: 8.116e-03, eta: 1 day, 1:37:38, time: 0.779, data_time: 0.059, memory: 2073, decode.loss_ce: 0.1178, decode.acc_seg: 93.1006, aux_0.loss_ce: 0.1191, aux_0.acc_seg: 93.0860, aux_1.loss_ce: 0.1179, aux_1.acc_seg: 93.0160, aux_2.loss_ce: 0.0389, aux_2.loss_dice: 0.3304, aux_2.acc_seg: 99.2214, loss: 0.7240\n",
      "2022-03-28 22:50:44,717 - mmseg - INFO - Iter [33500/160000]\tlr: 8.113e-03, eta: 1 day, 1:37:01, time: 0.729, data_time: 0.006, memory: 2073, decode.loss_ce: 0.1116, decode.acc_seg: 93.9702, aux_0.loss_ce: 0.1107, aux_0.acc_seg: 93.9734, aux_1.loss_ce: 0.1138, aux_1.acc_seg: 93.8884, aux_2.loss_ce: 0.0347, aux_2.loss_dice: 0.3388, aux_2.acc_seg: 99.3104, loss: 0.7096\n",
      "2022-03-28 22:51:21,100 - mmseg - INFO - Iter [33550/160000]\tlr: 8.110e-03, eta: 1 day, 1:36:25, time: 0.728, data_time: 0.006, memory: 2073, decode.loss_ce: 0.0972, decode.acc_seg: 94.1223, aux_0.loss_ce: 0.0959, aux_0.acc_seg: 94.1608, aux_1.loss_ce: 0.0982, aux_1.acc_seg: 94.1227, aux_2.loss_ce: 0.0342, aux_2.loss_dice: 0.3213, aux_2.acc_seg: 99.3109, loss: 0.6469\n",
      "2022-03-28 22:51:54,774 - mmseg - INFO - Iter [33600/160000]\tlr: 8.108e-03, eta: 1 day, 1:35:38, time: 0.674, data_time: 0.006, memory: 2073, decode.loss_ce: 0.1309, decode.acc_seg: 92.5378, aux_0.loss_ce: 0.1335, aux_0.acc_seg: 92.5232, aux_1.loss_ce: 0.1346, aux_1.acc_seg: 92.3549, aux_2.loss_ce: 0.0378, aux_2.loss_dice: 0.3309, aux_2.acc_seg: 99.2221, loss: 0.7676\n",
      "2022-03-28 22:52:31,145 - mmseg - INFO - Iter [33650/160000]\tlr: 8.105e-03, eta: 1 day, 1:35:01, time: 0.727, data_time: 0.005, memory: 2073, decode.loss_ce: 0.1216, decode.acc_seg: 93.4763, aux_0.loss_ce: 0.1232, aux_0.acc_seg: 93.4656, aux_1.loss_ce: 0.1236, aux_1.acc_seg: 93.2972, aux_2.loss_ce: 0.0380, aux_2.loss_dice: 0.3274, aux_2.acc_seg: 99.2277, loss: 0.7338\n",
      "2022-03-28 22:53:07,497 - mmseg - INFO - Iter [33700/160000]\tlr: 8.102e-03, eta: 1 day, 1:34:24, time: 0.727, data_time: 0.006, memory: 2073, decode.loss_ce: 0.1084, decode.acc_seg: 93.8161, aux_0.loss_ce: 0.1094, aux_0.acc_seg: 93.7980, aux_1.loss_ce: 0.1107, aux_1.acc_seg: 93.6976, aux_2.loss_ce: 0.0346, aux_2.loss_dice: 0.3223, aux_2.acc_seg: 99.2904, loss: 0.6855\n",
      "2022-03-28 22:53:43,852 - mmseg - INFO - Iter [33750/160000]\tlr: 8.099e-03, eta: 1 day, 1:33:47, time: 0.727, data_time: 0.006, memory: 2073, decode.loss_ce: 0.1092, decode.acc_seg: 93.4571, aux_0.loss_ce: 0.1096, aux_0.acc_seg: 93.4255, aux_1.loss_ce: 0.1122, aux_1.acc_seg: 93.3287, aux_2.loss_ce: 0.0345, aux_2.loss_dice: 0.3092, aux_2.acc_seg: 99.3026, loss: 0.6747\n",
      "2022-03-28 22:54:20,239 - mmseg - INFO - Iter [33800/160000]\tlr: 8.096e-03, eta: 1 day, 1:33:11, time: 0.728, data_time: 0.006, memory: 2073, decode.loss_ce: 0.1052, decode.acc_seg: 94.1850, aux_0.loss_ce: 0.1060, aux_0.acc_seg: 94.1572, aux_1.loss_ce: 0.1085, aux_1.acc_seg: 94.1631, aux_2.loss_ce: 0.0340, aux_2.loss_dice: 0.3167, aux_2.acc_seg: 99.3196, loss: 0.6704\n",
      "2022-03-28 22:54:56,626 - mmseg - INFO - Iter [33850/160000]\tlr: 8.093e-03, eta: 1 day, 1:32:34, time: 0.728, data_time: 0.006, memory: 2073, decode.loss_ce: 0.0874, decode.acc_seg: 95.0519, aux_0.loss_ce: 0.0880, aux_0.acc_seg: 94.9708, aux_1.loss_ce: 0.0883, aux_1.acc_seg: 94.9065, aux_2.loss_ce: 0.0328, aux_2.loss_dice: 0.3195, aux_2.acc_seg: 99.3295, loss: 0.6160\n",
      "2022-03-28 22:55:32,994 - mmseg - INFO - Iter [33900/160000]\tlr: 8.090e-03, eta: 1 day, 1:31:57, time: 0.728, data_time: 0.005, memory: 2073, decode.loss_ce: 0.1074, decode.acc_seg: 93.8202, aux_0.loss_ce: 0.1085, aux_0.acc_seg: 93.7947, aux_1.loss_ce: 0.1081, aux_1.acc_seg: 93.6976, aux_2.loss_ce: 0.0358, aux_2.loss_dice: 0.3269, aux_2.acc_seg: 99.2513, loss: 0.6867\n",
      "2022-03-28 22:56:09,351 - mmseg - INFO - Iter [33950/160000]\tlr: 8.088e-03, eta: 1 day, 1:31:21, time: 0.727, data_time: 0.005, memory: 2073, decode.loss_ce: 0.0990, decode.acc_seg: 94.4750, aux_0.loss_ce: 0.1024, aux_0.acc_seg: 94.4265, aux_1.loss_ce: 0.1051, aux_1.acc_seg: 94.2385, aux_2.loss_ce: 0.0347, aux_2.loss_dice: 0.3234, aux_2.acc_seg: 99.2874, loss: 0.6646\n",
      "2022-03-28 22:56:45,716 - mmseg - INFO - Iter [34000/160000]\tlr: 8.085e-03, eta: 1 day, 1:30:44, time: 0.727, data_time: 0.005, memory: 2073, decode.loss_ce: 0.1097, decode.acc_seg: 93.5609, aux_0.loss_ce: 0.1067, aux_0.acc_seg: 93.5832, aux_1.loss_ce: 0.1075, aux_1.acc_seg: 93.5599, aux_2.loss_ce: 0.0381, aux_2.loss_dice: 0.3384, aux_2.acc_seg: 99.2067, loss: 0.7004\n",
      "2022-03-28 22:57:22,051 - mmseg - INFO - Iter [34050/160000]\tlr: 8.082e-03, eta: 1 day, 1:30:07, time: 0.727, data_time: 0.006, memory: 2073, decode.loss_ce: 0.1126, decode.acc_seg: 93.2600, aux_0.loss_ce: 0.1159, aux_0.acc_seg: 93.2787, aux_1.loss_ce: 0.1163, aux_1.acc_seg: 93.2132, aux_2.loss_ce: 0.0375, aux_2.loss_dice: 0.3192, aux_2.acc_seg: 99.2313, loss: 0.7015\n",
      "2022-03-28 22:57:58,415 - mmseg - INFO - Iter [34100/160000]\tlr: 8.079e-03, eta: 1 day, 1:29:30, time: 0.727, data_time: 0.006, memory: 2073, decode.loss_ce: 0.1201, decode.acc_seg: 93.2470, aux_0.loss_ce: 0.1172, aux_0.acc_seg: 93.2922, aux_1.loss_ce: 0.1193, aux_1.acc_seg: 93.2165, aux_2.loss_ce: 0.0330, aux_2.loss_dice: 0.3186, aux_2.acc_seg: 99.3212, loss: 0.7083\n",
      "2022-03-28 22:58:37,288 - mmseg - INFO - Iter [34150/160000]\tlr: 8.076e-03, eta: 1 day, 1:29:03, time: 0.778, data_time: 0.056, memory: 2073, decode.loss_ce: 0.1181, decode.acc_seg: 93.0323, aux_0.loss_ce: 0.1191, aux_0.acc_seg: 93.0116, aux_1.loss_ce: 0.1186, aux_1.acc_seg: 93.0130, aux_2.loss_ce: 0.0365, aux_2.loss_dice: 0.3220, aux_2.acc_seg: 99.2571, loss: 0.7143\n",
      "2022-03-28 22:59:13,697 - mmseg - INFO - Iter [34200/160000]\tlr: 8.073e-03, eta: 1 day, 1:28:26, time: 0.728, data_time: 0.005, memory: 2073, decode.loss_ce: 0.1111, decode.acc_seg: 93.5919, aux_0.loss_ce: 0.1112, aux_0.acc_seg: 93.5922, aux_1.loss_ce: 0.1127, aux_1.acc_seg: 93.5067, aux_2.loss_ce: 0.0374, aux_2.loss_dice: 0.3176, aux_2.acc_seg: 99.2413, loss: 0.6900\n",
      "2022-03-28 22:59:47,398 - mmseg - INFO - Iter [34250/160000]\tlr: 8.071e-03, eta: 1 day, 1:27:40, time: 0.674, data_time: 0.006, memory: 2073, decode.loss_ce: 0.1011, decode.acc_seg: 94.3800, aux_0.loss_ce: 0.1015, aux_0.acc_seg: 94.4069, aux_1.loss_ce: 0.1023, aux_1.acc_seg: 94.3011, aux_2.loss_ce: 0.0347, aux_2.loss_dice: 0.3337, aux_2.acc_seg: 99.3013, loss: 0.6733\n",
      "2022-03-28 23:00:23,762 - mmseg - INFO - Iter [34300/160000]\tlr: 8.068e-03, eta: 1 day, 1:27:03, time: 0.727, data_time: 0.006, memory: 2073, decode.loss_ce: 0.1019, decode.acc_seg: 93.7546, aux_0.loss_ce: 0.1029, aux_0.acc_seg: 93.7122, aux_1.loss_ce: 0.1038, aux_1.acc_seg: 93.6815, aux_2.loss_ce: 0.0347, aux_2.loss_dice: 0.3190, aux_2.acc_seg: 99.3131, loss: 0.6623\n",
      "2022-03-28 23:01:00,125 - mmseg - INFO - Iter [34350/160000]\tlr: 8.065e-03, eta: 1 day, 1:26:26, time: 0.727, data_time: 0.005, memory: 2073, decode.loss_ce: 0.1023, decode.acc_seg: 94.2576, aux_0.loss_ce: 0.1041, aux_0.acc_seg: 94.1324, aux_1.loss_ce: 0.1049, aux_1.acc_seg: 94.1346, aux_2.loss_ce: 0.0363, aux_2.loss_dice: 0.3108, aux_2.acc_seg: 99.2614, loss: 0.6582\n",
      "2022-03-28 23:01:36,491 - mmseg - INFO - Iter [34400/160000]\tlr: 8.062e-03, eta: 1 day, 1:25:49, time: 0.727, data_time: 0.006, memory: 2073, decode.loss_ce: 0.1161, decode.acc_seg: 93.5579, aux_0.loss_ce: 0.1167, aux_0.acc_seg: 93.5046, aux_1.loss_ce: 0.1184, aux_1.acc_seg: 93.4191, aux_2.loss_ce: 0.0392, aux_2.loss_dice: 0.3288, aux_2.acc_seg: 99.1925, loss: 0.7193\n",
      "2022-03-28 23:02:12,857 - mmseg - INFO - Iter [34450/160000]\tlr: 8.059e-03, eta: 1 day, 1:25:13, time: 0.727, data_time: 0.005, memory: 2073, decode.loss_ce: 0.1161, decode.acc_seg: 93.0822, aux_0.loss_ce: 0.1174, aux_0.acc_seg: 93.0138, aux_1.loss_ce: 0.1166, aux_1.acc_seg: 93.0578, aux_2.loss_ce: 0.0367, aux_2.loss_dice: 0.3370, aux_2.acc_seg: 99.2786, loss: 0.7238\n",
      "2022-03-28 23:02:49,225 - mmseg - INFO - Iter [34500/160000]\tlr: 8.056e-03, eta: 1 day, 1:24:36, time: 0.727, data_time: 0.006, memory: 2073, decode.loss_ce: 0.1205, decode.acc_seg: 93.1183, aux_0.loss_ce: 0.1216, aux_0.acc_seg: 93.0706, aux_1.loss_ce: 0.1225, aux_1.acc_seg: 93.0107, aux_2.loss_ce: 0.0377, aux_2.loss_dice: 0.3299, aux_2.acc_seg: 99.2328, loss: 0.7322\n"
     ]
    },
    {
     "name": "stderr",
     "output_type": "stream",
     "text": [
      "2022-03-28 23:03:25,648 - mmseg - INFO - Iter [34550/160000]\tlr: 8.053e-03, eta: 1 day, 1:23:59, time: 0.729, data_time: 0.006, memory: 2073, decode.loss_ce: 0.1271, decode.acc_seg: 92.7844, aux_0.loss_ce: 0.1274, aux_0.acc_seg: 92.7415, aux_1.loss_ce: 0.1290, aux_1.acc_seg: 92.6797, aux_2.loss_ce: 0.0375, aux_2.loss_dice: 0.3315, aux_2.acc_seg: 99.2295, loss: 0.7524\n",
      "2022-03-28 23:04:02,032 - mmseg - INFO - Iter [34600/160000]\tlr: 8.051e-03, eta: 1 day, 1:23:23, time: 0.728, data_time: 0.005, memory: 2073, decode.loss_ce: 0.0947, decode.acc_seg: 94.6163, aux_0.loss_ce: 0.0957, aux_0.acc_seg: 94.5999, aux_1.loss_ce: 0.0973, aux_1.acc_seg: 94.5042, aux_2.loss_ce: 0.0320, aux_2.loss_dice: 0.3109, aux_2.acc_seg: 99.3672, loss: 0.6307\n",
      "2022-03-28 23:04:38,369 - mmseg - INFO - Iter [34650/160000]\tlr: 8.048e-03, eta: 1 day, 1:22:46, time: 0.727, data_time: 0.006, memory: 2073, decode.loss_ce: 0.1239, decode.acc_seg: 92.9296, aux_0.loss_ce: 0.1233, aux_0.acc_seg: 92.9411, aux_1.loss_ce: 0.1257, aux_1.acc_seg: 92.8448, aux_2.loss_ce: 0.0364, aux_2.loss_dice: 0.3221, aux_2.acc_seg: 99.2448, loss: 0.7315\n",
      "2022-03-28 23:05:14,787 - mmseg - INFO - Iter [34700/160000]\tlr: 8.045e-03, eta: 1 day, 1:22:09, time: 0.729, data_time: 0.006, memory: 2073, decode.loss_ce: 0.0989, decode.acc_seg: 94.4150, aux_0.loss_ce: 0.0977, aux_0.acc_seg: 94.4154, aux_1.loss_ce: 0.1001, aux_1.acc_seg: 94.2282, aux_2.loss_ce: 0.0355, aux_2.loss_dice: 0.3240, aux_2.acc_seg: 99.2819, loss: 0.6561\n",
      "2022-03-28 23:05:51,153 - mmseg - INFO - Iter [34750/160000]\tlr: 8.042e-03, eta: 1 day, 1:21:33, time: 0.727, data_time: 0.005, memory: 2073, decode.loss_ce: 0.1008, decode.acc_seg: 93.8805, aux_0.loss_ce: 0.1032, aux_0.acc_seg: 93.8463, aux_1.loss_ce: 0.1055, aux_1.acc_seg: 93.7128, aux_2.loss_ce: 0.0348, aux_2.loss_dice: 0.3293, aux_2.acc_seg: 99.2872, loss: 0.6736\n",
      "2022-03-28 23:06:27,459 - mmseg - INFO - Iter [34800/160000]\tlr: 8.039e-03, eta: 1 day, 1:20:56, time: 0.725, data_time: 0.005, memory: 2073, decode.loss_ce: 0.1060, decode.acc_seg: 93.9023, aux_0.loss_ce: 0.1040, aux_0.acc_seg: 93.8721, aux_1.loss_ce: 0.1052, aux_1.acc_seg: 93.8046, aux_2.loss_ce: 0.0364, aux_2.loss_dice: 0.3261, aux_2.acc_seg: 99.2496, loss: 0.6777\n",
      "2022-03-28 23:07:06,750 - mmseg - INFO - Iter [34850/160000]\tlr: 8.036e-03, eta: 1 day, 1:20:30, time: 0.787, data_time: 0.063, memory: 2073, decode.loss_ce: 0.1126, decode.acc_seg: 93.2817, aux_0.loss_ce: 0.1145, aux_0.acc_seg: 93.1856, aux_1.loss_ce: 0.1160, aux_1.acc_seg: 93.1255, aux_2.loss_ce: 0.0357, aux_2.loss_dice: 0.3166, aux_2.acc_seg: 99.2718, loss: 0.6955\n",
      "2022-03-28 23:07:40,361 - mmseg - INFO - Iter [34900/160000]\tlr: 8.033e-03, eta: 1 day, 1:19:43, time: 0.672, data_time: 0.005, memory: 2073, decode.loss_ce: 0.1008, decode.acc_seg: 94.3109, aux_0.loss_ce: 0.1018, aux_0.acc_seg: 94.3080, aux_1.loss_ce: 0.1030, aux_1.acc_seg: 94.2455, aux_2.loss_ce: 0.0344, aux_2.loss_dice: 0.3306, aux_2.acc_seg: 99.3018, loss: 0.6707\n",
      "2022-03-28 23:08:16,732 - mmseg - INFO - Iter [34950/160000]\tlr: 8.031e-03, eta: 1 day, 1:19:06, time: 0.728, data_time: 0.006, memory: 2073, decode.loss_ce: 0.1089, decode.acc_seg: 93.5105, aux_0.loss_ce: 0.1101, aux_0.acc_seg: 93.4070, aux_1.loss_ce: 0.1112, aux_1.acc_seg: 93.4362, aux_2.loss_ce: 0.0350, aux_2.loss_dice: 0.3255, aux_2.acc_seg: 99.2732, loss: 0.6906\n",
      "2022-03-28 23:08:53,006 - mmseg - INFO - Iter [35000/160000]\tlr: 8.028e-03, eta: 1 day, 1:18:29, time: 0.725, data_time: 0.005, memory: 2073, decode.loss_ce: 0.1096, decode.acc_seg: 93.6478, aux_0.loss_ce: 0.1096, aux_0.acc_seg: 93.6095, aux_1.loss_ce: 0.1106, aux_1.acc_seg: 93.4856, aux_2.loss_ce: 0.0352, aux_2.loss_dice: 0.3281, aux_2.acc_seg: 99.2861, loss: 0.6930\n"
     ]
    },
    {
     "name": "stdout",
     "output_type": "stream",
     "text": [
      "[>>>>>>>>>>>>>>>>>>>>>>>>>>>>>] 610/610, 26.4 task/s, elapsed: 23s, ETA:     0s"
     ]
    },
    {
     "name": "stderr",
     "output_type": "stream",
     "text": [
      "2022-03-28 23:09:16,129 - mmseg - INFO - per class results:\n",
      "2022-03-28 23:09:16,129 - mmseg - INFO - \n",
      "+------------+-------+-------+\n",
      "|   Class    |  IoU  |  Acc  |\n",
      "+------------+-------+-------+\n",
      "| background | 95.66 |  99.9 |\n",
      "|   human    | 18.57 | 18.92 |\n",
      "+------------+-------+-------+\n",
      "2022-03-28 23:09:16,129 - mmseg - INFO - Summary:\n",
      "2022-03-28 23:09:16,130 - mmseg - INFO - \n",
      "+-------+-------+-------+\n",
      "|  aAcc |  mIoU |  mAcc |\n",
      "+-------+-------+-------+\n",
      "| 95.71 | 57.12 | 59.41 |\n",
      "+-------+-------+-------+\n",
      "2022-03-28 23:09:16,132 - mmseg - INFO - Iter(val) [610]\taAcc: 0.9571, mIoU: 0.5712, mAcc: 0.5941, IoU.background: 0.9566, IoU.human: 0.1857, Acc.background: 0.9990, Acc.human: 0.1892\n",
      "2022-03-28 23:09:52,497 - mmseg - INFO - Iter [35050/160000]\tlr: 8.025e-03, eta: 1 day, 1:19:15, time: 1.190, data_time: 0.468, memory: 2073, decode.loss_ce: 0.1134, decode.acc_seg: 93.6545, aux_0.loss_ce: 0.1151, aux_0.acc_seg: 93.6263, aux_1.loss_ce: 0.1181, aux_1.acc_seg: 93.6119, aux_2.loss_ce: 0.0390, aux_2.loss_dice: 0.3321, aux_2.acc_seg: 99.2216, loss: 0.7178\n",
      "2022-03-28 23:10:28,793 - mmseg - INFO - Iter [35100/160000]\tlr: 8.022e-03, eta: 1 day, 1:18:38, time: 0.726, data_time: 0.006, memory: 2073, decode.loss_ce: 0.1054, decode.acc_seg: 93.8504, aux_0.loss_ce: 0.1055, aux_0.acc_seg: 93.7819, aux_1.loss_ce: 0.1057, aux_1.acc_seg: 93.7401, aux_2.loss_ce: 0.0361, aux_2.loss_dice: 0.3215, aux_2.acc_seg: 99.2803, loss: 0.6742\n",
      "2022-03-28 23:11:05,191 - mmseg - INFO - Iter [35150/160000]\tlr: 8.019e-03, eta: 1 day, 1:18:01, time: 0.728, data_time: 0.006, memory: 2073, decode.loss_ce: 0.1186, decode.acc_seg: 93.0966, aux_0.loss_ce: 0.1184, aux_0.acc_seg: 93.1243, aux_1.loss_ce: 0.1187, aux_1.acc_seg: 93.0034, aux_2.loss_ce: 0.0381, aux_2.loss_dice: 0.3202, aux_2.acc_seg: 99.2207, loss: 0.7139\n",
      "2022-03-28 23:11:41,464 - mmseg - INFO - Iter [35200/160000]\tlr: 8.016e-03, eta: 1 day, 1:17:24, time: 0.726, data_time: 0.006, memory: 2073, decode.loss_ce: 0.1045, decode.acc_seg: 94.0743, aux_0.loss_ce: 0.1028, aux_0.acc_seg: 94.0812, aux_1.loss_ce: 0.1068, aux_1.acc_seg: 94.0399, aux_2.loss_ce: 0.0338, aux_2.loss_dice: 0.3373, aux_2.acc_seg: 99.3134, loss: 0.6853\n",
      "2022-03-28 23:12:17,796 - mmseg - INFO - Iter [35250/160000]\tlr: 8.013e-03, eta: 1 day, 1:16:47, time: 0.727, data_time: 0.006, memory: 2073, decode.loss_ce: 0.1101, decode.acc_seg: 93.6105, aux_0.loss_ce: 0.1111, aux_0.acc_seg: 93.6390, aux_1.loss_ce: 0.1106, aux_1.acc_seg: 93.4830, aux_2.loss_ce: 0.0344, aux_2.loss_dice: 0.3053, aux_2.acc_seg: 99.2924, loss: 0.6715\n",
      "2022-03-28 23:12:54,099 - mmseg - INFO - Iter [35300/160000]\tlr: 8.011e-03, eta: 1 day, 1:16:10, time: 0.726, data_time: 0.005, memory: 2073, decode.loss_ce: 0.0939, decode.acc_seg: 94.5828, aux_0.loss_ce: 0.0954, aux_0.acc_seg: 94.5207, aux_1.loss_ce: 0.0957, aux_1.acc_seg: 94.4452, aux_2.loss_ce: 0.0341, aux_2.loss_dice: 0.2983, aux_2.acc_seg: 99.3091, loss: 0.6174\n",
      "2022-03-28 23:13:30,390 - mmseg - INFO - Iter [35350/160000]\tlr: 8.008e-03, eta: 1 day, 1:15:33, time: 0.726, data_time: 0.006, memory: 2073, decode.loss_ce: 0.1074, decode.acc_seg: 93.7657, aux_0.loss_ce: 0.1078, aux_0.acc_seg: 93.7869, aux_1.loss_ce: 0.1103, aux_1.acc_seg: 93.6046, aux_2.loss_ce: 0.0366, aux_2.loss_dice: 0.3067, aux_2.acc_seg: 99.2451, loss: 0.6688\n",
      "2022-03-28 23:14:06,715 - mmseg - INFO - Iter [35400/160000]\tlr: 8.005e-03, eta: 1 day, 1:14:56, time: 0.726, data_time: 0.005, memory: 2073, decode.loss_ce: 0.0947, decode.acc_seg: 94.5202, aux_0.loss_ce: 0.0939, aux_0.acc_seg: 94.4834, aux_1.loss_ce: 0.0956, aux_1.acc_seg: 94.3854, aux_2.loss_ce: 0.0328, aux_2.loss_dice: 0.3110, aux_2.acc_seg: 99.3404, loss: 0.6280\n",
      "2022-03-28 23:14:43,024 - mmseg - INFO - Iter [35450/160000]\tlr: 8.002e-03, eta: 1 day, 1:14:18, time: 0.726, data_time: 0.006, memory: 2073, decode.loss_ce: 0.1101, decode.acc_seg: 93.7969, aux_0.loss_ce: 0.1105, aux_0.acc_seg: 93.6862, aux_1.loss_ce: 0.1111, aux_1.acc_seg: 93.6612, aux_2.loss_ce: 0.0326, aux_2.loss_dice: 0.3086, aux_2.acc_seg: 99.3526, loss: 0.6730\n",
      "2022-03-28 23:15:19,529 - mmseg - INFO - Iter [35500/160000]\tlr: 7.999e-03, eta: 1 day, 1:13:42, time: 0.730, data_time: 0.059, memory: 2073, decode.loss_ce: 0.1099, decode.acc_seg: 94.0189, aux_0.loss_ce: 0.1095, aux_0.acc_seg: 94.0085, aux_1.loss_ce: 0.1124, aux_1.acc_seg: 93.9003, aux_2.loss_ce: 0.0343, aux_2.loss_dice: 0.3285, aux_2.acc_seg: 99.2960, loss: 0.6947\n",
      "2022-03-28 23:15:55,819 - mmseg - INFO - Iter [35550/160000]\tlr: 7.996e-03, eta: 1 day, 1:13:05, time: 0.726, data_time: 0.006, memory: 2073, decode.loss_ce: 0.1025, decode.acc_seg: 93.8799, aux_0.loss_ce: 0.1039, aux_0.acc_seg: 93.8768, aux_1.loss_ce: 0.1027, aux_1.acc_seg: 93.8325, aux_2.loss_ce: 0.0350, aux_2.loss_dice: 0.3160, aux_2.acc_seg: 99.2868, loss: 0.6602\n",
      "2022-03-28 23:16:32,174 - mmseg - INFO - Iter [35600/160000]\tlr: 7.993e-03, eta: 1 day, 1:12:28, time: 0.727, data_time: 0.006, memory: 2073, decode.loss_ce: 0.0985, decode.acc_seg: 94.3640, aux_0.loss_ce: 0.0988, aux_0.acc_seg: 94.3536, aux_1.loss_ce: 0.1013, aux_1.acc_seg: 94.2597, aux_2.loss_ce: 0.0365, aux_2.loss_dice: 0.3111, aux_2.acc_seg: 99.2545, loss: 0.6462\n",
      "2022-03-28 23:17:08,568 - mmseg - INFO - Iter [35650/160000]\tlr: 7.991e-03, eta: 1 day, 1:11:51, time: 0.728, data_time: 0.005, memory: 2073, decode.loss_ce: 0.1265, decode.acc_seg: 92.4911, aux_0.loss_ce: 0.1277, aux_0.acc_seg: 92.3548, aux_1.loss_ce: 0.1308, aux_1.acc_seg: 92.2036, aux_2.loss_ce: 0.0368, aux_2.loss_dice: 0.3256, aux_2.acc_seg: 99.2576, loss: 0.7474\n",
      "2022-03-28 23:17:44,982 - mmseg - INFO - Iter [35700/160000]\tlr: 7.988e-03, eta: 1 day, 1:11:15, time: 0.729, data_time: 0.006, memory: 2073, decode.loss_ce: 0.0971, decode.acc_seg: 94.8495, aux_0.loss_ce: 0.0979, aux_0.acc_seg: 94.7813, aux_1.loss_ce: 0.1001, aux_1.acc_seg: 94.7029, aux_2.loss_ce: 0.0315, aux_2.loss_dice: 0.3114, aux_2.acc_seg: 99.3613, loss: 0.6381\n",
      "2022-03-28 23:18:21,365 - mmseg - INFO - Iter [35750/160000]\tlr: 7.985e-03, eta: 1 day, 1:10:38, time: 0.728, data_time: 0.005, memory: 2073, decode.loss_ce: 0.1002, decode.acc_seg: 94.1851, aux_0.loss_ce: 0.1000, aux_0.acc_seg: 94.1479, aux_1.loss_ce: 0.1027, aux_1.acc_seg: 94.0690, aux_2.loss_ce: 0.0358, aux_2.loss_dice: 0.3182, aux_2.acc_seg: 99.2814, loss: 0.6569\n",
      "2022-03-28 23:18:57,739 - mmseg - INFO - Iter [35800/160000]\tlr: 7.982e-03, eta: 1 day, 1:10:01, time: 0.727, data_time: 0.005, memory: 2073, decode.loss_ce: 0.0919, decode.acc_seg: 94.6828, aux_0.loss_ce: 0.0933, aux_0.acc_seg: 94.6074, aux_1.loss_ce: 0.0936, aux_1.acc_seg: 94.5654, aux_2.loss_ce: 0.0336, aux_2.loss_dice: 0.3204, aux_2.acc_seg: 99.3060, loss: 0.6328\n",
      "2022-03-28 23:19:34,061 - mmseg - INFO - Iter [35850/160000]\tlr: 7.979e-03, eta: 1 day, 1:09:24, time: 0.726, data_time: 0.005, memory: 2073, decode.loss_ce: 0.1039, decode.acc_seg: 93.9886, aux_0.loss_ce: 0.1038, aux_0.acc_seg: 93.9792, aux_1.loss_ce: 0.1070, aux_1.acc_seg: 93.7942, aux_2.loss_ce: 0.0351, aux_2.loss_dice: 0.3314, aux_2.acc_seg: 99.2838, loss: 0.6813\n",
      "2022-03-28 23:20:10,452 - mmseg - INFO - Iter [35900/160000]\tlr: 7.976e-03, eta: 1 day, 1:08:47, time: 0.728, data_time: 0.005, memory: 2073, decode.loss_ce: 0.1101, decode.acc_seg: 93.5971, aux_0.loss_ce: 0.1094, aux_0.acc_seg: 93.6315, aux_1.loss_ce: 0.1118, aux_1.acc_seg: 93.5914, aux_2.loss_ce: 0.0383, aux_2.loss_dice: 0.3639, aux_2.acc_seg: 99.2507, loss: 0.7334\n",
      "2022-03-28 23:20:46,848 - mmseg - INFO - Iter [35950/160000]\tlr: 7.973e-03, eta: 1 day, 1:08:11, time: 0.728, data_time: 0.006, memory: 2073, decode.loss_ce: 0.1260, decode.acc_seg: 92.8188, aux_0.loss_ce: 0.1245, aux_0.acc_seg: 92.8176, aux_1.loss_ce: 0.1242, aux_1.acc_seg: 92.7745, aux_2.loss_ce: 0.0403, aux_2.loss_dice: 0.3356, aux_2.acc_seg: 99.2193, loss: 0.7507\n",
      "2022-03-28 23:21:23,180 - mmseg - INFO - Iter [36000/160000]\tlr: 7.971e-03, eta: 1 day, 1:07:34, time: 0.727, data_time: 0.006, memory: 2073, decode.loss_ce: 0.1034, decode.acc_seg: 93.9433, aux_0.loss_ce: 0.1064, aux_0.acc_seg: 93.8666, aux_1.loss_ce: 0.1067, aux_1.acc_seg: 93.8402, aux_2.loss_ce: 0.0356, aux_2.loss_dice: 0.3247, aux_2.acc_seg: 99.2826, loss: 0.6769\n",
      "2022-03-28 23:21:59,535 - mmseg - INFO - Iter [36050/160000]\tlr: 7.968e-03, eta: 1 day, 1:06:57, time: 0.727, data_time: 0.005, memory: 2073, decode.loss_ce: 0.1045, decode.acc_seg: 94.0534, aux_0.loss_ce: 0.1049, aux_0.acc_seg: 94.0280, aux_1.loss_ce: 0.1058, aux_1.acc_seg: 93.8731, aux_2.loss_ce: 0.0368, aux_2.loss_dice: 0.3189, aux_2.acc_seg: 99.2572, loss: 0.6710\n"
     ]
    },
    {
     "name": "stderr",
     "output_type": "stream",
     "text": [
      "2022-03-28 23:22:35,887 - mmseg - INFO - Iter [36100/160000]\tlr: 7.965e-03, eta: 1 day, 1:06:20, time: 0.727, data_time: 0.006, memory: 2073, decode.loss_ce: 0.1132, decode.acc_seg: 93.6716, aux_0.loss_ce: 0.1141, aux_0.acc_seg: 93.6165, aux_1.loss_ce: 0.1146, aux_1.acc_seg: 93.5593, aux_2.loss_ce: 0.0331, aux_2.loss_dice: 0.3293, aux_2.acc_seg: 99.3482, loss: 0.7043\n",
      "2022-03-28 23:23:09,537 - mmseg - INFO - Iter [36150/160000]\tlr: 7.962e-03, eta: 1 day, 1:05:34, time: 0.673, data_time: 0.006, memory: 2073, decode.loss_ce: 0.1236, decode.acc_seg: 93.0382, aux_0.loss_ce: 0.1244, aux_0.acc_seg: 92.9691, aux_1.loss_ce: 0.1275, aux_1.acc_seg: 92.9060, aux_2.loss_ce: 0.0373, aux_2.loss_dice: 0.3343, aux_2.acc_seg: 99.2420, loss: 0.7470\n",
      "2022-03-28 23:23:48,572 - mmseg - INFO - Iter [36200/160000]\tlr: 7.959e-03, eta: 1 day, 1:05:06, time: 0.781, data_time: 0.058, memory: 2073, decode.loss_ce: 0.0970, decode.acc_seg: 94.3596, aux_0.loss_ce: 0.0987, aux_0.acc_seg: 94.3120, aux_1.loss_ce: 0.0975, aux_1.acc_seg: 94.3049, aux_2.loss_ce: 0.0332, aux_2.loss_dice: 0.3127, aux_2.acc_seg: 99.3336, loss: 0.6391\n",
      "2022-03-28 23:24:24,978 - mmseg - INFO - Iter [36250/160000]\tlr: 7.956e-03, eta: 1 day, 1:04:29, time: 0.728, data_time: 0.005, memory: 2073, decode.loss_ce: 0.1023, decode.acc_seg: 94.0951, aux_0.loss_ce: 0.1018, aux_0.acc_seg: 94.0437, aux_1.loss_ce: 0.1039, aux_1.acc_seg: 93.9411, aux_2.loss_ce: 0.0336, aux_2.loss_dice: 0.3046, aux_2.acc_seg: 99.3207, loss: 0.6461\n",
      "2022-03-28 23:25:01,309 - mmseg - INFO - Iter [36300/160000]\tlr: 7.953e-03, eta: 1 day, 1:03:52, time: 0.727, data_time: 0.006, memory: 2073, decode.loss_ce: 0.1168, decode.acc_seg: 93.4097, aux_0.loss_ce: 0.1197, aux_0.acc_seg: 93.3687, aux_1.loss_ce: 0.1221, aux_1.acc_seg: 93.3086, aux_2.loss_ce: 0.0366, aux_2.loss_dice: 0.3148, aux_2.acc_seg: 99.2496, loss: 0.7100\n",
      "2022-03-28 23:25:37,693 - mmseg - INFO - Iter [36350/160000]\tlr: 7.951e-03, eta: 1 day, 1:03:16, time: 0.728, data_time: 0.005, memory: 2073, decode.loss_ce: 0.1123, decode.acc_seg: 93.3908, aux_0.loss_ce: 0.1071, aux_0.acc_seg: 93.3390, aux_1.loss_ce: 0.1091, aux_1.acc_seg: 93.2656, aux_2.loss_ce: 0.0358, aux_2.loss_dice: 0.3270, aux_2.acc_seg: 99.2654, loss: 0.6912\n",
      "2022-03-28 23:26:14,109 - mmseg - INFO - Iter [36400/160000]\tlr: 7.948e-03, eta: 1 day, 1:02:39, time: 0.728, data_time: 0.006, memory: 2073, decode.loss_ce: 0.0867, decode.acc_seg: 94.9843, aux_0.loss_ce: 0.0941, aux_0.acc_seg: 94.9820, aux_1.loss_ce: 0.0938, aux_1.acc_seg: 94.7787, aux_2.loss_ce: 0.0317, aux_2.loss_dice: 0.3083, aux_2.acc_seg: 99.3685, loss: 0.6145\n",
      "2022-03-28 23:26:50,504 - mmseg - INFO - Iter [36450/160000]\tlr: 7.945e-03, eta: 1 day, 1:02:02, time: 0.728, data_time: 0.005, memory: 2073, decode.loss_ce: 0.1149, decode.acc_seg: 93.3082, aux_0.loss_ce: 0.1157, aux_0.acc_seg: 93.2949, aux_1.loss_ce: 0.1187, aux_1.acc_seg: 93.1615, aux_2.loss_ce: 0.0383, aux_2.loss_dice: 0.3230, aux_2.acc_seg: 99.2025, loss: 0.7106\n",
      "2022-03-28 23:27:26,845 - mmseg - INFO - Iter [36500/160000]\tlr: 7.942e-03, eta: 1 day, 1:01:25, time: 0.727, data_time: 0.005, memory: 2073, decode.loss_ce: 0.1052, decode.acc_seg: 94.0235, aux_0.loss_ce: 0.1044, aux_0.acc_seg: 93.9637, aux_1.loss_ce: 0.1063, aux_1.acc_seg: 93.9446, aux_2.loss_ce: 0.0321, aux_2.loss_dice: 0.3081, aux_2.acc_seg: 99.3348, loss: 0.6561\n",
      "2022-03-28 23:28:03,211 - mmseg - INFO - Iter [36550/160000]\tlr: 7.939e-03, eta: 1 day, 1:00:48, time: 0.727, data_time: 0.005, memory: 2073, decode.loss_ce: 0.1073, decode.acc_seg: 93.9226, aux_0.loss_ce: 0.1091, aux_0.acc_seg: 93.8624, aux_1.loss_ce: 0.1106, aux_1.acc_seg: 93.7813, aux_2.loss_ce: 0.0357, aux_2.loss_dice: 0.3262, aux_2.acc_seg: 99.2628, loss: 0.6889\n",
      "2022-03-28 23:28:39,498 - mmseg - INFO - Iter [36600/160000]\tlr: 7.936e-03, eta: 1 day, 1:00:11, time: 0.725, data_time: 0.005, memory: 2073, decode.loss_ce: 0.1119, decode.acc_seg: 93.2831, aux_0.loss_ce: 0.1113, aux_0.acc_seg: 93.3671, aux_1.loss_ce: 0.1144, aux_1.acc_seg: 93.1762, aux_2.loss_ce: 0.0354, aux_2.loss_dice: 0.3274, aux_2.acc_seg: 99.2692, loss: 0.7004\n",
      "2022-03-28 23:29:15,744 - mmseg - INFO - Iter [36650/160000]\tlr: 7.933e-03, eta: 1 day, 0:59:34, time: 0.725, data_time: 0.006, memory: 2073, decode.loss_ce: 0.1290, decode.acc_seg: 92.3586, aux_0.loss_ce: 0.1302, aux_0.acc_seg: 92.2549, aux_1.loss_ce: 0.1244, aux_1.acc_seg: 92.2754, aux_2.loss_ce: 0.0403, aux_2.loss_dice: 0.3144, aux_2.acc_seg: 99.1558, loss: 0.7383\n",
      "2022-03-28 23:29:52,087 - mmseg - INFO - Iter [36700/160000]\tlr: 7.931e-03, eta: 1 day, 0:58:57, time: 0.727, data_time: 0.006, memory: 2073, decode.loss_ce: 0.1024, decode.acc_seg: 93.9028, aux_0.loss_ce: 0.1037, aux_0.acc_seg: 93.9013, aux_1.loss_ce: 0.1105, aux_1.acc_seg: 93.8646, aux_2.loss_ce: 0.0352, aux_2.loss_dice: 0.3201, aux_2.acc_seg: 99.2838, loss: 0.6720\n",
      "2022-03-28 23:30:28,461 - mmseg - INFO - Iter [36750/160000]\tlr: 7.928e-03, eta: 1 day, 0:58:20, time: 0.728, data_time: 0.006, memory: 2073, decode.loss_ce: 0.0888, decode.acc_seg: 94.9355, aux_0.loss_ce: 0.0879, aux_0.acc_seg: 94.9245, aux_1.loss_ce: 0.0884, aux_1.acc_seg: 94.8020, aux_2.loss_ce: 0.0330, aux_2.loss_dice: 0.2936, aux_2.acc_seg: 99.3247, loss: 0.5916\n",
      "2022-03-28 23:31:02,125 - mmseg - INFO - Iter [36800/160000]\tlr: 7.925e-03, eta: 1 day, 0:57:34, time: 0.673, data_time: 0.006, memory: 2073, decode.loss_ce: 0.1027, decode.acc_seg: 93.5820, aux_0.loss_ce: 0.1034, aux_0.acc_seg: 93.6500, aux_1.loss_ce: 0.1046, aux_1.acc_seg: 93.4799, aux_2.loss_ce: 0.0372, aux_2.loss_dice: 0.3164, aux_2.acc_seg: 99.2137, loss: 0.6643\n",
      "2022-03-28 23:31:38,496 - mmseg - INFO - Iter [36850/160000]\tlr: 7.922e-03, eta: 1 day, 0:56:58, time: 0.728, data_time: 0.006, memory: 2073, decode.loss_ce: 0.1058, decode.acc_seg: 93.9171, aux_0.loss_ce: 0.1061, aux_0.acc_seg: 93.8124, aux_1.loss_ce: 0.1075, aux_1.acc_seg: 93.8240, aux_2.loss_ce: 0.0357, aux_2.loss_dice: 0.3253, aux_2.acc_seg: 99.2757, loss: 0.6804\n",
      "2022-03-28 23:32:17,724 - mmseg - INFO - Iter [36900/160000]\tlr: 7.919e-03, eta: 1 day, 0:56:30, time: 0.784, data_time: 0.063, memory: 2073, decode.loss_ce: 0.0925, decode.acc_seg: 94.8325, aux_0.loss_ce: 0.0933, aux_0.acc_seg: 94.7807, aux_1.loss_ce: 0.0951, aux_1.acc_seg: 94.7485, aux_2.loss_ce: 0.0324, aux_2.loss_dice: 0.3114, aux_2.acc_seg: 99.3478, loss: 0.6247\n",
      "2022-03-28 23:32:54,043 - mmseg - INFO - Iter [36950/160000]\tlr: 7.916e-03, eta: 1 day, 0:55:53, time: 0.726, data_time: 0.005, memory: 2073, decode.loss_ce: 0.1037, decode.acc_seg: 93.7031, aux_0.loss_ce: 0.1042, aux_0.acc_seg: 93.6362, aux_1.loss_ce: 0.1038, aux_1.acc_seg: 93.5808, aux_2.loss_ce: 0.0359, aux_2.loss_dice: 0.3164, aux_2.acc_seg: 99.2686, loss: 0.6640\n",
      "2022-03-28 23:33:30,403 - mmseg - INFO - Iter [37000/160000]\tlr: 7.913e-03, eta: 1 day, 0:55:17, time: 0.727, data_time: 0.005, memory: 2073, decode.loss_ce: 0.1042, decode.acc_seg: 93.8818, aux_0.loss_ce: 0.1052, aux_0.acc_seg: 93.8240, aux_1.loss_ce: 0.1062, aux_1.acc_seg: 93.7861, aux_2.loss_ce: 0.0362, aux_2.loss_dice: 0.3422, aux_2.acc_seg: 99.2647, loss: 0.6941\n",
      "2022-03-28 23:34:06,754 - mmseg - INFO - Iter [37050/160000]\tlr: 7.911e-03, eta: 1 day, 0:54:40, time: 0.726, data_time: 0.006, memory: 2073, decode.loss_ce: 0.1088, decode.acc_seg: 93.8676, aux_0.loss_ce: 0.1091, aux_0.acc_seg: 93.8336, aux_1.loss_ce: 0.1083, aux_1.acc_seg: 93.8375, aux_2.loss_ce: 0.0329, aux_2.loss_dice: 0.3059, aux_2.acc_seg: 99.3372, loss: 0.6651\n",
      "2022-03-28 23:34:35,762 - mmseg - INFO - Iter [37100/160000]\tlr: 7.908e-03, eta: 1 day, 0:53:39, time: 0.581, data_time: 0.006, memory: 2073, decode.loss_ce: 0.0982, decode.acc_seg: 94.3550, aux_0.loss_ce: 0.0985, aux_0.acc_seg: 94.3601, aux_1.loss_ce: 0.1008, aux_1.acc_seg: 94.2457, aux_2.loss_ce: 0.0349, aux_2.loss_dice: 0.3125, aux_2.acc_seg: 99.2963, loss: 0.6448\n",
      "2022-03-28 23:35:11,562 - mmseg - INFO - Iter [37150/160000]\tlr: 7.905e-03, eta: 1 day, 0:53:00, time: 0.716, data_time: 0.005, memory: 2073, decode.loss_ce: 0.0866, decode.acc_seg: 94.8263, aux_0.loss_ce: 0.0862, aux_0.acc_seg: 94.8607, aux_1.loss_ce: 0.0886, aux_1.acc_seg: 94.7540, aux_2.loss_ce: 0.0335, aux_2.loss_dice: 0.3103, aux_2.acc_seg: 99.3143, loss: 0.6051\n",
      "2022-03-28 23:35:47,876 - mmseg - INFO - Iter [37200/160000]\tlr: 7.902e-03, eta: 1 day, 0:52:23, time: 0.726, data_time: 0.006, memory: 2073, decode.loss_ce: 0.1386, decode.acc_seg: 91.6849, aux_0.loss_ce: 0.1395, aux_0.acc_seg: 91.6054, aux_1.loss_ce: 0.1406, aux_1.acc_seg: 91.5266, aux_2.loss_ce: 0.0380, aux_2.loss_dice: 0.3198, aux_2.acc_seg: 99.2182, loss: 0.7764\n"
     ]
    },
    {
     "name": "stderr",
     "output_type": "stream",
     "text": [
      "2022-03-28 23:36:24,269 - mmseg - INFO - Iter [37250/160000]\tlr: 7.899e-03, eta: 1 day, 0:51:46, time: 0.728, data_time: 0.006, memory: 2073, decode.loss_ce: 0.1036, decode.acc_seg: 93.8686, aux_0.loss_ce: 0.1047, aux_0.acc_seg: 93.8665, aux_1.loss_ce: 0.1044, aux_1.acc_seg: 93.7478, aux_2.loss_ce: 0.0360, aux_2.loss_dice: 0.3344, aux_2.acc_seg: 99.2663, loss: 0.6831\n",
      "2022-03-28 23:37:00,665 - mmseg - INFO - Iter [37300/160000]\tlr: 7.896e-03, eta: 1 day, 0:51:10, time: 0.728, data_time: 0.006, memory: 2073, decode.loss_ce: 0.0976, decode.acc_seg: 94.7526, aux_0.loss_ce: 0.0977, aux_0.acc_seg: 94.7002, aux_1.loss_ce: 0.1009, aux_1.acc_seg: 94.6192, aux_2.loss_ce: 0.0336, aux_2.loss_dice: 0.3221, aux_2.acc_seg: 99.3305, loss: 0.6518\n",
      "2022-03-28 23:37:37,056 - mmseg - INFO - Iter [37350/160000]\tlr: 7.893e-03, eta: 1 day, 0:50:33, time: 0.728, data_time: 0.006, memory: 2073, decode.loss_ce: 0.1076, decode.acc_seg: 93.6331, aux_0.loss_ce: 0.1086, aux_0.acc_seg: 93.6265, aux_1.loss_ce: 0.1094, aux_1.acc_seg: 93.5703, aux_2.loss_ce: 0.0347, aux_2.loss_dice: 0.3216, aux_2.acc_seg: 99.2971, loss: 0.6819\n",
      "2022-03-28 23:38:13,472 - mmseg - INFO - Iter [37400/160000]\tlr: 7.891e-03, eta: 1 day, 0:49:56, time: 0.728, data_time: 0.006, memory: 2073, decode.loss_ce: 0.1098, decode.acc_seg: 93.6307, aux_0.loss_ce: 0.1110, aux_0.acc_seg: 93.5584, aux_1.loss_ce: 0.1105, aux_1.acc_seg: 93.6013, aux_2.loss_ce: 0.0336, aux_2.loss_dice: 0.3111, aux_2.acc_seg: 99.3204, loss: 0.6760\n",
      "2022-03-28 23:38:47,373 - mmseg - INFO - Iter [37450/160000]\tlr: 7.888e-03, eta: 1 day, 0:49:12, time: 0.679, data_time: 0.006, memory: 2073, decode.loss_ce: 0.1140, decode.acc_seg: 93.2595, aux_0.loss_ce: 0.1134, aux_0.acc_seg: 93.2683, aux_1.loss_ce: 0.1154, aux_1.acc_seg: 93.1173, aux_2.loss_ce: 0.0372, aux_2.loss_dice: 0.3290, aux_2.acc_seg: 99.2274, loss: 0.7091\n",
      "2022-03-28 23:39:23,529 - mmseg - INFO - Iter [37500/160000]\tlr: 7.885e-03, eta: 1 day, 0:48:34, time: 0.723, data_time: 0.005, memory: 2073, decode.loss_ce: 0.1081, decode.acc_seg: 93.5379, aux_0.loss_ce: 0.1087, aux_0.acc_seg: 93.5176, aux_1.loss_ce: 0.1111, aux_1.acc_seg: 93.4054, aux_2.loss_ce: 0.0371, aux_2.loss_dice: 0.3100, aux_2.acc_seg: 99.2282, loss: 0.6749\n",
      "2022-03-28 23:39:59,874 - mmseg - INFO - Iter [37550/160000]\tlr: 7.882e-03, eta: 1 day, 0:47:57, time: 0.727, data_time: 0.006, memory: 2073, decode.loss_ce: 0.1083, decode.acc_seg: 94.3076, aux_0.loss_ce: 0.1080, aux_0.acc_seg: 94.2829, aux_1.loss_ce: 0.1115, aux_1.acc_seg: 94.1462, aux_2.loss_ce: 0.0367, aux_2.loss_dice: 0.3204, aux_2.acc_seg: 99.2707, loss: 0.6849\n",
      "2022-03-28 23:40:38,774 - mmseg - INFO - Iter [37600/160000]\tlr: 7.879e-03, eta: 1 day, 0:47:29, time: 0.778, data_time: 0.057, memory: 2073, decode.loss_ce: 0.1063, decode.acc_seg: 93.8560, aux_0.loss_ce: 0.1063, aux_0.acc_seg: 93.8334, aux_1.loss_ce: 0.1092, aux_1.acc_seg: 93.6663, aux_2.loss_ce: 0.0349, aux_2.loss_dice: 0.3192, aux_2.acc_seg: 99.2772, loss: 0.6759\n",
      "2022-03-28 23:41:15,050 - mmseg - INFO - Iter [37650/160000]\tlr: 7.876e-03, eta: 1 day, 0:46:52, time: 0.725, data_time: 0.006, memory: 2073, decode.loss_ce: 0.1093, decode.acc_seg: 93.6586, aux_0.loss_ce: 0.1085, aux_0.acc_seg: 93.6754, aux_1.loss_ce: 0.1105, aux_1.acc_seg: 93.5469, aux_2.loss_ce: 0.0353, aux_2.loss_dice: 0.3142, aux_2.acc_seg: 99.2960, loss: 0.6778\n",
      "2022-03-28 23:41:51,327 - mmseg - INFO - Iter [37700/160000]\tlr: 7.873e-03, eta: 1 day, 0:46:15, time: 0.726, data_time: 0.006, memory: 2073, decode.loss_ce: 0.0975, decode.acc_seg: 94.2637, aux_0.loss_ce: 0.0994, aux_0.acc_seg: 94.2358, aux_1.loss_ce: 0.0999, aux_1.acc_seg: 94.1590, aux_2.loss_ce: 0.0362, aux_2.loss_dice: 0.3122, aux_2.acc_seg: 99.2635, loss: 0.6453\n",
      "2022-03-28 23:42:27,712 - mmseg - INFO - Iter [37750/160000]\tlr: 7.871e-03, eta: 1 day, 0:45:38, time: 0.727, data_time: 0.005, memory: 2073, decode.loss_ce: 0.1056, decode.acc_seg: 93.9414, aux_0.loss_ce: 0.1062, aux_0.acc_seg: 93.8533, aux_1.loss_ce: 0.1087, aux_1.acc_seg: 93.7067, aux_2.loss_ce: 0.0373, aux_2.loss_dice: 0.3181, aux_2.acc_seg: 99.2392, loss: 0.6759\n",
      "2022-03-28 23:43:04,095 - mmseg - INFO - Iter [37800/160000]\tlr: 7.868e-03, eta: 1 day, 0:45:01, time: 0.728, data_time: 0.006, memory: 2073, decode.loss_ce: 0.1198, decode.acc_seg: 93.1395, aux_0.loss_ce: 0.1203, aux_0.acc_seg: 93.0898, aux_1.loss_ce: 0.1222, aux_1.acc_seg: 92.9648, aux_2.loss_ce: 0.0357, aux_2.loss_dice: 0.3293, aux_2.acc_seg: 99.2790, loss: 0.7273\n",
      "2022-03-28 23:43:40,518 - mmseg - INFO - Iter [37850/160000]\tlr: 7.865e-03, eta: 1 day, 0:44:25, time: 0.728, data_time: 0.005, memory: 2073, decode.loss_ce: 0.1023, decode.acc_seg: 93.8032, aux_0.loss_ce: 0.1031, aux_0.acc_seg: 93.7568, aux_1.loss_ce: 0.1048, aux_1.acc_seg: 93.6048, aux_2.loss_ce: 0.0350, aux_2.loss_dice: 0.3095, aux_2.acc_seg: 99.2795, loss: 0.6547\n",
      "2022-03-28 23:44:16,825 - mmseg - INFO - Iter [37900/160000]\tlr: 7.862e-03, eta: 1 day, 0:43:48, time: 0.726, data_time: 0.006, memory: 2073, decode.loss_ce: 0.1049, decode.acc_seg: 94.0049, aux_0.loss_ce: 0.1058, aux_0.acc_seg: 93.8849, aux_1.loss_ce: 0.1083, aux_1.acc_seg: 93.7834, aux_2.loss_ce: 0.0361, aux_2.loss_dice: 0.3147, aux_2.acc_seg: 99.2669, loss: 0.6698\n",
      "2022-03-28 23:44:53,180 - mmseg - INFO - Iter [37950/160000]\tlr: 7.859e-03, eta: 1 day, 0:43:11, time: 0.727, data_time: 0.005, memory: 2073, decode.loss_ce: 0.1036, decode.acc_seg: 93.8571, aux_0.loss_ce: 0.1052, aux_0.acc_seg: 93.8737, aux_1.loss_ce: 0.1060, aux_1.acc_seg: 93.7469, aux_2.loss_ce: 0.0326, aux_2.loss_dice: 0.3160, aux_2.acc_seg: 99.3438, loss: 0.6633\n",
      "2022-03-28 23:45:29,546 - mmseg - INFO - Iter [38000/160000]\tlr: 7.856e-03, eta: 1 day, 0:42:34, time: 0.727, data_time: 0.005, memory: 2073, decode.loss_ce: 0.0942, decode.acc_seg: 94.5879, aux_0.loss_ce: 0.0953, aux_0.acc_seg: 94.5595, aux_1.loss_ce: 0.0955, aux_1.acc_seg: 94.4339, aux_2.loss_ce: 0.0330, aux_2.loss_dice: 0.3206, aux_2.acc_seg: 99.3227, loss: 0.6385\n",
      "2022-03-28 23:46:05,824 - mmseg - INFO - Iter [38050/160000]\tlr: 7.853e-03, eta: 1 day, 0:41:57, time: 0.725, data_time: 0.006, memory: 2073, decode.loss_ce: 0.0944, decode.acc_seg: 94.5626, aux_0.loss_ce: 0.0934, aux_0.acc_seg: 94.5434, aux_1.loss_ce: 0.0957, aux_1.acc_seg: 94.4913, aux_2.loss_ce: 0.0319, aux_2.loss_dice: 0.3282, aux_2.acc_seg: 99.3405, loss: 0.6435\n",
      "2022-03-28 23:46:39,579 - mmseg - INFO - Iter [38100/160000]\tlr: 7.851e-03, eta: 1 day, 0:41:12, time: 0.675, data_time: 0.006, memory: 2073, decode.loss_ce: 0.1067, decode.acc_seg: 93.7931, aux_0.loss_ce: 0.1078, aux_0.acc_seg: 93.7054, aux_1.loss_ce: 0.1086, aux_1.acc_seg: 93.6232, aux_2.loss_ce: 0.0346, aux_2.loss_dice: 0.3051, aux_2.acc_seg: 99.2883, loss: 0.6627\n",
      "2022-03-28 23:47:15,985 - mmseg - INFO - Iter [38150/160000]\tlr: 7.848e-03, eta: 1 day, 0:40:36, time: 0.728, data_time: 0.005, memory: 2073, decode.loss_ce: 0.1068, decode.acc_seg: 93.8930, aux_0.loss_ce: 0.1069, aux_0.acc_seg: 93.8798, aux_1.loss_ce: 0.1083, aux_1.acc_seg: 93.7267, aux_2.loss_ce: 0.0357, aux_2.loss_dice: 0.3208, aux_2.acc_seg: 99.2611, loss: 0.6785\n",
      "2022-03-28 23:47:52,392 - mmseg - INFO - Iter [38200/160000]\tlr: 7.845e-03, eta: 1 day, 0:39:59, time: 0.728, data_time: 0.006, memory: 2073, decode.loss_ce: 0.1056, decode.acc_seg: 93.6221, aux_0.loss_ce: 0.1054, aux_0.acc_seg: 93.5725, aux_1.loss_ce: 0.1070, aux_1.acc_seg: 93.4779, aux_2.loss_ce: 0.0365, aux_2.loss_dice: 0.3169, aux_2.acc_seg: 99.2469, loss: 0.6714\n",
      "2022-03-28 23:48:28,730 - mmseg - INFO - Iter [38250/160000]\tlr: 7.842e-03, eta: 1 day, 0:39:22, time: 0.727, data_time: 0.006, memory: 2073, decode.loss_ce: 0.1217, decode.acc_seg: 93.1568, aux_0.loss_ce: 0.1225, aux_0.acc_seg: 93.1218, aux_1.loss_ce: 0.1251, aux_1.acc_seg: 92.9496, aux_2.loss_ce: 0.0366, aux_2.loss_dice: 0.3268, aux_2.acc_seg: 99.2368, loss: 0.7326\n",
      "2022-03-28 23:49:07,915 - mmseg - INFO - Iter [38300/160000]\tlr: 7.839e-03, eta: 1 day, 0:38:54, time: 0.784, data_time: 0.063, memory: 2073, decode.loss_ce: 0.1046, decode.acc_seg: 94.0075, aux_0.loss_ce: 0.1050, aux_0.acc_seg: 93.9688, aux_1.loss_ce: 0.1067, aux_1.acc_seg: 93.8416, aux_2.loss_ce: 0.0338, aux_2.loss_dice: 0.3155, aux_2.acc_seg: 99.2975, loss: 0.6655\n",
      "2022-03-28 23:49:44,307 - mmseg - INFO - Iter [38350/160000]\tlr: 7.836e-03, eta: 1 day, 0:38:18, time: 0.728, data_time: 0.005, memory: 2073, decode.loss_ce: 0.0943, decode.acc_seg: 94.2612, aux_0.loss_ce: 0.0960, aux_0.acc_seg: 94.1999, aux_1.loss_ce: 0.0973, aux_1.acc_seg: 94.2035, aux_2.loss_ce: 0.0413, aux_2.loss_dice: 0.3689, aux_2.acc_seg: 99.2440, loss: 0.6979\n"
     ]
    },
    {
     "name": "stderr",
     "output_type": "stream",
     "text": [
      "2022-03-28 23:50:20,642 - mmseg - INFO - Iter [38400/160000]\tlr: 7.833e-03, eta: 1 day, 0:37:41, time: 0.726, data_time: 0.005, memory: 2073, decode.loss_ce: 0.1212, decode.acc_seg: 93.4022, aux_0.loss_ce: 0.1226, aux_0.acc_seg: 93.3425, aux_1.loss_ce: 0.1242, aux_1.acc_seg: 93.2484, aux_2.loss_ce: 0.0370, aux_2.loss_dice: 0.3496, aux_2.acc_seg: 99.2723, loss: 0.7545\n",
      "2022-03-28 23:50:57,016 - mmseg - INFO - Iter [38450/160000]\tlr: 7.831e-03, eta: 1 day, 0:37:04, time: 0.728, data_time: 0.006, memory: 2073, decode.loss_ce: 0.1012, decode.acc_seg: 94.0427, aux_0.loss_ce: 0.1028, aux_0.acc_seg: 94.0318, aux_1.loss_ce: 0.1051, aux_1.acc_seg: 93.9162, aux_2.loss_ce: 0.0352, aux_2.loss_dice: 0.2994, aux_2.acc_seg: 99.2847, loss: 0.6437\n",
      "2022-03-28 23:51:33,327 - mmseg - INFO - Iter [38500/160000]\tlr: 7.828e-03, eta: 1 day, 0:36:27, time: 0.726, data_time: 0.006, memory: 2073, decode.loss_ce: 0.1144, decode.acc_seg: 93.4371, aux_0.loss_ce: 0.1159, aux_0.acc_seg: 93.3642, aux_1.loss_ce: 0.1158, aux_1.acc_seg: 93.2832, aux_2.loss_ce: 0.0399, aux_2.loss_dice: 0.3455, aux_2.acc_seg: 99.2093, loss: 0.7315\n",
      "2022-03-28 23:52:09,540 - mmseg - INFO - Iter [38550/160000]\tlr: 7.825e-03, eta: 1 day, 0:35:50, time: 0.725, data_time: 0.006, memory: 2073, decode.loss_ce: 0.1117, decode.acc_seg: 93.6516, aux_0.loss_ce: 0.1078, aux_0.acc_seg: 93.6285, aux_1.loss_ce: 0.1117, aux_1.acc_seg: 93.5429, aux_2.loss_ce: 0.0373, aux_2.loss_dice: 0.3310, aux_2.acc_seg: 99.2682, loss: 0.6995\n",
      "2022-03-28 23:52:45,900 - mmseg - INFO - Iter [38600/160000]\tlr: 7.822e-03, eta: 1 day, 0:35:13, time: 0.727, data_time: 0.005, memory: 2073, decode.loss_ce: 0.1157, decode.acc_seg: 93.3636, aux_0.loss_ce: 0.1164, aux_0.acc_seg: 93.3456, aux_1.loss_ce: 0.1169, aux_1.acc_seg: 93.2904, aux_2.loss_ce: 0.0364, aux_2.loss_dice: 0.3572, aux_2.acc_seg: 99.2763, loss: 0.7427\n",
      "2022-03-28 23:53:22,252 - mmseg - INFO - Iter [38650/160000]\tlr: 7.819e-03, eta: 1 day, 0:34:36, time: 0.727, data_time: 0.005, memory: 2073, decode.loss_ce: 0.1030, decode.acc_seg: 93.8343, aux_0.loss_ce: 0.1036, aux_0.acc_seg: 93.7677, aux_1.loss_ce: 0.1039, aux_1.acc_seg: 93.7554, aux_2.loss_ce: 0.0374, aux_2.loss_dice: 0.3203, aux_2.acc_seg: 99.2335, loss: 0.6682\n",
      "2022-03-28 23:53:58,636 - mmseg - INFO - Iter [38700/160000]\tlr: 7.816e-03, eta: 1 day, 0:34:00, time: 0.728, data_time: 0.005, memory: 2073, decode.loss_ce: 0.1239, decode.acc_seg: 92.9812, aux_0.loss_ce: 0.1259, aux_0.acc_seg: 92.8862, aux_1.loss_ce: 0.1271, aux_1.acc_seg: 92.7472, aux_2.loss_ce: 0.0377, aux_2.loss_dice: 0.3376, aux_2.acc_seg: 99.2499, loss: 0.7521\n",
      "2022-03-28 23:54:32,266 - mmseg - INFO - Iter [38750/160000]\tlr: 7.813e-03, eta: 1 day, 0:33:14, time: 0.673, data_time: 0.006, memory: 2073, decode.loss_ce: 0.1000, decode.acc_seg: 94.2452, aux_0.loss_ce: 0.0986, aux_0.acc_seg: 94.1906, aux_1.loss_ce: 0.1008, aux_1.acc_seg: 94.0808, aux_2.loss_ce: 0.0338, aux_2.loss_dice: 0.3018, aux_2.acc_seg: 99.3065, loss: 0.6350\n",
      "2022-03-28 23:55:08,598 - mmseg - INFO - Iter [38800/160000]\tlr: 7.811e-03, eta: 1 day, 0:32:38, time: 0.726, data_time: 0.005, memory: 2073, decode.loss_ce: 0.1067, decode.acc_seg: 94.0812, aux_0.loss_ce: 0.1099, aux_0.acc_seg: 94.0065, aux_1.loss_ce: 0.1118, aux_1.acc_seg: 93.8711, aux_2.loss_ce: 0.0360, aux_2.loss_dice: 0.3265, aux_2.acc_seg: 99.2669, loss: 0.6909\n",
      "2022-03-28 23:55:44,994 - mmseg - INFO - Iter [38850/160000]\tlr: 7.808e-03, eta: 1 day, 0:32:01, time: 0.728, data_time: 0.006, memory: 2073, decode.loss_ce: 0.0761, decode.acc_seg: 95.4600, aux_0.loss_ce: 0.0761, aux_0.acc_seg: 95.4472, aux_1.loss_ce: 0.0773, aux_1.acc_seg: 95.3305, aux_2.loss_ce: 0.0324, aux_2.loss_dice: 0.3132, aux_2.acc_seg: 99.3349, loss: 0.5751\n",
      "2022-03-28 23:56:21,334 - mmseg - INFO - Iter [38900/160000]\tlr: 7.805e-03, eta: 1 day, 0:31:24, time: 0.726, data_time: 0.006, memory: 2073, decode.loss_ce: 0.0964, decode.acc_seg: 94.2435, aux_0.loss_ce: 0.0956, aux_0.acc_seg: 94.2010, aux_1.loss_ce: 0.0997, aux_1.acc_seg: 94.1573, aux_2.loss_ce: 0.0347, aux_2.loss_dice: 0.3191, aux_2.acc_seg: 99.2967, loss: 0.6456\n",
      "2022-03-28 23:56:57,636 - mmseg - INFO - Iter [38950/160000]\tlr: 7.802e-03, eta: 1 day, 0:30:47, time: 0.726, data_time: 0.006, memory: 2073, decode.loss_ce: 0.1070, decode.acc_seg: 94.1668, aux_0.loss_ce: 0.1075, aux_0.acc_seg: 94.1736, aux_1.loss_ce: 0.1072, aux_1.acc_seg: 94.1119, aux_2.loss_ce: 0.0344, aux_2.loss_dice: 0.3211, aux_2.acc_seg: 99.2863, loss: 0.6772\n",
      "2022-03-28 23:57:36,546 - mmseg - INFO - Iter [39000/160000]\tlr: 7.799e-03, eta: 1 day, 0:30:18, time: 0.778, data_time: 0.058, memory: 2073, decode.loss_ce: 0.1003, decode.acc_seg: 94.0007, aux_0.loss_ce: 0.1015, aux_0.acc_seg: 93.9848, aux_1.loss_ce: 0.1043, aux_1.acc_seg: 93.8793, aux_2.loss_ce: 0.0355, aux_2.loss_dice: 0.3307, aux_2.acc_seg: 99.2715, loss: 0.6722\n",
      "2022-03-28 23:58:12,801 - mmseg - INFO - Iter [39050/160000]\tlr: 7.796e-03, eta: 1 day, 0:29:41, time: 0.726, data_time: 0.006, memory: 2073, decode.loss_ce: 0.0936, decode.acc_seg: 94.7385, aux_0.loss_ce: 0.0933, aux_0.acc_seg: 94.7611, aux_1.loss_ce: 0.0930, aux_1.acc_seg: 94.6170, aux_2.loss_ce: 0.0365, aux_2.loss_dice: 0.3495, aux_2.acc_seg: 99.2961, loss: 0.6659\n",
      "2022-03-28 23:58:49,173 - mmseg - INFO - Iter [39100/160000]\tlr: 7.793e-03, eta: 1 day, 0:29:05, time: 0.727, data_time: 0.005, memory: 2073, decode.loss_ce: 0.1216, decode.acc_seg: 92.6569, aux_0.loss_ce: 0.1225, aux_0.acc_seg: 92.6202, aux_1.loss_ce: 0.1244, aux_1.acc_seg: 92.4712, aux_2.loss_ce: 0.0401, aux_2.loss_dice: 0.3445, aux_2.acc_seg: 99.2241, loss: 0.7532\n",
      "2022-03-28 23:59:25,532 - mmseg - INFO - Iter [39150/160000]\tlr: 7.790e-03, eta: 1 day, 0:28:28, time: 0.727, data_time: 0.006, memory: 2073, decode.loss_ce: 0.0946, decode.acc_seg: 94.6310, aux_0.loss_ce: 0.0935, aux_0.acc_seg: 94.6346, aux_1.loss_ce: 0.0961, aux_1.acc_seg: 94.5242, aux_2.loss_ce: 0.0349, aux_2.loss_dice: 0.3351, aux_2.acc_seg: 99.3021, loss: 0.6541\n",
      "2022-03-29 00:00:01,940 - mmseg - INFO - Iter [39200/160000]\tlr: 7.788e-03, eta: 1 day, 0:27:51, time: 0.728, data_time: 0.005, memory: 2073, decode.loss_ce: 0.1284, decode.acc_seg: 92.7235, aux_0.loss_ce: 0.1284, aux_0.acc_seg: 92.7307, aux_1.loss_ce: 0.1299, aux_1.acc_seg: 92.6440, aux_2.loss_ce: 0.0409, aux_2.loss_dice: 0.3448, aux_2.acc_seg: 99.1748, loss: 0.7724\n",
      "2022-03-29 00:00:38,280 - mmseg - INFO - Iter [39250/160000]\tlr: 7.785e-03, eta: 1 day, 0:27:15, time: 0.727, data_time: 0.005, memory: 2073, decode.loss_ce: 0.1206, decode.acc_seg: 92.8275, aux_0.loss_ce: 0.1215, aux_0.acc_seg: 92.7595, aux_1.loss_ce: 0.1247, aux_1.acc_seg: 92.6263, aux_2.loss_ce: 0.0407, aux_2.loss_dice: 0.3496, aux_2.acc_seg: 99.1660, loss: 0.7571\n",
      "2022-03-29 00:01:14,620 - mmseg - INFO - Iter [39300/160000]\tlr: 7.782e-03, eta: 1 day, 0:26:38, time: 0.727, data_time: 0.006, memory: 2073, decode.loss_ce: 0.1075, decode.acc_seg: 94.0586, aux_0.loss_ce: 0.1083, aux_0.acc_seg: 94.0437, aux_1.loss_ce: 0.1080, aux_1.acc_seg: 93.8981, aux_2.loss_ce: 0.0375, aux_2.loss_dice: 0.3325, aux_2.acc_seg: 99.2396, loss: 0.6937\n",
      "2022-03-29 00:01:50,982 - mmseg - INFO - Iter [39350/160000]\tlr: 7.779e-03, eta: 1 day, 0:26:01, time: 0.727, data_time: 0.005, memory: 2073, decode.loss_ce: 0.1052, decode.acc_seg: 94.1723, aux_0.loss_ce: 0.1050, aux_0.acc_seg: 94.1458, aux_1.loss_ce: 0.1080, aux_1.acc_seg: 94.1063, aux_2.loss_ce: 0.0345, aux_2.loss_dice: 0.3157, aux_2.acc_seg: 99.3207, loss: 0.6685\n",
      "2022-03-29 00:02:24,740 - mmseg - INFO - Iter [39400/160000]\tlr: 7.776e-03, eta: 1 day, 0:25:16, time: 0.676, data_time: 0.006, memory: 2073, decode.loss_ce: 0.1062, decode.acc_seg: 93.5299, aux_0.loss_ce: 0.1077, aux_0.acc_seg: 93.6175, aux_1.loss_ce: 0.1083, aux_1.acc_seg: 93.4762, aux_2.loss_ce: 0.0350, aux_2.loss_dice: 0.3289, aux_2.acc_seg: 99.2920, loss: 0.6862\n",
      "2022-03-29 00:03:01,147 - mmseg - INFO - Iter [39450/160000]\tlr: 7.773e-03, eta: 1 day, 0:24:40, time: 0.728, data_time: 0.006, memory: 2073, decode.loss_ce: 0.0928, decode.acc_seg: 94.6401, aux_0.loss_ce: 0.0922, aux_0.acc_seg: 94.6459, aux_1.loss_ce: 0.0960, aux_1.acc_seg: 94.5123, aux_2.loss_ce: 0.0334, aux_2.loss_dice: 0.3285, aux_2.acc_seg: 99.3358, loss: 0.6430\n",
      "2022-03-29 00:03:37,579 - mmseg - INFO - Iter [39500/160000]\tlr: 7.770e-03, eta: 1 day, 0:24:03, time: 0.729, data_time: 0.006, memory: 2073, decode.loss_ce: 0.0940, decode.acc_seg: 94.5086, aux_0.loss_ce: 0.0952, aux_0.acc_seg: 94.4459, aux_1.loss_ce: 0.0957, aux_1.acc_seg: 94.4410, aux_2.loss_ce: 0.0336, aux_2.loss_dice: 0.3224, aux_2.acc_seg: 99.3257, loss: 0.6410\n"
     ]
    },
    {
     "name": "stderr",
     "output_type": "stream",
     "text": [
      "2022-03-29 00:04:13,934 - mmseg - INFO - Iter [39550/160000]\tlr: 7.768e-03, eta: 1 day, 0:23:26, time: 0.727, data_time: 0.006, memory: 2073, decode.loss_ce: 0.1112, decode.acc_seg: 93.9209, aux_0.loss_ce: 0.1121, aux_0.acc_seg: 93.8942, aux_1.loss_ce: 0.1134, aux_1.acc_seg: 93.7779, aux_2.loss_ce: 0.0358, aux_2.loss_dice: 0.3362, aux_2.acc_seg: 99.2745, loss: 0.7086\n",
      "2022-03-29 00:04:50,282 - mmseg - INFO - Iter [39600/160000]\tlr: 7.765e-03, eta: 1 day, 0:22:50, time: 0.727, data_time: 0.006, memory: 2073, decode.loss_ce: 0.1115, decode.acc_seg: 93.5516, aux_0.loss_ce: 0.1128, aux_0.acc_seg: 93.5405, aux_1.loss_ce: 0.1155, aux_1.acc_seg: 93.4240, aux_2.loss_ce: 0.0361, aux_2.loss_dice: 0.3219, aux_2.acc_seg: 99.2787, loss: 0.6977\n",
      "2022-03-29 00:05:26,688 - mmseg - INFO - Iter [39650/160000]\tlr: 7.762e-03, eta: 1 day, 0:22:13, time: 0.728, data_time: 0.005, memory: 2073, decode.loss_ce: 0.1058, decode.acc_seg: 93.6976, aux_0.loss_ce: 0.1056, aux_0.acc_seg: 93.6954, aux_1.loss_ce: 0.1058, aux_1.acc_seg: 93.6899, aux_2.loss_ce: 0.0347, aux_2.loss_dice: 0.3109, aux_2.acc_seg: 99.2854, loss: 0.6628\n",
      "2022-03-29 00:06:05,601 - mmseg - INFO - Iter [39700/160000]\tlr: 7.759e-03, eta: 1 day, 0:21:44, time: 0.778, data_time: 0.057, memory: 2073, decode.loss_ce: 0.0975, decode.acc_seg: 94.5176, aux_0.loss_ce: 0.0976, aux_0.acc_seg: 94.5168, aux_1.loss_ce: 0.1000, aux_1.acc_seg: 94.3287, aux_2.loss_ce: 0.0349, aux_2.loss_dice: 0.2973, aux_2.acc_seg: 99.2925, loss: 0.6273\n",
      "2022-03-29 00:06:41,944 - mmseg - INFO - Iter [39750/160000]\tlr: 7.756e-03, eta: 1 day, 0:21:07, time: 0.727, data_time: 0.005, memory: 2073, decode.loss_ce: 0.1015, decode.acc_seg: 94.0767, aux_0.loss_ce: 0.1032, aux_0.acc_seg: 94.0630, aux_1.loss_ce: 0.1042, aux_1.acc_seg: 94.0010, aux_2.loss_ce: 0.0358, aux_2.loss_dice: 0.3178, aux_2.acc_seg: 99.2512, loss: 0.6625\n",
      "2022-03-29 00:07:18,259 - mmseg - INFO - Iter [39800/160000]\tlr: 7.753e-03, eta: 1 day, 0:20:30, time: 0.726, data_time: 0.005, memory: 2073, decode.loss_ce: 0.0805, decode.acc_seg: 95.3644, aux_0.loss_ce: 0.0812, aux_0.acc_seg: 95.3692, aux_1.loss_ce: 0.0820, aux_1.acc_seg: 95.3007, aux_2.loss_ce: 0.0333, aux_2.loss_dice: 0.3203, aux_2.acc_seg: 99.3321, loss: 0.5972\n",
      "2022-03-29 00:07:54,616 - mmseg - INFO - Iter [39850/160000]\tlr: 7.750e-03, eta: 1 day, 0:19:54, time: 0.727, data_time: 0.006, memory: 2073, decode.loss_ce: 0.1138, decode.acc_seg: 93.4105, aux_0.loss_ce: 0.1134, aux_0.acc_seg: 93.3925, aux_1.loss_ce: 0.1167, aux_1.acc_seg: 93.2696, aux_2.loss_ce: 0.0384, aux_2.loss_dice: 0.3312, aux_2.acc_seg: 99.2071, loss: 0.7134\n",
      "2022-03-29 00:08:30,941 - mmseg - INFO - Iter [39900/160000]\tlr: 7.747e-03, eta: 1 day, 0:19:17, time: 0.727, data_time: 0.006, memory: 2073, decode.loss_ce: 0.1036, decode.acc_seg: 94.2248, aux_0.loss_ce: 0.1053, aux_0.acc_seg: 94.1771, aux_1.loss_ce: 0.1082, aux_1.acc_seg: 94.0224, aux_2.loss_ce: 0.0345, aux_2.loss_dice: 0.3362, aux_2.acc_seg: 99.2827, loss: 0.6879\n",
      "2022-03-29 00:09:07,295 - mmseg - INFO - Iter [39950/160000]\tlr: 7.745e-03, eta: 1 day, 0:18:40, time: 0.727, data_time: 0.005, memory: 2073, decode.loss_ce: 0.1005, decode.acc_seg: 94.0327, aux_0.loss_ce: 0.1007, aux_0.acc_seg: 93.9993, aux_1.loss_ce: 0.1025, aux_1.acc_seg: 93.9108, aux_2.loss_ce: 0.0335, aux_2.loss_dice: 0.3148, aux_2.acc_seg: 99.3107, loss: 0.6520\n",
      "2022-03-29 00:09:43,515 - mmseg - INFO - Saving checkpoint at 40000 iterations\n",
      "2022-03-29 00:09:43,731 - mmseg - INFO - Iter [40000/160000]\tlr: 7.742e-03, eta: 1 day, 0:18:04, time: 0.730, data_time: 0.005, memory: 2073, decode.loss_ce: 0.0947, decode.acc_seg: 94.3929, aux_0.loss_ce: 0.0956, aux_0.acc_seg: 94.3187, aux_1.loss_ce: 0.0972, aux_1.acc_seg: 94.2196, aux_2.loss_ce: 0.0358, aux_2.loss_dice: 0.3181, aux_2.acc_seg: 99.2656, loss: 0.6414\n"
     ]
    },
    {
     "name": "stdout",
     "output_type": "stream",
     "text": [
      "[>>>>>>>>>>>>>>>>>>>>>>>>>>>>>] 610/610, 29.4 task/s, elapsed: 21s, ETA:     0s"
     ]
    },
    {
     "name": "stderr",
     "output_type": "stream",
     "text": [
      "2022-03-29 00:10:04,550 - mmseg - INFO - per class results:\n",
      "2022-03-29 00:10:04,551 - mmseg - INFO - \n",
      "+------------+-------+-------+\n",
      "|   Class    |  IoU  |  Acc  |\n",
      "+------------+-------+-------+\n",
      "| background | 96.45 |  99.4 |\n",
      "|   human    | 39.62 | 43.94 |\n",
      "+------------+-------+-------+\n",
      "2022-03-29 00:10:04,551 - mmseg - INFO - Summary:\n",
      "2022-03-29 00:10:04,551 - mmseg - INFO - \n",
      "+-------+-------+-------+\n",
      "|  aAcc |  mIoU |  mAcc |\n",
      "+-------+-------+-------+\n",
      "| 96.53 | 68.03 | 71.67 |\n",
      "+-------+-------+-------+\n",
      "2022-03-29 00:10:04,554 - mmseg - INFO - Iter(val) [610]\taAcc: 0.9653, mIoU: 0.6803, mAcc: 0.7167, IoU.background: 0.9645, IoU.human: 0.3962, Acc.background: 0.9940, Acc.human: 0.4394\n",
      "2022-03-29 00:10:40,964 - mmseg - INFO - Iter [40050/160000]\tlr: 7.739e-03, eta: 1 day, 0:18:29, time: 1.143, data_time: 0.420, memory: 2073, decode.loss_ce: 0.0959, decode.acc_seg: 94.4784, aux_0.loss_ce: 0.0975, aux_0.acc_seg: 94.3909, aux_1.loss_ce: 0.0984, aux_1.acc_seg: 94.2994, aux_2.loss_ce: 0.0346, aux_2.loss_dice: 0.3087, aux_2.acc_seg: 99.2822, loss: 0.6352\n",
      "2022-03-29 00:11:17,303 - mmseg - INFO - Iter [40100/160000]\tlr: 7.736e-03, eta: 1 day, 0:17:53, time: 0.727, data_time: 0.006, memory: 2073, decode.loss_ce: 0.0949, decode.acc_seg: 94.6517, aux_0.loss_ce: 0.0942, aux_0.acc_seg: 94.6603, aux_1.loss_ce: 0.0965, aux_1.acc_seg: 94.5857, aux_2.loss_ce: 0.0347, aux_2.loss_dice: 0.3156, aux_2.acc_seg: 99.2823, loss: 0.6359\n",
      "2022-03-29 00:11:53,700 - mmseg - INFO - Iter [40150/160000]\tlr: 7.733e-03, eta: 1 day, 0:17:16, time: 0.728, data_time: 0.005, memory: 2073, decode.loss_ce: 0.1057, decode.acc_seg: 93.7691, aux_0.loss_ce: 0.1053, aux_0.acc_seg: 93.7535, aux_1.loss_ce: 0.1120, aux_1.acc_seg: 93.6364, aux_2.loss_ce: 0.0347, aux_2.loss_dice: 0.3247, aux_2.acc_seg: 99.2912, loss: 0.6824\n",
      "2022-03-29 00:12:30,064 - mmseg - INFO - Iter [40200/160000]\tlr: 7.730e-03, eta: 1 day, 0:16:39, time: 0.727, data_time: 0.006, memory: 2073, decode.loss_ce: 0.0979, decode.acc_seg: 94.3548, aux_0.loss_ce: 0.0984, aux_0.acc_seg: 94.3295, aux_1.loss_ce: 0.0943, aux_1.acc_seg: 94.3081, aux_2.loss_ce: 0.0337, aux_2.loss_dice: 0.3137, aux_2.acc_seg: 99.3066, loss: 0.6381\n",
      "2022-03-29 00:13:06,444 - mmseg - INFO - Iter [40250/160000]\tlr: 7.727e-03, eta: 1 day, 0:16:02, time: 0.728, data_time: 0.006, memory: 2073, decode.loss_ce: 0.1045, decode.acc_seg: 94.1564, aux_0.loss_ce: 0.1069, aux_0.acc_seg: 94.1365, aux_1.loss_ce: 0.1071, aux_1.acc_seg: 94.0697, aux_2.loss_ce: 0.0350, aux_2.loss_dice: 0.3073, aux_2.acc_seg: 99.2598, loss: 0.6610\n",
      "2022-03-29 00:13:42,840 - mmseg - INFO - Iter [40300/160000]\tlr: 7.725e-03, eta: 1 day, 0:15:26, time: 0.728, data_time: 0.006, memory: 2073, decode.loss_ce: 0.1002, decode.acc_seg: 93.8863, aux_0.loss_ce: 0.0979, aux_0.acc_seg: 93.9377, aux_1.loss_ce: 0.1006, aux_1.acc_seg: 93.7945, aux_2.loss_ce: 0.0330, aux_2.loss_dice: 0.3189, aux_2.acc_seg: 99.3258, loss: 0.6505\n",
      "2022-03-29 00:14:19,193 - mmseg - INFO - Iter [40350/160000]\tlr: 7.722e-03, eta: 1 day, 0:14:49, time: 0.727, data_time: 0.006, memory: 2073, decode.loss_ce: 0.1063, decode.acc_seg: 94.0313, aux_0.loss_ce: 0.1070, aux_0.acc_seg: 93.9912, aux_1.loss_ce: 0.1095, aux_1.acc_seg: 93.8608, aux_2.loss_ce: 0.0348, aux_2.loss_dice: 0.3260, aux_2.acc_seg: 99.2883, loss: 0.6836\n",
      "2022-03-29 00:14:58,055 - mmseg - INFO - Iter [40400/160000]\tlr: 7.719e-03, eta: 1 day, 0:14:19, time: 0.777, data_time: 0.057, memory: 2073, decode.loss_ce: 0.0986, decode.acc_seg: 94.6021, aux_0.loss_ce: 0.0992, aux_0.acc_seg: 94.5860, aux_1.loss_ce: 0.1008, aux_1.acc_seg: 94.4911, aux_2.loss_ce: 0.0324, aux_2.loss_dice: 0.3233, aux_2.acc_seg: 99.3464, loss: 0.6543\n",
      "2022-03-29 00:15:34,417 - mmseg - INFO - Iter [40450/160000]\tlr: 7.716e-03, eta: 1 day, 0:13:42, time: 0.727, data_time: 0.006, memory: 2073, decode.loss_ce: 0.1019, decode.acc_seg: 94.0152, aux_0.loss_ce: 0.1042, aux_0.acc_seg: 93.9416, aux_1.loss_ce: 0.1050, aux_1.acc_seg: 93.8877, aux_2.loss_ce: 0.0372, aux_2.loss_dice: 0.3361, aux_2.acc_seg: 99.2353, loss: 0.6844\n",
      "2022-03-29 00:16:10,751 - mmseg - INFO - Iter [40500/160000]\tlr: 7.713e-03, eta: 1 day, 0:13:05, time: 0.727, data_time: 0.006, memory: 2073, decode.loss_ce: 0.1006, decode.acc_seg: 94.4806, aux_0.loss_ce: 0.1014, aux_0.acc_seg: 94.4576, aux_1.loss_ce: 0.1025, aux_1.acc_seg: 94.3422, aux_2.loss_ce: 0.0345, aux_2.loss_dice: 0.2954, aux_2.acc_seg: 99.2969, loss: 0.6344\n",
      "2022-03-29 00:16:47,114 - mmseg - INFO - Iter [40550/160000]\tlr: 7.710e-03, eta: 1 day, 0:12:29, time: 0.727, data_time: 0.006, memory: 2073, decode.loss_ce: 0.0875, decode.acc_seg: 94.7221, aux_0.loss_ce: 0.0877, aux_0.acc_seg: 94.7236, aux_1.loss_ce: 0.0897, aux_1.acc_seg: 94.5890, aux_2.loss_ce: 0.0366, aux_2.loss_dice: 0.3148, aux_2.acc_seg: 99.2522, loss: 0.6164\n",
      "2022-03-29 00:17:23,419 - mmseg - INFO - Iter [40600/160000]\tlr: 7.707e-03, eta: 1 day, 0:11:52, time: 0.727, data_time: 0.006, memory: 2073, decode.loss_ce: 0.0911, decode.acc_seg: 94.8436, aux_0.loss_ce: 0.0901, aux_0.acc_seg: 94.8217, aux_1.loss_ce: 0.0938, aux_1.acc_seg: 94.6645, aux_2.loss_ce: 0.0340, aux_2.loss_dice: 0.3001, aux_2.acc_seg: 99.3071, loss: 0.6092\n",
      "2022-03-29 00:17:57,217 - mmseg - INFO - Iter [40650/160000]\tlr: 7.705e-03, eta: 1 day, 0:11:07, time: 0.676, data_time: 0.006, memory: 2073, decode.loss_ce: 0.0900, decode.acc_seg: 94.8067, aux_0.loss_ce: 0.0909, aux_0.acc_seg: 94.7811, aux_1.loss_ce: 0.0929, aux_1.acc_seg: 94.7040, aux_2.loss_ce: 0.0353, aux_2.loss_dice: 0.3193, aux_2.acc_seg: 99.2854, loss: 0.6284\n",
      "2022-03-29 00:18:33,566 - mmseg - INFO - Iter [40700/160000]\tlr: 7.702e-03, eta: 1 day, 0:10:30, time: 0.726, data_time: 0.006, memory: 2073, decode.loss_ce: 0.1274, decode.acc_seg: 92.9049, aux_0.loss_ce: 0.1286, aux_0.acc_seg: 92.8196, aux_1.loss_ce: 0.1303, aux_1.acc_seg: 92.6932, aux_2.loss_ce: 0.0370, aux_2.loss_dice: 0.3122, aux_2.acc_seg: 99.2442, loss: 0.7356\n",
      "2022-03-29 00:19:10,034 - mmseg - INFO - Iter [40750/160000]\tlr: 7.699e-03, eta: 1 day, 0:09:54, time: 0.730, data_time: 0.006, memory: 2073, decode.loss_ce: 0.0936, decode.acc_seg: 94.4405, aux_0.loss_ce: 0.0936, aux_0.acc_seg: 94.5089, aux_1.loss_ce: 0.0949, aux_1.acc_seg: 94.3308, aux_2.loss_ce: 0.0331, aux_2.loss_dice: 0.3106, aux_2.acc_seg: 99.3288, loss: 0.6257\n",
      "2022-03-29 00:19:46,370 - mmseg - INFO - Iter [40800/160000]\tlr: 7.696e-03, eta: 1 day, 0:09:17, time: 0.727, data_time: 0.006, memory: 2073, decode.loss_ce: 0.0946, decode.acc_seg: 94.6045, aux_0.loss_ce: 0.0963, aux_0.acc_seg: 94.5610, aux_1.loss_ce: 0.0980, aux_1.acc_seg: 94.4088, aux_2.loss_ce: 0.0361, aux_2.loss_dice: 0.3152, aux_2.acc_seg: 99.2629, loss: 0.6401\n",
      "2022-03-29 00:20:22,639 - mmseg - INFO - Iter [40850/160000]\tlr: 7.693e-03, eta: 1 day, 0:08:40, time: 0.726, data_time: 0.006, memory: 2073, decode.loss_ce: 0.0968, decode.acc_seg: 94.6078, aux_0.loss_ce: 0.0965, aux_0.acc_seg: 94.5461, aux_1.loss_ce: 0.0964, aux_1.acc_seg: 94.4549, aux_2.loss_ce: 0.0333, aux_2.loss_dice: 0.3146, aux_2.acc_seg: 99.3179, loss: 0.6376\n",
      "2022-03-29 00:20:58,974 - mmseg - INFO - Iter [40900/160000]\tlr: 7.690e-03, eta: 1 day, 0:08:03, time: 0.727, data_time: 0.005, memory: 2073, decode.loss_ce: 0.0952, decode.acc_seg: 94.1251, aux_0.loss_ce: 0.0954, aux_0.acc_seg: 94.1462, aux_1.loss_ce: 0.1015, aux_1.acc_seg: 94.0101, aux_2.loss_ce: 0.0361, aux_2.loss_dice: 0.3190, aux_2.acc_seg: 99.2472, loss: 0.6471\n",
      "2022-03-29 00:21:35,380 - mmseg - INFO - Iter [40950/160000]\tlr: 7.687e-03, eta: 1 day, 0:07:27, time: 0.728, data_time: 0.006, memory: 2073, decode.loss_ce: 0.0961, decode.acc_seg: 94.2864, aux_0.loss_ce: 0.0969, aux_0.acc_seg: 94.2246, aux_1.loss_ce: 0.0980, aux_1.acc_seg: 94.0766, aux_2.loss_ce: 0.0349, aux_2.loss_dice: 0.3144, aux_2.acc_seg: 99.2990, loss: 0.6402\n",
      "2022-03-29 00:22:11,777 - mmseg - INFO - Iter [41000/160000]\tlr: 7.684e-03, eta: 1 day, 0:06:50, time: 0.728, data_time: 0.005, memory: 2073, decode.loss_ce: 0.1155, decode.acc_seg: 93.8345, aux_0.loss_ce: 0.1126, aux_0.acc_seg: 93.7817, aux_1.loss_ce: 0.1175, aux_1.acc_seg: 93.6699, aux_2.loss_ce: 0.0360, aux_2.loss_dice: 0.3231, aux_2.acc_seg: 99.2532, loss: 0.7047\n",
      "2022-03-29 00:22:48,145 - mmseg - INFO - Iter [41050/160000]\tlr: 7.682e-03, eta: 1 day, 0:06:13, time: 0.727, data_time: 0.005, memory: 2073, decode.loss_ce: 0.1016, decode.acc_seg: 94.1128, aux_0.loss_ce: 0.1045, aux_0.acc_seg: 94.0458, aux_1.loss_ce: 0.1047, aux_1.acc_seg: 93.9375, aux_2.loss_ce: 0.0369, aux_2.loss_dice: 0.3196, aux_2.acc_seg: 99.2265, loss: 0.6673\n"
     ]
    },
    {
     "name": "stderr",
     "output_type": "stream",
     "text": [
      "2022-03-29 00:23:27,205 - mmseg - INFO - Iter [41100/160000]\tlr: 7.679e-03, eta: 1 day, 0:05:44, time: 0.781, data_time: 0.058, memory: 2073, decode.loss_ce: 0.0816, decode.acc_seg: 95.1944, aux_0.loss_ce: 0.0813, aux_0.acc_seg: 95.1557, aux_1.loss_ce: 0.0835, aux_1.acc_seg: 95.0799, aux_2.loss_ce: 0.0343, aux_2.loss_dice: 0.3193, aux_2.acc_seg: 99.2865, loss: 0.6000\n",
      "2022-03-29 00:24:03,474 - mmseg - INFO - Iter [41150/160000]\tlr: 7.676e-03, eta: 1 day, 0:05:07, time: 0.726, data_time: 0.006, memory: 2073, decode.loss_ce: 0.1016, decode.acc_seg: 94.0026, aux_0.loss_ce: 0.1029, aux_0.acc_seg: 93.9782, aux_1.loss_ce: 0.1050, aux_1.acc_seg: 93.7918, aux_2.loss_ce: 0.0358, aux_2.loss_dice: 0.3343, aux_2.acc_seg: 99.2610, loss: 0.6797\n",
      "2022-03-29 00:24:39,860 - mmseg - INFO - Iter [41200/160000]\tlr: 7.673e-03, eta: 1 day, 0:04:30, time: 0.728, data_time: 0.005, memory: 2073, decode.loss_ce: 0.1211, decode.acc_seg: 92.9528, aux_0.loss_ce: 0.1223, aux_0.acc_seg: 92.9079, aux_1.loss_ce: 0.1250, aux_1.acc_seg: 92.7854, aux_2.loss_ce: 0.0375, aux_2.loss_dice: 0.3282, aux_2.acc_seg: 99.2301, loss: 0.7340\n",
      "2022-03-29 00:25:16,286 - mmseg - INFO - Iter [41250/160000]\tlr: 7.670e-03, eta: 1 day, 0:03:54, time: 0.729, data_time: 0.005, memory: 2073, decode.loss_ce: 0.1100, decode.acc_seg: 93.6254, aux_0.loss_ce: 0.1101, aux_0.acc_seg: 93.6306, aux_1.loss_ce: 0.1104, aux_1.acc_seg: 93.5966, aux_2.loss_ce: 0.0352, aux_2.loss_dice: 0.3186, aux_2.acc_seg: 99.2865, loss: 0.6841\n",
      "2022-03-29 00:25:50,138 - mmseg - INFO - Iter [41300/160000]\tlr: 7.667e-03, eta: 1 day, 0:03:10, time: 0.677, data_time: 0.005, memory: 2073, decode.loss_ce: 0.1071, decode.acc_seg: 93.7706, aux_0.loss_ce: 0.1070, aux_0.acc_seg: 93.7479, aux_1.loss_ce: 0.1094, aux_1.acc_seg: 93.5744, aux_2.loss_ce: 0.0368, aux_2.loss_dice: 0.3311, aux_2.acc_seg: 99.2509, loss: 0.6913\n",
      "2022-03-29 00:26:26,564 - mmseg - INFO - Iter [41350/160000]\tlr: 7.664e-03, eta: 1 day, 0:02:33, time: 0.729, data_time: 0.006, memory: 2073, decode.loss_ce: 0.0985, decode.acc_seg: 94.4726, aux_0.loss_ce: 0.1009, aux_0.acc_seg: 94.4505, aux_1.loss_ce: 0.1007, aux_1.acc_seg: 94.3847, aux_2.loss_ce: 0.0355, aux_2.loss_dice: 0.3195, aux_2.acc_seg: 99.2834, loss: 0.6552\n",
      "2022-03-29 00:27:02,879 - mmseg - INFO - Iter [41400/160000]\tlr: 7.661e-03, eta: 1 day, 0:01:56, time: 0.726, data_time: 0.006, memory: 2073, decode.loss_ce: 0.0916, decode.acc_seg: 94.8976, aux_0.loss_ce: 0.0918, aux_0.acc_seg: 94.8809, aux_1.loss_ce: 0.0942, aux_1.acc_seg: 94.7644, aux_2.loss_ce: 0.0339, aux_2.loss_dice: 0.3263, aux_2.acc_seg: 99.3097, loss: 0.6378\n",
      "2022-03-29 00:27:39,163 - mmseg - INFO - Iter [41450/160000]\tlr: 7.659e-03, eta: 1 day, 0:01:19, time: 0.726, data_time: 0.006, memory: 2073, decode.loss_ce: 0.1024, decode.acc_seg: 93.7962, aux_0.loss_ce: 0.1030, aux_0.acc_seg: 93.7623, aux_1.loss_ce: 0.1061, aux_1.acc_seg: 93.5603, aux_2.loss_ce: 0.0367, aux_2.loss_dice: 0.3202, aux_2.acc_seg: 99.2480, loss: 0.6684\n",
      "2022-03-29 00:28:15,506 - mmseg - INFO - Iter [41500/160000]\tlr: 7.656e-03, eta: 1 day, 0:00:42, time: 0.727, data_time: 0.005, memory: 2073, decode.loss_ce: 0.1088, decode.acc_seg: 93.7750, aux_0.loss_ce: 0.1097, aux_0.acc_seg: 93.7303, aux_1.loss_ce: 0.1106, aux_1.acc_seg: 93.7185, aux_2.loss_ce: 0.0333, aux_2.loss_dice: 0.3085, aux_2.acc_seg: 99.3099, loss: 0.6708\n",
      "2022-03-29 00:28:51,810 - mmseg - INFO - Iter [41550/160000]\tlr: 7.653e-03, eta: 1 day, 0:00:05, time: 0.726, data_time: 0.005, memory: 2073, decode.loss_ce: 0.0965, decode.acc_seg: 94.3398, aux_0.loss_ce: 0.0979, aux_0.acc_seg: 94.3296, aux_1.loss_ce: 0.1005, aux_1.acc_seg: 94.1204, aux_2.loss_ce: 0.0335, aux_2.loss_dice: 0.3045, aux_2.acc_seg: 99.3115, loss: 0.6329\n",
      "2022-03-29 00:29:28,170 - mmseg - INFO - Iter [41600/160000]\tlr: 7.650e-03, eta: 23:59:28, time: 0.727, data_time: 0.005, memory: 2073, decode.loss_ce: 0.0959, decode.acc_seg: 94.4983, aux_0.loss_ce: 0.0955, aux_0.acc_seg: 94.4905, aux_1.loss_ce: 0.0991, aux_1.acc_seg: 94.3719, aux_2.loss_ce: 0.0368, aux_2.loss_dice: 0.3162, aux_2.acc_seg: 99.2303, loss: 0.6435\n",
      "2022-03-29 00:30:04,541 - mmseg - INFO - Iter [41650/160000]\tlr: 7.647e-03, eta: 23:58:52, time: 0.727, data_time: 0.006, memory: 2073, decode.loss_ce: 0.0903, decode.acc_seg: 94.7470, aux_0.loss_ce: 0.0918, aux_0.acc_seg: 94.7577, aux_1.loss_ce: 0.0909, aux_1.acc_seg: 94.6163, aux_2.loss_ce: 0.0329, aux_2.loss_dice: 0.2921, aux_2.acc_seg: 99.3312, loss: 0.5980\n",
      "2022-03-29 00:30:40,618 - mmseg - INFO - Iter [41700/160000]\tlr: 7.644e-03, eta: 23:58:14, time: 0.722, data_time: 0.006, memory: 2073, decode.loss_ce: 0.0855, decode.acc_seg: 94.8862, aux_0.loss_ce: 0.0861, aux_0.acc_seg: 94.8379, aux_1.loss_ce: 0.0888, aux_1.acc_seg: 94.7431, aux_2.loss_ce: 0.0334, aux_2.loss_dice: 0.3086, aux_2.acc_seg: 99.3258, loss: 0.6023\n",
      "2022-03-29 00:31:09,615 - mmseg - INFO - Iter [41750/160000]\tlr: 7.641e-03, eta: 23:57:16, time: 0.579, data_time: 0.006, memory: 2073, decode.loss_ce: 0.0927, decode.acc_seg: 94.8812, aux_0.loss_ce: 0.0919, aux_0.acc_seg: 94.8981, aux_1.loss_ce: 0.0955, aux_1.acc_seg: 94.7211, aux_2.loss_ce: 0.0328, aux_2.loss_dice: 0.3035, aux_2.acc_seg: 99.3364, loss: 0.6164\n",
      "2022-03-29 00:31:48,566 - mmseg - INFO - Iter [41800/160000]\tlr: 7.639e-03, eta: 23:56:47, time: 0.780, data_time: 0.059, memory: 2073, decode.loss_ce: 0.0847, decode.acc_seg: 94.8474, aux_0.loss_ce: 0.0870, aux_0.acc_seg: 94.8169, aux_1.loss_ce: 0.0886, aux_1.acc_seg: 94.7484, aux_2.loss_ce: 0.0311, aux_2.loss_dice: 0.2968, aux_2.acc_seg: 99.3742, loss: 0.5882\n",
      "2022-03-29 00:32:24,959 - mmseg - INFO - Iter [41850/160000]\tlr: 7.636e-03, eta: 23:56:10, time: 0.728, data_time: 0.005, memory: 2073, decode.loss_ce: 0.0934, decode.acc_seg: 94.5577, aux_0.loss_ce: 0.0928, aux_0.acc_seg: 94.5556, aux_1.loss_ce: 0.0935, aux_1.acc_seg: 94.4775, aux_2.loss_ce: 0.0357, aux_2.loss_dice: 0.3305, aux_2.acc_seg: 99.2581, loss: 0.6460\n",
      "2022-03-29 00:33:01,286 - mmseg - INFO - Iter [41900/160000]\tlr: 7.633e-03, eta: 23:55:33, time: 0.727, data_time: 0.006, memory: 2073, decode.loss_ce: 0.1207, decode.acc_seg: 93.1537, aux_0.loss_ce: 0.1197, aux_0.acc_seg: 93.1682, aux_1.loss_ce: 0.1239, aux_1.acc_seg: 93.0546, aux_2.loss_ce: 0.0373, aux_2.loss_dice: 0.3147, aux_2.acc_seg: 99.2218, loss: 0.7162\n",
      "2022-03-29 00:33:36,870 - mmseg - INFO - Iter [41950/160000]\tlr: 7.630e-03, eta: 23:54:55, time: 0.712, data_time: 0.005, memory: 2073, decode.loss_ce: 0.1063, decode.acc_seg: 94.1016, aux_0.loss_ce: 0.1063, aux_0.acc_seg: 94.1355, aux_1.loss_ce: 0.1067, aux_1.acc_seg: 94.0932, aux_2.loss_ce: 0.0355, aux_2.loss_dice: 0.3215, aux_2.acc_seg: 99.2763, loss: 0.6762\n",
      "2022-03-29 00:34:11,307 - mmseg - INFO - Iter [42000/160000]\tlr: 7.627e-03, eta: 23:54:12, time: 0.688, data_time: 0.005, memory: 2073, decode.loss_ce: 0.0927, decode.acc_seg: 94.7218, aux_0.loss_ce: 0.0941, aux_0.acc_seg: 94.7035, aux_1.loss_ce: 0.0962, aux_1.acc_seg: 94.5592, aux_2.loss_ce: 0.0339, aux_2.loss_dice: 0.2983, aux_2.acc_seg: 99.2930, loss: 0.6152\n",
      "2022-03-29 00:34:47,700 - mmseg - INFO - Iter [42050/160000]\tlr: 7.624e-03, eta: 23:53:36, time: 0.728, data_time: 0.005, memory: 2073, decode.loss_ce: 0.1038, decode.acc_seg: 93.8100, aux_0.loss_ce: 0.1033, aux_0.acc_seg: 93.7754, aux_1.loss_ce: 0.1056, aux_1.acc_seg: 93.6360, aux_2.loss_ce: 0.0381, aux_2.loss_dice: 0.3164, aux_2.acc_seg: 99.2132, loss: 0.6671\n",
      "2022-03-29 00:35:24,036 - mmseg - INFO - Iter [42100/160000]\tlr: 7.621e-03, eta: 23:52:59, time: 0.727, data_time: 0.005, memory: 2073, decode.loss_ce: 0.0893, decode.acc_seg: 94.6656, aux_0.loss_ce: 0.0910, aux_0.acc_seg: 94.6344, aux_1.loss_ce: 0.0934, aux_1.acc_seg: 94.5614, aux_2.loss_ce: 0.0338, aux_2.loss_dice: 0.3014, aux_2.acc_seg: 99.2879, loss: 0.6089\n",
      "2022-03-29 00:36:00,283 - mmseg - INFO - Iter [42150/160000]\tlr: 7.618e-03, eta: 23:52:22, time: 0.725, data_time: 0.006, memory: 2073, decode.loss_ce: 0.0950, decode.acc_seg: 94.3292, aux_0.loss_ce: 0.0948, aux_0.acc_seg: 94.3055, aux_1.loss_ce: 0.0956, aux_1.acc_seg: 94.2146, aux_2.loss_ce: 0.0349, aux_2.loss_dice: 0.3133, aux_2.acc_seg: 99.2730, loss: 0.6336\n",
      "2022-03-29 00:36:36,570 - mmseg - INFO - Iter [42200/160000]\tlr: 7.616e-03, eta: 23:51:45, time: 0.726, data_time: 0.006, memory: 2073, decode.loss_ce: 0.0945, decode.acc_seg: 94.9315, aux_0.loss_ce: 0.0973, aux_0.acc_seg: 94.8869, aux_1.loss_ce: 0.0985, aux_1.acc_seg: 94.8117, aux_2.loss_ce: 0.0323, aux_2.loss_dice: 0.3074, aux_2.acc_seg: 99.3312, loss: 0.6300\n"
     ]
    },
    {
     "name": "stderr",
     "output_type": "stream",
     "text": [
      "2022-03-29 00:37:12,874 - mmseg - INFO - Iter [42250/160000]\tlr: 7.613e-03, eta: 23:51:08, time: 0.726, data_time: 0.005, memory: 2073, decode.loss_ce: 0.1001, decode.acc_seg: 94.1272, aux_0.loss_ce: 0.1005, aux_0.acc_seg: 94.0509, aux_1.loss_ce: 0.1008, aux_1.acc_seg: 94.0374, aux_2.loss_ce: 0.0344, aux_2.loss_dice: 0.3233, aux_2.acc_seg: 99.3029, loss: 0.6590\n",
      "2022-03-29 00:37:49,259 - mmseg - INFO - Iter [42300/160000]\tlr: 7.610e-03, eta: 23:50:31, time: 0.728, data_time: 0.006, memory: 2073, decode.loss_ce: 0.1146, decode.acc_seg: 93.2565, aux_0.loss_ce: 0.1162, aux_0.acc_seg: 93.2605, aux_1.loss_ce: 0.1168, aux_1.acc_seg: 93.1962, aux_2.loss_ce: 0.0368, aux_2.loss_dice: 0.3193, aux_2.acc_seg: 99.2461, loss: 0.7037\n",
      "2022-03-29 00:38:25,645 - mmseg - INFO - Iter [42350/160000]\tlr: 7.607e-03, eta: 23:49:55, time: 0.728, data_time: 0.005, memory: 2073, decode.loss_ce: 0.1010, decode.acc_seg: 94.0457, aux_0.loss_ce: 0.1019, aux_0.acc_seg: 93.9695, aux_1.loss_ce: 0.1024, aux_1.acc_seg: 93.7451, aux_2.loss_ce: 0.0348, aux_2.loss_dice: 0.3130, aux_2.acc_seg: 99.2914, loss: 0.6531\n",
      "2022-03-29 00:39:02,030 - mmseg - INFO - Iter [42400/160000]\tlr: 7.604e-03, eta: 23:49:18, time: 0.728, data_time: 0.005, memory: 2073, decode.loss_ce: 0.0994, decode.acc_seg: 94.3412, aux_0.loss_ce: 0.0991, aux_0.acc_seg: 94.3555, aux_1.loss_ce: 0.1028, aux_1.acc_seg: 94.2565, aux_2.loss_ce: 0.0341, aux_2.loss_dice: 0.3205, aux_2.acc_seg: 99.3041, loss: 0.6558\n",
      "2022-03-29 00:39:38,404 - mmseg - INFO - Iter [42450/160000]\tlr: 7.601e-03, eta: 23:48:41, time: 0.728, data_time: 0.005, memory: 2073, decode.loss_ce: 0.0984, decode.acc_seg: 94.5296, aux_0.loss_ce: 0.0973, aux_0.acc_seg: 94.5522, aux_1.loss_ce: 0.0994, aux_1.acc_seg: 94.4827, aux_2.loss_ce: 0.0356, aux_2.loss_dice: 0.3260, aux_2.acc_seg: 99.2701, loss: 0.6567\n",
      "2022-03-29 00:40:17,316 - mmseg - INFO - Iter [42500/160000]\tlr: 7.598e-03, eta: 23:48:11, time: 0.778, data_time: 0.059, memory: 2073, decode.loss_ce: 0.0960, decode.acc_seg: 94.3897, aux_0.loss_ce: 0.0963, aux_0.acc_seg: 94.4047, aux_1.loss_ce: 0.0982, aux_1.acc_seg: 94.2525, aux_2.loss_ce: 0.0325, aux_2.loss_dice: 0.3127, aux_2.acc_seg: 99.3339, loss: 0.6356\n",
      "2022-03-29 00:40:53,615 - mmseg - INFO - Iter [42550/160000]\tlr: 7.595e-03, eta: 23:47:35, time: 0.726, data_time: 0.006, memory: 2073, decode.loss_ce: 0.1012, decode.acc_seg: 94.2504, aux_0.loss_ce: 0.1012, aux_0.acc_seg: 94.1828, aux_1.loss_ce: 0.1047, aux_1.acc_seg: 94.0088, aux_2.loss_ce: 0.0348, aux_2.loss_dice: 0.2923, aux_2.acc_seg: 99.2793, loss: 0.6343\n",
      "2022-03-29 00:41:27,508 - mmseg - INFO - Iter [42600/160000]\tlr: 7.593e-03, eta: 23:46:51, time: 0.678, data_time: 0.005, memory: 2073, decode.loss_ce: 0.1149, decode.acc_seg: 93.2538, aux_0.loss_ce: 0.1203, aux_0.acc_seg: 93.1926, aux_1.loss_ce: 0.1227, aux_1.acc_seg: 93.0195, aux_2.loss_ce: 0.0388, aux_2.loss_dice: 0.3399, aux_2.acc_seg: 99.1921, loss: 0.7366\n",
      "2022-03-29 00:42:03,638 - mmseg - INFO - Iter [42650/160000]\tlr: 7.590e-03, eta: 23:46:14, time: 0.722, data_time: 0.005, memory: 2073, decode.loss_ce: 0.1015, decode.acc_seg: 93.8809, aux_0.loss_ce: 0.0974, aux_0.acc_seg: 93.8369, aux_1.loss_ce: 0.1004, aux_1.acc_seg: 93.7217, aux_2.loss_ce: 0.0362, aux_2.loss_dice: 0.3245, aux_2.acc_seg: 99.2490, loss: 0.6600\n",
      "2022-03-29 00:42:40,032 - mmseg - INFO - Iter [42700/160000]\tlr: 7.587e-03, eta: 23:45:37, time: 0.728, data_time: 0.006, memory: 2073, decode.loss_ce: 0.0960, decode.acc_seg: 94.7729, aux_0.loss_ce: 0.0978, aux_0.acc_seg: 94.7021, aux_1.loss_ce: 0.1000, aux_1.acc_seg: 94.6134, aux_2.loss_ce: 0.0353, aux_2.loss_dice: 0.3131, aux_2.acc_seg: 99.2726, loss: 0.6421\n",
      "2022-03-29 00:43:16,373 - mmseg - INFO - Iter [42750/160000]\tlr: 7.584e-03, eta: 23:45:00, time: 0.726, data_time: 0.005, memory: 2073, decode.loss_ce: 0.0875, decode.acc_seg: 94.7984, aux_0.loss_ce: 0.0880, aux_0.acc_seg: 94.7536, aux_1.loss_ce: 0.0892, aux_1.acc_seg: 94.7051, aux_2.loss_ce: 0.0341, aux_2.loss_dice: 0.2967, aux_2.acc_seg: 99.2894, loss: 0.5956\n",
      "2022-03-29 00:43:52,658 - mmseg - INFO - Iter [42800/160000]\tlr: 7.581e-03, eta: 23:44:23, time: 0.726, data_time: 0.006, memory: 2073, decode.loss_ce: 0.0945, decode.acc_seg: 94.4378, aux_0.loss_ce: 0.0951, aux_0.acc_seg: 94.4807, aux_1.loss_ce: 0.0937, aux_1.acc_seg: 94.3848, aux_2.loss_ce: 0.0327, aux_2.loss_dice: 0.3084, aux_2.acc_seg: 99.3235, loss: 0.6244\n",
      "2022-03-29 00:44:28,958 - mmseg - INFO - Iter [42850/160000]\tlr: 7.578e-03, eta: 23:43:46, time: 0.727, data_time: 0.006, memory: 2073, decode.loss_ce: 0.0963, decode.acc_seg: 94.7464, aux_0.loss_ce: 0.0950, aux_0.acc_seg: 94.7751, aux_1.loss_ce: 0.1000, aux_1.acc_seg: 94.5812, aux_2.loss_ce: 0.0337, aux_2.loss_dice: 0.3229, aux_2.acc_seg: 99.3151, loss: 0.6480\n",
      "2022-03-29 00:45:05,392 - mmseg - INFO - Iter [42900/160000]\tlr: 7.575e-03, eta: 23:43:10, time: 0.729, data_time: 0.006, memory: 2073, decode.loss_ce: 0.1050, decode.acc_seg: 93.9267, aux_0.loss_ce: 0.1069, aux_0.acc_seg: 93.8288, aux_1.loss_ce: 0.1079, aux_1.acc_seg: 93.8118, aux_2.loss_ce: 0.0366, aux_2.loss_dice: 0.3246, aux_2.acc_seg: 99.2690, loss: 0.6810\n",
      "2022-03-29 00:45:41,722 - mmseg - INFO - Iter [42950/160000]\tlr: 7.572e-03, eta: 23:42:33, time: 0.727, data_time: 0.005, memory: 2073, decode.loss_ce: 0.0907, decode.acc_seg: 94.7197, aux_0.loss_ce: 0.0915, aux_0.acc_seg: 94.6639, aux_1.loss_ce: 0.0927, aux_1.acc_seg: 94.6698, aux_2.loss_ce: 0.0346, aux_2.loss_dice: 0.3244, aux_2.acc_seg: 99.2893, loss: 0.6339\n",
      "2022-03-29 00:46:18,098 - mmseg - INFO - Iter [43000/160000]\tlr: 7.570e-03, eta: 23:41:56, time: 0.727, data_time: 0.006, memory: 2073, decode.loss_ce: 0.0988, decode.acc_seg: 94.4451, aux_0.loss_ce: 0.0994, aux_0.acc_seg: 94.3901, aux_1.loss_ce: 0.0998, aux_1.acc_seg: 94.3092, aux_2.loss_ce: 0.0416, aux_2.loss_dice: 0.3337, aux_2.acc_seg: 99.1186, loss: 0.6733\n",
      "2022-03-29 00:46:54,473 - mmseg - INFO - Iter [43050/160000]\tlr: 7.567e-03, eta: 23:41:20, time: 0.728, data_time: 0.006, memory: 2073, decode.loss_ce: 0.0913, decode.acc_seg: 94.5780, aux_0.loss_ce: 0.0918, aux_0.acc_seg: 94.5892, aux_1.loss_ce: 0.0933, aux_1.acc_seg: 94.5548, aux_2.loss_ce: 0.0367, aux_2.loss_dice: 0.3334, aux_2.acc_seg: 99.2304, loss: 0.6465\n",
      "2022-03-29 00:47:30,769 - mmseg - INFO - Iter [43100/160000]\tlr: 7.564e-03, eta: 23:40:43, time: 0.726, data_time: 0.005, memory: 2073, decode.loss_ce: 0.1057, decode.acc_seg: 94.1283, aux_0.loss_ce: 0.1078, aux_0.acc_seg: 94.0732, aux_1.loss_ce: 0.1096, aux_1.acc_seg: 93.9741, aux_2.loss_ce: 0.0356, aux_2.loss_dice: 0.3345, aux_2.acc_seg: 99.2763, loss: 0.6932\n",
      "2022-03-29 00:48:07,137 - mmseg - INFO - Iter [43150/160000]\tlr: 7.561e-03, eta: 23:40:06, time: 0.728, data_time: 0.006, memory: 2073, decode.loss_ce: 0.0935, decode.acc_seg: 94.1834, aux_0.loss_ce: 0.0924, aux_0.acc_seg: 94.1773, aux_1.loss_ce: 0.0946, aux_1.acc_seg: 94.0807, aux_2.loss_ce: 0.0350, aux_2.loss_dice: 0.3258, aux_2.acc_seg: 99.2828, loss: 0.6412\n",
      "2022-03-29 00:48:46,119 - mmseg - INFO - Iter [43200/160000]\tlr: 7.558e-03, eta: 23:39:36, time: 0.780, data_time: 0.058, memory: 2073, decode.loss_ce: 0.1058, decode.acc_seg: 94.4179, aux_0.loss_ce: 0.1057, aux_0.acc_seg: 94.4445, aux_1.loss_ce: 0.1085, aux_1.acc_seg: 94.2773, aux_2.loss_ce: 0.0361, aux_2.loss_dice: 0.3286, aux_2.acc_seg: 99.2666, loss: 0.6847\n",
      "2022-03-29 00:49:19,927 - mmseg - INFO - Iter [43250/160000]\tlr: 7.555e-03, eta: 23:38:53, time: 0.675, data_time: 0.005, memory: 2073, decode.loss_ce: 0.0927, decode.acc_seg: 94.5455, aux_0.loss_ce: 0.0907, aux_0.acc_seg: 94.5455, aux_1.loss_ce: 0.0951, aux_1.acc_seg: 94.4434, aux_2.loss_ce: 0.0371, aux_2.loss_dice: 0.3369, aux_2.acc_seg: 99.2611, loss: 0.6526\n",
      "2022-03-29 00:49:56,164 - mmseg - INFO - Iter [43300/160000]\tlr: 7.552e-03, eta: 23:38:16, time: 0.726, data_time: 0.006, memory: 2073, decode.loss_ce: 0.1079, decode.acc_seg: 93.9479, aux_0.loss_ce: 0.1099, aux_0.acc_seg: 94.0072, aux_1.loss_ce: 0.1115, aux_1.acc_seg: 93.7728, aux_2.loss_ce: 0.0382, aux_2.loss_dice: 0.3225, aux_2.acc_seg: 99.2266, loss: 0.6900\n",
      "2022-03-29 00:50:32,547 - mmseg - INFO - Iter [43350/160000]\tlr: 7.549e-03, eta: 23:37:39, time: 0.728, data_time: 0.005, memory: 2073, decode.loss_ce: 0.0947, decode.acc_seg: 94.1716, aux_0.loss_ce: 0.0945, aux_0.acc_seg: 94.0973, aux_1.loss_ce: 0.0955, aux_1.acc_seg: 94.0363, aux_2.loss_ce: 0.0347, aux_2.loss_dice: 0.3151, aux_2.acc_seg: 99.3002, loss: 0.6346\n"
     ]
    },
    {
     "name": "stderr",
     "output_type": "stream",
     "text": [
      "2022-03-29 00:51:08,927 - mmseg - INFO - Iter [43400/160000]\tlr: 7.547e-03, eta: 23:37:02, time: 0.728, data_time: 0.005, memory: 2073, decode.loss_ce: 0.0986, decode.acc_seg: 94.6530, aux_0.loss_ce: 0.0994, aux_0.acc_seg: 94.5589, aux_1.loss_ce: 0.0966, aux_1.acc_seg: 94.4992, aux_2.loss_ce: 0.0344, aux_2.loss_dice: 0.3409, aux_2.acc_seg: 99.2992, loss: 0.6699\n",
      "2022-03-29 00:51:45,320 - mmseg - INFO - Iter [43450/160000]\tlr: 7.544e-03, eta: 23:36:26, time: 0.728, data_time: 0.005, memory: 2073, decode.loss_ce: 0.1053, decode.acc_seg: 93.8898, aux_0.loss_ce: 0.1063, aux_0.acc_seg: 93.8928, aux_1.loss_ce: 0.1122, aux_1.acc_seg: 93.8186, aux_2.loss_ce: 0.0352, aux_2.loss_dice: 0.3226, aux_2.acc_seg: 99.2802, loss: 0.6816\n",
      "2022-03-29 00:52:21,698 - mmseg - INFO - Iter [43500/160000]\tlr: 7.541e-03, eta: 23:35:49, time: 0.728, data_time: 0.006, memory: 2073, decode.loss_ce: 0.0885, decode.acc_seg: 94.9635, aux_0.loss_ce: 0.0899, aux_0.acc_seg: 94.8902, aux_1.loss_ce: 0.0916, aux_1.acc_seg: 94.8374, aux_2.loss_ce: 0.0344, aux_2.loss_dice: 0.3013, aux_2.acc_seg: 99.3036, loss: 0.6057\n",
      "2022-03-29 00:52:58,054 - mmseg - INFO - Iter [43550/160000]\tlr: 7.538e-03, eta: 23:35:12, time: 0.727, data_time: 0.006, memory: 2073, decode.loss_ce: 0.1141, decode.acc_seg: 93.5553, aux_0.loss_ce: 0.1153, aux_0.acc_seg: 93.4167, aux_1.loss_ce: 0.1155, aux_1.acc_seg: 93.4492, aux_2.loss_ce: 0.0351, aux_2.loss_dice: 0.3189, aux_2.acc_seg: 99.2869, loss: 0.6988\n",
      "2022-03-29 00:53:34,368 - mmseg - INFO - Iter [43600/160000]\tlr: 7.535e-03, eta: 23:34:35, time: 0.726, data_time: 0.006, memory: 2073, decode.loss_ce: 0.1015, decode.acc_seg: 94.0363, aux_0.loss_ce: 0.1039, aux_0.acc_seg: 94.0321, aux_1.loss_ce: 0.1050, aux_1.acc_seg: 93.8627, aux_2.loss_ce: 0.0366, aux_2.loss_dice: 0.3303, aux_2.acc_seg: 99.2579, loss: 0.6773\n",
      "2022-03-29 00:54:10,594 - mmseg - INFO - Iter [43650/160000]\tlr: 7.532e-03, eta: 23:33:58, time: 0.724, data_time: 0.005, memory: 2073, decode.loss_ce: 0.0970, decode.acc_seg: 94.7262, aux_0.loss_ce: 0.0945, aux_0.acc_seg: 94.7182, aux_1.loss_ce: 0.0971, aux_1.acc_seg: 94.5996, aux_2.loss_ce: 0.0361, aux_2.loss_dice: 0.3236, aux_2.acc_seg: 99.2349, loss: 0.6482\n",
      "2022-03-29 00:54:46,904 - mmseg - INFO - Iter [43700/160000]\tlr: 7.529e-03, eta: 23:33:21, time: 0.727, data_time: 0.006, memory: 2073, decode.loss_ce: 0.0914, decode.acc_seg: 94.4635, aux_0.loss_ce: 0.0957, aux_0.acc_seg: 94.4781, aux_1.loss_ce: 0.0959, aux_1.acc_seg: 94.3295, aux_2.loss_ce: 0.0356, aux_2.loss_dice: 0.3149, aux_2.acc_seg: 99.2645, loss: 0.6335\n",
      "2022-03-29 00:55:23,229 - mmseg - INFO - Iter [43750/160000]\tlr: 7.527e-03, eta: 23:32:45, time: 0.727, data_time: 0.006, memory: 2073, decode.loss_ce: 0.1086, decode.acc_seg: 93.7326, aux_0.loss_ce: 0.1043, aux_0.acc_seg: 93.7765, aux_1.loss_ce: 0.1122, aux_1.acc_seg: 93.6767, aux_2.loss_ce: 0.0354, aux_2.loss_dice: 0.3253, aux_2.acc_seg: 99.2838, loss: 0.6858\n",
      "2022-03-29 00:55:59,538 - mmseg - INFO - Iter [43800/160000]\tlr: 7.524e-03, eta: 23:32:08, time: 0.726, data_time: 0.006, memory: 2073, decode.loss_ce: 0.0850, decode.acc_seg: 94.8148, aux_0.loss_ce: 0.0872, aux_0.acc_seg: 94.8174, aux_1.loss_ce: 0.0864, aux_1.acc_seg: 94.6951, aux_2.loss_ce: 0.0362, aux_2.loss_dice: 0.3366, aux_2.acc_seg: 99.2725, loss: 0.6314\n",
      "2022-03-29 00:56:38,462 - mmseg - INFO - Iter [43850/160000]\tlr: 7.521e-03, eta: 23:31:38, time: 0.778, data_time: 0.058, memory: 2073, decode.loss_ce: 0.1045, decode.acc_seg: 93.9986, aux_0.loss_ce: 0.1058, aux_0.acc_seg: 93.9728, aux_1.loss_ce: 0.1058, aux_1.acc_seg: 93.7922, aux_2.loss_ce: 0.0346, aux_2.loss_dice: 0.3287, aux_2.acc_seg: 99.3018, loss: 0.6794\n",
      "2022-03-29 00:57:12,204 - mmseg - INFO - Iter [43900/160000]\tlr: 7.518e-03, eta: 23:30:54, time: 0.674, data_time: 0.006, memory: 2073, decode.loss_ce: 0.0944, decode.acc_seg: 94.4204, aux_0.loss_ce: 0.0932, aux_0.acc_seg: 94.3833, aux_1.loss_ce: 0.0964, aux_1.acc_seg: 94.2810, aux_2.loss_ce: 0.0319, aux_2.loss_dice: 0.3177, aux_2.acc_seg: 99.3688, loss: 0.6336\n",
      "2022-03-29 00:57:48,548 - mmseg - INFO - Iter [43950/160000]\tlr: 7.515e-03, eta: 23:30:17, time: 0.727, data_time: 0.006, memory: 2073, decode.loss_ce: 0.1139, decode.acc_seg: 93.6668, aux_0.loss_ce: 0.1138, aux_0.acc_seg: 93.6751, aux_1.loss_ce: 0.1142, aux_1.acc_seg: 93.6097, aux_2.loss_ce: 0.0353, aux_2.loss_dice: 0.3267, aux_2.acc_seg: 99.2825, loss: 0.7039\n",
      "2022-03-29 00:58:24,915 - mmseg - INFO - Iter [44000/160000]\tlr: 7.512e-03, eta: 23:29:41, time: 0.727, data_time: 0.006, memory: 2073, decode.loss_ce: 0.0894, decode.acc_seg: 94.6866, aux_0.loss_ce: 0.0905, aux_0.acc_seg: 94.6667, aux_1.loss_ce: 0.0937, aux_1.acc_seg: 94.5774, aux_2.loss_ce: 0.0341, aux_2.loss_dice: 0.2988, aux_2.acc_seg: 99.2997, loss: 0.6065\n",
      "2022-03-29 00:59:01,320 - mmseg - INFO - Iter [44050/160000]\tlr: 7.509e-03, eta: 23:29:04, time: 0.728, data_time: 0.005, memory: 2073, decode.loss_ce: 0.0996, decode.acc_seg: 94.3617, aux_0.loss_ce: 0.1002, aux_0.acc_seg: 94.3579, aux_1.loss_ce: 0.1010, aux_1.acc_seg: 94.3362, aux_2.loss_ce: 0.0355, aux_2.loss_dice: 0.3241, aux_2.acc_seg: 99.2908, loss: 0.6605\n",
      "2022-03-29 00:59:37,653 - mmseg - INFO - Iter [44100/160000]\tlr: 7.506e-03, eta: 23:28:27, time: 0.727, data_time: 0.005, memory: 2073, decode.loss_ce: 0.0925, decode.acc_seg: 94.7567, aux_0.loss_ce: 0.0906, aux_0.acc_seg: 94.7602, aux_1.loss_ce: 0.0915, aux_1.acc_seg: 94.6244, aux_2.loss_ce: 0.0357, aux_2.loss_dice: 0.3123, aux_2.acc_seg: 99.2766, loss: 0.6224\n",
      "2022-03-29 01:00:14,058 - mmseg - INFO - Iter [44150/160000]\tlr: 7.503e-03, eta: 23:27:51, time: 0.728, data_time: 0.005, memory: 2073, decode.loss_ce: 0.1008, decode.acc_seg: 94.3283, aux_0.loss_ce: 0.1027, aux_0.acc_seg: 94.3121, aux_1.loss_ce: 0.1037, aux_1.acc_seg: 94.2377, aux_2.loss_ce: 0.0345, aux_2.loss_dice: 0.3226, aux_2.acc_seg: 99.2971, loss: 0.6642\n",
      "2022-03-29 01:00:50,422 - mmseg - INFO - Iter [44200/160000]\tlr: 7.501e-03, eta: 23:27:14, time: 0.727, data_time: 0.006, memory: 2073, decode.loss_ce: 0.0883, decode.acc_seg: 94.8424, aux_0.loss_ce: 0.0885, aux_0.acc_seg: 94.9126, aux_1.loss_ce: 0.0916, aux_1.acc_seg: 94.7705, aux_2.loss_ce: 0.0314, aux_2.loss_dice: 0.2871, aux_2.acc_seg: 99.3585, loss: 0.5869\n",
      "2022-03-29 01:01:26,765 - mmseg - INFO - Iter [44250/160000]\tlr: 7.498e-03, eta: 23:26:37, time: 0.727, data_time: 0.005, memory: 2073, decode.loss_ce: 0.0993, decode.acc_seg: 94.2517, aux_0.loss_ce: 0.1005, aux_0.acc_seg: 94.1889, aux_1.loss_ce: 0.1018, aux_1.acc_seg: 94.0198, aux_2.loss_ce: 0.0378, aux_2.loss_dice: 0.3196, aux_2.acc_seg: 99.2107, loss: 0.6590\n",
      "2022-03-29 01:02:03,068 - mmseg - INFO - Iter [44300/160000]\tlr: 7.495e-03, eta: 23:26:00, time: 0.725, data_time: 0.006, memory: 2073, decode.loss_ce: 0.1039, decode.acc_seg: 93.8207, aux_0.loss_ce: 0.1044, aux_0.acc_seg: 93.7581, aux_1.loss_ce: 0.1046, aux_1.acc_seg: 93.6931, aux_2.loss_ce: 0.0349, aux_2.loss_dice: 0.3176, aux_2.acc_seg: 99.2958, loss: 0.6655\n",
      "2022-03-29 01:02:39,359 - mmseg - INFO - Iter [44350/160000]\tlr: 7.492e-03, eta: 23:25:24, time: 0.726, data_time: 0.006, memory: 2073, decode.loss_ce: 0.1047, decode.acc_seg: 93.7294, aux_0.loss_ce: 0.1076, aux_0.acc_seg: 93.6067, aux_1.loss_ce: 0.1085, aux_1.acc_seg: 93.4970, aux_2.loss_ce: 0.0349, aux_2.loss_dice: 0.3094, aux_2.acc_seg: 99.2802, loss: 0.6651\n",
      "2022-03-29 01:03:15,658 - mmseg - INFO - Iter [44400/160000]\tlr: 7.489e-03, eta: 23:24:47, time: 0.727, data_time: 0.006, memory: 2073, decode.loss_ce: 0.1221, decode.acc_seg: 92.9862, aux_0.loss_ce: 0.1231, aux_0.acc_seg: 92.9680, aux_1.loss_ce: 0.1245, aux_1.acc_seg: 92.8677, aux_2.loss_ce: 0.0371, aux_2.loss_dice: 0.3230, aux_2.acc_seg: 99.2327, loss: 0.7299\n",
      "2022-03-29 01:03:52,019 - mmseg - INFO - Iter [44450/160000]\tlr: 7.486e-03, eta: 23:24:10, time: 0.727, data_time: 0.005, memory: 2073, decode.loss_ce: 0.1095, decode.acc_seg: 93.3944, aux_0.loss_ce: 0.1099, aux_0.acc_seg: 93.4375, aux_1.loss_ce: 0.1133, aux_1.acc_seg: 93.2705, aux_2.loss_ce: 0.0367, aux_2.loss_dice: 0.3178, aux_2.acc_seg: 99.2444, loss: 0.6872\n",
      "2022-03-29 01:04:28,408 - mmseg - INFO - Iter [44500/160000]\tlr: 7.483e-03, eta: 23:23:33, time: 0.728, data_time: 0.006, memory: 2073, decode.loss_ce: 0.0835, decode.acc_seg: 95.1278, aux_0.loss_ce: 0.0840, aux_0.acc_seg: 95.1046, aux_1.loss_ce: 0.0855, aux_1.acc_seg: 95.0628, aux_2.loss_ce: 0.0357, aux_2.loss_dice: 0.3321, aux_2.acc_seg: 99.2692, loss: 0.6208\n"
     ]
    },
    {
     "name": "stderr",
     "output_type": "stream",
     "text": [
      "2022-03-29 01:05:04,843 - mmseg - INFO - Iter [44550/160000]\tlr: 7.480e-03, eta: 23:22:57, time: 0.729, data_time: 0.059, memory: 2073, decode.loss_ce: 0.0959, decode.acc_seg: 94.4519, aux_0.loss_ce: 0.0961, aux_0.acc_seg: 94.4208, aux_1.loss_ce: 0.0980, aux_1.acc_seg: 94.3215, aux_2.loss_ce: 0.0375, aux_2.loss_dice: 0.3359, aux_2.acc_seg: 99.2155, loss: 0.6634\n",
      "2022-03-29 01:05:41,240 - mmseg - INFO - Iter [44600/160000]\tlr: 7.478e-03, eta: 23:22:20, time: 0.728, data_time: 0.005, memory: 2073, decode.loss_ce: 0.1002, decode.acc_seg: 94.4506, aux_0.loss_ce: 0.1008, aux_0.acc_seg: 94.4224, aux_1.loss_ce: 0.1021, aux_1.acc_seg: 94.2522, aux_2.loss_ce: 0.0355, aux_2.loss_dice: 0.3385, aux_2.acc_seg: 99.2784, loss: 0.6771\n",
      "2022-03-29 01:06:17,637 - mmseg - INFO - Iter [44650/160000]\tlr: 7.475e-03, eta: 23:21:44, time: 0.728, data_time: 0.005, memory: 2073, decode.loss_ce: 0.0915, decode.acc_seg: 94.8980, aux_0.loss_ce: 0.0912, aux_0.acc_seg: 94.9084, aux_1.loss_ce: 0.0937, aux_1.acc_seg: 94.8531, aux_2.loss_ce: 0.0357, aux_2.loss_dice: 0.3213, aux_2.acc_seg: 99.2645, loss: 0.6334\n",
      "2022-03-29 01:06:53,973 - mmseg - INFO - Iter [44700/160000]\tlr: 7.472e-03, eta: 23:21:07, time: 0.727, data_time: 0.005, memory: 2073, decode.loss_ce: 0.1043, decode.acc_seg: 93.9444, aux_0.loss_ce: 0.1059, aux_0.acc_seg: 93.8390, aux_1.loss_ce: 0.1069, aux_1.acc_seg: 93.8217, aux_2.loss_ce: 0.0368, aux_2.loss_dice: 0.3111, aux_2.acc_seg: 99.2492, loss: 0.6649\n",
      "2022-03-29 01:07:30,395 - mmseg - INFO - Iter [44750/160000]\tlr: 7.469e-03, eta: 23:20:30, time: 0.728, data_time: 0.005, memory: 2073, decode.loss_ce: 0.1049, decode.acc_seg: 93.7839, aux_0.loss_ce: 0.1061, aux_0.acc_seg: 93.7676, aux_1.loss_ce: 0.1093, aux_1.acc_seg: 93.6568, aux_2.loss_ce: 0.0353, aux_2.loss_dice: 0.3171, aux_2.acc_seg: 99.2538, loss: 0.6728\n",
      "2022-03-29 01:08:06,755 - mmseg - INFO - Iter [44800/160000]\tlr: 7.466e-03, eta: 23:19:54, time: 0.727, data_time: 0.005, memory: 2073, decode.loss_ce: 0.0958, decode.acc_seg: 94.3554, aux_0.loss_ce: 0.0963, aux_0.acc_seg: 94.3389, aux_1.loss_ce: 0.0987, aux_1.acc_seg: 94.2746, aux_2.loss_ce: 0.0339, aux_2.loss_dice: 0.3192, aux_2.acc_seg: 99.3147, loss: 0.6438\n",
      "2022-03-29 01:08:43,127 - mmseg - INFO - Iter [44850/160000]\tlr: 7.463e-03, eta: 23:19:17, time: 0.728, data_time: 0.005, memory: 2073, decode.loss_ce: 0.0884, decode.acc_seg: 94.5517, aux_0.loss_ce: 0.0891, aux_0.acc_seg: 94.5415, aux_1.loss_ce: 0.0882, aux_1.acc_seg: 94.4598, aux_2.loss_ce: 0.0353, aux_2.loss_dice: 0.3047, aux_2.acc_seg: 99.2671, loss: 0.6058\n",
      "2022-03-29 01:09:19,497 - mmseg - INFO - Iter [44900/160000]\tlr: 7.460e-03, eta: 23:18:40, time: 0.727, data_time: 0.005, memory: 2073, decode.loss_ce: 0.0934, decode.acc_seg: 94.8280, aux_0.loss_ce: 0.0935, aux_0.acc_seg: 94.7756, aux_1.loss_ce: 0.0967, aux_1.acc_seg: 94.5792, aux_2.loss_ce: 0.0348, aux_2.loss_dice: 0.3168, aux_2.acc_seg: 99.2845, loss: 0.6353\n",
      "2022-03-29 01:09:55,798 - mmseg - INFO - Iter [44950/160000]\tlr: 7.457e-03, eta: 23:18:03, time: 0.726, data_time: 0.006, memory: 2073, decode.loss_ce: 0.0971, decode.acc_seg: 94.2870, aux_0.loss_ce: 0.0973, aux_0.acc_seg: 94.2217, aux_1.loss_ce: 0.0983, aux_1.acc_seg: 94.1844, aux_2.loss_ce: 0.0337, aux_2.loss_dice: 0.3267, aux_2.acc_seg: 99.3002, loss: 0.6531\n",
      "2022-03-29 01:10:32,112 - mmseg - INFO - Iter [45000/160000]\tlr: 7.455e-03, eta: 23:17:27, time: 0.726, data_time: 0.006, memory: 2073, decode.loss_ce: 0.0952, decode.acc_seg: 94.6931, aux_0.loss_ce: 0.0939, aux_0.acc_seg: 94.6535, aux_1.loss_ce: 0.0958, aux_1.acc_seg: 94.4807, aux_2.loss_ce: 0.0369, aux_2.loss_dice: 0.3032, aux_2.acc_seg: 99.2372, loss: 0.6251\n"
     ]
    },
    {
     "name": "stdout",
     "output_type": "stream",
     "text": [
      "[>>>>>>>>>>>>>>>>>>>>>>>>>>>>>] 610/610, 26.7 task/s, elapsed: 23s, ETA:     0s"
     ]
    },
    {
     "name": "stderr",
     "output_type": "stream",
     "text": [
      "2022-03-29 01:10:55,037 - mmseg - INFO - per class results:\n",
      "2022-03-29 01:10:55,038 - mmseg - INFO - \n",
      "+------------+-------+-------+\n",
      "|   Class    |  IoU  |  Acc  |\n",
      "+------------+-------+-------+\n",
      "| background |  96.4 | 98.83 |\n",
      "|   human    | 44.35 | 53.86 |\n",
      "+------------+-------+-------+\n",
      "2022-03-29 01:10:55,038 - mmseg - INFO - Summary:\n",
      "2022-03-29 01:10:55,038 - mmseg - INFO - \n",
      "+------+-------+-------+\n",
      "| aAcc |  mIoU |  mAcc |\n",
      "+------+-------+-------+\n",
      "| 96.5 | 70.38 | 76.34 |\n",
      "+------+-------+-------+\n",
      "2022-03-29 01:10:55,041 - mmseg - INFO - Iter(val) [610]\taAcc: 0.9650, mIoU: 0.7038, mAcc: 0.7634, IoU.background: 0.9640, IoU.human: 0.4435, Acc.background: 0.9883, Acc.human: 0.5386\n",
      "2022-03-29 01:11:31,416 - mmseg - INFO - Iter [45050/160000]\tlr: 7.452e-03, eta: 23:17:49, time: 1.187, data_time: 0.465, memory: 2073, decode.loss_ce: 0.1096, decode.acc_seg: 93.8038, aux_0.loss_ce: 0.1111, aux_0.acc_seg: 93.8502, aux_1.loss_ce: 0.1146, aux_1.acc_seg: 93.6881, aux_2.loss_ce: 0.0346, aux_2.loss_dice: 0.3220, aux_2.acc_seg: 99.2997, loss: 0.6919\n",
      "2022-03-29 01:12:07,789 - mmseg - INFO - Iter [45100/160000]\tlr: 7.449e-03, eta: 23:17:12, time: 0.727, data_time: 0.005, memory: 2073, decode.loss_ce: 0.1050, decode.acc_seg: 93.9664, aux_0.loss_ce: 0.1070, aux_0.acc_seg: 93.9243, aux_1.loss_ce: 0.1074, aux_1.acc_seg: 93.7562, aux_2.loss_ce: 0.0344, aux_2.loss_dice: 0.3208, aux_2.acc_seg: 99.2867, loss: 0.6746\n",
      "2022-03-29 01:12:41,465 - mmseg - INFO - Iter [45150/160000]\tlr: 7.446e-03, eta: 23:16:28, time: 0.674, data_time: 0.006, memory: 2073, decode.loss_ce: 0.1119, decode.acc_seg: 93.4619, aux_0.loss_ce: 0.1105, aux_0.acc_seg: 93.4898, aux_1.loss_ce: 0.1134, aux_1.acc_seg: 93.4043, aux_2.loss_ce: 0.0356, aux_2.loss_dice: 0.3118, aux_2.acc_seg: 99.2608, loss: 0.6833\n",
      "2022-03-29 01:13:17,791 - mmseg - INFO - Iter [45200/160000]\tlr: 7.443e-03, eta: 23:15:51, time: 0.726, data_time: 0.005, memory: 2073, decode.loss_ce: 0.0972, decode.acc_seg: 94.2823, aux_0.loss_ce: 0.0978, aux_0.acc_seg: 94.3188, aux_1.loss_ce: 0.0997, aux_1.acc_seg: 94.1333, aux_2.loss_ce: 0.0337, aux_2.loss_dice: 0.3142, aux_2.acc_seg: 99.3097, loss: 0.6427\n",
      "2022-03-29 01:13:56,724 - mmseg - INFO - Iter [45250/160000]\tlr: 7.440e-03, eta: 23:15:21, time: 0.779, data_time: 0.060, memory: 2073, decode.loss_ce: 0.1193, decode.acc_seg: 93.3365, aux_0.loss_ce: 0.1157, aux_0.acc_seg: 93.2928, aux_1.loss_ce: 0.1186, aux_1.acc_seg: 93.1995, aux_2.loss_ce: 0.0360, aux_2.loss_dice: 0.3284, aux_2.acc_seg: 99.2709, loss: 0.7180\n",
      "2022-03-29 01:14:33,083 - mmseg - INFO - Iter [45300/160000]\tlr: 7.437e-03, eta: 23:14:44, time: 0.727, data_time: 0.005, memory: 2073, decode.loss_ce: 0.1019, decode.acc_seg: 94.0988, aux_0.loss_ce: 0.1046, aux_0.acc_seg: 94.1076, aux_1.loss_ce: 0.1060, aux_1.acc_seg: 93.9930, aux_2.loss_ce: 0.0366, aux_2.loss_dice: 0.3334, aux_2.acc_seg: 99.2358, loss: 0.6824\n",
      "2022-03-29 01:15:09,453 - mmseg - INFO - Iter [45350/160000]\tlr: 7.434e-03, eta: 23:14:07, time: 0.728, data_time: 0.005, memory: 2073, decode.loss_ce: 0.0924, decode.acc_seg: 94.5698, aux_0.loss_ce: 0.0926, aux_0.acc_seg: 94.6099, aux_1.loss_ce: 0.0945, aux_1.acc_seg: 94.4463, aux_2.loss_ce: 0.0340, aux_2.loss_dice: 0.3154, aux_2.acc_seg: 99.2997, loss: 0.6289\n",
      "2022-03-29 01:15:45,823 - mmseg - INFO - Iter [45400/160000]\tlr: 7.432e-03, eta: 23:13:31, time: 0.727, data_time: 0.005, memory: 2073, decode.loss_ce: 0.1005, decode.acc_seg: 94.3452, aux_0.loss_ce: 0.0993, aux_0.acc_seg: 94.3403, aux_1.loss_ce: 0.1026, aux_1.acc_seg: 94.1425, aux_2.loss_ce: 0.0363, aux_2.loss_dice: 0.3281, aux_2.acc_seg: 99.2600, loss: 0.6668\n",
      "2022-03-29 01:16:22,203 - mmseg - INFO - Iter [45450/160000]\tlr: 7.429e-03, eta: 23:12:54, time: 0.728, data_time: 0.006, memory: 2073, decode.loss_ce: 0.1195, decode.acc_seg: 93.4789, aux_0.loss_ce: 0.1168, aux_0.acc_seg: 93.5514, aux_1.loss_ce: 0.1164, aux_1.acc_seg: 93.4634, aux_2.loss_ce: 0.0349, aux_2.loss_dice: 0.2994, aux_2.acc_seg: 99.2967, loss: 0.6869\n",
      "2022-03-29 01:16:58,549 - mmseg - INFO - Iter [45500/160000]\tlr: 7.426e-03, eta: 23:12:17, time: 0.727, data_time: 0.005, memory: 2073, decode.loss_ce: 0.0914, decode.acc_seg: 94.7506, aux_0.loss_ce: 0.0936, aux_0.acc_seg: 94.7817, aux_1.loss_ce: 0.0986, aux_1.acc_seg: 94.5746, aux_2.loss_ce: 0.0356, aux_2.loss_dice: 0.3258, aux_2.acc_seg: 99.2765, loss: 0.6450\n",
      "2022-03-29 01:17:34,892 - mmseg - INFO - Iter [45550/160000]\tlr: 7.423e-03, eta: 23:11:40, time: 0.726, data_time: 0.006, memory: 2073, decode.loss_ce: 0.1012, decode.acc_seg: 93.9892, aux_0.loss_ce: 0.1029, aux_0.acc_seg: 93.8883, aux_1.loss_ce: 0.1024, aux_1.acc_seg: 93.8066, aux_2.loss_ce: 0.0336, aux_2.loss_dice: 0.3143, aux_2.acc_seg: 99.3107, loss: 0.6543\n",
      "2022-03-29 01:18:11,152 - mmseg - INFO - Iter [45600/160000]\tlr: 7.420e-03, eta: 23:11:03, time: 0.726, data_time: 0.006, memory: 2073, decode.loss_ce: 0.1058, decode.acc_seg: 93.9947, aux_0.loss_ce: 0.1052, aux_0.acc_seg: 93.9979, aux_1.loss_ce: 0.1064, aux_1.acc_seg: 93.8888, aux_2.loss_ce: 0.0349, aux_2.loss_dice: 0.3181, aux_2.acc_seg: 99.2950, loss: 0.6705\n",
      "2022-03-29 01:18:47,505 - mmseg - INFO - Iter [45650/160000]\tlr: 7.417e-03, eta: 23:10:27, time: 0.727, data_time: 0.006, memory: 2073, decode.loss_ce: 0.1015, decode.acc_seg: 93.9971, aux_0.loss_ce: 0.1008, aux_0.acc_seg: 94.0393, aux_1.loss_ce: 0.1059, aux_1.acc_seg: 93.7904, aux_2.loss_ce: 0.0351, aux_2.loss_dice: 0.3223, aux_2.acc_seg: 99.2873, loss: 0.6655\n",
      "2022-03-29 01:19:23,889 - mmseg - INFO - Iter [45700/160000]\tlr: 7.414e-03, eta: 23:09:50, time: 0.727, data_time: 0.005, memory: 2073, decode.loss_ce: 0.0935, decode.acc_seg: 94.6972, aux_0.loss_ce: 0.0950, aux_0.acc_seg: 94.6608, aux_1.loss_ce: 0.0969, aux_1.acc_seg: 94.5957, aux_2.loss_ce: 0.0331, aux_2.loss_dice: 0.3169, aux_2.acc_seg: 99.3237, loss: 0.6353\n",
      "2022-03-29 01:20:00,197 - mmseg - INFO - Iter [45750/160000]\tlr: 7.411e-03, eta: 23:09:13, time: 0.726, data_time: 0.006, memory: 2073, decode.loss_ce: 0.0881, decode.acc_seg: 94.7591, aux_0.loss_ce: 0.0883, aux_0.acc_seg: 94.7461, aux_1.loss_ce: 0.0898, aux_1.acc_seg: 94.6204, aux_2.loss_ce: 0.0321, aux_2.loss_dice: 0.2992, aux_2.acc_seg: 99.3428, loss: 0.5975\n",
      "2022-03-29 01:20:33,814 - mmseg - INFO - Iter [45800/160000]\tlr: 7.409e-03, eta: 23:08:29, time: 0.672, data_time: 0.005, memory: 2073, decode.loss_ce: 0.0918, decode.acc_seg: 94.6415, aux_0.loss_ce: 0.0911, aux_0.acc_seg: 94.6521, aux_1.loss_ce: 0.0916, aux_1.acc_seg: 94.5627, aux_2.loss_ce: 0.0330, aux_2.loss_dice: 0.3126, aux_2.acc_seg: 99.3315, loss: 0.6201\n",
      "2022-03-29 01:21:10,236 - mmseg - INFO - Iter [45850/160000]\tlr: 7.406e-03, eta: 23:07:53, time: 0.728, data_time: 0.006, memory: 2073, decode.loss_ce: 0.1118, decode.acc_seg: 93.7573, aux_0.loss_ce: 0.1118, aux_0.acc_seg: 93.7506, aux_1.loss_ce: 0.1138, aux_1.acc_seg: 93.5574, aux_2.loss_ce: 0.0388, aux_2.loss_dice: 0.3361, aux_2.acc_seg: 99.2221, loss: 0.7122\n",
      "2022-03-29 01:21:46,587 - mmseg - INFO - Iter [45900/160000]\tlr: 7.403e-03, eta: 23:07:16, time: 0.727, data_time: 0.006, memory: 2073, decode.loss_ce: 0.0958, decode.acc_seg: 94.5750, aux_0.loss_ce: 0.0956, aux_0.acc_seg: 94.6347, aux_1.loss_ce: 0.0968, aux_1.acc_seg: 94.5483, aux_2.loss_ce: 0.0348, aux_2.loss_dice: 0.3228, aux_2.acc_seg: 99.2947, loss: 0.6458\n",
      "2022-03-29 01:22:25,476 - mmseg - INFO - Iter [45950/160000]\tlr: 7.400e-03, eta: 23:06:45, time: 0.778, data_time: 0.058, memory: 2073, decode.loss_ce: 0.1005, decode.acc_seg: 93.8305, aux_0.loss_ce: 0.1008, aux_0.acc_seg: 93.8202, aux_1.loss_ce: 0.1041, aux_1.acc_seg: 93.6247, aux_2.loss_ce: 0.0340, aux_2.loss_dice: 0.3088, aux_2.acc_seg: 99.3024, loss: 0.6481\n",
      "2022-03-29 01:23:01,871 - mmseg - INFO - Iter [46000/160000]\tlr: 7.397e-03, eta: 23:06:09, time: 0.728, data_time: 0.005, memory: 2073, decode.loss_ce: 0.1027, decode.acc_seg: 94.3362, aux_0.loss_ce: 0.1026, aux_0.acc_seg: 94.2803, aux_1.loss_ce: 0.1052, aux_1.acc_seg: 94.1878, aux_2.loss_ce: 0.0375, aux_2.loss_dice: 0.3243, aux_2.acc_seg: 99.2331, loss: 0.6723\n",
      "2022-03-29 01:23:38,199 - mmseg - INFO - Iter [46050/160000]\tlr: 7.394e-03, eta: 23:05:32, time: 0.726, data_time: 0.005, memory: 2073, decode.loss_ce: 0.1044, decode.acc_seg: 93.9862, aux_0.loss_ce: 0.1044, aux_0.acc_seg: 93.9251, aux_1.loss_ce: 0.1053, aux_1.acc_seg: 93.8643, aux_2.loss_ce: 0.0361, aux_2.loss_dice: 0.3200, aux_2.acc_seg: 99.2671, loss: 0.6702\n"
     ]
    },
    {
     "name": "stderr",
     "output_type": "stream",
     "text": [
      "2022-03-29 01:24:14,544 - mmseg - INFO - Iter [46100/160000]\tlr: 7.391e-03, eta: 23:04:55, time: 0.726, data_time: 0.005, memory: 2073, decode.loss_ce: 0.0978, decode.acc_seg: 94.2139, aux_0.loss_ce: 0.0999, aux_0.acc_seg: 94.1584, aux_1.loss_ce: 0.1016, aux_1.acc_seg: 94.1190, aux_2.loss_ce: 0.0376, aux_2.loss_dice: 0.3206, aux_2.acc_seg: 99.2250, loss: 0.6574\n",
      "2022-03-29 01:24:50,970 - mmseg - INFO - Iter [46150/160000]\tlr: 7.388e-03, eta: 23:04:18, time: 0.729, data_time: 0.006, memory: 2073, decode.loss_ce: 0.0897, decode.acc_seg: 94.9363, aux_0.loss_ce: 0.0899, aux_0.acc_seg: 94.9385, aux_1.loss_ce: 0.0904, aux_1.acc_seg: 94.8371, aux_2.loss_ce: 0.0337, aux_2.loss_dice: 0.3108, aux_2.acc_seg: 99.3186, loss: 0.6144\n",
      "2022-03-29 01:25:27,260 - mmseg - INFO - Iter [46200/160000]\tlr: 7.385e-03, eta: 23:03:41, time: 0.725, data_time: 0.006, memory: 2073, decode.loss_ce: 0.0984, decode.acc_seg: 94.3134, aux_0.loss_ce: 0.0988, aux_0.acc_seg: 94.2817, aux_1.loss_ce: 0.1006, aux_1.acc_seg: 94.2612, aux_2.loss_ce: 0.0342, aux_2.loss_dice: 0.3258, aux_2.acc_seg: 99.3083, loss: 0.6578\n",
      "2022-03-29 01:26:03,557 - mmseg - INFO - Iter [46250/160000]\tlr: 7.383e-03, eta: 23:03:05, time: 0.727, data_time: 0.006, memory: 2073, decode.loss_ce: 0.0874, decode.acc_seg: 95.0437, aux_0.loss_ce: 0.0890, aux_0.acc_seg: 95.0292, aux_1.loss_ce: 0.0876, aux_1.acc_seg: 94.9325, aux_2.loss_ce: 0.0312, aux_2.loss_dice: 0.3170, aux_2.acc_seg: 99.3711, loss: 0.6122\n",
      "2022-03-29 01:26:39,963 - mmseg - INFO - Iter [46300/160000]\tlr: 7.380e-03, eta: 23:02:28, time: 0.728, data_time: 0.005, memory: 2073, decode.loss_ce: 0.0911, decode.acc_seg: 94.9185, aux_0.loss_ce: 0.0907, aux_0.acc_seg: 94.8815, aux_1.loss_ce: 0.0935, aux_1.acc_seg: 94.8331, aux_2.loss_ce: 0.0325, aux_2.loss_dice: 0.2990, aux_2.acc_seg: 99.3319, loss: 0.6068\n",
      "2022-03-29 01:27:09,998 - mmseg - INFO - Iter [46350/160000]\tlr: 7.377e-03, eta: 23:01:36, time: 0.601, data_time: 0.006, memory: 2073, decode.loss_ce: 0.0967, decode.acc_seg: 94.5602, aux_0.loss_ce: 0.0978, aux_0.acc_seg: 94.5408, aux_1.loss_ce: 0.1003, aux_1.acc_seg: 94.3960, aux_2.loss_ce: 0.0357, aux_2.loss_dice: 0.3258, aux_2.acc_seg: 99.2645, loss: 0.6563\n",
      "2022-03-29 01:27:44,915 - mmseg - INFO - Iter [46400/160000]\tlr: 7.374e-03, eta: 23:00:55, time: 0.698, data_time: 0.005, memory: 2073, decode.loss_ce: 0.0864, decode.acc_seg: 94.7255, aux_0.loss_ce: 0.0865, aux_0.acc_seg: 94.6687, aux_1.loss_ce: 0.0877, aux_1.acc_seg: 94.5777, aux_2.loss_ce: 0.0347, aux_2.loss_dice: 0.3062, aux_2.acc_seg: 99.2948, loss: 0.6016\n",
      "2022-03-29 01:28:21,314 - mmseg - INFO - Iter [46450/160000]\tlr: 7.371e-03, eta: 23:00:19, time: 0.728, data_time: 0.006, memory: 2073, decode.loss_ce: 0.1027, decode.acc_seg: 94.0786, aux_0.loss_ce: 0.1033, aux_0.acc_seg: 94.0311, aux_1.loss_ce: 0.1061, aux_1.acc_seg: 93.9176, aux_2.loss_ce: 0.0368, aux_2.loss_dice: 0.3223, aux_2.acc_seg: 99.2294, loss: 0.6712\n",
      "2022-03-29 01:28:55,009 - mmseg - INFO - Iter [46500/160000]\tlr: 7.368e-03, eta: 22:59:36, time: 0.674, data_time: 0.006, memory: 2073, decode.loss_ce: 0.0941, decode.acc_seg: 94.4706, aux_0.loss_ce: 0.0949, aux_0.acc_seg: 94.4311, aux_1.loss_ce: 0.0950, aux_1.acc_seg: 94.3714, aux_2.loss_ce: 0.0354, aux_2.loss_dice: 0.3116, aux_2.acc_seg: 99.2695, loss: 0.6310\n",
      "2022-03-29 01:29:31,320 - mmseg - INFO - Iter [46550/160000]\tlr: 7.365e-03, eta: 22:58:59, time: 0.726, data_time: 0.006, memory: 2073, decode.loss_ce: 0.0890, decode.acc_seg: 94.8897, aux_0.loss_ce: 0.0889, aux_0.acc_seg: 94.8806, aux_1.loss_ce: 0.0927, aux_1.acc_seg: 94.7291, aux_2.loss_ce: 0.0355, aux_2.loss_dice: 0.3203, aux_2.acc_seg: 99.2779, loss: 0.6263\n",
      "2022-03-29 01:30:07,714 - mmseg - INFO - Iter [46600/160000]\tlr: 7.362e-03, eta: 22:58:22, time: 0.728, data_time: 0.006, memory: 2073, decode.loss_ce: 0.1015, decode.acc_seg: 94.4259, aux_0.loss_ce: 0.1017, aux_0.acc_seg: 94.3815, aux_1.loss_ce: 0.1054, aux_1.acc_seg: 94.1942, aux_2.loss_ce: 0.0361, aux_2.loss_dice: 0.3269, aux_2.acc_seg: 99.2556, loss: 0.6716\n",
      "2022-03-29 01:30:46,627 - mmseg - INFO - Iter [46650/160000]\tlr: 7.360e-03, eta: 22:57:52, time: 0.779, data_time: 0.057, memory: 2073, decode.loss_ce: 0.0994, decode.acc_seg: 94.3185, aux_0.loss_ce: 0.0989, aux_0.acc_seg: 94.2769, aux_1.loss_ce: 0.1007, aux_1.acc_seg: 94.2235, aux_2.loss_ce: 0.0358, aux_2.loss_dice: 0.3148, aux_2.acc_seg: 99.2525, loss: 0.6497\n",
      "2022-03-29 01:31:22,976 - mmseg - INFO - Iter [46700/160000]\tlr: 7.357e-03, eta: 22:57:15, time: 0.726, data_time: 0.005, memory: 2073, decode.loss_ce: 0.0905, decode.acc_seg: 94.9538, aux_0.loss_ce: 0.0923, aux_0.acc_seg: 94.8784, aux_1.loss_ce: 0.0935, aux_1.acc_seg: 94.7858, aux_2.loss_ce: 0.0335, aux_2.loss_dice: 0.3269, aux_2.acc_seg: 99.3232, loss: 0.6367\n",
      "2022-03-29 01:31:59,324 - mmseg - INFO - Iter [46750/160000]\tlr: 7.354e-03, eta: 22:56:38, time: 0.727, data_time: 0.006, memory: 2073, decode.loss_ce: 0.0936, decode.acc_seg: 94.5889, aux_0.loss_ce: 0.0941, aux_0.acc_seg: 94.5619, aux_1.loss_ce: 0.0961, aux_1.acc_seg: 94.4003, aux_2.loss_ce: 0.0348, aux_2.loss_dice: 0.3145, aux_2.acc_seg: 99.2738, loss: 0.6331\n",
      "2022-03-29 01:32:35,756 - mmseg - INFO - Iter [46800/160000]\tlr: 7.351e-03, eta: 22:56:01, time: 0.729, data_time: 0.006, memory: 2073, decode.loss_ce: 0.0874, decode.acc_seg: 95.0938, aux_0.loss_ce: 0.0891, aux_0.acc_seg: 95.0878, aux_1.loss_ce: 0.0923, aux_1.acc_seg: 94.9527, aux_2.loss_ce: 0.0327, aux_2.loss_dice: 0.3136, aux_2.acc_seg: 99.3290, loss: 0.6151\n",
      "2022-03-29 01:33:11,986 - mmseg - INFO - Iter [46850/160000]\tlr: 7.348e-03, eta: 22:55:24, time: 0.725, data_time: 0.006, memory: 2073, decode.loss_ce: 0.1143, decode.acc_seg: 93.2297, aux_0.loss_ce: 0.1136, aux_0.acc_seg: 93.1960, aux_1.loss_ce: 0.1182, aux_1.acc_seg: 93.0514, aux_2.loss_ce: 0.0387, aux_2.loss_dice: 0.3160, aux_2.acc_seg: 99.1872, loss: 0.7009\n",
      "2022-03-29 01:33:48,292 - mmseg - INFO - Iter [46900/160000]\tlr: 7.345e-03, eta: 22:54:48, time: 0.726, data_time: 0.006, memory: 2073, decode.loss_ce: 0.1042, decode.acc_seg: 94.1822, aux_0.loss_ce: 0.1065, aux_0.acc_seg: 94.1367, aux_1.loss_ce: 0.1041, aux_1.acc_seg: 94.0166, aux_2.loss_ce: 0.0344, aux_2.loss_dice: 0.3141, aux_2.acc_seg: 99.2893, loss: 0.6634\n",
      "2022-03-29 01:34:24,659 - mmseg - INFO - Iter [46950/160000]\tlr: 7.342e-03, eta: 22:54:11, time: 0.727, data_time: 0.006, memory: 2073, decode.loss_ce: 0.0841, decode.acc_seg: 95.2060, aux_0.loss_ce: 0.0839, aux_0.acc_seg: 95.1820, aux_1.loss_ce: 0.0880, aux_1.acc_seg: 95.0356, aux_2.loss_ce: 0.0327, aux_2.loss_dice: 0.3157, aux_2.acc_seg: 99.3264, loss: 0.6043\n",
      "2022-03-29 01:35:01,025 - mmseg - INFO - Iter [47000/160000]\tlr: 7.339e-03, eta: 22:53:34, time: 0.727, data_time: 0.006, memory: 2073, decode.loss_ce: 0.0983, decode.acc_seg: 94.0328, aux_0.loss_ce: 0.0994, aux_0.acc_seg: 93.9834, aux_1.loss_ce: 0.1006, aux_1.acc_seg: 93.9094, aux_2.loss_ce: 0.0347, aux_2.loss_dice: 0.3143, aux_2.acc_seg: 99.2789, loss: 0.6472\n",
      "2022-03-29 01:35:37,440 - mmseg - INFO - Iter [47050/160000]\tlr: 7.336e-03, eta: 22:52:58, time: 0.728, data_time: 0.006, memory: 2073, decode.loss_ce: 0.0974, decode.acc_seg: 94.5362, aux_0.loss_ce: 0.0983, aux_0.acc_seg: 94.5469, aux_1.loss_ce: 0.1000, aux_1.acc_seg: 94.3990, aux_2.loss_ce: 0.0329, aux_2.loss_dice: 0.3007, aux_2.acc_seg: 99.3269, loss: 0.6293\n",
      "2022-03-29 01:36:13,757 - mmseg - INFO - Iter [47100/160000]\tlr: 7.334e-03, eta: 22:52:21, time: 0.726, data_time: 0.005, memory: 2073, decode.loss_ce: 0.0884, decode.acc_seg: 95.0329, aux_0.loss_ce: 0.0880, aux_0.acc_seg: 95.0733, aux_1.loss_ce: 0.0913, aux_1.acc_seg: 94.9597, aux_2.loss_ce: 0.0329, aux_2.loss_dice: 0.3014, aux_2.acc_seg: 99.3325, loss: 0.6020\n",
      "2022-03-29 01:36:47,401 - mmseg - INFO - Iter [47150/160000]\tlr: 7.331e-03, eta: 22:51:38, time: 0.673, data_time: 0.006, memory: 2073, decode.loss_ce: 0.0923, decode.acc_seg: 94.1299, aux_0.loss_ce: 0.0921, aux_0.acc_seg: 94.0910, aux_1.loss_ce: 0.0934, aux_1.acc_seg: 94.0163, aux_2.loss_ce: 0.0356, aux_2.loss_dice: 0.3241, aux_2.acc_seg: 99.2540, loss: 0.6375\n",
      "2022-03-29 01:37:23,756 - mmseg - INFO - Iter [47200/160000]\tlr: 7.328e-03, eta: 22:51:01, time: 0.727, data_time: 0.006, memory: 2073, decode.loss_ce: 0.1071, decode.acc_seg: 94.1416, aux_0.loss_ce: 0.1077, aux_0.acc_seg: 94.1060, aux_1.loss_ce: 0.1101, aux_1.acc_seg: 93.9786, aux_2.loss_ce: 0.0390, aux_2.loss_dice: 0.3202, aux_2.acc_seg: 99.1961, loss: 0.6842\n"
     ]
    },
    {
     "name": "stderr",
     "output_type": "stream",
     "text": [
      "2022-03-29 01:38:00,143 - mmseg - INFO - Iter [47250/160000]\tlr: 7.325e-03, eta: 22:50:24, time: 0.728, data_time: 0.005, memory: 2073, decode.loss_ce: 0.0795, decode.acc_seg: 95.2429, aux_0.loss_ce: 0.0813, aux_0.acc_seg: 95.2061, aux_1.loss_ce: 0.0818, aux_1.acc_seg: 95.1527, aux_2.loss_ce: 0.0338, aux_2.loss_dice: 0.2941, aux_2.acc_seg: 99.2890, loss: 0.5704\n",
      "2022-03-29 01:38:36,491 - mmseg - INFO - Iter [47300/160000]\tlr: 7.322e-03, eta: 22:49:47, time: 0.727, data_time: 0.005, memory: 2073, decode.loss_ce: 0.0882, decode.acc_seg: 94.9964, aux_0.loss_ce: 0.0892, aux_0.acc_seg: 94.9522, aux_1.loss_ce: 0.0908, aux_1.acc_seg: 94.8102, aux_2.loss_ce: 0.0336, aux_2.loss_dice: 0.2968, aux_2.acc_seg: 99.2929, loss: 0.5988\n",
      "2022-03-29 01:39:15,474 - mmseg - INFO - Iter [47350/160000]\tlr: 7.319e-03, eta: 22:49:17, time: 0.780, data_time: 0.059, memory: 2073, decode.loss_ce: 0.1016, decode.acc_seg: 94.1492, aux_0.loss_ce: 0.1005, aux_0.acc_seg: 94.1140, aux_1.loss_ce: 0.1039, aux_1.acc_seg: 93.9978, aux_2.loss_ce: 0.0359, aux_2.loss_dice: 0.3185, aux_2.acc_seg: 99.2442, loss: 0.6605\n",
      "2022-03-29 01:39:51,808 - mmseg - INFO - Iter [47400/160000]\tlr: 7.316e-03, eta: 22:48:40, time: 0.727, data_time: 0.005, memory: 2073, decode.loss_ce: 0.0856, decode.acc_seg: 95.1342, aux_0.loss_ce: 0.0886, aux_0.acc_seg: 95.1186, aux_1.loss_ce: 0.0900, aux_1.acc_seg: 94.9672, aux_2.loss_ce: 0.0372, aux_2.loss_dice: 0.3299, aux_2.acc_seg: 99.2350, loss: 0.6312\n",
      "2022-03-29 01:40:28,202 - mmseg - INFO - Iter [47450/160000]\tlr: 7.313e-03, eta: 22:48:04, time: 0.728, data_time: 0.005, memory: 2073, decode.loss_ce: 0.1039, decode.acc_seg: 93.5241, aux_0.loss_ce: 0.1036, aux_0.acc_seg: 93.5486, aux_1.loss_ce: 0.1065, aux_1.acc_seg: 93.3518, aux_2.loss_ce: 0.0389, aux_2.loss_dice: 0.3177, aux_2.acc_seg: 99.1919, loss: 0.6706\n",
      "2022-03-29 01:41:04,571 - mmseg - INFO - Iter [47500/160000]\tlr: 7.311e-03, eta: 22:47:27, time: 0.727, data_time: 0.005, memory: 2073, decode.loss_ce: 0.0983, decode.acc_seg: 94.2678, aux_0.loss_ce: 0.0979, aux_0.acc_seg: 94.2417, aux_1.loss_ce: 0.0992, aux_1.acc_seg: 94.0429, aux_2.loss_ce: 0.0343, aux_2.loss_dice: 0.3073, aux_2.acc_seg: 99.2907, loss: 0.6371\n",
      "2022-03-29 01:41:40,958 - mmseg - INFO - Iter [47550/160000]\tlr: 7.308e-03, eta: 22:46:50, time: 0.728, data_time: 0.006, memory: 2073, decode.loss_ce: 0.0804, decode.acc_seg: 95.1256, aux_0.loss_ce: 0.0807, aux_0.acc_seg: 95.1217, aux_1.loss_ce: 0.0836, aux_1.acc_seg: 94.9921, aux_2.loss_ce: 0.0340, aux_2.loss_dice: 0.3123, aux_2.acc_seg: 99.2913, loss: 0.5910\n",
      "2022-03-29 01:42:17,285 - mmseg - INFO - Iter [47600/160000]\tlr: 7.305e-03, eta: 22:46:13, time: 0.727, data_time: 0.005, memory: 2073, decode.loss_ce: 0.0978, decode.acc_seg: 94.2646, aux_0.loss_ce: 0.0991, aux_0.acc_seg: 94.1667, aux_1.loss_ce: 0.0993, aux_1.acc_seg: 94.1024, aux_2.loss_ce: 0.0340, aux_2.loss_dice: 0.3182, aux_2.acc_seg: 99.2888, loss: 0.6484\n",
      "2022-03-29 01:42:53,642 - mmseg - INFO - Iter [47650/160000]\tlr: 7.302e-03, eta: 22:45:37, time: 0.727, data_time: 0.005, memory: 2073, decode.loss_ce: 0.0891, decode.acc_seg: 95.1224, aux_0.loss_ce: 0.0907, aux_0.acc_seg: 95.1179, aux_1.loss_ce: 0.0946, aux_1.acc_seg: 95.0105, aux_2.loss_ce: 0.0346, aux_2.loss_dice: 0.3104, aux_2.acc_seg: 99.2917, loss: 0.6194\n",
      "2022-03-29 01:43:30,021 - mmseg - INFO - Iter [47700/160000]\tlr: 7.299e-03, eta: 22:45:00, time: 0.727, data_time: 0.005, memory: 2073, decode.loss_ce: 0.1008, decode.acc_seg: 94.0541, aux_0.loss_ce: 0.1012, aux_0.acc_seg: 94.0138, aux_1.loss_ce: 0.1027, aux_1.acc_seg: 93.8430, aux_2.loss_ce: 0.0339, aux_2.loss_dice: 0.3032, aux_2.acc_seg: 99.3034, loss: 0.6418\n",
      "2022-03-29 01:44:06,260 - mmseg - INFO - Iter [47750/160000]\tlr: 7.296e-03, eta: 22:44:23, time: 0.725, data_time: 0.006, memory: 2073, decode.loss_ce: 0.0823, decode.acc_seg: 95.3468, aux_0.loss_ce: 0.0816, aux_0.acc_seg: 95.3300, aux_1.loss_ce: 0.0843, aux_1.acc_seg: 95.1988, aux_2.loss_ce: 0.0343, aux_2.loss_dice: 0.3191, aux_2.acc_seg: 99.2987, loss: 0.6015\n",
      "2022-03-29 01:44:40,041 - mmseg - INFO - Iter [47800/160000]\tlr: 7.293e-03, eta: 22:43:40, time: 0.675, data_time: 0.005, memory: 2073, decode.loss_ce: 0.0920, decode.acc_seg: 95.0767, aux_0.loss_ce: 0.0917, aux_0.acc_seg: 95.0475, aux_1.loss_ce: 0.0944, aux_1.acc_seg: 94.8966, aux_2.loss_ce: 0.0323, aux_2.loss_dice: 0.3147, aux_2.acc_seg: 99.3441, loss: 0.6250\n",
      "2022-03-29 01:45:16,394 - mmseg - INFO - Iter [47850/160000]\tlr: 7.290e-03, eta: 22:43:04, time: 0.727, data_time: 0.006, memory: 2073, decode.loss_ce: 0.0831, decode.acc_seg: 95.0575, aux_0.loss_ce: 0.0840, aux_0.acc_seg: 95.0173, aux_1.loss_ce: 0.0838, aux_1.acc_seg: 94.9124, aux_2.loss_ce: 0.0348, aux_2.loss_dice: 0.3089, aux_2.acc_seg: 99.3002, loss: 0.5946\n",
      "2022-03-29 01:45:52,763 - mmseg - INFO - Iter [47900/160000]\tlr: 7.287e-03, eta: 22:42:27, time: 0.727, data_time: 0.005, memory: 2073, decode.loss_ce: 0.0990, decode.acc_seg: 94.4697, aux_0.loss_ce: 0.0987, aux_0.acc_seg: 94.4063, aux_1.loss_ce: 0.1043, aux_1.acc_seg: 94.2976, aux_2.loss_ce: 0.0354, aux_2.loss_dice: 0.3128, aux_2.acc_seg: 99.2664, loss: 0.6503\n",
      "2022-03-29 01:46:29,145 - mmseg - INFO - Iter [47950/160000]\tlr: 7.285e-03, eta: 22:41:50, time: 0.728, data_time: 0.006, memory: 2073, decode.loss_ce: 0.0997, decode.acc_seg: 94.6116, aux_0.loss_ce: 0.1000, aux_0.acc_seg: 94.6230, aux_1.loss_ce: 0.1012, aux_1.acc_seg: 94.5628, aux_2.loss_ce: 0.0318, aux_2.loss_dice: 0.3234, aux_2.acc_seg: 99.3706, loss: 0.6561\n",
      "2022-03-29 01:47:05,493 - mmseg - INFO - Iter [48000/160000]\tlr: 7.282e-03, eta: 22:41:13, time: 0.726, data_time: 0.005, memory: 2073, decode.loss_ce: 0.1032, decode.acc_seg: 93.7583, aux_0.loss_ce: 0.1038, aux_0.acc_seg: 93.7128, aux_1.loss_ce: 0.1079, aux_1.acc_seg: 93.5256, aux_2.loss_ce: 0.0386, aux_2.loss_dice: 0.3440, aux_2.acc_seg: 99.2003, loss: 0.6975\n",
      "2022-03-29 01:47:44,454 - mmseg - INFO - Iter [48050/160000]\tlr: 7.279e-03, eta: 22:40:43, time: 0.780, data_time: 0.058, memory: 2073, decode.loss_ce: 0.0903, decode.acc_seg: 94.9517, aux_0.loss_ce: 0.0912, aux_0.acc_seg: 94.9105, aux_1.loss_ce: 0.0917, aux_1.acc_seg: 94.8917, aux_2.loss_ce: 0.0313, aux_2.loss_dice: 0.3153, aux_2.acc_seg: 99.3623, loss: 0.6197\n",
      "2022-03-29 01:48:20,837 - mmseg - INFO - Iter [48100/160000]\tlr: 7.276e-03, eta: 22:40:06, time: 0.728, data_time: 0.005, memory: 2073, decode.loss_ce: 0.0859, decode.acc_seg: 95.0694, aux_0.loss_ce: 0.0861, aux_0.acc_seg: 95.0644, aux_1.loss_ce: 0.0870, aux_1.acc_seg: 94.9741, aux_2.loss_ce: 0.0334, aux_2.loss_dice: 0.3188, aux_2.acc_seg: 99.3086, loss: 0.6113\n",
      "2022-03-29 01:48:57,208 - mmseg - INFO - Iter [48150/160000]\tlr: 7.273e-03, eta: 22:39:30, time: 0.727, data_time: 0.005, memory: 2073, decode.loss_ce: 0.0884, decode.acc_seg: 95.0392, aux_0.loss_ce: 0.0889, aux_0.acc_seg: 94.9771, aux_1.loss_ce: 0.0917, aux_1.acc_seg: 94.8044, aux_2.loss_ce: 0.0350, aux_2.loss_dice: 0.3297, aux_2.acc_seg: 99.2753, loss: 0.6337\n",
      "2022-03-29 01:49:33,509 - mmseg - INFO - Iter [48200/160000]\tlr: 7.270e-03, eta: 22:38:53, time: 0.725, data_time: 0.005, memory: 2073, decode.loss_ce: 0.0823, decode.acc_seg: 94.9803, aux_0.loss_ce: 0.0829, aux_0.acc_seg: 94.9696, aux_1.loss_ce: 0.0861, aux_1.acc_seg: 94.8319, aux_2.loss_ce: 0.0328, aux_2.loss_dice: 0.3171, aux_2.acc_seg: 99.3264, loss: 0.6012\n",
      "2022-03-29 01:50:09,749 - mmseg - INFO - Iter [48250/160000]\tlr: 7.267e-03, eta: 22:38:16, time: 0.725, data_time: 0.006, memory: 2073, decode.loss_ce: 0.1031, decode.acc_seg: 94.0953, aux_0.loss_ce: 0.1025, aux_0.acc_seg: 94.1084, aux_1.loss_ce: 0.1047, aux_1.acc_seg: 93.9618, aux_2.loss_ce: 0.0359, aux_2.loss_dice: 0.3092, aux_2.acc_seg: 99.2541, loss: 0.6553\n",
      "2022-03-29 01:50:46,018 - mmseg - INFO - Iter [48300/160000]\tlr: 7.264e-03, eta: 22:37:39, time: 0.726, data_time: 0.006, memory: 2073, decode.loss_ce: 0.0988, decode.acc_seg: 94.2403, aux_0.loss_ce: 0.0993, aux_0.acc_seg: 94.1926, aux_1.loss_ce: 0.1011, aux_1.acc_seg: 94.0479, aux_2.loss_ce: 0.0360, aux_2.loss_dice: 0.3232, aux_2.acc_seg: 99.2514, loss: 0.6585\n",
      "2022-03-29 01:51:22,366 - mmseg - INFO - Iter [48350/160000]\tlr: 7.261e-03, eta: 22:37:02, time: 0.727, data_time: 0.005, memory: 2073, decode.loss_ce: 0.0898, decode.acc_seg: 94.9564, aux_0.loss_ce: 0.0905, aux_0.acc_seg: 94.9194, aux_1.loss_ce: 0.0929, aux_1.acc_seg: 94.7339, aux_2.loss_ce: 0.0351, aux_2.loss_dice: 0.3165, aux_2.acc_seg: 99.2550, loss: 0.6249\n"
     ]
    },
    {
     "name": "stderr",
     "output_type": "stream",
     "text": [
      "2022-03-29 01:51:56,819 - mmseg - INFO - Iter [48400/160000]\tlr: 7.259e-03, eta: 22:36:21, time: 0.690, data_time: 0.006, memory: 2073, decode.loss_ce: 0.0982, decode.acc_seg: 94.2641, aux_0.loss_ce: 0.0978, aux_0.acc_seg: 94.2994, aux_1.loss_ce: 0.1012, aux_1.acc_seg: 94.1301, aux_2.loss_ce: 0.0365, aux_2.loss_dice: 0.3193, aux_2.acc_seg: 99.2277, loss: 0.6529\n",
      "2022-03-29 01:52:32,285 - mmseg - INFO - Iter [48450/160000]\tlr: 7.256e-03, eta: 22:35:42, time: 0.709, data_time: 0.005, memory: 2073, decode.loss_ce: 0.0951, decode.acc_seg: 94.5098, aux_0.loss_ce: 0.0944, aux_0.acc_seg: 94.4985, aux_1.loss_ce: 0.0960, aux_1.acc_seg: 94.3936, aux_2.loss_ce: 0.0349, aux_2.loss_dice: 0.3158, aux_2.acc_seg: 99.2696, loss: 0.6362\n",
      "2022-03-29 01:53:08,659 - mmseg - INFO - Iter [48500/160000]\tlr: 7.253e-03, eta: 22:35:06, time: 0.727, data_time: 0.005, memory: 2073, decode.loss_ce: 0.1004, decode.acc_seg: 94.1696, aux_0.loss_ce: 0.1011, aux_0.acc_seg: 94.1726, aux_1.loss_ce: 0.1046, aux_1.acc_seg: 94.0159, aux_2.loss_ce: 0.0356, aux_2.loss_dice: 0.3236, aux_2.acc_seg: 99.2498, loss: 0.6653\n",
      "2022-03-29 01:53:45,025 - mmseg - INFO - Iter [48550/160000]\tlr: 7.250e-03, eta: 22:34:29, time: 0.727, data_time: 0.006, memory: 2073, decode.loss_ce: 0.0962, decode.acc_seg: 94.5018, aux_0.loss_ce: 0.0964, aux_0.acc_seg: 94.5174, aux_1.loss_ce: 0.0979, aux_1.acc_seg: 94.3865, aux_2.loss_ce: 0.0356, aux_2.loss_dice: 0.3108, aux_2.acc_seg: 99.2607, loss: 0.6369\n",
      "2022-03-29 01:54:21,357 - mmseg - INFO - Iter [48600/160000]\tlr: 7.247e-03, eta: 22:33:52, time: 0.726, data_time: 0.005, memory: 2073, decode.loss_ce: 0.1019, decode.acc_seg: 94.4023, aux_0.loss_ce: 0.1005, aux_0.acc_seg: 94.3929, aux_1.loss_ce: 0.1036, aux_1.acc_seg: 94.2501, aux_2.loss_ce: 0.0331, aux_2.loss_dice: 0.3085, aux_2.acc_seg: 99.3112, loss: 0.6475\n",
      "2022-03-29 01:54:57,575 - mmseg - INFO - Iter [48650/160000]\tlr: 7.244e-03, eta: 22:33:15, time: 0.725, data_time: 0.006, memory: 2073, decode.loss_ce: 0.0830, decode.acc_seg: 94.9641, aux_0.loss_ce: 0.0837, aux_0.acc_seg: 94.9461, aux_1.loss_ce: 0.0846, aux_1.acc_seg: 94.8224, aux_2.loss_ce: 0.0329, aux_2.loss_dice: 0.3277, aux_2.acc_seg: 99.3280, loss: 0.6119\n",
      "2022-03-29 01:55:33,915 - mmseg - INFO - Iter [48700/160000]\tlr: 7.241e-03, eta: 22:32:38, time: 0.727, data_time: 0.006, memory: 2073, decode.loss_ce: 0.0995, decode.acc_seg: 94.4334, aux_0.loss_ce: 0.1009, aux_0.acc_seg: 94.3834, aux_1.loss_ce: 0.1015, aux_1.acc_seg: 94.2644, aux_2.loss_ce: 0.0356, aux_2.loss_dice: 0.3316, aux_2.acc_seg: 99.2669, loss: 0.6691\n",
      "2022-03-29 01:56:12,848 - mmseg - INFO - Iter [48750/160000]\tlr: 7.238e-03, eta: 22:32:07, time: 0.778, data_time: 0.056, memory: 2073, decode.loss_ce: 0.1019, decode.acc_seg: 94.0767, aux_0.loss_ce: 0.1015, aux_0.acc_seg: 94.0819, aux_1.loss_ce: 0.1047, aux_1.acc_seg: 93.9615, aux_2.loss_ce: 0.0362, aux_2.loss_dice: 0.3184, aux_2.acc_seg: 99.2433, loss: 0.6628\n",
      "2022-03-29 01:56:49,181 - mmseg - INFO - Iter [48800/160000]\tlr: 7.236e-03, eta: 22:31:31, time: 0.727, data_time: 0.006, memory: 2073, decode.loss_ce: 0.0885, decode.acc_seg: 94.6445, aux_0.loss_ce: 0.0892, aux_0.acc_seg: 94.5762, aux_1.loss_ce: 0.0923, aux_1.acc_seg: 94.4172, aux_2.loss_ce: 0.0354, aux_2.loss_dice: 0.3234, aux_2.acc_seg: 99.2609, loss: 0.6289\n",
      "2022-03-29 01:57:25,553 - mmseg - INFO - Iter [48850/160000]\tlr: 7.233e-03, eta: 22:30:54, time: 0.728, data_time: 0.006, memory: 2073, decode.loss_ce: 0.0943, decode.acc_seg: 94.7038, aux_0.loss_ce: 0.0983, aux_0.acc_seg: 94.7190, aux_1.loss_ce: 0.0987, aux_1.acc_seg: 94.6343, aux_2.loss_ce: 0.0338, aux_2.loss_dice: 0.3288, aux_2.acc_seg: 99.3088, loss: 0.6539\n",
      "2022-03-29 01:58:01,920 - mmseg - INFO - Iter [48900/160000]\tlr: 7.230e-03, eta: 22:30:17, time: 0.727, data_time: 0.005, memory: 2073, decode.loss_ce: 0.1117, decode.acc_seg: 93.6404, aux_0.loss_ce: 0.1095, aux_0.acc_seg: 93.5970, aux_1.loss_ce: 0.1122, aux_1.acc_seg: 93.4411, aux_2.loss_ce: 0.0361, aux_2.loss_dice: 0.3069, aux_2.acc_seg: 99.2408, loss: 0.6764\n",
      "2022-03-29 01:58:38,314 - mmseg - INFO - Iter [48950/160000]\tlr: 7.227e-03, eta: 22:29:41, time: 0.728, data_time: 0.006, memory: 2073, decode.loss_ce: 0.0958, decode.acc_seg: 94.2382, aux_0.loss_ce: 0.0964, aux_0.acc_seg: 94.2332, aux_1.loss_ce: 0.0986, aux_1.acc_seg: 94.0868, aux_2.loss_ce: 0.0348, aux_2.loss_dice: 0.3168, aux_2.acc_seg: 99.2797, loss: 0.6424\n",
      "2022-03-29 01:59:14,678 - mmseg - INFO - Iter [49000/160000]\tlr: 7.224e-03, eta: 22:29:04, time: 0.727, data_time: 0.005, memory: 2073, decode.loss_ce: 0.0957, decode.acc_seg: 94.4519, aux_0.loss_ce: 0.0959, aux_0.acc_seg: 94.4139, aux_1.loss_ce: 0.0988, aux_1.acc_seg: 94.2944, aux_2.loss_ce: 0.0358, aux_2.loss_dice: 0.3070, aux_2.acc_seg: 99.2716, loss: 0.6331\n",
      "2022-03-29 01:59:48,279 - mmseg - INFO - Iter [49050/160000]\tlr: 7.221e-03, eta: 22:28:21, time: 0.672, data_time: 0.006, memory: 2073, decode.loss_ce: 0.0839, decode.acc_seg: 94.9917, aux_0.loss_ce: 0.0844, aux_0.acc_seg: 94.9658, aux_1.loss_ce: 0.0862, aux_1.acc_seg: 94.8783, aux_2.loss_ce: 0.0334, aux_2.loss_dice: 0.3272, aux_2.acc_seg: 99.3145, loss: 0.6150\n",
      "2022-03-29 02:00:24,632 - mmseg - INFO - Iter [49100/160000]\tlr: 7.218e-03, eta: 22:27:44, time: 0.727, data_time: 0.005, memory: 2073, decode.loss_ce: 0.1124, decode.acc_seg: 93.7623, aux_0.loss_ce: 0.1128, aux_0.acc_seg: 93.7553, aux_1.loss_ce: 0.1140, aux_1.acc_seg: 93.6174, aux_2.loss_ce: 0.0364, aux_2.loss_dice: 0.3215, aux_2.acc_seg: 99.2294, loss: 0.6971\n",
      "2022-03-29 02:01:01,043 - mmseg - INFO - Iter [49150/160000]\tlr: 7.215e-03, eta: 22:27:08, time: 0.728, data_time: 0.005, memory: 2073, decode.loss_ce: 0.0892, decode.acc_seg: 94.8233, aux_0.loss_ce: 0.0906, aux_0.acc_seg: 94.7813, aux_1.loss_ce: 0.0927, aux_1.acc_seg: 94.6553, aux_2.loss_ce: 0.0344, aux_2.loss_dice: 0.3177, aux_2.acc_seg: 99.2789, loss: 0.6246\n",
      "2022-03-29 02:01:37,437 - mmseg - INFO - Iter [49200/160000]\tlr: 7.212e-03, eta: 22:26:31, time: 0.728, data_time: 0.005, memory: 2073, decode.loss_ce: 0.1027, decode.acc_seg: 94.1048, aux_0.loss_ce: 0.1024, aux_0.acc_seg: 94.1134, aux_1.loss_ce: 0.1032, aux_1.acc_seg: 94.0037, aux_2.loss_ce: 0.0340, aux_2.loss_dice: 0.3225, aux_2.acc_seg: 99.2895, loss: 0.6648\n",
      "2022-03-29 02:02:13,779 - mmseg - INFO - Iter [49250/160000]\tlr: 7.210e-03, eta: 22:25:55, time: 0.727, data_time: 0.005, memory: 2073, decode.loss_ce: 0.0893, decode.acc_seg: 94.7562, aux_0.loss_ce: 0.0907, aux_0.acc_seg: 94.5982, aux_1.loss_ce: 0.0911, aux_1.acc_seg: 94.6033, aux_2.loss_ce: 0.0339, aux_2.loss_dice: 0.3101, aux_2.acc_seg: 99.2909, loss: 0.6151\n",
      "2022-03-29 02:02:49,979 - mmseg - INFO - Iter [49300/160000]\tlr: 7.207e-03, eta: 22:25:18, time: 0.724, data_time: 0.006, memory: 2073, decode.loss_ce: 0.0793, decode.acc_seg: 95.1570, aux_0.loss_ce: 0.0802, aux_0.acc_seg: 95.1228, aux_1.loss_ce: 0.0828, aux_1.acc_seg: 95.0474, aux_2.loss_ce: 0.0329, aux_2.loss_dice: 0.3122, aux_2.acc_seg: 99.3248, loss: 0.5875\n",
      "2022-03-29 02:03:26,392 - mmseg - INFO - Iter [49350/160000]\tlr: 7.204e-03, eta: 22:24:41, time: 0.728, data_time: 0.006, memory: 2073, decode.loss_ce: 0.0983, decode.acc_seg: 94.4726, aux_0.loss_ce: 0.0985, aux_0.acc_seg: 94.4796, aux_1.loss_ce: 0.1017, aux_1.acc_seg: 94.3129, aux_2.loss_ce: 0.0332, aux_2.loss_dice: 0.3109, aux_2.acc_seg: 99.3130, loss: 0.6426\n",
      "2022-03-29 02:04:02,802 - mmseg - INFO - Iter [49400/160000]\tlr: 7.201e-03, eta: 22:24:04, time: 0.728, data_time: 0.006, memory: 2073, decode.loss_ce: 0.0904, decode.acc_seg: 94.9169, aux_0.loss_ce: 0.0908, aux_0.acc_seg: 94.8782, aux_1.loss_ce: 0.0913, aux_1.acc_seg: 94.7882, aux_2.loss_ce: 0.0342, aux_2.loss_dice: 0.3306, aux_2.acc_seg: 99.3019, loss: 0.6373\n",
      "2022-03-29 02:04:41,838 - mmseg - INFO - Iter [49450/160000]\tlr: 7.198e-03, eta: 22:23:34, time: 0.781, data_time: 0.058, memory: 2073, decode.loss_ce: 0.1035, decode.acc_seg: 94.2483, aux_0.loss_ce: 0.1024, aux_0.acc_seg: 94.2317, aux_1.loss_ce: 0.1057, aux_1.acc_seg: 94.0197, aux_2.loss_ce: 0.0364, aux_2.loss_dice: 0.3260, aux_2.acc_seg: 99.2634, loss: 0.6739\n",
      "2022-03-29 02:05:18,174 - mmseg - INFO - Iter [49500/160000]\tlr: 7.195e-03, eta: 22:22:57, time: 0.727, data_time: 0.006, memory: 2073, decode.loss_ce: 0.0874, decode.acc_seg: 94.9813, aux_0.loss_ce: 0.0887, aux_0.acc_seg: 94.9319, aux_1.loss_ce: 0.0901, aux_1.acc_seg: 94.7681, aux_2.loss_ce: 0.0357, aux_2.loss_dice: 0.3172, aux_2.acc_seg: 99.2701, loss: 0.6192\n"
     ]
    },
    {
     "name": "stderr",
     "output_type": "stream",
     "text": [
      "2022-03-29 02:05:54,453 - mmseg - INFO - Iter [49550/160000]\tlr: 7.192e-03, eta: 22:22:20, time: 0.726, data_time: 0.006, memory: 2073, decode.loss_ce: 0.0787, decode.acc_seg: 95.3510, aux_0.loss_ce: 0.0795, aux_0.acc_seg: 95.3579, aux_1.loss_ce: 0.0820, aux_1.acc_seg: 95.2508, aux_2.loss_ce: 0.0323, aux_2.loss_dice: 0.3073, aux_2.acc_seg: 99.3490, loss: 0.5797\n",
      "2022-03-29 02:06:30,774 - mmseg - INFO - Iter [49600/160000]\tlr: 7.189e-03, eta: 22:21:43, time: 0.727, data_time: 0.006, memory: 2073, decode.loss_ce: 0.0969, decode.acc_seg: 94.5119, aux_0.loss_ce: 0.0976, aux_0.acc_seg: 94.5231, aux_1.loss_ce: 0.0991, aux_1.acc_seg: 94.3822, aux_2.loss_ce: 0.0373, aux_2.loss_dice: 0.3513, aux_2.acc_seg: 99.2257, loss: 0.6823\n",
      "2022-03-29 02:07:07,118 - mmseg - INFO - Iter [49650/160000]\tlr: 7.186e-03, eta: 22:21:07, time: 0.727, data_time: 0.005, memory: 2073, decode.loss_ce: 0.0849, decode.acc_seg: 95.1436, aux_0.loss_ce: 0.0864, aux_0.acc_seg: 95.0960, aux_1.loss_ce: 0.0903, aux_1.acc_seg: 94.9322, aux_2.loss_ce: 0.0351, aux_2.loss_dice: 0.3145, aux_2.acc_seg: 99.2761, loss: 0.6112\n",
      "2022-03-29 02:07:40,698 - mmseg - INFO - Iter [49700/160000]\tlr: 7.184e-03, eta: 22:20:24, time: 0.672, data_time: 0.006, memory: 2073, decode.loss_ce: 0.0805, decode.acc_seg: 95.1138, aux_0.loss_ce: 0.0828, aux_0.acc_seg: 94.9964, aux_1.loss_ce: 0.0840, aux_1.acc_seg: 94.9231, aux_2.loss_ce: 0.0333, aux_2.loss_dice: 0.3020, aux_2.acc_seg: 99.3252, loss: 0.5827\n",
      "2022-03-29 02:08:17,075 - mmseg - INFO - Iter [49750/160000]\tlr: 7.181e-03, eta: 22:19:47, time: 0.727, data_time: 0.005, memory: 2073, decode.loss_ce: 0.0933, decode.acc_seg: 94.7429, aux_0.loss_ce: 0.0927, aux_0.acc_seg: 94.7057, aux_1.loss_ce: 0.0926, aux_1.acc_seg: 94.6458, aux_2.loss_ce: 0.0328, aux_2.loss_dice: 0.3182, aux_2.acc_seg: 99.3212, loss: 0.6295\n",
      "2022-03-29 02:08:53,470 - mmseg - INFO - Iter [49800/160000]\tlr: 7.178e-03, eta: 22:19:11, time: 0.728, data_time: 0.006, memory: 2073, decode.loss_ce: 0.1073, decode.acc_seg: 93.7157, aux_0.loss_ce: 0.1067, aux_0.acc_seg: 93.6547, aux_1.loss_ce: 0.1105, aux_1.acc_seg: 93.5343, aux_2.loss_ce: 0.0372, aux_2.loss_dice: 0.3049, aux_2.acc_seg: 99.2358, loss: 0.6665\n",
      "2022-03-29 02:09:29,786 - mmseg - INFO - Iter [49850/160000]\tlr: 7.175e-03, eta: 22:18:34, time: 0.726, data_time: 0.006, memory: 2073, decode.loss_ce: 0.0938, decode.acc_seg: 94.7058, aux_0.loss_ce: 0.0964, aux_0.acc_seg: 94.6687, aux_1.loss_ce: 0.0962, aux_1.acc_seg: 94.5559, aux_2.loss_ce: 0.0333, aux_2.loss_dice: 0.3030, aux_2.acc_seg: 99.3129, loss: 0.6227\n",
      "2022-03-29 02:10:06,064 - mmseg - INFO - Iter [49900/160000]\tlr: 7.172e-03, eta: 22:17:57, time: 0.726, data_time: 0.006, memory: 2073, decode.loss_ce: 0.0819, decode.acc_seg: 95.4845, aux_0.loss_ce: 0.0806, aux_0.acc_seg: 95.4741, aux_1.loss_ce: 0.0848, aux_1.acc_seg: 95.3453, aux_2.loss_ce: 0.0337, aux_2.loss_dice: 0.3032, aux_2.acc_seg: 99.3013, loss: 0.5842\n",
      "2022-03-29 02:10:42,353 - mmseg - INFO - Iter [49950/160000]\tlr: 7.169e-03, eta: 22:17:20, time: 0.726, data_time: 0.006, memory: 2073, decode.loss_ce: 0.0860, decode.acc_seg: 95.0701, aux_0.loss_ce: 0.0883, aux_0.acc_seg: 95.0399, aux_1.loss_ce: 0.0875, aux_1.acc_seg: 94.9731, aux_2.loss_ce: 0.0329, aux_2.loss_dice: 0.3141, aux_2.acc_seg: 99.3133, loss: 0.6088\n",
      "2022-03-29 02:11:18,696 - mmseg - INFO - Saving checkpoint at 50000 iterations\n",
      "2022-03-29 02:11:18,905 - mmseg - INFO - Iter [50000/160000]\tlr: 7.166e-03, eta: 22:16:44, time: 0.733, data_time: 0.005, memory: 2073, decode.loss_ce: 0.0867, decode.acc_seg: 94.9595, aux_0.loss_ce: 0.0852, aux_0.acc_seg: 94.9608, aux_1.loss_ce: 0.0907, aux_1.acc_seg: 94.7952, aux_2.loss_ce: 0.0342, aux_2.loss_dice: 0.3248, aux_2.acc_seg: 99.2921, loss: 0.6216\n"
     ]
    },
    {
     "name": "stdout",
     "output_type": "stream",
     "text": [
      "[>>>>>>>>>>>>>>>>>>>>>>>>>>>>>] 610/610, 26.8 task/s, elapsed: 23s, ETA:     0s"
     ]
    },
    {
     "name": "stderr",
     "output_type": "stream",
     "text": [
      "2022-03-29 02:11:41,738 - mmseg - INFO - per class results:\n",
      "2022-03-29 02:11:41,738 - mmseg - INFO - \n",
      "+------------+-------+-------+\n",
      "|   Class    |  IoU  |  Acc  |\n",
      "+------------+-------+-------+\n",
      "| background | 96.46 | 99.25 |\n",
      "|   human    | 41.32 | 47.01 |\n",
      "+------------+-------+-------+\n",
      "2022-03-29 02:11:41,739 - mmseg - INFO - Summary:\n",
      "2022-03-29 02:11:41,739 - mmseg - INFO - \n",
      "+-------+-------+-------+\n",
      "|  aAcc |  mIoU |  mAcc |\n",
      "+-------+-------+-------+\n",
      "| 96.55 | 68.89 | 73.13 |\n",
      "+-------+-------+-------+\n",
      "2022-03-29 02:11:41,741 - mmseg - INFO - Iter(val) [610]\taAcc: 0.9655, mIoU: 0.6889, mAcc: 0.7313, IoU.background: 0.9646, IoU.human: 0.4132, Acc.background: 0.9925, Acc.human: 0.4701\n",
      "2022-03-29 02:12:18,112 - mmseg - INFO - Iter [50050/160000]\tlr: 7.163e-03, eta: 22:16:57, time: 1.183, data_time: 0.461, memory: 2073, decode.loss_ce: 0.0984, decode.acc_seg: 94.1667, aux_0.loss_ce: 0.0989, aux_0.acc_seg: 94.1281, aux_1.loss_ce: 0.0997, aux_1.acc_seg: 94.0704, aux_2.loss_ce: 0.0352, aux_2.loss_dice: 0.3244, aux_2.acc_seg: 99.2689, loss: 0.6566\n",
      "2022-03-29 02:12:54,451 - mmseg - INFO - Iter [50100/160000]\tlr: 7.160e-03, eta: 22:16:21, time: 0.727, data_time: 0.005, memory: 2073, decode.loss_ce: 0.0948, decode.acc_seg: 94.2846, aux_0.loss_ce: 0.0973, aux_0.acc_seg: 94.2681, aux_1.loss_ce: 0.0983, aux_1.acc_seg: 94.1455, aux_2.loss_ce: 0.0354, aux_2.loss_dice: 0.3248, aux_2.acc_seg: 99.2704, loss: 0.6507\n",
      "2022-03-29 02:13:33,434 - mmseg - INFO - Iter [50150/160000]\tlr: 7.157e-03, eta: 22:15:50, time: 0.779, data_time: 0.058, memory: 2073, decode.loss_ce: 0.0809, decode.acc_seg: 95.5887, aux_0.loss_ce: 0.0800, aux_0.acc_seg: 95.5696, aux_1.loss_ce: 0.0799, aux_1.acc_seg: 95.5563, aux_2.loss_ce: 0.0301, aux_2.loss_dice: 0.3053, aux_2.acc_seg: 99.3718, loss: 0.5762\n",
      "2022-03-29 02:14:09,764 - mmseg - INFO - Iter [50200/160000]\tlr: 7.155e-03, eta: 22:15:13, time: 0.727, data_time: 0.006, memory: 2073, decode.loss_ce: 0.0871, decode.acc_seg: 95.0455, aux_0.loss_ce: 0.0887, aux_0.acc_seg: 95.0390, aux_1.loss_ce: 0.0923, aux_1.acc_seg: 94.8867, aux_2.loss_ce: 0.0352, aux_2.loss_dice: 0.3103, aux_2.acc_seg: 99.2768, loss: 0.6136\n",
      "2022-03-29 02:14:46,118 - mmseg - INFO - Iter [50250/160000]\tlr: 7.152e-03, eta: 22:14:36, time: 0.727, data_time: 0.005, memory: 2073, decode.loss_ce: 0.0868, decode.acc_seg: 94.7435, aux_0.loss_ce: 0.0865, aux_0.acc_seg: 94.7849, aux_1.loss_ce: 0.0872, aux_1.acc_seg: 94.7079, aux_2.loss_ce: 0.0333, aux_2.loss_dice: 0.3143, aux_2.acc_seg: 99.3022, loss: 0.6081\n",
      "2022-03-29 02:15:19,948 - mmseg - INFO - Iter [50300/160000]\tlr: 7.149e-03, eta: 22:13:54, time: 0.677, data_time: 0.006, memory: 2073, decode.loss_ce: 0.0886, decode.acc_seg: 95.0902, aux_0.loss_ce: 0.0897, aux_0.acc_seg: 95.0410, aux_1.loss_ce: 0.0896, aux_1.acc_seg: 94.9525, aux_2.loss_ce: 0.0321, aux_2.loss_dice: 0.3060, aux_2.acc_seg: 99.3465, loss: 0.6060\n",
      "2022-03-29 02:15:56,300 - mmseg - INFO - Iter [50350/160000]\tlr: 7.146e-03, eta: 22:13:17, time: 0.727, data_time: 0.006, memory: 2073, decode.loss_ce: 0.0733, decode.acc_seg: 95.7399, aux_0.loss_ce: 0.0727, aux_0.acc_seg: 95.7452, aux_1.loss_ce: 0.0765, aux_1.acc_seg: 95.6490, aux_2.loss_ce: 0.0320, aux_2.loss_dice: 0.3194, aux_2.acc_seg: 99.3512, loss: 0.5740\n",
      "2022-03-29 02:16:32,547 - mmseg - INFO - Iter [50400/160000]\tlr: 7.143e-03, eta: 22:12:40, time: 0.726, data_time: 0.006, memory: 2073, decode.loss_ce: 0.1092, decode.acc_seg: 93.7200, aux_0.loss_ce: 0.1103, aux_0.acc_seg: 93.6803, aux_1.loss_ce: 0.1116, aux_1.acc_seg: 93.6051, aux_2.loss_ce: 0.0369, aux_2.loss_dice: 0.3202, aux_2.acc_seg: 99.2387, loss: 0.6881\n",
      "2022-03-29 02:17:08,903 - mmseg - INFO - Iter [50450/160000]\tlr: 7.140e-03, eta: 22:12:03, time: 0.727, data_time: 0.006, memory: 2073, decode.loss_ce: 0.1115, decode.acc_seg: 93.6238, aux_0.loss_ce: 0.1116, aux_0.acc_seg: 93.5941, aux_1.loss_ce: 0.1139, aux_1.acc_seg: 93.5146, aux_2.loss_ce: 0.0364, aux_2.loss_dice: 0.3246, aux_2.acc_seg: 99.2583, loss: 0.6981\n",
      "2022-03-29 02:17:45,235 - mmseg - INFO - Iter [50500/160000]\tlr: 7.137e-03, eta: 22:11:26, time: 0.726, data_time: 0.005, memory: 2073, decode.loss_ce: 0.1070, decode.acc_seg: 93.9285, aux_0.loss_ce: 0.1079, aux_0.acc_seg: 93.9406, aux_1.loss_ce: 0.1082, aux_1.acc_seg: 93.7673, aux_2.loss_ce: 0.0373, aux_2.loss_dice: 0.3271, aux_2.acc_seg: 99.2193, loss: 0.6876\n",
      "2022-03-29 02:18:21,548 - mmseg - INFO - Iter [50550/160000]\tlr: 7.134e-03, eta: 22:10:50, time: 0.726, data_time: 0.006, memory: 2073, decode.loss_ce: 0.1071, decode.acc_seg: 93.7308, aux_0.loss_ce: 0.1078, aux_0.acc_seg: 93.6648, aux_1.loss_ce: 0.1105, aux_1.acc_seg: 93.5711, aux_2.loss_ce: 0.0354, aux_2.loss_dice: 0.3098, aux_2.acc_seg: 99.2694, loss: 0.6706\n",
      "2022-03-29 02:18:57,938 - mmseg - INFO - Iter [50600/160000]\tlr: 7.131e-03, eta: 22:10:13, time: 0.728, data_time: 0.005, memory: 2073, decode.loss_ce: 0.0987, decode.acc_seg: 94.4433, aux_0.loss_ce: 0.0978, aux_0.acc_seg: 94.4303, aux_1.loss_ce: 0.1010, aux_1.acc_seg: 94.3029, aux_2.loss_ce: 0.0359, aux_2.loss_dice: 0.3108, aux_2.acc_seg: 99.2564, loss: 0.6442\n",
      "2022-03-29 02:19:34,321 - mmseg - INFO - Iter [50650/160000]\tlr: 7.129e-03, eta: 22:09:36, time: 0.728, data_time: 0.006, memory: 2073, decode.loss_ce: 0.0930, decode.acc_seg: 94.4449, aux_0.loss_ce: 0.0943, aux_0.acc_seg: 94.4342, aux_1.loss_ce: 0.0964, aux_1.acc_seg: 94.2350, aux_2.loss_ce: 0.0341, aux_2.loss_dice: 0.3016, aux_2.acc_seg: 99.2836, loss: 0.6193\n",
      "2022-03-29 02:20:10,661 - mmseg - INFO - Iter [50700/160000]\tlr: 7.126e-03, eta: 22:09:00, time: 0.727, data_time: 0.005, memory: 2073, decode.loss_ce: 0.0951, decode.acc_seg: 94.5925, aux_0.loss_ce: 0.0956, aux_0.acc_seg: 94.5771, aux_1.loss_ce: 0.0965, aux_1.acc_seg: 94.4932, aux_2.loss_ce: 0.0341, aux_2.loss_dice: 0.3347, aux_2.acc_seg: 99.3132, loss: 0.6559\n",
      "2022-03-29 02:20:46,910 - mmseg - INFO - Iter [50750/160000]\tlr: 7.123e-03, eta: 22:08:22, time: 0.724, data_time: 0.006, memory: 2073, decode.loss_ce: 0.0925, decode.acc_seg: 94.8941, aux_0.loss_ce: 0.0923, aux_0.acc_seg: 94.8156, aux_1.loss_ce: 0.0950, aux_1.acc_seg: 94.6651, aux_2.loss_ce: 0.0348, aux_2.loss_dice: 0.3138, aux_2.acc_seg: 99.2980, loss: 0.6284\n",
      "2022-03-29 02:21:23,204 - mmseg - INFO - Iter [50800/160000]\tlr: 7.120e-03, eta: 22:07:46, time: 0.727, data_time: 0.006, memory: 2073, decode.loss_ce: 0.1023, decode.acc_seg: 93.8888, aux_0.loss_ce: 0.1012, aux_0.acc_seg: 93.9478, aux_1.loss_ce: 0.1048, aux_1.acc_seg: 93.7931, aux_2.loss_ce: 0.0379, aux_2.loss_dice: 0.3112, aux_2.acc_seg: 99.2201, loss: 0.6575\n",
      "2022-03-29 02:22:02,331 - mmseg - INFO - Iter [50850/160000]\tlr: 7.117e-03, eta: 22:07:15, time: 0.783, data_time: 0.059, memory: 2073, decode.loss_ce: 0.0991, decode.acc_seg: 94.5091, aux_0.loss_ce: 0.0996, aux_0.acc_seg: 94.4911, aux_1.loss_ce: 0.1018, aux_1.acc_seg: 94.3282, aux_2.loss_ce: 0.0353, aux_2.loss_dice: 0.3187, aux_2.acc_seg: 99.2766, loss: 0.6545\n",
      "2022-03-29 02:22:38,695 - mmseg - INFO - Iter [50900/160000]\tlr: 7.114e-03, eta: 22:06:38, time: 0.727, data_time: 0.005, memory: 2073, decode.loss_ce: 0.0919, decode.acc_seg: 94.6638, aux_0.loss_ce: 0.0930, aux_0.acc_seg: 94.6474, aux_1.loss_ce: 0.0970, aux_1.acc_seg: 94.5226, aux_2.loss_ce: 0.0364, aux_2.loss_dice: 0.3269, aux_2.acc_seg: 99.2333, loss: 0.6453\n",
      "2022-03-29 02:23:12,386 - mmseg - INFO - Iter [50950/160000]\tlr: 7.111e-03, eta: 22:05:56, time: 0.674, data_time: 0.005, memory: 2073, decode.loss_ce: 0.1012, decode.acc_seg: 94.0338, aux_0.loss_ce: 0.1023, aux_0.acc_seg: 94.0085, aux_1.loss_ce: 0.1024, aux_1.acc_seg: 93.9128, aux_2.loss_ce: 0.0361, aux_2.loss_dice: 0.3180, aux_2.acc_seg: 99.2442, loss: 0.6599\n",
      "2022-03-29 02:23:41,121 - mmseg - INFO - Iter [51000/160000]\tlr: 7.108e-03, eta: 22:05:03, time: 0.575, data_time: 0.006, memory: 2073, decode.loss_ce: 0.0896, decode.acc_seg: 95.0494, aux_0.loss_ce: 0.0910, aux_0.acc_seg: 95.0049, aux_1.loss_ce: 0.0924, aux_1.acc_seg: 94.7896, aux_2.loss_ce: 0.0352, aux_2.loss_dice: 0.3382, aux_2.acc_seg: 99.2647, loss: 0.6464\n",
      "2022-03-29 02:24:17,473 - mmseg - INFO - Iter [51050/160000]\tlr: 7.105e-03, eta: 22:04:26, time: 0.727, data_time: 0.005, memory: 2073, decode.loss_ce: 0.0776, decode.acc_seg: 95.4891, aux_0.loss_ce: 0.0754, aux_0.acc_seg: 95.5010, aux_1.loss_ce: 0.0774, aux_1.acc_seg: 95.3952, aux_2.loss_ce: 0.0305, aux_2.loss_dice: 0.3036, aux_2.acc_seg: 99.3834, loss: 0.5645\n"
     ]
    },
    {
     "name": "stderr",
     "output_type": "stream",
     "text": [
      "2022-03-29 02:24:53,875 - mmseg - INFO - Iter [51100/160000]\tlr: 7.103e-03, eta: 22:03:49, time: 0.728, data_time: 0.005, memory: 2073, decode.loss_ce: 0.0885, decode.acc_seg: 94.9419, aux_0.loss_ce: 0.0911, aux_0.acc_seg: 94.9195, aux_1.loss_ce: 0.0943, aux_1.acc_seg: 94.8286, aux_2.loss_ce: 0.0336, aux_2.loss_dice: 0.3099, aux_2.acc_seg: 99.3191, loss: 0.6174\n",
      "2022-03-29 02:25:30,252 - mmseg - INFO - Iter [51150/160000]\tlr: 7.100e-03, eta: 22:03:13, time: 0.727, data_time: 0.005, memory: 2073, decode.loss_ce: 0.0890, decode.acc_seg: 94.8352, aux_0.loss_ce: 0.0887, aux_0.acc_seg: 94.8192, aux_1.loss_ce: 0.0874, aux_1.acc_seg: 94.6462, aux_2.loss_ce: 0.0336, aux_2.loss_dice: 0.3214, aux_2.acc_seg: 99.3034, loss: 0.6201\n",
      "2022-03-29 02:26:06,656 - mmseg - INFO - Iter [51200/160000]\tlr: 7.097e-03, eta: 22:02:36, time: 0.728, data_time: 0.006, memory: 2073, decode.loss_ce: 0.0849, decode.acc_seg: 95.0542, aux_0.loss_ce: 0.0845, aux_0.acc_seg: 95.0113, aux_1.loss_ce: 0.0898, aux_1.acc_seg: 94.9172, aux_2.loss_ce: 0.0330, aux_2.loss_dice: 0.3104, aux_2.acc_seg: 99.3257, loss: 0.6025\n",
      "2022-03-29 02:26:43,040 - mmseg - INFO - Iter [51250/160000]\tlr: 7.094e-03, eta: 22:01:59, time: 0.728, data_time: 0.006, memory: 2073, decode.loss_ce: 0.1081, decode.acc_seg: 93.7982, aux_0.loss_ce: 0.1072, aux_0.acc_seg: 93.8546, aux_1.loss_ce: 0.1104, aux_1.acc_seg: 93.6951, aux_2.loss_ce: 0.0369, aux_2.loss_dice: 0.3350, aux_2.acc_seg: 99.2356, loss: 0.6976\n",
      "2022-03-29 02:27:19,373 - mmseg - INFO - Iter [51300/160000]\tlr: 7.091e-03, eta: 22:01:23, time: 0.727, data_time: 0.006, memory: 2073, decode.loss_ce: 0.0925, decode.acc_seg: 94.2162, aux_0.loss_ce: 0.0933, aux_0.acc_seg: 94.2140, aux_1.loss_ce: 0.0944, aux_1.acc_seg: 94.0110, aux_2.loss_ce: 0.0347, aux_2.loss_dice: 0.2951, aux_2.acc_seg: 99.2904, loss: 0.6101\n",
      "2022-03-29 02:27:55,768 - mmseg - INFO - Iter [51350/160000]\tlr: 7.088e-03, eta: 22:00:46, time: 0.728, data_time: 0.006, memory: 2073, decode.loss_ce: 0.1108, decode.acc_seg: 93.7587, aux_0.loss_ce: 0.1139, aux_0.acc_seg: 93.6665, aux_1.loss_ce: 0.1150, aux_1.acc_seg: 93.5007, aux_2.loss_ce: 0.0360, aux_2.loss_dice: 0.3244, aux_2.acc_seg: 99.2468, loss: 0.7000\n",
      "2022-03-29 02:28:32,135 - mmseg - INFO - Iter [51400/160000]\tlr: 7.085e-03, eta: 22:00:09, time: 0.727, data_time: 0.006, memory: 2073, decode.loss_ce: 0.0880, decode.acc_seg: 95.0361, aux_0.loss_ce: 0.0870, aux_0.acc_seg: 95.0180, aux_1.loss_ce: 0.0894, aux_1.acc_seg: 94.9120, aux_2.loss_ce: 0.0344, aux_2.loss_dice: 0.3307, aux_2.acc_seg: 99.2814, loss: 0.6295\n",
      "2022-03-29 02:29:08,455 - mmseg - INFO - Iter [51450/160000]\tlr: 7.082e-03, eta: 21:59:33, time: 0.727, data_time: 0.006, memory: 2073, decode.loss_ce: 0.0921, decode.acc_seg: 94.9481, aux_0.loss_ce: 0.0902, aux_0.acc_seg: 94.9958, aux_1.loss_ce: 0.0931, aux_1.acc_seg: 94.8478, aux_2.loss_ce: 0.0349, aux_2.loss_dice: 0.3201, aux_2.acc_seg: 99.2758, loss: 0.6304\n",
      "2022-03-29 02:29:44,818 - mmseg - INFO - Iter [51500/160000]\tlr: 7.079e-03, eta: 21:58:56, time: 0.727, data_time: 0.006, memory: 2073, decode.loss_ce: 0.0792, decode.acc_seg: 95.1134, aux_0.loss_ce: 0.0821, aux_0.acc_seg: 95.0877, aux_1.loss_ce: 0.0840, aux_1.acc_seg: 94.9681, aux_2.loss_ce: 0.0337, aux_2.loss_dice: 0.3037, aux_2.acc_seg: 99.3080, loss: 0.5827\n",
      "2022-03-29 02:30:23,884 - mmseg - INFO - Iter [51550/160000]\tlr: 7.076e-03, eta: 21:58:25, time: 0.782, data_time: 0.059, memory: 2073, decode.loss_ce: 0.0895, decode.acc_seg: 95.1674, aux_0.loss_ce: 0.0906, aux_0.acc_seg: 95.1311, aux_1.loss_ce: 0.0936, aux_1.acc_seg: 94.9752, aux_2.loss_ce: 0.0354, aux_2.loss_dice: 0.3096, aux_2.acc_seg: 99.2683, loss: 0.6187\n",
      "2022-03-29 02:31:00,272 - mmseg - INFO - Iter [51600/160000]\tlr: 7.074e-03, eta: 21:57:48, time: 0.728, data_time: 0.006, memory: 2073, decode.loss_ce: 0.0975, decode.acc_seg: 94.3674, aux_0.loss_ce: 0.0965, aux_0.acc_seg: 94.3860, aux_1.loss_ce: 0.1001, aux_1.acc_seg: 94.2801, aux_2.loss_ce: 0.0354, aux_2.loss_dice: 0.3079, aux_2.acc_seg: 99.2698, loss: 0.6373\n",
      "2022-03-29 02:31:33,885 - mmseg - INFO - Iter [51650/160000]\tlr: 7.071e-03, eta: 21:57:06, time: 0.672, data_time: 0.006, memory: 2073, decode.loss_ce: 0.0861, decode.acc_seg: 94.9477, aux_0.loss_ce: 0.0865, aux_0.acc_seg: 94.9547, aux_1.loss_ce: 0.0856, aux_1.acc_seg: 94.8890, aux_2.loss_ce: 0.0336, aux_2.loss_dice: 0.3032, aux_2.acc_seg: 99.2974, loss: 0.5951\n",
      "2022-03-29 02:32:10,301 - mmseg - INFO - Iter [51700/160000]\tlr: 7.068e-03, eta: 21:56:29, time: 0.728, data_time: 0.005, memory: 2073, decode.loss_ce: 0.0850, decode.acc_seg: 95.3146, aux_0.loss_ce: 0.0851, aux_0.acc_seg: 95.2981, aux_1.loss_ce: 0.0879, aux_1.acc_seg: 95.1551, aux_2.loss_ce: 0.0332, aux_2.loss_dice: 0.3033, aux_2.acc_seg: 99.3137, loss: 0.5945\n",
      "2022-03-29 02:32:46,689 - mmseg - INFO - Iter [51750/160000]\tlr: 7.065e-03, eta: 21:55:53, time: 0.728, data_time: 0.005, memory: 2073, decode.loss_ce: 0.0938, decode.acc_seg: 94.6894, aux_0.loss_ce: 0.0943, aux_0.acc_seg: 94.6209, aux_1.loss_ce: 0.0954, aux_1.acc_seg: 94.4920, aux_2.loss_ce: 0.0332, aux_2.loss_dice: 0.3111, aux_2.acc_seg: 99.3082, loss: 0.6279\n",
      "2022-03-29 02:33:22,997 - mmseg - INFO - Iter [51800/160000]\tlr: 7.062e-03, eta: 21:55:16, time: 0.726, data_time: 0.006, memory: 2073, decode.loss_ce: 0.0813, decode.acc_seg: 95.4614, aux_0.loss_ce: 0.0819, aux_0.acc_seg: 95.4298, aux_1.loss_ce: 0.0844, aux_1.acc_seg: 95.3483, aux_2.loss_ce: 0.0342, aux_2.loss_dice: 0.3106, aux_2.acc_seg: 99.2839, loss: 0.5924\n",
      "2022-03-29 02:33:59,344 - mmseg - INFO - Iter [51850/160000]\tlr: 7.059e-03, eta: 21:54:39, time: 0.727, data_time: 0.005, memory: 2073, decode.loss_ce: 0.1055, decode.acc_seg: 93.9662, aux_0.loss_ce: 0.1044, aux_0.acc_seg: 93.8979, aux_1.loss_ce: 0.1077, aux_1.acc_seg: 93.7853, aux_2.loss_ce: 0.0367, aux_2.loss_dice: 0.3194, aux_2.acc_seg: 99.2159, loss: 0.6736\n",
      "2022-03-29 02:34:35,533 - mmseg - INFO - Iter [51900/160000]\tlr: 7.056e-03, eta: 21:54:02, time: 0.723, data_time: 0.005, memory: 2073, decode.loss_ce: 0.0854, decode.acc_seg: 94.8564, aux_0.loss_ce: 0.0861, aux_0.acc_seg: 94.8330, aux_1.loss_ce: 0.0889, aux_1.acc_seg: 94.7433, aux_2.loss_ce: 0.0344, aux_2.loss_dice: 0.2911, aux_2.acc_seg: 99.2923, loss: 0.5859\n",
      "2022-03-29 02:35:11,873 - mmseg - INFO - Iter [51950/160000]\tlr: 7.053e-03, eta: 21:53:25, time: 0.727, data_time: 0.006, memory: 2073, decode.loss_ce: 0.0870, decode.acc_seg: 94.8435, aux_0.loss_ce: 0.0869, aux_0.acc_seg: 94.8274, aux_1.loss_ce: 0.0899, aux_1.acc_seg: 94.6414, aux_2.loss_ce: 0.0342, aux_2.loss_dice: 0.3135, aux_2.acc_seg: 99.2829, loss: 0.6115\n",
      "2022-03-29 02:35:48,213 - mmseg - INFO - Iter [52000/160000]\tlr: 7.050e-03, eta: 21:52:49, time: 0.727, data_time: 0.005, memory: 2073, decode.loss_ce: 0.1020, decode.acc_seg: 93.8090, aux_0.loss_ce: 0.1022, aux_0.acc_seg: 93.7764, aux_1.loss_ce: 0.1039, aux_1.acc_seg: 93.6563, aux_2.loss_ce: 0.0349, aux_2.loss_dice: 0.2936, aux_2.acc_seg: 99.2656, loss: 0.6366\n",
      "2022-03-29 02:36:24,583 - mmseg - INFO - Iter [52050/160000]\tlr: 7.048e-03, eta: 21:52:12, time: 0.727, data_time: 0.006, memory: 2073, decode.loss_ce: 0.0931, decode.acc_seg: 94.9263, aux_0.loss_ce: 0.0928, aux_0.acc_seg: 94.8247, aux_1.loss_ce: 0.0954, aux_1.acc_seg: 94.7539, aux_2.loss_ce: 0.0352, aux_2.loss_dice: 0.3085, aux_2.acc_seg: 99.2497, loss: 0.6250\n",
      "2022-03-29 02:37:00,883 - mmseg - INFO - Iter [52100/160000]\tlr: 7.045e-03, eta: 21:51:35, time: 0.726, data_time: 0.006, memory: 2073, decode.loss_ce: 0.0758, decode.acc_seg: 95.3086, aux_0.loss_ce: 0.0788, aux_0.acc_seg: 95.2728, aux_1.loss_ce: 0.0807, aux_1.acc_seg: 95.2296, aux_2.loss_ce: 0.0322, aux_2.loss_dice: 0.3018, aux_2.acc_seg: 99.3268, loss: 0.5693\n",
      "2022-03-29 02:37:37,258 - mmseg - INFO - Iter [52150/160000]\tlr: 7.042e-03, eta: 21:50:58, time: 0.727, data_time: 0.005, memory: 2073, decode.loss_ce: 0.0904, decode.acc_seg: 94.8635, aux_0.loss_ce: 0.0896, aux_0.acc_seg: 94.8595, aux_1.loss_ce: 0.0917, aux_1.acc_seg: 94.7248, aux_2.loss_ce: 0.0341, aux_2.loss_dice: 0.3224, aux_2.acc_seg: 99.3030, loss: 0.6282\n",
      "2022-03-29 02:38:13,643 - mmseg - INFO - Iter [52200/160000]\tlr: 7.039e-03, eta: 21:50:22, time: 0.728, data_time: 0.005, memory: 2073, decode.loss_ce: 0.1069, decode.acc_seg: 93.8383, aux_0.loss_ce: 0.1068, aux_0.acc_seg: 93.8176, aux_1.loss_ce: 0.1099, aux_1.acc_seg: 93.6584, aux_2.loss_ce: 0.0368, aux_2.loss_dice: 0.3135, aux_2.acc_seg: 99.2231, loss: 0.6739\n"
     ]
    },
    {
     "name": "stderr",
     "output_type": "stream",
     "text": [
      "2022-03-29 02:38:52,781 - mmseg - INFO - Iter [52250/160000]\tlr: 7.036e-03, eta: 21:49:51, time: 0.782, data_time: 0.059, memory: 2073, decode.loss_ce: 0.0927, decode.acc_seg: 94.7184, aux_0.loss_ce: 0.0933, aux_0.acc_seg: 94.6781, aux_1.loss_ce: 0.0940, aux_1.acc_seg: 94.5199, aux_2.loss_ce: 0.0339, aux_2.loss_dice: 0.3218, aux_2.acc_seg: 99.3111, loss: 0.6357\n",
      "2022-03-29 02:39:26,428 - mmseg - INFO - Iter [52300/160000]\tlr: 7.033e-03, eta: 21:49:08, time: 0.673, data_time: 0.006, memory: 2073, decode.loss_ce: 0.0933, decode.acc_seg: 94.4740, aux_0.loss_ce: 0.0936, aux_0.acc_seg: 94.4389, aux_1.loss_ce: 0.0977, aux_1.acc_seg: 94.2486, aux_2.loss_ce: 0.0369, aux_2.loss_dice: 0.3060, aux_2.acc_seg: 99.2317, loss: 0.6275\n",
      "2022-03-29 02:40:02,693 - mmseg - INFO - Iter [52350/160000]\tlr: 7.030e-03, eta: 21:48:32, time: 0.725, data_time: 0.006, memory: 2073, decode.loss_ce: 0.0870, decode.acc_seg: 94.9967, aux_0.loss_ce: 0.0884, aux_0.acc_seg: 95.0222, aux_1.loss_ce: 0.0896, aux_1.acc_seg: 94.8790, aux_2.loss_ce: 0.0336, aux_2.loss_dice: 0.3185, aux_2.acc_seg: 99.3027, loss: 0.6171\n",
      "2022-03-29 02:40:38,999 - mmseg - INFO - Iter [52400/160000]\tlr: 7.027e-03, eta: 21:47:55, time: 0.727, data_time: 0.006, memory: 2073, decode.loss_ce: 0.0901, decode.acc_seg: 95.0071, aux_0.loss_ce: 0.0911, aux_0.acc_seg: 94.9730, aux_1.loss_ce: 0.0923, aux_1.acc_seg: 94.9249, aux_2.loss_ce: 0.0355, aux_2.loss_dice: 0.3153, aux_2.acc_seg: 99.2742, loss: 0.6242\n",
      "2022-03-29 02:41:15,354 - mmseg - INFO - Iter [52450/160000]\tlr: 7.024e-03, eta: 21:47:18, time: 0.727, data_time: 0.005, memory: 2073, decode.loss_ce: 0.0961, decode.acc_seg: 94.4804, aux_0.loss_ce: 0.0937, aux_0.acc_seg: 94.5150, aux_1.loss_ce: 0.0967, aux_1.acc_seg: 94.3708, aux_2.loss_ce: 0.0362, aux_2.loss_dice: 0.3091, aux_2.acc_seg: 99.2434, loss: 0.6317\n",
      "2022-03-29 02:41:51,708 - mmseg - INFO - Iter [52500/160000]\tlr: 7.021e-03, eta: 21:46:41, time: 0.727, data_time: 0.006, memory: 2073, decode.loss_ce: 0.0966, decode.acc_seg: 94.0742, aux_0.loss_ce: 0.0977, aux_0.acc_seg: 94.0779, aux_1.loss_ce: 0.0994, aux_1.acc_seg: 93.9385, aux_2.loss_ce: 0.0358, aux_2.loss_dice: 0.3203, aux_2.acc_seg: 99.2599, loss: 0.6498\n",
      "2022-03-29 02:42:28,057 - mmseg - INFO - Iter [52550/160000]\tlr: 7.019e-03, eta: 21:46:05, time: 0.727, data_time: 0.006, memory: 2073, decode.loss_ce: 0.1066, decode.acc_seg: 94.0286, aux_0.loss_ce: 0.1069, aux_0.acc_seg: 94.0123, aux_1.loss_ce: 0.1086, aux_1.acc_seg: 93.8508, aux_2.loss_ce: 0.0342, aux_2.loss_dice: 0.3214, aux_2.acc_seg: 99.2906, loss: 0.6778\n",
      "2022-03-29 02:43:04,346 - mmseg - INFO - Iter [52600/160000]\tlr: 7.016e-03, eta: 21:45:28, time: 0.725, data_time: 0.006, memory: 2073, decode.loss_ce: 0.0882, decode.acc_seg: 95.2244, aux_0.loss_ce: 0.0894, aux_0.acc_seg: 95.1631, aux_1.loss_ce: 0.0905, aux_1.acc_seg: 95.0061, aux_2.loss_ce: 0.0345, aux_2.loss_dice: 0.2976, aux_2.acc_seg: 99.2734, loss: 0.6002\n",
      "2022-03-29 02:43:40,700 - mmseg - INFO - Iter [52650/160000]\tlr: 7.013e-03, eta: 21:44:51, time: 0.727, data_time: 0.006, memory: 2073, decode.loss_ce: 0.0684, decode.acc_seg: 95.6149, aux_0.loss_ce: 0.0685, aux_0.acc_seg: 95.6104, aux_1.loss_ce: 0.0724, aux_1.acc_seg: 95.5439, aux_2.loss_ce: 0.0331, aux_2.loss_dice: 0.2992, aux_2.acc_seg: 99.3058, loss: 0.5416\n",
      "2022-03-29 02:44:16,968 - mmseg - INFO - Iter [52700/160000]\tlr: 7.010e-03, eta: 21:44:14, time: 0.726, data_time: 0.006, memory: 2073, decode.loss_ce: 0.0979, decode.acc_seg: 94.7111, aux_0.loss_ce: 0.0987, aux_0.acc_seg: 94.6991, aux_1.loss_ce: 0.0994, aux_1.acc_seg: 94.6468, aux_2.loss_ce: 0.0346, aux_2.loss_dice: 0.3083, aux_2.acc_seg: 99.2864, loss: 0.6389\n",
      "2022-03-29 02:44:53,276 - mmseg - INFO - Iter [52750/160000]\tlr: 7.007e-03, eta: 21:43:38, time: 0.726, data_time: 0.005, memory: 2073, decode.loss_ce: 0.0992, decode.acc_seg: 94.1824, aux_0.loss_ce: 0.0981, aux_0.acc_seg: 94.1851, aux_1.loss_ce: 0.1015, aux_1.acc_seg: 93.9778, aux_2.loss_ce: 0.0361, aux_2.loss_dice: 0.3431, aux_2.acc_seg: 99.2633, loss: 0.6781\n",
      "2022-03-29 02:45:29,626 - mmseg - INFO - Iter [52800/160000]\tlr: 7.004e-03, eta: 21:43:01, time: 0.727, data_time: 0.005, memory: 2073, decode.loss_ce: 0.0923, decode.acc_seg: 94.5544, aux_0.loss_ce: 0.0941, aux_0.acc_seg: 94.5268, aux_1.loss_ce: 0.0951, aux_1.acc_seg: 94.3924, aux_2.loss_ce: 0.0359, aux_2.loss_dice: 0.3233, aux_2.acc_seg: 99.2625, loss: 0.6408\n",
      "2022-03-29 02:46:05,989 - mmseg - INFO - Iter [52850/160000]\tlr: 7.001e-03, eta: 21:42:24, time: 0.727, data_time: 0.006, memory: 2073, decode.loss_ce: 0.0900, decode.acc_seg: 94.5974, aux_0.loss_ce: 0.0901, aux_0.acc_seg: 94.6101, aux_1.loss_ce: 0.0920, aux_1.acc_seg: 94.5260, aux_2.loss_ce: 0.0342, aux_2.loss_dice: 0.3229, aux_2.acc_seg: 99.2891, loss: 0.6292\n",
      "2022-03-29 02:46:44,471 - mmseg - INFO - Iter [52900/160000]\tlr: 6.998e-03, eta: 21:41:52, time: 0.770, data_time: 0.057, memory: 2073, decode.loss_ce: 0.0909, decode.acc_seg: 94.8556, aux_0.loss_ce: 0.0904, aux_0.acc_seg: 94.8804, aux_1.loss_ce: 0.0919, aux_1.acc_seg: 94.7142, aux_2.loss_ce: 0.0339, aux_2.loss_dice: 0.3276, aux_2.acc_seg: 99.3098, loss: 0.6348\n",
      "2022-03-29 02:47:18,603 - mmseg - INFO - Iter [52950/160000]\tlr: 6.995e-03, eta: 21:41:11, time: 0.682, data_time: 0.005, memory: 2073, decode.loss_ce: 0.1061, decode.acc_seg: 94.2808, aux_0.loss_ce: 0.1053, aux_0.acc_seg: 94.2964, aux_1.loss_ce: 0.1064, aux_1.acc_seg: 94.1535, aux_2.loss_ce: 0.0347, aux_2.loss_dice: 0.3071, aux_2.acc_seg: 99.3294, loss: 0.6595\n",
      "2022-03-29 02:47:54,933 - mmseg - INFO - Iter [53000/160000]\tlr: 6.992e-03, eta: 21:40:34, time: 0.726, data_time: 0.005, memory: 2073, decode.loss_ce: 0.0842, decode.acc_seg: 94.9453, aux_0.loss_ce: 0.0843, aux_0.acc_seg: 94.9417, aux_1.loss_ce: 0.0865, aux_1.acc_seg: 94.8747, aux_2.loss_ce: 0.0345, aux_2.loss_dice: 0.3168, aux_2.acc_seg: 99.3058, loss: 0.6064\n",
      "2022-03-29 02:48:31,241 - mmseg - INFO - Iter [53050/160000]\tlr: 6.990e-03, eta: 21:39:57, time: 0.726, data_time: 0.005, memory: 2073, decode.loss_ce: 0.0950, decode.acc_seg: 94.5724, aux_0.loss_ce: 0.0959, aux_0.acc_seg: 94.5513, aux_1.loss_ce: 0.0982, aux_1.acc_seg: 94.4010, aux_2.loss_ce: 0.0342, aux_2.loss_dice: 0.3180, aux_2.acc_seg: 99.3021, loss: 0.6414\n",
      "2022-03-29 02:49:07,656 - mmseg - INFO - Iter [53100/160000]\tlr: 6.987e-03, eta: 21:39:21, time: 0.728, data_time: 0.005, memory: 2073, decode.loss_ce: 0.1027, decode.acc_seg: 94.0807, aux_0.loss_ce: 0.1035, aux_0.acc_seg: 94.1140, aux_1.loss_ce: 0.1060, aux_1.acc_seg: 93.9688, aux_2.loss_ce: 0.0351, aux_2.loss_dice: 0.3230, aux_2.acc_seg: 99.2730, loss: 0.6702\n",
      "2022-03-29 02:49:44,003 - mmseg - INFO - Iter [53150/160000]\tlr: 6.984e-03, eta: 21:38:44, time: 0.727, data_time: 0.006, memory: 2073, decode.loss_ce: 0.0921, decode.acc_seg: 94.6233, aux_0.loss_ce: 0.0917, aux_0.acc_seg: 94.5774, aux_1.loss_ce: 0.0931, aux_1.acc_seg: 94.4600, aux_2.loss_ce: 0.0352, aux_2.loss_dice: 0.3103, aux_2.acc_seg: 99.2644, loss: 0.6224\n",
      "2022-03-29 02:50:20,330 - mmseg - INFO - Iter [53200/160000]\tlr: 6.981e-03, eta: 21:38:07, time: 0.726, data_time: 0.005, memory: 2073, decode.loss_ce: 0.0719, decode.acc_seg: 95.7105, aux_0.loss_ce: 0.0724, aux_0.acc_seg: 95.6955, aux_1.loss_ce: 0.0748, aux_1.acc_seg: 95.5977, aux_2.loss_ce: 0.0332, aux_2.loss_dice: 0.3170, aux_2.acc_seg: 99.3166, loss: 0.5693\n",
      "2022-03-29 02:50:56,655 - mmseg - INFO - Iter [53250/160000]\tlr: 6.978e-03, eta: 21:37:30, time: 0.727, data_time: 0.006, memory: 2073, decode.loss_ce: 0.0887, decode.acc_seg: 94.9190, aux_0.loss_ce: 0.0892, aux_0.acc_seg: 94.9262, aux_1.loss_ce: 0.0900, aux_1.acc_seg: 94.7968, aux_2.loss_ce: 0.0342, aux_2.loss_dice: 0.3256, aux_2.acc_seg: 99.2983, loss: 0.6276\n",
      "2022-03-29 02:51:32,983 - mmseg - INFO - Iter [53300/160000]\tlr: 6.975e-03, eta: 21:36:54, time: 0.727, data_time: 0.006, memory: 2073, decode.loss_ce: 0.0952, decode.acc_seg: 94.3719, aux_0.loss_ce: 0.0942, aux_0.acc_seg: 94.3921, aux_1.loss_ce: 0.0964, aux_1.acc_seg: 94.2840, aux_2.loss_ce: 0.0350, aux_2.loss_dice: 0.3267, aux_2.acc_seg: 99.2809, loss: 0.6475\n",
      "2022-03-29 02:52:09,365 - mmseg - INFO - Iter [53350/160000]\tlr: 6.972e-03, eta: 21:36:17, time: 0.728, data_time: 0.006, memory: 2073, decode.loss_ce: 0.0915, decode.acc_seg: 94.7450, aux_0.loss_ce: 0.0918, aux_0.acc_seg: 94.7412, aux_1.loss_ce: 0.0944, aux_1.acc_seg: 94.5802, aux_2.loss_ce: 0.0337, aux_2.loss_dice: 0.3102, aux_2.acc_seg: 99.3178, loss: 0.6216\n"
     ]
    },
    {
     "name": "stderr",
     "output_type": "stream",
     "text": [
      "2022-03-29 02:52:45,734 - mmseg - INFO - Iter [53400/160000]\tlr: 6.969e-03, eta: 21:35:40, time: 0.727, data_time: 0.005, memory: 2073, decode.loss_ce: 0.1071, decode.acc_seg: 94.0018, aux_0.loss_ce: 0.1074, aux_0.acc_seg: 93.9959, aux_1.loss_ce: 0.1113, aux_1.acc_seg: 93.8443, aux_2.loss_ce: 0.0367, aux_2.loss_dice: 0.3216, aux_2.acc_seg: 99.2432, loss: 0.6840\n",
      "2022-03-29 02:53:22,093 - mmseg - INFO - Iter [53450/160000]\tlr: 6.966e-03, eta: 21:35:04, time: 0.727, data_time: 0.005, memory: 2073, decode.loss_ce: 0.1058, decode.acc_seg: 93.7470, aux_0.loss_ce: 0.1072, aux_0.acc_seg: 93.6975, aux_1.loss_ce: 0.1074, aux_1.acc_seg: 93.5879, aux_2.loss_ce: 0.0366, aux_2.loss_dice: 0.3187, aux_2.acc_seg: 99.2467, loss: 0.6757\n",
      "2022-03-29 02:53:58,422 - mmseg - INFO - Iter [53500/160000]\tlr: 6.963e-03, eta: 21:34:27, time: 0.726, data_time: 0.005, memory: 2073, decode.loss_ce: 0.0967, decode.acc_seg: 94.5969, aux_0.loss_ce: 0.0948, aux_0.acc_seg: 94.5714, aux_1.loss_ce: 0.0973, aux_1.acc_seg: 94.4732, aux_2.loss_ce: 0.0337, aux_2.loss_dice: 0.3144, aux_2.acc_seg: 99.3076, loss: 0.6370\n",
      "2022-03-29 02:54:34,694 - mmseg - INFO - Iter [53550/160000]\tlr: 6.961e-03, eta: 21:33:50, time: 0.725, data_time: 0.006, memory: 2073, decode.loss_ce: 0.0967, decode.acc_seg: 94.3611, aux_0.loss_ce: 0.0994, aux_0.acc_seg: 94.3712, aux_1.loss_ce: 0.1024, aux_1.acc_seg: 94.2084, aux_2.loss_ce: 0.0347, aux_2.loss_dice: 0.3156, aux_2.acc_seg: 99.2902, loss: 0.6488\n",
      "2022-03-29 02:55:11,109 - mmseg - INFO - Iter [53600/160000]\tlr: 6.958e-03, eta: 21:33:14, time: 0.729, data_time: 0.059, memory: 2073, decode.loss_ce: 0.0905, decode.acc_seg: 95.0952, aux_0.loss_ce: 0.0899, aux_0.acc_seg: 95.0538, aux_1.loss_ce: 0.0908, aux_1.acc_seg: 94.9390, aux_2.loss_ce: 0.0365, aux_2.loss_dice: 0.3383, aux_2.acc_seg: 99.2401, loss: 0.6460\n",
      "2022-03-29 02:55:47,452 - mmseg - INFO - Iter [53650/160000]\tlr: 6.955e-03, eta: 21:32:37, time: 0.727, data_time: 0.005, memory: 2073, decode.loss_ce: 0.0905, decode.acc_seg: 94.8165, aux_0.loss_ce: 0.0920, aux_0.acc_seg: 94.7707, aux_1.loss_ce: 0.0936, aux_1.acc_seg: 94.6609, aux_2.loss_ce: 0.0365, aux_2.loss_dice: 0.3279, aux_2.acc_seg: 99.2510, loss: 0.6405\n",
      "2022-03-29 02:56:23,784 - mmseg - INFO - Iter [53700/160000]\tlr: 6.952e-03, eta: 21:32:00, time: 0.727, data_time: 0.005, memory: 2073, decode.loss_ce: 0.0894, decode.acc_seg: 94.7644, aux_0.loss_ce: 0.0907, aux_0.acc_seg: 94.7299, aux_1.loss_ce: 0.0936, aux_1.acc_seg: 94.5445, aux_2.loss_ce: 0.0362, aux_2.loss_dice: 0.3198, aux_2.acc_seg: 99.2490, loss: 0.6297\n",
      "2022-03-29 02:57:00,181 - mmseg - INFO - Iter [53750/160000]\tlr: 6.949e-03, eta: 21:31:24, time: 0.728, data_time: 0.005, memory: 2073, decode.loss_ce: 0.0965, decode.acc_seg: 94.4284, aux_0.loss_ce: 0.0975, aux_0.acc_seg: 94.3995, aux_1.loss_ce: 0.1002, aux_1.acc_seg: 94.2710, aux_2.loss_ce: 0.0353, aux_2.loss_dice: 0.3222, aux_2.acc_seg: 99.2732, loss: 0.6517\n",
      "2022-03-29 02:57:36,600 - mmseg - INFO - Iter [53800/160000]\tlr: 6.946e-03, eta: 21:30:47, time: 0.728, data_time: 0.006, memory: 2073, decode.loss_ce: 0.1050, decode.acc_seg: 94.3198, aux_0.loss_ce: 0.1050, aux_0.acc_seg: 94.3074, aux_1.loss_ce: 0.1058, aux_1.acc_seg: 94.2083, aux_2.loss_ce: 0.0356, aux_2.loss_dice: 0.3237, aux_2.acc_seg: 99.2816, loss: 0.6751\n",
      "2022-03-29 02:58:12,987 - mmseg - INFO - Iter [53850/160000]\tlr: 6.943e-03, eta: 21:30:10, time: 0.728, data_time: 0.005, memory: 2073, decode.loss_ce: 0.1034, decode.acc_seg: 94.0839, aux_0.loss_ce: 0.1055, aux_0.acc_seg: 94.0534, aux_1.loss_ce: 0.1102, aux_1.acc_seg: 93.9439, aux_2.loss_ce: 0.0370, aux_2.loss_dice: 0.3473, aux_2.acc_seg: 99.2344, loss: 0.7032\n",
      "2022-03-29 02:58:49,306 - mmseg - INFO - Iter [53900/160000]\tlr: 6.940e-03, eta: 21:29:34, time: 0.726, data_time: 0.006, memory: 2073, decode.loss_ce: 0.0872, decode.acc_seg: 95.0078, aux_0.loss_ce: 0.0853, aux_0.acc_seg: 95.0007, aux_1.loss_ce: 0.0866, aux_1.acc_seg: 94.9444, aux_2.loss_ce: 0.0326, aux_2.loss_dice: 0.3111, aux_2.acc_seg: 99.3121, loss: 0.6027\n",
      "2022-03-29 02:59:25,545 - mmseg - INFO - Iter [53950/160000]\tlr: 6.937e-03, eta: 21:28:57, time: 0.725, data_time: 0.006, memory: 2073, decode.loss_ce: 0.0838, decode.acc_seg: 95.2212, aux_0.loss_ce: 0.0841, aux_0.acc_seg: 95.1716, aux_1.loss_ce: 0.0892, aux_1.acc_seg: 94.9688, aux_2.loss_ce: 0.0349, aux_2.loss_dice: 0.3249, aux_2.acc_seg: 99.2755, loss: 0.6169\n",
      "2022-03-29 03:00:01,907 - mmseg - INFO - Iter [54000/160000]\tlr: 6.934e-03, eta: 21:28:20, time: 0.727, data_time: 0.006, memory: 2073, decode.loss_ce: 0.0923, decode.acc_seg: 94.6747, aux_0.loss_ce: 0.0947, aux_0.acc_seg: 94.6560, aux_1.loss_ce: 0.0932, aux_1.acc_seg: 94.5633, aux_2.loss_ce: 0.0339, aux_2.loss_dice: 0.3221, aux_2.acc_seg: 99.3083, loss: 0.6362\n",
      "2022-03-29 03:00:38,259 - mmseg - INFO - Iter [54050/160000]\tlr: 6.932e-03, eta: 21:27:43, time: 0.727, data_time: 0.006, memory: 2073, decode.loss_ce: 0.0813, decode.acc_seg: 95.0998, aux_0.loss_ce: 0.0814, aux_0.acc_seg: 95.0926, aux_1.loss_ce: 0.0843, aux_1.acc_seg: 94.9962, aux_2.loss_ce: 0.0331, aux_2.loss_dice: 0.3146, aux_2.acc_seg: 99.3082, loss: 0.5948\n",
      "2022-03-29 03:01:14,561 - mmseg - INFO - Iter [54100/160000]\tlr: 6.929e-03, eta: 21:27:07, time: 0.726, data_time: 0.005, memory: 2073, decode.loss_ce: 0.0891, decode.acc_seg: 94.9147, aux_0.loss_ce: 0.0913, aux_0.acc_seg: 94.8639, aux_1.loss_ce: 0.0916, aux_1.acc_seg: 94.7513, aux_2.loss_ce: 0.0359, aux_2.loss_dice: 0.3090, aux_2.acc_seg: 99.2493, loss: 0.6168\n",
      "2022-03-29 03:01:50,895 - mmseg - INFO - Iter [54150/160000]\tlr: 6.926e-03, eta: 21:26:30, time: 0.727, data_time: 0.006, memory: 2073, decode.loss_ce: 0.0902, decode.acc_seg: 94.8442, aux_0.loss_ce: 0.0911, aux_0.acc_seg: 94.8086, aux_1.loss_ce: 0.0938, aux_1.acc_seg: 94.6202, aux_2.loss_ce: 0.0340, aux_2.loss_dice: 0.3137, aux_2.acc_seg: 99.2953, loss: 0.6228\n",
      "2022-03-29 03:02:26,134 - mmseg - INFO - Iter [54200/160000]\tlr: 6.923e-03, eta: 21:25:51, time: 0.705, data_time: 0.005, memory: 2073, decode.loss_ce: 0.0836, decode.acc_seg: 95.0879, aux_0.loss_ce: 0.0825, aux_0.acc_seg: 95.0771, aux_1.loss_ce: 0.0858, aux_1.acc_seg: 94.9384, aux_2.loss_ce: 0.0342, aux_2.loss_dice: 0.3044, aux_2.acc_seg: 99.2943, loss: 0.5905\n",
      "2022-03-29 03:03:00,991 - mmseg - INFO - Iter [54250/160000]\tlr: 6.920e-03, eta: 21:25:11, time: 0.697, data_time: 0.005, memory: 2073, decode.loss_ce: 0.0809, decode.acc_seg: 95.4776, aux_0.loss_ce: 0.0805, aux_0.acc_seg: 95.4490, aux_1.loss_ce: 0.0839, aux_1.acc_seg: 95.2918, aux_2.loss_ce: 0.0346, aux_2.loss_dice: 0.3313, aux_2.acc_seg: 99.2946, loss: 0.6113\n",
      "2022-03-29 03:03:39,884 - mmseg - INFO - Iter [54300/160000]\tlr: 6.917e-03, eta: 21:24:40, time: 0.778, data_time: 0.056, memory: 2073, decode.loss_ce: 0.1032, decode.acc_seg: 94.2090, aux_0.loss_ce: 0.1042, aux_0.acc_seg: 94.1171, aux_1.loss_ce: 0.1050, aux_1.acc_seg: 94.0018, aux_2.loss_ce: 0.0367, aux_2.loss_dice: 0.3182, aux_2.acc_seg: 99.2435, loss: 0.6673\n",
      "2022-03-29 03:04:16,272 - mmseg - INFO - Iter [54350/160000]\tlr: 6.914e-03, eta: 21:24:03, time: 0.728, data_time: 0.005, memory: 2073, decode.loss_ce: 0.0890, decode.acc_seg: 94.8945, aux_0.loss_ce: 0.0894, aux_0.acc_seg: 94.9008, aux_1.loss_ce: 0.0927, aux_1.acc_seg: 94.7738, aux_2.loss_ce: 0.0340, aux_2.loss_dice: 0.3344, aux_2.acc_seg: 99.3041, loss: 0.6395\n",
      "2022-03-29 03:04:52,645 - mmseg - INFO - Iter [54400/160000]\tlr: 6.911e-03, eta: 21:23:26, time: 0.728, data_time: 0.006, memory: 2073, decode.loss_ce: 0.0857, decode.acc_seg: 95.1550, aux_0.loss_ce: 0.0858, aux_0.acc_seg: 95.1608, aux_1.loss_ce: 0.0876, aux_1.acc_seg: 95.0658, aux_2.loss_ce: 0.0321, aux_2.loss_dice: 0.2971, aux_2.acc_seg: 99.3485, loss: 0.5883\n",
      "2022-03-29 03:05:29,013 - mmseg - INFO - Iter [54450/160000]\tlr: 6.908e-03, eta: 21:22:50, time: 0.727, data_time: 0.005, memory: 2073, decode.loss_ce: 0.0789, decode.acc_seg: 95.3876, aux_0.loss_ce: 0.0807, aux_0.acc_seg: 95.3208, aux_1.loss_ce: 0.0812, aux_1.acc_seg: 95.1984, aux_2.loss_ce: 0.0313, aux_2.loss_dice: 0.3134, aux_2.acc_seg: 99.3577, loss: 0.5854\n",
      "2022-03-29 03:06:05,325 - mmseg - INFO - Iter [54500/160000]\tlr: 6.905e-03, eta: 21:22:13, time: 0.726, data_time: 0.006, memory: 2073, decode.loss_ce: 0.0972, decode.acc_seg: 94.7893, aux_0.loss_ce: 0.0994, aux_0.acc_seg: 94.7636, aux_1.loss_ce: 0.1022, aux_1.acc_seg: 94.5912, aux_2.loss_ce: 0.0351, aux_2.loss_dice: 0.3201, aux_2.acc_seg: 99.2761, loss: 0.6540\n"
     ]
    },
    {
     "name": "stderr",
     "output_type": "stream",
     "text": [
      "2022-03-29 03:06:41,521 - mmseg - INFO - Iter [54550/160000]\tlr: 6.903e-03, eta: 21:21:36, time: 0.725, data_time: 0.006, memory: 2073, decode.loss_ce: 0.0987, decode.acc_seg: 94.3714, aux_0.loss_ce: 0.0986, aux_0.acc_seg: 94.3368, aux_1.loss_ce: 0.1023, aux_1.acc_seg: 94.2106, aux_2.loss_ce: 0.0351, aux_2.loss_dice: 0.3186, aux_2.acc_seg: 99.2728, loss: 0.6532\n",
      "2022-03-29 03:07:17,917 - mmseg - INFO - Iter [54600/160000]\tlr: 6.900e-03, eta: 21:21:00, time: 0.728, data_time: 0.005, memory: 2073, decode.loss_ce: 0.0845, decode.acc_seg: 95.1082, aux_0.loss_ce: 0.0844, aux_0.acc_seg: 95.0912, aux_1.loss_ce: 0.0857, aux_1.acc_seg: 94.8980, aux_2.loss_ce: 0.0341, aux_2.loss_dice: 0.3120, aux_2.acc_seg: 99.3007, loss: 0.6007\n",
      "2022-03-29 03:07:54,325 - mmseg - INFO - Iter [54650/160000]\tlr: 6.897e-03, eta: 21:20:23, time: 0.728, data_time: 0.006, memory: 2073, decode.loss_ce: 0.1026, decode.acc_seg: 93.9089, aux_0.loss_ce: 0.1019, aux_0.acc_seg: 93.8932, aux_1.loss_ce: 0.1049, aux_1.acc_seg: 93.8076, aux_2.loss_ce: 0.0368, aux_2.loss_dice: 0.3290, aux_2.acc_seg: 99.2348, loss: 0.6752\n",
      "2022-03-29 03:08:30,680 - mmseg - INFO - Iter [54700/160000]\tlr: 6.894e-03, eta: 21:19:46, time: 0.727, data_time: 0.006, memory: 2073, decode.loss_ce: 0.0951, decode.acc_seg: 94.2999, aux_0.loss_ce: 0.0958, aux_0.acc_seg: 94.2580, aux_1.loss_ce: 0.0975, aux_1.acc_seg: 94.1411, aux_2.loss_ce: 0.0350, aux_2.loss_dice: 0.3117, aux_2.acc_seg: 99.2641, loss: 0.6350\n",
      "2022-03-29 03:09:07,022 - mmseg - INFO - Iter [54750/160000]\tlr: 6.891e-03, eta: 21:19:10, time: 0.727, data_time: 0.005, memory: 2073, decode.loss_ce: 0.0873, decode.acc_seg: 94.8951, aux_0.loss_ce: 0.0896, aux_0.acc_seg: 94.8560, aux_1.loss_ce: 0.0933, aux_1.acc_seg: 94.6659, aux_2.loss_ce: 0.0386, aux_2.loss_dice: 0.3402, aux_2.acc_seg: 99.1925, loss: 0.6491\n",
      "2022-03-29 03:09:43,355 - mmseg - INFO - Iter [54800/160000]\tlr: 6.888e-03, eta: 21:18:33, time: 0.727, data_time: 0.006, memory: 2073, decode.loss_ce: 0.0943, decode.acc_seg: 94.2951, aux_0.loss_ce: 0.0935, aux_0.acc_seg: 94.2940, aux_1.loss_ce: 0.0965, aux_1.acc_seg: 94.2047, aux_2.loss_ce: 0.0348, aux_2.loss_dice: 0.3011, aux_2.acc_seg: 99.2774, loss: 0.6202\n",
      "2022-03-29 03:10:16,984 - mmseg - INFO - Iter [54850/160000]\tlr: 6.885e-03, eta: 21:17:51, time: 0.673, data_time: 0.006, memory: 2073, decode.loss_ce: 0.0928, decode.acc_seg: 94.7971, aux_0.loss_ce: 0.0926, aux_0.acc_seg: 94.7970, aux_1.loss_ce: 0.0940, aux_1.acc_seg: 94.6913, aux_2.loss_ce: 0.0342, aux_2.loss_dice: 0.3213, aux_2.acc_seg: 99.2972, loss: 0.6349\n",
      "2022-03-29 03:10:53,302 - mmseg - INFO - Iter [54900/160000]\tlr: 6.882e-03, eta: 21:17:14, time: 0.727, data_time: 0.006, memory: 2073, decode.loss_ce: 0.0691, decode.acc_seg: 95.7598, aux_0.loss_ce: 0.0687, aux_0.acc_seg: 95.7770, aux_1.loss_ce: 0.0715, aux_1.acc_seg: 95.6759, aux_2.loss_ce: 0.0303, aux_2.loss_dice: 0.3063, aux_2.acc_seg: 99.3650, loss: 0.5460\n",
      "2022-03-29 03:11:29,647 - mmseg - INFO - Iter [54950/160000]\tlr: 6.879e-03, eta: 21:16:38, time: 0.727, data_time: 0.005, memory: 2073, decode.loss_ce: 0.0927, decode.acc_seg: 94.7970, aux_0.loss_ce: 0.0921, aux_0.acc_seg: 94.7373, aux_1.loss_ce: 0.0941, aux_1.acc_seg: 94.6289, aux_2.loss_ce: 0.0366, aux_2.loss_dice: 0.3505, aux_2.acc_seg: 99.2220, loss: 0.6660\n",
      "2022-03-29 03:12:08,563 - mmseg - INFO - Iter [55000/160000]\tlr: 6.876e-03, eta: 21:16:06, time: 0.778, data_time: 0.058, memory: 2073, decode.loss_ce: 0.0788, decode.acc_seg: 95.5789, aux_0.loss_ce: 0.0797, aux_0.acc_seg: 95.5717, aux_1.loss_ce: 0.0809, aux_1.acc_seg: 95.4697, aux_2.loss_ce: 0.0343, aux_2.loss_dice: 0.3092, aux_2.acc_seg: 99.2934, loss: 0.5828\n"
     ]
    },
    {
     "name": "stdout",
     "output_type": "stream",
     "text": [
      "[>>>>>>>>>>>>>>>>>>>>>>>>>>>>>] 610/610, 26.6 task/s, elapsed: 23s, ETA:     0s"
     ]
    },
    {
     "name": "stderr",
     "output_type": "stream",
     "text": [
      "2022-03-29 03:12:31,536 - mmseg - INFO - per class results:\n",
      "2022-03-29 03:12:31,537 - mmseg - INFO - \n",
      "+------------+-------+-------+\n",
      "|   Class    |  IoU  |  Acc  |\n",
      "+------------+-------+-------+\n",
      "| background | 96.37 | 98.28 |\n",
      "|   human    | 48.35 | 63.55 |\n",
      "+------------+-------+-------+\n",
      "2022-03-29 03:12:31,537 - mmseg - INFO - Summary:\n",
      "2022-03-29 03:12:31,537 - mmseg - INFO - \n",
      "+-------+-------+-------+\n",
      "|  aAcc |  mIoU |  mAcc |\n",
      "+-------+-------+-------+\n",
      "| 96.49 | 72.36 | 80.92 |\n",
      "+-------+-------+-------+\n",
      "2022-03-29 03:12:31,540 - mmseg - INFO - Iter(val) [610]\taAcc: 0.9649, mIoU: 0.7236, mAcc: 0.8092, IoU.background: 0.9637, IoU.human: 0.4835, Acc.background: 0.9828, Acc.human: 0.6355\n",
      "2022-03-29 03:13:07,933 - mmseg - INFO - Iter [55050/160000]\tlr: 6.874e-03, eta: 21:16:13, time: 1.187, data_time: 0.465, memory: 2073, decode.loss_ce: 0.0790, decode.acc_seg: 95.4815, aux_0.loss_ce: 0.0784, aux_0.acc_seg: 95.5254, aux_1.loss_ce: 0.0820, aux_1.acc_seg: 95.3994, aux_2.loss_ce: 0.0332, aux_2.loss_dice: 0.3271, aux_2.acc_seg: 99.3230, loss: 0.5997\n",
      "2022-03-29 03:13:44,300 - mmseg - INFO - Iter [55100/160000]\tlr: 6.871e-03, eta: 21:15:36, time: 0.727, data_time: 0.006, memory: 2073, decode.loss_ce: 0.0956, decode.acc_seg: 94.5528, aux_0.loss_ce: 0.0952, aux_0.acc_seg: 94.5386, aux_1.loss_ce: 0.0997, aux_1.acc_seg: 94.3352, aux_2.loss_ce: 0.0367, aux_2.loss_dice: 0.3152, aux_2.acc_seg: 99.2207, loss: 0.6425\n",
      "2022-03-29 03:14:20,634 - mmseg - INFO - Iter [55150/160000]\tlr: 6.868e-03, eta: 21:15:00, time: 0.727, data_time: 0.006, memory: 2073, decode.loss_ce: 0.0714, decode.acc_seg: 95.7231, aux_0.loss_ce: 0.0729, aux_0.acc_seg: 95.7208, aux_1.loss_ce: 0.0717, aux_1.acc_seg: 95.5963, aux_2.loss_ce: 0.0330, aux_2.loss_dice: 0.2967, aux_2.acc_seg: 99.3191, loss: 0.5458\n",
      "2022-03-29 03:14:56,991 - mmseg - INFO - Iter [55200/160000]\tlr: 6.865e-03, eta: 21:14:23, time: 0.727, data_time: 0.005, memory: 2073, decode.loss_ce: 0.0970, decode.acc_seg: 94.7111, aux_0.loss_ce: 0.0995, aux_0.acc_seg: 94.6952, aux_1.loss_ce: 0.1037, aux_1.acc_seg: 94.6164, aux_2.loss_ce: 0.0356, aux_2.loss_dice: 0.3218, aux_2.acc_seg: 99.2819, loss: 0.6577\n",
      "2022-03-29 03:15:33,302 - mmseg - INFO - Iter [55250/160000]\tlr: 6.862e-03, eta: 21:13:46, time: 0.726, data_time: 0.005, memory: 2073, decode.loss_ce: 0.0813, decode.acc_seg: 95.1774, aux_0.loss_ce: 0.0820, aux_0.acc_seg: 95.1388, aux_1.loss_ce: 0.0822, aux_1.acc_seg: 95.0647, aux_2.loss_ce: 0.0357, aux_2.loss_dice: 0.3189, aux_2.acc_seg: 99.2577, loss: 0.6001\n",
      "2022-03-29 03:16:09,530 - mmseg - INFO - Iter [55300/160000]\tlr: 6.859e-03, eta: 21:13:09, time: 0.724, data_time: 0.005, memory: 2073, decode.loss_ce: 0.0874, decode.acc_seg: 94.8179, aux_0.loss_ce: 0.0871, aux_0.acc_seg: 94.7929, aux_1.loss_ce: 0.0880, aux_1.acc_seg: 94.6627, aux_2.loss_ce: 0.0346, aux_2.loss_dice: 0.3042, aux_2.acc_seg: 99.2754, loss: 0.6014\n",
      "2022-03-29 03:16:45,903 - mmseg - INFO - Iter [55350/160000]\tlr: 6.856e-03, eta: 21:12:32, time: 0.728, data_time: 0.006, memory: 2073, decode.loss_ce: 0.0943, decode.acc_seg: 94.7827, aux_0.loss_ce: 0.0930, aux_0.acc_seg: 94.7705, aux_1.loss_ce: 0.0959, aux_1.acc_seg: 94.6622, aux_2.loss_ce: 0.0363, aux_2.loss_dice: 0.3095, aux_2.acc_seg: 99.2415, loss: 0.6290\n",
      "2022-03-29 03:17:22,269 - mmseg - INFO - Iter [55400/160000]\tlr: 6.853e-03, eta: 21:11:56, time: 0.727, data_time: 0.005, memory: 2073, decode.loss_ce: 0.1107, decode.acc_seg: 93.7804, aux_0.loss_ce: 0.1116, aux_0.acc_seg: 93.7632, aux_1.loss_ce: 0.1152, aux_1.acc_seg: 93.5977, aux_2.loss_ce: 0.0369, aux_2.loss_dice: 0.3187, aux_2.acc_seg: 99.2190, loss: 0.6932\n",
      "2022-03-29 03:17:55,924 - mmseg - INFO - Iter [55450/160000]\tlr: 6.850e-03, eta: 21:11:14, time: 0.673, data_time: 0.005, memory: 2073, decode.loss_ce: 0.1011, decode.acc_seg: 94.0507, aux_0.loss_ce: 0.1007, aux_0.acc_seg: 94.0364, aux_1.loss_ce: 0.1023, aux_1.acc_seg: 93.9448, aux_2.loss_ce: 0.0356, aux_2.loss_dice: 0.3251, aux_2.acc_seg: 99.2512, loss: 0.6649\n",
      "2022-03-29 03:18:32,268 - mmseg - INFO - Iter [55500/160000]\tlr: 6.847e-03, eta: 21:10:37, time: 0.727, data_time: 0.005, memory: 2073, decode.loss_ce: 0.0971, decode.acc_seg: 94.3758, aux_0.loss_ce: 0.0989, aux_0.acc_seg: 94.3485, aux_1.loss_ce: 0.0997, aux_1.acc_seg: 94.2402, aux_2.loss_ce: 0.0342, aux_2.loss_dice: 0.3181, aux_2.acc_seg: 99.2896, loss: 0.6480\n",
      "2022-03-29 03:19:08,604 - mmseg - INFO - Iter [55550/160000]\tlr: 6.844e-03, eta: 21:10:00, time: 0.727, data_time: 0.005, memory: 2073, decode.loss_ce: 0.0707, decode.acc_seg: 95.8179, aux_0.loss_ce: 0.0706, aux_0.acc_seg: 95.7910, aux_1.loss_ce: 0.0756, aux_1.acc_seg: 95.6381, aux_2.loss_ce: 0.0325, aux_2.loss_dice: 0.3041, aux_2.acc_seg: 99.3209, loss: 0.5535\n",
      "2022-03-29 03:19:40,843 - mmseg - INFO - Iter [55600/160000]\tlr: 6.842e-03, eta: 21:09:16, time: 0.645, data_time: 0.006, memory: 2073, decode.loss_ce: 0.0915, decode.acc_seg: 94.7223, aux_0.loss_ce: 0.0921, aux_0.acc_seg: 94.7230, aux_1.loss_ce: 0.0940, aux_1.acc_seg: 94.6156, aux_2.loss_ce: 0.0332, aux_2.loss_dice: 0.3049, aux_2.acc_seg: 99.3142, loss: 0.6157\n",
      "2022-03-29 03:20:13,325 - mmseg - INFO - Iter [55650/160000]\tlr: 6.839e-03, eta: 21:08:32, time: 0.650, data_time: 0.005, memory: 2073, decode.loss_ce: 0.1069, decode.acc_seg: 93.8273, aux_0.loss_ce: 0.1069, aux_0.acc_seg: 93.6963, aux_1.loss_ce: 0.1085, aux_1.acc_seg: 93.6071, aux_2.loss_ce: 0.0369, aux_2.loss_dice: 0.3341, aux_2.acc_seg: 99.2196, loss: 0.6933\n",
      "2022-03-29 03:20:52,419 - mmseg - INFO - Iter [55700/160000]\tlr: 6.836e-03, eta: 21:08:00, time: 0.781, data_time: 0.058, memory: 2073, decode.loss_ce: 0.0862, decode.acc_seg: 95.0824, aux_0.loss_ce: 0.0871, aux_0.acc_seg: 95.0873, aux_1.loss_ce: 0.0893, aux_1.acc_seg: 94.9519, aux_2.loss_ce: 0.0349, aux_2.loss_dice: 0.3236, aux_2.acc_seg: 99.2609, loss: 0.6211\n",
      "2022-03-29 03:21:28,666 - mmseg - INFO - Iter [55750/160000]\tlr: 6.833e-03, eta: 21:07:24, time: 0.725, data_time: 0.006, memory: 2073, decode.loss_ce: 0.0852, decode.acc_seg: 95.1712, aux_0.loss_ce: 0.0849, aux_0.acc_seg: 95.1111, aux_1.loss_ce: 0.0875, aux_1.acc_seg: 95.0155, aux_2.loss_ce: 0.0306, aux_2.loss_dice: 0.3111, aux_2.acc_seg: 99.3708, loss: 0.5993\n",
      "2022-03-29 03:22:04,980 - mmseg - INFO - Iter [55800/160000]\tlr: 6.830e-03, eta: 21:06:47, time: 0.727, data_time: 0.006, memory: 2073, decode.loss_ce: 0.0779, decode.acc_seg: 95.4489, aux_0.loss_ce: 0.0791, aux_0.acc_seg: 95.4524, aux_1.loss_ce: 0.0814, aux_1.acc_seg: 95.2758, aux_2.loss_ce: 0.0318, aux_2.loss_dice: 0.2844, aux_2.acc_seg: 99.3369, loss: 0.5546\n",
      "2022-03-29 03:22:41,348 - mmseg - INFO - Iter [55850/160000]\tlr: 6.827e-03, eta: 21:06:10, time: 0.727, data_time: 0.005, memory: 2073, decode.loss_ce: 0.0993, decode.acc_seg: 94.3252, aux_0.loss_ce: 0.0994, aux_0.acc_seg: 94.2803, aux_1.loss_ce: 0.1016, aux_1.acc_seg: 94.2045, aux_2.loss_ce: 0.0346, aux_2.loss_dice: 0.3323, aux_2.acc_seg: 99.2760, loss: 0.6674\n",
      "2022-03-29 03:23:17,712 - mmseg - INFO - Iter [55900/160000]\tlr: 6.824e-03, eta: 21:05:34, time: 0.727, data_time: 0.006, memory: 2073, decode.loss_ce: 0.0912, decode.acc_seg: 94.7926, aux_0.loss_ce: 0.0924, aux_0.acc_seg: 94.7794, aux_1.loss_ce: 0.0950, aux_1.acc_seg: 94.6721, aux_2.loss_ce: 0.0358, aux_2.loss_dice: 0.3101, aux_2.acc_seg: 99.2656, loss: 0.6246\n",
      "2022-03-29 03:23:54,034 - mmseg - INFO - Iter [55950/160000]\tlr: 6.821e-03, eta: 21:04:57, time: 0.726, data_time: 0.006, memory: 2073, decode.loss_ce: 0.0899, decode.acc_seg: 95.0886, aux_0.loss_ce: 0.0899, aux_0.acc_seg: 95.0598, aux_1.loss_ce: 0.0927, aux_1.acc_seg: 94.8773, aux_2.loss_ce: 0.0342, aux_2.loss_dice: 0.3234, aux_2.acc_seg: 99.2940, loss: 0.6301\n",
      "2022-03-29 03:24:30,335 - mmseg - INFO - Iter [56000/160000]\tlr: 6.818e-03, eta: 21:04:20, time: 0.726, data_time: 0.005, memory: 2073, decode.loss_ce: 0.0953, decode.acc_seg: 94.2944, aux_0.loss_ce: 0.0963, aux_0.acc_seg: 94.2375, aux_1.loss_ce: 0.0988, aux_1.acc_seg: 94.0836, aux_2.loss_ce: 0.0382, aux_2.loss_dice: 0.3402, aux_2.acc_seg: 99.1740, loss: 0.6688\n",
      "2022-03-29 03:25:06,719 - mmseg - INFO - Iter [56050/160000]\tlr: 6.815e-03, eta: 21:03:43, time: 0.728, data_time: 0.006, memory: 2073, decode.loss_ce: 0.0952, decode.acc_seg: 94.6995, aux_0.loss_ce: 0.0957, aux_0.acc_seg: 94.6601, aux_1.loss_ce: 0.0990, aux_1.acc_seg: 94.5706, aux_2.loss_ce: 0.0332, aux_2.loss_dice: 0.3148, aux_2.acc_seg: 99.3115, loss: 0.6379\n"
     ]
    },
    {
     "name": "stderr",
     "output_type": "stream",
     "text": [
      "2022-03-29 03:25:42,986 - mmseg - INFO - Iter [56100/160000]\tlr: 6.813e-03, eta: 21:03:06, time: 0.726, data_time: 0.006, memory: 2073, decode.loss_ce: 0.0860, decode.acc_seg: 94.9365, aux_0.loss_ce: 0.0856, aux_0.acc_seg: 94.9436, aux_1.loss_ce: 0.0864, aux_1.acc_seg: 94.8530, aux_2.loss_ce: 0.0349, aux_2.loss_dice: 0.3232, aux_2.acc_seg: 99.2860, loss: 0.6162\n",
      "2022-03-29 03:26:16,736 - mmseg - INFO - Iter [56150/160000]\tlr: 6.810e-03, eta: 21:02:25, time: 0.675, data_time: 0.006, memory: 2073, decode.loss_ce: 0.0984, decode.acc_seg: 94.5588, aux_0.loss_ce: 0.0980, aux_0.acc_seg: 94.5537, aux_1.loss_ce: 0.0999, aux_1.acc_seg: 94.4293, aux_2.loss_ce: 0.0337, aux_2.loss_dice: 0.3101, aux_2.acc_seg: 99.3029, loss: 0.6400\n",
      "2022-03-29 03:26:53,019 - mmseg - INFO - Iter [56200/160000]\tlr: 6.807e-03, eta: 21:01:48, time: 0.725, data_time: 0.006, memory: 2073, decode.loss_ce: 0.0773, decode.acc_seg: 95.4447, aux_0.loss_ce: 0.0783, aux_0.acc_seg: 95.4135, aux_1.loss_ce: 0.0801, aux_1.acc_seg: 95.3310, aux_2.loss_ce: 0.0333, aux_2.loss_dice: 0.3102, aux_2.acc_seg: 99.3052, loss: 0.5792\n",
      "2022-03-29 03:27:29,291 - mmseg - INFO - Iter [56250/160000]\tlr: 6.804e-03, eta: 21:01:11, time: 0.726, data_time: 0.006, memory: 2073, decode.loss_ce: 0.0853, decode.acc_seg: 94.9763, aux_0.loss_ce: 0.0848, aux_0.acc_seg: 94.9772, aux_1.loss_ce: 0.0870, aux_1.acc_seg: 94.8223, aux_2.loss_ce: 0.0338, aux_2.loss_dice: 0.2946, aux_2.acc_seg: 99.2862, loss: 0.5856\n",
      "2022-03-29 03:28:05,609 - mmseg - INFO - Iter [56300/160000]\tlr: 6.801e-03, eta: 21:00:35, time: 0.727, data_time: 0.006, memory: 2073, decode.loss_ce: 0.0915, decode.acc_seg: 94.8955, aux_0.loss_ce: 0.0920, aux_0.acc_seg: 94.8680, aux_1.loss_ce: 0.0935, aux_1.acc_seg: 94.7341, aux_2.loss_ce: 0.0363, aux_2.loss_dice: 0.3243, aux_2.acc_seg: 99.2308, loss: 0.6377\n",
      "2022-03-29 03:28:41,975 - mmseg - INFO - Iter [56350/160000]\tlr: 6.798e-03, eta: 20:59:58, time: 0.727, data_time: 0.005, memory: 2073, decode.loss_ce: 0.0852, decode.acc_seg: 94.9591, aux_0.loss_ce: 0.0857, aux_0.acc_seg: 94.9474, aux_1.loss_ce: 0.0889, aux_1.acc_seg: 94.7868, aux_2.loss_ce: 0.0340, aux_2.loss_dice: 0.3111, aux_2.acc_seg: 99.2918, loss: 0.6048\n",
      "2022-03-29 03:29:20,999 - mmseg - INFO - Iter [56400/160000]\tlr: 6.795e-03, eta: 20:59:26, time: 0.780, data_time: 0.058, memory: 2073, decode.loss_ce: 0.0938, decode.acc_seg: 94.6537, aux_0.loss_ce: 0.0951, aux_0.acc_seg: 94.6123, aux_1.loss_ce: 0.0954, aux_1.acc_seg: 94.4763, aux_2.loss_ce: 0.0342, aux_2.loss_dice: 0.3143, aux_2.acc_seg: 99.2837, loss: 0.6327\n",
      "2022-03-29 03:29:57,253 - mmseg - INFO - Iter [56450/160000]\tlr: 6.792e-03, eta: 20:58:49, time: 0.726, data_time: 0.006, memory: 2073, decode.loss_ce: 0.1046, decode.acc_seg: 93.8720, aux_0.loss_ce: 0.1045, aux_0.acc_seg: 93.8469, aux_1.loss_ce: 0.1064, aux_1.acc_seg: 93.7777, aux_2.loss_ce: 0.0367, aux_2.loss_dice: 0.3246, aux_2.acc_seg: 99.2558, loss: 0.6767\n",
      "2022-03-29 03:30:33,650 - mmseg - INFO - Iter [56500/160000]\tlr: 6.789e-03, eta: 20:58:13, time: 0.728, data_time: 0.005, memory: 2073, decode.loss_ce: 0.0913, decode.acc_seg: 94.7817, aux_0.loss_ce: 0.0933, aux_0.acc_seg: 94.7390, aux_1.loss_ce: 0.0932, aux_1.acc_seg: 94.5980, aux_2.loss_ce: 0.0342, aux_2.loss_dice: 0.3127, aux_2.acc_seg: 99.2805, loss: 0.6247\n",
      "2022-03-29 03:31:10,029 - mmseg - INFO - Iter [56550/160000]\tlr: 6.786e-03, eta: 20:57:36, time: 0.727, data_time: 0.005, memory: 2073, decode.loss_ce: 0.0766, decode.acc_seg: 95.5313, aux_0.loss_ce: 0.0749, aux_0.acc_seg: 95.5172, aux_1.loss_ce: 0.0815, aux_1.acc_seg: 95.3588, aux_2.loss_ce: 0.0320, aux_2.loss_dice: 0.3201, aux_2.acc_seg: 99.3303, loss: 0.5851\n",
      "2022-03-29 03:31:46,405 - mmseg - INFO - Iter [56600/160000]\tlr: 6.783e-03, eta: 20:56:59, time: 0.728, data_time: 0.006, memory: 2073, decode.loss_ce: 0.0959, decode.acc_seg: 94.6522, aux_0.loss_ce: 0.0973, aux_0.acc_seg: 94.6104, aux_1.loss_ce: 0.0971, aux_1.acc_seg: 94.4909, aux_2.loss_ce: 0.0364, aux_2.loss_dice: 0.3327, aux_2.acc_seg: 99.2448, loss: 0.6595\n",
      "2022-03-29 03:32:22,742 - mmseg - INFO - Iter [56650/160000]\tlr: 6.781e-03, eta: 20:56:23, time: 0.727, data_time: 0.005, memory: 2073, decode.loss_ce: 0.0929, decode.acc_seg: 94.4223, aux_0.loss_ce: 0.0929, aux_0.acc_seg: 94.3922, aux_1.loss_ce: 0.0944, aux_1.acc_seg: 94.2210, aux_2.loss_ce: 0.0384, aux_2.loss_dice: 0.3559, aux_2.acc_seg: 99.1747, loss: 0.6744\n",
      "2022-03-29 03:32:59,104 - mmseg - INFO - Iter [56700/160000]\tlr: 6.778e-03, eta: 20:55:46, time: 0.727, data_time: 0.005, memory: 2073, decode.loss_ce: 0.0991, decode.acc_seg: 94.3698, aux_0.loss_ce: 0.0995, aux_0.acc_seg: 94.3339, aux_1.loss_ce: 0.1007, aux_1.acc_seg: 94.2560, aux_2.loss_ce: 0.0371, aux_2.loss_dice: 0.3209, aux_2.acc_seg: 99.2143, loss: 0.6573\n",
      "2022-03-29 03:33:35,529 - mmseg - INFO - Iter [56750/160000]\tlr: 6.775e-03, eta: 20:55:09, time: 0.728, data_time: 0.005, memory: 2073, decode.loss_ce: 0.1005, decode.acc_seg: 94.5317, aux_0.loss_ce: 0.0994, aux_0.acc_seg: 94.5241, aux_1.loss_ce: 0.1030, aux_1.acc_seg: 94.3486, aux_2.loss_ce: 0.0366, aux_2.loss_dice: 0.3364, aux_2.acc_seg: 99.2474, loss: 0.6759\n",
      "2022-03-29 03:34:09,108 - mmseg - INFO - Iter [56800/160000]\tlr: 6.772e-03, eta: 20:54:28, time: 0.672, data_time: 0.006, memory: 2073, decode.loss_ce: 0.0941, decode.acc_seg: 94.4399, aux_0.loss_ce: 0.0939, aux_0.acc_seg: 94.4719, aux_1.loss_ce: 0.0951, aux_1.acc_seg: 94.3258, aux_2.loss_ce: 0.0342, aux_2.loss_dice: 0.3198, aux_2.acc_seg: 99.2864, loss: 0.6371\n",
      "2022-03-29 03:34:45,463 - mmseg - INFO - Iter [56850/160000]\tlr: 6.769e-03, eta: 20:53:51, time: 0.727, data_time: 0.005, memory: 2073, decode.loss_ce: 0.0753, decode.acc_seg: 95.6687, aux_0.loss_ce: 0.0754, aux_0.acc_seg: 95.6706, aux_1.loss_ce: 0.0777, aux_1.acc_seg: 95.4867, aux_2.loss_ce: 0.0314, aux_2.loss_dice: 0.3023, aux_2.acc_seg: 99.3507, loss: 0.5621\n",
      "2022-03-29 03:35:21,808 - mmseg - INFO - Iter [56900/160000]\tlr: 6.766e-03, eta: 20:53:14, time: 0.727, data_time: 0.005, memory: 2073, decode.loss_ce: 0.0835, decode.acc_seg: 95.2020, aux_0.loss_ce: 0.0850, aux_0.acc_seg: 95.1411, aux_1.loss_ce: 0.0868, aux_1.acc_seg: 95.0542, aux_2.loss_ce: 0.0339, aux_2.loss_dice: 0.3126, aux_2.acc_seg: 99.2900, loss: 0.6017\n",
      "2022-03-29 03:35:57,997 - mmseg - INFO - Iter [56950/160000]\tlr: 6.763e-03, eta: 20:52:37, time: 0.724, data_time: 0.006, memory: 2073, decode.loss_ce: 0.0746, decode.acc_seg: 95.5025, aux_0.loss_ce: 0.0748, aux_0.acc_seg: 95.4897, aux_1.loss_ce: 0.0775, aux_1.acc_seg: 95.3738, aux_2.loss_ce: 0.0339, aux_2.loss_dice: 0.3013, aux_2.acc_seg: 99.2849, loss: 0.5621\n",
      "2022-03-29 03:36:34,429 - mmseg - INFO - Iter [57000/160000]\tlr: 6.760e-03, eta: 20:52:01, time: 0.728, data_time: 0.006, memory: 2073, decode.loss_ce: 0.0910, decode.acc_seg: 94.8711, aux_0.loss_ce: 0.0918, aux_0.acc_seg: 94.8617, aux_1.loss_ce: 0.0935, aux_1.acc_seg: 94.7436, aux_2.loss_ce: 0.0352, aux_2.loss_dice: 0.3259, aux_2.acc_seg: 99.2645, loss: 0.6375\n",
      "2022-03-29 03:37:10,747 - mmseg - INFO - Iter [57050/160000]\tlr: 6.757e-03, eta: 20:51:24, time: 0.727, data_time: 0.006, memory: 2073, decode.loss_ce: 0.0873, decode.acc_seg: 95.0398, aux_0.loss_ce: 0.0880, aux_0.acc_seg: 95.0399, aux_1.loss_ce: 0.0895, aux_1.acc_seg: 94.9358, aux_2.loss_ce: 0.0307, aux_2.loss_dice: 0.3113, aux_2.acc_seg: 99.3755, loss: 0.6068\n",
      "2022-03-29 03:37:49,788 - mmseg - INFO - Iter [57100/160000]\tlr: 6.754e-03, eta: 20:50:52, time: 0.780, data_time: 0.058, memory: 2073, decode.loss_ce: 0.0916, decode.acc_seg: 95.0287, aux_0.loss_ce: 0.0914, aux_0.acc_seg: 95.0046, aux_1.loss_ce: 0.0945, aux_1.acc_seg: 94.7984, aux_2.loss_ce: 0.0353, aux_2.loss_dice: 0.3317, aux_2.acc_seg: 99.2644, loss: 0.6445\n",
      "2022-03-29 03:38:26,194 - mmseg - INFO - Iter [57150/160000]\tlr: 6.751e-03, eta: 20:50:16, time: 0.728, data_time: 0.006, memory: 2073, decode.loss_ce: 0.0912, decode.acc_seg: 94.5923, aux_0.loss_ce: 0.0908, aux_0.acc_seg: 94.6165, aux_1.loss_ce: 0.0926, aux_1.acc_seg: 94.4193, aux_2.loss_ce: 0.0354, aux_2.loss_dice: 0.3138, aux_2.acc_seg: 99.2629, loss: 0.6237\n",
      "2022-03-29 03:39:02,505 - mmseg - INFO - Iter [57200/160000]\tlr: 6.749e-03, eta: 20:49:39, time: 0.726, data_time: 0.006, memory: 2073, decode.loss_ce: 0.0970, decode.acc_seg: 94.2831, aux_0.loss_ce: 0.0961, aux_0.acc_seg: 94.2932, aux_1.loss_ce: 0.0984, aux_1.acc_seg: 94.1134, aux_2.loss_ce: 0.0348, aux_2.loss_dice: 0.3051, aux_2.acc_seg: 99.2618, loss: 0.6314\n"
     ]
    },
    {
     "name": "stderr",
     "output_type": "stream",
     "text": [
      "2022-03-29 03:39:38,760 - mmseg - INFO - Iter [57250/160000]\tlr: 6.746e-03, eta: 20:49:02, time: 0.726, data_time: 0.006, memory: 2073, decode.loss_ce: 0.1026, decode.acc_seg: 94.4375, aux_0.loss_ce: 0.1042, aux_0.acc_seg: 94.4057, aux_1.loss_ce: 0.1057, aux_1.acc_seg: 94.2529, aux_2.loss_ce: 0.0366, aux_2.loss_dice: 0.3284, aux_2.acc_seg: 99.2373, loss: 0.6775\n",
      "2022-03-29 03:40:15,113 - mmseg - INFO - Iter [57300/160000]\tlr: 6.743e-03, eta: 20:48:25, time: 0.727, data_time: 0.006, memory: 2073, decode.loss_ce: 0.0927, decode.acc_seg: 94.6037, aux_0.loss_ce: 0.0947, aux_0.acc_seg: 94.5621, aux_1.loss_ce: 0.0967, aux_1.acc_seg: 94.4607, aux_2.loss_ce: 0.0378, aux_2.loss_dice: 0.3270, aux_2.acc_seg: 99.2068, loss: 0.6489\n",
      "2022-03-29 03:40:51,481 - mmseg - INFO - Iter [57350/160000]\tlr: 6.740e-03, eta: 20:47:49, time: 0.727, data_time: 0.005, memory: 2073, decode.loss_ce: 0.0792, decode.acc_seg: 95.5316, aux_0.loss_ce: 0.0788, aux_0.acc_seg: 95.5033, aux_1.loss_ce: 0.0800, aux_1.acc_seg: 95.4447, aux_2.loss_ce: 0.0320, aux_2.loss_dice: 0.2987, aux_2.acc_seg: 99.3420, loss: 0.5688\n",
      "2022-03-29 03:41:27,822 - mmseg - INFO - Iter [57400/160000]\tlr: 6.737e-03, eta: 20:47:12, time: 0.727, data_time: 0.006, memory: 2073, decode.loss_ce: 0.0992, decode.acc_seg: 94.2632, aux_0.loss_ce: 0.0993, aux_0.acc_seg: 94.2501, aux_1.loss_ce: 0.1017, aux_1.acc_seg: 94.1523, aux_2.loss_ce: 0.0363, aux_2.loss_dice: 0.3211, aux_2.acc_seg: 99.2478, loss: 0.6575\n",
      "2022-03-29 03:42:01,505 - mmseg - INFO - Iter [57450/160000]\tlr: 6.734e-03, eta: 20:46:31, time: 0.673, data_time: 0.006, memory: 2073, decode.loss_ce: 0.0821, decode.acc_seg: 95.2003, aux_0.loss_ce: 0.0806, aux_0.acc_seg: 95.1856, aux_1.loss_ce: 0.0838, aux_1.acc_seg: 95.0872, aux_2.loss_ce: 0.0368, aux_2.loss_dice: 0.3306, aux_2.acc_seg: 99.2291, loss: 0.6138\n",
      "2022-03-29 03:42:37,871 - mmseg - INFO - Iter [57500/160000]\tlr: 6.731e-03, eta: 20:45:54, time: 0.728, data_time: 0.006, memory: 2073, decode.loss_ce: 0.0747, decode.acc_seg: 95.7513, aux_0.loss_ce: 0.0759, aux_0.acc_seg: 95.7522, aux_1.loss_ce: 0.0771, aux_1.acc_seg: 95.5966, aux_2.loss_ce: 0.0338, aux_2.loss_dice: 0.3288, aux_2.acc_seg: 99.2962, loss: 0.5903\n",
      "2022-03-29 03:43:14,199 - mmseg - INFO - Iter [57550/160000]\tlr: 6.728e-03, eta: 20:45:17, time: 0.726, data_time: 0.006, memory: 2073, decode.loss_ce: 0.0730, decode.acc_seg: 95.8019, aux_0.loss_ce: 0.0747, aux_0.acc_seg: 95.8156, aux_1.loss_ce: 0.0768, aux_1.acc_seg: 95.6868, aux_2.loss_ce: 0.0336, aux_2.loss_dice: 0.3215, aux_2.acc_seg: 99.3069, loss: 0.5797\n",
      "2022-03-29 03:43:50,537 - mmseg - INFO - Iter [57600/160000]\tlr: 6.725e-03, eta: 20:44:41, time: 0.727, data_time: 0.006, memory: 2073, decode.loss_ce: 0.0797, decode.acc_seg: 95.6411, aux_0.loss_ce: 0.0793, aux_0.acc_seg: 95.6310, aux_1.loss_ce: 0.0816, aux_1.acc_seg: 95.5225, aux_2.loss_ce: 0.0336, aux_2.loss_dice: 0.3154, aux_2.acc_seg: 99.2976, loss: 0.5895\n",
      "2022-03-29 03:44:26,889 - mmseg - INFO - Iter [57650/160000]\tlr: 6.722e-03, eta: 20:44:04, time: 0.727, data_time: 0.005, memory: 2073, decode.loss_ce: 0.0710, decode.acc_seg: 95.9094, aux_0.loss_ce: 0.0718, aux_0.acc_seg: 95.8746, aux_1.loss_ce: 0.0738, aux_1.acc_seg: 95.8096, aux_2.loss_ce: 0.0329, aux_2.loss_dice: 0.3180, aux_2.acc_seg: 99.3092, loss: 0.5675\n",
      "2022-03-29 03:45:03,153 - mmseg - INFO - Iter [57700/160000]\tlr: 6.719e-03, eta: 20:43:27, time: 0.725, data_time: 0.005, memory: 2073, decode.loss_ce: 0.0832, decode.acc_seg: 94.9876, aux_0.loss_ce: 0.0823, aux_0.acc_seg: 94.9937, aux_1.loss_ce: 0.0851, aux_1.acc_seg: 94.7593, aux_2.loss_ce: 0.0346, aux_2.loss_dice: 0.3004, aux_2.acc_seg: 99.2788, loss: 0.5855\n",
      "2022-03-29 03:45:39,461 - mmseg - INFO - Iter [57750/160000]\tlr: 6.716e-03, eta: 20:42:50, time: 0.726, data_time: 0.006, memory: 2073, decode.loss_ce: 0.0958, decode.acc_seg: 94.5778, aux_0.loss_ce: 0.0949, aux_0.acc_seg: 94.6014, aux_1.loss_ce: 0.0977, aux_1.acc_seg: 94.4376, aux_2.loss_ce: 0.0339, aux_2.loss_dice: 0.3066, aux_2.acc_seg: 99.2932, loss: 0.6289\n",
      "2022-03-29 03:46:18,507 - mmseg - INFO - Iter [57800/160000]\tlr: 6.714e-03, eta: 20:42:18, time: 0.781, data_time: 0.058, memory: 2073, decode.loss_ce: 0.0884, decode.acc_seg: 95.0005, aux_0.loss_ce: 0.0916, aux_0.acc_seg: 94.9559, aux_1.loss_ce: 0.0897, aux_1.acc_seg: 94.9365, aux_2.loss_ce: 0.0326, aux_2.loss_dice: 0.3201, aux_2.acc_seg: 99.3226, loss: 0.6224\n",
      "2022-03-29 03:46:54,911 - mmseg - INFO - Iter [57850/160000]\tlr: 6.711e-03, eta: 20:41:42, time: 0.729, data_time: 0.006, memory: 2073, decode.loss_ce: 0.1040, decode.acc_seg: 93.8010, aux_0.loss_ce: 0.1051, aux_0.acc_seg: 93.6971, aux_1.loss_ce: 0.1073, aux_1.acc_seg: 93.6079, aux_2.loss_ce: 0.0355, aux_2.loss_dice: 0.3228, aux_2.acc_seg: 99.2594, loss: 0.6747\n",
      "2022-03-29 03:47:31,202 - mmseg - INFO - Iter [57900/160000]\tlr: 6.708e-03, eta: 20:41:05, time: 0.725, data_time: 0.006, memory: 2073, decode.loss_ce: 0.0940, decode.acc_seg: 94.7389, aux_0.loss_ce: 0.0939, aux_0.acc_seg: 94.6544, aux_1.loss_ce: 0.0973, aux_1.acc_seg: 94.5102, aux_2.loss_ce: 0.0357, aux_2.loss_dice: 0.3138, aux_2.acc_seg: 99.2386, loss: 0.6347\n",
      "2022-03-29 03:48:07,534 - mmseg - INFO - Iter [57950/160000]\tlr: 6.705e-03, eta: 20:40:28, time: 0.727, data_time: 0.006, memory: 2073, decode.loss_ce: 0.0871, decode.acc_seg: 95.3391, aux_0.loss_ce: 0.0880, aux_0.acc_seg: 95.3364, aux_1.loss_ce: 0.0892, aux_1.acc_seg: 95.2125, aux_2.loss_ce: 0.0339, aux_2.loss_dice: 0.3091, aux_2.acc_seg: 99.3140, loss: 0.6073\n",
      "2022-03-29 03:48:43,820 - mmseg - INFO - Iter [58000/160000]\tlr: 6.702e-03, eta: 20:39:52, time: 0.726, data_time: 0.006, memory: 2073, decode.loss_ce: 0.0757, decode.acc_seg: 95.1756, aux_0.loss_ce: 0.0768, aux_0.acc_seg: 95.1743, aux_1.loss_ce: 0.0764, aux_1.acc_seg: 95.1281, aux_2.loss_ce: 0.0329, aux_2.loss_dice: 0.3096, aux_2.acc_seg: 99.3239, loss: 0.5715\n",
      "2022-03-29 03:49:20,161 - mmseg - INFO - Iter [58050/160000]\tlr: 6.699e-03, eta: 20:39:15, time: 0.727, data_time: 0.005, memory: 2073, decode.loss_ce: 0.1044, decode.acc_seg: 94.1450, aux_0.loss_ce: 0.1032, aux_0.acc_seg: 94.1868, aux_1.loss_ce: 0.1063, aux_1.acc_seg: 93.9980, aux_2.loss_ce: 0.0374, aux_2.loss_dice: 0.3273, aux_2.acc_seg: 99.2293, loss: 0.6787\n",
      "2022-03-29 03:49:53,786 - mmseg - INFO - Iter [58100/160000]\tlr: 6.696e-03, eta: 20:38:34, time: 0.673, data_time: 0.006, memory: 2073, decode.loss_ce: 0.0717, decode.acc_seg: 95.7128, aux_0.loss_ce: 0.0726, aux_0.acc_seg: 95.7058, aux_1.loss_ce: 0.0744, aux_1.acc_seg: 95.5418, aux_2.loss_ce: 0.0330, aux_2.loss_dice: 0.3258, aux_2.acc_seg: 99.3290, loss: 0.5775\n",
      "2022-03-29 03:50:30,166 - mmseg - INFO - Iter [58150/160000]\tlr: 6.693e-03, eta: 20:37:57, time: 0.727, data_time: 0.005, memory: 2073, decode.loss_ce: 0.0848, decode.acc_seg: 95.2089, aux_0.loss_ce: 0.0850, aux_0.acc_seg: 95.1614, aux_1.loss_ce: 0.0848, aux_1.acc_seg: 95.0154, aux_2.loss_ce: 0.0327, aux_2.loss_dice: 0.3115, aux_2.acc_seg: 99.3353, loss: 0.5988\n",
      "2022-03-29 03:51:06,510 - mmseg - INFO - Iter [58200/160000]\tlr: 6.690e-03, eta: 20:37:20, time: 0.727, data_time: 0.006, memory: 2073, decode.loss_ce: 0.0842, decode.acc_seg: 94.8222, aux_0.loss_ce: 0.0851, aux_0.acc_seg: 94.7861, aux_1.loss_ce: 0.0915, aux_1.acc_seg: 94.6453, aux_2.loss_ce: 0.0353, aux_2.loss_dice: 0.3087, aux_2.acc_seg: 99.2461, loss: 0.6049\n",
      "2022-03-29 03:51:42,906 - mmseg - INFO - Iter [58250/160000]\tlr: 6.687e-03, eta: 20:36:44, time: 0.728, data_time: 0.005, memory: 2073, decode.loss_ce: 0.0801, decode.acc_seg: 95.4475, aux_0.loss_ce: 0.0800, aux_0.acc_seg: 95.4134, aux_1.loss_ce: 0.0814, aux_1.acc_seg: 95.3329, aux_2.loss_ce: 0.0325, aux_2.loss_dice: 0.3158, aux_2.acc_seg: 99.3371, loss: 0.5898\n",
      "2022-03-29 03:52:19,250 - mmseg - INFO - Iter [58300/160000]\tlr: 6.684e-03, eta: 20:36:07, time: 0.727, data_time: 0.005, memory: 2073, decode.loss_ce: 0.0824, decode.acc_seg: 94.9971, aux_0.loss_ce: 0.0823, aux_0.acc_seg: 94.9918, aux_1.loss_ce: 0.0847, aux_1.acc_seg: 94.8410, aux_2.loss_ce: 0.0337, aux_2.loss_dice: 0.3133, aux_2.acc_seg: 99.2879, loss: 0.5964\n",
      "2022-03-29 03:52:55,588 - mmseg - INFO - Iter [58350/160000]\tlr: 6.682e-03, eta: 20:35:30, time: 0.727, data_time: 0.005, memory: 2073, decode.loss_ce: 0.0945, decode.acc_seg: 94.5709, aux_0.loss_ce: 0.0943, aux_0.acc_seg: 94.6047, aux_1.loss_ce: 0.0973, aux_1.acc_seg: 94.4442, aux_2.loss_ce: 0.0353, aux_2.loss_dice: 0.3296, aux_2.acc_seg: 99.2490, loss: 0.6510\n"
     ]
    },
    {
     "name": "stderr",
     "output_type": "stream",
     "text": [
      "2022-03-29 03:53:31,890 - mmseg - INFO - Iter [58400/160000]\tlr: 6.679e-03, eta: 20:34:54, time: 0.725, data_time: 0.005, memory: 2073, decode.loss_ce: 0.0865, decode.acc_seg: 95.1207, aux_0.loss_ce: 0.0871, aux_0.acc_seg: 95.1180, aux_1.loss_ce: 0.0890, aux_1.acc_seg: 94.9441, aux_2.loss_ce: 0.0357, aux_2.loss_dice: 0.3182, aux_2.acc_seg: 99.2683, loss: 0.6165\n",
      "2022-03-29 03:54:08,171 - mmseg - INFO - Iter [58450/160000]\tlr: 6.676e-03, eta: 20:34:17, time: 0.726, data_time: 0.006, memory: 2073, decode.loss_ce: 0.0824, decode.acc_seg: 95.2645, aux_0.loss_ce: 0.0828, aux_0.acc_seg: 95.2756, aux_1.loss_ce: 0.0846, aux_1.acc_seg: 95.1568, aux_2.loss_ce: 0.0325, aux_2.loss_dice: 0.3290, aux_2.acc_seg: 99.3277, loss: 0.6114\n",
      "2022-03-29 03:54:47,145 - mmseg - INFO - Iter [58500/160000]\tlr: 6.673e-03, eta: 20:33:45, time: 0.780, data_time: 0.059, memory: 2073, decode.loss_ce: 0.0821, decode.acc_seg: 95.1436, aux_0.loss_ce: 0.0829, aux_0.acc_seg: 95.0820, aux_1.loss_ce: 0.0846, aux_1.acc_seg: 94.9448, aux_2.loss_ce: 0.0337, aux_2.loss_dice: 0.3196, aux_2.acc_seg: 99.3054, loss: 0.6029\n",
      "2022-03-29 03:55:23,479 - mmseg - INFO - Iter [58550/160000]\tlr: 6.670e-03, eta: 20:33:08, time: 0.727, data_time: 0.006, memory: 2073, decode.loss_ce: 0.0895, decode.acc_seg: 94.8661, aux_0.loss_ce: 0.0911, aux_0.acc_seg: 94.8065, aux_1.loss_ce: 0.0917, aux_1.acc_seg: 94.7080, aux_2.loss_ce: 0.0362, aux_2.loss_dice: 0.3179, aux_2.acc_seg: 99.2321, loss: 0.6263\n",
      "2022-03-29 03:55:59,807 - mmseg - INFO - Iter [58600/160000]\tlr: 6.667e-03, eta: 20:32:31, time: 0.727, data_time: 0.006, memory: 2073, decode.loss_ce: 0.0806, decode.acc_seg: 95.4243, aux_0.loss_ce: 0.0803, aux_0.acc_seg: 95.3969, aux_1.loss_ce: 0.0839, aux_1.acc_seg: 95.2503, aux_2.loss_ce: 0.0351, aux_2.loss_dice: 0.3202, aux_2.acc_seg: 99.2594, loss: 0.6001\n",
      "2022-03-29 03:56:36,073 - mmseg - INFO - Iter [58650/160000]\tlr: 6.664e-03, eta: 20:31:54, time: 0.726, data_time: 0.006, memory: 2073, decode.loss_ce: 0.0872, decode.acc_seg: 95.0946, aux_0.loss_ce: 0.0879, aux_0.acc_seg: 95.0593, aux_1.loss_ce: 0.0892, aux_1.acc_seg: 94.9403, aux_2.loss_ce: 0.0335, aux_2.loss_dice: 0.3102, aux_2.acc_seg: 99.2933, loss: 0.6080\n",
      "2022-03-29 03:57:12,486 - mmseg - INFO - Iter [58700/160000]\tlr: 6.661e-03, eta: 20:31:18, time: 0.728, data_time: 0.005, memory: 2073, decode.loss_ce: 0.0843, decode.acc_seg: 94.9966, aux_0.loss_ce: 0.0856, aux_0.acc_seg: 94.9736, aux_1.loss_ce: 0.0875, aux_1.acc_seg: 94.8097, aux_2.loss_ce: 0.0346, aux_2.loss_dice: 0.3139, aux_2.acc_seg: 99.2873, loss: 0.6058\n",
      "2022-03-29 03:57:46,213 - mmseg - INFO - Iter [58750/160000]\tlr: 6.658e-03, eta: 20:30:37, time: 0.674, data_time: 0.006, memory: 2073, decode.loss_ce: 0.0879, decode.acc_seg: 95.0534, aux_0.loss_ce: 0.0867, aux_0.acc_seg: 95.0227, aux_1.loss_ce: 0.0896, aux_1.acc_seg: 94.8604, aux_2.loss_ce: 0.0332, aux_2.loss_dice: 0.3088, aux_2.acc_seg: 99.3129, loss: 0.6061\n",
      "2022-03-29 03:58:22,443 - mmseg - INFO - Iter [58800/160000]\tlr: 6.655e-03, eta: 20:30:00, time: 0.725, data_time: 0.006, memory: 2073, decode.loss_ce: 0.0857, decode.acc_seg: 94.9386, aux_0.loss_ce: 0.0884, aux_0.acc_seg: 94.9236, aux_1.loss_ce: 0.0897, aux_1.acc_seg: 94.7909, aux_2.loss_ce: 0.0347, aux_2.loss_dice: 0.3138, aux_2.acc_seg: 99.2626, loss: 0.6122\n",
      "2022-03-29 03:58:58,817 - mmseg - INFO - Iter [58850/160000]\tlr: 6.652e-03, eta: 20:29:23, time: 0.728, data_time: 0.006, memory: 2073, decode.loss_ce: 0.0891, decode.acc_seg: 94.9979, aux_0.loss_ce: 0.0896, aux_0.acc_seg: 94.9893, aux_1.loss_ce: 0.0932, aux_1.acc_seg: 94.9005, aux_2.loss_ce: 0.0326, aux_2.loss_dice: 0.3091, aux_2.acc_seg: 99.3267, loss: 0.6136\n",
      "2022-03-29 03:59:35,193 - mmseg - INFO - Iter [58900/160000]\tlr: 6.649e-03, eta: 20:28:47, time: 0.727, data_time: 0.006, memory: 2073, decode.loss_ce: 0.0884, decode.acc_seg: 94.8538, aux_0.loss_ce: 0.0876, aux_0.acc_seg: 94.8306, aux_1.loss_ce: 0.0918, aux_1.acc_seg: 94.7260, aux_2.loss_ce: 0.0326, aux_2.loss_dice: 0.3215, aux_2.acc_seg: 99.3235, loss: 0.6219\n",
      "2022-03-29 04:00:11,567 - mmseg - INFO - Iter [58950/160000]\tlr: 6.647e-03, eta: 20:28:10, time: 0.728, data_time: 0.006, memory: 2073, decode.loss_ce: 0.0888, decode.acc_seg: 94.9277, aux_0.loss_ce: 0.0895, aux_0.acc_seg: 94.8836, aux_1.loss_ce: 0.0898, aux_1.acc_seg: 94.7239, aux_2.loss_ce: 0.0332, aux_2.loss_dice: 0.3190, aux_2.acc_seg: 99.3183, loss: 0.6203\n",
      "2022-03-29 04:00:47,886 - mmseg - INFO - Iter [59000/160000]\tlr: 6.644e-03, eta: 20:27:33, time: 0.726, data_time: 0.006, memory: 2073, decode.loss_ce: 0.0835, decode.acc_seg: 95.1300, aux_0.loss_ce: 0.0849, aux_0.acc_seg: 95.1899, aux_1.loss_ce: 0.0891, aux_1.acc_seg: 94.9838, aux_2.loss_ce: 0.0346, aux_2.loss_dice: 0.3159, aux_2.acc_seg: 99.2759, loss: 0.6080\n",
      "2022-03-29 04:01:24,229 - mmseg - INFO - Iter [59050/160000]\tlr: 6.641e-03, eta: 20:26:57, time: 0.727, data_time: 0.005, memory: 2073, decode.loss_ce: 0.0974, decode.acc_seg: 94.2548, aux_0.loss_ce: 0.0970, aux_0.acc_seg: 94.1984, aux_1.loss_ce: 0.0988, aux_1.acc_seg: 94.0535, aux_2.loss_ce: 0.0355, aux_2.loss_dice: 0.3129, aux_2.acc_seg: 99.2622, loss: 0.6416\n",
      "2022-03-29 04:02:00,630 - mmseg - INFO - Iter [59100/160000]\tlr: 6.638e-03, eta: 20:26:20, time: 0.728, data_time: 0.006, memory: 2073, decode.loss_ce: 0.0780, decode.acc_seg: 95.7141, aux_0.loss_ce: 0.0804, aux_0.acc_seg: 95.6548, aux_1.loss_ce: 0.0831, aux_1.acc_seg: 95.5564, aux_2.loss_ce: 0.0343, aux_2.loss_dice: 0.3203, aux_2.acc_seg: 99.2866, loss: 0.5961\n",
      "2022-03-29 04:02:36,943 - mmseg - INFO - Iter [59150/160000]\tlr: 6.635e-03, eta: 20:25:43, time: 0.726, data_time: 0.006, memory: 2073, decode.loss_ce: 0.0723, decode.acc_seg: 95.8913, aux_0.loss_ce: 0.0731, aux_0.acc_seg: 95.8902, aux_1.loss_ce: 0.0750, aux_1.acc_seg: 95.7639, aux_2.loss_ce: 0.0330, aux_2.loss_dice: 0.3071, aux_2.acc_seg: 99.2953, loss: 0.5605\n",
      "2022-03-29 04:03:15,728 - mmseg - INFO - Iter [59200/160000]\tlr: 6.632e-03, eta: 20:25:11, time: 0.775, data_time: 0.057, memory: 2073, decode.loss_ce: 0.1048, decode.acc_seg: 94.0851, aux_0.loss_ce: 0.1069, aux_0.acc_seg: 94.0126, aux_1.loss_ce: 0.1106, aux_1.acc_seg: 93.8367, aux_2.loss_ce: 0.0392, aux_2.loss_dice: 0.3405, aux_2.acc_seg: 99.1845, loss: 0.7019\n",
      "2022-03-29 04:03:51,999 - mmseg - INFO - Iter [59250/160000]\tlr: 6.629e-03, eta: 20:24:34, time: 0.726, data_time: 0.006, memory: 2073, decode.loss_ce: 0.0781, decode.acc_seg: 95.4676, aux_0.loss_ce: 0.0777, aux_0.acc_seg: 95.4510, aux_1.loss_ce: 0.0812, aux_1.acc_seg: 95.3846, aux_2.loss_ce: 0.0336, aux_2.loss_dice: 0.3179, aux_2.acc_seg: 99.2949, loss: 0.5884\n",
      "2022-03-29 04:04:28,360 - mmseg - INFO - Iter [59300/160000]\tlr: 6.626e-03, eta: 20:23:57, time: 0.727, data_time: 0.006, memory: 2073, decode.loss_ce: 0.0713, decode.acc_seg: 95.7714, aux_0.loss_ce: 0.0716, aux_0.acc_seg: 95.7598, aux_1.loss_ce: 0.0727, aux_1.acc_seg: 95.6199, aux_2.loss_ce: 0.0327, aux_2.loss_dice: 0.2867, aux_2.acc_seg: 99.3294, loss: 0.5350\n",
      "2022-03-29 04:05:03,856 - mmseg - INFO - Iter [59350/160000]\tlr: 6.623e-03, eta: 20:23:19, time: 0.710, data_time: 0.005, memory: 2073, decode.loss_ce: 0.0770, decode.acc_seg: 95.7092, aux_0.loss_ce: 0.0787, aux_0.acc_seg: 95.7136, aux_1.loss_ce: 0.0791, aux_1.acc_seg: 95.5849, aux_2.loss_ce: 0.0342, aux_2.loss_dice: 0.3150, aux_2.acc_seg: 99.2899, loss: 0.5841\n",
      "2022-03-29 04:05:38,596 - mmseg - INFO - Iter [59400/160000]\tlr: 6.620e-03, eta: 20:22:40, time: 0.694, data_time: 0.005, memory: 2073, decode.loss_ce: 0.0882, decode.acc_seg: 94.9061, aux_0.loss_ce: 0.0880, aux_0.acc_seg: 94.8580, aux_1.loss_ce: 0.0908, aux_1.acc_seg: 94.7481, aux_2.loss_ce: 0.0353, aux_2.loss_dice: 0.3169, aux_2.acc_seg: 99.2713, loss: 0.6192\n",
      "2022-03-29 04:06:14,974 - mmseg - INFO - Iter [59450/160000]\tlr: 6.617e-03, eta: 20:22:03, time: 0.728, data_time: 0.006, memory: 2073, decode.loss_ce: 0.0938, decode.acc_seg: 94.6095, aux_0.loss_ce: 0.0965, aux_0.acc_seg: 94.4953, aux_1.loss_ce: 0.0983, aux_1.acc_seg: 94.4767, aux_2.loss_ce: 0.0345, aux_2.loss_dice: 0.3350, aux_2.acc_seg: 99.2906, loss: 0.6581\n",
      "2022-03-29 04:06:51,364 - mmseg - INFO - Iter [59500/160000]\tlr: 6.614e-03, eta: 20:21:27, time: 0.728, data_time: 0.006, memory: 2073, decode.loss_ce: 0.0841, decode.acc_seg: 94.9792, aux_0.loss_ce: 0.0839, aux_0.acc_seg: 94.9582, aux_1.loss_ce: 0.0869, aux_1.acc_seg: 94.7706, aux_2.loss_ce: 0.0332, aux_2.loss_dice: 0.3171, aux_2.acc_seg: 99.3038, loss: 0.6051\n"
     ]
    },
    {
     "name": "stderr",
     "output_type": "stream",
     "text": [
      "2022-03-29 04:07:27,654 - mmseg - INFO - Iter [59550/160000]\tlr: 6.612e-03, eta: 20:20:50, time: 0.725, data_time: 0.006, memory: 2073, decode.loss_ce: 0.0898, decode.acc_seg: 95.2344, aux_0.loss_ce: 0.0907, aux_0.acc_seg: 95.2059, aux_1.loss_ce: 0.0926, aux_1.acc_seg: 95.0462, aux_2.loss_ce: 0.0356, aux_2.loss_dice: 0.3238, aux_2.acc_seg: 99.2658, loss: 0.6325\n",
      "2022-03-29 04:08:03,973 - mmseg - INFO - Iter [59600/160000]\tlr: 6.609e-03, eta: 20:20:13, time: 0.727, data_time: 0.006, memory: 2073, decode.loss_ce: 0.0853, decode.acc_seg: 94.7003, aux_0.loss_ce: 0.0853, aux_0.acc_seg: 94.7012, aux_1.loss_ce: 0.0870, aux_1.acc_seg: 94.5968, aux_2.loss_ce: 0.0371, aux_2.loss_dice: 0.3274, aux_2.acc_seg: 99.2272, loss: 0.6222\n",
      "2022-03-29 04:08:40,293 - mmseg - INFO - Iter [59650/160000]\tlr: 6.606e-03, eta: 20:19:37, time: 0.727, data_time: 0.006, memory: 2073, decode.loss_ce: 0.1107, decode.acc_seg: 93.4556, aux_0.loss_ce: 0.1106, aux_0.acc_seg: 93.4683, aux_1.loss_ce: 0.1129, aux_1.acc_seg: 93.3342, aux_2.loss_ce: 0.0361, aux_2.loss_dice: 0.3239, aux_2.acc_seg: 99.2567, loss: 0.6943\n",
      "2022-03-29 04:09:16,693 - mmseg - INFO - Iter [59700/160000]\tlr: 6.603e-03, eta: 20:19:00, time: 0.728, data_time: 0.005, memory: 2073, decode.loss_ce: 0.0923, decode.acc_seg: 94.9610, aux_0.loss_ce: 0.0917, aux_0.acc_seg: 94.9788, aux_1.loss_ce: 0.0963, aux_1.acc_seg: 94.7767, aux_2.loss_ce: 0.0362, aux_2.loss_dice: 0.3259, aux_2.acc_seg: 99.2530, loss: 0.6424\n",
      "2022-03-29 04:09:53,054 - mmseg - INFO - Iter [59750/160000]\tlr: 6.600e-03, eta: 20:18:23, time: 0.727, data_time: 0.005, memory: 2073, decode.loss_ce: 0.0782, decode.acc_seg: 95.4859, aux_0.loss_ce: 0.0785, aux_0.acc_seg: 95.4616, aux_1.loss_ce: 0.0825, aux_1.acc_seg: 95.3645, aux_2.loss_ce: 0.0340, aux_2.loss_dice: 0.3146, aux_2.acc_seg: 99.3077, loss: 0.5878\n",
      "2022-03-29 04:10:29,450 - mmseg - INFO - Iter [59800/160000]\tlr: 6.597e-03, eta: 20:17:47, time: 0.728, data_time: 0.005, memory: 2073, decode.loss_ce: 0.0843, decode.acc_seg: 95.1863, aux_0.loss_ce: 0.0873, aux_0.acc_seg: 95.2112, aux_1.loss_ce: 0.0897, aux_1.acc_seg: 95.0761, aux_2.loss_ce: 0.0335, aux_2.loss_dice: 0.3045, aux_2.acc_seg: 99.3096, loss: 0.5994\n",
      "2022-03-29 04:11:05,794 - mmseg - INFO - Iter [59850/160000]\tlr: 6.594e-03, eta: 20:17:10, time: 0.727, data_time: 0.005, memory: 2073, decode.loss_ce: 0.0848, decode.acc_seg: 95.0567, aux_0.loss_ce: 0.0844, aux_0.acc_seg: 95.0369, aux_1.loss_ce: 0.0856, aux_1.acc_seg: 95.0407, aux_2.loss_ce: 0.0340, aux_2.loss_dice: 0.3029, aux_2.acc_seg: 99.2962, loss: 0.5916\n",
      "2022-03-29 04:11:44,809 - mmseg - INFO - Iter [59900/160000]\tlr: 6.591e-03, eta: 20:16:38, time: 0.780, data_time: 0.058, memory: 2073, decode.loss_ce: 0.0880, decode.acc_seg: 94.8320, aux_0.loss_ce: 0.0887, aux_0.acc_seg: 94.8646, aux_1.loss_ce: 0.0893, aux_1.acc_seg: 94.7311, aux_2.loss_ce: 0.0345, aux_2.loss_dice: 0.3218, aux_2.acc_seg: 99.2734, loss: 0.6223\n",
      "2022-03-29 04:12:21,082 - mmseg - INFO - Iter [59950/160000]\tlr: 6.588e-03, eta: 20:16:01, time: 0.726, data_time: 0.006, memory: 2073, decode.loss_ce: 0.0906, decode.acc_seg: 94.5780, aux_0.loss_ce: 0.0909, aux_0.acc_seg: 94.5290, aux_1.loss_ce: 0.0919, aux_1.acc_seg: 94.3831, aux_2.loss_ce: 0.0363, aux_2.loss_dice: 0.2990, aux_2.acc_seg: 99.2361, loss: 0.6088\n",
      "2022-03-29 04:12:54,741 - mmseg - INFO - Saving checkpoint at 60000 iterations\n",
      "2022-03-29 04:12:54,953 - mmseg - INFO - Iter [60000/160000]\tlr: 6.585e-03, eta: 20:15:21, time: 0.679, data_time: 0.006, memory: 2073, decode.loss_ce: 0.0900, decode.acc_seg: 94.9554, aux_0.loss_ce: 0.0909, aux_0.acc_seg: 94.9649, aux_1.loss_ce: 0.0945, aux_1.acc_seg: 94.8386, aux_2.loss_ce: 0.0355, aux_2.loss_dice: 0.3122, aux_2.acc_seg: 99.2686, loss: 0.6230\n"
     ]
    },
    {
     "name": "stdout",
     "output_type": "stream",
     "text": [
      "[>>>>>>>>>>>>>>>>>>>>>>>>>>>>>] 610/610, 26.7 task/s, elapsed: 23s, ETA:     0s"
     ]
    },
    {
     "name": "stderr",
     "output_type": "stream",
     "text": [
      "2022-03-29 04:13:17,832 - mmseg - INFO - per class results:\n",
      "2022-03-29 04:13:17,833 - mmseg - INFO - \n",
      "+------------+-------+-------+\n",
      "|   Class    |  IoU  |  Acc  |\n",
      "+------------+-------+-------+\n",
      "| background | 96.62 |  98.7 |\n",
      "|   human    | 48.89 | 60.56 |\n",
      "+------------+-------+-------+\n",
      "2022-03-29 04:13:17,833 - mmseg - INFO - Summary:\n",
      "2022-03-29 04:13:17,833 - mmseg - INFO - \n",
      "+-------+-------+-------+\n",
      "|  aAcc |  mIoU |  mAcc |\n",
      "+-------+-------+-------+\n",
      "| 96.72 | 72.76 | 79.63 |\n",
      "+-------+-------+-------+\n",
      "2022-03-29 04:13:17,834 - mmseg - INFO - Iter(val) [610]\taAcc: 0.9672, mIoU: 0.7276, mAcc: 0.7963, IoU.background: 0.9662, IoU.human: 0.4889, Acc.background: 0.9870, Acc.human: 0.6056\n",
      "2022-03-29 04:13:54,180 - mmseg - INFO - Iter [60050/160000]\tlr: 6.582e-03, eta: 20:15:22, time: 1.183, data_time: 0.462, memory: 2073, decode.loss_ce: 0.0786, decode.acc_seg: 95.2598, aux_0.loss_ce: 0.0782, aux_0.acc_seg: 95.2264, aux_1.loss_ce: 0.0786, aux_1.acc_seg: 95.0908, aux_2.loss_ce: 0.0324, aux_2.loss_dice: 0.3159, aux_2.acc_seg: 99.3373, loss: 0.5836\n",
      "2022-03-29 04:14:30,555 - mmseg - INFO - Iter [60100/160000]\tlr: 6.579e-03, eta: 20:14:45, time: 0.727, data_time: 0.006, memory: 2073, decode.loss_ce: 0.0832, decode.acc_seg: 95.2478, aux_0.loss_ce: 0.0857, aux_0.acc_seg: 95.1817, aux_1.loss_ce: 0.0877, aux_1.acc_seg: 95.0429, aux_2.loss_ce: 0.0349, aux_2.loss_dice: 0.3238, aux_2.acc_seg: 99.2687, loss: 0.6152\n",
      "2022-03-29 04:15:06,823 - mmseg - INFO - Iter [60150/160000]\tlr: 6.577e-03, eta: 20:14:08, time: 0.725, data_time: 0.006, memory: 2073, decode.loss_ce: 0.0811, decode.acc_seg: 95.5602, aux_0.loss_ce: 0.0780, aux_0.acc_seg: 95.5594, aux_1.loss_ce: 0.0808, aux_1.acc_seg: 95.4144, aux_2.loss_ce: 0.0353, aux_2.loss_dice: 0.3149, aux_2.acc_seg: 99.2724, loss: 0.5900\n",
      "2022-03-29 04:15:43,054 - mmseg - INFO - Iter [60200/160000]\tlr: 6.574e-03, eta: 20:13:31, time: 0.725, data_time: 0.006, memory: 2073, decode.loss_ce: 0.0983, decode.acc_seg: 94.2716, aux_0.loss_ce: 0.0984, aux_0.acc_seg: 94.3235, aux_1.loss_ce: 0.1014, aux_1.acc_seg: 94.1740, aux_2.loss_ce: 0.0340, aux_2.loss_dice: 0.3231, aux_2.acc_seg: 99.2954, loss: 0.6551\n",
      "2022-03-29 04:16:11,718 - mmseg - INFO - Iter [60250/160000]\tlr: 6.571e-03, eta: 20:12:42, time: 0.573, data_time: 0.005, memory: 2073, decode.loss_ce: 0.0866, decode.acc_seg: 95.0450, aux_0.loss_ce: 0.0888, aux_0.acc_seg: 95.0533, aux_1.loss_ce: 0.0902, aux_1.acc_seg: 94.9245, aux_2.loss_ce: 0.0344, aux_2.loss_dice: 0.3155, aux_2.acc_seg: 99.2932, loss: 0.6155\n",
      "2022-03-29 04:16:48,052 - mmseg - INFO - Iter [60300/160000]\tlr: 6.568e-03, eta: 20:12:05, time: 0.726, data_time: 0.005, memory: 2073, decode.loss_ce: 0.0804, decode.acc_seg: 95.1191, aux_0.loss_ce: 0.0805, aux_0.acc_seg: 95.1305, aux_1.loss_ce: 0.0831, aux_1.acc_seg: 95.0473, aux_2.loss_ce: 0.0341, aux_2.loss_dice: 0.3196, aux_2.acc_seg: 99.2919, loss: 0.5977\n",
      "2022-03-29 04:17:24,379 - mmseg - INFO - Iter [60350/160000]\tlr: 6.565e-03, eta: 20:11:29, time: 0.727, data_time: 0.006, memory: 2073, decode.loss_ce: 0.1042, decode.acc_seg: 94.4879, aux_0.loss_ce: 0.1034, aux_0.acc_seg: 94.5075, aux_1.loss_ce: 0.1057, aux_1.acc_seg: 94.2502, aux_2.loss_ce: 0.0372, aux_2.loss_dice: 0.3441, aux_2.acc_seg: 99.2160, loss: 0.6947\n",
      "2022-03-29 04:18:00,734 - mmseg - INFO - Iter [60400/160000]\tlr: 6.562e-03, eta: 20:10:52, time: 0.727, data_time: 0.006, memory: 2073, decode.loss_ce: 0.0787, decode.acc_seg: 95.2036, aux_0.loss_ce: 0.0762, aux_0.acc_seg: 95.1959, aux_1.loss_ce: 0.0779, aux_1.acc_seg: 95.0041, aux_2.loss_ce: 0.0348, aux_2.loss_dice: 0.3122, aux_2.acc_seg: 99.2632, loss: 0.5798\n",
      "2022-03-29 04:18:37,090 - mmseg - INFO - Iter [60450/160000]\tlr: 6.559e-03, eta: 20:10:15, time: 0.727, data_time: 0.006, memory: 2073, decode.loss_ce: 0.0734, decode.acc_seg: 95.8066, aux_0.loss_ce: 0.0759, aux_0.acc_seg: 95.8032, aux_1.loss_ce: 0.0797, aux_1.acc_seg: 95.6239, aux_2.loss_ce: 0.0341, aux_2.loss_dice: 0.3172, aux_2.acc_seg: 99.2907, loss: 0.5803\n",
      "2022-03-29 04:19:13,345 - mmseg - INFO - Iter [60500/160000]\tlr: 6.556e-03, eta: 20:09:38, time: 0.724, data_time: 0.006, memory: 2073, decode.loss_ce: 0.0808, decode.acc_seg: 95.1044, aux_0.loss_ce: 0.0820, aux_0.acc_seg: 95.1157, aux_1.loss_ce: 0.0836, aux_1.acc_seg: 94.9640, aux_2.loss_ce: 0.0348, aux_2.loss_dice: 0.3218, aux_2.acc_seg: 99.2656, loss: 0.6028\n",
      "2022-03-29 04:19:49,604 - mmseg - INFO - Iter [60550/160000]\tlr: 6.553e-03, eta: 20:09:02, time: 0.726, data_time: 0.006, memory: 2073, decode.loss_ce: 0.0968, decode.acc_seg: 94.5526, aux_0.loss_ce: 0.0959, aux_0.acc_seg: 94.4941, aux_1.loss_ce: 0.1001, aux_1.acc_seg: 94.3871, aux_2.loss_ce: 0.0351, aux_2.loss_dice: 0.3399, aux_2.acc_seg: 99.2761, loss: 0.6678\n",
      "2022-03-29 04:20:28,626 - mmseg - INFO - Iter [60600/160000]\tlr: 6.550e-03, eta: 20:08:29, time: 0.780, data_time: 0.058, memory: 2073, decode.loss_ce: 0.0802, decode.acc_seg: 95.8276, aux_0.loss_ce: 0.0782, aux_0.acc_seg: 95.8187, aux_1.loss_ce: 0.0812, aux_1.acc_seg: 95.7196, aux_2.loss_ce: 0.0345, aux_2.loss_dice: 0.3454, aux_2.acc_seg: 99.3296, loss: 0.6194\n",
      "2022-03-29 04:21:02,116 - mmseg - INFO - Iter [60650/160000]\tlr: 6.547e-03, eta: 20:07:48, time: 0.671, data_time: 0.006, memory: 2073, decode.loss_ce: 0.0794, decode.acc_seg: 95.1240, aux_0.loss_ce: 0.0803, aux_0.acc_seg: 95.1382, aux_1.loss_ce: 0.0804, aux_1.acc_seg: 94.9814, aux_2.loss_ce: 0.0353, aux_2.loss_dice: 0.3295, aux_2.acc_seg: 99.2845, loss: 0.6049\n",
      "2022-03-29 04:21:38,449 - mmseg - INFO - Iter [60700/160000]\tlr: 6.544e-03, eta: 20:07:11, time: 0.727, data_time: 0.005, memory: 2073, decode.loss_ce: 0.0880, decode.acc_seg: 94.9638, aux_0.loss_ce: 0.0902, aux_0.acc_seg: 94.9552, aux_1.loss_ce: 0.0900, aux_1.acc_seg: 94.8447, aux_2.loss_ce: 0.0332, aux_2.loss_dice: 0.3162, aux_2.acc_seg: 99.3182, loss: 0.6178\n",
      "2022-03-29 04:22:14,798 - mmseg - INFO - Iter [60750/160000]\tlr: 6.542e-03, eta: 20:06:35, time: 0.727, data_time: 0.005, memory: 2073, decode.loss_ce: 0.0950, decode.acc_seg: 94.6751, aux_0.loss_ce: 0.0932, aux_0.acc_seg: 94.6752, aux_1.loss_ce: 0.0979, aux_1.acc_seg: 94.5042, aux_2.loss_ce: 0.0366, aux_2.loss_dice: 0.3367, aux_2.acc_seg: 99.2644, loss: 0.6593\n",
      "2022-03-29 04:22:51,152 - mmseg - INFO - Iter [60800/160000]\tlr: 6.539e-03, eta: 20:05:58, time: 0.727, data_time: 0.005, memory: 2073, decode.loss_ce: 0.0765, decode.acc_seg: 95.5805, aux_0.loss_ce: 0.0762, aux_0.acc_seg: 95.5976, aux_1.loss_ce: 0.0800, aux_1.acc_seg: 95.4368, aux_2.loss_ce: 0.0353, aux_2.loss_dice: 0.3231, aux_2.acc_seg: 99.2748, loss: 0.5911\n",
      "2022-03-29 04:23:27,492 - mmseg - INFO - Iter [60850/160000]\tlr: 6.536e-03, eta: 20:05:21, time: 0.727, data_time: 0.005, memory: 2073, decode.loss_ce: 0.0796, decode.acc_seg: 95.1930, aux_0.loss_ce: 0.0807, aux_0.acc_seg: 95.1610, aux_1.loss_ce: 0.0819, aux_1.acc_seg: 95.0299, aux_2.loss_ce: 0.0352, aux_2.loss_dice: 0.3120, aux_2.acc_seg: 99.2821, loss: 0.5894\n",
      "2022-03-29 04:24:03,827 - mmseg - INFO - Iter [60900/160000]\tlr: 6.533e-03, eta: 20:04:45, time: 0.727, data_time: 0.006, memory: 2073, decode.loss_ce: 0.0933, decode.acc_seg: 94.7665, aux_0.loss_ce: 0.0949, aux_0.acc_seg: 94.6893, aux_1.loss_ce: 0.0990, aux_1.acc_seg: 94.6044, aux_2.loss_ce: 0.0355, aux_2.loss_dice: 0.3225, aux_2.acc_seg: 99.2781, loss: 0.6450\n",
      "2022-03-29 04:24:40,235 - mmseg - INFO - Iter [60950/160000]\tlr: 6.530e-03, eta: 20:04:08, time: 0.728, data_time: 0.005, memory: 2073, decode.loss_ce: 0.0874, decode.acc_seg: 94.9139, aux_0.loss_ce: 0.0869, aux_0.acc_seg: 94.8978, aux_1.loss_ce: 0.0874, aux_1.acc_seg: 94.8207, aux_2.loss_ce: 0.0347, aux_2.loss_dice: 0.3166, aux_2.acc_seg: 99.2774, loss: 0.6130\n",
      "2022-03-29 04:25:16,585 - mmseg - INFO - Iter [61000/160000]\tlr: 6.527e-03, eta: 20:03:31, time: 0.727, data_time: 0.005, memory: 2073, decode.loss_ce: 0.0873, decode.acc_seg: 94.9835, aux_0.loss_ce: 0.0866, aux_0.acc_seg: 94.9880, aux_1.loss_ce: 0.0896, aux_1.acc_seg: 94.8265, aux_2.loss_ce: 0.0338, aux_2.loss_dice: 0.3191, aux_2.acc_seg: 99.2952, loss: 0.6164\n",
      "2022-03-29 04:25:52,949 - mmseg - INFO - Iter [61050/160000]\tlr: 6.524e-03, eta: 20:02:55, time: 0.727, data_time: 0.005, memory: 2073, decode.loss_ce: 0.0904, decode.acc_seg: 94.6973, aux_0.loss_ce: 0.0899, aux_0.acc_seg: 94.7174, aux_1.loss_ce: 0.0925, aux_1.acc_seg: 94.5414, aux_2.loss_ce: 0.0370, aux_2.loss_dice: 0.3293, aux_2.acc_seg: 99.2515, loss: 0.6391\n"
     ]
    },
    {
     "name": "stderr",
     "output_type": "stream",
     "text": [
      "2022-03-29 04:26:29,334 - mmseg - INFO - Iter [61100/160000]\tlr: 6.521e-03, eta: 20:02:18, time: 0.728, data_time: 0.006, memory: 2073, decode.loss_ce: 0.0912, decode.acc_seg: 94.8203, aux_0.loss_ce: 0.0910, aux_0.acc_seg: 94.8210, aux_1.loss_ce: 0.0930, aux_1.acc_seg: 94.6518, aux_2.loss_ce: 0.0362, aux_2.loss_dice: 0.3138, aux_2.acc_seg: 99.2325, loss: 0.6252\n",
      "2022-03-29 04:27:05,677 - mmseg - INFO - Iter [61150/160000]\tlr: 6.518e-03, eta: 20:01:41, time: 0.726, data_time: 0.005, memory: 2073, decode.loss_ce: 0.0979, decode.acc_seg: 94.2078, aux_0.loss_ce: 0.0990, aux_0.acc_seg: 94.1597, aux_1.loss_ce: 0.1012, aux_1.acc_seg: 94.0703, aux_2.loss_ce: 0.0367, aux_2.loss_dice: 0.3175, aux_2.acc_seg: 99.2337, loss: 0.6523\n",
      "2022-03-29 04:27:41,915 - mmseg - INFO - Iter [61200/160000]\tlr: 6.515e-03, eta: 20:01:05, time: 0.725, data_time: 0.006, memory: 2073, decode.loss_ce: 0.0963, decode.acc_seg: 94.4522, aux_0.loss_ce: 0.0974, aux_0.acc_seg: 94.4287, aux_1.loss_ce: 0.0986, aux_1.acc_seg: 94.3468, aux_2.loss_ce: 0.0353, aux_2.loss_dice: 0.3010, aux_2.acc_seg: 99.2674, loss: 0.6286\n",
      "2022-03-29 04:28:20,936 - mmseg - INFO - Iter [61250/160000]\tlr: 6.512e-03, eta: 20:00:32, time: 0.780, data_time: 0.058, memory: 2073, decode.loss_ce: 0.0986, decode.acc_seg: 94.3167, aux_0.loss_ce: 0.1025, aux_0.acc_seg: 94.2332, aux_1.loss_ce: 0.1021, aux_1.acc_seg: 94.0903, aux_2.loss_ce: 0.0365, aux_2.loss_dice: 0.3159, aux_2.acc_seg: 99.2359, loss: 0.6557\n",
      "2022-03-29 04:28:54,662 - mmseg - INFO - Iter [61300/160000]\tlr: 6.509e-03, eta: 19:59:51, time: 0.675, data_time: 0.006, memory: 2073, decode.loss_ce: 0.0846, decode.acc_seg: 95.0194, aux_0.loss_ce: 0.0834, aux_0.acc_seg: 94.9916, aux_1.loss_ce: 0.0863, aux_1.acc_seg: 94.8955, aux_2.loss_ce: 0.0325, aux_2.loss_dice: 0.3325, aux_2.acc_seg: 99.3257, loss: 0.6192\n",
      "2022-03-29 04:29:31,049 - mmseg - INFO - Iter [61350/160000]\tlr: 6.506e-03, eta: 19:59:15, time: 0.728, data_time: 0.006, memory: 2073, decode.loss_ce: 0.0888, decode.acc_seg: 95.0253, aux_0.loss_ce: 0.0881, aux_0.acc_seg: 95.0340, aux_1.loss_ce: 0.0896, aux_1.acc_seg: 94.8783, aux_2.loss_ce: 0.0325, aux_2.loss_dice: 0.3079, aux_2.acc_seg: 99.3094, loss: 0.6069\n",
      "2022-03-29 04:30:07,401 - mmseg - INFO - Iter [61400/160000]\tlr: 6.504e-03, eta: 19:58:38, time: 0.727, data_time: 0.005, memory: 2073, decode.loss_ce: 0.0822, decode.acc_seg: 95.3690, aux_0.loss_ce: 0.0835, aux_0.acc_seg: 95.3334, aux_1.loss_ce: 0.0847, aux_1.acc_seg: 95.2355, aux_2.loss_ce: 0.0349, aux_2.loss_dice: 0.3289, aux_2.acc_seg: 99.2659, loss: 0.6142\n",
      "2022-03-29 04:30:43,739 - mmseg - INFO - Iter [61450/160000]\tlr: 6.501e-03, eta: 19:58:01, time: 0.727, data_time: 0.005, memory: 2073, decode.loss_ce: 0.0800, decode.acc_seg: 95.3595, aux_0.loss_ce: 0.0798, aux_0.acc_seg: 95.3713, aux_1.loss_ce: 0.0839, aux_1.acc_seg: 95.2101, aux_2.loss_ce: 0.0339, aux_2.loss_dice: 0.3175, aux_2.acc_seg: 99.2995, loss: 0.5951\n",
      "2022-03-29 04:31:20,092 - mmseg - INFO - Iter [61500/160000]\tlr: 6.498e-03, eta: 19:57:25, time: 0.727, data_time: 0.006, memory: 2073, decode.loss_ce: 0.0834, decode.acc_seg: 95.0838, aux_0.loss_ce: 0.0830, aux_0.acc_seg: 95.0518, aux_1.loss_ce: 0.0859, aux_1.acc_seg: 94.8851, aux_2.loss_ce: 0.0344, aux_2.loss_dice: 0.3384, aux_2.acc_seg: 99.2870, loss: 0.6250\n",
      "2022-03-29 04:31:56,423 - mmseg - INFO - Iter [61550/160000]\tlr: 6.495e-03, eta: 19:56:48, time: 0.726, data_time: 0.006, memory: 2073, decode.loss_ce: 0.1085, decode.acc_seg: 94.1401, aux_0.loss_ce: 0.1096, aux_0.acc_seg: 94.1231, aux_1.loss_ce: 0.1117, aux_1.acc_seg: 93.9015, aux_2.loss_ce: 0.0384, aux_2.loss_dice: 0.3197, aux_2.acc_seg: 99.1818, loss: 0.6880\n",
      "2022-03-29 04:32:32,693 - mmseg - INFO - Iter [61600/160000]\tlr: 6.492e-03, eta: 19:56:11, time: 0.725, data_time: 0.006, memory: 2073, decode.loss_ce: 0.0952, decode.acc_seg: 94.2487, aux_0.loss_ce: 0.0958, aux_0.acc_seg: 94.2195, aux_1.loss_ce: 0.0982, aux_1.acc_seg: 94.1002, aux_2.loss_ce: 0.0346, aux_2.loss_dice: 0.3154, aux_2.acc_seg: 99.2889, loss: 0.6392\n",
      "2022-03-29 04:33:09,043 - mmseg - INFO - Iter [61650/160000]\tlr: 6.489e-03, eta: 19:55:35, time: 0.727, data_time: 0.006, memory: 2073, decode.loss_ce: 0.0874, decode.acc_seg: 95.1129, aux_0.loss_ce: 0.0863, aux_0.acc_seg: 95.1329, aux_1.loss_ce: 0.0900, aux_1.acc_seg: 95.0147, aux_2.loss_ce: 0.0342, aux_2.loss_dice: 0.3205, aux_2.acc_seg: 99.2930, loss: 0.6184\n",
      "2022-03-29 04:33:45,423 - mmseg - INFO - Iter [61700/160000]\tlr: 6.486e-03, eta: 19:54:58, time: 0.728, data_time: 0.005, memory: 2073, decode.loss_ce: 0.0745, decode.acc_seg: 95.5868, aux_0.loss_ce: 0.0748, aux_0.acc_seg: 95.5460, aux_1.loss_ce: 0.0772, aux_1.acc_seg: 95.4153, aux_2.loss_ce: 0.0344, aux_2.loss_dice: 0.3156, aux_2.acc_seg: 99.2943, loss: 0.5765\n",
      "2022-03-29 04:34:21,731 - mmseg - INFO - Iter [61750/160000]\tlr: 6.483e-03, eta: 19:54:21, time: 0.726, data_time: 0.005, memory: 2073, decode.loss_ce: 0.0903, decode.acc_seg: 94.7584, aux_0.loss_ce: 0.0917, aux_0.acc_seg: 94.7198, aux_1.loss_ce: 0.0931, aux_1.acc_seg: 94.5917, aux_2.loss_ce: 0.0337, aux_2.loss_dice: 0.3086, aux_2.acc_seg: 99.3074, loss: 0.6174\n",
      "2022-03-29 04:34:58,080 - mmseg - INFO - Iter [61800/160000]\tlr: 6.480e-03, eta: 19:53:45, time: 0.727, data_time: 0.006, memory: 2073, decode.loss_ce: 0.0905, decode.acc_seg: 94.8049, aux_0.loss_ce: 0.0915, aux_0.acc_seg: 94.8111, aux_1.loss_ce: 0.0946, aux_1.acc_seg: 94.6308, aux_2.loss_ce: 0.0359, aux_2.loss_dice: 0.3131, aux_2.acc_seg: 99.2583, loss: 0.6256\n",
      "2022-03-29 04:35:34,380 - mmseg - INFO - Iter [61850/160000]\tlr: 6.477e-03, eta: 19:53:08, time: 0.726, data_time: 0.006, memory: 2073, decode.loss_ce: 0.0935, decode.acc_seg: 94.7335, aux_0.loss_ce: 0.0944, aux_0.acc_seg: 94.7025, aux_1.loss_ce: 0.0956, aux_1.acc_seg: 94.6094, aux_2.loss_ce: 0.0366, aux_2.loss_dice: 0.3162, aux_2.acc_seg: 99.2394, loss: 0.6363\n",
      "2022-03-29 04:36:10,788 - mmseg - INFO - Iter [61900/160000]\tlr: 6.474e-03, eta: 19:52:31, time: 0.728, data_time: 0.006, memory: 2073, decode.loss_ce: 0.0759, decode.acc_seg: 95.4489, aux_0.loss_ce: 0.0760, aux_0.acc_seg: 95.4290, aux_1.loss_ce: 0.0790, aux_1.acc_seg: 95.2361, aux_2.loss_ce: 0.0340, aux_2.loss_dice: 0.3163, aux_2.acc_seg: 99.3172, loss: 0.5812\n",
      "2022-03-29 04:36:47,095 - mmseg - INFO - Iter [61950/160000]\tlr: 6.471e-03, eta: 19:51:55, time: 0.727, data_time: 0.059, memory: 2073, decode.loss_ce: 0.0859, decode.acc_seg: 95.1009, aux_0.loss_ce: 0.0846, aux_0.acc_seg: 95.1325, aux_1.loss_ce: 0.0871, aux_1.acc_seg: 94.9867, aux_2.loss_ce: 0.0339, aux_2.loss_dice: 0.3202, aux_2.acc_seg: 99.3095, loss: 0.6117\n",
      "2022-03-29 04:37:23,452 - mmseg - INFO - Iter [62000/160000]\tlr: 6.468e-03, eta: 19:51:18, time: 0.727, data_time: 0.005, memory: 2073, decode.loss_ce: 0.0798, decode.acc_seg: 95.2036, aux_0.loss_ce: 0.0811, aux_0.acc_seg: 95.2099, aux_1.loss_ce: 0.0836, aux_1.acc_seg: 95.0474, aux_2.loss_ce: 0.0354, aux_2.loss_dice: 0.3166, aux_2.acc_seg: 99.2710, loss: 0.5965\n",
      "2022-03-29 04:37:59,796 - mmseg - INFO - Iter [62050/160000]\tlr: 6.466e-03, eta: 19:50:41, time: 0.727, data_time: 0.006, memory: 2073, decode.loss_ce: 0.0767, decode.acc_seg: 95.6700, aux_0.loss_ce: 0.0775, aux_0.acc_seg: 95.6603, aux_1.loss_ce: 0.0815, aux_1.acc_seg: 95.4364, aux_2.loss_ce: 0.0342, aux_2.loss_dice: 0.3035, aux_2.acc_seg: 99.2850, loss: 0.5735\n",
      "2022-03-29 04:38:36,224 - mmseg - INFO - Iter [62100/160000]\tlr: 6.463e-03, eta: 19:50:05, time: 0.728, data_time: 0.005, memory: 2073, decode.loss_ce: 0.0926, decode.acc_seg: 94.7597, aux_0.loss_ce: 0.0936, aux_0.acc_seg: 94.7294, aux_1.loss_ce: 0.0959, aux_1.acc_seg: 94.5792, aux_2.loss_ce: 0.0366, aux_2.loss_dice: 0.3253, aux_2.acc_seg: 99.2424, loss: 0.6439\n",
      "2022-03-29 04:39:12,601 - mmseg - INFO - Iter [62150/160000]\tlr: 6.460e-03, eta: 19:49:28, time: 0.727, data_time: 0.005, memory: 2073, decode.loss_ce: 0.0817, decode.acc_seg: 95.4081, aux_0.loss_ce: 0.0819, aux_0.acc_seg: 95.3948, aux_1.loss_ce: 0.0834, aux_1.acc_seg: 95.2524, aux_2.loss_ce: 0.0336, aux_2.loss_dice: 0.3277, aux_2.acc_seg: 99.3052, loss: 0.6083\n",
      "2022-03-29 04:39:48,946 - mmseg - INFO - Iter [62200/160000]\tlr: 6.457e-03, eta: 19:48:51, time: 0.727, data_time: 0.006, memory: 2073, decode.loss_ce: 0.0813, decode.acc_seg: 95.2010, aux_0.loss_ce: 0.0807, aux_0.acc_seg: 95.1525, aux_1.loss_ce: 0.0847, aux_1.acc_seg: 95.0939, aux_2.loss_ce: 0.0340, aux_2.loss_dice: 0.3117, aux_2.acc_seg: 99.2718, loss: 0.5924\n"
     ]
    },
    {
     "name": "stderr",
     "output_type": "stream",
     "text": [
      "2022-03-29 04:40:25,275 - mmseg - INFO - Iter [62250/160000]\tlr: 6.454e-03, eta: 19:48:15, time: 0.727, data_time: 0.005, memory: 2073, decode.loss_ce: 0.0771, decode.acc_seg: 95.5377, aux_0.loss_ce: 0.0782, aux_0.acc_seg: 95.5302, aux_1.loss_ce: 0.0787, aux_1.acc_seg: 95.3918, aux_2.loss_ce: 0.0316, aux_2.loss_dice: 0.2982, aux_2.acc_seg: 99.3419, loss: 0.5639\n",
      "2022-03-29 04:41:01,650 - mmseg - INFO - Iter [62300/160000]\tlr: 6.451e-03, eta: 19:47:38, time: 0.727, data_time: 0.005, memory: 2073, decode.loss_ce: 0.0758, decode.acc_seg: 95.5032, aux_0.loss_ce: 0.0765, aux_0.acc_seg: 95.4569, aux_1.loss_ce: 0.0778, aux_1.acc_seg: 95.3751, aux_2.loss_ce: 0.0351, aux_2.loss_dice: 0.3182, aux_2.acc_seg: 99.2606, loss: 0.5834\n",
      "2022-03-29 04:41:37,987 - mmseg - INFO - Iter [62350/160000]\tlr: 6.448e-03, eta: 19:47:01, time: 0.726, data_time: 0.006, memory: 2073, decode.loss_ce: 0.0865, decode.acc_seg: 94.9804, aux_0.loss_ce: 0.0858, aux_0.acc_seg: 94.9552, aux_1.loss_ce: 0.0883, aux_1.acc_seg: 94.8802, aux_2.loss_ce: 0.0347, aux_2.loss_dice: 0.3281, aux_2.acc_seg: 99.2625, loss: 0.6234\n",
      "2022-03-29 04:42:14,322 - mmseg - INFO - Iter [62400/160000]\tlr: 6.445e-03, eta: 19:46:25, time: 0.727, data_time: 0.006, memory: 2073, decode.loss_ce: 0.0783, decode.acc_seg: 95.5509, aux_0.loss_ce: 0.0792, aux_0.acc_seg: 95.5395, aux_1.loss_ce: 0.0815, aux_1.acc_seg: 95.4136, aux_2.loss_ce: 0.0330, aux_2.loss_dice: 0.3234, aux_2.acc_seg: 99.3270, loss: 0.5953\n",
      "2022-03-29 04:42:50,558 - mmseg - INFO - Iter [62450/160000]\tlr: 6.442e-03, eta: 19:45:48, time: 0.725, data_time: 0.006, memory: 2073, decode.loss_ce: 0.0794, decode.acc_seg: 95.3424, aux_0.loss_ce: 0.0803, aux_0.acc_seg: 95.3289, aux_1.loss_ce: 0.0829, aux_1.acc_seg: 95.1876, aux_2.loss_ce: 0.0331, aux_2.loss_dice: 0.2998, aux_2.acc_seg: 99.2967, loss: 0.5756\n",
      "2022-03-29 04:43:26,961 - mmseg - INFO - Iter [62500/160000]\tlr: 6.439e-03, eta: 19:45:11, time: 0.728, data_time: 0.006, memory: 2073, decode.loss_ce: 0.0860, decode.acc_seg: 95.1935, aux_0.loss_ce: 0.0853, aux_0.acc_seg: 95.1776, aux_1.loss_ce: 0.0868, aux_1.acc_seg: 94.9884, aux_2.loss_ce: 0.0340, aux_2.loss_dice: 0.3300, aux_2.acc_seg: 99.2877, loss: 0.6222\n",
      "2022-03-29 04:44:03,312 - mmseg - INFO - Iter [62550/160000]\tlr: 6.436e-03, eta: 19:44:35, time: 0.727, data_time: 0.006, memory: 2073, decode.loss_ce: 0.1005, decode.acc_seg: 94.1819, aux_0.loss_ce: 0.1013, aux_0.acc_seg: 94.1565, aux_1.loss_ce: 0.1030, aux_1.acc_seg: 94.0333, aux_2.loss_ce: 0.0348, aux_2.loss_dice: 0.3020, aux_2.acc_seg: 99.2768, loss: 0.6416\n",
      "2022-03-29 04:44:36,964 - mmseg - INFO - Iter [62600/160000]\tlr: 6.433e-03, eta: 19:43:54, time: 0.673, data_time: 0.006, memory: 2073, decode.loss_ce: 0.0813, decode.acc_seg: 95.1211, aux_0.loss_ce: 0.0819, aux_0.acc_seg: 95.1248, aux_1.loss_ce: 0.0850, aux_1.acc_seg: 94.9717, aux_2.loss_ce: 0.0331, aux_2.loss_dice: 0.3158, aux_2.acc_seg: 99.3158, loss: 0.5972\n",
      "2022-03-29 04:45:15,954 - mmseg - INFO - Iter [62650/160000]\tlr: 6.430e-03, eta: 19:43:21, time: 0.779, data_time: 0.061, memory: 2073, decode.loss_ce: 0.0723, decode.acc_seg: 95.9250, aux_0.loss_ce: 0.0729, aux_0.acc_seg: 95.9118, aux_1.loss_ce: 0.0749, aux_1.acc_seg: 95.7828, aux_2.loss_ce: 0.0319, aux_2.loss_dice: 0.3070, aux_2.acc_seg: 99.3423, loss: 0.5589\n",
      "2022-03-29 04:45:52,300 - mmseg - INFO - Iter [62700/160000]\tlr: 6.428e-03, eta: 19:42:45, time: 0.727, data_time: 0.006, memory: 2073, decode.loss_ce: 0.0663, decode.acc_seg: 95.8666, aux_0.loss_ce: 0.0670, aux_0.acc_seg: 95.8426, aux_1.loss_ce: 0.0687, aux_1.acc_seg: 95.7283, aux_2.loss_ce: 0.0334, aux_2.loss_dice: 0.3003, aux_2.acc_seg: 99.3080, loss: 0.5357\n",
      "2022-03-29 04:46:28,653 - mmseg - INFO - Iter [62750/160000]\tlr: 6.425e-03, eta: 19:42:08, time: 0.727, data_time: 0.006, memory: 2073, decode.loss_ce: 0.0828, decode.acc_seg: 95.6015, aux_0.loss_ce: 0.0836, aux_0.acc_seg: 95.5332, aux_1.loss_ce: 0.0846, aux_1.acc_seg: 95.4261, aux_2.loss_ce: 0.0310, aux_2.loss_dice: 0.3023, aux_2.acc_seg: 99.3629, loss: 0.5844\n",
      "2022-03-29 04:47:04,967 - mmseg - INFO - Iter [62800/160000]\tlr: 6.422e-03, eta: 19:41:31, time: 0.727, data_time: 0.006, memory: 2073, decode.loss_ce: 0.0896, decode.acc_seg: 94.5680, aux_0.loss_ce: 0.0911, aux_0.acc_seg: 94.5680, aux_1.loss_ce: 0.0952, aux_1.acc_seg: 94.3733, aux_2.loss_ce: 0.0364, aux_2.loss_dice: 0.3094, aux_2.acc_seg: 99.2214, loss: 0.6218\n",
      "2022-03-29 04:47:41,366 - mmseg - INFO - Iter [62850/160000]\tlr: 6.419e-03, eta: 19:40:55, time: 0.728, data_time: 0.005, memory: 2073, decode.loss_ce: 0.0978, decode.acc_seg: 94.5079, aux_0.loss_ce: 0.0977, aux_0.acc_seg: 94.5434, aux_1.loss_ce: 0.0990, aux_1.acc_seg: 94.4004, aux_2.loss_ce: 0.0344, aux_2.loss_dice: 0.3189, aux_2.acc_seg: 99.2759, loss: 0.6478\n",
      "2022-03-29 04:48:17,728 - mmseg - INFO - Iter [62900/160000]\tlr: 6.416e-03, eta: 19:40:18, time: 0.727, data_time: 0.005, memory: 2073, decode.loss_ce: 0.0699, decode.acc_seg: 95.7983, aux_0.loss_ce: 0.0698, aux_0.acc_seg: 95.8325, aux_1.loss_ce: 0.0741, aux_1.acc_seg: 95.7456, aux_2.loss_ce: 0.0315, aux_2.loss_dice: 0.3151, aux_2.acc_seg: 99.3375, loss: 0.5603\n",
      "2022-03-29 04:48:54,070 - mmseg - INFO - Iter [62950/160000]\tlr: 6.413e-03, eta: 19:39:41, time: 0.727, data_time: 0.006, memory: 2073, decode.loss_ce: 0.0954, decode.acc_seg: 94.6301, aux_0.loss_ce: 0.0968, aux_0.acc_seg: 94.5915, aux_1.loss_ce: 0.0979, aux_1.acc_seg: 94.4371, aux_2.loss_ce: 0.0392, aux_2.loss_dice: 0.3298, aux_2.acc_seg: 99.1716, loss: 0.6591\n",
      "2022-03-29 04:49:30,434 - mmseg - INFO - Iter [63000/160000]\tlr: 6.410e-03, eta: 19:39:05, time: 0.727, data_time: 0.005, memory: 2073, decode.loss_ce: 0.0882, decode.acc_seg: 94.8846, aux_0.loss_ce: 0.0889, aux_0.acc_seg: 94.9067, aux_1.loss_ce: 0.0912, aux_1.acc_seg: 94.7530, aux_2.loss_ce: 0.0354, aux_2.loss_dice: 0.3284, aux_2.acc_seg: 99.2518, loss: 0.6323\n",
      "2022-03-29 04:50:06,737 - mmseg - INFO - Iter [63050/160000]\tlr: 6.407e-03, eta: 19:38:28, time: 0.726, data_time: 0.005, memory: 2073, decode.loss_ce: 0.0940, decode.acc_seg: 94.8862, aux_0.loss_ce: 0.0969, aux_0.acc_seg: 94.8509, aux_1.loss_ce: 0.0981, aux_1.acc_seg: 94.6834, aux_2.loss_ce: 0.0351, aux_2.loss_dice: 0.3237, aux_2.acc_seg: 99.2562, loss: 0.6478\n",
      "2022-03-29 04:50:43,038 - mmseg - INFO - Iter [63100/160000]\tlr: 6.404e-03, eta: 19:37:51, time: 0.725, data_time: 0.005, memory: 2073, decode.loss_ce: 0.0944, decode.acc_seg: 94.1406, aux_0.loss_ce: 0.0918, aux_0.acc_seg: 94.1566, aux_1.loss_ce: 0.0978, aux_1.acc_seg: 93.9639, aux_2.loss_ce: 0.0381, aux_2.loss_dice: 0.3314, aux_2.acc_seg: 99.1978, loss: 0.6535\n",
      "2022-03-29 04:51:19,341 - mmseg - INFO - Iter [63150/160000]\tlr: 6.401e-03, eta: 19:37:15, time: 0.726, data_time: 0.006, memory: 2073, decode.loss_ce: 0.0963, decode.acc_seg: 94.3992, aux_0.loss_ce: 0.0974, aux_0.acc_seg: 94.3510, aux_1.loss_ce: 0.0981, aux_1.acc_seg: 94.2866, aux_2.loss_ce: 0.0327, aux_2.loss_dice: 0.3125, aux_2.acc_seg: 99.3246, loss: 0.6370\n",
      "2022-03-29 04:51:55,690 - mmseg - INFO - Iter [63200/160000]\tlr: 6.398e-03, eta: 19:36:38, time: 0.727, data_time: 0.006, memory: 2073, decode.loss_ce: 0.0764, decode.acc_seg: 95.6708, aux_0.loss_ce: 0.0774, aux_0.acc_seg: 95.6364, aux_1.loss_ce: 0.0788, aux_1.acc_seg: 95.4623, aux_2.loss_ce: 0.0328, aux_2.loss_dice: 0.3039, aux_2.acc_seg: 99.3093, loss: 0.5693\n",
      "2022-03-29 04:52:29,412 - mmseg - INFO - Iter [63250/160000]\tlr: 6.395e-03, eta: 19:35:57, time: 0.675, data_time: 0.006, memory: 2073, decode.loss_ce: 0.0791, decode.acc_seg: 95.2300, aux_0.loss_ce: 0.0801, aux_0.acc_seg: 95.1861, aux_1.loss_ce: 0.0832, aux_1.acc_seg: 95.0881, aux_2.loss_ce: 0.0343, aux_2.loss_dice: 0.3006, aux_2.acc_seg: 99.2776, loss: 0.5773\n",
      "2022-03-29 04:53:05,769 - mmseg - INFO - Iter [63300/160000]\tlr: 6.392e-03, eta: 19:35:21, time: 0.727, data_time: 0.006, memory: 2073, decode.loss_ce: 0.0898, decode.acc_seg: 94.7329, aux_0.loss_ce: 0.0897, aux_0.acc_seg: 94.6783, aux_1.loss_ce: 0.0925, aux_1.acc_seg: 94.5658, aux_2.loss_ce: 0.0327, aux_2.loss_dice: 0.3109, aux_2.acc_seg: 99.3168, loss: 0.6156\n",
      "2022-03-29 04:53:44,682 - mmseg - INFO - Iter [63350/160000]\tlr: 6.389e-03, eta: 19:34:48, time: 0.778, data_time: 0.057, memory: 2073, decode.loss_ce: 0.0861, decode.acc_seg: 95.0081, aux_0.loss_ce: 0.0875, aux_0.acc_seg: 94.9771, aux_1.loss_ce: 0.0910, aux_1.acc_seg: 94.8661, aux_2.loss_ce: 0.0371, aux_2.loss_dice: 0.3321, aux_2.acc_seg: 99.2854, loss: 0.6338\n"
     ]
    },
    {
     "name": "stderr",
     "output_type": "stream",
     "text": [
      "2022-03-29 04:54:21,074 - mmseg - INFO - Iter [63400/160000]\tlr: 6.387e-03, eta: 19:34:11, time: 0.728, data_time: 0.005, memory: 2073, decode.loss_ce: 0.0813, decode.acc_seg: 95.4378, aux_0.loss_ce: 0.0830, aux_0.acc_seg: 95.4038, aux_1.loss_ce: 0.0827, aux_1.acc_seg: 95.3076, aux_2.loss_ce: 0.0397, aux_2.loss_dice: 0.3645, aux_2.acc_seg: 99.2296, loss: 0.6511\n",
      "2022-03-29 04:54:57,406 - mmseg - INFO - Iter [63450/160000]\tlr: 6.384e-03, eta: 19:33:35, time: 0.726, data_time: 0.005, memory: 2073, decode.loss_ce: 0.0918, decode.acc_seg: 94.8947, aux_0.loss_ce: 0.0898, aux_0.acc_seg: 94.8753, aux_1.loss_ce: 0.0915, aux_1.acc_seg: 94.7675, aux_2.loss_ce: 0.0383, aux_2.loss_dice: 0.3312, aux_2.acc_seg: 99.2395, loss: 0.6426\n",
      "2022-03-29 04:55:33,759 - mmseg - INFO - Iter [63500/160000]\tlr: 6.381e-03, eta: 19:32:58, time: 0.727, data_time: 0.006, memory: 2073, decode.loss_ce: 0.0880, decode.acc_seg: 95.1086, aux_0.loss_ce: 0.0889, aux_0.acc_seg: 95.1043, aux_1.loss_ce: 0.0925, aux_1.acc_seg: 94.9137, aux_2.loss_ce: 0.0368, aux_2.loss_dice: 0.3358, aux_2.acc_seg: 99.2423, loss: 0.6419\n",
      "2022-03-29 04:56:10,078 - mmseg - INFO - Iter [63550/160000]\tlr: 6.378e-03, eta: 19:32:21, time: 0.726, data_time: 0.005, memory: 2073, decode.loss_ce: 0.0665, decode.acc_seg: 95.9875, aux_0.loss_ce: 0.0664, aux_0.acc_seg: 96.0003, aux_1.loss_ce: 0.0697, aux_1.acc_seg: 95.8477, aux_2.loss_ce: 0.0336, aux_2.loss_dice: 0.3154, aux_2.acc_seg: 99.2974, loss: 0.5516\n",
      "2022-03-29 04:56:46,474 - mmseg - INFO - Iter [63600/160000]\tlr: 6.375e-03, eta: 19:31:45, time: 0.728, data_time: 0.006, memory: 2073, decode.loss_ce: 0.0844, decode.acc_seg: 95.0495, aux_0.loss_ce: 0.0843, aux_0.acc_seg: 95.0403, aux_1.loss_ce: 0.0873, aux_1.acc_seg: 94.9414, aux_2.loss_ce: 0.0342, aux_2.loss_dice: 0.3145, aux_2.acc_seg: 99.2919, loss: 0.6048\n",
      "2022-03-29 04:57:22,813 - mmseg - INFO - Iter [63650/160000]\tlr: 6.372e-03, eta: 19:31:08, time: 0.727, data_time: 0.005, memory: 2073, decode.loss_ce: 0.0809, decode.acc_seg: 95.3408, aux_0.loss_ce: 0.0808, aux_0.acc_seg: 95.3252, aux_1.loss_ce: 0.0820, aux_1.acc_seg: 95.2669, aux_2.loss_ce: 0.0326, aux_2.loss_dice: 0.3084, aux_2.acc_seg: 99.3330, loss: 0.5849\n",
      "2022-03-29 04:57:59,216 - mmseg - INFO - Iter [63700/160000]\tlr: 6.369e-03, eta: 19:30:32, time: 0.728, data_time: 0.006, memory: 2073, decode.loss_ce: 0.0873, decode.acc_seg: 94.9034, aux_0.loss_ce: 0.0879, aux_0.acc_seg: 94.9086, aux_1.loss_ce: 0.0893, aux_1.acc_seg: 94.8214, aux_2.loss_ce: 0.0352, aux_2.loss_dice: 0.3150, aux_2.acc_seg: 99.2708, loss: 0.6146\n",
      "2022-03-29 04:58:35,468 - mmseg - INFO - Iter [63750/160000]\tlr: 6.366e-03, eta: 19:29:55, time: 0.725, data_time: 0.006, memory: 2073, decode.loss_ce: 0.0940, decode.acc_seg: 94.6642, aux_0.loss_ce: 0.0939, aux_0.acc_seg: 94.6714, aux_1.loss_ce: 0.0966, aux_1.acc_seg: 94.4946, aux_2.loss_ce: 0.0369, aux_2.loss_dice: 0.3372, aux_2.acc_seg: 99.2573, loss: 0.6586\n",
      "2022-03-29 04:59:11,735 - mmseg - INFO - Iter [63800/160000]\tlr: 6.363e-03, eta: 19:29:18, time: 0.726, data_time: 0.006, memory: 2073, decode.loss_ce: 0.0994, decode.acc_seg: 94.0410, aux_0.loss_ce: 0.1011, aux_0.acc_seg: 94.0126, aux_1.loss_ce: 0.1018, aux_1.acc_seg: 93.8665, aux_2.loss_ce: 0.0361, aux_2.loss_dice: 0.3188, aux_2.acc_seg: 99.2519, loss: 0.6572\n",
      "2022-03-29 04:59:48,054 - mmseg - INFO - Iter [63850/160000]\tlr: 6.360e-03, eta: 19:28:41, time: 0.727, data_time: 0.006, memory: 2073, decode.loss_ce: 0.0836, decode.acc_seg: 95.1289, aux_0.loss_ce: 0.0845, aux_0.acc_seg: 95.0415, aux_1.loss_ce: 0.0858, aux_1.acc_seg: 94.9604, aux_2.loss_ce: 0.0341, aux_2.loss_dice: 0.3031, aux_2.acc_seg: 99.2972, loss: 0.5911\n",
      "2022-03-29 05:00:21,646 - mmseg - INFO - Iter [63900/160000]\tlr: 6.357e-03, eta: 19:28:01, time: 0.672, data_time: 0.006, memory: 2073, decode.loss_ce: 0.0789, decode.acc_seg: 95.6778, aux_0.loss_ce: 0.0783, aux_0.acc_seg: 95.6840, aux_1.loss_ce: 0.0802, aux_1.acc_seg: 95.5468, aux_2.loss_ce: 0.0334, aux_2.loss_dice: 0.3073, aux_2.acc_seg: 99.3061, loss: 0.5780\n",
      "2022-03-29 05:00:58,003 - mmseg - INFO - Iter [63950/160000]\tlr: 6.354e-03, eta: 19:27:24, time: 0.727, data_time: 0.005, memory: 2073, decode.loss_ce: 0.0942, decode.acc_seg: 94.5811, aux_0.loss_ce: 0.0946, aux_0.acc_seg: 94.5882, aux_1.loss_ce: 0.0979, aux_1.acc_seg: 94.4520, aux_2.loss_ce: 0.0346, aux_2.loss_dice: 0.3111, aux_2.acc_seg: 99.2873, loss: 0.6324\n",
      "2022-03-29 05:01:34,359 - mmseg - INFO - Iter [64000/160000]\tlr: 6.351e-03, eta: 19:26:47, time: 0.727, data_time: 0.006, memory: 2073, decode.loss_ce: 0.0913, decode.acc_seg: 94.4105, aux_0.loss_ce: 0.0918, aux_0.acc_seg: 94.3756, aux_1.loss_ce: 0.0932, aux_1.acc_seg: 94.1908, aux_2.loss_ce: 0.0362, aux_2.loss_dice: 0.3290, aux_2.acc_seg: 99.2348, loss: 0.6415\n",
      "2022-03-29 05:02:13,168 - mmseg - INFO - Iter [64050/160000]\tlr: 6.348e-03, eta: 19:26:14, time: 0.776, data_time: 0.058, memory: 2073, decode.loss_ce: 0.0942, decode.acc_seg: 94.6514, aux_0.loss_ce: 0.0943, aux_0.acc_seg: 94.6280, aux_1.loss_ce: 0.0961, aux_1.acc_seg: 94.4738, aux_2.loss_ce: 0.0360, aux_2.loss_dice: 0.3259, aux_2.acc_seg: 99.2591, loss: 0.6465\n",
      "2022-03-29 05:02:49,506 - mmseg - INFO - Iter [64100/160000]\tlr: 6.346e-03, eta: 19:25:38, time: 0.727, data_time: 0.005, memory: 2073, decode.loss_ce: 0.0950, decode.acc_seg: 94.6279, aux_0.loss_ce: 0.0943, aux_0.acc_seg: 94.6547, aux_1.loss_ce: 0.0979, aux_1.acc_seg: 94.5576, aux_2.loss_ce: 0.0364, aux_2.loss_dice: 0.3241, aux_2.acc_seg: 99.2724, loss: 0.6478\n",
      "2022-03-29 05:03:25,873 - mmseg - INFO - Iter [64150/160000]\tlr: 6.343e-03, eta: 19:25:01, time: 0.728, data_time: 0.006, memory: 2073, decode.loss_ce: 0.0840, decode.acc_seg: 94.9054, aux_0.loss_ce: 0.0838, aux_0.acc_seg: 94.9331, aux_1.loss_ce: 0.0843, aux_1.acc_seg: 94.8693, aux_2.loss_ce: 0.0348, aux_2.loss_dice: 0.3217, aux_2.acc_seg: 99.2955, loss: 0.6086\n",
      "2022-03-29 05:04:02,232 - mmseg - INFO - Iter [64200/160000]\tlr: 6.340e-03, eta: 19:24:25, time: 0.727, data_time: 0.005, memory: 2073, decode.loss_ce: 0.1006, decode.acc_seg: 94.5320, aux_0.loss_ce: 0.1008, aux_0.acc_seg: 94.5130, aux_1.loss_ce: 0.1016, aux_1.acc_seg: 94.4586, aux_2.loss_ce: 0.0353, aux_2.loss_dice: 0.3167, aux_2.acc_seg: 99.2826, loss: 0.6550\n",
      "2022-03-29 05:04:38,559 - mmseg - INFO - Iter [64250/160000]\tlr: 6.337e-03, eta: 19:23:48, time: 0.726, data_time: 0.006, memory: 2073, decode.loss_ce: 0.0787, decode.acc_seg: 95.4078, aux_0.loss_ce: 0.0793, aux_0.acc_seg: 95.4452, aux_1.loss_ce: 0.0802, aux_1.acc_seg: 95.3499, aux_2.loss_ce: 0.0323, aux_2.loss_dice: 0.3069, aux_2.acc_seg: 99.3530, loss: 0.5773\n",
      "2022-03-29 05:05:14,895 - mmseg - INFO - Iter [64300/160000]\tlr: 6.334e-03, eta: 19:23:11, time: 0.727, data_time: 0.006, memory: 2073, decode.loss_ce: 0.0971, decode.acc_seg: 94.3507, aux_0.loss_ce: 0.0961, aux_0.acc_seg: 94.3737, aux_1.loss_ce: 0.0992, aux_1.acc_seg: 94.2311, aux_2.loss_ce: 0.0375, aux_2.loss_dice: 0.3164, aux_2.acc_seg: 99.2242, loss: 0.6463\n",
      "2022-03-29 05:05:51,181 - mmseg - INFO - Iter [64350/160000]\tlr: 6.331e-03, eta: 19:22:35, time: 0.726, data_time: 0.006, memory: 2073, decode.loss_ce: 0.0942, decode.acc_seg: 94.9278, aux_0.loss_ce: 0.0934, aux_0.acc_seg: 94.9329, aux_1.loss_ce: 0.0930, aux_1.acc_seg: 94.8683, aux_2.loss_ce: 0.0323, aux_2.loss_dice: 0.3078, aux_2.acc_seg: 99.3445, loss: 0.6207\n",
      "2022-03-29 05:06:27,532 - mmseg - INFO - Iter [64400/160000]\tlr: 6.328e-03, eta: 19:21:58, time: 0.727, data_time: 0.006, memory: 2073, decode.loss_ce: 0.0995, decode.acc_seg: 94.1629, aux_0.loss_ce: 0.1004, aux_0.acc_seg: 94.1521, aux_1.loss_ce: 0.1036, aux_1.acc_seg: 93.9971, aux_2.loss_ce: 0.0386, aux_2.loss_dice: 0.3513, aux_2.acc_seg: 99.2453, loss: 0.6934\n",
      "2022-03-29 05:07:03,858 - mmseg - INFO - Iter [64450/160000]\tlr: 6.325e-03, eta: 19:21:21, time: 0.727, data_time: 0.006, memory: 2073, decode.loss_ce: 0.0991, decode.acc_seg: 94.2201, aux_0.loss_ce: 0.0995, aux_0.acc_seg: 94.2121, aux_1.loss_ce: 0.1017, aux_1.acc_seg: 94.0730, aux_2.loss_ce: 0.0384, aux_2.loss_dice: 0.3672, aux_2.acc_seg: 99.1940, loss: 0.7059\n",
      "2022-03-29 05:07:40,210 - mmseg - INFO - Iter [64500/160000]\tlr: 6.322e-03, eta: 19:20:45, time: 0.727, data_time: 0.006, memory: 2073, decode.loss_ce: 0.0908, decode.acc_seg: 94.8797, aux_0.loss_ce: 0.0903, aux_0.acc_seg: 94.8964, aux_1.loss_ce: 0.0919, aux_1.acc_seg: 94.7771, aux_2.loss_ce: 0.0344, aux_2.loss_dice: 0.3249, aux_2.acc_seg: 99.2996, loss: 0.6324\n"
     ]
    },
    {
     "name": "stderr",
     "output_type": "stream",
     "text": [
      "2022-03-29 05:08:13,697 - mmseg - INFO - Iter [64550/160000]\tlr: 6.319e-03, eta: 19:20:04, time: 0.669, data_time: 0.006, memory: 2073, decode.loss_ce: 0.0763, decode.acc_seg: 95.4688, aux_0.loss_ce: 0.0784, aux_0.acc_seg: 95.4529, aux_1.loss_ce: 0.0794, aux_1.acc_seg: 95.3951, aux_2.loss_ce: 0.0360, aux_2.loss_dice: 0.3299, aux_2.acc_seg: 99.2295, loss: 0.6000\n",
      "2022-03-29 05:08:49,924 - mmseg - INFO - Iter [64600/160000]\tlr: 6.316e-03, eta: 19:19:27, time: 0.725, data_time: 0.006, memory: 2073, decode.loss_ce: 0.0863, decode.acc_seg: 94.8806, aux_0.loss_ce: 0.0864, aux_0.acc_seg: 94.8659, aux_1.loss_ce: 0.0903, aux_1.acc_seg: 94.7532, aux_2.loss_ce: 0.0369, aux_2.loss_dice: 0.3398, aux_2.acc_seg: 99.2225, loss: 0.6397\n",
      "2022-03-29 05:09:26,257 - mmseg - INFO - Iter [64650/160000]\tlr: 6.313e-03, eta: 19:18:50, time: 0.727, data_time: 0.006, memory: 2073, decode.loss_ce: 0.1010, decode.acc_seg: 94.4761, aux_0.loss_ce: 0.1020, aux_0.acc_seg: 94.4083, aux_1.loss_ce: 0.1018, aux_1.acc_seg: 94.2044, aux_2.loss_ce: 0.0384, aux_2.loss_dice: 0.3387, aux_2.acc_seg: 99.1955, loss: 0.6820\n",
      "2022-03-29 05:10:02,574 - mmseg - INFO - Iter [64700/160000]\tlr: 6.310e-03, eta: 19:18:14, time: 0.726, data_time: 0.005, memory: 2073, decode.loss_ce: 0.0958, decode.acc_seg: 94.1784, aux_0.loss_ce: 0.0956, aux_0.acc_seg: 94.1772, aux_1.loss_ce: 0.0995, aux_1.acc_seg: 94.0285, aux_2.loss_ce: 0.0370, aux_2.loss_dice: 0.3192, aux_2.acc_seg: 99.2421, loss: 0.6471\n",
      "2022-03-29 05:10:41,497 - mmseg - INFO - Iter [64750/160000]\tlr: 6.307e-03, eta: 19:17:41, time: 0.778, data_time: 0.058, memory: 2073, decode.loss_ce: 0.0874, decode.acc_seg: 95.0511, aux_0.loss_ce: 0.0888, aux_0.acc_seg: 95.0617, aux_1.loss_ce: 0.0911, aux_1.acc_seg: 94.8616, aux_2.loss_ce: 0.0359, aux_2.loss_dice: 0.3271, aux_2.acc_seg: 99.2569, loss: 0.6304\n",
      "2022-03-29 05:11:17,845 - mmseg - INFO - Iter [64800/160000]\tlr: 6.304e-03, eta: 19:17:04, time: 0.727, data_time: 0.005, memory: 2073, decode.loss_ce: 0.1068, decode.acc_seg: 94.0185, aux_0.loss_ce: 0.1061, aux_0.acc_seg: 94.0127, aux_1.loss_ce: 0.1100, aux_1.acc_seg: 93.8307, aux_2.loss_ce: 0.0389, aux_2.loss_dice: 0.3260, aux_2.acc_seg: 99.2150, loss: 0.6878\n",
      "2022-03-29 05:11:54,182 - mmseg - INFO - Iter [64850/160000]\tlr: 6.302e-03, eta: 19:16:27, time: 0.727, data_time: 0.006, memory: 2073, decode.loss_ce: 0.0817, decode.acc_seg: 95.1264, aux_0.loss_ce: 0.0819, aux_0.acc_seg: 95.1341, aux_1.loss_ce: 0.0822, aux_1.acc_seg: 95.0054, aux_2.loss_ce: 0.0339, aux_2.loss_dice: 0.3340, aux_2.acc_seg: 99.2936, loss: 0.6136\n",
      "2022-03-29 05:12:24,913 - mmseg - INFO - Iter [64900/160000]\tlr: 6.299e-03, eta: 19:15:43, time: 0.615, data_time: 0.006, memory: 2073, decode.loss_ce: 0.0853, decode.acc_seg: 95.2965, aux_0.loss_ce: 0.0849, aux_0.acc_seg: 95.2832, aux_1.loss_ce: 0.0893, aux_1.acc_seg: 95.1588, aux_2.loss_ce: 0.0338, aux_2.loss_dice: 0.3139, aux_2.acc_seg: 99.2950, loss: 0.6072\n",
      "2022-03-29 05:12:59,246 - mmseg - INFO - Iter [64950/160000]\tlr: 6.296e-03, eta: 19:15:03, time: 0.686, data_time: 0.005, memory: 2073, decode.loss_ce: 0.0965, decode.acc_seg: 94.6221, aux_0.loss_ce: 0.0974, aux_0.acc_seg: 94.5535, aux_1.loss_ce: 0.0982, aux_1.acc_seg: 94.4694, aux_2.loss_ce: 0.0358, aux_2.loss_dice: 0.3240, aux_2.acc_seg: 99.2601, loss: 0.6519\n",
      "2022-03-29 05:13:35,499 - mmseg - INFO - Iter [65000/160000]\tlr: 6.293e-03, eta: 19:14:26, time: 0.726, data_time: 0.006, memory: 2073, decode.loss_ce: 0.0806, decode.acc_seg: 95.5764, aux_0.loss_ce: 0.0823, aux_0.acc_seg: 95.5700, aux_1.loss_ce: 0.0850, aux_1.acc_seg: 95.3995, aux_2.loss_ce: 0.0335, aux_2.loss_dice: 0.3246, aux_2.acc_seg: 99.3034, loss: 0.6059\n"
     ]
    },
    {
     "name": "stdout",
     "output_type": "stream",
     "text": [
      "[>>>>>>>>>>>>>>>>>>>>>>>>>>>>>] 610/610, 26.6 task/s, elapsed: 23s, ETA:     0s"
     ]
    },
    {
     "name": "stderr",
     "output_type": "stream",
     "text": [
      "2022-03-29 05:13:58,499 - mmseg - INFO - per class results:\n",
      "2022-03-29 05:13:58,500 - mmseg - INFO - \n",
      "+------------+-------+-------+\n",
      "|   Class    |  IoU  |  Acc  |\n",
      "+------------+-------+-------+\n",
      "| background | 96.84 | 99.02 |\n",
      "|   human    | 49.85 |  58.8 |\n",
      "+------------+-------+-------+\n",
      "2022-03-29 05:13:58,500 - mmseg - INFO - Summary:\n",
      "2022-03-29 05:13:58,500 - mmseg - INFO - \n",
      "+-------+-------+-------+\n",
      "|  aAcc |  mIoU |  mAcc |\n",
      "+-------+-------+-------+\n",
      "| 96.94 | 73.35 | 78.91 |\n",
      "+-------+-------+-------+\n",
      "2022-03-29 05:13:58,502 - mmseg - INFO - Iter(val) [610]\taAcc: 0.9694, mIoU: 0.7335, mAcc: 0.7891, IoU.background: 0.9684, IoU.human: 0.4985, Acc.background: 0.9902, Acc.human: 0.5880\n",
      "2022-03-29 05:14:34,868 - mmseg - INFO - Iter [65050/160000]\tlr: 6.290e-03, eta: 19:14:23, time: 1.188, data_time: 0.466, memory: 2073, decode.loss_ce: 0.0744, decode.acc_seg: 95.3860, aux_0.loss_ce: 0.0748, aux_0.acc_seg: 95.3829, aux_1.loss_ce: 0.0774, aux_1.acc_seg: 95.2649, aux_2.loss_ce: 0.0342, aux_2.loss_dice: 0.3080, aux_2.acc_seg: 99.2848, loss: 0.5688\n",
      "2022-03-29 05:15:11,230 - mmseg - INFO - Iter [65100/160000]\tlr: 6.287e-03, eta: 19:13:47, time: 0.727, data_time: 0.005, memory: 2073, decode.loss_ce: 0.0853, decode.acc_seg: 95.0836, aux_0.loss_ce: 0.0844, aux_0.acc_seg: 95.1099, aux_1.loss_ce: 0.0880, aux_1.acc_seg: 94.9153, aux_2.loss_ce: 0.0352, aux_2.loss_dice: 0.3282, aux_2.acc_seg: 99.2771, loss: 0.6211\n",
      "2022-03-29 05:15:44,857 - mmseg - INFO - Iter [65150/160000]\tlr: 6.284e-03, eta: 19:13:06, time: 0.672, data_time: 0.005, memory: 2073, decode.loss_ce: 0.0806, decode.acc_seg: 95.5133, aux_0.loss_ce: 0.0797, aux_0.acc_seg: 95.4861, aux_1.loss_ce: 0.0815, aux_1.acc_seg: 95.3997, aux_2.loss_ce: 0.0337, aux_2.loss_dice: 0.2967, aux_2.acc_seg: 99.2981, loss: 0.5724\n",
      "2022-03-29 05:16:21,270 - mmseg - INFO - Iter [65200/160000]\tlr: 6.281e-03, eta: 19:12:29, time: 0.728, data_time: 0.006, memory: 2073, decode.loss_ce: 0.0872, decode.acc_seg: 94.8563, aux_0.loss_ce: 0.0876, aux_0.acc_seg: 94.8106, aux_1.loss_ce: 0.0894, aux_1.acc_seg: 94.7117, aux_2.loss_ce: 0.0331, aux_2.loss_dice: 0.3045, aux_2.acc_seg: 99.3034, loss: 0.6018\n",
      "2022-03-29 05:16:57,644 - mmseg - INFO - Iter [65250/160000]\tlr: 6.278e-03, eta: 19:11:53, time: 0.727, data_time: 0.006, memory: 2073, decode.loss_ce: 0.0934, decode.acc_seg: 94.5987, aux_0.loss_ce: 0.0937, aux_0.acc_seg: 94.5978, aux_1.loss_ce: 0.0973, aux_1.acc_seg: 94.4453, aux_2.loss_ce: 0.0365, aux_2.loss_dice: 0.3364, aux_2.acc_seg: 99.2403, loss: 0.6573\n",
      "2022-03-29 05:17:33,962 - mmseg - INFO - Iter [65300/160000]\tlr: 6.275e-03, eta: 19:11:16, time: 0.726, data_time: 0.006, memory: 2073, decode.loss_ce: 0.0871, decode.acc_seg: 94.8551, aux_0.loss_ce: 0.0864, aux_0.acc_seg: 94.8797, aux_1.loss_ce: 0.0890, aux_1.acc_seg: 94.7052, aux_2.loss_ce: 0.0351, aux_2.loss_dice: 0.3216, aux_2.acc_seg: 99.2691, loss: 0.6192\n",
      "2022-03-29 05:18:10,253 - mmseg - INFO - Iter [65350/160000]\tlr: 6.272e-03, eta: 19:10:39, time: 0.726, data_time: 0.006, memory: 2073, decode.loss_ce: 0.0852, decode.acc_seg: 95.1784, aux_0.loss_ce: 0.0855, aux_0.acc_seg: 95.1946, aux_1.loss_ce: 0.0868, aux_1.acc_seg: 95.0504, aux_2.loss_ce: 0.0349, aux_2.loss_dice: 0.3081, aux_2.acc_seg: 99.2751, loss: 0.6004\n",
      "2022-03-29 05:18:46,607 - mmseg - INFO - Iter [65400/160000]\tlr: 6.269e-03, eta: 19:10:03, time: 0.727, data_time: 0.005, memory: 2073, decode.loss_ce: 0.0806, decode.acc_seg: 95.5422, aux_0.loss_ce: 0.0811, aux_0.acc_seg: 95.5080, aux_1.loss_ce: 0.0817, aux_1.acc_seg: 95.4445, aux_2.loss_ce: 0.0328, aux_2.loss_dice: 0.3272, aux_2.acc_seg: 99.3241, loss: 0.6034\n",
      "2022-03-29 05:19:25,586 - mmseg - INFO - Iter [65450/160000]\tlr: 6.266e-03, eta: 19:09:30, time: 0.780, data_time: 0.058, memory: 2073, decode.loss_ce: 0.0855, decode.acc_seg: 95.0665, aux_0.loss_ce: 0.0853, aux_0.acc_seg: 95.0577, aux_1.loss_ce: 0.0897, aux_1.acc_seg: 94.9074, aux_2.loss_ce: 0.0377, aux_2.loss_dice: 0.3225, aux_2.acc_seg: 99.2094, loss: 0.6206\n",
      "2022-03-29 05:20:02,004 - mmseg - INFO - Iter [65500/160000]\tlr: 6.263e-03, eta: 19:08:53, time: 0.728, data_time: 0.006, memory: 2073, decode.loss_ce: 0.0767, decode.acc_seg: 95.7440, aux_0.loss_ce: 0.0772, aux_0.acc_seg: 95.7050, aux_1.loss_ce: 0.0786, aux_1.acc_seg: 95.5723, aux_2.loss_ce: 0.0326, aux_2.loss_dice: 0.2994, aux_2.acc_seg: 99.3194, loss: 0.5645\n",
      "2022-03-29 05:20:38,390 - mmseg - INFO - Iter [65550/160000]\tlr: 6.260e-03, eta: 19:08:17, time: 0.728, data_time: 0.006, memory: 2073, decode.loss_ce: 0.0917, decode.acc_seg: 94.7444, aux_0.loss_ce: 0.0921, aux_0.acc_seg: 94.7216, aux_1.loss_ce: 0.0963, aux_1.acc_seg: 94.5789, aux_2.loss_ce: 0.0354, aux_2.loss_dice: 0.3276, aux_2.acc_seg: 99.2642, loss: 0.6432\n",
      "2022-03-29 05:21:14,772 - mmseg - INFO - Iter [65600/160000]\tlr: 6.258e-03, eta: 19:07:40, time: 0.727, data_time: 0.005, memory: 2073, decode.loss_ce: 0.0820, decode.acc_seg: 95.2186, aux_0.loss_ce: 0.0826, aux_0.acc_seg: 95.2115, aux_1.loss_ce: 0.0832, aux_1.acc_seg: 95.0843, aux_2.loss_ce: 0.0325, aux_2.loss_dice: 0.3065, aux_2.acc_seg: 99.3179, loss: 0.5869\n",
      "2022-03-29 05:21:51,113 - mmseg - INFO - Iter [65650/160000]\tlr: 6.255e-03, eta: 19:07:04, time: 0.727, data_time: 0.005, memory: 2073, decode.loss_ce: 0.0892, decode.acc_seg: 94.9585, aux_0.loss_ce: 0.0890, aux_0.acc_seg: 94.9378, aux_1.loss_ce: 0.0934, aux_1.acc_seg: 94.7292, aux_2.loss_ce: 0.0360, aux_2.loss_dice: 0.3301, aux_2.acc_seg: 99.2356, loss: 0.6377\n",
      "2022-03-29 05:22:27,474 - mmseg - INFO - Iter [65700/160000]\tlr: 6.252e-03, eta: 19:06:27, time: 0.727, data_time: 0.005, memory: 2073, decode.loss_ce: 0.0840, decode.acc_seg: 95.2612, aux_0.loss_ce: 0.0861, aux_0.acc_seg: 95.2316, aux_1.loss_ce: 0.0877, aux_1.acc_seg: 95.0403, aux_2.loss_ce: 0.0356, aux_2.loss_dice: 0.3214, aux_2.acc_seg: 99.2424, loss: 0.6148\n",
      "2022-03-29 05:23:03,840 - mmseg - INFO - Iter [65750/160000]\tlr: 6.249e-03, eta: 19:05:50, time: 0.727, data_time: 0.005, memory: 2073, decode.loss_ce: 0.0871, decode.acc_seg: 94.9746, aux_0.loss_ce: 0.0867, aux_0.acc_seg: 94.9361, aux_1.loss_ce: 0.0880, aux_1.acc_seg: 94.8574, aux_2.loss_ce: 0.0328, aux_2.loss_dice: 0.3220, aux_2.acc_seg: 99.3311, loss: 0.6166\n",
      "2022-03-29 05:23:37,434 - mmseg - INFO - Iter [65800/160000]\tlr: 6.246e-03, eta: 19:05:10, time: 0.672, data_time: 0.006, memory: 2073, decode.loss_ce: 0.0976, decode.acc_seg: 94.4390, aux_0.loss_ce: 0.0973, aux_0.acc_seg: 94.3870, aux_1.loss_ce: 0.0997, aux_1.acc_seg: 94.3088, aux_2.loss_ce: 0.0365, aux_2.loss_dice: 0.3073, aux_2.acc_seg: 99.2369, loss: 0.6384\n",
      "2022-03-29 05:24:13,766 - mmseg - INFO - Iter [65850/160000]\tlr: 6.243e-03, eta: 19:04:33, time: 0.726, data_time: 0.005, memory: 2073, decode.loss_ce: 0.0869, decode.acc_seg: 95.0752, aux_0.loss_ce: 0.0880, aux_0.acc_seg: 95.1038, aux_1.loss_ce: 0.0886, aux_1.acc_seg: 95.0402, aux_2.loss_ce: 0.0323, aux_2.loss_dice: 0.3006, aux_2.acc_seg: 99.3246, loss: 0.5963\n",
      "2022-03-29 05:24:50,059 - mmseg - INFO - Iter [65900/160000]\tlr: 6.240e-03, eta: 19:03:56, time: 0.726, data_time: 0.006, memory: 2073, decode.loss_ce: 0.0817, decode.acc_seg: 95.0551, aux_0.loss_ce: 0.0829, aux_0.acc_seg: 95.0510, aux_1.loss_ce: 0.0839, aux_1.acc_seg: 94.9420, aux_2.loss_ce: 0.0341, aux_2.loss_dice: 0.3163, aux_2.acc_seg: 99.2799, loss: 0.5988\n",
      "2022-03-29 05:25:26,443 - mmseg - INFO - Iter [65950/160000]\tlr: 6.237e-03, eta: 19:03:20, time: 0.728, data_time: 0.006, memory: 2073, decode.loss_ce: 0.0873, decode.acc_seg: 94.9960, aux_0.loss_ce: 0.0884, aux_0.acc_seg: 94.9404, aux_1.loss_ce: 0.0923, aux_1.acc_seg: 94.7688, aux_2.loss_ce: 0.0340, aux_2.loss_dice: 0.3171, aux_2.acc_seg: 99.2956, loss: 0.6191\n",
      "2022-03-29 05:26:02,796 - mmseg - INFO - Iter [66000/160000]\tlr: 6.234e-03, eta: 19:02:43, time: 0.727, data_time: 0.006, memory: 2073, decode.loss_ce: 0.0845, decode.acc_seg: 95.3188, aux_0.loss_ce: 0.0864, aux_0.acc_seg: 95.2675, aux_1.loss_ce: 0.0867, aux_1.acc_seg: 95.1406, aux_2.loss_ce: 0.0375, aux_2.loss_dice: 0.3464, aux_2.acc_seg: 99.2549, loss: 0.6416\n",
      "2022-03-29 05:26:39,105 - mmseg - INFO - Iter [66050/160000]\tlr: 6.231e-03, eta: 19:02:06, time: 0.727, data_time: 0.006, memory: 2073, decode.loss_ce: 0.0750, decode.acc_seg: 95.7628, aux_0.loss_ce: 0.0757, aux_0.acc_seg: 95.7412, aux_1.loss_ce: 0.0791, aux_1.acc_seg: 95.5427, aux_2.loss_ce: 0.0342, aux_2.loss_dice: 0.3139, aux_2.acc_seg: 99.3011, loss: 0.5778\n"
     ]
    },
    {
     "name": "stderr",
     "output_type": "stream",
     "text": [
      "2022-03-29 05:27:15,444 - mmseg - INFO - Iter [66100/160000]\tlr: 6.228e-03, eta: 19:01:30, time: 0.727, data_time: 0.005, memory: 2073, decode.loss_ce: 0.0746, decode.acc_seg: 95.8303, aux_0.loss_ce: 0.0733, aux_0.acc_seg: 95.8298, aux_1.loss_ce: 0.0762, aux_1.acc_seg: 95.7401, aux_2.loss_ce: 0.0344, aux_2.loss_dice: 0.3131, aux_2.acc_seg: 99.2936, loss: 0.5717\n",
      "2022-03-29 05:27:54,442 - mmseg - INFO - Iter [66150/160000]\tlr: 6.225e-03, eta: 19:00:57, time: 0.779, data_time: 0.057, memory: 2073, decode.loss_ce: 0.0788, decode.acc_seg: 95.2698, aux_0.loss_ce: 0.0790, aux_0.acc_seg: 95.2589, aux_1.loss_ce: 0.0830, aux_1.acc_seg: 95.1353, aux_2.loss_ce: 0.0354, aux_2.loss_dice: 0.3302, aux_2.acc_seg: 99.2551, loss: 0.6064\n",
      "2022-03-29 05:28:30,767 - mmseg - INFO - Iter [66200/160000]\tlr: 6.222e-03, eta: 19:00:20, time: 0.727, data_time: 0.006, memory: 2073, decode.loss_ce: 0.0895, decode.acc_seg: 94.8275, aux_0.loss_ce: 0.0899, aux_0.acc_seg: 94.8007, aux_1.loss_ce: 0.0907, aux_1.acc_seg: 94.6458, aux_2.loss_ce: 0.0358, aux_2.loss_dice: 0.3194, aux_2.acc_seg: 99.2581, loss: 0.6252\n",
      "2022-03-29 05:29:06,985 - mmseg - INFO - Iter [66250/160000]\tlr: 6.219e-03, eta: 18:59:43, time: 0.725, data_time: 0.006, memory: 2073, decode.loss_ce: 0.0760, decode.acc_seg: 95.5494, aux_0.loss_ce: 0.0775, aux_0.acc_seg: 95.5320, aux_1.loss_ce: 0.0821, aux_1.acc_seg: 95.3882, aux_2.loss_ce: 0.0375, aux_2.loss_dice: 0.3076, aux_2.acc_seg: 99.1931, loss: 0.5806\n",
      "2022-03-29 05:29:43,332 - mmseg - INFO - Iter [66300/160000]\tlr: 6.216e-03, eta: 18:59:07, time: 0.727, data_time: 0.005, memory: 2073, decode.loss_ce: 0.0872, decode.acc_seg: 95.4554, aux_0.loss_ce: 0.0873, aux_0.acc_seg: 95.4296, aux_1.loss_ce: 0.0880, aux_1.acc_seg: 95.3138, aux_2.loss_ce: 0.0350, aux_2.loss_dice: 0.3275, aux_2.acc_seg: 99.2665, loss: 0.6249\n",
      "2022-03-29 05:30:19,680 - mmseg - INFO - Iter [66350/160000]\tlr: 6.213e-03, eta: 18:58:30, time: 0.727, data_time: 0.005, memory: 2073, decode.loss_ce: 0.0824, decode.acc_seg: 94.8974, aux_0.loss_ce: 0.0828, aux_0.acc_seg: 94.8912, aux_1.loss_ce: 0.0851, aux_1.acc_seg: 94.7704, aux_2.loss_ce: 0.0348, aux_2.loss_dice: 0.3142, aux_2.acc_seg: 99.2749, loss: 0.5993\n",
      "2022-03-29 05:30:56,078 - mmseg - INFO - Iter [66400/160000]\tlr: 6.211e-03, eta: 18:57:53, time: 0.728, data_time: 0.006, memory: 2073, decode.loss_ce: 0.0824, decode.acc_seg: 95.3219, aux_0.loss_ce: 0.0826, aux_0.acc_seg: 95.3098, aux_1.loss_ce: 0.0840, aux_1.acc_seg: 95.1519, aux_2.loss_ce: 0.0344, aux_2.loss_dice: 0.3103, aux_2.acc_seg: 99.2871, loss: 0.5937\n",
      "2022-03-29 05:31:29,690 - mmseg - INFO - Iter [66450/160000]\tlr: 6.208e-03, eta: 18:57:13, time: 0.672, data_time: 0.006, memory: 2073, decode.loss_ce: 0.0744, decode.acc_seg: 95.4969, aux_0.loss_ce: 0.0760, aux_0.acc_seg: 95.4693, aux_1.loss_ce: 0.0767, aux_1.acc_seg: 95.4234, aux_2.loss_ce: 0.0314, aux_2.loss_dice: 0.3047, aux_2.acc_seg: 99.3323, loss: 0.5631\n",
      "2022-03-29 05:32:06,077 - mmseg - INFO - Iter [66500/160000]\tlr: 6.205e-03, eta: 18:56:36, time: 0.728, data_time: 0.005, memory: 2073, decode.loss_ce: 0.0914, decode.acc_seg: 94.9389, aux_0.loss_ce: 0.0915, aux_0.acc_seg: 94.8634, aux_1.loss_ce: 0.0931, aux_1.acc_seg: 94.7522, aux_2.loss_ce: 0.0339, aux_2.loss_dice: 0.3138, aux_2.acc_seg: 99.3004, loss: 0.6237\n",
      "2022-03-29 05:32:42,413 - mmseg - INFO - Iter [66550/160000]\tlr: 6.202e-03, eta: 18:56:00, time: 0.726, data_time: 0.005, memory: 2073, decode.loss_ce: 0.0781, decode.acc_seg: 95.4240, aux_0.loss_ce: 0.0790, aux_0.acc_seg: 95.4222, aux_1.loss_ce: 0.0829, aux_1.acc_seg: 95.2644, aux_2.loss_ce: 0.0348, aux_2.loss_dice: 0.3235, aux_2.acc_seg: 99.2765, loss: 0.5983\n",
      "2022-03-29 05:33:18,698 - mmseg - INFO - Iter [66600/160000]\tlr: 6.199e-03, eta: 18:55:23, time: 0.725, data_time: 0.006, memory: 2073, decode.loss_ce: 0.0788, decode.acc_seg: 95.2589, aux_0.loss_ce: 0.0799, aux_0.acc_seg: 95.1971, aux_1.loss_ce: 0.0821, aux_1.acc_seg: 95.0870, aux_2.loss_ce: 0.0342, aux_2.loss_dice: 0.3156, aux_2.acc_seg: 99.2909, loss: 0.5906\n",
      "2022-03-29 05:33:54,942 - mmseg - INFO - Iter [66650/160000]\tlr: 6.196e-03, eta: 18:54:46, time: 0.726, data_time: 0.006, memory: 2073, decode.loss_ce: 0.0843, decode.acc_seg: 95.5699, aux_0.loss_ce: 0.0860, aux_0.acc_seg: 95.4908, aux_1.loss_ce: 0.0865, aux_1.acc_seg: 95.3517, aux_2.loss_ce: 0.0317, aux_2.loss_dice: 0.2997, aux_2.acc_seg: 99.3389, loss: 0.5882\n",
      "2022-03-29 05:34:31,225 - mmseg - INFO - Iter [66700/160000]\tlr: 6.193e-03, eta: 18:54:09, time: 0.725, data_time: 0.005, memory: 2073, decode.loss_ce: 0.0754, decode.acc_seg: 95.2010, aux_0.loss_ce: 0.0755, aux_0.acc_seg: 95.2167, aux_1.loss_ce: 0.0791, aux_1.acc_seg: 95.1528, aux_2.loss_ce: 0.0341, aux_2.loss_dice: 0.3168, aux_2.acc_seg: 99.2770, loss: 0.5809\n",
      "2022-03-29 05:35:07,537 - mmseg - INFO - Iter [66750/160000]\tlr: 6.190e-03, eta: 18:53:33, time: 0.726, data_time: 0.006, memory: 2073, decode.loss_ce: 0.0737, decode.acc_seg: 95.9016, aux_0.loss_ce: 0.0743, aux_0.acc_seg: 95.8970, aux_1.loss_ce: 0.0754, aux_1.acc_seg: 95.7943, aux_2.loss_ce: 0.0351, aux_2.loss_dice: 0.3181, aux_2.acc_seg: 99.2665, loss: 0.5766\n",
      "2022-03-29 05:35:43,892 - mmseg - INFO - Iter [66800/160000]\tlr: 6.187e-03, eta: 18:52:56, time: 0.727, data_time: 0.005, memory: 2073, decode.loss_ce: 0.0788, decode.acc_seg: 95.5744, aux_0.loss_ce: 0.0793, aux_0.acc_seg: 95.5562, aux_1.loss_ce: 0.0796, aux_1.acc_seg: 95.4575, aux_2.loss_ce: 0.0327, aux_2.loss_dice: 0.3136, aux_2.acc_seg: 99.3063, loss: 0.5839\n",
      "2022-03-29 05:36:22,872 - mmseg - INFO - Iter [66850/160000]\tlr: 6.184e-03, eta: 18:52:23, time: 0.779, data_time: 0.058, memory: 2073, decode.loss_ce: 0.0814, decode.acc_seg: 95.3754, aux_0.loss_ce: 0.0824, aux_0.acc_seg: 95.3078, aux_1.loss_ce: 0.0845, aux_1.acc_seg: 95.1058, aux_2.loss_ce: 0.0333, aux_2.loss_dice: 0.3180, aux_2.acc_seg: 99.3294, loss: 0.5996\n",
      "2022-03-29 05:36:59,209 - mmseg - INFO - Iter [66900/160000]\tlr: 6.181e-03, eta: 18:51:47, time: 0.727, data_time: 0.006, memory: 2073, decode.loss_ce: 0.0863, decode.acc_seg: 94.9852, aux_0.loss_ce: 0.0876, aux_0.acc_seg: 94.9744, aux_1.loss_ce: 0.0917, aux_1.acc_seg: 94.7891, aux_2.loss_ce: 0.0349, aux_2.loss_dice: 0.3177, aux_2.acc_seg: 99.2829, loss: 0.6182\n",
      "2022-03-29 05:37:35,537 - mmseg - INFO - Iter [66950/160000]\tlr: 6.178e-03, eta: 18:51:10, time: 0.726, data_time: 0.005, memory: 2073, decode.loss_ce: 0.0834, decode.acc_seg: 95.2281, aux_0.loss_ce: 0.0848, aux_0.acc_seg: 95.1918, aux_1.loss_ce: 0.0881, aux_1.acc_seg: 95.1038, aux_2.loss_ce: 0.0355, aux_2.loss_dice: 0.3086, aux_2.acc_seg: 99.2585, loss: 0.6004\n",
      "2022-03-29 05:38:11,894 - mmseg - INFO - Iter [67000/160000]\tlr: 6.175e-03, eta: 18:50:33, time: 0.727, data_time: 0.006, memory: 2073, decode.loss_ce: 0.1019, decode.acc_seg: 94.4397, aux_0.loss_ce: 0.1039, aux_0.acc_seg: 94.4200, aux_1.loss_ce: 0.1013, aux_1.acc_seg: 94.3354, aux_2.loss_ce: 0.0349, aux_2.loss_dice: 0.3295, aux_2.acc_seg: 99.2751, loss: 0.6715\n",
      "2022-03-29 05:38:48,269 - mmseg - INFO - Iter [67050/160000]\tlr: 6.172e-03, eta: 18:49:57, time: 0.727, data_time: 0.005, memory: 2073, decode.loss_ce: 0.0910, decode.acc_seg: 94.6373, aux_0.loss_ce: 0.0898, aux_0.acc_seg: 94.6340, aux_1.loss_ce: 0.0915, aux_1.acc_seg: 94.5480, aux_2.loss_ce: 0.0354, aux_2.loss_dice: 0.3176, aux_2.acc_seg: 99.2567, loss: 0.6253\n",
      "2022-03-29 05:39:21,940 - mmseg - INFO - Iter [67100/160000]\tlr: 6.169e-03, eta: 18:49:16, time: 0.673, data_time: 0.006, memory: 2073, decode.loss_ce: 0.0757, decode.acc_seg: 95.6658, aux_0.loss_ce: 0.0749, aux_0.acc_seg: 95.6804, aux_1.loss_ce: 0.0757, aux_1.acc_seg: 95.5429, aux_2.loss_ce: 0.0347, aux_2.loss_dice: 0.3245, aux_2.acc_seg: 99.2740, loss: 0.5854\n",
      "2022-03-29 05:39:58,302 - mmseg - INFO - Iter [67150/160000]\tlr: 6.166e-03, eta: 18:48:40, time: 0.727, data_time: 0.006, memory: 2073, decode.loss_ce: 0.0796, decode.acc_seg: 95.5795, aux_0.loss_ce: 0.0784, aux_0.acc_seg: 95.5659, aux_1.loss_ce: 0.0834, aux_1.acc_seg: 95.4445, aux_2.loss_ce: 0.0342, aux_2.loss_dice: 0.3120, aux_2.acc_seg: 99.2945, loss: 0.5877\n",
      "2022-03-29 05:40:34,616 - mmseg - INFO - Iter [67200/160000]\tlr: 6.164e-03, eta: 18:48:03, time: 0.726, data_time: 0.005, memory: 2073, decode.loss_ce: 0.0822, decode.acc_seg: 95.4581, aux_0.loss_ce: 0.0819, aux_0.acc_seg: 95.4695, aux_1.loss_ce: 0.0835, aux_1.acc_seg: 95.3138, aux_2.loss_ce: 0.0330, aux_2.loss_dice: 0.3289, aux_2.acc_seg: 99.3029, loss: 0.6094\n"
     ]
    },
    {
     "name": "stderr",
     "output_type": "stream",
     "text": [
      "2022-03-29 05:41:10,990 - mmseg - INFO - Iter [67250/160000]\tlr: 6.161e-03, eta: 18:47:26, time: 0.727, data_time: 0.006, memory: 2073, decode.loss_ce: 0.0678, decode.acc_seg: 96.1635, aux_0.loss_ce: 0.0688, aux_0.acc_seg: 96.1670, aux_1.loss_ce: 0.0720, aux_1.acc_seg: 95.9759, aux_2.loss_ce: 0.0325, aux_2.loss_dice: 0.3242, aux_2.acc_seg: 99.3297, loss: 0.5652\n",
      "2022-03-29 05:41:47,325 - mmseg - INFO - Iter [67300/160000]\tlr: 6.158e-03, eta: 18:46:50, time: 0.726, data_time: 0.006, memory: 2073, decode.loss_ce: 0.0651, decode.acc_seg: 96.2074, aux_0.loss_ce: 0.0653, aux_0.acc_seg: 96.2099, aux_1.loss_ce: 0.0683, aux_1.acc_seg: 96.1185, aux_2.loss_ce: 0.0311, aux_2.loss_dice: 0.3162, aux_2.acc_seg: 99.3620, loss: 0.5459\n",
      "2022-03-29 05:42:23,520 - mmseg - INFO - Iter [67350/160000]\tlr: 6.155e-03, eta: 18:46:13, time: 0.725, data_time: 0.006, memory: 2073, decode.loss_ce: 0.0899, decode.acc_seg: 94.9691, aux_0.loss_ce: 0.0890, aux_0.acc_seg: 94.9781, aux_1.loss_ce: 0.0925, aux_1.acc_seg: 94.8509, aux_2.loss_ce: 0.0341, aux_2.loss_dice: 0.3215, aux_2.acc_seg: 99.2879, loss: 0.6270\n",
      "2022-03-29 05:42:59,850 - mmseg - INFO - Iter [67400/160000]\tlr: 6.152e-03, eta: 18:45:36, time: 0.727, data_time: 0.005, memory: 2073, decode.loss_ce: 0.0874, decode.acc_seg: 95.0666, aux_0.loss_ce: 0.0887, aux_0.acc_seg: 95.0350, aux_1.loss_ce: 0.0873, aux_1.acc_seg: 94.9155, aux_2.loss_ce: 0.0334, aux_2.loss_dice: 0.3025, aux_2.acc_seg: 99.3008, loss: 0.5993\n",
      "2022-03-29 05:43:36,181 - mmseg - INFO - Iter [67450/160000]\tlr: 6.149e-03, eta: 18:45:00, time: 0.726, data_time: 0.005, memory: 2073, decode.loss_ce: 0.0794, decode.acc_seg: 95.4385, aux_0.loss_ce: 0.0804, aux_0.acc_seg: 95.4109, aux_1.loss_ce: 0.0846, aux_1.acc_seg: 95.2785, aux_2.loss_ce: 0.0331, aux_2.loss_dice: 0.3137, aux_2.acc_seg: 99.3069, loss: 0.5913\n",
      "2022-03-29 05:44:12,530 - mmseg - INFO - Iter [67500/160000]\tlr: 6.146e-03, eta: 18:44:23, time: 0.727, data_time: 0.006, memory: 2073, decode.loss_ce: 0.0849, decode.acc_seg: 94.8686, aux_0.loss_ce: 0.0844, aux_0.acc_seg: 94.8447, aux_1.loss_ce: 0.0857, aux_1.acc_seg: 94.7057, aux_2.loss_ce: 0.0353, aux_2.loss_dice: 0.3264, aux_2.acc_seg: 99.2456, loss: 0.6168\n",
      "2022-03-29 05:44:51,464 - mmseg - INFO - Iter [67550/160000]\tlr: 6.143e-03, eta: 18:43:50, time: 0.779, data_time: 0.057, memory: 2073, decode.loss_ce: 0.0916, decode.acc_seg: 94.8925, aux_0.loss_ce: 0.0925, aux_0.acc_seg: 94.8945, aux_1.loss_ce: 0.0947, aux_1.acc_seg: 94.7583, aux_2.loss_ce: 0.0338, aux_2.loss_dice: 0.3235, aux_2.acc_seg: 99.2878, loss: 0.6360\n",
      "2022-03-29 05:45:27,813 - mmseg - INFO - Iter [67600/160000]\tlr: 6.140e-03, eta: 18:43:13, time: 0.727, data_time: 0.005, memory: 2073, decode.loss_ce: 0.0793, decode.acc_seg: 95.1022, aux_0.loss_ce: 0.0794, aux_0.acc_seg: 95.0654, aux_1.loss_ce: 0.0836, aux_1.acc_seg: 94.9227, aux_2.loss_ce: 0.0354, aux_2.loss_dice: 0.3103, aux_2.acc_seg: 99.2734, loss: 0.5879\n",
      "2022-03-29 05:46:04,172 - mmseg - INFO - Iter [67650/160000]\tlr: 6.137e-03, eta: 18:42:37, time: 0.727, data_time: 0.005, memory: 2073, decode.loss_ce: 0.0868, decode.acc_seg: 95.0572, aux_0.loss_ce: 0.0872, aux_0.acc_seg: 95.0562, aux_1.loss_ce: 0.0892, aux_1.acc_seg: 94.9389, aux_2.loss_ce: 0.0339, aux_2.loss_dice: 0.3274, aux_2.acc_seg: 99.2851, loss: 0.6245\n",
      "2022-03-29 05:46:40,517 - mmseg - INFO - Iter [67700/160000]\tlr: 6.134e-03, eta: 18:42:00, time: 0.727, data_time: 0.005, memory: 2073, decode.loss_ce: 0.0864, decode.acc_seg: 94.9752, aux_0.loss_ce: 0.0871, aux_0.acc_seg: 94.9733, aux_1.loss_ce: 0.0895, aux_1.acc_seg: 94.8019, aux_2.loss_ce: 0.0354, aux_2.loss_dice: 0.3154, aux_2.acc_seg: 99.2679, loss: 0.6138\n",
      "2022-03-29 05:47:14,159 - mmseg - INFO - Iter [67750/160000]\tlr: 6.131e-03, eta: 18:41:20, time: 0.673, data_time: 0.006, memory: 2073, decode.loss_ce: 0.0702, decode.acc_seg: 95.8909, aux_0.loss_ce: 0.0703, aux_0.acc_seg: 95.8681, aux_1.loss_ce: 0.0716, aux_1.acc_seg: 95.7818, aux_2.loss_ce: 0.0304, aux_2.loss_dice: 0.3068, aux_2.acc_seg: 99.3575, loss: 0.5493\n",
      "2022-03-29 05:47:50,481 - mmseg - INFO - Iter [67800/160000]\tlr: 6.128e-03, eta: 18:40:43, time: 0.726, data_time: 0.006, memory: 2073, decode.loss_ce: 0.0828, decode.acc_seg: 95.1126, aux_0.loss_ce: 0.0838, aux_0.acc_seg: 95.0927, aux_1.loss_ce: 0.0859, aux_1.acc_seg: 94.9245, aux_2.loss_ce: 0.0362, aux_2.loss_dice: 0.3232, aux_2.acc_seg: 99.2245, loss: 0.6119\n",
      "2022-03-29 05:48:26,888 - mmseg - INFO - Iter [67850/160000]\tlr: 6.125e-03, eta: 18:40:06, time: 0.728, data_time: 0.005, memory: 2073, decode.loss_ce: 0.0980, decode.acc_seg: 94.6004, aux_0.loss_ce: 0.0968, aux_0.acc_seg: 94.5626, aux_1.loss_ce: 0.1006, aux_1.acc_seg: 94.4777, aux_2.loss_ce: 0.0338, aux_2.loss_dice: 0.3254, aux_2.acc_seg: 99.2868, loss: 0.6547\n",
      "2022-03-29 05:49:03,270 - mmseg - INFO - Iter [67900/160000]\tlr: 6.122e-03, eta: 18:39:30, time: 0.728, data_time: 0.006, memory: 2073, decode.loss_ce: 0.0876, decode.acc_seg: 94.6101, aux_0.loss_ce: 0.0879, aux_0.acc_seg: 94.6502, aux_1.loss_ce: 0.0885, aux_1.acc_seg: 94.4418, aux_2.loss_ce: 0.0340, aux_2.loss_dice: 0.3158, aux_2.acc_seg: 99.2898, loss: 0.6138\n",
      "2022-03-29 05:49:39,559 - mmseg - INFO - Iter [67950/160000]\tlr: 6.119e-03, eta: 18:38:53, time: 0.725, data_time: 0.005, memory: 2073, decode.loss_ce: 0.0846, decode.acc_seg: 95.0489, aux_0.loss_ce: 0.0853, aux_0.acc_seg: 95.0613, aux_1.loss_ce: 0.0877, aux_1.acc_seg: 94.9320, aux_2.loss_ce: 0.0334, aux_2.loss_dice: 0.3057, aux_2.acc_seg: 99.2957, loss: 0.5966\n",
      "2022-03-29 05:50:15,850 - mmseg - INFO - Iter [68000/160000]\tlr: 6.116e-03, eta: 18:38:16, time: 0.726, data_time: 0.006, memory: 2073, decode.loss_ce: 0.0823, decode.acc_seg: 95.2311, aux_0.loss_ce: 0.0812, aux_0.acc_seg: 95.2204, aux_1.loss_ce: 0.0847, aux_1.acc_seg: 95.0427, aux_2.loss_ce: 0.0339, aux_2.loss_dice: 0.3190, aux_2.acc_seg: 99.2857, loss: 0.6011\n",
      "2022-03-29 05:50:52,114 - mmseg - INFO - Iter [68050/160000]\tlr: 6.114e-03, eta: 18:37:40, time: 0.726, data_time: 0.006, memory: 2073, decode.loss_ce: 0.0776, decode.acc_seg: 95.2326, aux_0.loss_ce: 0.0775, aux_0.acc_seg: 95.2089, aux_1.loss_ce: 0.0790, aux_1.acc_seg: 95.0915, aux_2.loss_ce: 0.0326, aux_2.loss_dice: 0.2844, aux_2.acc_seg: 99.2992, loss: 0.5510\n",
      "2022-03-29 05:51:28,479 - mmseg - INFO - Iter [68100/160000]\tlr: 6.111e-03, eta: 18:37:03, time: 0.727, data_time: 0.005, memory: 2073, decode.loss_ce: 0.0753, decode.acc_seg: 95.6045, aux_0.loss_ce: 0.0764, aux_0.acc_seg: 95.6361, aux_1.loss_ce: 0.0785, aux_1.acc_seg: 95.4606, aux_2.loss_ce: 0.0347, aux_2.loss_dice: 0.3050, aux_2.acc_seg: 99.2664, loss: 0.5699\n",
      "2022-03-29 05:52:04,903 - mmseg - INFO - Iter [68150/160000]\tlr: 6.108e-03, eta: 18:36:27, time: 0.728, data_time: 0.005, memory: 2073, decode.loss_ce: 0.0961, decode.acc_seg: 94.7331, aux_0.loss_ce: 0.0952, aux_0.acc_seg: 94.7303, aux_1.loss_ce: 0.0983, aux_1.acc_seg: 94.6254, aux_2.loss_ce: 0.0355, aux_2.loss_dice: 0.3339, aux_2.acc_seg: 99.2463, loss: 0.6590\n",
      "2022-03-29 05:52:41,257 - mmseg - INFO - Iter [68200/160000]\tlr: 6.105e-03, eta: 18:35:50, time: 0.727, data_time: 0.005, memory: 2073, decode.loss_ce: 0.0748, decode.acc_seg: 95.5957, aux_0.loss_ce: 0.0761, aux_0.acc_seg: 95.5501, aux_1.loss_ce: 0.0793, aux_1.acc_seg: 95.4021, aux_2.loss_ce: 0.0330, aux_2.loss_dice: 0.3112, aux_2.acc_seg: 99.3194, loss: 0.5745\n",
      "2022-03-29 05:53:20,332 - mmseg - INFO - Iter [68250/160000]\tlr: 6.102e-03, eta: 18:35:17, time: 0.781, data_time: 0.059, memory: 2073, decode.loss_ce: 0.0838, decode.acc_seg: 95.0147, aux_0.loss_ce: 0.0836, aux_0.acc_seg: 95.0531, aux_1.loss_ce: 0.0850, aux_1.acc_seg: 94.8836, aux_2.loss_ce: 0.0335, aux_2.loss_dice: 0.3181, aux_2.acc_seg: 99.3046, loss: 0.6041\n",
      "2022-03-29 05:53:56,644 - mmseg - INFO - Iter [68300/160000]\tlr: 6.099e-03, eta: 18:34:40, time: 0.726, data_time: 0.006, memory: 2073, decode.loss_ce: 0.0871, decode.acc_seg: 95.1781, aux_0.loss_ce: 0.0851, aux_0.acc_seg: 95.2007, aux_1.loss_ce: 0.0900, aux_1.acc_seg: 95.0598, aux_2.loss_ce: 0.0341, aux_2.loss_dice: 0.3185, aux_2.acc_seg: 99.3063, loss: 0.6147\n",
      "2022-03-29 05:54:33,042 - mmseg - INFO - Iter [68350/160000]\tlr: 6.096e-03, eta: 18:34:04, time: 0.728, data_time: 0.006, memory: 2073, decode.loss_ce: 0.0887, decode.acc_seg: 94.9771, aux_0.loss_ce: 0.0910, aux_0.acc_seg: 94.9798, aux_1.loss_ce: 0.0935, aux_1.acc_seg: 94.7374, aux_2.loss_ce: 0.0342, aux_2.loss_dice: 0.3254, aux_2.acc_seg: 99.2980, loss: 0.6328\n"
     ]
    },
    {
     "name": "stderr",
     "output_type": "stream",
     "text": [
      "2022-03-29 05:55:06,694 - mmseg - INFO - Iter [68400/160000]\tlr: 6.093e-03, eta: 18:33:24, time: 0.673, data_time: 0.006, memory: 2073, decode.loss_ce: 0.0881, decode.acc_seg: 94.8387, aux_0.loss_ce: 0.0892, aux_0.acc_seg: 94.7879, aux_1.loss_ce: 0.0895, aux_1.acc_seg: 94.7298, aux_2.loss_ce: 0.0352, aux_2.loss_dice: 0.3045, aux_2.acc_seg: 99.2647, loss: 0.6065\n",
      "2022-03-29 05:55:42,933 - mmseg - INFO - Iter [68450/160000]\tlr: 6.090e-03, eta: 18:32:47, time: 0.724, data_time: 0.006, memory: 2073, decode.loss_ce: 0.0790, decode.acc_seg: 95.4195, aux_0.loss_ce: 0.0767, aux_0.acc_seg: 95.4431, aux_1.loss_ce: 0.0810, aux_1.acc_seg: 95.2645, aux_2.loss_ce: 0.0347, aux_2.loss_dice: 0.3103, aux_2.acc_seg: 99.2593, loss: 0.5818\n",
      "2022-03-29 05:56:19,344 - mmseg - INFO - Iter [68500/160000]\tlr: 6.087e-03, eta: 18:32:10, time: 0.728, data_time: 0.006, memory: 2073, decode.loss_ce: 0.0762, decode.acc_seg: 95.4923, aux_0.loss_ce: 0.0772, aux_0.acc_seg: 95.4877, aux_1.loss_ce: 0.0794, aux_1.acc_seg: 95.3757, aux_2.loss_ce: 0.0343, aux_2.loss_dice: 0.3141, aux_2.acc_seg: 99.2860, loss: 0.5812\n",
      "2022-03-29 05:56:55,684 - mmseg - INFO - Iter [68550/160000]\tlr: 6.084e-03, eta: 18:31:34, time: 0.727, data_time: 0.006, memory: 2073, decode.loss_ce: 0.0816, decode.acc_seg: 95.3809, aux_0.loss_ce: 0.0818, aux_0.acc_seg: 95.3413, aux_1.loss_ce: 0.0843, aux_1.acc_seg: 95.2507, aux_2.loss_ce: 0.0347, aux_2.loss_dice: 0.3206, aux_2.acc_seg: 99.2909, loss: 0.6030\n",
      "2022-03-29 05:57:31,937 - mmseg - INFO - Iter [68600/160000]\tlr: 6.081e-03, eta: 18:30:57, time: 0.726, data_time: 0.006, memory: 2073, decode.loss_ce: 0.0927, decode.acc_seg: 94.4706, aux_0.loss_ce: 0.0925, aux_0.acc_seg: 94.5219, aux_1.loss_ce: 0.0960, aux_1.acc_seg: 94.3382, aux_2.loss_ce: 0.0361, aux_2.loss_dice: 0.3326, aux_2.acc_seg: 99.2547, loss: 0.6499\n",
      "2022-03-29 05:58:08,219 - mmseg - INFO - Iter [68650/160000]\tlr: 6.078e-03, eta: 18:30:20, time: 0.726, data_time: 0.005, memory: 2073, decode.loss_ce: 0.0826, decode.acc_seg: 95.3409, aux_0.loss_ce: 0.0822, aux_0.acc_seg: 95.3588, aux_1.loss_ce: 0.0838, aux_1.acc_seg: 95.2060, aux_2.loss_ce: 0.0332, aux_2.loss_dice: 0.3099, aux_2.acc_seg: 99.2937, loss: 0.5916\n",
      "2022-03-29 05:58:44,593 - mmseg - INFO - Iter [68700/160000]\tlr: 6.075e-03, eta: 18:29:44, time: 0.727, data_time: 0.005, memory: 2073, decode.loss_ce: 0.0779, decode.acc_seg: 95.4338, aux_0.loss_ce: 0.0810, aux_0.acc_seg: 95.4221, aux_1.loss_ce: 0.0780, aux_1.acc_seg: 95.2923, aux_2.loss_ce: 0.0322, aux_2.loss_dice: 0.3156, aux_2.acc_seg: 99.3270, loss: 0.5846\n",
      "2022-03-29 05:59:20,951 - mmseg - INFO - Iter [68750/160000]\tlr: 6.072e-03, eta: 18:29:07, time: 0.727, data_time: 0.005, memory: 2073, decode.loss_ce: 0.0843, decode.acc_seg: 95.2427, aux_0.loss_ce: 0.0813, aux_0.acc_seg: 95.2644, aux_1.loss_ce: 0.0890, aux_1.acc_seg: 95.1072, aux_2.loss_ce: 0.0337, aux_2.loss_dice: 0.3295, aux_2.acc_seg: 99.3037, loss: 0.6178\n",
      "2022-03-29 05:59:57,269 - mmseg - INFO - Iter [68800/160000]\tlr: 6.069e-03, eta: 18:28:30, time: 0.726, data_time: 0.006, memory: 2073, decode.loss_ce: 0.0871, decode.acc_seg: 94.9095, aux_0.loss_ce: 0.0881, aux_0.acc_seg: 94.8827, aux_1.loss_ce: 0.0884, aux_1.acc_seg: 94.7631, aux_2.loss_ce: 0.0344, aux_2.loss_dice: 0.3140, aux_2.acc_seg: 99.2837, loss: 0.6119\n",
      "2022-03-29 06:00:33,630 - mmseg - INFO - Iter [68850/160000]\tlr: 6.066e-03, eta: 18:27:54, time: 0.727, data_time: 0.006, memory: 2073, decode.loss_ce: 0.0774, decode.acc_seg: 95.5583, aux_0.loss_ce: 0.0778, aux_0.acc_seg: 95.5282, aux_1.loss_ce: 0.0823, aux_1.acc_seg: 95.3994, aux_2.loss_ce: 0.0334, aux_2.loss_dice: 0.3158, aux_2.acc_seg: 99.2996, loss: 0.5868\n",
      "2022-03-29 06:01:09,856 - mmseg - INFO - Iter [68900/160000]\tlr: 6.063e-03, eta: 18:27:17, time: 0.724, data_time: 0.006, memory: 2073, decode.loss_ce: 0.1028, decode.acc_seg: 94.3701, aux_0.loss_ce: 0.1028, aux_0.acc_seg: 94.3903, aux_1.loss_ce: 0.1064, aux_1.acc_seg: 94.1904, aux_2.loss_ce: 0.0352, aux_2.loss_dice: 0.3083, aux_2.acc_seg: 99.2658, loss: 0.6554\n",
      "2022-03-29 06:01:48,794 - mmseg - INFO - Iter [68950/160000]\tlr: 6.061e-03, eta: 18:26:44, time: 0.780, data_time: 0.059, memory: 2073, decode.loss_ce: 0.0793, decode.acc_seg: 95.0600, aux_0.loss_ce: 0.0796, aux_0.acc_seg: 95.0267, aux_1.loss_ce: 0.0796, aux_1.acc_seg: 94.9533, aux_2.loss_ce: 0.0337, aux_2.loss_dice: 0.3209, aux_2.acc_seg: 99.2856, loss: 0.5932\n",
      "2022-03-29 06:02:25,109 - mmseg - INFO - Iter [69000/160000]\tlr: 6.058e-03, eta: 18:26:07, time: 0.726, data_time: 0.005, memory: 2073, decode.loss_ce: 0.0837, decode.acc_seg: 95.1291, aux_0.loss_ce: 0.0853, aux_0.acc_seg: 95.0775, aux_1.loss_ce: 0.0891, aux_1.acc_seg: 94.9588, aux_2.loss_ce: 0.0339, aux_2.loss_dice: 0.3127, aux_2.acc_seg: 99.2922, loss: 0.6047\n",
      "2022-03-29 06:02:58,714 - mmseg - INFO - Iter [69050/160000]\tlr: 6.055e-03, eta: 18:25:27, time: 0.672, data_time: 0.006, memory: 2073, decode.loss_ce: 0.0941, decode.acc_seg: 94.6551, aux_0.loss_ce: 0.0961, aux_0.acc_seg: 94.6105, aux_1.loss_ce: 0.0985, aux_1.acc_seg: 94.4545, aux_2.loss_ce: 0.0357, aux_2.loss_dice: 0.3309, aux_2.acc_seg: 99.2629, loss: 0.6553\n",
      "2022-03-29 06:03:35,063 - mmseg - INFO - Iter [69100/160000]\tlr: 6.052e-03, eta: 18:24:50, time: 0.727, data_time: 0.006, memory: 2073, decode.loss_ce: 0.0795, decode.acc_seg: 95.6117, aux_0.loss_ce: 0.0789, aux_0.acc_seg: 95.6051, aux_1.loss_ce: 0.0787, aux_1.acc_seg: 95.4444, aux_2.loss_ce: 0.0338, aux_2.loss_dice: 0.3147, aux_2.acc_seg: 99.3006, loss: 0.5855\n",
      "2022-03-29 06:04:11,354 - mmseg - INFO - Iter [69150/160000]\tlr: 6.049e-03, eta: 18:24:14, time: 0.726, data_time: 0.006, memory: 2073, decode.loss_ce: 0.0790, decode.acc_seg: 95.5005, aux_0.loss_ce: 0.0795, aux_0.acc_seg: 95.5008, aux_1.loss_ce: 0.0837, aux_1.acc_seg: 95.3739, aux_2.loss_ce: 0.0332, aux_2.loss_dice: 0.3005, aux_2.acc_seg: 99.3137, loss: 0.5759\n",
      "2022-03-29 06:04:47,660 - mmseg - INFO - Iter [69200/160000]\tlr: 6.046e-03, eta: 18:23:37, time: 0.727, data_time: 0.006, memory: 2073, decode.loss_ce: 0.0631, decode.acc_seg: 96.1420, aux_0.loss_ce: 0.0627, aux_0.acc_seg: 96.1366, aux_1.loss_ce: 0.0651, aux_1.acc_seg: 96.0403, aux_2.loss_ce: 0.0320, aux_2.loss_dice: 0.3083, aux_2.acc_seg: 99.3302, loss: 0.5312\n",
      "2022-03-29 06:05:23,972 - mmseg - INFO - Iter [69250/160000]\tlr: 6.043e-03, eta: 18:23:00, time: 0.726, data_time: 0.005, memory: 2073, decode.loss_ce: 0.0966, decode.acc_seg: 94.7808, aux_0.loss_ce: 0.0977, aux_0.acc_seg: 94.7866, aux_1.loss_ce: 0.1012, aux_1.acc_seg: 94.4893, aux_2.loss_ce: 0.0354, aux_2.loss_dice: 0.3284, aux_2.acc_seg: 99.2727, loss: 0.6593\n",
      "2022-03-29 06:06:00,350 - mmseg - INFO - Iter [69300/160000]\tlr: 6.040e-03, eta: 18:22:24, time: 0.728, data_time: 0.006, memory: 2073, decode.loss_ce: 0.0857, decode.acc_seg: 94.7029, aux_0.loss_ce: 0.0860, aux_0.acc_seg: 94.7001, aux_1.loss_ce: 0.0886, aux_1.acc_seg: 94.5956, aux_2.loss_ce: 0.0372, aux_2.loss_dice: 0.3395, aux_2.acc_seg: 99.2102, loss: 0.6369\n",
      "2022-03-29 06:06:36,648 - mmseg - INFO - Iter [69350/160000]\tlr: 6.037e-03, eta: 18:21:47, time: 0.726, data_time: 0.005, memory: 2073, decode.loss_ce: 0.0900, decode.acc_seg: 95.0578, aux_0.loss_ce: 0.0884, aux_0.acc_seg: 95.0072, aux_1.loss_ce: 0.0897, aux_1.acc_seg: 94.9572, aux_2.loss_ce: 0.0376, aux_2.loss_dice: 0.3460, aux_2.acc_seg: 99.1828, loss: 0.6517\n",
      "2022-03-29 06:07:12,986 - mmseg - INFO - Iter [69400/160000]\tlr: 6.034e-03, eta: 18:21:10, time: 0.727, data_time: 0.005, memory: 2073, decode.loss_ce: 0.0914, decode.acc_seg: 94.4431, aux_0.loss_ce: 0.0933, aux_0.acc_seg: 94.4053, aux_1.loss_ce: 0.0980, aux_1.acc_seg: 94.2821, aux_2.loss_ce: 0.0352, aux_2.loss_dice: 0.3360, aux_2.acc_seg: 99.2622, loss: 0.6539\n",
      "2022-03-29 06:07:49,309 - mmseg - INFO - Iter [69450/160000]\tlr: 6.031e-03, eta: 18:20:34, time: 0.726, data_time: 0.006, memory: 2073, decode.loss_ce: 0.0949, decode.acc_seg: 94.5144, aux_0.loss_ce: 0.0960, aux_0.acc_seg: 94.4870, aux_1.loss_ce: 0.0952, aux_1.acc_seg: 94.3675, aux_2.loss_ce: 0.0369, aux_2.loss_dice: 0.3126, aux_2.acc_seg: 99.2423, loss: 0.6356\n",
      "2022-03-29 06:08:25,582 - mmseg - INFO - Iter [69500/160000]\tlr: 6.028e-03, eta: 18:19:57, time: 0.725, data_time: 0.006, memory: 2073, decode.loss_ce: 0.0844, decode.acc_seg: 95.3215, aux_0.loss_ce: 0.0846, aux_0.acc_seg: 95.2957, aux_1.loss_ce: 0.0862, aux_1.acc_seg: 95.2226, aux_2.loss_ce: 0.0347, aux_2.loss_dice: 0.3000, aux_2.acc_seg: 99.2917, loss: 0.5898\n"
     ]
    },
    {
     "name": "stderr",
     "output_type": "stream",
     "text": [
      "2022-03-29 06:08:54,120 - mmseg - INFO - Iter [69550/160000]\tlr: 6.025e-03, eta: 18:19:10, time: 0.572, data_time: 0.006, memory: 2073, decode.loss_ce: 0.0812, decode.acc_seg: 95.2365, aux_0.loss_ce: 0.0810, aux_0.acc_seg: 95.2077, aux_1.loss_ce: 0.0827, aux_1.acc_seg: 95.1654, aux_2.loss_ce: 0.0354, aux_2.loss_dice: 0.3165, aux_2.acc_seg: 99.2644, loss: 0.5968\n",
      "2022-03-29 06:09:30,422 - mmseg - INFO - Iter [69600/160000]\tlr: 6.022e-03, eta: 18:18:34, time: 0.726, data_time: 0.005, memory: 2073, decode.loss_ce: 0.0926, decode.acc_seg: 94.5277, aux_0.loss_ce: 0.0922, aux_0.acc_seg: 94.5358, aux_1.loss_ce: 0.0947, aux_1.acc_seg: 94.3323, aux_2.loss_ce: 0.0361, aux_2.loss_dice: 0.3331, aux_2.acc_seg: 99.2525, loss: 0.6486\n",
      "2022-03-29 06:10:09,548 - mmseg - INFO - Iter [69650/160000]\tlr: 6.019e-03, eta: 18:18:01, time: 0.782, data_time: 0.058, memory: 2073, decode.loss_ce: 0.0950, decode.acc_seg: 94.9706, aux_0.loss_ce: 0.0951, aux_0.acc_seg: 94.9679, aux_1.loss_ce: 0.0986, aux_1.acc_seg: 94.8010, aux_2.loss_ce: 0.0369, aux_2.loss_dice: 0.3115, aux_2.acc_seg: 99.2286, loss: 0.6371\n",
      "2022-03-29 06:10:43,259 - mmseg - INFO - Iter [69700/160000]\tlr: 6.016e-03, eta: 18:17:21, time: 0.674, data_time: 0.005, memory: 2073, decode.loss_ce: 0.0614, decode.acc_seg: 96.2170, aux_0.loss_ce: 0.0619, aux_0.acc_seg: 96.2075, aux_1.loss_ce: 0.0626, aux_1.acc_seg: 96.0952, aux_2.loss_ce: 0.0331, aux_2.loss_dice: 0.3306, aux_2.acc_seg: 99.3324, loss: 0.5495\n",
      "2022-03-29 06:11:19,567 - mmseg - INFO - Iter [69750/160000]\tlr: 6.013e-03, eta: 18:16:44, time: 0.726, data_time: 0.006, memory: 2073, decode.loss_ce: 0.0834, decode.acc_seg: 95.1724, aux_0.loss_ce: 0.0840, aux_0.acc_seg: 95.1472, aux_1.loss_ce: 0.0865, aux_1.acc_seg: 95.0840, aux_2.loss_ce: 0.0332, aux_2.loss_dice: 0.3212, aux_2.acc_seg: 99.3162, loss: 0.6083\n",
      "2022-03-29 06:11:55,935 - mmseg - INFO - Iter [69800/160000]\tlr: 6.010e-03, eta: 18:16:07, time: 0.727, data_time: 0.006, memory: 2073, decode.loss_ce: 0.0945, decode.acc_seg: 94.6146, aux_0.loss_ce: 0.0934, aux_0.acc_seg: 94.6266, aux_1.loss_ce: 0.0951, aux_1.acc_seg: 94.5279, aux_2.loss_ce: 0.0364, aux_2.loss_dice: 0.3113, aux_2.acc_seg: 99.2611, loss: 0.6307\n",
      "2022-03-29 06:12:32,328 - mmseg - INFO - Iter [69850/160000]\tlr: 6.007e-03, eta: 18:15:31, time: 0.728, data_time: 0.006, memory: 2073, decode.loss_ce: 0.0890, decode.acc_seg: 95.1822, aux_0.loss_ce: 0.0903, aux_0.acc_seg: 95.1150, aux_1.loss_ce: 0.0930, aux_1.acc_seg: 94.9854, aux_2.loss_ce: 0.0341, aux_2.loss_dice: 0.3046, aux_2.acc_seg: 99.2952, loss: 0.6110\n",
      "2022-03-29 06:13:08,656 - mmseg - INFO - Iter [69900/160000]\tlr: 6.005e-03, eta: 18:14:54, time: 0.726, data_time: 0.005, memory: 2073, decode.loss_ce: 0.0759, decode.acc_seg: 95.6079, aux_0.loss_ce: 0.0763, aux_0.acc_seg: 95.5896, aux_1.loss_ce: 0.0782, aux_1.acc_seg: 95.4965, aux_2.loss_ce: 0.0356, aux_2.loss_dice: 0.3080, aux_2.acc_seg: 99.2698, loss: 0.5740\n",
      "2022-03-29 06:13:44,930 - mmseg - INFO - Iter [69950/160000]\tlr: 6.002e-03, eta: 18:14:17, time: 0.725, data_time: 0.006, memory: 2073, decode.loss_ce: 0.0912, decode.acc_seg: 94.8649, aux_0.loss_ce: 0.0916, aux_0.acc_seg: 94.8630, aux_1.loss_ce: 0.0920, aux_1.acc_seg: 94.7154, aux_2.loss_ce: 0.0347, aux_2.loss_dice: 0.3197, aux_2.acc_seg: 99.2778, loss: 0.6292\n",
      "2022-03-29 06:14:21,134 - mmseg - INFO - Saving checkpoint at 70000 iterations\n",
      "2022-03-29 06:14:21,362 - mmseg - INFO - Iter [70000/160000]\tlr: 5.999e-03, eta: 18:13:41, time: 0.731, data_time: 0.006, memory: 2073, decode.loss_ce: 0.0770, decode.acc_seg: 95.3915, aux_0.loss_ce: 0.0780, aux_0.acc_seg: 95.3539, aux_1.loss_ce: 0.0820, aux_1.acc_seg: 95.2514, aux_2.loss_ce: 0.0321, aux_2.loss_dice: 0.3009, aux_2.acc_seg: 99.3348, loss: 0.5699\n"
     ]
    },
    {
     "name": "stdout",
     "output_type": "stream",
     "text": [
      "[>>>>>>>>>>>>>>>>>>>>>>>>>>>>>] 610/610, 26.8 task/s, elapsed: 23s, ETA:     0s"
     ]
    },
    {
     "name": "stderr",
     "output_type": "stream",
     "text": [
      "2022-03-29 06:14:44,185 - mmseg - INFO - per class results:\n",
      "2022-03-29 06:14:44,186 - mmseg - INFO - \n",
      "+------------+-------+-------+\n",
      "|   Class    |  IoU  |  Acc  |\n",
      "+------------+-------+-------+\n",
      "| background | 96.35 | 99.77 |\n",
      "|   human    | 33.49 | 34.88 |\n",
      "+------------+-------+-------+\n",
      "2022-03-29 06:14:44,186 - mmseg - INFO - Summary:\n",
      "2022-03-29 06:14:44,186 - mmseg - INFO - \n",
      "+-------+-------+-------+\n",
      "|  aAcc |  mIoU |  mAcc |\n",
      "+-------+-------+-------+\n",
      "| 96.41 | 64.92 | 67.33 |\n",
      "+-------+-------+-------+\n",
      "2022-03-29 06:14:44,188 - mmseg - INFO - Iter(val) [610]\taAcc: 0.9641, mIoU: 0.6492, mAcc: 0.6733, IoU.background: 0.9635, IoU.human: 0.3349, Acc.background: 0.9977, Acc.human: 0.3488\n",
      "2022-03-29 06:15:20,498 - mmseg - INFO - Iter [70050/160000]\tlr: 5.996e-03, eta: 18:13:34, time: 1.181, data_time: 0.460, memory: 2073, decode.loss_ce: 0.0946, decode.acc_seg: 94.6652, aux_0.loss_ce: 0.0973, aux_0.acc_seg: 94.6000, aux_1.loss_ce: 0.0973, aux_1.acc_seg: 94.5062, aux_2.loss_ce: 0.0358, aux_2.loss_dice: 0.3158, aux_2.acc_seg: 99.2410, loss: 0.6408\n",
      "2022-03-29 06:15:56,858 - mmseg - INFO - Iter [70100/160000]\tlr: 5.993e-03, eta: 18:12:57, time: 0.727, data_time: 0.006, memory: 2073, decode.loss_ce: 0.0736, decode.acc_seg: 95.8425, aux_0.loss_ce: 0.0709, aux_0.acc_seg: 95.8273, aux_1.loss_ce: 0.0731, aux_1.acc_seg: 95.7022, aux_2.loss_ce: 0.0326, aux_2.loss_dice: 0.3101, aux_2.acc_seg: 99.3190, loss: 0.5602\n",
      "2022-03-29 06:16:33,171 - mmseg - INFO - Iter [70150/160000]\tlr: 5.990e-03, eta: 18:12:20, time: 0.726, data_time: 0.006, memory: 2073, decode.loss_ce: 0.1120, decode.acc_seg: 93.5625, aux_0.loss_ce: 0.1124, aux_0.acc_seg: 93.5497, aux_1.loss_ce: 0.1158, aux_1.acc_seg: 93.3791, aux_2.loss_ce: 0.0365, aux_2.loss_dice: 0.3175, aux_2.acc_seg: 99.2440, loss: 0.6941\n",
      "2022-03-29 06:17:09,498 - mmseg - INFO - Iter [70200/160000]\tlr: 5.987e-03, eta: 18:11:44, time: 0.727, data_time: 0.006, memory: 2073, decode.loss_ce: 0.0911, decode.acc_seg: 95.0507, aux_0.loss_ce: 0.0897, aux_0.acc_seg: 95.0512, aux_1.loss_ce: 0.0934, aux_1.acc_seg: 94.8546, aux_2.loss_ce: 0.0314, aux_2.loss_dice: 0.2950, aux_2.acc_seg: 99.3493, loss: 0.6007\n",
      "2022-03-29 06:17:45,936 - mmseg - INFO - Iter [70250/160000]\tlr: 5.984e-03, eta: 18:11:07, time: 0.729, data_time: 0.005, memory: 2073, decode.loss_ce: 0.0801, decode.acc_seg: 95.4748, aux_0.loss_ce: 0.0815, aux_0.acc_seg: 95.4434, aux_1.loss_ce: 0.0832, aux_1.acc_seg: 95.3986, aux_2.loss_ce: 0.0328, aux_2.loss_dice: 0.3210, aux_2.acc_seg: 99.3265, loss: 0.5986\n",
      "2022-03-29 06:18:24,378 - mmseg - INFO - Iter [70300/160000]\tlr: 5.981e-03, eta: 18:10:33, time: 0.769, data_time: 0.062, memory: 2073, decode.loss_ce: 0.0874, decode.acc_seg: 94.8132, aux_0.loss_ce: 0.0887, aux_0.acc_seg: 94.7708, aux_1.loss_ce: 0.0895, aux_1.acc_seg: 94.6763, aux_2.loss_ce: 0.0357, aux_2.loss_dice: 0.3199, aux_2.acc_seg: 99.2469, loss: 0.6211\n",
      "2022-03-29 06:19:00,733 - mmseg - INFO - Iter [70350/160000]\tlr: 5.978e-03, eta: 18:09:57, time: 0.727, data_time: 0.005, memory: 2073, decode.loss_ce: 0.0878, decode.acc_seg: 94.9228, aux_0.loss_ce: 0.0882, aux_0.acc_seg: 94.8793, aux_1.loss_ce: 0.0901, aux_1.acc_seg: 94.7802, aux_2.loss_ce: 0.0342, aux_2.loss_dice: 0.3200, aux_2.acc_seg: 99.2919, loss: 0.6204\n",
      "2022-03-29 06:19:37,085 - mmseg - INFO - Iter [70400/160000]\tlr: 5.975e-03, eta: 18:09:20, time: 0.727, data_time: 0.005, memory: 2073, decode.loss_ce: 0.0847, decode.acc_seg: 95.2462, aux_0.loss_ce: 0.0850, aux_0.acc_seg: 95.2169, aux_1.loss_ce: 0.0875, aux_1.acc_seg: 95.0533, aux_2.loss_ce: 0.0340, aux_2.loss_dice: 0.3028, aux_2.acc_seg: 99.2901, loss: 0.5939\n",
      "2022-03-29 06:20:13,455 - mmseg - INFO - Iter [70450/160000]\tlr: 5.972e-03, eta: 18:08:43, time: 0.727, data_time: 0.005, memory: 2073, decode.loss_ce: 0.0943, decode.acc_seg: 94.3457, aux_0.loss_ce: 0.0954, aux_0.acc_seg: 94.2905, aux_1.loss_ce: 0.0963, aux_1.acc_seg: 94.1581, aux_2.loss_ce: 0.0353, aux_2.loss_dice: 0.3074, aux_2.acc_seg: 99.2313, loss: 0.6287\n",
      "2022-03-29 06:20:49,840 - mmseg - INFO - Iter [70500/160000]\tlr: 5.969e-03, eta: 18:08:07, time: 0.728, data_time: 0.005, memory: 2073, decode.loss_ce: 0.1039, decode.acc_seg: 94.2669, aux_0.loss_ce: 0.1034, aux_0.acc_seg: 94.1424, aux_1.loss_ce: 0.1073, aux_1.acc_seg: 94.0322, aux_2.loss_ce: 0.0344, aux_2.loss_dice: 0.3138, aux_2.acc_seg: 99.2736, loss: 0.6629\n",
      "2022-03-29 06:21:26,200 - mmseg - INFO - Iter [70550/160000]\tlr: 5.966e-03, eta: 18:07:30, time: 0.727, data_time: 0.005, memory: 2073, decode.loss_ce: 0.0757, decode.acc_seg: 95.6519, aux_0.loss_ce: 0.0770, aux_0.acc_seg: 95.6010, aux_1.loss_ce: 0.0794, aux_1.acc_seg: 95.4828, aux_2.loss_ce: 0.0317, aux_2.loss_dice: 0.3095, aux_2.acc_seg: 99.3372, loss: 0.5733\n",
      "2022-03-29 06:22:02,605 - mmseg - INFO - Iter [70600/160000]\tlr: 5.963e-03, eta: 18:06:54, time: 0.728, data_time: 0.005, memory: 2073, decode.loss_ce: 0.0755, decode.acc_seg: 95.8984, aux_0.loss_ce: 0.0724, aux_0.acc_seg: 95.8750, aux_1.loss_ce: 0.0725, aux_1.acc_seg: 95.7453, aux_2.loss_ce: 0.0310, aux_2.loss_dice: 0.3167, aux_2.acc_seg: 99.3474, loss: 0.5681\n",
      "2022-03-29 06:22:38,972 - mmseg - INFO - Iter [70650/160000]\tlr: 5.960e-03, eta: 18:06:17, time: 0.727, data_time: 0.005, memory: 2073, decode.loss_ce: 0.0762, decode.acc_seg: 95.4221, aux_0.loss_ce: 0.0806, aux_0.acc_seg: 95.4322, aux_1.loss_ce: 0.0852, aux_1.acc_seg: 95.2779, aux_2.loss_ce: 0.0333, aux_2.loss_dice: 0.3212, aux_2.acc_seg: 99.2907, loss: 0.5966\n",
      "2022-03-29 06:23:15,329 - mmseg - INFO - Iter [70700/160000]\tlr: 5.957e-03, eta: 18:05:40, time: 0.727, data_time: 0.005, memory: 2073, decode.loss_ce: 0.0865, decode.acc_seg: 95.0448, aux_0.loss_ce: 0.0876, aux_0.acc_seg: 95.0211, aux_1.loss_ce: 0.0901, aux_1.acc_seg: 94.9005, aux_2.loss_ce: 0.0354, aux_2.loss_dice: 0.3341, aux_2.acc_seg: 99.2611, loss: 0.6337\n",
      "2022-03-29 06:23:51,670 - mmseg - INFO - Iter [70750/160000]\tlr: 5.954e-03, eta: 18:05:04, time: 0.727, data_time: 0.006, memory: 2073, decode.loss_ce: 0.0660, decode.acc_seg: 96.4170, aux_0.loss_ce: 0.0658, aux_0.acc_seg: 96.3810, aux_1.loss_ce: 0.0709, aux_1.acc_seg: 96.1645, aux_2.loss_ce: 0.0318, aux_2.loss_dice: 0.2999, aux_2.acc_seg: 99.3414, loss: 0.5343\n",
      "2022-03-29 06:24:27,965 - mmseg - INFO - Iter [70800/160000]\tlr: 5.951e-03, eta: 18:04:27, time: 0.726, data_time: 0.006, memory: 2073, decode.loss_ce: 0.0804, decode.acc_seg: 95.3373, aux_0.loss_ce: 0.0802, aux_0.acc_seg: 95.3087, aux_1.loss_ce: 0.0817, aux_1.acc_seg: 95.1676, aux_2.loss_ce: 0.0340, aux_2.loss_dice: 0.3029, aux_2.acc_seg: 99.2755, loss: 0.5792\n",
      "2022-03-29 06:25:04,260 - mmseg - INFO - Iter [70850/160000]\tlr: 5.948e-03, eta: 18:03:50, time: 0.726, data_time: 0.006, memory: 2073, decode.loss_ce: 0.0828, decode.acc_seg: 95.1361, aux_0.loss_ce: 0.0837, aux_0.acc_seg: 95.1624, aux_1.loss_ce: 0.0860, aux_1.acc_seg: 95.0059, aux_2.loss_ce: 0.0348, aux_2.loss_dice: 0.3276, aux_2.acc_seg: 99.2729, loss: 0.6149\n",
      "2022-03-29 06:25:40,689 - mmseg - INFO - Iter [70900/160000]\tlr: 5.945e-03, eta: 18:03:14, time: 0.728, data_time: 0.006, memory: 2073, decode.loss_ce: 0.0615, decode.acc_seg: 96.4308, aux_0.loss_ce: 0.0631, aux_0.acc_seg: 96.4311, aux_1.loss_ce: 0.0671, aux_1.acc_seg: 96.3219, aux_2.loss_ce: 0.0303, aux_2.loss_dice: 0.2878, aux_2.acc_seg: 99.3719, loss: 0.5098\n",
      "2022-03-29 06:26:14,508 - mmseg - INFO - Iter [70950/160000]\tlr: 5.943e-03, eta: 18:02:34, time: 0.677, data_time: 0.006, memory: 2073, decode.loss_ce: 0.0997, decode.acc_seg: 94.4545, aux_0.loss_ce: 0.0990, aux_0.acc_seg: 94.4349, aux_1.loss_ce: 0.1011, aux_1.acc_seg: 94.3328, aux_2.loss_ce: 0.0347, aux_2.loss_dice: 0.2997, aux_2.acc_seg: 99.2726, loss: 0.6342\n",
      "2022-03-29 06:26:53,336 - mmseg - INFO - Iter [71000/160000]\tlr: 5.940e-03, eta: 18:02:00, time: 0.777, data_time: 0.057, memory: 2073, decode.loss_ce: 0.0888, decode.acc_seg: 94.8984, aux_0.loss_ce: 0.0912, aux_0.acc_seg: 94.8323, aux_1.loss_ce: 0.0936, aux_1.acc_seg: 94.6643, aux_2.loss_ce: 0.0361, aux_2.loss_dice: 0.3283, aux_2.acc_seg: 99.2029, loss: 0.6379\n",
      "2022-03-29 06:27:29,673 - mmseg - INFO - Iter [71050/160000]\tlr: 5.937e-03, eta: 18:01:24, time: 0.727, data_time: 0.005, memory: 2073, decode.loss_ce: 0.0783, decode.acc_seg: 95.2366, aux_0.loss_ce: 0.0793, aux_0.acc_seg: 95.2588, aux_1.loss_ce: 0.0838, aux_1.acc_seg: 95.0018, aux_2.loss_ce: 0.0345, aux_2.loss_dice: 0.3142, aux_2.acc_seg: 99.2690, loss: 0.5901\n"
     ]
    },
    {
     "name": "stderr",
     "output_type": "stream",
     "text": [
      "2022-03-29 06:28:05,948 - mmseg - INFO - Iter [71100/160000]\tlr: 5.934e-03, eta: 18:00:47, time: 0.726, data_time: 0.005, memory: 2073, decode.loss_ce: 0.0781, decode.acc_seg: 95.2389, aux_0.loss_ce: 0.0780, aux_0.acc_seg: 95.2359, aux_1.loss_ce: 0.0812, aux_1.acc_seg: 95.1391, aux_2.loss_ce: 0.0337, aux_2.loss_dice: 0.3080, aux_2.acc_seg: 99.2892, loss: 0.5790\n",
      "2022-03-29 06:28:42,331 - mmseg - INFO - Iter [71150/160000]\tlr: 5.931e-03, eta: 18:00:11, time: 0.727, data_time: 0.005, memory: 2073, decode.loss_ce: 0.0931, decode.acc_seg: 95.1525, aux_0.loss_ce: 0.0911, aux_0.acc_seg: 95.1191, aux_1.loss_ce: 0.0910, aux_1.acc_seg: 94.9211, aux_2.loss_ce: 0.0354, aux_2.loss_dice: 0.3168, aux_2.acc_seg: 99.2611, loss: 0.6275\n",
      "2022-03-29 06:29:18,669 - mmseg - INFO - Iter [71200/160000]\tlr: 5.928e-03, eta: 17:59:34, time: 0.726, data_time: 0.006, memory: 2073, decode.loss_ce: 0.0937, decode.acc_seg: 94.6531, aux_0.loss_ce: 0.0955, aux_0.acc_seg: 94.6451, aux_1.loss_ce: 0.0988, aux_1.acc_seg: 94.5431, aux_2.loss_ce: 0.0347, aux_2.loss_dice: 0.3085, aux_2.acc_seg: 99.2847, loss: 0.6311\n",
      "2022-03-29 06:29:54,997 - mmseg - INFO - Iter [71250/160000]\tlr: 5.925e-03, eta: 17:58:57, time: 0.727, data_time: 0.006, memory: 2073, decode.loss_ce: 0.0823, decode.acc_seg: 94.8924, aux_0.loss_ce: 0.0823, aux_0.acc_seg: 94.8481, aux_1.loss_ce: 0.0861, aux_1.acc_seg: 94.7491, aux_2.loss_ce: 0.0337, aux_2.loss_dice: 0.3056, aux_2.acc_seg: 99.2935, loss: 0.5900\n",
      "2022-03-29 06:30:31,347 - mmseg - INFO - Iter [71300/160000]\tlr: 5.922e-03, eta: 17:58:21, time: 0.727, data_time: 0.006, memory: 2073, decode.loss_ce: 0.0790, decode.acc_seg: 95.4985, aux_0.loss_ce: 0.0803, aux_0.acc_seg: 95.4817, aux_1.loss_ce: 0.0798, aux_1.acc_seg: 95.3076, aux_2.loss_ce: 0.0327, aux_2.loss_dice: 0.3040, aux_2.acc_seg: 99.3189, loss: 0.5759\n",
      "2022-03-29 06:31:07,677 - mmseg - INFO - Iter [71350/160000]\tlr: 5.919e-03, eta: 17:57:44, time: 0.727, data_time: 0.006, memory: 2073, decode.loss_ce: 0.0847, decode.acc_seg: 95.2843, aux_0.loss_ce: 0.0847, aux_0.acc_seg: 95.2790, aux_1.loss_ce: 0.0884, aux_1.acc_seg: 95.0958, aux_2.loss_ce: 0.0354, aux_2.loss_dice: 0.3046, aux_2.acc_seg: 99.2565, loss: 0.5979\n",
      "2022-03-29 06:31:44,042 - mmseg - INFO - Iter [71400/160000]\tlr: 5.916e-03, eta: 17:57:07, time: 0.727, data_time: 0.005, memory: 2073, decode.loss_ce: 0.0778, decode.acc_seg: 95.4486, aux_0.loss_ce: 0.0778, aux_0.acc_seg: 95.4467, aux_1.loss_ce: 0.0815, aux_1.acc_seg: 95.3159, aux_2.loss_ce: 0.0324, aux_2.loss_dice: 0.3016, aux_2.acc_seg: 99.3151, loss: 0.5712\n",
      "2022-03-29 06:32:20,372 - mmseg - INFO - Iter [71450/160000]\tlr: 5.913e-03, eta: 17:56:31, time: 0.727, data_time: 0.005, memory: 2073, decode.loss_ce: 0.0785, decode.acc_seg: 95.3524, aux_0.loss_ce: 0.0769, aux_0.acc_seg: 95.3872, aux_1.loss_ce: 0.0812, aux_1.acc_seg: 95.1705, aux_2.loss_ce: 0.0327, aux_2.loss_dice: 0.3195, aux_2.acc_seg: 99.3183, loss: 0.5888\n",
      "2022-03-29 06:32:56,732 - mmseg - INFO - Iter [71500/160000]\tlr: 5.910e-03, eta: 17:55:54, time: 0.727, data_time: 0.005, memory: 2073, decode.loss_ce: 0.0718, decode.acc_seg: 95.9424, aux_0.loss_ce: 0.0721, aux_0.acc_seg: 95.9331, aux_1.loss_ce: 0.0749, aux_1.acc_seg: 95.7393, aux_2.loss_ce: 0.0337, aux_2.loss_dice: 0.3203, aux_2.acc_seg: 99.2848, loss: 0.5728\n",
      "2022-03-29 06:33:33,103 - mmseg - INFO - Iter [71550/160000]\tlr: 5.907e-03, eta: 17:55:18, time: 0.727, data_time: 0.005, memory: 2073, decode.loss_ce: 0.0846, decode.acc_seg: 95.0656, aux_0.loss_ce: 0.0851, aux_0.acc_seg: 95.0240, aux_1.loss_ce: 0.0881, aux_1.acc_seg: 94.9564, aux_2.loss_ce: 0.0344, aux_2.loss_dice: 0.3039, aux_2.acc_seg: 99.2666, loss: 0.5962\n",
      "2022-03-29 06:34:06,745 - mmseg - INFO - Iter [71600/160000]\tlr: 5.904e-03, eta: 17:54:38, time: 0.673, data_time: 0.006, memory: 2073, decode.loss_ce: 0.0843, decode.acc_seg: 95.0788, aux_0.loss_ce: 0.0863, aux_0.acc_seg: 95.0156, aux_1.loss_ce: 0.0881, aux_1.acc_seg: 94.8273, aux_2.loss_ce: 0.0346, aux_2.loss_dice: 0.3320, aux_2.acc_seg: 99.2702, loss: 0.6252\n",
      "2022-03-29 06:34:43,159 - mmseg - INFO - Iter [71650/160000]\tlr: 5.901e-03, eta: 17:54:01, time: 0.728, data_time: 0.005, memory: 2073, decode.loss_ce: 0.0957, decode.acc_seg: 94.7258, aux_0.loss_ce: 0.0950, aux_0.acc_seg: 94.7597, aux_1.loss_ce: 0.0974, aux_1.acc_seg: 94.6362, aux_2.loss_ce: 0.0353, aux_2.loss_dice: 0.3186, aux_2.acc_seg: 99.2567, loss: 0.6419\n",
      "2022-03-29 06:35:22,245 - mmseg - INFO - Iter [71700/160000]\tlr: 5.898e-03, eta: 17:53:28, time: 0.781, data_time: 0.059, memory: 2073, decode.loss_ce: 0.0819, decode.acc_seg: 94.9422, aux_0.loss_ce: 0.0841, aux_0.acc_seg: 94.8981, aux_1.loss_ce: 0.0872, aux_1.acc_seg: 94.7349, aux_2.loss_ce: 0.0354, aux_2.loss_dice: 0.3101, aux_2.acc_seg: 99.2746, loss: 0.5987\n",
      "2022-03-29 06:35:58,626 - mmseg - INFO - Iter [71750/160000]\tlr: 5.895e-03, eta: 17:52:51, time: 0.728, data_time: 0.006, memory: 2073, decode.loss_ce: 0.0760, decode.acc_seg: 95.9716, aux_0.loss_ce: 0.0763, aux_0.acc_seg: 95.9452, aux_1.loss_ce: 0.0777, aux_1.acc_seg: 95.7190, aux_2.loss_ce: 0.0319, aux_2.loss_dice: 0.3081, aux_2.acc_seg: 99.3311, loss: 0.5699\n",
      "2022-03-29 06:36:34,952 - mmseg - INFO - Iter [71800/160000]\tlr: 5.892e-03, eta: 17:52:14, time: 0.726, data_time: 0.006, memory: 2073, decode.loss_ce: 0.0908, decode.acc_seg: 94.8227, aux_0.loss_ce: 0.0909, aux_0.acc_seg: 94.7745, aux_1.loss_ce: 0.0959, aux_1.acc_seg: 94.5860, aux_2.loss_ce: 0.0369, aux_2.loss_dice: 0.3187, aux_2.acc_seg: 99.2030, loss: 0.6332\n",
      "2022-03-29 06:37:11,306 - mmseg - INFO - Iter [71850/160000]\tlr: 5.889e-03, eta: 17:51:38, time: 0.727, data_time: 0.006, memory: 2073, decode.loss_ce: 0.0751, decode.acc_seg: 95.6865, aux_0.loss_ce: 0.0765, aux_0.acc_seg: 95.6512, aux_1.loss_ce: 0.0783, aux_1.acc_seg: 95.5475, aux_2.loss_ce: 0.0336, aux_2.loss_dice: 0.3210, aux_2.acc_seg: 99.2872, loss: 0.5846\n",
      "2022-03-29 06:37:47,687 - mmseg - INFO - Iter [71900/160000]\tlr: 5.886e-03, eta: 17:51:01, time: 0.728, data_time: 0.006, memory: 2073, decode.loss_ce: 0.0813, decode.acc_seg: 95.5648, aux_0.loss_ce: 0.0814, aux_0.acc_seg: 95.4988, aux_1.loss_ce: 0.0826, aux_1.acc_seg: 95.3380, aux_2.loss_ce: 0.0342, aux_2.loss_dice: 0.3288, aux_2.acc_seg: 99.2813, loss: 0.6083\n",
      "2022-03-29 06:38:24,000 - mmseg - INFO - Iter [71950/160000]\tlr: 5.883e-03, eta: 17:50:25, time: 0.726, data_time: 0.006, memory: 2073, decode.loss_ce: 0.0782, decode.acc_seg: 95.3888, aux_0.loss_ce: 0.0788, aux_0.acc_seg: 95.3918, aux_1.loss_ce: 0.0829, aux_1.acc_seg: 95.1688, aux_2.loss_ce: 0.0344, aux_2.loss_dice: 0.3306, aux_2.acc_seg: 99.2664, loss: 0.6049\n",
      "2022-03-29 06:39:00,280 - mmseg - INFO - Iter [72000/160000]\tlr: 5.881e-03, eta: 17:49:48, time: 0.726, data_time: 0.006, memory: 2073, decode.loss_ce: 0.0782, decode.acc_seg: 95.1068, aux_0.loss_ce: 0.0792, aux_0.acc_seg: 95.0548, aux_1.loss_ce: 0.0821, aux_1.acc_seg: 94.9292, aux_2.loss_ce: 0.0325, aux_2.loss_dice: 0.3057, aux_2.acc_seg: 99.3091, loss: 0.5777\n",
      "2022-03-29 06:39:36,635 - mmseg - INFO - Iter [72050/160000]\tlr: 5.878e-03, eta: 17:49:11, time: 0.727, data_time: 0.006, memory: 2073, decode.loss_ce: 0.0775, decode.acc_seg: 95.5942, aux_0.loss_ce: 0.0768, aux_0.acc_seg: 95.5969, aux_1.loss_ce: 0.0784, aux_1.acc_seg: 95.4896, aux_2.loss_ce: 0.0332, aux_2.loss_dice: 0.2963, aux_2.acc_seg: 99.3012, loss: 0.5623\n",
      "2022-03-29 06:40:12,979 - mmseg - INFO - Iter [72100/160000]\tlr: 5.875e-03, eta: 17:48:35, time: 0.727, data_time: 0.006, memory: 2073, decode.loss_ce: 0.0818, decode.acc_seg: 95.4261, aux_0.loss_ce: 0.0826, aux_0.acc_seg: 95.4059, aux_1.loss_ce: 0.0823, aux_1.acc_seg: 95.2309, aux_2.loss_ce: 0.0338, aux_2.loss_dice: 0.3166, aux_2.acc_seg: 99.2929, loss: 0.5970\n",
      "2022-03-29 06:40:49,295 - mmseg - INFO - Iter [72150/160000]\tlr: 5.872e-03, eta: 17:47:58, time: 0.726, data_time: 0.006, memory: 2073, decode.loss_ce: 0.0639, decode.acc_seg: 96.1386, aux_0.loss_ce: 0.0654, aux_0.acc_seg: 96.1156, aux_1.loss_ce: 0.0715, aux_1.acc_seg: 95.9868, aux_2.loss_ce: 0.0312, aux_2.loss_dice: 0.3088, aux_2.acc_seg: 99.3346, loss: 0.5408\n",
      "2022-03-29 06:41:25,653 - mmseg - INFO - Iter [72200/160000]\tlr: 5.869e-03, eta: 17:47:21, time: 0.727, data_time: 0.006, memory: 2073, decode.loss_ce: 0.0844, decode.acc_seg: 95.0778, aux_0.loss_ce: 0.0857, aux_0.acc_seg: 94.9970, aux_1.loss_ce: 0.0885, aux_1.acc_seg: 94.8268, aux_2.loss_ce: 0.0331, aux_2.loss_dice: 0.3139, aux_2.acc_seg: 99.2937, loss: 0.6057\n"
     ]
    },
    {
     "name": "stderr",
     "output_type": "stream",
     "text": [
      "2022-03-29 06:41:59,459 - mmseg - INFO - Iter [72250/160000]\tlr: 5.866e-03, eta: 17:46:42, time: 0.675, data_time: 0.005, memory: 2073, decode.loss_ce: 0.0790, decode.acc_seg: 95.7283, aux_0.loss_ce: 0.0791, aux_0.acc_seg: 95.6990, aux_1.loss_ce: 0.0803, aux_1.acc_seg: 95.5582, aux_2.loss_ce: 0.0336, aux_2.loss_dice: 0.3246, aux_2.acc_seg: 99.2997, loss: 0.5967\n",
      "2022-03-29 06:42:35,786 - mmseg - INFO - Iter [72300/160000]\tlr: 5.863e-03, eta: 17:46:05, time: 0.727, data_time: 0.006, memory: 2073, decode.loss_ce: 0.0778, decode.acc_seg: 95.6398, aux_0.loss_ce: 0.0791, aux_0.acc_seg: 95.5910, aux_1.loss_ce: 0.0815, aux_1.acc_seg: 95.4037, aux_2.loss_ce: 0.0325, aux_2.loss_dice: 0.3263, aux_2.acc_seg: 99.3236, loss: 0.5973\n",
      "2022-03-29 06:43:12,098 - mmseg - INFO - Iter [72350/160000]\tlr: 5.860e-03, eta: 17:45:28, time: 0.726, data_time: 0.006, memory: 2073, decode.loss_ce: 0.0845, decode.acc_seg: 95.0933, aux_0.loss_ce: 0.0841, aux_0.acc_seg: 95.0572, aux_1.loss_ce: 0.0871, aux_1.acc_seg: 94.9149, aux_2.loss_ce: 0.0349, aux_2.loss_dice: 0.2878, aux_2.acc_seg: 99.2475, loss: 0.5784\n",
      "2022-03-29 06:43:51,042 - mmseg - INFO - Iter [72400/160000]\tlr: 5.857e-03, eta: 17:44:55, time: 0.778, data_time: 0.058, memory: 2073, decode.loss_ce: 0.0850, decode.acc_seg: 94.9218, aux_0.loss_ce: 0.0887, aux_0.acc_seg: 94.8918, aux_1.loss_ce: 0.0922, aux_1.acc_seg: 94.7100, aux_2.loss_ce: 0.0331, aux_2.loss_dice: 0.3116, aux_2.acc_seg: 99.2995, loss: 0.6105\n",
      "2022-03-29 06:44:27,393 - mmseg - INFO - Iter [72450/160000]\tlr: 5.854e-03, eta: 17:44:18, time: 0.727, data_time: 0.006, memory: 2073, decode.loss_ce: 0.0812, decode.acc_seg: 95.5294, aux_0.loss_ce: 0.0805, aux_0.acc_seg: 95.5134, aux_1.loss_ce: 0.0830, aux_1.acc_seg: 95.3594, aux_2.loss_ce: 0.0344, aux_2.loss_dice: 0.3249, aux_2.acc_seg: 99.2728, loss: 0.6041\n",
      "2022-03-29 06:45:03,741 - mmseg - INFO - Iter [72500/160000]\tlr: 5.851e-03, eta: 17:43:42, time: 0.727, data_time: 0.005, memory: 2073, decode.loss_ce: 0.0895, decode.acc_seg: 95.0883, aux_0.loss_ce: 0.0893, aux_0.acc_seg: 95.0681, aux_1.loss_ce: 0.0926, aux_1.acc_seg: 94.8501, aux_2.loss_ce: 0.0344, aux_2.loss_dice: 0.3046, aux_2.acc_seg: 99.2663, loss: 0.6104\n",
      "2022-03-29 06:45:40,095 - mmseg - INFO - Iter [72550/160000]\tlr: 5.848e-03, eta: 17:43:05, time: 0.727, data_time: 0.006, memory: 2073, decode.loss_ce: 0.0891, decode.acc_seg: 95.0051, aux_0.loss_ce: 0.0887, aux_0.acc_seg: 95.0155, aux_1.loss_ce: 0.0879, aux_1.acc_seg: 94.9020, aux_2.loss_ce: 0.0362, aux_2.loss_dice: 0.3320, aux_2.acc_seg: 99.2346, loss: 0.6340\n",
      "2022-03-29 06:46:16,454 - mmseg - INFO - Iter [72600/160000]\tlr: 5.845e-03, eta: 17:42:29, time: 0.727, data_time: 0.006, memory: 2073, decode.loss_ce: 0.0924, decode.acc_seg: 94.5612, aux_0.loss_ce: 0.0928, aux_0.acc_seg: 94.5462, aux_1.loss_ce: 0.0978, aux_1.acc_seg: 94.3981, aux_2.loss_ce: 0.0337, aux_2.loss_dice: 0.3167, aux_2.acc_seg: 99.2952, loss: 0.6335\n",
      "2022-03-29 06:46:52,790 - mmseg - INFO - Iter [72650/160000]\tlr: 5.842e-03, eta: 17:41:52, time: 0.727, data_time: 0.006, memory: 2073, decode.loss_ce: 0.0808, decode.acc_seg: 95.4859, aux_0.loss_ce: 0.0806, aux_0.acc_seg: 95.4600, aux_1.loss_ce: 0.0882, aux_1.acc_seg: 95.2713, aux_2.loss_ce: 0.0350, aux_2.loss_dice: 0.3237, aux_2.acc_seg: 99.2615, loss: 0.6083\n",
      "2022-03-29 06:47:29,089 - mmseg - INFO - Iter [72700/160000]\tlr: 5.839e-03, eta: 17:41:15, time: 0.726, data_time: 0.005, memory: 2073, decode.loss_ce: 0.0728, decode.acc_seg: 95.8874, aux_0.loss_ce: 0.0730, aux_0.acc_seg: 95.9175, aux_1.loss_ce: 0.0744, aux_1.acc_seg: 95.7322, aux_2.loss_ce: 0.0316, aux_2.loss_dice: 0.3225, aux_2.acc_seg: 99.3464, loss: 0.5744\n",
      "2022-03-29 06:48:05,487 - mmseg - INFO - Iter [72750/160000]\tlr: 5.836e-03, eta: 17:40:39, time: 0.728, data_time: 0.006, memory: 2073, decode.loss_ce: 0.0930, decode.acc_seg: 94.7060, aux_0.loss_ce: 0.0925, aux_0.acc_seg: 94.6970, aux_1.loss_ce: 0.0934, aux_1.acc_seg: 94.5425, aux_2.loss_ce: 0.0329, aux_2.loss_dice: 0.3017, aux_2.acc_seg: 99.3106, loss: 0.6135\n",
      "2022-03-29 06:48:41,810 - mmseg - INFO - Iter [72800/160000]\tlr: 5.833e-03, eta: 17:40:02, time: 0.726, data_time: 0.005, memory: 2073, decode.loss_ce: 0.0780, decode.acc_seg: 95.5287, aux_0.loss_ce: 0.0782, aux_0.acc_seg: 95.5531, aux_1.loss_ce: 0.0818, aux_1.acc_seg: 95.3883, aux_2.loss_ce: 0.0353, aux_2.loss_dice: 0.3089, aux_2.acc_seg: 99.2333, loss: 0.5821\n",
      "2022-03-29 06:49:18,244 - mmseg - INFO - Iter [72850/160000]\tlr: 5.830e-03, eta: 17:39:26, time: 0.729, data_time: 0.006, memory: 2073, decode.loss_ce: 0.0755, decode.acc_seg: 95.5940, aux_0.loss_ce: 0.0767, aux_0.acc_seg: 95.5654, aux_1.loss_ce: 0.0788, aux_1.acc_seg: 95.4472, aux_2.loss_ce: 0.0346, aux_2.loss_dice: 0.3302, aux_2.acc_seg: 99.2808, loss: 0.5959\n",
      "2022-03-29 06:49:51,914 - mmseg - INFO - Iter [72900/160000]\tlr: 5.827e-03, eta: 17:38:46, time: 0.674, data_time: 0.006, memory: 2073, decode.loss_ce: 0.0776, decode.acc_seg: 95.3998, aux_0.loss_ce: 0.0763, aux_0.acc_seg: 95.3645, aux_1.loss_ce: 0.0786, aux_1.acc_seg: 95.2117, aux_2.loss_ce: 0.0350, aux_2.loss_dice: 0.3103, aux_2.acc_seg: 99.2601, loss: 0.5777\n",
      "2022-03-29 06:50:28,330 - mmseg - INFO - Iter [72950/160000]\tlr: 5.824e-03, eta: 17:38:09, time: 0.728, data_time: 0.005, memory: 2073, decode.loss_ce: 0.0878, decode.acc_seg: 94.9405, aux_0.loss_ce: 0.0855, aux_0.acc_seg: 94.8776, aux_1.loss_ce: 0.0875, aux_1.acc_seg: 94.7839, aux_2.loss_ce: 0.0336, aux_2.loss_dice: 0.3041, aux_2.acc_seg: 99.2779, loss: 0.5985\n",
      "2022-03-29 06:51:04,725 - mmseg - INFO - Iter [73000/160000]\tlr: 5.821e-03, eta: 17:37:33, time: 0.728, data_time: 0.005, memory: 2073, decode.loss_ce: 0.0691, decode.acc_seg: 96.0593, aux_0.loss_ce: 0.0740, aux_0.acc_seg: 96.0588, aux_1.loss_ce: 0.0752, aux_1.acc_seg: 95.9379, aux_2.loss_ce: 0.0287, aux_2.loss_dice: 0.2914, aux_2.acc_seg: 99.4115, loss: 0.5384\n",
      "2022-03-29 06:51:41,070 - mmseg - INFO - Iter [73050/160000]\tlr: 5.818e-03, eta: 17:36:56, time: 0.727, data_time: 0.005, memory: 2073, decode.loss_ce: 0.0879, decode.acc_seg: 95.0763, aux_0.loss_ce: 0.0893, aux_0.acc_seg: 95.0386, aux_1.loss_ce: 0.0918, aux_1.acc_seg: 94.8477, aux_2.loss_ce: 0.0337, aux_2.loss_dice: 0.3288, aux_2.acc_seg: 99.3035, loss: 0.6316\n",
      "2022-03-29 06:52:19,960 - mmseg - INFO - Iter [73100/160000]\tlr: 5.815e-03, eta: 17:36:22, time: 0.778, data_time: 0.057, memory: 2073, decode.loss_ce: 0.0924, decode.acc_seg: 94.5157, aux_0.loss_ce: 0.0914, aux_0.acc_seg: 94.5257, aux_1.loss_ce: 0.0945, aux_1.acc_seg: 94.3745, aux_2.loss_ce: 0.0339, aux_2.loss_dice: 0.3238, aux_2.acc_seg: 99.2781, loss: 0.6361\n",
      "2022-03-29 06:52:56,330 - mmseg - INFO - Iter [73150/160000]\tlr: 5.812e-03, eta: 17:35:46, time: 0.727, data_time: 0.005, memory: 2073, decode.loss_ce: 0.0858, decode.acc_seg: 94.9170, aux_0.loss_ce: 0.0867, aux_0.acc_seg: 94.9016, aux_1.loss_ce: 0.0898, aux_1.acc_seg: 94.7238, aux_2.loss_ce: 0.0345, aux_2.loss_dice: 0.3094, aux_2.acc_seg: 99.2587, loss: 0.6061\n",
      "2022-03-29 06:53:32,701 - mmseg - INFO - Iter [73200/160000]\tlr: 5.810e-03, eta: 17:35:09, time: 0.727, data_time: 0.006, memory: 2073, decode.loss_ce: 0.0869, decode.acc_seg: 95.1912, aux_0.loss_ce: 0.0873, aux_0.acc_seg: 95.1933, aux_1.loss_ce: 0.0899, aux_1.acc_seg: 95.0822, aux_2.loss_ce: 0.0353, aux_2.loss_dice: 0.3122, aux_2.acc_seg: 99.2728, loss: 0.6116\n",
      "2022-03-29 06:54:09,077 - mmseg - INFO - Iter [73250/160000]\tlr: 5.807e-03, eta: 17:34:33, time: 0.727, data_time: 0.005, memory: 2073, decode.loss_ce: 0.0671, decode.acc_seg: 96.1509, aux_0.loss_ce: 0.0679, aux_0.acc_seg: 96.1386, aux_1.loss_ce: 0.0713, aux_1.acc_seg: 95.9575, aux_2.loss_ce: 0.0330, aux_2.loss_dice: 0.3175, aux_2.acc_seg: 99.3005, loss: 0.5569\n",
      "2022-03-29 06:54:45,392 - mmseg - INFO - Iter [73300/160000]\tlr: 5.804e-03, eta: 17:33:56, time: 0.726, data_time: 0.006, memory: 2073, decode.loss_ce: 0.0837, decode.acc_seg: 95.1391, aux_0.loss_ce: 0.0878, aux_0.acc_seg: 95.0032, aux_1.loss_ce: 0.0886, aux_1.acc_seg: 94.9063, aux_2.loss_ce: 0.0353, aux_2.loss_dice: 0.2918, aux_2.acc_seg: 99.2553, loss: 0.5871\n",
      "2022-03-29 06:55:21,591 - mmseg - INFO - Iter [73350/160000]\tlr: 5.801e-03, eta: 17:33:19, time: 0.725, data_time: 0.006, memory: 2073, decode.loss_ce: 0.0668, decode.acc_seg: 96.1173, aux_0.loss_ce: 0.0650, aux_0.acc_seg: 96.1049, aux_1.loss_ce: 0.0655, aux_1.acc_seg: 96.0220, aux_2.loss_ce: 0.0320, aux_2.loss_dice: 0.3057, aux_2.acc_seg: 99.3186, loss: 0.5351\n"
     ]
    },
    {
     "name": "stderr",
     "output_type": "stream",
     "text": [
      "2022-03-29 06:55:58,000 - mmseg - INFO - Iter [73400/160000]\tlr: 5.798e-03, eta: 17:32:43, time: 0.728, data_time: 0.006, memory: 2073, decode.loss_ce: 0.0752, decode.acc_seg: 95.5076, aux_0.loss_ce: 0.0779, aux_0.acc_seg: 95.4991, aux_1.loss_ce: 0.0807, aux_1.acc_seg: 95.4250, aux_2.loss_ce: 0.0326, aux_2.loss_dice: 0.3202, aux_2.acc_seg: 99.3031, loss: 0.5866\n",
      "2022-03-29 06:56:34,365 - mmseg - INFO - Iter [73450/160000]\tlr: 5.795e-03, eta: 17:32:06, time: 0.727, data_time: 0.005, memory: 2073, decode.loss_ce: 0.1018, decode.acc_seg: 94.6304, aux_0.loss_ce: 0.0996, aux_0.acc_seg: 94.5916, aux_1.loss_ce: 0.1075, aux_1.acc_seg: 94.4659, aux_2.loss_ce: 0.0355, aux_2.loss_dice: 0.3204, aux_2.acc_seg: 99.2539, loss: 0.6648\n",
      "2022-03-29 06:57:10,713 - mmseg - INFO - Iter [73500/160000]\tlr: 5.792e-03, eta: 17:31:29, time: 0.727, data_time: 0.005, memory: 2073, decode.loss_ce: 0.0813, decode.acc_seg: 94.8843, aux_0.loss_ce: 0.0816, aux_0.acc_seg: 94.8601, aux_1.loss_ce: 0.0822, aux_1.acc_seg: 94.7513, aux_2.loss_ce: 0.0343, aux_2.loss_dice: 0.3060, aux_2.acc_seg: 99.2778, loss: 0.5854\n",
      "2022-03-29 06:57:44,338 - mmseg - INFO - Iter [73550/160000]\tlr: 5.789e-03, eta: 17:30:50, time: 0.672, data_time: 0.006, memory: 2073, decode.loss_ce: 0.0886, decode.acc_seg: 94.7918, aux_0.loss_ce: 0.0897, aux_0.acc_seg: 94.7865, aux_1.loss_ce: 0.0924, aux_1.acc_seg: 94.6274, aux_2.loss_ce: 0.0339, aux_2.loss_dice: 0.2980, aux_2.acc_seg: 99.2667, loss: 0.6026\n",
      "2022-03-29 06:58:20,751 - mmseg - INFO - Iter [73600/160000]\tlr: 5.786e-03, eta: 17:30:13, time: 0.728, data_time: 0.006, memory: 2073, decode.loss_ce: 0.0759, decode.acc_seg: 95.7719, aux_0.loss_ce: 0.0776, aux_0.acc_seg: 95.7647, aux_1.loss_ce: 0.0787, aux_1.acc_seg: 95.6117, aux_2.loss_ce: 0.0327, aux_2.loss_dice: 0.2960, aux_2.acc_seg: 99.3122, loss: 0.5609\n",
      "2022-03-29 06:58:57,078 - mmseg - INFO - Iter [73650/160000]\tlr: 5.783e-03, eta: 17:29:37, time: 0.727, data_time: 0.006, memory: 2073, decode.loss_ce: 0.0765, decode.acc_seg: 95.7177, aux_0.loss_ce: 0.0744, aux_0.acc_seg: 95.7047, aux_1.loss_ce: 0.0780, aux_1.acc_seg: 95.5447, aux_2.loss_ce: 0.0339, aux_2.loss_dice: 0.3070, aux_2.acc_seg: 99.2895, loss: 0.5698\n",
      "2022-03-29 06:59:33,448 - mmseg - INFO - Iter [73700/160000]\tlr: 5.780e-03, eta: 17:29:00, time: 0.727, data_time: 0.006, memory: 2073, decode.loss_ce: 0.0683, decode.acc_seg: 95.8531, aux_0.loss_ce: 0.0715, aux_0.acc_seg: 95.8211, aux_1.loss_ce: 0.0720, aux_1.acc_seg: 95.7082, aux_2.loss_ce: 0.0337, aux_2.loss_dice: 0.2862, aux_2.acc_seg: 99.2797, loss: 0.5317\n",
      "2022-03-29 07:00:09,823 - mmseg - INFO - Iter [73750/160000]\tlr: 5.777e-03, eta: 17:28:23, time: 0.728, data_time: 0.005, memory: 2073, decode.loss_ce: 0.0731, decode.acc_seg: 95.9111, aux_0.loss_ce: 0.0707, aux_0.acc_seg: 95.9259, aux_1.loss_ce: 0.0772, aux_1.acc_seg: 95.8033, aux_2.loss_ce: 0.0317, aux_2.loss_dice: 0.3298, aux_2.acc_seg: 99.3372, loss: 0.5825\n",
      "2022-03-29 07:00:48,658 - mmseg - INFO - Iter [73800/160000]\tlr: 5.774e-03, eta: 17:27:50, time: 0.777, data_time: 0.057, memory: 2073, decode.loss_ce: 0.0834, decode.acc_seg: 95.2437, aux_0.loss_ce: 0.0848, aux_0.acc_seg: 95.2161, aux_1.loss_ce: 0.0871, aux_1.acc_seg: 95.0144, aux_2.loss_ce: 0.0326, aux_2.loss_dice: 0.3143, aux_2.acc_seg: 99.3167, loss: 0.6021\n",
      "2022-03-29 07:01:24,991 - mmseg - INFO - Iter [73850/160000]\tlr: 5.771e-03, eta: 17:27:13, time: 0.727, data_time: 0.005, memory: 2073, decode.loss_ce: 0.0778, decode.acc_seg: 95.3289, aux_0.loss_ce: 0.0784, aux_0.acc_seg: 95.2924, aux_1.loss_ce: 0.0803, aux_1.acc_seg: 95.0909, aux_2.loss_ce: 0.0348, aux_2.loss_dice: 0.3222, aux_2.acc_seg: 99.2733, loss: 0.5934\n",
      "2022-03-29 07:02:01,360 - mmseg - INFO - Iter [73900/160000]\tlr: 5.768e-03, eta: 17:26:36, time: 0.728, data_time: 0.005, memory: 2073, decode.loss_ce: 0.0858, decode.acc_seg: 95.2220, aux_0.loss_ce: 0.0867, aux_0.acc_seg: 95.2045, aux_1.loss_ce: 0.0901, aux_1.acc_seg: 95.0676, aux_2.loss_ce: 0.0362, aux_2.loss_dice: 0.3299, aux_2.acc_seg: 99.2226, loss: 0.6287\n",
      "2022-03-29 07:02:37,698 - mmseg - INFO - Iter [73950/160000]\tlr: 5.765e-03, eta: 17:26:00, time: 0.727, data_time: 0.005, memory: 2073, decode.loss_ce: 0.0705, decode.acc_seg: 96.0198, aux_0.loss_ce: 0.0723, aux_0.acc_seg: 95.9976, aux_1.loss_ce: 0.0723, aux_1.acc_seg: 95.8859, aux_2.loss_ce: 0.0326, aux_2.loss_dice: 0.3075, aux_2.acc_seg: 99.3156, loss: 0.5551\n",
      "2022-03-29 07:03:14,061 - mmseg - INFO - Iter [74000/160000]\tlr: 5.762e-03, eta: 17:25:23, time: 0.727, data_time: 0.006, memory: 2073, decode.loss_ce: 0.0739, decode.acc_seg: 95.6557, aux_0.loss_ce: 0.0741, aux_0.acc_seg: 95.6131, aux_1.loss_ce: 0.0784, aux_1.acc_seg: 95.4604, aux_2.loss_ce: 0.0339, aux_2.loss_dice: 0.3039, aux_2.acc_seg: 99.2902, loss: 0.5643\n",
      "2022-03-29 07:03:50,406 - mmseg - INFO - Iter [74050/160000]\tlr: 5.759e-03, eta: 17:24:47, time: 0.727, data_time: 0.006, memory: 2073, decode.loss_ce: 0.0720, decode.acc_seg: 95.6869, aux_0.loss_ce: 0.0718, aux_0.acc_seg: 95.6537, aux_1.loss_ce: 0.0737, aux_1.acc_seg: 95.5753, aux_2.loss_ce: 0.0313, aux_2.loss_dice: 0.3038, aux_2.acc_seg: 99.3477, loss: 0.5525\n",
      "2022-03-29 07:04:26,743 - mmseg - INFO - Iter [74100/160000]\tlr: 5.756e-03, eta: 17:24:10, time: 0.727, data_time: 0.006, memory: 2073, decode.loss_ce: 0.0785, decode.acc_seg: 95.3741, aux_0.loss_ce: 0.0796, aux_0.acc_seg: 95.3861, aux_1.loss_ce: 0.0810, aux_1.acc_seg: 95.2463, aux_2.loss_ce: 0.0352, aux_2.loss_dice: 0.3014, aux_2.acc_seg: 99.2614, loss: 0.5757\n",
      "2022-03-29 07:04:57,410 - mmseg - INFO - Iter [74150/160000]\tlr: 5.753e-03, eta: 17:23:27, time: 0.613, data_time: 0.005, memory: 2073, decode.loss_ce: 0.0867, decode.acc_seg: 95.0832, aux_0.loss_ce: 0.0878, aux_0.acc_seg: 95.0885, aux_1.loss_ce: 0.0913, aux_1.acc_seg: 94.9158, aux_2.loss_ce: 0.0345, aux_2.loss_dice: 0.3294, aux_2.acc_seg: 99.2712, loss: 0.6296\n",
      "2022-03-29 07:05:30,313 - mmseg - INFO - Iter [74200/160000]\tlr: 5.750e-03, eta: 17:22:46, time: 0.659, data_time: 0.005, memory: 2073, decode.loss_ce: 0.0858, decode.acc_seg: 95.2091, aux_0.loss_ce: 0.0848, aux_0.acc_seg: 95.2154, aux_1.loss_ce: 0.0883, aux_1.acc_seg: 95.0275, aux_2.loss_ce: 0.0340, aux_2.loss_dice: 0.3045, aux_2.acc_seg: 99.2792, loss: 0.5975\n",
      "2022-03-29 07:06:05,400 - mmseg - INFO - Iter [74250/160000]\tlr: 5.747e-03, eta: 17:22:08, time: 0.701, data_time: 0.005, memory: 2073, decode.loss_ce: 0.0751, decode.acc_seg: 95.6453, aux_0.loss_ce: 0.0756, aux_0.acc_seg: 95.6090, aux_1.loss_ce: 0.0787, aux_1.acc_seg: 95.4375, aux_2.loss_ce: 0.0312, aux_2.loss_dice: 0.3184, aux_2.acc_seg: 99.3385, loss: 0.5789\n",
      "2022-03-29 07:06:41,775 - mmseg - INFO - Iter [74300/160000]\tlr: 5.744e-03, eta: 17:21:32, time: 0.727, data_time: 0.006, memory: 2073, decode.loss_ce: 0.0772, decode.acc_seg: 95.4592, aux_0.loss_ce: 0.0770, aux_0.acc_seg: 95.4484, aux_1.loss_ce: 0.0790, aux_1.acc_seg: 95.3452, aux_2.loss_ce: 0.0323, aux_2.loss_dice: 0.3183, aux_2.acc_seg: 99.3217, loss: 0.5837\n",
      "2022-03-29 07:07:18,167 - mmseg - INFO - Iter [74350/160000]\tlr: 5.741e-03, eta: 17:20:55, time: 0.728, data_time: 0.005, memory: 2073, decode.loss_ce: 0.0757, decode.acc_seg: 95.5463, aux_0.loss_ce: 0.0779, aux_0.acc_seg: 95.4766, aux_1.loss_ce: 0.0799, aux_1.acc_seg: 95.3003, aux_2.loss_ce: 0.0338, aux_2.loss_dice: 0.3108, aux_2.acc_seg: 99.3026, loss: 0.5781\n",
      "2022-03-29 07:07:54,588 - mmseg - INFO - Iter [74400/160000]\tlr: 5.738e-03, eta: 17:20:19, time: 0.728, data_time: 0.006, memory: 2073, decode.loss_ce: 0.0782, decode.acc_seg: 95.6576, aux_0.loss_ce: 0.0779, aux_0.acc_seg: 95.6303, aux_1.loss_ce: 0.0817, aux_1.acc_seg: 95.5147, aux_2.loss_ce: 0.0318, aux_2.loss_dice: 0.3079, aux_2.acc_seg: 99.3402, loss: 0.5775\n",
      "2022-03-29 07:08:30,802 - mmseg - INFO - Iter [74450/160000]\tlr: 5.735e-03, eta: 17:19:42, time: 0.725, data_time: 0.006, memory: 2073, decode.loss_ce: 0.0753, decode.acc_seg: 95.5868, aux_0.loss_ce: 0.0758, aux_0.acc_seg: 95.6177, aux_1.loss_ce: 0.0784, aux_1.acc_seg: 95.4160, aux_2.loss_ce: 0.0332, aux_2.loss_dice: 0.3078, aux_2.acc_seg: 99.3032, loss: 0.5705\n",
      "2022-03-29 07:09:09,818 - mmseg - INFO - Iter [74500/160000]\tlr: 5.733e-03, eta: 17:19:08, time: 0.781, data_time: 0.058, memory: 2073, decode.loss_ce: 0.0854, decode.acc_seg: 95.2201, aux_0.loss_ce: 0.0844, aux_0.acc_seg: 95.2132, aux_1.loss_ce: 0.0880, aux_1.acc_seg: 95.0411, aux_2.loss_ce: 0.0373, aux_2.loss_dice: 0.3188, aux_2.acc_seg: 99.1955, loss: 0.6138\n"
     ]
    },
    {
     "name": "stderr",
     "output_type": "stream",
     "text": [
      "2022-03-29 07:09:46,153 - mmseg - INFO - Iter [74550/160000]\tlr: 5.730e-03, eta: 17:18:32, time: 0.727, data_time: 0.005, memory: 2073, decode.loss_ce: 0.0598, decode.acc_seg: 96.6030, aux_0.loss_ce: 0.0613, aux_0.acc_seg: 96.5990, aux_1.loss_ce: 0.0621, aux_1.acc_seg: 96.5083, aux_2.loss_ce: 0.0303, aux_2.loss_dice: 0.3145, aux_2.acc_seg: 99.3708, loss: 0.5280\n",
      "2022-03-29 07:10:22,478 - mmseg - INFO - Iter [74600/160000]\tlr: 5.727e-03, eta: 17:17:55, time: 0.726, data_time: 0.005, memory: 2073, decode.loss_ce: 0.0789, decode.acc_seg: 95.2152, aux_0.loss_ce: 0.0796, aux_0.acc_seg: 95.1960, aux_1.loss_ce: 0.0826, aux_1.acc_seg: 94.9848, aux_2.loss_ce: 0.0343, aux_2.loss_dice: 0.3194, aux_2.acc_seg: 99.2699, loss: 0.5947\n",
      "2022-03-29 07:10:58,866 - mmseg - INFO - Iter [74650/160000]\tlr: 5.724e-03, eta: 17:17:19, time: 0.728, data_time: 0.006, memory: 2073, decode.loss_ce: 0.0902, decode.acc_seg: 94.9903, aux_0.loss_ce: 0.0923, aux_0.acc_seg: 94.9603, aux_1.loss_ce: 0.0937, aux_1.acc_seg: 94.8036, aux_2.loss_ce: 0.0350, aux_2.loss_dice: 0.3149, aux_2.acc_seg: 99.2682, loss: 0.6262\n",
      "2022-03-29 07:11:35,086 - mmseg - INFO - Iter [74700/160000]\tlr: 5.721e-03, eta: 17:16:42, time: 0.725, data_time: 0.006, memory: 2073, decode.loss_ce: 0.0813, decode.acc_seg: 95.4211, aux_0.loss_ce: 0.0835, aux_0.acc_seg: 95.3906, aux_1.loss_ce: 0.0839, aux_1.acc_seg: 95.2653, aux_2.loss_ce: 0.0341, aux_2.loss_dice: 0.3131, aux_2.acc_seg: 99.2850, loss: 0.5958\n",
      "2022-03-29 07:12:11,461 - mmseg - INFO - Iter [74750/160000]\tlr: 5.718e-03, eta: 17:16:05, time: 0.728, data_time: 0.005, memory: 2073, decode.loss_ce: 0.0677, decode.acc_seg: 96.1750, aux_0.loss_ce: 0.0676, aux_0.acc_seg: 96.1189, aux_1.loss_ce: 0.0724, aux_1.acc_seg: 95.9503, aux_2.loss_ce: 0.0313, aux_2.loss_dice: 0.3102, aux_2.acc_seg: 99.3491, loss: 0.5492\n",
      "2022-03-29 07:12:47,825 - mmseg - INFO - Iter [74800/160000]\tlr: 5.715e-03, eta: 17:15:29, time: 0.727, data_time: 0.005, memory: 2073, decode.loss_ce: 0.0863, decode.acc_seg: 94.8386, aux_0.loss_ce: 0.0874, aux_0.acc_seg: 94.8145, aux_1.loss_ce: 0.0877, aux_1.acc_seg: 94.7536, aux_2.loss_ce: 0.0336, aux_2.loss_dice: 0.3173, aux_2.acc_seg: 99.3029, loss: 0.6123\n",
      "2022-03-29 07:13:21,557 - mmseg - INFO - Iter [74850/160000]\tlr: 5.712e-03, eta: 17:14:49, time: 0.674, data_time: 0.006, memory: 2073, decode.loss_ce: 0.0828, decode.acc_seg: 95.3493, aux_0.loss_ce: 0.0816, aux_0.acc_seg: 95.3362, aux_1.loss_ce: 0.0842, aux_1.acc_seg: 95.2324, aux_2.loss_ce: 0.0336, aux_2.loss_dice: 0.3202, aux_2.acc_seg: 99.2876, loss: 0.6025\n",
      "2022-03-29 07:13:57,836 - mmseg - INFO - Iter [74900/160000]\tlr: 5.709e-03, eta: 17:14:12, time: 0.726, data_time: 0.006, memory: 2073, decode.loss_ce: 0.0878, decode.acc_seg: 95.1799, aux_0.loss_ce: 0.0887, aux_0.acc_seg: 95.1405, aux_1.loss_ce: 0.0923, aux_1.acc_seg: 94.9276, aux_2.loss_ce: 0.0340, aux_2.loss_dice: 0.3000, aux_2.acc_seg: 99.2743, loss: 0.6028\n",
      "2022-03-29 07:14:34,183 - mmseg - INFO - Iter [74950/160000]\tlr: 5.706e-03, eta: 17:13:36, time: 0.727, data_time: 0.005, memory: 2073, decode.loss_ce: 0.0762, decode.acc_seg: 95.7134, aux_0.loss_ce: 0.0750, aux_0.acc_seg: 95.6821, aux_1.loss_ce: 0.0793, aux_1.acc_seg: 95.5131, aux_2.loss_ce: 0.0329, aux_2.loss_dice: 0.3163, aux_2.acc_seg: 99.3004, loss: 0.5797\n",
      "2022-03-29 07:15:10,595 - mmseg - INFO - Iter [75000/160000]\tlr: 5.703e-03, eta: 17:12:59, time: 0.728, data_time: 0.006, memory: 2073, decode.loss_ce: 0.0828, decode.acc_seg: 95.1109, aux_0.loss_ce: 0.0828, aux_0.acc_seg: 95.1168, aux_1.loss_ce: 0.0839, aux_1.acc_seg: 95.0958, aux_2.loss_ce: 0.0329, aux_2.loss_dice: 0.3204, aux_2.acc_seg: 99.3052, loss: 0.6029\n"
     ]
    },
    {
     "name": "stdout",
     "output_type": "stream",
     "text": [
      "[>>>>>>>>>>>>>>>>>>>>>>>>>>>>>] 610/610, 26.7 task/s, elapsed: 23s, ETA:     0s"
     ]
    },
    {
     "name": "stderr",
     "output_type": "stream",
     "text": [
      "2022-03-29 07:15:33,471 - mmseg - INFO - per class results:\n",
      "2022-03-29 07:15:33,472 - mmseg - INFO - \n",
      "+------------+-------+-------+\n",
      "|   Class    |  IoU  |  Acc  |\n",
      "+------------+-------+-------+\n",
      "| background |  96.6 | 98.46 |\n",
      "|   human    | 50.39 | 64.57 |\n",
      "+------------+-------+-------+\n",
      "2022-03-29 07:15:33,472 - mmseg - INFO - Summary:\n",
      "2022-03-29 07:15:33,473 - mmseg - INFO - \n",
      "+-------+-------+-------+\n",
      "|  aAcc |  mIoU |  mAcc |\n",
      "+-------+-------+-------+\n",
      "| 96.71 | 73.49 | 81.52 |\n",
      "+-------+-------+-------+\n",
      "2022-03-29 07:15:33,476 - mmseg - INFO - Iter(val) [610]\taAcc: 0.9671, mIoU: 0.7349, mAcc: 0.8152, IoU.background: 0.9660, IoU.human: 0.5039, Acc.background: 0.9846, Acc.human: 0.6457\n",
      "2022-03-29 07:16:09,807 - mmseg - INFO - Iter [75050/160000]\tlr: 5.700e-03, eta: 17:12:49, time: 1.184, data_time: 0.463, memory: 2073, decode.loss_ce: 0.1007, decode.acc_seg: 94.3458, aux_0.loss_ce: 0.0980, aux_0.acc_seg: 94.3555, aux_1.loss_ce: 0.1008, aux_1.acc_seg: 94.1642, aux_2.loss_ce: 0.0347, aux_2.loss_dice: 0.3265, aux_2.acc_seg: 99.2783, loss: 0.6608\n",
      "2022-03-29 07:16:46,050 - mmseg - INFO - Iter [75100/160000]\tlr: 5.697e-03, eta: 17:12:12, time: 0.725, data_time: 0.006, memory: 2073, decode.loss_ce: 0.0644, decode.acc_seg: 96.1504, aux_0.loss_ce: 0.0670, aux_0.acc_seg: 96.1432, aux_1.loss_ce: 0.0706, aux_1.acc_seg: 95.9802, aux_2.loss_ce: 0.0329, aux_2.loss_dice: 0.3210, aux_2.acc_seg: 99.3054, loss: 0.5559\n",
      "2022-03-29 07:17:22,392 - mmseg - INFO - Iter [75150/160000]\tlr: 5.694e-03, eta: 17:11:35, time: 0.727, data_time: 0.005, memory: 2073, decode.loss_ce: 0.0857, decode.acc_seg: 95.1630, aux_0.loss_ce: 0.0881, aux_0.acc_seg: 95.0986, aux_1.loss_ce: 0.0880, aux_1.acc_seg: 95.0134, aux_2.loss_ce: 0.0339, aux_2.loss_dice: 0.3051, aux_2.acc_seg: 99.2668, loss: 0.6008\n",
      "2022-03-29 07:18:01,490 - mmseg - INFO - Iter [75200/160000]\tlr: 5.691e-03, eta: 17:11:02, time: 0.782, data_time: 0.058, memory: 2073, decode.loss_ce: 0.0823, decode.acc_seg: 95.2361, aux_0.loss_ce: 0.0820, aux_0.acc_seg: 95.2132, aux_1.loss_ce: 0.0854, aux_1.acc_seg: 95.0417, aux_2.loss_ce: 0.0330, aux_2.loss_dice: 0.2982, aux_2.acc_seg: 99.3142, loss: 0.5807\n",
      "2022-03-29 07:18:37,851 - mmseg - INFO - Iter [75250/160000]\tlr: 5.688e-03, eta: 17:10:25, time: 0.727, data_time: 0.005, memory: 2073, decode.loss_ce: 0.0890, decode.acc_seg: 95.2884, aux_0.loss_ce: 0.0899, aux_0.acc_seg: 95.2522, aux_1.loss_ce: 0.0924, aux_1.acc_seg: 95.1150, aux_2.loss_ce: 0.0348, aux_2.loss_dice: 0.3208, aux_2.acc_seg: 99.2676, loss: 0.6268\n",
      "2022-03-29 07:19:14,175 - mmseg - INFO - Iter [75300/160000]\tlr: 5.685e-03, eta: 17:09:49, time: 0.726, data_time: 0.005, memory: 2073, decode.loss_ce: 0.0752, decode.acc_seg: 95.3539, aux_0.loss_ce: 0.0758, aux_0.acc_seg: 95.3451, aux_1.loss_ce: 0.0792, aux_1.acc_seg: 95.1621, aux_2.loss_ce: 0.0348, aux_2.loss_dice: 0.3100, aux_2.acc_seg: 99.2583, loss: 0.5750\n",
      "2022-03-29 07:19:50,495 - mmseg - INFO - Iter [75350/160000]\tlr: 5.682e-03, eta: 17:09:12, time: 0.726, data_time: 0.006, memory: 2073, decode.loss_ce: 0.0809, decode.acc_seg: 95.3367, aux_0.loss_ce: 0.0810, aux_0.acc_seg: 95.3123, aux_1.loss_ce: 0.0835, aux_1.acc_seg: 95.1939, aux_2.loss_ce: 0.0330, aux_2.loss_dice: 0.3149, aux_2.acc_seg: 99.2956, loss: 0.5934\n",
      "2022-03-29 07:20:26,824 - mmseg - INFO - Iter [75400/160000]\tlr: 5.679e-03, eta: 17:08:35, time: 0.727, data_time: 0.006, memory: 2073, decode.loss_ce: 0.0766, decode.acc_seg: 95.9581, aux_0.loss_ce: 0.0783, aux_0.acc_seg: 95.8943, aux_1.loss_ce: 0.0829, aux_1.acc_seg: 95.7452, aux_2.loss_ce: 0.0339, aux_2.loss_dice: 0.3092, aux_2.acc_seg: 99.2869, loss: 0.5808\n",
      "2022-03-29 07:21:00,628 - mmseg - INFO - Iter [75450/160000]\tlr: 5.676e-03, eta: 17:07:56, time: 0.677, data_time: 0.006, memory: 2073, decode.loss_ce: 0.0800, decode.acc_seg: 95.3403, aux_0.loss_ce: 0.0795, aux_0.acc_seg: 95.3282, aux_1.loss_ce: 0.0814, aux_1.acc_seg: 95.1179, aux_2.loss_ce: 0.0341, aux_2.loss_dice: 0.3139, aux_2.acc_seg: 99.2848, loss: 0.5890\n",
      "2022-03-29 07:21:36,928 - mmseg - INFO - Iter [75500/160000]\tlr: 5.673e-03, eta: 17:07:19, time: 0.726, data_time: 0.005, memory: 2073, decode.loss_ce: 0.0924, decode.acc_seg: 94.8486, aux_0.loss_ce: 0.0928, aux_0.acc_seg: 94.8189, aux_1.loss_ce: 0.0973, aux_1.acc_seg: 94.5689, aux_2.loss_ce: 0.0351, aux_2.loss_dice: 0.3214, aux_2.acc_seg: 99.2476, loss: 0.6389\n",
      "2022-03-29 07:22:13,342 - mmseg - INFO - Iter [75550/160000]\tlr: 5.670e-03, eta: 17:06:43, time: 0.728, data_time: 0.006, memory: 2073, decode.loss_ce: 0.0956, decode.acc_seg: 94.5006, aux_0.loss_ce: 0.0986, aux_0.acc_seg: 94.4391, aux_1.loss_ce: 0.0983, aux_1.acc_seg: 94.2860, aux_2.loss_ce: 0.0347, aux_2.loss_dice: 0.3079, aux_2.acc_seg: 99.2774, loss: 0.6351\n",
      "2022-03-29 07:22:49,703 - mmseg - INFO - Iter [75600/160000]\tlr: 5.667e-03, eta: 17:06:06, time: 0.727, data_time: 0.006, memory: 2073, decode.loss_ce: 0.0814, decode.acc_seg: 95.1249, aux_0.loss_ce: 0.0811, aux_0.acc_seg: 95.1168, aux_1.loss_ce: 0.0849, aux_1.acc_seg: 94.9893, aux_2.loss_ce: 0.0353, aux_2.loss_dice: 0.3241, aux_2.acc_seg: 99.2508, loss: 0.6068\n",
      "2022-03-29 07:23:25,990 - mmseg - INFO - Iter [75650/160000]\tlr: 5.664e-03, eta: 17:05:29, time: 0.725, data_time: 0.006, memory: 2073, decode.loss_ce: 0.0743, decode.acc_seg: 95.8480, aux_0.loss_ce: 0.0742, aux_0.acc_seg: 95.8422, aux_1.loss_ce: 0.0772, aux_1.acc_seg: 95.6719, aux_2.loss_ce: 0.0325, aux_2.loss_dice: 0.3175, aux_2.acc_seg: 99.3202, loss: 0.5757\n",
      "2022-03-29 07:24:02,222 - mmseg - INFO - Iter [75700/160000]\tlr: 5.661e-03, eta: 17:04:53, time: 0.725, data_time: 0.006, memory: 2073, decode.loss_ce: 0.0721, decode.acc_seg: 95.8408, aux_0.loss_ce: 0.0734, aux_0.acc_seg: 95.8111, aux_1.loss_ce: 0.0748, aux_1.acc_seg: 95.7366, aux_2.loss_ce: 0.0305, aux_2.loss_dice: 0.2874, aux_2.acc_seg: 99.3556, loss: 0.5383\n",
      "2022-03-29 07:24:38,578 - mmseg - INFO - Iter [75750/160000]\tlr: 5.658e-03, eta: 17:04:16, time: 0.727, data_time: 0.006, memory: 2073, decode.loss_ce: 0.0688, decode.acc_seg: 96.0407, aux_0.loss_ce: 0.0697, aux_0.acc_seg: 95.9915, aux_1.loss_ce: 0.0719, aux_1.acc_seg: 95.7944, aux_2.loss_ce: 0.0331, aux_2.loss_dice: 0.3126, aux_2.acc_seg: 99.2950, loss: 0.5560\n",
      "2022-03-29 07:25:14,968 - mmseg - INFO - Iter [75800/160000]\tlr: 5.655e-03, eta: 17:03:39, time: 0.728, data_time: 0.005, memory: 2073, decode.loss_ce: 0.0655, decode.acc_seg: 96.2449, aux_0.loss_ce: 0.0650, aux_0.acc_seg: 96.2182, aux_1.loss_ce: 0.0677, aux_1.acc_seg: 96.1158, aux_2.loss_ce: 0.0303, aux_2.loss_dice: 0.2893, aux_2.acc_seg: 99.3600, loss: 0.5178\n",
      "2022-03-29 07:25:51,290 - mmseg - INFO - Iter [75850/160000]\tlr: 5.652e-03, eta: 17:03:03, time: 0.726, data_time: 0.005, memory: 2073, decode.loss_ce: 0.0821, decode.acc_seg: 95.3001, aux_0.loss_ce: 0.0851, aux_0.acc_seg: 95.2365, aux_1.loss_ce: 0.0864, aux_1.acc_seg: 95.0726, aux_2.loss_ce: 0.0356, aux_2.loss_dice: 0.3202, aux_2.acc_seg: 99.2359, loss: 0.6094\n",
      "2022-03-29 07:26:30,158 - mmseg - INFO - Iter [75900/160000]\tlr: 5.649e-03, eta: 17:02:29, time: 0.777, data_time: 0.057, memory: 2073, decode.loss_ce: 0.0698, decode.acc_seg: 96.4272, aux_0.loss_ce: 0.0666, aux_0.acc_seg: 96.3971, aux_1.loss_ce: 0.0700, aux_1.acc_seg: 96.3052, aux_2.loss_ce: 0.0305, aux_2.loss_dice: 0.3257, aux_2.acc_seg: 99.3707, loss: 0.5626\n",
      "2022-03-29 07:27:06,486 - mmseg - INFO - Iter [75950/160000]\tlr: 5.646e-03, eta: 17:01:52, time: 0.726, data_time: 0.005, memory: 2073, decode.loss_ce: 0.0826, decode.acc_seg: 95.0862, aux_0.loss_ce: 0.0858, aux_0.acc_seg: 95.0279, aux_1.loss_ce: 0.0883, aux_1.acc_seg: 94.8670, aux_2.loss_ce: 0.0362, aux_2.loss_dice: 0.3271, aux_2.acc_seg: 99.2425, loss: 0.6200\n",
      "2022-03-29 07:27:42,849 - mmseg - INFO - Iter [76000/160000]\tlr: 5.643e-03, eta: 17:01:16, time: 0.727, data_time: 0.006, memory: 2073, decode.loss_ce: 0.1031, decode.acc_seg: 93.8066, aux_0.loss_ce: 0.1047, aux_0.acc_seg: 93.7562, aux_1.loss_ce: 0.1058, aux_1.acc_seg: 93.6049, aux_2.loss_ce: 0.0366, aux_2.loss_dice: 0.3171, aux_2.acc_seg: 99.2275, loss: 0.6673\n",
      "2022-03-29 07:28:19,211 - mmseg - INFO - Iter [76050/160000]\tlr: 5.641e-03, eta: 17:00:39, time: 0.727, data_time: 0.005, memory: 2073, decode.loss_ce: 0.0700, decode.acc_seg: 96.2244, aux_0.loss_ce: 0.0701, aux_0.acc_seg: 96.1971, aux_1.loss_ce: 0.0736, aux_1.acc_seg: 96.0083, aux_2.loss_ce: 0.0325, aux_2.loss_dice: 0.3155, aux_2.acc_seg: 99.3106, loss: 0.5617\n"
     ]
    },
    {
     "name": "stderr",
     "output_type": "stream",
     "text": [
      "2022-03-29 07:28:52,894 - mmseg - INFO - Iter [76100/160000]\tlr: 5.638e-03, eta: 17:00:00, time: 0.674, data_time: 0.006, memory: 2073, decode.loss_ce: 0.0778, decode.acc_seg: 95.4194, aux_0.loss_ce: 0.0782, aux_0.acc_seg: 95.3851, aux_1.loss_ce: 0.0817, aux_1.acc_seg: 95.2689, aux_2.loss_ce: 0.0325, aux_2.loss_dice: 0.3126, aux_2.acc_seg: 99.3223, loss: 0.5829\n",
      "2022-03-29 07:29:29,245 - mmseg - INFO - Iter [76150/160000]\tlr: 5.635e-03, eta: 16:59:23, time: 0.727, data_time: 0.006, memory: 2073, decode.loss_ce: 0.0753, decode.acc_seg: 95.6059, aux_0.loss_ce: 0.0764, aux_0.acc_seg: 95.6130, aux_1.loss_ce: 0.0783, aux_1.acc_seg: 95.5118, aux_2.loss_ce: 0.0347, aux_2.loss_dice: 0.3229, aux_2.acc_seg: 99.2619, loss: 0.5876\n",
      "2022-03-29 07:30:05,587 - mmseg - INFO - Iter [76200/160000]\tlr: 5.632e-03, eta: 16:58:46, time: 0.727, data_time: 0.005, memory: 2073, decode.loss_ce: 0.0689, decode.acc_seg: 96.0525, aux_0.loss_ce: 0.0694, aux_0.acc_seg: 96.0272, aux_1.loss_ce: 0.0712, aux_1.acc_seg: 95.9068, aux_2.loss_ce: 0.0309, aux_2.loss_dice: 0.3136, aux_2.acc_seg: 99.3465, loss: 0.5539\n",
      "2022-03-29 07:30:41,914 - mmseg - INFO - Iter [76250/160000]\tlr: 5.629e-03, eta: 16:58:10, time: 0.726, data_time: 0.005, memory: 2073, decode.loss_ce: 0.0739, decode.acc_seg: 95.7888, aux_0.loss_ce: 0.0743, aux_0.acc_seg: 95.7764, aux_1.loss_ce: 0.0778, aux_1.acc_seg: 95.6234, aux_2.loss_ce: 0.0333, aux_2.loss_dice: 0.3070, aux_2.acc_seg: 99.2980, loss: 0.5663\n",
      "2022-03-29 07:31:18,234 - mmseg - INFO - Iter [76300/160000]\tlr: 5.626e-03, eta: 16:57:33, time: 0.726, data_time: 0.006, memory: 2073, decode.loss_ce: 0.0824, decode.acc_seg: 95.3186, aux_0.loss_ce: 0.0822, aux_0.acc_seg: 95.3277, aux_1.loss_ce: 0.0836, aux_1.acc_seg: 95.2470, aux_2.loss_ce: 0.0343, aux_2.loss_dice: 0.3121, aux_2.acc_seg: 99.2701, loss: 0.5947\n",
      "2022-03-29 07:31:54,385 - mmseg - INFO - Iter [76350/160000]\tlr: 5.623e-03, eta: 16:56:56, time: 0.723, data_time: 0.006, memory: 2073, decode.loss_ce: 0.0684, decode.acc_seg: 96.0032, aux_0.loss_ce: 0.0684, aux_0.acc_seg: 95.9893, aux_1.loss_ce: 0.0728, aux_1.acc_seg: 95.8028, aux_2.loss_ce: 0.0314, aux_2.loss_dice: 0.2920, aux_2.acc_seg: 99.3353, loss: 0.5330\n",
      "2022-03-29 07:32:30,758 - mmseg - INFO - Iter [76400/160000]\tlr: 5.620e-03, eta: 16:56:20, time: 0.727, data_time: 0.006, memory: 2073, decode.loss_ce: 0.0688, decode.acc_seg: 95.8654, aux_0.loss_ce: 0.0700, aux_0.acc_seg: 95.8384, aux_1.loss_ce: 0.0722, aux_1.acc_seg: 95.7005, aux_2.loss_ce: 0.0339, aux_2.loss_dice: 0.3166, aux_2.acc_seg: 99.2838, loss: 0.5614\n",
      "2022-03-29 07:33:07,085 - mmseg - INFO - Iter [76450/160000]\tlr: 5.617e-03, eta: 16:55:43, time: 0.727, data_time: 0.006, memory: 2073, decode.loss_ce: 0.0763, decode.acc_seg: 95.5671, aux_0.loss_ce: 0.0769, aux_0.acc_seg: 95.4994, aux_1.loss_ce: 0.0787, aux_1.acc_seg: 95.3358, aux_2.loss_ce: 0.0339, aux_2.loss_dice: 0.3169, aux_2.acc_seg: 99.2600, loss: 0.5827\n",
      "2022-03-29 07:33:43,455 - mmseg - INFO - Iter [76500/160000]\tlr: 5.614e-03, eta: 16:55:06, time: 0.727, data_time: 0.005, memory: 2073, decode.loss_ce: 0.0861, decode.acc_seg: 94.9989, aux_0.loss_ce: 0.0882, aux_0.acc_seg: 95.0035, aux_1.loss_ce: 0.0906, aux_1.acc_seg: 94.8324, aux_2.loss_ce: 0.0341, aux_2.loss_dice: 0.3073, aux_2.acc_seg: 99.2788, loss: 0.6063\n",
      "2022-03-29 07:34:19,822 - mmseg - INFO - Iter [76550/160000]\tlr: 5.611e-03, eta: 16:54:30, time: 0.727, data_time: 0.005, memory: 2073, decode.loss_ce: 0.0721, decode.acc_seg: 96.0516, aux_0.loss_ce: 0.0723, aux_0.acc_seg: 95.9709, aux_1.loss_ce: 0.0740, aux_1.acc_seg: 95.8338, aux_2.loss_ce: 0.0332, aux_2.loss_dice: 0.3150, aux_2.acc_seg: 99.2935, loss: 0.5667\n",
      "2022-03-29 07:34:58,811 - mmseg - INFO - Iter [76600/160000]\tlr: 5.608e-03, eta: 16:53:56, time: 0.779, data_time: 0.060, memory: 2073, decode.loss_ce: 0.0679, decode.acc_seg: 96.0706, aux_0.loss_ce: 0.0686, aux_0.acc_seg: 96.0199, aux_1.loss_ce: 0.0733, aux_1.acc_seg: 95.8491, aux_2.loss_ce: 0.0337, aux_2.loss_dice: 0.3098, aux_2.acc_seg: 99.2835, loss: 0.5532\n",
      "2022-03-29 07:35:35,189 - mmseg - INFO - Iter [76650/160000]\tlr: 5.605e-03, eta: 16:53:20, time: 0.728, data_time: 0.006, memory: 2073, decode.loss_ce: 0.0894, decode.acc_seg: 95.2505, aux_0.loss_ce: 0.0896, aux_0.acc_seg: 95.2503, aux_1.loss_ce: 0.0915, aux_1.acc_seg: 95.0979, aux_2.loss_ce: 0.0338, aux_2.loss_dice: 0.3293, aux_2.acc_seg: 99.2937, loss: 0.6335\n",
      "2022-03-29 07:36:11,481 - mmseg - INFO - Iter [76700/160000]\tlr: 5.602e-03, eta: 16:52:43, time: 0.726, data_time: 0.006, memory: 2073, decode.loss_ce: 0.0692, decode.acc_seg: 95.8603, aux_0.loss_ce: 0.0705, aux_0.acc_seg: 95.8236, aux_1.loss_ce: 0.0727, aux_1.acc_seg: 95.7038, aux_2.loss_ce: 0.0353, aux_2.loss_dice: 0.3046, aux_2.acc_seg: 99.2441, loss: 0.5523\n",
      "2022-03-29 07:36:45,283 - mmseg - INFO - Iter [76750/160000]\tlr: 5.599e-03, eta: 16:52:04, time: 0.676, data_time: 0.006, memory: 2073, decode.loss_ce: 0.1001, decode.acc_seg: 94.4850, aux_0.loss_ce: 0.1018, aux_0.acc_seg: 94.4450, aux_1.loss_ce: 0.1048, aux_1.acc_seg: 94.2390, aux_2.loss_ce: 0.0377, aux_2.loss_dice: 0.3364, aux_2.acc_seg: 99.1790, loss: 0.6809\n",
      "2022-03-29 07:37:21,492 - mmseg - INFO - Iter [76800/160000]\tlr: 5.596e-03, eta: 16:51:27, time: 0.725, data_time: 0.006, memory: 2073, decode.loss_ce: 0.0816, decode.acc_seg: 95.1170, aux_0.loss_ce: 0.0811, aux_0.acc_seg: 95.1166, aux_1.loss_ce: 0.0846, aux_1.acc_seg: 94.9455, aux_2.loss_ce: 0.0362, aux_2.loss_dice: 0.3196, aux_2.acc_seg: 99.2362, loss: 0.6032\n",
      "2022-03-29 07:37:57,834 - mmseg - INFO - Iter [76850/160000]\tlr: 5.593e-03, eta: 16:50:50, time: 0.727, data_time: 0.006, memory: 2073, decode.loss_ce: 0.0707, decode.acc_seg: 96.0713, aux_0.loss_ce: 0.0720, aux_0.acc_seg: 96.0717, aux_1.loss_ce: 0.0721, aux_1.acc_seg: 95.9447, aux_2.loss_ce: 0.0306, aux_2.loss_dice: 0.3014, aux_2.acc_seg: 99.3637, loss: 0.5468\n",
      "2022-03-29 07:38:34,160 - mmseg - INFO - Iter [76900/160000]\tlr: 5.590e-03, eta: 16:50:14, time: 0.726, data_time: 0.005, memory: 2073, decode.loss_ce: 0.0666, decode.acc_seg: 95.9855, aux_0.loss_ce: 0.0659, aux_0.acc_seg: 96.0261, aux_1.loss_ce: 0.0693, aux_1.acc_seg: 95.8891, aux_2.loss_ce: 0.0336, aux_2.loss_dice: 0.3343, aux_2.acc_seg: 99.2977, loss: 0.5698\n",
      "2022-03-29 07:39:10,443 - mmseg - INFO - Iter [76950/160000]\tlr: 5.587e-03, eta: 16:49:37, time: 0.725, data_time: 0.005, memory: 2073, decode.loss_ce: 0.0828, decode.acc_seg: 95.4035, aux_0.loss_ce: 0.0821, aux_0.acc_seg: 95.4108, aux_1.loss_ce: 0.0850, aux_1.acc_seg: 95.2844, aux_2.loss_ce: 0.0347, aux_2.loss_dice: 0.3205, aux_2.acc_seg: 99.2835, loss: 0.6052\n",
      "2022-03-29 07:39:46,793 - mmseg - INFO - Iter [77000/160000]\tlr: 5.584e-03, eta: 16:49:00, time: 0.727, data_time: 0.005, memory: 2073, decode.loss_ce: 0.0748, decode.acc_seg: 95.3341, aux_0.loss_ce: 0.0759, aux_0.acc_seg: 95.3151, aux_1.loss_ce: 0.0770, aux_1.acc_seg: 95.1643, aux_2.loss_ce: 0.0337, aux_2.loss_dice: 0.3025, aux_2.acc_seg: 99.2947, loss: 0.5639\n",
      "2022-03-29 07:40:23,023 - mmseg - INFO - Iter [77050/160000]\tlr: 5.581e-03, eta: 16:48:24, time: 0.724, data_time: 0.005, memory: 2073, decode.loss_ce: 0.0737, decode.acc_seg: 96.0446, aux_0.loss_ce: 0.0737, aux_0.acc_seg: 96.0481, aux_1.loss_ce: 0.0765, aux_1.acc_seg: 95.8495, aux_2.loss_ce: 0.0325, aux_2.loss_dice: 0.3036, aux_2.acc_seg: 99.3216, loss: 0.5601\n",
      "2022-03-29 07:40:59,270 - mmseg - INFO - Iter [77100/160000]\tlr: 5.578e-03, eta: 16:47:47, time: 0.725, data_time: 0.006, memory: 2073, decode.loss_ce: 0.0754, decode.acc_seg: 95.6379, aux_0.loss_ce: 0.0759, aux_0.acc_seg: 95.6076, aux_1.loss_ce: 0.0790, aux_1.acc_seg: 95.4573, aux_2.loss_ce: 0.0337, aux_2.loss_dice: 0.3069, aux_2.acc_seg: 99.2802, loss: 0.5709\n",
      "2022-03-29 07:41:35,613 - mmseg - INFO - Iter [77150/160000]\tlr: 5.575e-03, eta: 16:47:10, time: 0.727, data_time: 0.006, memory: 2073, decode.loss_ce: 0.0634, decode.acc_seg: 96.2683, aux_0.loss_ce: 0.0638, aux_0.acc_seg: 96.2489, aux_1.loss_ce: 0.0668, aux_1.acc_seg: 96.1329, aux_2.loss_ce: 0.0326, aux_2.loss_dice: 0.2948, aux_2.acc_seg: 99.3052, loss: 0.5215\n",
      "2022-03-29 07:42:12,022 - mmseg - INFO - Iter [77200/160000]\tlr: 5.572e-03, eta: 16:46:34, time: 0.728, data_time: 0.005, memory: 2073, decode.loss_ce: 0.0775, decode.acc_seg: 95.7335, aux_0.loss_ce: 0.0789, aux_0.acc_seg: 95.7519, aux_1.loss_ce: 0.0807, aux_1.acc_seg: 95.6001, aux_2.loss_ce: 0.0322, aux_2.loss_dice: 0.3226, aux_2.acc_seg: 99.3185, loss: 0.5920\n"
     ]
    },
    {
     "name": "stderr",
     "output_type": "stream",
     "text": [
      "2022-03-29 07:42:48,406 - mmseg - INFO - Iter [77250/160000]\tlr: 5.569e-03, eta: 16:45:57, time: 0.728, data_time: 0.005, memory: 2073, decode.loss_ce: 0.0699, decode.acc_seg: 95.9545, aux_0.loss_ce: 0.0699, aux_0.acc_seg: 95.8963, aux_1.loss_ce: 0.0733, aux_1.acc_seg: 95.7600, aux_2.loss_ce: 0.0332, aux_2.loss_dice: 0.3011, aux_2.acc_seg: 99.2999, loss: 0.5474\n",
      "2022-03-29 07:43:27,332 - mmseg - INFO - Iter [77300/160000]\tlr: 5.566e-03, eta: 16:45:23, time: 0.778, data_time: 0.057, memory: 2073, decode.loss_ce: 0.0632, decode.acc_seg: 96.3184, aux_0.loss_ce: 0.0635, aux_0.acc_seg: 96.3510, aux_1.loss_ce: 0.0662, aux_1.acc_seg: 96.2020, aux_2.loss_ce: 0.0312, aux_2.loss_dice: 0.3156, aux_2.acc_seg: 99.3502, loss: 0.5397\n",
      "2022-03-29 07:44:03,691 - mmseg - INFO - Iter [77350/160000]\tlr: 5.563e-03, eta: 16:44:47, time: 0.727, data_time: 0.006, memory: 2073, decode.loss_ce: 0.0730, decode.acc_seg: 95.8259, aux_0.loss_ce: 0.0739, aux_0.acc_seg: 95.7836, aux_1.loss_ce: 0.0773, aux_1.acc_seg: 95.5938, aux_2.loss_ce: 0.0356, aux_2.loss_dice: 0.3204, aux_2.acc_seg: 99.2225, loss: 0.5801\n",
      "2022-03-29 07:44:37,300 - mmseg - INFO - Iter [77400/160000]\tlr: 5.560e-03, eta: 16:44:07, time: 0.672, data_time: 0.006, memory: 2073, decode.loss_ce: 0.0827, decode.acc_seg: 95.6095, aux_0.loss_ce: 0.0820, aux_0.acc_seg: 95.6268, aux_1.loss_ce: 0.0833, aux_1.acc_seg: 95.4129, aux_2.loss_ce: 0.0324, aux_2.loss_dice: 0.3299, aux_2.acc_seg: 99.3176, loss: 0.6103\n",
      "2022-03-29 07:45:13,692 - mmseg - INFO - Iter [77450/160000]\tlr: 5.557e-03, eta: 16:43:31, time: 0.728, data_time: 0.006, memory: 2073, decode.loss_ce: 0.0882, decode.acc_seg: 95.0521, aux_0.loss_ce: 0.0882, aux_0.acc_seg: 95.0408, aux_1.loss_ce: 0.0923, aux_1.acc_seg: 94.9290, aux_2.loss_ce: 0.0356, aux_2.loss_dice: 0.3083, aux_2.acc_seg: 99.2463, loss: 0.6125\n",
      "2022-03-29 07:45:50,110 - mmseg - INFO - Iter [77500/160000]\tlr: 5.554e-03, eta: 16:42:54, time: 0.728, data_time: 0.005, memory: 2073, decode.loss_ce: 0.0638, decode.acc_seg: 96.1518, aux_0.loss_ce: 0.0653, aux_0.acc_seg: 96.1590, aux_1.loss_ce: 0.0665, aux_1.acc_seg: 96.0626, aux_2.loss_ce: 0.0298, aux_2.loss_dice: 0.2988, aux_2.acc_seg: 99.3780, loss: 0.5243\n",
      "2022-03-29 07:46:26,433 - mmseg - INFO - Iter [77550/160000]\tlr: 5.551e-03, eta: 16:42:17, time: 0.726, data_time: 0.005, memory: 2073, decode.loss_ce: 0.0758, decode.acc_seg: 95.8549, aux_0.loss_ce: 0.0775, aux_0.acc_seg: 95.8321, aux_1.loss_ce: 0.0790, aux_1.acc_seg: 95.7247, aux_2.loss_ce: 0.0345, aux_2.loss_dice: 0.3064, aux_2.acc_seg: 99.2554, loss: 0.5731\n",
      "2022-03-29 07:47:02,809 - mmseg - INFO - Iter [77600/160000]\tlr: 5.548e-03, eta: 16:41:41, time: 0.727, data_time: 0.005, memory: 2073, decode.loss_ce: 0.0745, decode.acc_seg: 95.6740, aux_0.loss_ce: 0.0734, aux_0.acc_seg: 95.6622, aux_1.loss_ce: 0.0763, aux_1.acc_seg: 95.5477, aux_2.loss_ce: 0.0350, aux_2.loss_dice: 0.3108, aux_2.acc_seg: 99.2480, loss: 0.5700\n",
      "2022-03-29 07:47:39,181 - mmseg - INFO - Iter [77650/160000]\tlr: 5.545e-03, eta: 16:41:04, time: 0.727, data_time: 0.005, memory: 2073, decode.loss_ce: 0.0660, decode.acc_seg: 96.1206, aux_0.loss_ce: 0.0664, aux_0.acc_seg: 96.0627, aux_1.loss_ce: 0.0693, aux_1.acc_seg: 95.9862, aux_2.loss_ce: 0.0309, aux_2.loss_dice: 0.3041, aux_2.acc_seg: 99.3474, loss: 0.5368\n",
      "2022-03-29 07:48:15,542 - mmseg - INFO - Iter [77700/160000]\tlr: 5.542e-03, eta: 16:40:28, time: 0.727, data_time: 0.005, memory: 2073, decode.loss_ce: 0.0690, decode.acc_seg: 95.9515, aux_0.loss_ce: 0.0703, aux_0.acc_seg: 95.9107, aux_1.loss_ce: 0.0724, aux_1.acc_seg: 95.7313, aux_2.loss_ce: 0.0323, aux_2.loss_dice: 0.3079, aux_2.acc_seg: 99.3071, loss: 0.5519\n",
      "2022-03-29 07:48:51,837 - mmseg - INFO - Iter [77750/160000]\tlr: 5.539e-03, eta: 16:39:51, time: 0.725, data_time: 0.005, memory: 2073, decode.loss_ce: 0.0789, decode.acc_seg: 95.3671, aux_0.loss_ce: 0.0794, aux_0.acc_seg: 95.3155, aux_1.loss_ce: 0.0823, aux_1.acc_seg: 95.1887, aux_2.loss_ce: 0.0334, aux_2.loss_dice: 0.3232, aux_2.acc_seg: 99.2961, loss: 0.5971\n",
      "2022-03-29 07:49:28,112 - mmseg - INFO - Iter [77800/160000]\tlr: 5.536e-03, eta: 16:39:14, time: 0.726, data_time: 0.006, memory: 2073, decode.loss_ce: 0.0855, decode.acc_seg: 94.9724, aux_0.loss_ce: 0.0864, aux_0.acc_seg: 94.9362, aux_1.loss_ce: 0.0898, aux_1.acc_seg: 94.7181, aux_2.loss_ce: 0.0352, aux_2.loss_dice: 0.3085, aux_2.acc_seg: 99.2588, loss: 0.6055\n",
      "2022-03-29 07:50:04,474 - mmseg - INFO - Iter [77850/160000]\tlr: 5.533e-03, eta: 16:38:38, time: 0.727, data_time: 0.005, memory: 2073, decode.loss_ce: 0.0966, decode.acc_seg: 94.6465, aux_0.loss_ce: 0.0977, aux_0.acc_seg: 94.6163, aux_1.loss_ce: 0.0997, aux_1.acc_seg: 94.4715, aux_2.loss_ce: 0.0349, aux_2.loss_dice: 0.3167, aux_2.acc_seg: 99.2603, loss: 0.6457\n",
      "2022-03-29 07:50:40,813 - mmseg - INFO - Iter [77900/160000]\tlr: 5.531e-03, eta: 16:38:01, time: 0.727, data_time: 0.005, memory: 2073, decode.loss_ce: 0.0774, decode.acc_seg: 95.5841, aux_0.loss_ce: 0.0775, aux_0.acc_seg: 95.5803, aux_1.loss_ce: 0.0805, aux_1.acc_seg: 95.4403, aux_2.loss_ce: 0.0343, aux_2.loss_dice: 0.3292, aux_2.acc_seg: 99.2587, loss: 0.5988\n",
      "2022-03-29 07:51:17,175 - mmseg - INFO - Iter [77950/160000]\tlr: 5.528e-03, eta: 16:37:25, time: 0.727, data_time: 0.005, memory: 2073, decode.loss_ce: 0.0744, decode.acc_seg: 95.5774, aux_0.loss_ce: 0.0748, aux_0.acc_seg: 95.5695, aux_1.loss_ce: 0.0758, aux_1.acc_seg: 95.4859, aux_2.loss_ce: 0.0310, aux_2.loss_dice: 0.3055, aux_2.acc_seg: 99.3455, loss: 0.5615\n",
      "2022-03-29 07:51:56,108 - mmseg - INFO - Iter [78000/160000]\tlr: 5.525e-03, eta: 16:36:51, time: 0.779, data_time: 0.057, memory: 2073, decode.loss_ce: 0.0790, decode.acc_seg: 95.5274, aux_0.loss_ce: 0.0800, aux_0.acc_seg: 95.4415, aux_1.loss_ce: 0.0821, aux_1.acc_seg: 95.2245, aux_2.loss_ce: 0.0344, aux_2.loss_dice: 0.3269, aux_2.acc_seg: 99.2810, loss: 0.6023\n",
      "2022-03-29 07:52:29,810 - mmseg - INFO - Iter [78050/160000]\tlr: 5.522e-03, eta: 16:36:11, time: 0.673, data_time: 0.006, memory: 2073, decode.loss_ce: 0.0708, decode.acc_seg: 95.8652, aux_0.loss_ce: 0.0703, aux_0.acc_seg: 95.8830, aux_1.loss_ce: 0.0750, aux_1.acc_seg: 95.7491, aux_2.loss_ce: 0.0337, aux_2.loss_dice: 0.3181, aux_2.acc_seg: 99.2811, loss: 0.5679\n",
      "2022-03-29 07:53:06,116 - mmseg - INFO - Iter [78100/160000]\tlr: 5.519e-03, eta: 16:35:35, time: 0.727, data_time: 0.006, memory: 2073, decode.loss_ce: 0.0689, decode.acc_seg: 96.0356, aux_0.loss_ce: 0.0710, aux_0.acc_seg: 96.0232, aux_1.loss_ce: 0.0692, aux_1.acc_seg: 95.8784, aux_2.loss_ce: 0.0341, aux_2.loss_dice: 0.3310, aux_2.acc_seg: 99.2754, loss: 0.5742\n",
      "2022-03-29 07:53:42,524 - mmseg - INFO - Iter [78150/160000]\tlr: 5.516e-03, eta: 16:34:58, time: 0.728, data_time: 0.005, memory: 2073, decode.loss_ce: 0.0810, decode.acc_seg: 95.3201, aux_0.loss_ce: 0.0792, aux_0.acc_seg: 95.3118, aux_1.loss_ce: 0.0846, aux_1.acc_seg: 95.2107, aux_2.loss_ce: 0.0346, aux_2.loss_dice: 0.2993, aux_2.acc_seg: 99.2674, loss: 0.5789\n",
      "2022-03-29 07:54:18,868 - mmseg - INFO - Iter [78200/160000]\tlr: 5.513e-03, eta: 16:34:22, time: 0.727, data_time: 0.005, memory: 2073, decode.loss_ce: 0.0879, decode.acc_seg: 94.8370, aux_0.loss_ce: 0.0890, aux_0.acc_seg: 94.7796, aux_1.loss_ce: 0.0912, aux_1.acc_seg: 94.6241, aux_2.loss_ce: 0.0341, aux_2.loss_dice: 0.2972, aux_2.acc_seg: 99.2764, loss: 0.5993\n",
      "2022-03-29 07:54:55,267 - mmseg - INFO - Iter [78250/160000]\tlr: 5.510e-03, eta: 16:33:45, time: 0.728, data_time: 0.005, memory: 2073, decode.loss_ce: 0.0921, decode.acc_seg: 94.7126, aux_0.loss_ce: 0.0935, aux_0.acc_seg: 94.6430, aux_1.loss_ce: 0.0961, aux_1.acc_seg: 94.4928, aux_2.loss_ce: 0.0335, aux_2.loss_dice: 0.3076, aux_2.acc_seg: 99.3053, loss: 0.6228\n",
      "2022-03-29 07:55:31,565 - mmseg - INFO - Iter [78300/160000]\tlr: 5.507e-03, eta: 16:33:08, time: 0.726, data_time: 0.006, memory: 2073, decode.loss_ce: 0.0768, decode.acc_seg: 95.8258, aux_0.loss_ce: 0.0754, aux_0.acc_seg: 95.8137, aux_1.loss_ce: 0.0767, aux_1.acc_seg: 95.6833, aux_2.loss_ce: 0.0327, aux_2.loss_dice: 0.3086, aux_2.acc_seg: 99.3204, loss: 0.5702\n",
      "2022-03-29 07:56:07,928 - mmseg - INFO - Iter [78350/160000]\tlr: 5.504e-03, eta: 16:32:32, time: 0.727, data_time: 0.005, memory: 2073, decode.loss_ce: 0.0755, decode.acc_seg: 95.5857, aux_0.loss_ce: 0.0760, aux_0.acc_seg: 95.5941, aux_1.loss_ce: 0.0804, aux_1.acc_seg: 95.4278, aux_2.loss_ce: 0.0320, aux_2.loss_dice: 0.3322, aux_2.acc_seg: 99.3227, loss: 0.5961\n"
     ]
    },
    {
     "name": "stderr",
     "output_type": "stream",
     "text": [
      "2022-03-29 07:56:44,297 - mmseg - INFO - Iter [78400/160000]\tlr: 5.501e-03, eta: 16:31:55, time: 0.727, data_time: 0.005, memory: 2073, decode.loss_ce: 0.0770, decode.acc_seg: 95.8184, aux_0.loss_ce: 0.0764, aux_0.acc_seg: 95.8073, aux_1.loss_ce: 0.0793, aux_1.acc_seg: 95.6163, aux_2.loss_ce: 0.0316, aux_2.loss_dice: 0.3095, aux_2.acc_seg: 99.3280, loss: 0.5738\n",
      "2022-03-29 07:57:20,695 - mmseg - INFO - Iter [78450/160000]\tlr: 5.498e-03, eta: 16:31:19, time: 0.728, data_time: 0.006, memory: 2073, decode.loss_ce: 0.0732, decode.acc_seg: 95.6743, aux_0.loss_ce: 0.0758, aux_0.acc_seg: 95.6622, aux_1.loss_ce: 0.0732, aux_1.acc_seg: 95.5214, aux_2.loss_ce: 0.0331, aux_2.loss_dice: 0.3235, aux_2.acc_seg: 99.2990, loss: 0.5787\n",
      "2022-03-29 07:57:57,040 - mmseg - INFO - Iter [78500/160000]\tlr: 5.495e-03, eta: 16:30:42, time: 0.727, data_time: 0.006, memory: 2073, decode.loss_ce: 0.0652, decode.acc_seg: 96.1493, aux_0.loss_ce: 0.0645, aux_0.acc_seg: 96.1215, aux_1.loss_ce: 0.0719, aux_1.acc_seg: 95.9909, aux_2.loss_ce: 0.0322, aux_2.loss_dice: 0.3021, aux_2.acc_seg: 99.3079, loss: 0.5359\n",
      "2022-03-29 07:58:33,356 - mmseg - INFO - Iter [78550/160000]\tlr: 5.492e-03, eta: 16:30:05, time: 0.726, data_time: 0.006, memory: 2073, decode.loss_ce: 0.0700, decode.acc_seg: 96.2190, aux_0.loss_ce: 0.0699, aux_0.acc_seg: 96.2284, aux_1.loss_ce: 0.0721, aux_1.acc_seg: 96.0705, aux_2.loss_ce: 0.0312, aux_2.loss_dice: 0.2908, aux_2.acc_seg: 99.3525, loss: 0.5340\n",
      "2022-03-29 07:59:09,629 - mmseg - INFO - Iter [78600/160000]\tlr: 5.489e-03, eta: 16:29:29, time: 0.726, data_time: 0.006, memory: 2073, decode.loss_ce: 0.0862, decode.acc_seg: 94.6474, aux_0.loss_ce: 0.0853, aux_0.acc_seg: 94.7078, aux_1.loss_ce: 0.0888, aux_1.acc_seg: 94.5114, aux_2.loss_ce: 0.0340, aux_2.loss_dice: 0.3131, aux_2.acc_seg: 99.2757, loss: 0.6075\n",
      "2022-03-29 07:59:48,694 - mmseg - INFO - Iter [78650/160000]\tlr: 5.486e-03, eta: 16:28:55, time: 0.782, data_time: 0.060, memory: 2073, decode.loss_ce: 0.0918, decode.acc_seg: 94.8840, aux_0.loss_ce: 0.0924, aux_0.acc_seg: 94.8513, aux_1.loss_ce: 0.0973, aux_1.acc_seg: 94.6818, aux_2.loss_ce: 0.0346, aux_2.loss_dice: 0.3241, aux_2.acc_seg: 99.2636, loss: 0.6402\n",
      "2022-03-29 08:00:22,329 - mmseg - INFO - Iter [78700/160000]\tlr: 5.483e-03, eta: 16:28:16, time: 0.673, data_time: 0.006, memory: 2073, decode.loss_ce: 0.0808, decode.acc_seg: 95.3921, aux_0.loss_ce: 0.0794, aux_0.acc_seg: 95.3793, aux_1.loss_ce: 0.0799, aux_1.acc_seg: 95.1977, aux_2.loss_ce: 0.0334, aux_2.loss_dice: 0.3110, aux_2.acc_seg: 99.2971, loss: 0.5845\n",
      "2022-03-29 08:00:58,690 - mmseg - INFO - Iter [78750/160000]\tlr: 5.480e-03, eta: 16:27:39, time: 0.727, data_time: 0.006, memory: 2073, decode.loss_ce: 0.0759, decode.acc_seg: 95.4674, aux_0.loss_ce: 0.0772, aux_0.acc_seg: 95.4418, aux_1.loss_ce: 0.0805, aux_1.acc_seg: 95.2690, aux_2.loss_ce: 0.0324, aux_2.loss_dice: 0.3125, aux_2.acc_seg: 99.3262, loss: 0.5785\n",
      "2022-03-29 08:01:27,447 - mmseg - INFO - Iter [78800/160000]\tlr: 5.477e-03, eta: 16:26:55, time: 0.575, data_time: 0.006, memory: 2073, decode.loss_ce: 0.0778, decode.acc_seg: 95.5620, aux_0.loss_ce: 0.0791, aux_0.acc_seg: 95.5576, aux_1.loss_ce: 0.0805, aux_1.acc_seg: 95.4161, aux_2.loss_ce: 0.0329, aux_2.loss_dice: 0.3227, aux_2.acc_seg: 99.3060, loss: 0.5929\n",
      "2022-03-29 08:02:03,789 - mmseg - INFO - Iter [78850/160000]\tlr: 5.474e-03, eta: 16:26:18, time: 0.727, data_time: 0.005, memory: 2073, decode.loss_ce: 0.0735, decode.acc_seg: 96.0665, aux_0.loss_ce: 0.0713, aux_0.acc_seg: 96.0679, aux_1.loss_ce: 0.0761, aux_1.acc_seg: 95.9043, aux_2.loss_ce: 0.0316, aux_2.loss_dice: 0.2939, aux_2.acc_seg: 99.3358, loss: 0.5463\n",
      "2022-03-29 08:02:40,200 - mmseg - INFO - Iter [78900/160000]\tlr: 5.471e-03, eta: 16:25:42, time: 0.728, data_time: 0.006, memory: 2073, decode.loss_ce: 0.0552, decode.acc_seg: 96.4638, aux_0.loss_ce: 0.0559, aux_0.acc_seg: 96.4677, aux_1.loss_ce: 0.0584, aux_1.acc_seg: 96.2917, aux_2.loss_ce: 0.0332, aux_2.loss_dice: 0.3169, aux_2.acc_seg: 99.2844, loss: 0.5197\n",
      "2022-03-29 08:03:16,552 - mmseg - INFO - Iter [78950/160000]\tlr: 5.468e-03, eta: 16:25:05, time: 0.727, data_time: 0.006, memory: 2073, decode.loss_ce: 0.0670, decode.acc_seg: 96.1213, aux_0.loss_ce: 0.0678, aux_0.acc_seg: 96.1046, aux_1.loss_ce: 0.0710, aux_1.acc_seg: 95.9865, aux_2.loss_ce: 0.0322, aux_2.loss_dice: 0.3002, aux_2.acc_seg: 99.3252, loss: 0.5382\n",
      "2022-03-29 08:03:52,828 - mmseg - INFO - Iter [79000/160000]\tlr: 5.465e-03, eta: 16:24:28, time: 0.725, data_time: 0.005, memory: 2073, decode.loss_ce: 0.0783, decode.acc_seg: 95.3825, aux_0.loss_ce: 0.0779, aux_0.acc_seg: 95.4053, aux_1.loss_ce: 0.0805, aux_1.acc_seg: 95.2558, aux_2.loss_ce: 0.0344, aux_2.loss_dice: 0.3168, aux_2.acc_seg: 99.2865, loss: 0.5879\n",
      "2022-03-29 08:04:29,207 - mmseg - INFO - Iter [79050/160000]\tlr: 5.462e-03, eta: 16:23:52, time: 0.728, data_time: 0.006, memory: 2073, decode.loss_ce: 0.0884, decode.acc_seg: 94.7365, aux_0.loss_ce: 0.0877, aux_0.acc_seg: 94.7333, aux_1.loss_ce: 0.0899, aux_1.acc_seg: 94.5872, aux_2.loss_ce: 0.0372, aux_2.loss_dice: 0.3490, aux_2.acc_seg: 99.2430, loss: 0.6523\n",
      "2022-03-29 08:05:05,578 - mmseg - INFO - Iter [79100/160000]\tlr: 5.459e-03, eta: 16:23:15, time: 0.727, data_time: 0.006, memory: 2073, decode.loss_ce: 0.0930, decode.acc_seg: 95.0205, aux_0.loss_ce: 0.0952, aux_0.acc_seg: 94.9829, aux_1.loss_ce: 0.0977, aux_1.acc_seg: 94.7468, aux_2.loss_ce: 0.0376, aux_2.loss_dice: 0.3242, aux_2.acc_seg: 99.2325, loss: 0.6477\n",
      "2022-03-29 08:05:41,864 - mmseg - INFO - Iter [79150/160000]\tlr: 5.456e-03, eta: 16:22:39, time: 0.725, data_time: 0.006, memory: 2073, decode.loss_ce: 0.0862, decode.acc_seg: 95.0555, aux_0.loss_ce: 0.0867, aux_0.acc_seg: 95.0561, aux_1.loss_ce: 0.0893, aux_1.acc_seg: 94.8684, aux_2.loss_ce: 0.0339, aux_2.loss_dice: 0.3201, aux_2.acc_seg: 99.2969, loss: 0.6161\n",
      "2022-03-29 08:06:18,122 - mmseg - INFO - Iter [79200/160000]\tlr: 5.453e-03, eta: 16:22:02, time: 0.725, data_time: 0.006, memory: 2073, decode.loss_ce: 0.0719, decode.acc_seg: 95.8590, aux_0.loss_ce: 0.0721, aux_0.acc_seg: 95.8209, aux_1.loss_ce: 0.0765, aux_1.acc_seg: 95.6872, aux_2.loss_ce: 0.0327, aux_2.loss_dice: 0.3017, aux_2.acc_seg: 99.3252, loss: 0.5549\n",
      "2022-03-29 08:06:54,428 - mmseg - INFO - Iter [79250/160000]\tlr: 5.450e-03, eta: 16:21:25, time: 0.726, data_time: 0.006, memory: 2073, decode.loss_ce: 0.0694, decode.acc_seg: 95.8822, aux_0.loss_ce: 0.0704, aux_0.acc_seg: 95.8550, aux_1.loss_ce: 0.0732, aux_1.acc_seg: 95.6863, aux_2.loss_ce: 0.0327, aux_2.loss_dice: 0.3069, aux_2.acc_seg: 99.3217, loss: 0.5526\n",
      "2022-03-29 08:07:30,828 - mmseg - INFO - Iter [79300/160000]\tlr: 5.447e-03, eta: 16:20:49, time: 0.728, data_time: 0.005, memory: 2073, decode.loss_ce: 0.0805, decode.acc_seg: 95.3145, aux_0.loss_ce: 0.0838, aux_0.acc_seg: 95.2971, aux_1.loss_ce: 0.0869, aux_1.acc_seg: 95.1597, aux_2.loss_ce: 0.0338, aux_2.loss_dice: 0.3239, aux_2.acc_seg: 99.2880, loss: 0.6088\n",
      "2022-03-29 08:08:07,807 - mmseg - INFO - Iter [79350/160000]\tlr: 5.444e-03, eta: 16:20:13, time: 0.740, data_time: 0.058, memory: 2073, decode.loss_ce: 0.0910, decode.acc_seg: 95.0124, aux_0.loss_ce: 0.0917, aux_0.acc_seg: 94.9489, aux_1.loss_ce: 0.0945, aux_1.acc_seg: 94.7746, aux_2.loss_ce: 0.0373, aux_2.loss_dice: 0.3260, aux_2.acc_seg: 99.2097, loss: 0.6406\n",
      "2022-03-29 08:08:43,346 - mmseg - INFO - Iter [79400/160000]\tlr: 5.441e-03, eta: 16:19:35, time: 0.710, data_time: 0.005, memory: 2073, decode.loss_ce: 0.0714, decode.acc_seg: 95.7254, aux_0.loss_ce: 0.0718, aux_0.acc_seg: 95.7365, aux_1.loss_ce: 0.0734, aux_1.acc_seg: 95.6727, aux_2.loss_ce: 0.0326, aux_2.loss_dice: 0.2994, aux_2.acc_seg: 99.2964, loss: 0.5485\n",
      "2022-03-29 08:09:19,684 - mmseg - INFO - Iter [79450/160000]\tlr: 5.438e-03, eta: 16:18:59, time: 0.727, data_time: 0.005, memory: 2073, decode.loss_ce: 0.0761, decode.acc_seg: 95.8401, aux_0.loss_ce: 0.0741, aux_0.acc_seg: 95.8389, aux_1.loss_ce: 0.0743, aux_1.acc_seg: 95.7248, aux_2.loss_ce: 0.0318, aux_2.loss_dice: 0.3106, aux_2.acc_seg: 99.3343, loss: 0.5670\n",
      "2022-03-29 08:09:56,099 - mmseg - INFO - Iter [79500/160000]\tlr: 5.435e-03, eta: 16:18:22, time: 0.728, data_time: 0.005, memory: 2073, decode.loss_ce: 0.0883, decode.acc_seg: 94.8074, aux_0.loss_ce: 0.0884, aux_0.acc_seg: 94.7543, aux_1.loss_ce: 0.0929, aux_1.acc_seg: 94.6332, aux_2.loss_ce: 0.0361, aux_2.loss_dice: 0.3261, aux_2.acc_seg: 99.2347, loss: 0.6318\n"
     ]
    },
    {
     "name": "stderr",
     "output_type": "stream",
     "text": [
      "2022-03-29 08:10:32,391 - mmseg - INFO - Iter [79550/160000]\tlr: 5.432e-03, eta: 16:17:46, time: 0.726, data_time: 0.005, memory: 2073, decode.loss_ce: 0.0711, decode.acc_seg: 95.6777, aux_0.loss_ce: 0.0709, aux_0.acc_seg: 95.7021, aux_1.loss_ce: 0.0733, aux_1.acc_seg: 95.5724, aux_2.loss_ce: 0.0341, aux_2.loss_dice: 0.2982, aux_2.acc_seg: 99.2772, loss: 0.5477\n",
      "2022-03-29 08:11:08,718 - mmseg - INFO - Iter [79600/160000]\tlr: 5.429e-03, eta: 16:17:09, time: 0.726, data_time: 0.005, memory: 2073, decode.loss_ce: 0.0725, decode.acc_seg: 95.7982, aux_0.loss_ce: 0.0728, aux_0.acc_seg: 95.7823, aux_1.loss_ce: 0.0750, aux_1.acc_seg: 95.5668, aux_2.loss_ce: 0.0331, aux_2.loss_dice: 0.3052, aux_2.acc_seg: 99.2884, loss: 0.5587\n",
      "2022-03-29 08:11:45,031 - mmseg - INFO - Iter [79650/160000]\tlr: 5.426e-03, eta: 16:16:32, time: 0.726, data_time: 0.006, memory: 2073, decode.loss_ce: 0.0735, decode.acc_seg: 95.8700, aux_0.loss_ce: 0.0738, aux_0.acc_seg: 95.8524, aux_1.loss_ce: 0.0761, aux_1.acc_seg: 95.7033, aux_2.loss_ce: 0.0333, aux_2.loss_dice: 0.3092, aux_2.acc_seg: 99.2990, loss: 0.5658\n",
      "2022-03-29 08:12:21,288 - mmseg - INFO - Iter [79700/160000]\tlr: 5.423e-03, eta: 16:15:56, time: 0.726, data_time: 0.006, memory: 2073, decode.loss_ce: 0.0849, decode.acc_seg: 95.0173, aux_0.loss_ce: 0.0852, aux_0.acc_seg: 94.9414, aux_1.loss_ce: 0.0898, aux_1.acc_seg: 94.7592, aux_2.loss_ce: 0.0354, aux_2.loss_dice: 0.3185, aux_2.acc_seg: 99.2348, loss: 0.6139\n",
      "2022-03-29 08:12:57,622 - mmseg - INFO - Iter [79750/160000]\tlr: 5.420e-03, eta: 16:15:19, time: 0.727, data_time: 0.005, memory: 2073, decode.loss_ce: 0.0739, decode.acc_seg: 95.8001, aux_0.loss_ce: 0.0745, aux_0.acc_seg: 95.7806, aux_1.loss_ce: 0.0761, aux_1.acc_seg: 95.6774, aux_2.loss_ce: 0.0315, aux_2.loss_dice: 0.3120, aux_2.acc_seg: 99.3310, loss: 0.5681\n",
      "2022-03-29 08:13:33,936 - mmseg - INFO - Iter [79800/160000]\tlr: 5.417e-03, eta: 16:14:43, time: 0.726, data_time: 0.005, memory: 2073, decode.loss_ce: 0.0685, decode.acc_seg: 96.0226, aux_0.loss_ce: 0.0687, aux_0.acc_seg: 96.0272, aux_1.loss_ce: 0.0719, aux_1.acc_seg: 95.8372, aux_2.loss_ce: 0.0323, aux_2.loss_dice: 0.2987, aux_2.acc_seg: 99.3129, loss: 0.5400\n",
      "2022-03-29 08:14:10,248 - mmseg - INFO - Iter [79850/160000]\tlr: 5.414e-03, eta: 16:14:06, time: 0.726, data_time: 0.005, memory: 2073, decode.loss_ce: 0.0862, decode.acc_seg: 95.1767, aux_0.loss_ce: 0.0860, aux_0.acc_seg: 95.1605, aux_1.loss_ce: 0.0884, aux_1.acc_seg: 95.0139, aux_2.loss_ce: 0.0331, aux_2.loss_dice: 0.3104, aux_2.acc_seg: 99.3009, loss: 0.6041\n",
      "2022-03-29 08:14:46,556 - mmseg - INFO - Iter [79900/160000]\tlr: 5.411e-03, eta: 16:13:29, time: 0.726, data_time: 0.005, memory: 2073, decode.loss_ce: 0.0812, decode.acc_seg: 95.2050, aux_0.loss_ce: 0.0809, aux_0.acc_seg: 95.2139, aux_1.loss_ce: 0.0839, aux_1.acc_seg: 95.0493, aux_2.loss_ce: 0.0356, aux_2.loss_dice: 0.3321, aux_2.acc_seg: 99.2502, loss: 0.6138\n",
      "2022-03-29 08:15:22,853 - mmseg - INFO - Iter [79950/160000]\tlr: 5.408e-03, eta: 16:12:53, time: 0.726, data_time: 0.006, memory: 2073, decode.loss_ce: 0.0686, decode.acc_seg: 96.1865, aux_0.loss_ce: 0.0699, aux_0.acc_seg: 96.1364, aux_1.loss_ce: 0.0717, aux_1.acc_seg: 95.9679, aux_2.loss_ce: 0.0317, aux_2.loss_dice: 0.3130, aux_2.acc_seg: 99.3327, loss: 0.5548\n",
      "2022-03-29 08:15:58,549 - mmseg - INFO - Saving checkpoint at 80000 iterations\n",
      "2022-03-29 08:15:58,727 - mmseg - INFO - Iter [80000/160000]\tlr: 5.405e-03, eta: 16:12:16, time: 0.720, data_time: 0.006, memory: 2073, decode.loss_ce: 0.0719, decode.acc_seg: 95.9868, aux_0.loss_ce: 0.0731, aux_0.acc_seg: 95.9928, aux_1.loss_ce: 0.0758, aux_1.acc_seg: 95.8314, aux_2.loss_ce: 0.0341, aux_2.loss_dice: 0.3074, aux_2.acc_seg: 99.2948, loss: 0.5623\n"
     ]
    },
    {
     "name": "stdout",
     "output_type": "stream",
     "text": [
      "[>>>>>>>>>>>>>>>>>>>>>>>>>>>>>] 610/610, 28.2 task/s, elapsed: 22s, ETA:     0s"
     ]
    },
    {
     "name": "stderr",
     "output_type": "stream",
     "text": [
      "2022-03-29 08:16:20,381 - mmseg - INFO - per class results:\n",
      "2022-03-29 08:16:20,382 - mmseg - INFO - \n",
      "+------------+-------+-------+\n",
      "|   Class    |  IoU  |  Acc  |\n",
      "+------------+-------+-------+\n",
      "| background | 96.91 | 98.45 |\n",
      "|   human    | 55.27 | 71.02 |\n",
      "+------------+-------+-------+\n",
      "2022-03-29 08:16:20,382 - mmseg - INFO - Summary:\n",
      "2022-03-29 08:16:20,382 - mmseg - INFO - \n",
      "+-------+-------+-------+\n",
      "|  aAcc |  mIoU |  mAcc |\n",
      "+-------+-------+-------+\n",
      "| 97.03 | 76.09 | 84.73 |\n",
      "+-------+-------+-------+\n",
      "2022-03-29 08:16:20,384 - mmseg - INFO - Iter(val) [610]\taAcc: 0.9703, mIoU: 0.7609, mAcc: 0.8473, IoU.background: 0.9691, IoU.human: 0.5527, Acc.background: 0.9845, Acc.human: 0.7102\n",
      "2022-03-29 08:16:59,338 - mmseg - INFO - Iter [80050/160000]\tlr: 5.402e-03, eta: 16:12:03, time: 1.210, data_time: 0.489, memory: 2073, decode.loss_ce: 0.0731, decode.acc_seg: 95.7512, aux_0.loss_ce: 0.0732, aux_0.acc_seg: 95.7343, aux_1.loss_ce: 0.0784, aux_1.acc_seg: 95.6120, aux_2.loss_ce: 0.0329, aux_2.loss_dice: 0.3210, aux_2.acc_seg: 99.3104, loss: 0.5786\n",
      "2022-03-29 08:17:35,595 - mmseg - INFO - Iter [80100/160000]\tlr: 5.399e-03, eta: 16:11:27, time: 0.725, data_time: 0.006, memory: 2073, decode.loss_ce: 0.0891, decode.acc_seg: 95.0872, aux_0.loss_ce: 0.0894, aux_0.acc_seg: 95.0741, aux_1.loss_ce: 0.0910, aux_1.acc_seg: 94.8825, aux_2.loss_ce: 0.0354, aux_2.loss_dice: 0.3259, aux_2.acc_seg: 99.2483, loss: 0.6309\n",
      "2022-03-29 08:18:11,904 - mmseg - INFO - Iter [80150/160000]\tlr: 5.396e-03, eta: 16:10:50, time: 0.727, data_time: 0.006, memory: 2073, decode.loss_ce: 0.0709, decode.acc_seg: 95.7181, aux_0.loss_ce: 0.0704, aux_0.acc_seg: 95.7337, aux_1.loss_ce: 0.0734, aux_1.acc_seg: 95.5960, aux_2.loss_ce: 0.0330, aux_2.loss_dice: 0.3068, aux_2.acc_seg: 99.3048, loss: 0.5544\n",
      "2022-03-29 08:18:48,207 - mmseg - INFO - Iter [80200/160000]\tlr: 5.393e-03, eta: 16:10:13, time: 0.726, data_time: 0.005, memory: 2073, decode.loss_ce: 0.0772, decode.acc_seg: 95.5251, aux_0.loss_ce: 0.0776, aux_0.acc_seg: 95.5309, aux_1.loss_ce: 0.0815, aux_1.acc_seg: 95.3850, aux_2.loss_ce: 0.0341, aux_2.loss_dice: 0.3113, aux_2.acc_seg: 99.2687, loss: 0.5816\n",
      "2022-03-29 08:19:24,574 - mmseg - INFO - Iter [80250/160000]\tlr: 5.390e-03, eta: 16:09:37, time: 0.727, data_time: 0.005, memory: 2073, decode.loss_ce: 0.0969, decode.acc_seg: 94.4076, aux_0.loss_ce: 0.0972, aux_0.acc_seg: 94.3730, aux_1.loss_ce: 0.0985, aux_1.acc_seg: 94.2866, aux_2.loss_ce: 0.0345, aux_2.loss_dice: 0.3128, aux_2.acc_seg: 99.2667, loss: 0.6399\n",
      "2022-03-29 08:20:00,928 - mmseg - INFO - Iter [80300/160000]\tlr: 5.387e-03, eta: 16:09:00, time: 0.727, data_time: 0.005, memory: 2073, decode.loss_ce: 0.0726, decode.acc_seg: 95.7316, aux_0.loss_ce: 0.0735, aux_0.acc_seg: 95.7313, aux_1.loss_ce: 0.0775, aux_1.acc_seg: 95.5825, aux_2.loss_ce: 0.0315, aux_2.loss_dice: 0.3091, aux_2.acc_seg: 99.3328, loss: 0.5642\n",
      "2022-03-29 08:20:37,250 - mmseg - INFO - Iter [80350/160000]\tlr: 5.384e-03, eta: 16:08:24, time: 0.726, data_time: 0.005, memory: 2073, decode.loss_ce: 0.0751, decode.acc_seg: 95.6239, aux_0.loss_ce: 0.0759, aux_0.acc_seg: 95.6092, aux_1.loss_ce: 0.0773, aux_1.acc_seg: 95.4328, aux_2.loss_ce: 0.0319, aux_2.loss_dice: 0.3165, aux_2.acc_seg: 99.3317, loss: 0.5767\n",
      "2022-03-29 08:21:13,614 - mmseg - INFO - Iter [80400/160000]\tlr: 5.381e-03, eta: 16:07:47, time: 0.727, data_time: 0.006, memory: 2073, decode.loss_ce: 0.0841, decode.acc_seg: 95.1265, aux_0.loss_ce: 0.0849, aux_0.acc_seg: 95.0311, aux_1.loss_ce: 0.0872, aux_1.acc_seg: 94.9083, aux_2.loss_ce: 0.0326, aux_2.loss_dice: 0.3234, aux_2.acc_seg: 99.3174, loss: 0.6122\n",
      "2022-03-29 08:21:49,891 - mmseg - INFO - Iter [80450/160000]\tlr: 5.378e-03, eta: 16:07:10, time: 0.726, data_time: 0.006, memory: 2073, decode.loss_ce: 0.0599, decode.acc_seg: 96.4090, aux_0.loss_ce: 0.0600, aux_0.acc_seg: 96.4017, aux_1.loss_ce: 0.0634, aux_1.acc_seg: 96.2832, aux_2.loss_ce: 0.0326, aux_2.loss_dice: 0.3171, aux_2.acc_seg: 99.3128, loss: 0.5330\n",
      "2022-03-29 08:22:26,269 - mmseg - INFO - Iter [80500/160000]\tlr: 5.375e-03, eta: 16:06:34, time: 0.728, data_time: 0.006, memory: 2073, decode.loss_ce: 0.0828, decode.acc_seg: 95.3504, aux_0.loss_ce: 0.0846, aux_0.acc_seg: 95.2978, aux_1.loss_ce: 0.0864, aux_1.acc_seg: 95.1219, aux_2.loss_ce: 0.0348, aux_2.loss_dice: 0.3067, aux_2.acc_seg: 99.2728, loss: 0.5952\n",
      "2022-03-29 08:23:02,607 - mmseg - INFO - Iter [80550/160000]\tlr: 5.373e-03, eta: 16:05:57, time: 0.727, data_time: 0.006, memory: 2073, decode.loss_ce: 0.0746, decode.acc_seg: 95.5824, aux_0.loss_ce: 0.0739, aux_0.acc_seg: 95.6217, aux_1.loss_ce: 0.0780, aux_1.acc_seg: 95.5349, aux_2.loss_ce: 0.0330, aux_2.loss_dice: 0.3052, aux_2.acc_seg: 99.2985, loss: 0.5647\n",
      "2022-03-29 08:23:38,165 - mmseg - INFO - Iter [80600/160000]\tlr: 5.370e-03, eta: 16:05:20, time: 0.712, data_time: 0.006, memory: 2073, decode.loss_ce: 0.0865, decode.acc_seg: 95.4176, aux_0.loss_ce: 0.0850, aux_0.acc_seg: 95.4037, aux_1.loss_ce: 0.0874, aux_1.acc_seg: 95.2325, aux_2.loss_ce: 0.0344, aux_2.loss_dice: 0.3238, aux_2.acc_seg: 99.2841, loss: 0.6172\n",
      "2022-03-29 08:24:12,509 - mmseg - INFO - Iter [80650/160000]\tlr: 5.367e-03, eta: 16:04:41, time: 0.686, data_time: 0.005, memory: 2073, decode.loss_ce: 0.0885, decode.acc_seg: 94.7235, aux_0.loss_ce: 0.0911, aux_0.acc_seg: 94.6384, aux_1.loss_ce: 0.0935, aux_1.acc_seg: 94.4704, aux_2.loss_ce: 0.0374, aux_2.loss_dice: 0.3254, aux_2.acc_seg: 99.1909, loss: 0.6358\n",
      "2022-03-29 08:24:48,896 - mmseg - INFO - Iter [80700/160000]\tlr: 5.364e-03, eta: 16:04:05, time: 0.728, data_time: 0.006, memory: 2073, decode.loss_ce: 0.0807, decode.acc_seg: 95.2932, aux_0.loss_ce: 0.0784, aux_0.acc_seg: 95.2683, aux_1.loss_ce: 0.0778, aux_1.acc_seg: 95.0618, aux_2.loss_ce: 0.0326, aux_2.loss_dice: 0.3176, aux_2.acc_seg: 99.3112, loss: 0.5872\n",
      "2022-03-29 08:25:27,856 - mmseg - INFO - Iter [80750/160000]\tlr: 5.361e-03, eta: 16:03:31, time: 0.779, data_time: 0.060, memory: 2073, decode.loss_ce: 0.0714, decode.acc_seg: 95.8180, aux_0.loss_ce: 0.0742, aux_0.acc_seg: 95.8561, aux_1.loss_ce: 0.0805, aux_1.acc_seg: 95.6408, aux_2.loss_ce: 0.0332, aux_2.loss_dice: 0.3226, aux_2.acc_seg: 99.3017, loss: 0.5820\n",
      "2022-03-29 08:26:04,289 - mmseg - INFO - Iter [80800/160000]\tlr: 5.358e-03, eta: 16:02:54, time: 0.729, data_time: 0.006, memory: 2073, decode.loss_ce: 0.0791, decode.acc_seg: 95.3734, aux_0.loss_ce: 0.0792, aux_0.acc_seg: 95.3474, aux_1.loss_ce: 0.0814, aux_1.acc_seg: 95.2433, aux_2.loss_ce: 0.0320, aux_2.loss_dice: 0.3146, aux_2.acc_seg: 99.3393, loss: 0.5863\n",
      "2022-03-29 08:26:40,649 - mmseg - INFO - Iter [80850/160000]\tlr: 5.355e-03, eta: 16:02:18, time: 0.727, data_time: 0.005, memory: 2073, decode.loss_ce: 0.0740, decode.acc_seg: 95.7150, aux_0.loss_ce: 0.0736, aux_0.acc_seg: 95.6653, aux_1.loss_ce: 0.0760, aux_1.acc_seg: 95.4924, aux_2.loss_ce: 0.0324, aux_2.loss_dice: 0.2958, aux_2.acc_seg: 99.3072, loss: 0.5518\n",
      "2022-03-29 08:27:16,978 - mmseg - INFO - Iter [80900/160000]\tlr: 5.352e-03, eta: 16:01:41, time: 0.726, data_time: 0.005, memory: 2073, decode.loss_ce: 0.0810, decode.acc_seg: 95.4771, aux_0.loss_ce: 0.0812, aux_0.acc_seg: 95.4587, aux_1.loss_ce: 0.0862, aux_1.acc_seg: 95.3374, aux_2.loss_ce: 0.0336, aux_2.loss_dice: 0.3159, aux_2.acc_seg: 99.2954, loss: 0.5977\n",
      "2022-03-29 08:27:53,326 - mmseg - INFO - Iter [80950/160000]\tlr: 5.349e-03, eta: 16:01:04, time: 0.727, data_time: 0.006, memory: 2073, decode.loss_ce: 0.0714, decode.acc_seg: 95.8648, aux_0.loss_ce: 0.0714, aux_0.acc_seg: 95.8404, aux_1.loss_ce: 0.0721, aux_1.acc_seg: 95.8220, aux_2.loss_ce: 0.0319, aux_2.loss_dice: 0.3141, aux_2.acc_seg: 99.3468, loss: 0.5609\n",
      "2022-03-29 08:28:29,698 - mmseg - INFO - Iter [81000/160000]\tlr: 5.346e-03, eta: 16:00:28, time: 0.727, data_time: 0.006, memory: 2073, decode.loss_ce: 0.0854, decode.acc_seg: 94.9608, aux_0.loss_ce: 0.0867, aux_0.acc_seg: 94.9008, aux_1.loss_ce: 0.0880, aux_1.acc_seg: 94.7119, aux_2.loss_ce: 0.0349, aux_2.loss_dice: 0.3368, aux_2.acc_seg: 99.2737, loss: 0.6318\n",
      "2022-03-29 08:29:05,996 - mmseg - INFO - Iter [81050/160000]\tlr: 5.343e-03, eta: 15:59:51, time: 0.726, data_time: 0.006, memory: 2073, decode.loss_ce: 0.0622, decode.acc_seg: 96.3276, aux_0.loss_ce: 0.0635, aux_0.acc_seg: 96.3138, aux_1.loss_ce: 0.0668, aux_1.acc_seg: 96.1800, aux_2.loss_ce: 0.0325, aux_2.loss_dice: 0.3056, aux_2.acc_seg: 99.3374, loss: 0.5306\n"
     ]
    },
    {
     "name": "stderr",
     "output_type": "stream",
     "text": [
      "2022-03-29 08:29:42,356 - mmseg - INFO - Iter [81100/160000]\tlr: 5.340e-03, eta: 15:59:15, time: 0.727, data_time: 0.006, memory: 2073, decode.loss_ce: 0.0917, decode.acc_seg: 95.0829, aux_0.loss_ce: 0.0904, aux_0.acc_seg: 95.1011, aux_1.loss_ce: 0.0939, aux_1.acc_seg: 94.9389, aux_2.loss_ce: 0.0349, aux_2.loss_dice: 0.3381, aux_2.acc_seg: 99.2670, loss: 0.6489\n",
      "2022-03-29 08:30:18,646 - mmseg - INFO - Iter [81150/160000]\tlr: 5.337e-03, eta: 15:58:38, time: 0.726, data_time: 0.006, memory: 2073, decode.loss_ce: 0.0723, decode.acc_seg: 95.7751, aux_0.loss_ce: 0.0725, aux_0.acc_seg: 95.8050, aux_1.loss_ce: 0.0721, aux_1.acc_seg: 95.6831, aux_2.loss_ce: 0.0339, aux_2.loss_dice: 0.3190, aux_2.acc_seg: 99.2970, loss: 0.5698\n",
      "2022-03-29 08:30:54,921 - mmseg - INFO - Iter [81200/160000]\tlr: 5.334e-03, eta: 15:58:01, time: 0.726, data_time: 0.006, memory: 2073, decode.loss_ce: 0.0739, decode.acc_seg: 95.8108, aux_0.loss_ce: 0.0751, aux_0.acc_seg: 95.7724, aux_1.loss_ce: 0.0805, aux_1.acc_seg: 95.6355, aux_2.loss_ce: 0.0353, aux_2.loss_dice: 0.3082, aux_2.acc_seg: 99.2647, loss: 0.5728\n",
      "2022-03-29 08:31:28,656 - mmseg - INFO - Iter [81250/160000]\tlr: 5.331e-03, eta: 15:57:22, time: 0.675, data_time: 0.006, memory: 2073, decode.loss_ce: 0.0912, decode.acc_seg: 94.5012, aux_0.loss_ce: 0.0911, aux_0.acc_seg: 94.4598, aux_1.loss_ce: 0.0941, aux_1.acc_seg: 94.3924, aux_2.loss_ce: 0.0349, aux_2.loss_dice: 0.3258, aux_2.acc_seg: 99.2801, loss: 0.6371\n",
      "2022-03-29 08:32:04,935 - mmseg - INFO - Iter [81300/160000]\tlr: 5.328e-03, eta: 15:56:45, time: 0.725, data_time: 0.006, memory: 2073, decode.loss_ce: 0.0778, decode.acc_seg: 95.5915, aux_0.loss_ce: 0.0801, aux_0.acc_seg: 95.5525, aux_1.loss_ce: 0.0796, aux_1.acc_seg: 95.4065, aux_2.loss_ce: 0.0368, aux_2.loss_dice: 0.3279, aux_2.acc_seg: 99.2107, loss: 0.6023\n",
      "2022-03-29 08:32:41,155 - mmseg - INFO - Iter [81350/160000]\tlr: 5.325e-03, eta: 15:56:09, time: 0.725, data_time: 0.006, memory: 2073, decode.loss_ce: 0.0825, decode.acc_seg: 95.4078, aux_0.loss_ce: 0.0835, aux_0.acc_seg: 95.4182, aux_1.loss_ce: 0.0873, aux_1.acc_seg: 95.2252, aux_2.loss_ce: 0.0381, aux_2.loss_dice: 0.3218, aux_2.acc_seg: 99.2052, loss: 0.6130\n",
      "2022-03-29 08:33:17,529 - mmseg - INFO - Iter [81400/160000]\tlr: 5.322e-03, eta: 15:55:32, time: 0.727, data_time: 0.005, memory: 2073, decode.loss_ce: 0.0739, decode.acc_seg: 95.7481, aux_0.loss_ce: 0.0725, aux_0.acc_seg: 95.7547, aux_1.loss_ce: 0.0753, aux_1.acc_seg: 95.5333, aux_2.loss_ce: 0.0325, aux_2.loss_dice: 0.3090, aux_2.acc_seg: 99.3085, loss: 0.5631\n",
      "2022-03-29 08:33:56,693 - mmseg - INFO - Iter [81450/160000]\tlr: 5.319e-03, eta: 15:54:58, time: 0.783, data_time: 0.058, memory: 2073, decode.loss_ce: 0.0816, decode.acc_seg: 95.2224, aux_0.loss_ce: 0.0832, aux_0.acc_seg: 95.2128, aux_1.loss_ce: 0.0881, aux_1.acc_seg: 94.9741, aux_2.loss_ce: 0.0365, aux_2.loss_dice: 0.3123, aux_2.acc_seg: 99.2293, loss: 0.6017\n",
      "2022-03-29 08:34:32,999 - mmseg - INFO - Iter [81500/160000]\tlr: 5.316e-03, eta: 15:54:22, time: 0.726, data_time: 0.006, memory: 2073, decode.loss_ce: 0.0713, decode.acc_seg: 95.9381, aux_0.loss_ce: 0.0719, aux_0.acc_seg: 95.9599, aux_1.loss_ce: 0.0737, aux_1.acc_seg: 95.7956, aux_2.loss_ce: 0.0336, aux_2.loss_dice: 0.3137, aux_2.acc_seg: 99.2928, loss: 0.5642\n",
      "2022-03-29 08:35:09,289 - mmseg - INFO - Iter [81550/160000]\tlr: 5.313e-03, eta: 15:53:45, time: 0.725, data_time: 0.006, memory: 2073, decode.loss_ce: 0.0791, decode.acc_seg: 95.5409, aux_0.loss_ce: 0.0792, aux_0.acc_seg: 95.4850, aux_1.loss_ce: 0.0814, aux_1.acc_seg: 95.3381, aux_2.loss_ce: 0.0340, aux_2.loss_dice: 0.3032, aux_2.acc_seg: 99.2663, loss: 0.5769\n",
      "2022-03-29 08:35:45,661 - mmseg - INFO - Iter [81600/160000]\tlr: 5.310e-03, eta: 15:53:08, time: 0.727, data_time: 0.006, memory: 2073, decode.loss_ce: 0.0689, decode.acc_seg: 95.8103, aux_0.loss_ce: 0.0701, aux_0.acc_seg: 95.7710, aux_1.loss_ce: 0.0709, aux_1.acc_seg: 95.7277, aux_2.loss_ce: 0.0340, aux_2.loss_dice: 0.3266, aux_2.acc_seg: 99.3231, loss: 0.5706\n",
      "2022-03-29 08:36:21,997 - mmseg - INFO - Iter [81650/160000]\tlr: 5.307e-03, eta: 15:52:32, time: 0.727, data_time: 0.006, memory: 2073, decode.loss_ce: 0.1050, decode.acc_seg: 94.0453, aux_0.loss_ce: 0.1071, aux_0.acc_seg: 94.0531, aux_1.loss_ce: 0.1104, aux_1.acc_seg: 93.8506, aux_2.loss_ce: 0.0388, aux_2.loss_dice: 0.3452, aux_2.acc_seg: 99.2065, loss: 0.7066\n",
      "2022-03-29 08:36:58,270 - mmseg - INFO - Iter [81700/160000]\tlr: 5.304e-03, eta: 15:51:55, time: 0.726, data_time: 0.006, memory: 2073, decode.loss_ce: 0.0850, decode.acc_seg: 95.0413, aux_0.loss_ce: 0.0856, aux_0.acc_seg: 95.0784, aux_1.loss_ce: 0.0874, aux_1.acc_seg: 94.9571, aux_2.loss_ce: 0.0357, aux_2.loss_dice: 0.3481, aux_2.acc_seg: 99.2694, loss: 0.6418\n",
      "2022-03-29 08:37:34,615 - mmseg - INFO - Iter [81750/160000]\tlr: 5.301e-03, eta: 15:51:19, time: 0.727, data_time: 0.005, memory: 2073, decode.loss_ce: 0.0741, decode.acc_seg: 95.6614, aux_0.loss_ce: 0.0750, aux_0.acc_seg: 95.6408, aux_1.loss_ce: 0.0753, aux_1.acc_seg: 95.5138, aux_2.loss_ce: 0.0341, aux_2.loss_dice: 0.3245, aux_2.acc_seg: 99.3083, loss: 0.5831\n",
      "2022-03-29 08:38:11,026 - mmseg - INFO - Iter [81800/160000]\tlr: 5.298e-03, eta: 15:50:42, time: 0.728, data_time: 0.005, memory: 2073, decode.loss_ce: 0.0910, decode.acc_seg: 94.8521, aux_0.loss_ce: 0.0907, aux_0.acc_seg: 94.8734, aux_1.loss_ce: 0.0916, aux_1.acc_seg: 94.7821, aux_2.loss_ce: 0.0361, aux_2.loss_dice: 0.3336, aux_2.acc_seg: 99.2617, loss: 0.6430\n",
      "2022-03-29 08:38:47,338 - mmseg - INFO - Iter [81850/160000]\tlr: 5.295e-03, eta: 15:50:05, time: 0.726, data_time: 0.006, memory: 2073, decode.loss_ce: 0.0890, decode.acc_seg: 94.8502, aux_0.loss_ce: 0.0902, aux_0.acc_seg: 94.8186, aux_1.loss_ce: 0.0931, aux_1.acc_seg: 94.6604, aux_2.loss_ce: 0.0369, aux_2.loss_dice: 0.3355, aux_2.acc_seg: 99.2604, loss: 0.6446\n",
      "2022-03-29 08:39:21,079 - mmseg - INFO - Iter [81900/160000]\tlr: 5.292e-03, eta: 15:49:26, time: 0.674, data_time: 0.006, memory: 2073, decode.loss_ce: 0.0683, decode.acc_seg: 96.0378, aux_0.loss_ce: 0.0686, aux_0.acc_seg: 96.0463, aux_1.loss_ce: 0.0712, aux_1.acc_seg: 95.9799, aux_2.loss_ce: 0.0333, aux_2.loss_dice: 0.3197, aux_2.acc_seg: 99.3131, loss: 0.5612\n",
      "2022-03-29 08:39:57,325 - mmseg - INFO - Iter [81950/160000]\tlr: 5.289e-03, eta: 15:48:50, time: 0.725, data_time: 0.006, memory: 2073, decode.loss_ce: 0.0877, decode.acc_seg: 95.1363, aux_0.loss_ce: 0.0851, aux_0.acc_seg: 95.1256, aux_1.loss_ce: 0.0868, aux_1.acc_seg: 95.0543, aux_2.loss_ce: 0.0333, aux_2.loss_dice: 0.3092, aux_2.acc_seg: 99.2971, loss: 0.6021\n",
      "2022-03-29 08:40:33,599 - mmseg - INFO - Iter [82000/160000]\tlr: 5.286e-03, eta: 15:48:13, time: 0.726, data_time: 0.006, memory: 2073, decode.loss_ce: 0.0857, decode.acc_seg: 94.5837, aux_0.loss_ce: 0.0879, aux_0.acc_seg: 94.5572, aux_1.loss_ce: 0.0897, aux_1.acc_seg: 94.4904, aux_2.loss_ce: 0.0358, aux_2.loss_dice: 0.3359, aux_2.acc_seg: 99.2604, loss: 0.6350\n",
      "2022-03-29 08:41:09,972 - mmseg - INFO - Iter [82050/160000]\tlr: 5.283e-03, eta: 15:47:36, time: 0.727, data_time: 0.006, memory: 2073, decode.loss_ce: 0.0967, decode.acc_seg: 94.7967, aux_0.loss_ce: 0.0966, aux_0.acc_seg: 94.8295, aux_1.loss_ce: 0.1015, aux_1.acc_seg: 94.5868, aux_2.loss_ce: 0.0348, aux_2.loss_dice: 0.3312, aux_2.acc_seg: 99.2805, loss: 0.6608\n",
      "2022-03-29 08:41:46,287 - mmseg - INFO - Iter [82100/160000]\tlr: 5.280e-03, eta: 15:47:00, time: 0.726, data_time: 0.006, memory: 2073, decode.loss_ce: 0.0851, decode.acc_seg: 94.9680, aux_0.loss_ce: 0.0839, aux_0.acc_seg: 94.9777, aux_1.loss_ce: 0.0878, aux_1.acc_seg: 94.7556, aux_2.loss_ce: 0.0390, aux_2.loss_dice: 0.3270, aux_2.acc_seg: 99.1839, loss: 0.6228\n",
      "2022-03-29 08:42:25,278 - mmseg - INFO - Iter [82150/160000]\tlr: 5.277e-03, eta: 15:46:26, time: 0.780, data_time: 0.059, memory: 2073, decode.loss_ce: 0.0809, decode.acc_seg: 95.4329, aux_0.loss_ce: 0.0821, aux_0.acc_seg: 95.4160, aux_1.loss_ce: 0.0829, aux_1.acc_seg: 95.3281, aux_2.loss_ce: 0.0341, aux_2.loss_dice: 0.3291, aux_2.acc_seg: 99.2867, loss: 0.6091\n",
      "2022-03-29 08:43:01,650 - mmseg - INFO - Iter [82200/160000]\tlr: 5.274e-03, eta: 15:45:49, time: 0.727, data_time: 0.005, memory: 2073, decode.loss_ce: 0.0808, decode.acc_seg: 95.1145, aux_0.loss_ce: 0.0826, aux_0.acc_seg: 95.0995, aux_1.loss_ce: 0.0855, aux_1.acc_seg: 94.9414, aux_2.loss_ce: 0.0347, aux_2.loss_dice: 0.3248, aux_2.acc_seg: 99.2780, loss: 0.6084\n"
     ]
    },
    {
     "name": "stderr",
     "output_type": "stream",
     "text": [
      "2022-03-29 08:43:38,000 - mmseg - INFO - Iter [82250/160000]\tlr: 5.271e-03, eta: 15:45:13, time: 0.727, data_time: 0.005, memory: 2073, decode.loss_ce: 0.0864, decode.acc_seg: 95.1282, aux_0.loss_ce: 0.0876, aux_0.acc_seg: 95.1105, aux_1.loss_ce: 0.0922, aux_1.acc_seg: 94.9232, aux_2.loss_ce: 0.0361, aux_2.loss_dice: 0.3200, aux_2.acc_seg: 99.2432, loss: 0.6223\n",
      "2022-03-29 08:44:14,338 - mmseg - INFO - Iter [82300/160000]\tlr: 5.268e-03, eta: 15:44:36, time: 0.727, data_time: 0.005, memory: 2073, decode.loss_ce: 0.0824, decode.acc_seg: 95.1988, aux_0.loss_ce: 0.0810, aux_0.acc_seg: 95.1796, aux_1.loss_ce: 0.0820, aux_1.acc_seg: 95.1140, aux_2.loss_ce: 0.0341, aux_2.loss_dice: 0.3154, aux_2.acc_seg: 99.2809, loss: 0.5949\n",
      "2022-03-29 08:44:50,711 - mmseg - INFO - Iter [82350/160000]\tlr: 5.265e-03, eta: 15:43:59, time: 0.727, data_time: 0.006, memory: 2073, decode.loss_ce: 0.0635, decode.acc_seg: 96.4714, aux_0.loss_ce: 0.0636, aux_0.acc_seg: 96.4375, aux_1.loss_ce: 0.0671, aux_1.acc_seg: 96.2799, aux_2.loss_ce: 0.0326, aux_2.loss_dice: 0.3146, aux_2.acc_seg: 99.3137, loss: 0.5414\n",
      "2022-03-29 08:45:27,070 - mmseg - INFO - Iter [82400/160000]\tlr: 5.262e-03, eta: 15:43:23, time: 0.727, data_time: 0.006, memory: 2073, decode.loss_ce: 0.0663, decode.acc_seg: 96.2295, aux_0.loss_ce: 0.0681, aux_0.acc_seg: 96.2518, aux_1.loss_ce: 0.0705, aux_1.acc_seg: 96.0627, aux_2.loss_ce: 0.0329, aux_2.loss_dice: 0.3142, aux_2.acc_seg: 99.3125, loss: 0.5518\n",
      "2022-03-29 08:46:03,473 - mmseg - INFO - Iter [82450/160000]\tlr: 5.259e-03, eta: 15:42:46, time: 0.728, data_time: 0.005, memory: 2073, decode.loss_ce: 0.0820, decode.acc_seg: 95.3324, aux_0.loss_ce: 0.0811, aux_0.acc_seg: 95.3209, aux_1.loss_ce: 0.0835, aux_1.acc_seg: 95.1572, aux_2.loss_ce: 0.0343, aux_2.loss_dice: 0.3047, aux_2.acc_seg: 99.2642, loss: 0.5856\n",
      "2022-03-29 08:46:39,789 - mmseg - INFO - Iter [82500/160000]\tlr: 5.256e-03, eta: 15:42:10, time: 0.726, data_time: 0.005, memory: 2073, decode.loss_ce: 0.0770, decode.acc_seg: 95.3711, aux_0.loss_ce: 0.0768, aux_0.acc_seg: 95.3602, aux_1.loss_ce: 0.0810, aux_1.acc_seg: 95.2311, aux_2.loss_ce: 0.0345, aux_2.loss_dice: 0.3182, aux_2.acc_seg: 99.2752, loss: 0.5874\n",
      "2022-03-29 08:47:13,485 - mmseg - INFO - Iter [82550/160000]\tlr: 5.253e-03, eta: 15:41:31, time: 0.674, data_time: 0.006, memory: 2073, decode.loss_ce: 0.0697, decode.acc_seg: 96.0436, aux_0.loss_ce: 0.0713, aux_0.acc_seg: 96.0559, aux_1.loss_ce: 0.0739, aux_1.acc_seg: 95.8728, aux_2.loss_ce: 0.0328, aux_2.loss_dice: 0.3307, aux_2.acc_seg: 99.2987, loss: 0.5784\n",
      "2022-03-29 08:47:49,782 - mmseg - INFO - Iter [82600/160000]\tlr: 5.250e-03, eta: 15:40:54, time: 0.726, data_time: 0.006, memory: 2073, decode.loss_ce: 0.0746, decode.acc_seg: 95.7332, aux_0.loss_ce: 0.0749, aux_0.acc_seg: 95.7186, aux_1.loss_ce: 0.0760, aux_1.acc_seg: 95.6050, aux_2.loss_ce: 0.0316, aux_2.loss_dice: 0.2996, aux_2.acc_seg: 99.3424, loss: 0.5567\n",
      "2022-03-29 08:48:26,086 - mmseg - INFO - Iter [82650/160000]\tlr: 5.247e-03, eta: 15:40:17, time: 0.726, data_time: 0.006, memory: 2073, decode.loss_ce: 0.0820, decode.acc_seg: 95.2599, aux_0.loss_ce: 0.0833, aux_0.acc_seg: 95.2083, aux_1.loss_ce: 0.0853, aux_1.acc_seg: 95.0521, aux_2.loss_ce: 0.0346, aux_2.loss_dice: 0.3170, aux_2.acc_seg: 99.2758, loss: 0.6022\n",
      "2022-03-29 08:49:02,344 - mmseg - INFO - Iter [82700/160000]\tlr: 5.244e-03, eta: 15:39:41, time: 0.724, data_time: 0.005, memory: 2073, decode.loss_ce: 0.0846, decode.acc_seg: 95.2632, aux_0.loss_ce: 0.0839, aux_0.acc_seg: 95.2853, aux_1.loss_ce: 0.0872, aux_1.acc_seg: 95.1472, aux_2.loss_ce: 0.0343, aux_2.loss_dice: 0.3118, aux_2.acc_seg: 99.2596, loss: 0.6018\n",
      "2022-03-29 08:49:38,677 - mmseg - INFO - Iter [82750/160000]\tlr: 5.241e-03, eta: 15:39:04, time: 0.727, data_time: 0.006, memory: 2073, decode.loss_ce: 0.0674, decode.acc_seg: 96.0522, aux_0.loss_ce: 0.0686, aux_0.acc_seg: 96.0131, aux_1.loss_ce: 0.0718, aux_1.acc_seg: 95.7828, aux_2.loss_ce: 0.0318, aux_2.loss_dice: 0.3097, aux_2.acc_seg: 99.3308, loss: 0.5493\n",
      "2022-03-29 08:50:14,975 - mmseg - INFO - Iter [82800/160000]\tlr: 5.238e-03, eta: 15:38:27, time: 0.727, data_time: 0.006, memory: 2073, decode.loss_ce: 0.0767, decode.acc_seg: 95.5765, aux_0.loss_ce: 0.0763, aux_0.acc_seg: 95.5757, aux_1.loss_ce: 0.0781, aux_1.acc_seg: 95.4143, aux_2.loss_ce: 0.0342, aux_2.loss_dice: 0.3183, aux_2.acc_seg: 99.2760, loss: 0.5836\n",
      "2022-03-29 08:50:54,013 - mmseg - INFO - Iter [82850/160000]\tlr: 5.235e-03, eta: 15:37:53, time: 0.781, data_time: 0.058, memory: 2073, decode.loss_ce: 0.0893, decode.acc_seg: 95.0511, aux_0.loss_ce: 0.0893, aux_0.acc_seg: 95.0794, aux_1.loss_ce: 0.0932, aux_1.acc_seg: 94.8424, aux_2.loss_ce: 0.0354, aux_2.loss_dice: 0.3152, aux_2.acc_seg: 99.2677, loss: 0.6225\n",
      "2022-03-29 08:51:30,303 - mmseg - INFO - Iter [82900/160000]\tlr: 5.232e-03, eta: 15:37:17, time: 0.725, data_time: 0.006, memory: 2073, decode.loss_ce: 0.0746, decode.acc_seg: 95.7293, aux_0.loss_ce: 0.0737, aux_0.acc_seg: 95.6855, aux_1.loss_ce: 0.0778, aux_1.acc_seg: 95.5508, aux_2.loss_ce: 0.0334, aux_2.loss_dice: 0.3134, aux_2.acc_seg: 99.3022, loss: 0.5729\n",
      "2022-03-29 08:52:06,657 - mmseg - INFO - Iter [82950/160000]\tlr: 5.229e-03, eta: 15:36:40, time: 0.727, data_time: 0.006, memory: 2073, decode.loss_ce: 0.0742, decode.acc_seg: 95.6564, aux_0.loss_ce: 0.0758, aux_0.acc_seg: 95.6457, aux_1.loss_ce: 0.0787, aux_1.acc_seg: 95.4901, aux_2.loss_ce: 0.0378, aux_2.loss_dice: 0.3244, aux_2.acc_seg: 99.1919, loss: 0.5908\n",
      "2022-03-29 08:52:43,008 - mmseg - INFO - Iter [83000/160000]\tlr: 5.226e-03, eta: 15:36:04, time: 0.727, data_time: 0.006, memory: 2073, decode.loss_ce: 0.0713, decode.acc_seg: 95.8765, aux_0.loss_ce: 0.0718, aux_0.acc_seg: 95.8968, aux_1.loss_ce: 0.0745, aux_1.acc_seg: 95.7675, aux_2.loss_ce: 0.0330, aux_2.loss_dice: 0.3150, aux_2.acc_seg: 99.3042, loss: 0.5656\n",
      "2022-03-29 08:53:19,268 - mmseg - INFO - Iter [83050/160000]\tlr: 5.223e-03, eta: 15:35:27, time: 0.726, data_time: 0.006, memory: 2073, decode.loss_ce: 0.0840, decode.acc_seg: 95.3467, aux_0.loss_ce: 0.0845, aux_0.acc_seg: 95.3177, aux_1.loss_ce: 0.0847, aux_1.acc_seg: 95.1873, aux_2.loss_ce: 0.0360, aux_2.loss_dice: 0.3090, aux_2.acc_seg: 99.2410, loss: 0.5982\n",
      "2022-03-29 08:53:55,571 - mmseg - INFO - Iter [83100/160000]\tlr: 5.220e-03, eta: 15:34:50, time: 0.726, data_time: 0.005, memory: 2073, decode.loss_ce: 0.0621, decode.acc_seg: 96.0972, aux_0.loss_ce: 0.0611, aux_0.acc_seg: 96.0794, aux_1.loss_ce: 0.0647, aux_1.acc_seg: 96.0208, aux_2.loss_ce: 0.0315, aux_2.loss_dice: 0.2969, aux_2.acc_seg: 99.3396, loss: 0.5162\n",
      "2022-03-29 08:54:31,940 - mmseg - INFO - Iter [83150/160000]\tlr: 5.217e-03, eta: 15:34:14, time: 0.728, data_time: 0.006, memory: 2073, decode.loss_ce: 0.0979, decode.acc_seg: 94.7504, aux_0.loss_ce: 0.0981, aux_0.acc_seg: 94.7350, aux_1.loss_ce: 0.1012, aux_1.acc_seg: 94.6067, aux_2.loss_ce: 0.0365, aux_2.loss_dice: 0.3237, aux_2.acc_seg: 99.2318, loss: 0.6573\n",
      "2022-03-29 08:55:05,650 - mmseg - INFO - Iter [83200/160000]\tlr: 5.214e-03, eta: 15:33:35, time: 0.674, data_time: 0.006, memory: 2073, decode.loss_ce: 0.0612, decode.acc_seg: 96.4274, aux_0.loss_ce: 0.0612, aux_0.acc_seg: 96.4190, aux_1.loss_ce: 0.0635, aux_1.acc_seg: 96.2981, aux_2.loss_ce: 0.0291, aux_2.loss_dice: 0.3039, aux_2.acc_seg: 99.4037, loss: 0.5189\n",
      "2022-03-29 08:55:41,983 - mmseg - INFO - Iter [83250/160000]\tlr: 5.211e-03, eta: 15:32:58, time: 0.727, data_time: 0.006, memory: 2073, decode.loss_ce: 0.0698, decode.acc_seg: 95.9258, aux_0.loss_ce: 0.0704, aux_0.acc_seg: 95.8901, aux_1.loss_ce: 0.0730, aux_1.acc_seg: 95.7721, aux_2.loss_ce: 0.0312, aux_2.loss_dice: 0.3192, aux_2.acc_seg: 99.3410, loss: 0.5636\n",
      "2022-03-29 08:56:18,356 - mmseg - INFO - Iter [83300/160000]\tlr: 5.208e-03, eta: 15:32:22, time: 0.727, data_time: 0.006, memory: 2073, decode.loss_ce: 0.0772, decode.acc_seg: 95.5471, aux_0.loss_ce: 0.0782, aux_0.acc_seg: 95.5546, aux_1.loss_ce: 0.0804, aux_1.acc_seg: 95.3530, aux_2.loss_ce: 0.0361, aux_2.loss_dice: 0.3091, aux_2.acc_seg: 99.2400, loss: 0.5811\n",
      "2022-03-29 08:56:54,696 - mmseg - INFO - Iter [83350/160000]\tlr: 5.205e-03, eta: 15:31:45, time: 0.727, data_time: 0.006, memory: 2073, decode.loss_ce: 0.0707, decode.acc_seg: 95.9675, aux_0.loss_ce: 0.0696, aux_0.acc_seg: 95.9434, aux_1.loss_ce: 0.0733, aux_1.acc_seg: 95.7801, aux_2.loss_ce: 0.0339, aux_2.loss_dice: 0.3201, aux_2.acc_seg: 99.2687, loss: 0.5676\n"
     ]
    },
    {
     "name": "stderr",
     "output_type": "stream",
     "text": [
      "2022-03-29 08:57:27,541 - mmseg - INFO - Iter [83400/160000]\tlr: 5.202e-03, eta: 15:31:05, time: 0.657, data_time: 0.006, memory: 2073, decode.loss_ce: 0.0701, decode.acc_seg: 96.1106, aux_0.loss_ce: 0.0701, aux_0.acc_seg: 96.1080, aux_1.loss_ce: 0.0738, aux_1.acc_seg: 95.9675, aux_2.loss_ce: 0.0336, aux_2.loss_dice: 0.3158, aux_2.acc_seg: 99.2948, loss: 0.5633\n",
      "2022-03-29 08:57:59,429 - mmseg - INFO - Iter [83450/160000]\tlr: 5.199e-03, eta: 15:30:25, time: 0.637, data_time: 0.005, memory: 2073, decode.loss_ce: 0.0768, decode.acc_seg: 95.4978, aux_0.loss_ce: 0.0769, aux_0.acc_seg: 95.5363, aux_1.loss_ce: 0.0794, aux_1.acc_seg: 95.3993, aux_2.loss_ce: 0.0335, aux_2.loss_dice: 0.3103, aux_2.acc_seg: 99.2947, loss: 0.5768\n",
      "2022-03-29 08:58:35,740 - mmseg - INFO - Iter [83500/160000]\tlr: 5.196e-03, eta: 15:29:48, time: 0.726, data_time: 0.006, memory: 2073, decode.loss_ce: 0.0767, decode.acc_seg: 95.6207, aux_0.loss_ce: 0.0766, aux_0.acc_seg: 95.6196, aux_1.loss_ce: 0.0751, aux_1.acc_seg: 95.5151, aux_2.loss_ce: 0.0333, aux_2.loss_dice: 0.3180, aux_2.acc_seg: 99.2918, loss: 0.5797\n",
      "2022-03-29 08:59:14,627 - mmseg - INFO - Iter [83550/160000]\tlr: 5.193e-03, eta: 15:29:14, time: 0.778, data_time: 0.058, memory: 2073, decode.loss_ce: 0.0693, decode.acc_seg: 95.9300, aux_0.loss_ce: 0.0706, aux_0.acc_seg: 95.9093, aux_1.loss_ce: 0.0747, aux_1.acc_seg: 95.7657, aux_2.loss_ce: 0.0329, aux_2.loss_dice: 0.3195, aux_2.acc_seg: 99.2898, loss: 0.5669\n",
      "2022-03-29 08:59:50,980 - mmseg - INFO - Iter [83600/160000]\tlr: 5.190e-03, eta: 15:28:37, time: 0.727, data_time: 0.005, memory: 2073, decode.loss_ce: 0.0712, decode.acc_seg: 95.7987, aux_0.loss_ce: 0.0722, aux_0.acc_seg: 95.7403, aux_1.loss_ce: 0.0754, aux_1.acc_seg: 95.6333, aux_2.loss_ce: 0.0344, aux_2.loss_dice: 0.3258, aux_2.acc_seg: 99.2759, loss: 0.5789\n",
      "2022-03-29 09:00:27,272 - mmseg - INFO - Iter [83650/160000]\tlr: 5.187e-03, eta: 15:28:00, time: 0.725, data_time: 0.005, memory: 2073, decode.loss_ce: 0.0787, decode.acc_seg: 95.5162, aux_0.loss_ce: 0.0780, aux_0.acc_seg: 95.5265, aux_1.loss_ce: 0.0795, aux_1.acc_seg: 95.3998, aux_2.loss_ce: 0.0344, aux_2.loss_dice: 0.3234, aux_2.acc_seg: 99.2733, loss: 0.5940\n",
      "2022-03-29 09:01:03,433 - mmseg - INFO - Iter [83700/160000]\tlr: 5.184e-03, eta: 15:27:24, time: 0.724, data_time: 0.006, memory: 2073, decode.loss_ce: 0.0745, decode.acc_seg: 95.7348, aux_0.loss_ce: 0.0740, aux_0.acc_seg: 95.7463, aux_1.loss_ce: 0.0777, aux_1.acc_seg: 95.5805, aux_2.loss_ce: 0.0344, aux_2.loss_dice: 0.3185, aux_2.acc_seg: 99.2671, loss: 0.5791\n",
      "2022-03-29 09:01:39,803 - mmseg - INFO - Iter [83750/160000]\tlr: 5.181e-03, eta: 15:26:47, time: 0.727, data_time: 0.005, memory: 2073, decode.loss_ce: 0.0797, decode.acc_seg: 95.6011, aux_0.loss_ce: 0.0819, aux_0.acc_seg: 95.5599, aux_1.loss_ce: 0.0830, aux_1.acc_seg: 95.4206, aux_2.loss_ce: 0.0340, aux_2.loss_dice: 0.3097, aux_2.acc_seg: 99.2888, loss: 0.5882\n",
      "2022-03-29 09:02:16,187 - mmseg - INFO - Iter [83800/160000]\tlr: 5.178e-03, eta: 15:26:11, time: 0.728, data_time: 0.006, memory: 2073, decode.loss_ce: 0.0757, decode.acc_seg: 95.6928, aux_0.loss_ce: 0.0754, aux_0.acc_seg: 95.6260, aux_1.loss_ce: 0.0774, aux_1.acc_seg: 95.5369, aux_2.loss_ce: 0.0328, aux_2.loss_dice: 0.3309, aux_2.acc_seg: 99.3125, loss: 0.5921\n",
      "2022-03-29 09:02:52,528 - mmseg - INFO - Iter [83850/160000]\tlr: 5.175e-03, eta: 15:25:34, time: 0.727, data_time: 0.005, memory: 2073, decode.loss_ce: 0.0734, decode.acc_seg: 95.7187, aux_0.loss_ce: 0.0742, aux_0.acc_seg: 95.7077, aux_1.loss_ce: 0.0764, aux_1.acc_seg: 95.5607, aux_2.loss_ce: 0.0342, aux_2.loss_dice: 0.3174, aux_2.acc_seg: 99.2671, loss: 0.5756\n",
      "2022-03-29 09:03:26,202 - mmseg - INFO - Iter [83900/160000]\tlr: 5.172e-03, eta: 15:24:55, time: 0.674, data_time: 0.006, memory: 2073, decode.loss_ce: 0.0774, decode.acc_seg: 95.7996, aux_0.loss_ce: 0.0781, aux_0.acc_seg: 95.7221, aux_1.loss_ce: 0.0797, aux_1.acc_seg: 95.5763, aux_2.loss_ce: 0.0335, aux_2.loss_dice: 0.3071, aux_2.acc_seg: 99.3008, loss: 0.5759\n",
      "2022-03-29 09:04:02,554 - mmseg - INFO - Iter [83950/160000]\tlr: 5.169e-03, eta: 15:24:19, time: 0.727, data_time: 0.005, memory: 2073, decode.loss_ce: 0.0732, decode.acc_seg: 95.5443, aux_0.loss_ce: 0.0741, aux_0.acc_seg: 95.5440, aux_1.loss_ce: 0.0779, aux_1.acc_seg: 95.3163, aux_2.loss_ce: 0.0320, aux_2.loss_dice: 0.3114, aux_2.acc_seg: 99.3143, loss: 0.5685\n",
      "2022-03-29 09:04:38,937 - mmseg - INFO - Iter [84000/160000]\tlr: 5.166e-03, eta: 15:23:42, time: 0.728, data_time: 0.006, memory: 2073, decode.loss_ce: 0.0978, decode.acc_seg: 94.3885, aux_0.loss_ce: 0.0985, aux_0.acc_seg: 94.4001, aux_1.loss_ce: 0.1008, aux_1.acc_seg: 94.2961, aux_2.loss_ce: 0.0364, aux_2.loss_dice: 0.3279, aux_2.acc_seg: 99.2289, loss: 0.6613\n",
      "2022-03-29 09:05:15,308 - mmseg - INFO - Iter [84050/160000]\tlr: 5.163e-03, eta: 15:23:05, time: 0.728, data_time: 0.006, memory: 2073, decode.loss_ce: 0.0744, decode.acc_seg: 95.6939, aux_0.loss_ce: 0.0761, aux_0.acc_seg: 95.6045, aux_1.loss_ce: 0.0777, aux_1.acc_seg: 95.4513, aux_2.loss_ce: 0.0346, aux_2.loss_dice: 0.3296, aux_2.acc_seg: 99.2665, loss: 0.5923\n",
      "2022-03-29 09:05:51,666 - mmseg - INFO - Iter [84100/160000]\tlr: 5.160e-03, eta: 15:22:29, time: 0.727, data_time: 0.005, memory: 2073, decode.loss_ce: 0.0760, decode.acc_seg: 95.8691, aux_0.loss_ce: 0.0748, aux_0.acc_seg: 95.8606, aux_1.loss_ce: 0.0785, aux_1.acc_seg: 95.6655, aux_2.loss_ce: 0.0352, aux_2.loss_dice: 0.3271, aux_2.acc_seg: 99.2540, loss: 0.5917\n",
      "2022-03-29 09:06:28,003 - mmseg - INFO - Iter [84150/160000]\tlr: 5.157e-03, eta: 15:21:52, time: 0.727, data_time: 0.005, memory: 2073, decode.loss_ce: 0.0790, decode.acc_seg: 95.5774, aux_0.loss_ce: 0.0771, aux_0.acc_seg: 95.6045, aux_1.loss_ce: 0.0813, aux_1.acc_seg: 95.4070, aux_2.loss_ce: 0.0356, aux_2.loss_dice: 0.3205, aux_2.acc_seg: 99.2735, loss: 0.5935\n",
      "2022-03-29 09:07:04,369 - mmseg - INFO - Iter [84200/160000]\tlr: 5.154e-03, eta: 15:21:16, time: 0.727, data_time: 0.006, memory: 2073, decode.loss_ce: 0.0919, decode.acc_seg: 94.6102, aux_0.loss_ce: 0.0932, aux_0.acc_seg: 94.5976, aux_1.loss_ce: 0.0967, aux_1.acc_seg: 94.3884, aux_2.loss_ce: 0.0384, aux_2.loss_dice: 0.3421, aux_2.acc_seg: 99.1911, loss: 0.6623\n",
      "2022-03-29 09:07:43,364 - mmseg - INFO - Iter [84250/160000]\tlr: 5.151e-03, eta: 15:20:42, time: 0.780, data_time: 0.060, memory: 2073, decode.loss_ce: 0.0761, decode.acc_seg: 95.8699, aux_0.loss_ce: 0.0765, aux_0.acc_seg: 95.8536, aux_1.loss_ce: 0.0784, aux_1.acc_seg: 95.7184, aux_2.loss_ce: 0.0326, aux_2.loss_dice: 0.3208, aux_2.acc_seg: 99.3288, loss: 0.5842\n",
      "2022-03-29 09:08:19,746 - mmseg - INFO - Iter [84300/160000]\tlr: 5.148e-03, eta: 15:20:05, time: 0.728, data_time: 0.005, memory: 2073, decode.loss_ce: 0.0688, decode.acc_seg: 96.1051, aux_0.loss_ce: 0.0692, aux_0.acc_seg: 96.0743, aux_1.loss_ce: 0.0714, aux_1.acc_seg: 95.9657, aux_2.loss_ce: 0.0325, aux_2.loss_dice: 0.3026, aux_2.acc_seg: 99.3084, loss: 0.5445\n",
      "2022-03-29 09:08:56,087 - mmseg - INFO - Iter [84350/160000]\tlr: 5.145e-03, eta: 15:19:28, time: 0.727, data_time: 0.005, memory: 2073, decode.loss_ce: 0.0821, decode.acc_seg: 95.2324, aux_0.loss_ce: 0.0802, aux_0.acc_seg: 95.2546, aux_1.loss_ce: 0.0834, aux_1.acc_seg: 95.1586, aux_2.loss_ce: 0.0340, aux_2.loss_dice: 0.3173, aux_2.acc_seg: 99.2983, loss: 0.5971\n",
      "2022-03-29 09:09:32,438 - mmseg - INFO - Iter [84400/160000]\tlr: 5.142e-03, eta: 15:18:52, time: 0.727, data_time: 0.006, memory: 2073, decode.loss_ce: 0.0756, decode.acc_seg: 95.6169, aux_0.loss_ce: 0.0758, aux_0.acc_seg: 95.6003, aux_1.loss_ce: 0.0781, aux_1.acc_seg: 95.4620, aux_2.loss_ce: 0.0329, aux_2.loss_dice: 0.3239, aux_2.acc_seg: 99.3159, loss: 0.5863\n",
      "2022-03-29 09:10:08,775 - mmseg - INFO - Iter [84450/160000]\tlr: 5.139e-03, eta: 15:18:15, time: 0.727, data_time: 0.005, memory: 2073, decode.loss_ce: 0.0740, decode.acc_seg: 95.7505, aux_0.loss_ce: 0.0742, aux_0.acc_seg: 95.7228, aux_1.loss_ce: 0.0764, aux_1.acc_seg: 95.6001, aux_2.loss_ce: 0.0342, aux_2.loss_dice: 0.3263, aux_2.acc_seg: 99.2687, loss: 0.5852\n",
      "2022-03-29 09:10:45,155 - mmseg - INFO - Iter [84500/160000]\tlr: 5.136e-03, eta: 15:17:39, time: 0.727, data_time: 0.005, memory: 2073, decode.loss_ce: 0.0830, decode.acc_seg: 95.2421, aux_0.loss_ce: 0.0836, aux_0.acc_seg: 95.2566, aux_1.loss_ce: 0.0825, aux_1.acc_seg: 95.1901, aux_2.loss_ce: 0.0338, aux_2.loss_dice: 0.3160, aux_2.acc_seg: 99.3108, loss: 0.5988\n"
     ]
    },
    {
     "name": "stderr",
     "output_type": "stream",
     "text": [
      "2022-03-29 09:11:18,731 - mmseg - INFO - Iter [84550/160000]\tlr: 5.133e-03, eta: 15:17:00, time: 0.672, data_time: 0.006, memory: 2073, decode.loss_ce: 0.0754, decode.acc_seg: 95.4720, aux_0.loss_ce: 0.0769, aux_0.acc_seg: 95.4932, aux_1.loss_ce: 0.0811, aux_1.acc_seg: 95.3533, aux_2.loss_ce: 0.0361, aux_2.loss_dice: 0.3350, aux_2.acc_seg: 99.2636, loss: 0.6045\n",
      "2022-03-29 09:11:55,008 - mmseg - INFO - Iter [84600/160000]\tlr: 5.130e-03, eta: 15:16:23, time: 0.725, data_time: 0.005, memory: 2073, decode.loss_ce: 0.1041, decode.acc_seg: 93.8487, aux_0.loss_ce: 0.1047, aux_0.acc_seg: 93.8639, aux_1.loss_ce: 0.1061, aux_1.acc_seg: 93.7211, aux_2.loss_ce: 0.0400, aux_2.loss_dice: 0.3430, aux_2.acc_seg: 99.1644, loss: 0.6979\n",
      "2022-03-29 09:12:31,253 - mmseg - INFO - Iter [84650/160000]\tlr: 5.127e-03, eta: 15:15:46, time: 0.725, data_time: 0.006, memory: 2073, decode.loss_ce: 0.0786, decode.acc_seg: 95.6413, aux_0.loss_ce: 0.0773, aux_0.acc_seg: 95.6533, aux_1.loss_ce: 0.0793, aux_1.acc_seg: 95.5089, aux_2.loss_ce: 0.0339, aux_2.loss_dice: 0.3031, aux_2.acc_seg: 99.2943, loss: 0.5722\n",
      "2022-03-29 09:13:07,593 - mmseg - INFO - Iter [84700/160000]\tlr: 5.124e-03, eta: 15:15:10, time: 0.727, data_time: 0.006, memory: 2073, decode.loss_ce: 0.0977, decode.acc_seg: 94.0840, aux_0.loss_ce: 0.0994, aux_0.acc_seg: 94.1096, aux_1.loss_ce: 0.1025, aux_1.acc_seg: 93.8950, aux_2.loss_ce: 0.0384, aux_2.loss_dice: 0.3277, aux_2.acc_seg: 99.2064, loss: 0.6658\n",
      "2022-03-29 09:13:43,910 - mmseg - INFO - Iter [84750/160000]\tlr: 5.121e-03, eta: 15:14:33, time: 0.727, data_time: 0.006, memory: 2073, decode.loss_ce: 0.0801, decode.acc_seg: 95.4040, aux_0.loss_ce: 0.0808, aux_0.acc_seg: 95.4045, aux_1.loss_ce: 0.0826, aux_1.acc_seg: 95.3446, aux_2.loss_ce: 0.0396, aux_2.loss_dice: 0.3600, aux_2.acc_seg: 99.2865, loss: 0.6430\n",
      "2022-03-29 09:14:20,277 - mmseg - INFO - Iter [84800/160000]\tlr: 5.118e-03, eta: 15:13:57, time: 0.727, data_time: 0.005, memory: 2073, decode.loss_ce: 0.0835, decode.acc_seg: 94.8723, aux_0.loss_ce: 0.0811, aux_0.acc_seg: 94.9612, aux_1.loss_ce: 0.0836, aux_1.acc_seg: 94.8462, aux_2.loss_ce: 0.0392, aux_2.loss_dice: 0.3805, aux_2.acc_seg: 99.2311, loss: 0.6679\n",
      "2022-03-29 09:14:56,613 - mmseg - INFO - Iter [84850/160000]\tlr: 5.115e-03, eta: 15:13:20, time: 0.727, data_time: 0.006, memory: 2073, decode.loss_ce: 0.0930, decode.acc_seg: 95.0920, aux_0.loss_ce: 0.0921, aux_0.acc_seg: 95.0915, aux_1.loss_ce: 0.0935, aux_1.acc_seg: 94.9568, aux_2.loss_ce: 0.0377, aux_2.loss_dice: 0.3504, aux_2.acc_seg: 99.2336, loss: 0.6668\n",
      "2022-03-29 09:15:32,919 - mmseg - INFO - Iter [84900/160000]\tlr: 5.112e-03, eta: 15:12:44, time: 0.725, data_time: 0.005, memory: 2073, decode.loss_ce: 0.0802, decode.acc_seg: 95.3335, aux_0.loss_ce: 0.0793, aux_0.acc_seg: 95.3497, aux_1.loss_ce: 0.0823, aux_1.acc_seg: 95.2330, aux_2.loss_ce: 0.0364, aux_2.loss_dice: 0.3453, aux_2.acc_seg: 99.2625, loss: 0.6234\n",
      "2022-03-29 09:16:11,754 - mmseg - INFO - Iter [84950/160000]\tlr: 5.109e-03, eta: 15:12:09, time: 0.777, data_time: 0.058, memory: 2073, decode.loss_ce: 0.0754, decode.acc_seg: 95.5401, aux_0.loss_ce: 0.0764, aux_0.acc_seg: 95.5483, aux_1.loss_ce: 0.0776, aux_1.acc_seg: 95.3860, aux_2.loss_ce: 0.0370, aux_2.loss_dice: 0.3598, aux_2.acc_seg: 99.2981, loss: 0.6264\n",
      "2022-03-29 09:16:48,041 - mmseg - INFO - Iter [85000/160000]\tlr: 5.106e-03, eta: 15:11:33, time: 0.726, data_time: 0.006, memory: 2073, decode.loss_ce: 0.0855, decode.acc_seg: 95.2931, aux_0.loss_ce: 0.0848, aux_0.acc_seg: 95.2909, aux_1.loss_ce: 0.0891, aux_1.acc_seg: 95.1435, aux_2.loss_ce: 0.0396, aux_2.loss_dice: 0.3511, aux_2.acc_seg: 99.2348, loss: 0.6502\n"
     ]
    },
    {
     "name": "stdout",
     "output_type": "stream",
     "text": [
      "[>>>>>>>>>>>>>>>>>>>>>>>>>>>>>] 610/610, 26.7 task/s, elapsed: 23s, ETA:     0s"
     ]
    },
    {
     "name": "stderr",
     "output_type": "stream",
     "text": [
      "2022-03-29 09:17:10,940 - mmseg - INFO - per class results:\n",
      "2022-03-29 09:17:10,940 - mmseg - INFO - \n",
      "+------------+-------+-------+\n",
      "|   Class    |  IoU  |  Acc  |\n",
      "+------------+-------+-------+\n",
      "| background | 96.73 | 99.42 |\n",
      "|   human    | 44.39 |  49.1 |\n",
      "+------------+-------+-------+\n",
      "2022-03-29 09:17:10,941 - mmseg - INFO - Summary:\n",
      "2022-03-29 09:17:10,941 - mmseg - INFO - \n",
      "+-------+-------+-------+\n",
      "|  aAcc |  mIoU |  mAcc |\n",
      "+-------+-------+-------+\n",
      "| 96.82 | 70.56 | 74.26 |\n",
      "+-------+-------+-------+\n",
      "2022-03-29 09:17:10,944 - mmseg - INFO - Iter(val) [610]\taAcc: 0.9682, mIoU: 0.7056, mAcc: 0.7426, IoU.background: 0.9673, IoU.human: 0.4439, Acc.background: 0.9942, Acc.human: 0.4910\n",
      "2022-03-29 09:17:47,360 - mmseg - INFO - Iter [85050/160000]\tlr: 5.103e-03, eta: 15:11:16, time: 1.187, data_time: 0.464, memory: 2073, decode.loss_ce: 0.0822, decode.acc_seg: 95.2275, aux_0.loss_ce: 0.0833, aux_0.acc_seg: 95.2292, aux_1.loss_ce: 0.0877, aux_1.acc_seg: 95.0393, aux_2.loss_ce: 0.0355, aux_2.loss_dice: 0.3293, aux_2.acc_seg: 99.2722, loss: 0.6181\n",
      "2022-03-29 09:18:23,775 - mmseg - INFO - Iter [85100/160000]\tlr: 5.100e-03, eta: 15:10:40, time: 0.728, data_time: 0.006, memory: 2073, decode.loss_ce: 0.0781, decode.acc_seg: 95.7310, aux_0.loss_ce: 0.0781, aux_0.acc_seg: 95.7430, aux_1.loss_ce: 0.0788, aux_1.acc_seg: 95.5445, aux_2.loss_ce: 0.0376, aux_2.loss_dice: 0.3232, aux_2.acc_seg: 99.2105, loss: 0.5958\n",
      "2022-03-29 09:18:57,451 - mmseg - INFO - Iter [85150/160000]\tlr: 5.097e-03, eta: 15:10:01, time: 0.673, data_time: 0.006, memory: 2073, decode.loss_ce: 0.0745, decode.acc_seg: 95.7295, aux_0.loss_ce: 0.0746, aux_0.acc_seg: 95.7503, aux_1.loss_ce: 0.0759, aux_1.acc_seg: 95.6010, aux_2.loss_ce: 0.0323, aux_2.loss_dice: 0.3347, aux_2.acc_seg: 99.3435, loss: 0.5919\n",
      "2022-03-29 09:19:33,758 - mmseg - INFO - Iter [85200/160000]\tlr: 5.094e-03, eta: 15:09:24, time: 0.726, data_time: 0.006, memory: 2073, decode.loss_ce: 0.0825, decode.acc_seg: 95.2012, aux_0.loss_ce: 0.0816, aux_0.acc_seg: 95.2159, aux_1.loss_ce: 0.0823, aux_1.acc_seg: 95.0401, aux_2.loss_ce: 0.0345, aux_2.loss_dice: 0.3095, aux_2.acc_seg: 99.2893, loss: 0.5904\n",
      "2022-03-29 09:20:10,125 - mmseg - INFO - Iter [85250/160000]\tlr: 5.091e-03, eta: 15:08:48, time: 0.727, data_time: 0.006, memory: 2073, decode.loss_ce: 0.0732, decode.acc_seg: 95.7091, aux_0.loss_ce: 0.0735, aux_0.acc_seg: 95.6870, aux_1.loss_ce: 0.0774, aux_1.acc_seg: 95.5041, aux_2.loss_ce: 0.0357, aux_2.loss_dice: 0.3246, aux_2.acc_seg: 99.2470, loss: 0.5845\n",
      "2022-03-29 09:20:46,480 - mmseg - INFO - Iter [85300/160000]\tlr: 5.088e-03, eta: 15:08:11, time: 0.727, data_time: 0.005, memory: 2073, decode.loss_ce: 0.0871, decode.acc_seg: 95.0812, aux_0.loss_ce: 0.0877, aux_0.acc_seg: 95.0625, aux_1.loss_ce: 0.0912, aux_1.acc_seg: 94.8899, aux_2.loss_ce: 0.0343, aux_2.loss_dice: 0.3195, aux_2.acc_seg: 99.2887, loss: 0.6199\n",
      "2022-03-29 09:21:22,870 - mmseg - INFO - Iter [85350/160000]\tlr: 5.085e-03, eta: 15:07:35, time: 0.728, data_time: 0.005, memory: 2073, decode.loss_ce: 0.0869, decode.acc_seg: 94.7871, aux_0.loss_ce: 0.0878, aux_0.acc_seg: 94.7695, aux_1.loss_ce: 0.0881, aux_1.acc_seg: 94.6795, aux_2.loss_ce: 0.0355, aux_2.loss_dice: 0.3229, aux_2.acc_seg: 99.2515, loss: 0.6212\n",
      "2022-03-29 09:21:59,225 - mmseg - INFO - Iter [85400/160000]\tlr: 5.082e-03, eta: 15:06:58, time: 0.727, data_time: 0.005, memory: 2073, decode.loss_ce: 0.0838, decode.acc_seg: 95.4131, aux_0.loss_ce: 0.0836, aux_0.acc_seg: 95.4298, aux_1.loss_ce: 0.0888, aux_1.acc_seg: 95.2112, aux_2.loss_ce: 0.0350, aux_2.loss_dice: 0.3152, aux_2.acc_seg: 99.2830, loss: 0.6064\n",
      "2022-03-29 09:22:35,572 - mmseg - INFO - Iter [85450/160000]\tlr: 5.079e-03, eta: 15:06:21, time: 0.727, data_time: 0.006, memory: 2073, decode.loss_ce: 0.0673, decode.acc_seg: 95.8979, aux_0.loss_ce: 0.0676, aux_0.acc_seg: 95.9012, aux_1.loss_ce: 0.0688, aux_1.acc_seg: 95.7917, aux_2.loss_ce: 0.0318, aux_2.loss_dice: 0.3056, aux_2.acc_seg: 99.3288, loss: 0.5412\n",
      "2022-03-29 09:23:11,852 - mmseg - INFO - Iter [85500/160000]\tlr: 5.076e-03, eta: 15:05:45, time: 0.725, data_time: 0.006, memory: 2073, decode.loss_ce: 0.0721, decode.acc_seg: 95.8514, aux_0.loss_ce: 0.0723, aux_0.acc_seg: 95.8527, aux_1.loss_ce: 0.0744, aux_1.acc_seg: 95.7672, aux_2.loss_ce: 0.0347, aux_2.loss_dice: 0.3223, aux_2.acc_seg: 99.2612, loss: 0.5759\n",
      "2022-03-29 09:23:48,162 - mmseg - INFO - Iter [85550/160000]\tlr: 5.073e-03, eta: 15:05:08, time: 0.727, data_time: 0.006, memory: 2073, decode.loss_ce: 0.0774, decode.acc_seg: 95.6169, aux_0.loss_ce: 0.0779, aux_0.acc_seg: 95.6185, aux_1.loss_ce: 0.0795, aux_1.acc_seg: 95.5371, aux_2.loss_ce: 0.0335, aux_2.loss_dice: 0.3110, aux_2.acc_seg: 99.2914, loss: 0.5794\n",
      "2022-03-29 09:24:24,468 - mmseg - INFO - Iter [85600/160000]\tlr: 5.070e-03, eta: 15:04:32, time: 0.727, data_time: 0.006, memory: 2073, decode.loss_ce: 0.0733, decode.acc_seg: 95.8604, aux_0.loss_ce: 0.0739, aux_0.acc_seg: 95.8355, aux_1.loss_ce: 0.0762, aux_1.acc_seg: 95.6828, aux_2.loss_ce: 0.0319, aux_2.loss_dice: 0.2942, aux_2.acc_seg: 99.3322, loss: 0.5495\n",
      "2022-03-29 09:25:03,454 - mmseg - INFO - Iter [85650/160000]\tlr: 5.067e-03, eta: 15:03:57, time: 0.779, data_time: 0.058, memory: 2073, decode.loss_ce: 0.0752, decode.acc_seg: 95.5180, aux_0.loss_ce: 0.0755, aux_0.acc_seg: 95.5187, aux_1.loss_ce: 0.0782, aux_1.acc_seg: 95.3715, aux_2.loss_ce: 0.0338, aux_2.loss_dice: 0.3182, aux_2.acc_seg: 99.2886, loss: 0.5810\n",
      "2022-03-29 09:25:39,736 - mmseg - INFO - Iter [85700/160000]\tlr: 5.064e-03, eta: 15:03:21, time: 0.726, data_time: 0.006, memory: 2073, decode.loss_ce: 0.0767, decode.acc_seg: 95.8221, aux_0.loss_ce: 0.0759, aux_0.acc_seg: 95.8474, aux_1.loss_ce: 0.0799, aux_1.acc_seg: 95.6932, aux_2.loss_ce: 0.0368, aux_2.loss_dice: 0.3341, aux_2.acc_seg: 99.2546, loss: 0.6034\n",
      "2022-03-29 09:26:15,181 - mmseg - INFO - Iter [85750/160000]\tlr: 5.061e-03, eta: 15:02:43, time: 0.710, data_time: 0.006, memory: 2073, decode.loss_ce: 0.0701, decode.acc_seg: 95.9228, aux_0.loss_ce: 0.0709, aux_0.acc_seg: 95.9257, aux_1.loss_ce: 0.0717, aux_1.acc_seg: 95.8212, aux_2.loss_ce: 0.0359, aux_2.loss_dice: 0.3299, aux_2.acc_seg: 99.2510, loss: 0.5786\n",
      "2022-03-29 09:26:49,908 - mmseg - INFO - Iter [85800/160000]\tlr: 5.058e-03, eta: 15:02:05, time: 0.694, data_time: 0.005, memory: 2073, decode.loss_ce: 0.0702, decode.acc_seg: 96.1026, aux_0.loss_ce: 0.0681, aux_0.acc_seg: 96.1321, aux_1.loss_ce: 0.0718, aux_1.acc_seg: 95.9137, aux_2.loss_ce: 0.0330, aux_2.loss_dice: 0.3014, aux_2.acc_seg: 99.3049, loss: 0.5446\n",
      "2022-03-29 09:27:26,280 - mmseg - INFO - Iter [85850/160000]\tlr: 5.055e-03, eta: 15:01:29, time: 0.727, data_time: 0.005, memory: 2073, decode.loss_ce: 0.0758, decode.acc_seg: 95.5629, aux_0.loss_ce: 0.0792, aux_0.acc_seg: 95.5293, aux_1.loss_ce: 0.0816, aux_1.acc_seg: 95.3776, aux_2.loss_ce: 0.0350, aux_2.loss_dice: 0.3413, aux_2.acc_seg: 99.2722, loss: 0.6130\n",
      "2022-03-29 09:28:02,698 - mmseg - INFO - Iter [85900/160000]\tlr: 5.052e-03, eta: 15:00:52, time: 0.728, data_time: 0.006, memory: 2073, decode.loss_ce: 0.0865, decode.acc_seg: 95.2486, aux_0.loss_ce: 0.0851, aux_0.acc_seg: 95.2173, aux_1.loss_ce: 0.0883, aux_1.acc_seg: 95.0344, aux_2.loss_ce: 0.0349, aux_2.loss_dice: 0.3325, aux_2.acc_seg: 99.2936, loss: 0.6273\n",
      "2022-03-29 09:28:39,032 - mmseg - INFO - Iter [85950/160000]\tlr: 5.049e-03, eta: 15:00:16, time: 0.727, data_time: 0.006, memory: 2073, decode.loss_ce: 0.0695, decode.acc_seg: 95.7425, aux_0.loss_ce: 0.0690, aux_0.acc_seg: 95.7415, aux_1.loss_ce: 0.0710, aux_1.acc_seg: 95.6540, aux_2.loss_ce: 0.0355, aux_2.loss_dice: 0.3390, aux_2.acc_seg: 99.2752, loss: 0.5841\n",
      "2022-03-29 09:29:15,482 - mmseg - INFO - Iter [86000/160000]\tlr: 5.046e-03, eta: 14:59:39, time: 0.729, data_time: 0.006, memory: 2073, decode.loss_ce: 0.0871, decode.acc_seg: 94.9650, aux_0.loss_ce: 0.0881, aux_0.acc_seg: 94.9392, aux_1.loss_ce: 0.0917, aux_1.acc_seg: 94.8475, aux_2.loss_ce: 0.0354, aux_2.loss_dice: 0.3171, aux_2.acc_seg: 99.2829, loss: 0.6194\n",
      "2022-03-29 09:29:51,758 - mmseg - INFO - Iter [86050/160000]\tlr: 5.043e-03, eta: 14:59:02, time: 0.725, data_time: 0.006, memory: 2073, decode.loss_ce: 0.0848, decode.acc_seg: 95.2397, aux_0.loss_ce: 0.0847, aux_0.acc_seg: 95.2368, aux_1.loss_ce: 0.0865, aux_1.acc_seg: 95.0987, aux_2.loss_ce: 0.0342, aux_2.loss_dice: 0.3341, aux_2.acc_seg: 99.2864, loss: 0.6243\n"
     ]
    },
    {
     "name": "stderr",
     "output_type": "stream",
     "text": [
      "2022-03-29 09:30:28,032 - mmseg - INFO - Iter [86100/160000]\tlr: 5.040e-03, eta: 14:58:26, time: 0.726, data_time: 0.006, memory: 2073, decode.loss_ce: 0.0891, decode.acc_seg: 95.1438, aux_0.loss_ce: 0.0895, aux_0.acc_seg: 95.1267, aux_1.loss_ce: 0.0920, aux_1.acc_seg: 94.9967, aux_2.loss_ce: 0.0340, aux_2.loss_dice: 0.3154, aux_2.acc_seg: 99.3029, loss: 0.6200\n",
      "2022-03-29 09:31:04,321 - mmseg - INFO - Iter [86150/160000]\tlr: 5.037e-03, eta: 14:57:49, time: 0.726, data_time: 0.005, memory: 2073, decode.loss_ce: 0.0699, decode.acc_seg: 95.7870, aux_0.loss_ce: 0.0706, aux_0.acc_seg: 95.8111, aux_1.loss_ce: 0.0729, aux_1.acc_seg: 95.6688, aux_2.loss_ce: 0.0334, aux_2.loss_dice: 0.3134, aux_2.acc_seg: 99.2953, loss: 0.5602\n",
      "2022-03-29 09:31:40,639 - mmseg - INFO - Iter [86200/160000]\tlr: 5.034e-03, eta: 14:57:13, time: 0.726, data_time: 0.005, memory: 2073, decode.loss_ce: 0.0765, decode.acc_seg: 95.5066, aux_0.loss_ce: 0.0769, aux_0.acc_seg: 95.4971, aux_1.loss_ce: 0.0788, aux_1.acc_seg: 95.3571, aux_2.loss_ce: 0.0335, aux_2.loss_dice: 0.3214, aux_2.acc_seg: 99.2956, loss: 0.5872\n",
      "2022-03-29 09:32:16,968 - mmseg - INFO - Iter [86250/160000]\tlr: 5.031e-03, eta: 14:56:36, time: 0.726, data_time: 0.006, memory: 2073, decode.loss_ce: 0.0763, decode.acc_seg: 95.7538, aux_0.loss_ce: 0.0761, aux_0.acc_seg: 95.7658, aux_1.loss_ce: 0.0782, aux_1.acc_seg: 95.6514, aux_2.loss_ce: 0.0341, aux_2.loss_dice: 0.3328, aux_2.acc_seg: 99.2746, loss: 0.5975\n",
      "2022-03-29 09:32:53,236 - mmseg - INFO - Iter [86300/160000]\tlr: 5.028e-03, eta: 14:55:59, time: 0.725, data_time: 0.006, memory: 2073, decode.loss_ce: 0.0817, decode.acc_seg: 95.4012, aux_0.loss_ce: 0.0797, aux_0.acc_seg: 95.3917, aux_1.loss_ce: 0.0855, aux_1.acc_seg: 95.2088, aux_2.loss_ce: 0.0346, aux_2.loss_dice: 0.3064, aux_2.acc_seg: 99.2814, loss: 0.5879\n",
      "2022-03-29 09:33:32,248 - mmseg - INFO - Iter [86350/160000]\tlr: 5.025e-03, eta: 14:55:25, time: 0.781, data_time: 0.059, memory: 2073, decode.loss_ce: 0.0633, decode.acc_seg: 96.1444, aux_0.loss_ce: 0.0665, aux_0.acc_seg: 96.1228, aux_1.loss_ce: 0.0667, aux_1.acc_seg: 95.9930, aux_2.loss_ce: 0.0327, aux_2.loss_dice: 0.3163, aux_2.acc_seg: 99.3383, loss: 0.5456\n",
      "2022-03-29 09:34:05,858 - mmseg - INFO - Iter [86400/160000]\tlr: 5.022e-03, eta: 14:54:46, time: 0.672, data_time: 0.006, memory: 2073, decode.loss_ce: 0.0715, decode.acc_seg: 96.0656, aux_0.loss_ce: 0.0718, aux_0.acc_seg: 96.0463, aux_1.loss_ce: 0.0740, aux_1.acc_seg: 95.9559, aux_2.loss_ce: 0.0335, aux_2.loss_dice: 0.3205, aux_2.acc_seg: 99.3028, loss: 0.5714\n",
      "2022-03-29 09:34:42,207 - mmseg - INFO - Iter [86450/160000]\tlr: 5.019e-03, eta: 14:54:09, time: 0.727, data_time: 0.006, memory: 2073, decode.loss_ce: 0.0927, decode.acc_seg: 94.4852, aux_0.loss_ce: 0.0942, aux_0.acc_seg: 94.4329, aux_1.loss_ce: 0.0969, aux_1.acc_seg: 94.2043, aux_2.loss_ce: 0.0363, aux_2.loss_dice: 0.3117, aux_2.acc_seg: 99.2228, loss: 0.6318\n",
      "2022-03-29 09:35:18,443 - mmseg - INFO - Iter [86500/160000]\tlr: 5.016e-03, eta: 14:53:33, time: 0.725, data_time: 0.006, memory: 2073, decode.loss_ce: 0.0887, decode.acc_seg: 94.6451, aux_0.loss_ce: 0.0888, aux_0.acc_seg: 94.6121, aux_1.loss_ce: 0.0906, aux_1.acc_seg: 94.5181, aux_2.loss_ce: 0.0363, aux_2.loss_dice: 0.3164, aux_2.acc_seg: 99.2479, loss: 0.6209\n",
      "2022-03-29 09:35:54,784 - mmseg - INFO - Iter [86550/160000]\tlr: 5.013e-03, eta: 14:52:56, time: 0.727, data_time: 0.006, memory: 2073, decode.loss_ce: 0.0822, decode.acc_seg: 95.2353, aux_0.loss_ce: 0.0830, aux_0.acc_seg: 95.1909, aux_1.loss_ce: 0.0861, aux_1.acc_seg: 95.0413, aux_2.loss_ce: 0.0343, aux_2.loss_dice: 0.3081, aux_2.acc_seg: 99.2889, loss: 0.5937\n",
      "2022-03-29 09:36:31,109 - mmseg - INFO - Iter [86600/160000]\tlr: 5.010e-03, eta: 14:52:20, time: 0.727, data_time: 0.005, memory: 2073, decode.loss_ce: 0.0723, decode.acc_seg: 95.9895, aux_0.loss_ce: 0.0720, aux_0.acc_seg: 95.9839, aux_1.loss_ce: 0.0752, aux_1.acc_seg: 95.8191, aux_2.loss_ce: 0.0315, aux_2.loss_dice: 0.3091, aux_2.acc_seg: 99.3391, loss: 0.5601\n",
      "2022-03-29 09:37:07,385 - mmseg - INFO - Iter [86650/160000]\tlr: 5.007e-03, eta: 14:51:43, time: 0.725, data_time: 0.005, memory: 2073, decode.loss_ce: 0.0762, decode.acc_seg: 95.6486, aux_0.loss_ce: 0.0777, aux_0.acc_seg: 95.6251, aux_1.loss_ce: 0.0804, aux_1.acc_seg: 95.5098, aux_2.loss_ce: 0.0329, aux_2.loss_dice: 0.3279, aux_2.acc_seg: 99.3027, loss: 0.5951\n",
      "2022-03-29 09:37:43,714 - mmseg - INFO - Iter [86700/160000]\tlr: 5.004e-03, eta: 14:51:06, time: 0.726, data_time: 0.006, memory: 2073, decode.loss_ce: 0.1024, decode.acc_seg: 94.0205, aux_0.loss_ce: 0.1017, aux_0.acc_seg: 93.9904, aux_1.loss_ce: 0.1058, aux_1.acc_seg: 93.7655, aux_2.loss_ce: 0.0357, aux_2.loss_dice: 0.3220, aux_2.acc_seg: 99.2405, loss: 0.6677\n",
      "2022-03-29 09:38:20,042 - mmseg - INFO - Iter [86750/160000]\tlr: 5.001e-03, eta: 14:50:30, time: 0.726, data_time: 0.006, memory: 2073, decode.loss_ce: 0.0853, decode.acc_seg: 95.1535, aux_0.loss_ce: 0.0840, aux_0.acc_seg: 95.1651, aux_1.loss_ce: 0.0869, aux_1.acc_seg: 95.0063, aux_2.loss_ce: 0.0345, aux_2.loss_dice: 0.3308, aux_2.acc_seg: 99.2814, loss: 0.6215\n",
      "2022-03-29 09:38:56,313 - mmseg - INFO - Iter [86800/160000]\tlr: 4.998e-03, eta: 14:49:53, time: 0.726, data_time: 0.006, memory: 2073, decode.loss_ce: 0.0839, decode.acc_seg: 95.2589, aux_0.loss_ce: 0.0842, aux_0.acc_seg: 95.2565, aux_1.loss_ce: 0.0857, aux_1.acc_seg: 95.1544, aux_2.loss_ce: 0.0324, aux_2.loss_dice: 0.3221, aux_2.acc_seg: 99.3219, loss: 0.6083\n",
      "2022-03-29 09:39:32,604 - mmseg - INFO - Iter [86850/160000]\tlr: 4.995e-03, eta: 14:49:17, time: 0.726, data_time: 0.006, memory: 2073, decode.loss_ce: 0.0789, decode.acc_seg: 95.8092, aux_0.loss_ce: 0.0809, aux_0.acc_seg: 95.7432, aux_1.loss_ce: 0.0831, aux_1.acc_seg: 95.6192, aux_2.loss_ce: 0.0334, aux_2.loss_dice: 0.3168, aux_2.acc_seg: 99.2790, loss: 0.5930\n",
      "2022-03-29 09:40:08,917 - mmseg - INFO - Iter [86900/160000]\tlr: 4.992e-03, eta: 14:48:40, time: 0.726, data_time: 0.005, memory: 2073, decode.loss_ce: 0.0776, decode.acc_seg: 95.4408, aux_0.loss_ce: 0.0784, aux_0.acc_seg: 95.4046, aux_1.loss_ce: 0.0806, aux_1.acc_seg: 95.2605, aux_2.loss_ce: 0.0343, aux_2.loss_dice: 0.3092, aux_2.acc_seg: 99.2823, loss: 0.5801\n",
      "2022-03-29 09:40:45,270 - mmseg - INFO - Iter [86950/160000]\tlr: 4.989e-03, eta: 14:48:03, time: 0.727, data_time: 0.006, memory: 2073, decode.loss_ce: 0.0751, decode.acc_seg: 95.5779, aux_0.loss_ce: 0.0757, aux_0.acc_seg: 95.5676, aux_1.loss_ce: 0.0778, aux_1.acc_seg: 95.4136, aux_2.loss_ce: 0.0324, aux_2.loss_dice: 0.3121, aux_2.acc_seg: 99.3006, loss: 0.5730\n",
      "2022-03-29 09:41:21,624 - mmseg - INFO - Iter [87000/160000]\tlr: 4.986e-03, eta: 14:47:27, time: 0.727, data_time: 0.006, memory: 2073, decode.loss_ce: 0.0749, decode.acc_seg: 95.9132, aux_0.loss_ce: 0.0729, aux_0.acc_seg: 95.9094, aux_1.loss_ce: 0.0751, aux_1.acc_seg: 95.7630, aux_2.loss_ce: 0.0352, aux_2.loss_dice: 0.3281, aux_2.acc_seg: 99.2440, loss: 0.5861\n",
      "2022-03-29 09:41:57,969 - mmseg - INFO - Iter [87050/160000]\tlr: 4.983e-03, eta: 14:46:50, time: 0.727, data_time: 0.057, memory: 2073, decode.loss_ce: 0.0613, decode.acc_seg: 96.2318, aux_0.loss_ce: 0.0629, aux_0.acc_seg: 96.2590, aux_1.loss_ce: 0.0649, aux_1.acc_seg: 96.1209, aux_2.loss_ce: 0.0322, aux_2.loss_dice: 0.3180, aux_2.acc_seg: 99.3229, loss: 0.5393\n",
      "2022-03-29 09:42:34,324 - mmseg - INFO - Iter [87100/160000]\tlr: 4.980e-03, eta: 14:46:14, time: 0.727, data_time: 0.006, memory: 2073, decode.loss_ce: 0.0894, decode.acc_seg: 95.1083, aux_0.loss_ce: 0.0884, aux_0.acc_seg: 95.0984, aux_1.loss_ce: 0.0905, aux_1.acc_seg: 95.0673, aux_2.loss_ce: 0.0342, aux_2.loss_dice: 0.3226, aux_2.acc_seg: 99.2803, loss: 0.6251\n",
      "2022-03-29 09:43:10,609 - mmseg - INFO - Iter [87150/160000]\tlr: 4.977e-03, eta: 14:45:37, time: 0.726, data_time: 0.006, memory: 2073, decode.loss_ce: 0.0655, decode.acc_seg: 96.1174, aux_0.loss_ce: 0.0659, aux_0.acc_seg: 96.1159, aux_1.loss_ce: 0.0676, aux_1.acc_seg: 96.0269, aux_2.loss_ce: 0.0335, aux_2.loss_dice: 0.3163, aux_2.acc_seg: 99.3004, loss: 0.5488\n",
      "2022-03-29 09:43:46,965 - mmseg - INFO - Iter [87200/160000]\tlr: 4.974e-03, eta: 14:45:00, time: 0.727, data_time: 0.006, memory: 2073, decode.loss_ce: 0.0738, decode.acc_seg: 96.1373, aux_0.loss_ce: 0.0739, aux_0.acc_seg: 96.1500, aux_1.loss_ce: 0.0771, aux_1.acc_seg: 95.9739, aux_2.loss_ce: 0.0361, aux_2.loss_dice: 0.3118, aux_2.acc_seg: 99.2597, loss: 0.5728\n"
     ]
    },
    {
     "name": "stderr",
     "output_type": "stream",
     "text": [
      "2022-03-29 09:44:23,308 - mmseg - INFO - Iter [87250/160000]\tlr: 4.971e-03, eta: 14:44:24, time: 0.727, data_time: 0.006, memory: 2073, decode.loss_ce: 0.0643, decode.acc_seg: 95.9286, aux_0.loss_ce: 0.0646, aux_0.acc_seg: 95.9111, aux_1.loss_ce: 0.0661, aux_1.acc_seg: 95.8443, aux_2.loss_ce: 0.0322, aux_2.loss_dice: 0.3189, aux_2.acc_seg: 99.3068, loss: 0.5461\n",
      "2022-03-29 09:44:59,701 - mmseg - INFO - Iter [87300/160000]\tlr: 4.968e-03, eta: 14:43:47, time: 0.728, data_time: 0.005, memory: 2073, decode.loss_ce: 0.0840, decode.acc_seg: 95.2588, aux_0.loss_ce: 0.0860, aux_0.acc_seg: 95.2350, aux_1.loss_ce: 0.0865, aux_1.acc_seg: 95.1402, aux_2.loss_ce: 0.0346, aux_2.loss_dice: 0.3182, aux_2.acc_seg: 99.2784, loss: 0.6092\n",
      "2022-03-29 09:45:36,037 - mmseg - INFO - Iter [87350/160000]\tlr: 4.965e-03, eta: 14:43:11, time: 0.727, data_time: 0.005, memory: 2073, decode.loss_ce: 0.0912, decode.acc_seg: 94.7239, aux_0.loss_ce: 0.0910, aux_0.acc_seg: 94.6348, aux_1.loss_ce: 0.0947, aux_1.acc_seg: 94.4425, aux_2.loss_ce: 0.0342, aux_2.loss_dice: 0.3190, aux_2.acc_seg: 99.2854, loss: 0.6301\n",
      "2022-03-29 09:46:12,391 - mmseg - INFO - Iter [87400/160000]\tlr: 4.962e-03, eta: 14:42:34, time: 0.727, data_time: 0.005, memory: 2073, decode.loss_ce: 0.0721, decode.acc_seg: 95.8416, aux_0.loss_ce: 0.0730, aux_0.acc_seg: 95.8325, aux_1.loss_ce: 0.0748, aux_1.acc_seg: 95.7262, aux_2.loss_ce: 0.0338, aux_2.loss_dice: 0.3234, aux_2.acc_seg: 99.3010, loss: 0.5771\n",
      "2022-03-29 09:46:48,719 - mmseg - INFO - Iter [87450/160000]\tlr: 4.959e-03, eta: 14:41:58, time: 0.726, data_time: 0.005, memory: 2073, decode.loss_ce: 0.0765, decode.acc_seg: 95.6960, aux_0.loss_ce: 0.0777, aux_0.acc_seg: 95.6844, aux_1.loss_ce: 0.0801, aux_1.acc_seg: 95.5756, aux_2.loss_ce: 0.0335, aux_2.loss_dice: 0.3423, aux_2.acc_seg: 99.3032, loss: 0.6100\n",
      "2022-03-29 09:47:25,039 - mmseg - INFO - Iter [87500/160000]\tlr: 4.956e-03, eta: 14:41:21, time: 0.726, data_time: 0.006, memory: 2073, decode.loss_ce: 0.0884, decode.acc_seg: 95.0122, aux_0.loss_ce: 0.0887, aux_0.acc_seg: 95.0135, aux_1.loss_ce: 0.0923, aux_1.acc_seg: 94.8342, aux_2.loss_ce: 0.0340, aux_2.loss_dice: 0.3176, aux_2.acc_seg: 99.2829, loss: 0.6211\n",
      "2022-03-29 09:48:01,274 - mmseg - INFO - Iter [87550/160000]\tlr: 4.953e-03, eta: 14:40:44, time: 0.725, data_time: 0.006, memory: 2073, decode.loss_ce: 0.0980, decode.acc_seg: 94.5869, aux_0.loss_ce: 0.0962, aux_0.acc_seg: 94.5991, aux_1.loss_ce: 0.0961, aux_1.acc_seg: 94.4532, aux_2.loss_ce: 0.0343, aux_2.loss_dice: 0.3220, aux_2.acc_seg: 99.2719, loss: 0.6467\n",
      "2022-03-29 09:48:37,646 - mmseg - INFO - Iter [87600/160000]\tlr: 4.950e-03, eta: 14:40:08, time: 0.727, data_time: 0.006, memory: 2073, decode.loss_ce: 0.0723, decode.acc_seg: 95.6017, aux_0.loss_ce: 0.0732, aux_0.acc_seg: 95.5902, aux_1.loss_ce: 0.0751, aux_1.acc_seg: 95.4414, aux_2.loss_ce: 0.0316, aux_2.loss_dice: 0.3070, aux_2.acc_seg: 99.3377, loss: 0.5592\n",
      "2022-03-29 09:49:13,962 - mmseg - INFO - Iter [87650/160000]\tlr: 4.946e-03, eta: 14:39:31, time: 0.727, data_time: 0.006, memory: 2073, decode.loss_ce: 0.0715, decode.acc_seg: 95.9604, aux_0.loss_ce: 0.0725, aux_0.acc_seg: 95.9612, aux_1.loss_ce: 0.0767, aux_1.acc_seg: 95.7778, aux_2.loss_ce: 0.0334, aux_2.loss_dice: 0.3290, aux_2.acc_seg: 99.2975, loss: 0.5831\n",
      "2022-03-29 09:49:51,209 - mmseg - INFO - Iter [87700/160000]\tlr: 4.943e-03, eta: 14:38:55, time: 0.744, data_time: 0.058, memory: 2073, decode.loss_ce: 0.0758, decode.acc_seg: 95.6673, aux_0.loss_ce: 0.0759, aux_0.acc_seg: 95.5991, aux_1.loss_ce: 0.0785, aux_1.acc_seg: 95.4829, aux_2.loss_ce: 0.0332, aux_2.loss_dice: 0.3221, aux_2.acc_seg: 99.2901, loss: 0.5856\n",
      "2022-03-29 09:50:27,512 - mmseg - INFO - Iter [87750/160000]\tlr: 4.940e-03, eta: 14:38:19, time: 0.726, data_time: 0.006, memory: 2073, decode.loss_ce: 0.0775, decode.acc_seg: 95.4115, aux_0.loss_ce: 0.0791, aux_0.acc_seg: 95.3532, aux_1.loss_ce: 0.0802, aux_1.acc_seg: 95.2023, aux_2.loss_ce: 0.0352, aux_2.loss_dice: 0.3061, aux_2.acc_seg: 99.2450, loss: 0.5781\n",
      "2022-03-29 09:51:03,805 - mmseg - INFO - Iter [87800/160000]\tlr: 4.937e-03, eta: 14:37:42, time: 0.726, data_time: 0.006, memory: 2073, decode.loss_ce: 0.0702, decode.acc_seg: 95.8933, aux_0.loss_ce: 0.0699, aux_0.acc_seg: 95.8764, aux_1.loss_ce: 0.0754, aux_1.acc_seg: 95.6601, aux_2.loss_ce: 0.0315, aux_2.loss_dice: 0.3016, aux_2.acc_seg: 99.3368, loss: 0.5485\n",
      "2022-03-29 09:51:40,234 - mmseg - INFO - Iter [87850/160000]\tlr: 4.934e-03, eta: 14:37:06, time: 0.728, data_time: 0.006, memory: 2073, decode.loss_ce: 0.0601, decode.acc_seg: 96.6868, aux_0.loss_ce: 0.0607, aux_0.acc_seg: 96.7107, aux_1.loss_ce: 0.0636, aux_1.acc_seg: 96.5751, aux_2.loss_ce: 0.0311, aux_2.loss_dice: 0.3108, aux_2.acc_seg: 99.3401, loss: 0.5264\n",
      "2022-03-29 09:52:16,566 - mmseg - INFO - Iter [87900/160000]\tlr: 4.931e-03, eta: 14:36:29, time: 0.727, data_time: 0.006, memory: 2073, decode.loss_ce: 0.0706, decode.acc_seg: 96.0862, aux_0.loss_ce: 0.0696, aux_0.acc_seg: 96.0942, aux_1.loss_ce: 0.0731, aux_1.acc_seg: 95.9135, aux_2.loss_ce: 0.0323, aux_2.loss_dice: 0.3182, aux_2.acc_seg: 99.3158, loss: 0.5636\n",
      "2022-03-29 09:52:52,934 - mmseg - INFO - Iter [87950/160000]\tlr: 4.928e-03, eta: 14:35:53, time: 0.727, data_time: 0.005, memory: 2073, decode.loss_ce: 0.0850, decode.acc_seg: 94.9244, aux_0.loss_ce: 0.0867, aux_0.acc_seg: 94.9448, aux_1.loss_ce: 0.0875, aux_1.acc_seg: 94.7783, aux_2.loss_ce: 0.0364, aux_2.loss_dice: 0.3253, aux_2.acc_seg: 99.2217, loss: 0.6208\n",
      "2022-03-29 09:53:29,261 - mmseg - INFO - Iter [88000/160000]\tlr: 4.925e-03, eta: 14:35:16, time: 0.727, data_time: 0.005, memory: 2073, decode.loss_ce: 0.0708, decode.acc_seg: 95.8237, aux_0.loss_ce: 0.0715, aux_0.acc_seg: 95.8163, aux_1.loss_ce: 0.0748, aux_1.acc_seg: 95.6418, aux_2.loss_ce: 0.0321, aux_2.loss_dice: 0.3042, aux_2.acc_seg: 99.3234, loss: 0.5533\n",
      "2022-03-29 09:53:57,897 - mmseg - INFO - Iter [88050/160000]\tlr: 4.922e-03, eta: 14:34:33, time: 0.573, data_time: 0.006, memory: 2073, decode.loss_ce: 0.0763, decode.acc_seg: 95.6856, aux_0.loss_ce: 0.0770, aux_0.acc_seg: 95.6677, aux_1.loss_ce: 0.0802, aux_1.acc_seg: 95.5627, aux_2.loss_ce: 0.0342, aux_2.loss_dice: 0.3107, aux_2.acc_seg: 99.2847, loss: 0.5785\n",
      "2022-03-29 09:54:34,199 - mmseg - INFO - Iter [88100/160000]\tlr: 4.919e-03, eta: 14:33:56, time: 0.726, data_time: 0.005, memory: 2073, decode.loss_ce: 0.0809, decode.acc_seg: 95.4270, aux_0.loss_ce: 0.0805, aux_0.acc_seg: 95.4167, aux_1.loss_ce: 0.0812, aux_1.acc_seg: 95.3309, aux_2.loss_ce: 0.0355, aux_2.loss_dice: 0.3182, aux_2.acc_seg: 99.2343, loss: 0.5964\n",
      "2022-03-29 09:55:10,480 - mmseg - INFO - Iter [88150/160000]\tlr: 4.916e-03, eta: 14:33:20, time: 0.725, data_time: 0.005, memory: 2073, decode.loss_ce: 0.0738, decode.acc_seg: 95.7932, aux_0.loss_ce: 0.0747, aux_0.acc_seg: 95.7584, aux_1.loss_ce: 0.0763, aux_1.acc_seg: 95.6421, aux_2.loss_ce: 0.0327, aux_2.loss_dice: 0.3059, aux_2.acc_seg: 99.3048, loss: 0.5635\n",
      "2022-03-29 09:55:46,683 - mmseg - INFO - Iter [88200/160000]\tlr: 4.913e-03, eta: 14:32:43, time: 0.725, data_time: 0.006, memory: 2073, decode.loss_ce: 0.0710, decode.acc_seg: 95.8337, aux_0.loss_ce: 0.0713, aux_0.acc_seg: 95.8540, aux_1.loss_ce: 0.0772, aux_1.acc_seg: 95.6827, aux_2.loss_ce: 0.0325, aux_2.loss_dice: 0.3016, aux_2.acc_seg: 99.3120, loss: 0.5536\n",
      "2022-03-29 09:56:22,961 - mmseg - INFO - Iter [88250/160000]\tlr: 4.910e-03, eta: 14:32:07, time: 0.726, data_time: 0.005, memory: 2073, decode.loss_ce: 0.0768, decode.acc_seg: 95.7777, aux_0.loss_ce: 0.0751, aux_0.acc_seg: 95.7578, aux_1.loss_ce: 0.0789, aux_1.acc_seg: 95.5795, aux_2.loss_ce: 0.0331, aux_2.loss_dice: 0.3141, aux_2.acc_seg: 99.3001, loss: 0.5781\n",
      "2022-03-29 09:56:59,258 - mmseg - INFO - Iter [88300/160000]\tlr: 4.907e-03, eta: 14:31:30, time: 0.726, data_time: 0.005, memory: 2073, decode.loss_ce: 0.0709, decode.acc_seg: 95.5157, aux_0.loss_ce: 0.0723, aux_0.acc_seg: 95.5231, aux_1.loss_ce: 0.0741, aux_1.acc_seg: 95.3446, aux_2.loss_ce: 0.0332, aux_2.loss_dice: 0.3187, aux_2.acc_seg: 99.2909, loss: 0.5692\n",
      "2022-03-29 09:57:35,624 - mmseg - INFO - Iter [88350/160000]\tlr: 4.904e-03, eta: 14:30:53, time: 0.727, data_time: 0.005, memory: 2073, decode.loss_ce: 0.0710, decode.acc_seg: 95.9177, aux_0.loss_ce: 0.0714, aux_0.acc_seg: 95.9092, aux_1.loss_ce: 0.0737, aux_1.acc_seg: 95.7405, aux_2.loss_ce: 0.0338, aux_2.loss_dice: 0.3127, aux_2.acc_seg: 99.2762, loss: 0.5626\n"
     ]
    },
    {
     "name": "stderr",
     "output_type": "stream",
     "text": [
      "2022-03-29 09:58:12,126 - mmseg - INFO - Iter [88400/160000]\tlr: 4.901e-03, eta: 14:30:17, time: 0.730, data_time: 0.059, memory: 2073, decode.loss_ce: 0.0885, decode.acc_seg: 95.1391, aux_0.loss_ce: 0.0872, aux_0.acc_seg: 95.1084, aux_1.loss_ce: 0.0904, aux_1.acc_seg: 94.9257, aux_2.loss_ce: 0.0357, aux_2.loss_dice: 0.3322, aux_2.acc_seg: 99.2425, loss: 0.6340\n",
      "2022-03-29 09:58:48,454 - mmseg - INFO - Iter [88450/160000]\tlr: 4.898e-03, eta: 14:29:40, time: 0.727, data_time: 0.005, memory: 2073, decode.loss_ce: 0.0743, decode.acc_seg: 95.8097, aux_0.loss_ce: 0.0762, aux_0.acc_seg: 95.8081, aux_1.loss_ce: 0.0792, aux_1.acc_seg: 95.5982, aux_2.loss_ce: 0.0328, aux_2.loss_dice: 0.3107, aux_2.acc_seg: 99.3192, loss: 0.5731\n",
      "2022-03-29 09:59:24,840 - mmseg - INFO - Iter [88500/160000]\tlr: 4.895e-03, eta: 14:29:04, time: 0.728, data_time: 0.005, memory: 2073, decode.loss_ce: 0.0713, decode.acc_seg: 95.7307, aux_0.loss_ce: 0.0714, aux_0.acc_seg: 95.7701, aux_1.loss_ce: 0.0751, aux_1.acc_seg: 95.6508, aux_2.loss_ce: 0.0331, aux_2.loss_dice: 0.3109, aux_2.acc_seg: 99.3081, loss: 0.5619\n",
      "2022-03-29 10:00:01,170 - mmseg - INFO - Iter [88550/160000]\tlr: 4.892e-03, eta: 14:28:27, time: 0.726, data_time: 0.005, memory: 2073, decode.loss_ce: 0.1010, decode.acc_seg: 94.3306, aux_0.loss_ce: 0.1013, aux_0.acc_seg: 94.3093, aux_1.loss_ce: 0.1036, aux_1.acc_seg: 94.1381, aux_2.loss_ce: 0.0369, aux_2.loss_dice: 0.3156, aux_2.acc_seg: 99.1976, loss: 0.6586\n",
      "2022-03-29 10:00:37,470 - mmseg - INFO - Iter [88600/160000]\tlr: 4.889e-03, eta: 14:27:51, time: 0.726, data_time: 0.005, memory: 2073, decode.loss_ce: 0.0794, decode.acc_seg: 95.4127, aux_0.loss_ce: 0.0806, aux_0.acc_seg: 95.4069, aux_1.loss_ce: 0.0830, aux_1.acc_seg: 95.1801, aux_2.loss_ce: 0.0343, aux_2.loss_dice: 0.3072, aux_2.acc_seg: 99.2595, loss: 0.5845\n",
      "2022-03-29 10:01:13,861 - mmseg - INFO - Iter [88650/160000]\tlr: 4.886e-03, eta: 14:27:14, time: 0.728, data_time: 0.005, memory: 2073, decode.loss_ce: 0.0617, decode.acc_seg: 96.4169, aux_0.loss_ce: 0.0622, aux_0.acc_seg: 96.4226, aux_1.loss_ce: 0.0654, aux_1.acc_seg: 96.3018, aux_2.loss_ce: 0.0305, aux_2.loss_dice: 0.3096, aux_2.acc_seg: 99.3476, loss: 0.5294\n",
      "2022-03-29 10:01:50,225 - mmseg - INFO - Iter [88700/160000]\tlr: 4.883e-03, eta: 14:26:38, time: 0.727, data_time: 0.006, memory: 2073, decode.loss_ce: 0.0702, decode.acc_seg: 96.2370, aux_0.loss_ce: 0.0707, aux_0.acc_seg: 96.1953, aux_1.loss_ce: 0.0722, aux_1.acc_seg: 96.0977, aux_2.loss_ce: 0.0333, aux_2.loss_dice: 0.3325, aux_2.acc_seg: 99.3073, loss: 0.5788\n",
      "2022-03-29 10:02:26,602 - mmseg - INFO - Iter [88750/160000]\tlr: 4.880e-03, eta: 14:26:01, time: 0.728, data_time: 0.006, memory: 2073, decode.loss_ce: 0.0672, decode.acc_seg: 95.8118, aux_0.loss_ce: 0.0673, aux_0.acc_seg: 95.7915, aux_1.loss_ce: 0.0701, aux_1.acc_seg: 95.7229, aux_2.loss_ce: 0.0358, aux_2.loss_dice: 0.3277, aux_2.acc_seg: 99.2060, loss: 0.5682\n",
      "2022-03-29 10:03:02,948 - mmseg - INFO - Iter [88800/160000]\tlr: 4.877e-03, eta: 14:25:25, time: 0.727, data_time: 0.006, memory: 2073, decode.loss_ce: 0.0751, decode.acc_seg: 95.9551, aux_0.loss_ce: 0.0760, aux_0.acc_seg: 95.9253, aux_1.loss_ce: 0.0773, aux_1.acc_seg: 95.8306, aux_2.loss_ce: 0.0335, aux_2.loss_dice: 0.3147, aux_2.acc_seg: 99.2939, loss: 0.5766\n",
      "2022-03-29 10:03:39,238 - mmseg - INFO - Iter [88850/160000]\tlr: 4.874e-03, eta: 14:24:48, time: 0.725, data_time: 0.005, memory: 2073, decode.loss_ce: 0.0802, decode.acc_seg: 95.4045, aux_0.loss_ce: 0.0797, aux_0.acc_seg: 95.3833, aux_1.loss_ce: 0.0823, aux_1.acc_seg: 95.2446, aux_2.loss_ce: 0.0338, aux_2.loss_dice: 0.3240, aux_2.acc_seg: 99.2899, loss: 0.6000\n",
      "2022-03-29 10:04:15,529 - mmseg - INFO - Iter [88900/160000]\tlr: 4.871e-03, eta: 14:24:11, time: 0.726, data_time: 0.006, memory: 2073, decode.loss_ce: 0.0844, decode.acc_seg: 94.8997, aux_0.loss_ce: 0.0860, aux_0.acc_seg: 94.8548, aux_1.loss_ce: 0.0863, aux_1.acc_seg: 94.7328, aux_2.loss_ce: 0.0334, aux_2.loss_dice: 0.3144, aux_2.acc_seg: 99.2950, loss: 0.6044\n",
      "2022-03-29 10:04:51,810 - mmseg - INFO - Iter [88950/160000]\tlr: 4.868e-03, eta: 14:23:35, time: 0.726, data_time: 0.006, memory: 2073, decode.loss_ce: 0.0902, decode.acc_seg: 95.0687, aux_0.loss_ce: 0.0908, aux_0.acc_seg: 95.0527, aux_1.loss_ce: 0.0934, aux_1.acc_seg: 94.9255, aux_2.loss_ce: 0.0368, aux_2.loss_dice: 0.3129, aux_2.acc_seg: 99.1882, loss: 0.6241\n",
      "2022-03-29 10:05:28,255 - mmseg - INFO - Iter [89000/160000]\tlr: 4.865e-03, eta: 14:22:58, time: 0.728, data_time: 0.005, memory: 2073, decode.loss_ce: 0.0774, decode.acc_seg: 95.2856, aux_0.loss_ce: 0.0774, aux_0.acc_seg: 95.2917, aux_1.loss_ce: 0.0814, aux_1.acc_seg: 95.1242, aux_2.loss_ce: 0.0330, aux_2.loss_dice: 0.3261, aux_2.acc_seg: 99.2950, loss: 0.5953\n",
      "2022-03-29 10:06:02,046 - mmseg - INFO - Iter [89050/160000]\tlr: 4.862e-03, eta: 14:22:20, time: 0.676, data_time: 0.006, memory: 2073, decode.loss_ce: 0.0858, decode.acc_seg: 95.2143, aux_0.loss_ce: 0.0829, aux_0.acc_seg: 95.2083, aux_1.loss_ce: 0.0853, aux_1.acc_seg: 95.0277, aux_2.loss_ce: 0.0352, aux_2.loss_dice: 0.3158, aux_2.acc_seg: 99.2415, loss: 0.6050\n",
      "2022-03-29 10:06:41,053 - mmseg - INFO - Iter [89100/160000]\tlr: 4.859e-03, eta: 14:21:45, time: 0.780, data_time: 0.057, memory: 2073, decode.loss_ce: 0.0734, decode.acc_seg: 95.4664, aux_0.loss_ce: 0.0761, aux_0.acc_seg: 95.4624, aux_1.loss_ce: 0.0791, aux_1.acc_seg: 95.2784, aux_2.loss_ce: 0.0355, aux_2.loss_dice: 0.3204, aux_2.acc_seg: 99.2415, loss: 0.5846\n",
      "2022-03-29 10:07:17,372 - mmseg - INFO - Iter [89150/160000]\tlr: 4.856e-03, eta: 14:21:09, time: 0.726, data_time: 0.005, memory: 2073, decode.loss_ce: 0.0797, decode.acc_seg: 95.4087, aux_0.loss_ce: 0.0798, aux_0.acc_seg: 95.3743, aux_1.loss_ce: 0.0817, aux_1.acc_seg: 95.2409, aux_2.loss_ce: 0.0351, aux_2.loss_dice: 0.3196, aux_2.acc_seg: 99.2553, loss: 0.5959\n",
      "2022-03-29 10:07:53,718 - mmseg - INFO - Iter [89200/160000]\tlr: 4.853e-03, eta: 14:20:32, time: 0.727, data_time: 0.005, memory: 2073, decode.loss_ce: 0.0707, decode.acc_seg: 95.8254, aux_0.loss_ce: 0.0711, aux_0.acc_seg: 95.8223, aux_1.loss_ce: 0.0750, aux_1.acc_seg: 95.6755, aux_2.loss_ce: 0.0342, aux_2.loss_dice: 0.3209, aux_2.acc_seg: 99.2709, loss: 0.5719\n",
      "2022-03-29 10:08:30,093 - mmseg - INFO - Iter [89250/160000]\tlr: 4.850e-03, eta: 14:19:56, time: 0.727, data_time: 0.005, memory: 2073, decode.loss_ce: 0.0822, decode.acc_seg: 95.4051, aux_0.loss_ce: 0.0835, aux_0.acc_seg: 95.3717, aux_1.loss_ce: 0.0862, aux_1.acc_seg: 95.2087, aux_2.loss_ce: 0.0338, aux_2.loss_dice: 0.3264, aux_2.acc_seg: 99.2828, loss: 0.6121\n",
      "2022-03-29 10:09:06,404 - mmseg - INFO - Iter [89300/160000]\tlr: 4.847e-03, eta: 14:19:19, time: 0.726, data_time: 0.006, memory: 2073, decode.loss_ce: 0.0756, decode.acc_seg: 95.4867, aux_0.loss_ce: 0.0764, aux_0.acc_seg: 95.4875, aux_1.loss_ce: 0.0784, aux_1.acc_seg: 95.3467, aux_2.loss_ce: 0.0350, aux_2.loss_dice: 0.3108, aux_2.acc_seg: 99.2436, loss: 0.5763\n",
      "2022-03-29 10:09:42,777 - mmseg - INFO - Iter [89350/160000]\tlr: 4.844e-03, eta: 14:18:42, time: 0.727, data_time: 0.006, memory: 2073, decode.loss_ce: 0.0900, decode.acc_seg: 95.2006, aux_0.loss_ce: 0.0902, aux_0.acc_seg: 95.1601, aux_1.loss_ce: 0.0939, aux_1.acc_seg: 94.9657, aux_2.loss_ce: 0.0363, aux_2.loss_dice: 0.3259, aux_2.acc_seg: 99.2215, loss: 0.6362\n",
      "2022-03-29 10:10:19,083 - mmseg - INFO - Iter [89400/160000]\tlr: 4.841e-03, eta: 14:18:06, time: 0.726, data_time: 0.006, memory: 2073, decode.loss_ce: 0.0722, decode.acc_seg: 95.7289, aux_0.loss_ce: 0.0716, aux_0.acc_seg: 95.7438, aux_1.loss_ce: 0.0763, aux_1.acc_seg: 95.5508, aux_2.loss_ce: 0.0320, aux_2.loss_dice: 0.3179, aux_2.acc_seg: 99.3282, loss: 0.5700\n",
      "2022-03-29 10:10:55,347 - mmseg - INFO - Iter [89450/160000]\tlr: 4.838e-03, eta: 14:17:29, time: 0.726, data_time: 0.006, memory: 2073, decode.loss_ce: 0.0879, decode.acc_seg: 95.0237, aux_0.loss_ce: 0.0882, aux_0.acc_seg: 95.0304, aux_1.loss_ce: 0.0885, aux_1.acc_seg: 94.8754, aux_2.loss_ce: 0.0349, aux_2.loss_dice: 0.3187, aux_2.acc_seg: 99.2451, loss: 0.6183\n",
      "2022-03-29 10:11:31,653 - mmseg - INFO - Iter [89500/160000]\tlr: 4.835e-03, eta: 14:16:53, time: 0.726, data_time: 0.006, memory: 2073, decode.loss_ce: 0.0723, decode.acc_seg: 95.9182, aux_0.loss_ce: 0.0735, aux_0.acc_seg: 95.9285, aux_1.loss_ce: 0.0761, aux_1.acc_seg: 95.7441, aux_2.loss_ce: 0.0339, aux_2.loss_dice: 0.3184, aux_2.acc_seg: 99.2750, loss: 0.5741\n"
     ]
    },
    {
     "name": "stderr",
     "output_type": "stream",
     "text": [
      "2022-03-29 10:12:07,914 - mmseg - INFO - Iter [89550/160000]\tlr: 4.832e-03, eta: 14:16:16, time: 0.725, data_time: 0.006, memory: 2073, decode.loss_ce: 0.0724, decode.acc_seg: 95.9256, aux_0.loss_ce: 0.0737, aux_0.acc_seg: 95.8826, aux_1.loss_ce: 0.0786, aux_1.acc_seg: 95.7182, aux_2.loss_ce: 0.0325, aux_2.loss_dice: 0.3009, aux_2.acc_seg: 99.3245, loss: 0.5581\n",
      "2022-03-29 10:12:44,299 - mmseg - INFO - Iter [89600/160000]\tlr: 4.829e-03, eta: 14:15:39, time: 0.728, data_time: 0.006, memory: 2073, decode.loss_ce: 0.0763, decode.acc_seg: 95.3327, aux_0.loss_ce: 0.0758, aux_0.acc_seg: 95.2806, aux_1.loss_ce: 0.0810, aux_1.acc_seg: 94.9495, aux_2.loss_ce: 0.0343, aux_2.loss_dice: 0.3202, aux_2.acc_seg: 99.2785, loss: 0.5875\n",
      "2022-03-29 10:13:20,595 - mmseg - INFO - Iter [89650/160000]\tlr: 4.826e-03, eta: 14:15:03, time: 0.726, data_time: 0.006, memory: 2073, decode.loss_ce: 0.0824, decode.acc_seg: 95.4625, aux_0.loss_ce: 0.0833, aux_0.acc_seg: 95.4202, aux_1.loss_ce: 0.0854, aux_1.acc_seg: 95.2782, aux_2.loss_ce: 0.0351, aux_2.loss_dice: 0.3069, aux_2.acc_seg: 99.2632, loss: 0.5931\n",
      "2022-03-29 10:13:54,260 - mmseg - INFO - Iter [89700/160000]\tlr: 4.823e-03, eta: 14:14:24, time: 0.673, data_time: 0.006, memory: 2073, decode.loss_ce: 0.0614, decode.acc_seg: 96.3893, aux_0.loss_ce: 0.0621, aux_0.acc_seg: 96.3776, aux_1.loss_ce: 0.0654, aux_1.acc_seg: 96.2530, aux_2.loss_ce: 0.0328, aux_2.loss_dice: 0.3002, aux_2.acc_seg: 99.3106, loss: 0.5218\n",
      "2022-03-29 10:14:30,571 - mmseg - INFO - Iter [89750/160000]\tlr: 4.820e-03, eta: 14:13:48, time: 0.726, data_time: 0.005, memory: 2073, decode.loss_ce: 0.0621, decode.acc_seg: 96.3465, aux_0.loss_ce: 0.0627, aux_0.acc_seg: 96.3403, aux_1.loss_ce: 0.0647, aux_1.acc_seg: 96.1901, aux_2.loss_ce: 0.0331, aux_2.loss_dice: 0.3165, aux_2.acc_seg: 99.2908, loss: 0.5391\n",
      "2022-03-29 10:15:09,469 - mmseg - INFO - Iter [89800/160000]\tlr: 4.817e-03, eta: 14:13:13, time: 0.778, data_time: 0.058, memory: 2073, decode.loss_ce: 0.0816, decode.acc_seg: 95.6154, aux_0.loss_ce: 0.0807, aux_0.acc_seg: 95.6376, aux_1.loss_ce: 0.0857, aux_1.acc_seg: 95.4618, aux_2.loss_ce: 0.0338, aux_2.loss_dice: 0.3163, aux_2.acc_seg: 99.2853, loss: 0.5982\n",
      "2022-03-29 10:15:45,764 - mmseg - INFO - Iter [89850/160000]\tlr: 4.814e-03, eta: 14:12:36, time: 0.725, data_time: 0.005, memory: 2073, decode.loss_ce: 0.0623, decode.acc_seg: 96.3257, aux_0.loss_ce: 0.0630, aux_0.acc_seg: 96.2950, aux_1.loss_ce: 0.0635, aux_1.acc_seg: 96.1761, aux_2.loss_ce: 0.0320, aux_2.loss_dice: 0.3053, aux_2.acc_seg: 99.3442, loss: 0.5261\n",
      "2022-03-29 10:16:22,028 - mmseg - INFO - Iter [89900/160000]\tlr: 4.811e-03, eta: 14:12:00, time: 0.726, data_time: 0.006, memory: 2073, decode.loss_ce: 0.0741, decode.acc_seg: 95.9538, aux_0.loss_ce: 0.0738, aux_0.acc_seg: 95.9552, aux_1.loss_ce: 0.0779, aux_1.acc_seg: 95.7757, aux_2.loss_ce: 0.0332, aux_2.loss_dice: 0.3171, aux_2.acc_seg: 99.2910, loss: 0.5761\n",
      "2022-03-29 10:16:58,398 - mmseg - INFO - Iter [89950/160000]\tlr: 4.808e-03, eta: 14:11:23, time: 0.728, data_time: 0.006, memory: 2073, decode.loss_ce: 0.0867, decode.acc_seg: 95.0885, aux_0.loss_ce: 0.0887, aux_0.acc_seg: 95.0661, aux_1.loss_ce: 0.0898, aux_1.acc_seg: 94.8750, aux_2.loss_ce: 0.0347, aux_2.loss_dice: 0.3257, aux_2.acc_seg: 99.2737, loss: 0.6256\n",
      "2022-03-29 10:17:34,629 - mmseg - INFO - Saving checkpoint at 90000 iterations\n",
      "2022-03-29 10:17:34,840 - mmseg - INFO - Iter [90000/160000]\tlr: 4.805e-03, eta: 14:10:47, time: 0.730, data_time: 0.005, memory: 2073, decode.loss_ce: 0.0692, decode.acc_seg: 95.8950, aux_0.loss_ce: 0.0676, aux_0.acc_seg: 95.8895, aux_1.loss_ce: 0.0726, aux_1.acc_seg: 95.7532, aux_2.loss_ce: 0.0316, aux_2.loss_dice: 0.3134, aux_2.acc_seg: 99.3372, loss: 0.5544\n"
     ]
    },
    {
     "name": "stdout",
     "output_type": "stream",
     "text": [
      "[>>>>>>>>>>>>>>>>>>>>>>>>>>>>>] 610/610, 26.7 task/s, elapsed: 23s, ETA:     0s"
     ]
    },
    {
     "name": "stderr",
     "output_type": "stream",
     "text": [
      "2022-03-29 10:17:57,736 - mmseg - INFO - per class results:\n",
      "2022-03-29 10:17:57,737 - mmseg - INFO - \n",
      "+------------+-------+-------+\n",
      "|   Class    |  IoU  |  Acc  |\n",
      "+------------+-------+-------+\n",
      "| background | 97.19 | 99.39 |\n",
      "|   human    | 52.68 | 58.58 |\n",
      "+------------+-------+-------+\n",
      "2022-03-29 10:17:57,737 - mmseg - INFO - Summary:\n",
      "2022-03-29 10:17:57,737 - mmseg - INFO - \n",
      "+-------+-------+-------+\n",
      "|  aAcc |  mIoU |  mAcc |\n",
      "+-------+-------+-------+\n",
      "| 97.28 | 74.94 | 78.98 |\n",
      "+-------+-------+-------+\n",
      "2022-03-29 10:17:57,739 - mmseg - INFO - Iter(val) [610]\taAcc: 0.9728, mIoU: 0.7494, mAcc: 0.7898, IoU.background: 0.9719, IoU.human: 0.5268, Acc.background: 0.9939, Acc.human: 0.5858\n",
      "2022-03-29 10:18:34,096 - mmseg - INFO - Iter [90050/160000]\tlr: 4.802e-03, eta: 14:10:28, time: 1.184, data_time: 0.462, memory: 2073, decode.loss_ce: 0.0762, decode.acc_seg: 95.7492, aux_0.loss_ce: 0.0753, aux_0.acc_seg: 95.7429, aux_1.loss_ce: 0.0796, aux_1.acc_seg: 95.5488, aux_2.loss_ce: 0.0345, aux_2.loss_dice: 0.3284, aux_2.acc_seg: 99.2731, loss: 0.5940\n",
      "2022-03-29 10:19:10,379 - mmseg - INFO - Iter [90100/160000]\tlr: 4.799e-03, eta: 14:09:51, time: 0.726, data_time: 0.006, memory: 2073, decode.loss_ce: 0.0921, decode.acc_seg: 94.9624, aux_0.loss_ce: 0.0930, aux_0.acc_seg: 94.9546, aux_1.loss_ce: 0.0935, aux_1.acc_seg: 94.8417, aux_2.loss_ce: 0.0367, aux_2.loss_dice: 0.3213, aux_2.acc_seg: 99.2290, loss: 0.6366\n",
      "2022-03-29 10:19:46,718 - mmseg - INFO - Iter [90150/160000]\tlr: 4.796e-03, eta: 14:09:15, time: 0.727, data_time: 0.006, memory: 2073, decode.loss_ce: 0.0794, decode.acc_seg: 95.1850, aux_0.loss_ce: 0.0802, aux_0.acc_seg: 95.2105, aux_1.loss_ce: 0.0834, aux_1.acc_seg: 95.0013, aux_2.loss_ce: 0.0352, aux_2.loss_dice: 0.3275, aux_2.acc_seg: 99.2504, loss: 0.6058\n",
      "2022-03-29 10:20:23,005 - mmseg - INFO - Iter [90200/160000]\tlr: 4.792e-03, eta: 14:08:38, time: 0.726, data_time: 0.005, memory: 2073, decode.loss_ce: 0.0756, decode.acc_seg: 95.5672, aux_0.loss_ce: 0.0753, aux_0.acc_seg: 95.5777, aux_1.loss_ce: 0.0784, aux_1.acc_seg: 95.4329, aux_2.loss_ce: 0.0334, aux_2.loss_dice: 0.3076, aux_2.acc_seg: 99.2877, loss: 0.5703\n",
      "2022-03-29 10:20:59,368 - mmseg - INFO - Iter [90250/160000]\tlr: 4.789e-03, eta: 14:08:02, time: 0.727, data_time: 0.005, memory: 2073, decode.loss_ce: 0.0728, decode.acc_seg: 95.9291, aux_0.loss_ce: 0.0733, aux_0.acc_seg: 95.8992, aux_1.loss_ce: 0.0762, aux_1.acc_seg: 95.7393, aux_2.loss_ce: 0.0336, aux_2.loss_dice: 0.2973, aux_2.acc_seg: 99.2866, loss: 0.5531\n",
      "2022-03-29 10:21:33,051 - mmseg - INFO - Iter [90300/160000]\tlr: 4.786e-03, eta: 14:07:23, time: 0.674, data_time: 0.006, memory: 2073, decode.loss_ce: 0.0690, decode.acc_seg: 96.0230, aux_0.loss_ce: 0.0684, aux_0.acc_seg: 96.0018, aux_1.loss_ce: 0.0689, aux_1.acc_seg: 95.8226, aux_2.loss_ce: 0.0332, aux_2.loss_dice: 0.3022, aux_2.acc_seg: 99.2842, loss: 0.5418\n",
      "2022-03-29 10:22:09,371 - mmseg - INFO - Iter [90350/160000]\tlr: 4.783e-03, eta: 14:06:47, time: 0.727, data_time: 0.006, memory: 2073, decode.loss_ce: 0.0685, decode.acc_seg: 95.7498, aux_0.loss_ce: 0.0700, aux_0.acc_seg: 95.7704, aux_1.loss_ce: 0.0751, aux_1.acc_seg: 95.6423, aux_2.loss_ce: 0.0343, aux_2.loss_dice: 0.2962, aux_2.acc_seg: 99.2486, loss: 0.5441\n",
      "2022-03-29 10:22:45,756 - mmseg - INFO - Iter [90400/160000]\tlr: 4.780e-03, eta: 14:06:10, time: 0.727, data_time: 0.005, memory: 2073, decode.loss_ce: 0.0779, decode.acc_seg: 95.5983, aux_0.loss_ce: 0.0783, aux_0.acc_seg: 95.5640, aux_1.loss_ce: 0.0802, aux_1.acc_seg: 95.4179, aux_2.loss_ce: 0.0328, aux_2.loss_dice: 0.3025, aux_2.acc_seg: 99.3041, loss: 0.5717\n",
      "2022-03-29 10:23:22,117 - mmseg - INFO - Iter [90450/160000]\tlr: 4.777e-03, eta: 14:05:33, time: 0.727, data_time: 0.006, memory: 2073, decode.loss_ce: 0.0623, decode.acc_seg: 96.2421, aux_0.loss_ce: 0.0638, aux_0.acc_seg: 96.2414, aux_1.loss_ce: 0.0661, aux_1.acc_seg: 96.0972, aux_2.loss_ce: 0.0320, aux_2.loss_dice: 0.3171, aux_2.acc_seg: 99.3199, loss: 0.5414\n",
      "2022-03-29 10:24:01,004 - mmseg - INFO - Iter [90500/160000]\tlr: 4.774e-03, eta: 14:04:59, time: 0.778, data_time: 0.058, memory: 2073, decode.loss_ce: 0.0681, decode.acc_seg: 96.1105, aux_0.loss_ce: 0.0692, aux_0.acc_seg: 96.0804, aux_1.loss_ce: 0.0720, aux_1.acc_seg: 96.0027, aux_2.loss_ce: 0.0314, aux_2.loss_dice: 0.3019, aux_2.acc_seg: 99.3289, loss: 0.5428\n",
      "2022-03-29 10:24:37,323 - mmseg - INFO - Iter [90550/160000]\tlr: 4.771e-03, eta: 14:04:22, time: 0.726, data_time: 0.006, memory: 2073, decode.loss_ce: 0.0794, decode.acc_seg: 95.4627, aux_0.loss_ce: 0.0782, aux_0.acc_seg: 95.4432, aux_1.loss_ce: 0.0821, aux_1.acc_seg: 95.2152, aux_2.loss_ce: 0.0377, aux_2.loss_dice: 0.3258, aux_2.acc_seg: 99.1938, loss: 0.6032\n",
      "2022-03-29 10:25:13,590 - mmseg - INFO - Iter [90600/160000]\tlr: 4.768e-03, eta: 14:03:46, time: 0.725, data_time: 0.005, memory: 2073, decode.loss_ce: 0.0799, decode.acc_seg: 95.5781, aux_0.loss_ce: 0.0810, aux_0.acc_seg: 95.5474, aux_1.loss_ce: 0.0822, aux_1.acc_seg: 95.3927, aux_2.loss_ce: 0.0340, aux_2.loss_dice: 0.3399, aux_2.acc_seg: 99.2908, loss: 0.6170\n",
      "2022-03-29 10:25:50,010 - mmseg - INFO - Iter [90650/160000]\tlr: 4.765e-03, eta: 14:03:09, time: 0.728, data_time: 0.006, memory: 2073, decode.loss_ce: 0.0741, decode.acc_seg: 95.5036, aux_0.loss_ce: 0.0754, aux_0.acc_seg: 95.4699, aux_1.loss_ce: 0.0785, aux_1.acc_seg: 95.3450, aux_2.loss_ce: 0.0355, aux_2.loss_dice: 0.3189, aux_2.acc_seg: 99.3003, loss: 0.5825\n",
      "2022-03-29 10:26:26,286 - mmseg - INFO - Iter [90700/160000]\tlr: 4.762e-03, eta: 14:02:32, time: 0.726, data_time: 0.006, memory: 2073, decode.loss_ce: 0.0905, decode.acc_seg: 95.0789, aux_0.loss_ce: 0.0919, aux_0.acc_seg: 95.0821, aux_1.loss_ce: 0.0901, aux_1.acc_seg: 94.9684, aux_2.loss_ce: 0.0351, aux_2.loss_dice: 0.3129, aux_2.acc_seg: 99.2704, loss: 0.6205\n",
      "2022-03-29 10:27:02,612 - mmseg - INFO - Iter [90750/160000]\tlr: 4.759e-03, eta: 14:01:56, time: 0.727, data_time: 0.005, memory: 2073, decode.loss_ce: 0.0676, decode.acc_seg: 95.9830, aux_0.loss_ce: 0.0656, aux_0.acc_seg: 96.0010, aux_1.loss_ce: 0.0711, aux_1.acc_seg: 95.8633, aux_2.loss_ce: 0.0337, aux_2.loss_dice: 0.3158, aux_2.acc_seg: 99.2935, loss: 0.5538\n",
      "2022-03-29 10:27:38,917 - mmseg - INFO - Iter [90800/160000]\tlr: 4.756e-03, eta: 14:01:19, time: 0.726, data_time: 0.005, memory: 2073, decode.loss_ce: 0.0715, decode.acc_seg: 96.1019, aux_0.loss_ce: 0.0731, aux_0.acc_seg: 96.0820, aux_1.loss_ce: 0.0749, aux_1.acc_seg: 95.9238, aux_2.loss_ce: 0.0331, aux_2.loss_dice: 0.3104, aux_2.acc_seg: 99.2857, loss: 0.5630\n",
      "2022-03-29 10:28:15,270 - mmseg - INFO - Iter [90850/160000]\tlr: 4.753e-03, eta: 14:00:43, time: 0.727, data_time: 0.005, memory: 2073, decode.loss_ce: 0.0778, decode.acc_seg: 95.4156, aux_0.loss_ce: 0.0780, aux_0.acc_seg: 95.4154, aux_1.loss_ce: 0.0803, aux_1.acc_seg: 95.3147, aux_2.loss_ce: 0.0340, aux_2.loss_dice: 0.3043, aux_2.acc_seg: 99.2812, loss: 0.5744\n",
      "2022-03-29 10:28:51,657 - mmseg - INFO - Iter [90900/160000]\tlr: 4.750e-03, eta: 14:00:06, time: 0.728, data_time: 0.005, memory: 2073, decode.loss_ce: 0.0847, decode.acc_seg: 95.0264, aux_0.loss_ce: 0.0857, aux_0.acc_seg: 95.0517, aux_1.loss_ce: 0.0883, aux_1.acc_seg: 94.9757, aux_2.loss_ce: 0.0333, aux_2.loss_dice: 0.3154, aux_2.acc_seg: 99.2945, loss: 0.6075\n",
      "2022-03-29 10:29:25,281 - mmseg - INFO - Iter [90950/160000]\tlr: 4.747e-03, eta: 13:59:27, time: 0.672, data_time: 0.006, memory: 2073, decode.loss_ce: 0.0709, decode.acc_seg: 96.0091, aux_0.loss_ce: 0.0691, aux_0.acc_seg: 96.0044, aux_1.loss_ce: 0.0695, aux_1.acc_seg: 95.8557, aux_2.loss_ce: 0.0328, aux_2.loss_dice: 0.3132, aux_2.acc_seg: 99.3175, loss: 0.5556\n",
      "2022-03-29 10:30:01,614 - mmseg - INFO - Iter [91000/160000]\tlr: 4.744e-03, eta: 13:58:51, time: 0.727, data_time: 0.006, memory: 2073, decode.loss_ce: 0.0812, decode.acc_seg: 95.1918, aux_0.loss_ce: 0.0823, aux_0.acc_seg: 95.1984, aux_1.loss_ce: 0.0844, aux_1.acc_seg: 95.0250, aux_2.loss_ce: 0.0335, aux_2.loss_dice: 0.3163, aux_2.acc_seg: 99.2965, loss: 0.5978\n",
      "2022-03-29 10:30:37,916 - mmseg - INFO - Iter [91050/160000]\tlr: 4.741e-03, eta: 13:58:14, time: 0.726, data_time: 0.005, memory: 2073, decode.loss_ce: 0.0669, decode.acc_seg: 96.0519, aux_0.loss_ce: 0.0678, aux_0.acc_seg: 96.0113, aux_1.loss_ce: 0.0716, aux_1.acc_seg: 95.8571, aux_2.loss_ce: 0.0311, aux_2.loss_dice: 0.3086, aux_2.acc_seg: 99.3522, loss: 0.5460\n"
     ]
    },
    {
     "name": "stderr",
     "output_type": "stream",
     "text": [
      "2022-03-29 10:31:14,194 - mmseg - INFO - Iter [91100/160000]\tlr: 4.738e-03, eta: 13:57:38, time: 0.725, data_time: 0.005, memory: 2073, decode.loss_ce: 0.0871, decode.acc_seg: 95.1110, aux_0.loss_ce: 0.0881, aux_0.acc_seg: 95.1009, aux_1.loss_ce: 0.0905, aux_1.acc_seg: 94.9573, aux_2.loss_ce: 0.0349, aux_2.loss_dice: 0.3263, aux_2.acc_seg: 99.2769, loss: 0.6269\n",
      "2022-03-29 10:31:50,548 - mmseg - INFO - Iter [91150/160000]\tlr: 4.735e-03, eta: 13:57:01, time: 0.728, data_time: 0.006, memory: 2073, decode.loss_ce: 0.0855, decode.acc_seg: 95.2059, aux_0.loss_ce: 0.0872, aux_0.acc_seg: 95.1895, aux_1.loss_ce: 0.0896, aux_1.acc_seg: 95.0596, aux_2.loss_ce: 0.0346, aux_2.loss_dice: 0.3364, aux_2.acc_seg: 99.2699, loss: 0.6333\n",
      "2022-03-29 10:32:29,424 - mmseg - INFO - Iter [91200/160000]\tlr: 4.732e-03, eta: 13:56:26, time: 0.778, data_time: 0.056, memory: 2073, decode.loss_ce: 0.0826, decode.acc_seg: 95.5061, aux_0.loss_ce: 0.0813, aux_0.acc_seg: 95.5268, aux_1.loss_ce: 0.0832, aux_1.acc_seg: 95.3531, aux_2.loss_ce: 0.0350, aux_2.loss_dice: 0.3256, aux_2.acc_seg: 99.2539, loss: 0.6077\n",
      "2022-03-29 10:33:05,816 - mmseg - INFO - Iter [91250/160000]\tlr: 4.729e-03, eta: 13:55:50, time: 0.728, data_time: 0.005, memory: 2073, decode.loss_ce: 0.0750, decode.acc_seg: 95.5986, aux_0.loss_ce: 0.0760, aux_0.acc_seg: 95.6106, aux_1.loss_ce: 0.0770, aux_1.acc_seg: 95.5138, aux_2.loss_ce: 0.0338, aux_2.loss_dice: 0.3342, aux_2.acc_seg: 99.2904, loss: 0.5959\n",
      "2022-03-29 10:33:42,200 - mmseg - INFO - Iter [91300/160000]\tlr: 4.726e-03, eta: 13:55:13, time: 0.728, data_time: 0.006, memory: 2073, decode.loss_ce: 0.0786, decode.acc_seg: 95.3516, aux_0.loss_ce: 0.0788, aux_0.acc_seg: 95.3437, aux_1.loss_ce: 0.0821, aux_1.acc_seg: 95.1970, aux_2.loss_ce: 0.0357, aux_2.loss_dice: 0.3165, aux_2.acc_seg: 99.2408, loss: 0.5917\n",
      "2022-03-29 10:34:18,557 - mmseg - INFO - Iter [91350/160000]\tlr: 4.723e-03, eta: 13:54:37, time: 0.727, data_time: 0.006, memory: 2073, decode.loss_ce: 0.0805, decode.acc_seg: 95.4962, aux_0.loss_ce: 0.0799, aux_0.acc_seg: 95.4862, aux_1.loss_ce: 0.0825, aux_1.acc_seg: 95.3579, aux_2.loss_ce: 0.0346, aux_2.loss_dice: 0.3253, aux_2.acc_seg: 99.2640, loss: 0.6027\n",
      "2022-03-29 10:34:54,942 - mmseg - INFO - Iter [91400/160000]\tlr: 4.720e-03, eta: 13:54:00, time: 0.728, data_time: 0.006, memory: 2073, decode.loss_ce: 0.0684, decode.acc_seg: 95.9053, aux_0.loss_ce: 0.0689, aux_0.acc_seg: 95.8794, aux_1.loss_ce: 0.0697, aux_1.acc_seg: 95.7743, aux_2.loss_ce: 0.0306, aux_2.loss_dice: 0.3083, aux_2.acc_seg: 99.3549, loss: 0.5459\n",
      "2022-03-29 10:35:31,312 - mmseg - INFO - Iter [91450/160000]\tlr: 4.717e-03, eta: 13:53:24, time: 0.727, data_time: 0.006, memory: 2073, decode.loss_ce: 0.0831, decode.acc_seg: 95.2035, aux_0.loss_ce: 0.0828, aux_0.acc_seg: 95.2126, aux_1.loss_ce: 0.0884, aux_1.acc_seg: 95.0137, aux_2.loss_ce: 0.0349, aux_2.loss_dice: 0.3181, aux_2.acc_seg: 99.2669, loss: 0.6073\n",
      "2022-03-29 10:36:07,641 - mmseg - INFO - Iter [91500/160000]\tlr: 4.714e-03, eta: 13:52:47, time: 0.727, data_time: 0.006, memory: 2073, decode.loss_ce: 0.0688, decode.acc_seg: 96.1073, aux_0.loss_ce: 0.0698, aux_0.acc_seg: 96.1019, aux_1.loss_ce: 0.0704, aux_1.acc_seg: 95.9392, aux_2.loss_ce: 0.0338, aux_2.loss_dice: 0.3101, aux_2.acc_seg: 99.2820, loss: 0.5530\n",
      "2022-03-29 10:36:43,539 - mmseg - INFO - Iter [91550/160000]\tlr: 4.711e-03, eta: 13:52:10, time: 0.718, data_time: 0.005, memory: 2073, decode.loss_ce: 0.0756, decode.acc_seg: 95.6529, aux_0.loss_ce: 0.0755, aux_0.acc_seg: 95.6525, aux_1.loss_ce: 0.0780, aux_1.acc_seg: 95.5603, aux_2.loss_ce: 0.0332, aux_2.loss_dice: 0.3263, aux_2.acc_seg: 99.2983, loss: 0.5886\n",
      "2022-03-29 10:37:17,707 - mmseg - INFO - Iter [91600/160000]\tlr: 4.708e-03, eta: 13:51:32, time: 0.683, data_time: 0.005, memory: 2073, decode.loss_ce: 0.0848, decode.acc_seg: 95.2671, aux_0.loss_ce: 0.0853, aux_0.acc_seg: 95.2162, aux_1.loss_ce: 0.0872, aux_1.acc_seg: 95.0558, aux_2.loss_ce: 0.0348, aux_2.loss_dice: 0.3185, aux_2.acc_seg: 99.2642, loss: 0.6106\n",
      "2022-03-29 10:37:54,103 - mmseg - INFO - Iter [91650/160000]\tlr: 4.705e-03, eta: 13:50:56, time: 0.728, data_time: 0.005, memory: 2073, decode.loss_ce: 0.0809, decode.acc_seg: 95.1445, aux_0.loss_ce: 0.0802, aux_0.acc_seg: 95.1699, aux_1.loss_ce: 0.0849, aux_1.acc_seg: 94.9729, aux_2.loss_ce: 0.0361, aux_2.loss_dice: 0.3233, aux_2.acc_seg: 99.2379, loss: 0.6054\n",
      "2022-03-29 10:38:30,443 - mmseg - INFO - Iter [91700/160000]\tlr: 4.702e-03, eta: 13:50:19, time: 0.727, data_time: 0.006, memory: 2073, decode.loss_ce: 0.0809, decode.acc_seg: 95.5689, aux_0.loss_ce: 0.0824, aux_0.acc_seg: 95.5720, aux_1.loss_ce: 0.0858, aux_1.acc_seg: 95.3745, aux_2.loss_ce: 0.0331, aux_2.loss_dice: 0.3221, aux_2.acc_seg: 99.3184, loss: 0.6043\n",
      "2022-03-29 10:39:06,802 - mmseg - INFO - Iter [91750/160000]\tlr: 4.699e-03, eta: 13:49:42, time: 0.727, data_time: 0.005, memory: 2073, decode.loss_ce: 0.0738, decode.acc_seg: 95.5457, aux_0.loss_ce: 0.0737, aux_0.acc_seg: 95.5198, aux_1.loss_ce: 0.0759, aux_1.acc_seg: 95.4408, aux_2.loss_ce: 0.0353, aux_2.loss_dice: 0.3298, aux_2.acc_seg: 99.2527, loss: 0.5886\n",
      "2022-03-29 10:39:43,124 - mmseg - INFO - Iter [91800/160000]\tlr: 4.696e-03, eta: 13:49:06, time: 0.726, data_time: 0.005, memory: 2073, decode.loss_ce: 0.0814, decode.acc_seg: 95.5230, aux_0.loss_ce: 0.0811, aux_0.acc_seg: 95.4611, aux_1.loss_ce: 0.0815, aux_1.acc_seg: 95.3069, aux_2.loss_ce: 0.0317, aux_2.loss_dice: 0.3272, aux_2.acc_seg: 99.3367, loss: 0.6029\n",
      "2022-03-29 10:40:19,488 - mmseg - INFO - Iter [91850/160000]\tlr: 4.693e-03, eta: 13:48:29, time: 0.727, data_time: 0.006, memory: 2073, decode.loss_ce: 0.0746, decode.acc_seg: 95.6004, aux_0.loss_ce: 0.0754, aux_0.acc_seg: 95.5957, aux_1.loss_ce: 0.0778, aux_1.acc_seg: 95.4908, aux_2.loss_ce: 0.0326, aux_2.loss_dice: 0.3067, aux_2.acc_seg: 99.3222, loss: 0.5671\n",
      "2022-03-29 10:40:58,403 - mmseg - INFO - Iter [91900/160000]\tlr: 4.689e-03, eta: 13:47:55, time: 0.778, data_time: 0.060, memory: 2073, decode.loss_ce: 0.0698, decode.acc_seg: 95.8130, aux_0.loss_ce: 0.0709, aux_0.acc_seg: 95.8585, aux_1.loss_ce: 0.0724, aux_1.acc_seg: 95.7246, aux_2.loss_ce: 0.0342, aux_2.loss_dice: 0.2991, aux_2.acc_seg: 99.2720, loss: 0.5463\n",
      "2022-03-29 10:41:34,770 - mmseg - INFO - Iter [91950/160000]\tlr: 4.686e-03, eta: 13:47:18, time: 0.727, data_time: 0.005, memory: 2073, decode.loss_ce: 0.0827, decode.acc_seg: 95.1291, aux_0.loss_ce: 0.0821, aux_0.acc_seg: 95.0826, aux_1.loss_ce: 0.0843, aux_1.acc_seg: 94.9599, aux_2.loss_ce: 0.0323, aux_2.loss_dice: 0.3241, aux_2.acc_seg: 99.3191, loss: 0.6055\n",
      "2022-03-29 10:42:11,023 - mmseg - INFO - Iter [92000/160000]\tlr: 4.683e-03, eta: 13:46:41, time: 0.725, data_time: 0.006, memory: 2073, decode.loss_ce: 0.0683, decode.acc_seg: 96.0143, aux_0.loss_ce: 0.0687, aux_0.acc_seg: 96.0339, aux_1.loss_ce: 0.0723, aux_1.acc_seg: 95.9037, aux_2.loss_ce: 0.0315, aux_2.loss_dice: 0.3007, aux_2.acc_seg: 99.3368, loss: 0.5415\n",
      "2022-03-29 10:42:47,358 - mmseg - INFO - Iter [92050/160000]\tlr: 4.680e-03, eta: 13:46:05, time: 0.726, data_time: 0.005, memory: 2073, decode.loss_ce: 0.0760, decode.acc_seg: 95.9080, aux_0.loss_ce: 0.0769, aux_0.acc_seg: 95.8952, aux_1.loss_ce: 0.0789, aux_1.acc_seg: 95.6902, aux_2.loss_ce: 0.0343, aux_2.loss_dice: 0.3297, aux_2.acc_seg: 99.2636, loss: 0.5958\n",
      "2022-03-29 10:43:23,671 - mmseg - INFO - Iter [92100/160000]\tlr: 4.677e-03, eta: 13:45:28, time: 0.726, data_time: 0.006, memory: 2073, decode.loss_ce: 0.0910, decode.acc_seg: 94.9671, aux_0.loss_ce: 0.0909, aux_0.acc_seg: 94.9590, aux_1.loss_ce: 0.0947, aux_1.acc_seg: 94.8163, aux_2.loss_ce: 0.0363, aux_2.loss_dice: 0.3139, aux_2.acc_seg: 99.2366, loss: 0.6268\n",
      "2022-03-29 10:43:59,895 - mmseg - INFO - Iter [92150/160000]\tlr: 4.674e-03, eta: 13:44:52, time: 0.725, data_time: 0.006, memory: 2073, decode.loss_ce: 0.0732, decode.acc_seg: 95.5814, aux_0.loss_ce: 0.0739, aux_0.acc_seg: 95.6066, aux_1.loss_ce: 0.0769, aux_1.acc_seg: 95.4645, aux_2.loss_ce: 0.0334, aux_2.loss_dice: 0.3215, aux_2.acc_seg: 99.2936, loss: 0.5789\n",
      "2022-03-29 10:44:34,020 - mmseg - INFO - Iter [92200/160000]\tlr: 4.671e-03, eta: 13:44:13, time: 0.683, data_time: 0.005, memory: 2073, decode.loss_ce: 0.0793, decode.acc_seg: 95.4725, aux_0.loss_ce: 0.0798, aux_0.acc_seg: 95.4592, aux_1.loss_ce: 0.0809, aux_1.acc_seg: 95.3146, aux_2.loss_ce: 0.0357, aux_2.loss_dice: 0.3242, aux_2.acc_seg: 99.2421, loss: 0.5999\n"
     ]
    },
    {
     "name": "stderr",
     "output_type": "stream",
     "text": [
      "2022-03-29 10:45:10,067 - mmseg - INFO - Iter [92250/160000]\tlr: 4.668e-03, eta: 13:43:37, time: 0.720, data_time: 0.005, memory: 2073, decode.loss_ce: 0.0734, decode.acc_seg: 95.6595, aux_0.loss_ce: 0.0732, aux_0.acc_seg: 95.6666, aux_1.loss_ce: 0.0765, aux_1.acc_seg: 95.5463, aux_2.loss_ce: 0.0331, aux_2.loss_dice: 0.3024, aux_2.acc_seg: 99.2988, loss: 0.5586\n",
      "2022-03-29 10:45:46,331 - mmseg - INFO - Iter [92300/160000]\tlr: 4.665e-03, eta: 13:43:00, time: 0.725, data_time: 0.006, memory: 2073, decode.loss_ce: 0.0702, decode.acc_seg: 95.9867, aux_0.loss_ce: 0.0708, aux_0.acc_seg: 95.9836, aux_1.loss_ce: 0.0722, aux_1.acc_seg: 95.8336, aux_2.loss_ce: 0.0328, aux_2.loss_dice: 0.3277, aux_2.acc_seg: 99.3056, loss: 0.5737\n",
      "2022-03-29 10:46:22,686 - mmseg - INFO - Iter [92350/160000]\tlr: 4.662e-03, eta: 13:42:23, time: 0.728, data_time: 0.006, memory: 2073, decode.loss_ce: 0.0792, decode.acc_seg: 95.5724, aux_0.loss_ce: 0.0806, aux_0.acc_seg: 95.5684, aux_1.loss_ce: 0.0839, aux_1.acc_seg: 95.4268, aux_2.loss_ce: 0.0335, aux_2.loss_dice: 0.3275, aux_2.acc_seg: 99.3067, loss: 0.6047\n",
      "2022-03-29 10:46:58,983 - mmseg - INFO - Iter [92400/160000]\tlr: 4.659e-03, eta: 13:41:47, time: 0.726, data_time: 0.005, memory: 2073, decode.loss_ce: 0.0789, decode.acc_seg: 95.4420, aux_0.loss_ce: 0.0789, aux_0.acc_seg: 95.4465, aux_1.loss_ce: 0.0803, aux_1.acc_seg: 95.3091, aux_2.loss_ce: 0.0323, aux_2.loss_dice: 0.3148, aux_2.acc_seg: 99.3202, loss: 0.5853\n",
      "2022-03-29 10:47:35,346 - mmseg - INFO - Iter [92450/160000]\tlr: 4.656e-03, eta: 13:41:10, time: 0.727, data_time: 0.006, memory: 2073, decode.loss_ce: 0.0834, decode.acc_seg: 95.5312, aux_0.loss_ce: 0.0852, aux_0.acc_seg: 95.3977, aux_1.loss_ce: 0.0868, aux_1.acc_seg: 95.2952, aux_2.loss_ce: 0.0345, aux_2.loss_dice: 0.3240, aux_2.acc_seg: 99.2686, loss: 0.6137\n",
      "2022-03-29 10:48:11,675 - mmseg - INFO - Iter [92500/160000]\tlr: 4.653e-03, eta: 13:40:34, time: 0.726, data_time: 0.005, memory: 2073, decode.loss_ce: 0.0719, decode.acc_seg: 95.6041, aux_0.loss_ce: 0.0715, aux_0.acc_seg: 95.6018, aux_1.loss_ce: 0.0747, aux_1.acc_seg: 95.4592, aux_2.loss_ce: 0.0340, aux_2.loss_dice: 0.3058, aux_2.acc_seg: 99.2762, loss: 0.5578\n",
      "2022-03-29 10:48:48,035 - mmseg - INFO - Iter [92550/160000]\tlr: 4.650e-03, eta: 13:39:57, time: 0.727, data_time: 0.006, memory: 2073, decode.loss_ce: 0.0850, decode.acc_seg: 95.1751, aux_0.loss_ce: 0.0858, aux_0.acc_seg: 95.1588, aux_1.loss_ce: 0.0877, aux_1.acc_seg: 95.0312, aux_2.loss_ce: 0.0350, aux_2.loss_dice: 0.3182, aux_2.acc_seg: 99.2552, loss: 0.6116\n",
      "2022-03-29 10:49:26,968 - mmseg - INFO - Iter [92600/160000]\tlr: 4.647e-03, eta: 13:39:23, time: 0.779, data_time: 0.057, memory: 2073, decode.loss_ce: 0.0720, decode.acc_seg: 95.8029, aux_0.loss_ce: 0.0715, aux_0.acc_seg: 95.8336, aux_1.loss_ce: 0.0743, aux_1.acc_seg: 95.6816, aux_2.loss_ce: 0.0340, aux_2.loss_dice: 0.3286, aux_2.acc_seg: 99.2834, loss: 0.5804\n",
      "2022-03-29 10:49:59,069 - mmseg - INFO - Iter [92650/160000]\tlr: 4.644e-03, eta: 13:38:43, time: 0.642, data_time: 0.006, memory: 2073, decode.loss_ce: 0.0748, decode.acc_seg: 95.6003, aux_0.loss_ce: 0.0755, aux_0.acc_seg: 95.5793, aux_1.loss_ce: 0.0787, aux_1.acc_seg: 95.4329, aux_2.loss_ce: 0.0338, aux_2.loss_dice: 0.3082, aux_2.acc_seg: 99.2868, loss: 0.5710\n",
      "2022-03-29 10:50:32,010 - mmseg - INFO - Iter [92700/160000]\tlr: 4.641e-03, eta: 13:38:04, time: 0.659, data_time: 0.005, memory: 2073, decode.loss_ce: 0.0805, decode.acc_seg: 95.6276, aux_0.loss_ce: 0.0810, aux_0.acc_seg: 95.6382, aux_1.loss_ce: 0.0838, aux_1.acc_seg: 95.4931, aux_2.loss_ce: 0.0359, aux_2.loss_dice: 0.3115, aux_2.acc_seg: 99.2335, loss: 0.5928\n",
      "2022-03-29 10:51:08,351 - mmseg - INFO - Iter [92750/160000]\tlr: 4.638e-03, eta: 13:37:27, time: 0.727, data_time: 0.006, memory: 2073, decode.loss_ce: 0.0755, decode.acc_seg: 95.5111, aux_0.loss_ce: 0.0755, aux_0.acc_seg: 95.5033, aux_1.loss_ce: 0.0786, aux_1.acc_seg: 95.3446, aux_2.loss_ce: 0.0345, aux_2.loss_dice: 0.3171, aux_2.acc_seg: 99.2575, loss: 0.5812\n",
      "2022-03-29 10:51:44,702 - mmseg - INFO - Iter [92800/160000]\tlr: 4.635e-03, eta: 13:36:51, time: 0.727, data_time: 0.006, memory: 2073, decode.loss_ce: 0.0740, decode.acc_seg: 95.6416, aux_0.loss_ce: 0.0744, aux_0.acc_seg: 95.6376, aux_1.loss_ce: 0.0764, aux_1.acc_seg: 95.5462, aux_2.loss_ce: 0.0338, aux_2.loss_dice: 0.3170, aux_2.acc_seg: 99.2703, loss: 0.5756\n",
      "2022-03-29 10:52:21,050 - mmseg - INFO - Iter [92850/160000]\tlr: 4.632e-03, eta: 13:36:14, time: 0.727, data_time: 0.005, memory: 2073, decode.loss_ce: 0.0710, decode.acc_seg: 96.0701, aux_0.loss_ce: 0.0718, aux_0.acc_seg: 96.0349, aux_1.loss_ce: 0.0740, aux_1.acc_seg: 95.9470, aux_2.loss_ce: 0.0320, aux_2.loss_dice: 0.3076, aux_2.acc_seg: 99.3291, loss: 0.5564\n",
      "2022-03-29 10:52:54,537 - mmseg - INFO - Iter [92900/160000]\tlr: 4.629e-03, eta: 13:35:36, time: 0.669, data_time: 0.006, memory: 2073, decode.loss_ce: 0.0802, decode.acc_seg: 95.3508, aux_0.loss_ce: 0.0806, aux_0.acc_seg: 95.3412, aux_1.loss_ce: 0.0827, aux_1.acc_seg: 95.1586, aux_2.loss_ce: 0.0328, aux_2.loss_dice: 0.3285, aux_2.acc_seg: 99.2972, loss: 0.6047\n",
      "2022-03-29 10:53:30,830 - mmseg - INFO - Iter [92950/160000]\tlr: 4.626e-03, eta: 13:34:59, time: 0.727, data_time: 0.006, memory: 2073, decode.loss_ce: 0.0847, decode.acc_seg: 95.1679, aux_0.loss_ce: 0.0853, aux_0.acc_seg: 95.1652, aux_1.loss_ce: 0.0882, aux_1.acc_seg: 94.9506, aux_2.loss_ce: 0.0378, aux_2.loss_dice: 0.3380, aux_2.acc_seg: 99.1922, loss: 0.6339\n",
      "2022-03-29 10:54:07,092 - mmseg - INFO - Iter [93000/160000]\tlr: 4.623e-03, eta: 13:34:22, time: 0.725, data_time: 0.005, memory: 2073, decode.loss_ce: 0.0699, decode.acc_seg: 96.1617, aux_0.loss_ce: 0.0713, aux_0.acc_seg: 96.1285, aux_1.loss_ce: 0.0728, aux_1.acc_seg: 96.0212, aux_2.loss_ce: 0.0319, aux_2.loss_dice: 0.3181, aux_2.acc_seg: 99.3313, loss: 0.5642\n",
      "2022-03-29 10:54:43,455 - mmseg - INFO - Iter [93050/160000]\tlr: 4.620e-03, eta: 13:33:46, time: 0.727, data_time: 0.005, memory: 2073, decode.loss_ce: 0.0833, decode.acc_seg: 95.2227, aux_0.loss_ce: 0.0838, aux_0.acc_seg: 95.2275, aux_1.loss_ce: 0.0873, aux_1.acc_seg: 95.0779, aux_2.loss_ce: 0.0318, aux_2.loss_dice: 0.3093, aux_2.acc_seg: 99.3440, loss: 0.5955\n",
      "2022-03-29 10:55:19,827 - mmseg - INFO - Iter [93100/160000]\tlr: 4.617e-03, eta: 13:33:09, time: 0.727, data_time: 0.006, memory: 2073, decode.loss_ce: 0.0792, decode.acc_seg: 95.5669, aux_0.loss_ce: 0.0784, aux_0.acc_seg: 95.5551, aux_1.loss_ce: 0.0804, aux_1.acc_seg: 95.4271, aux_2.loss_ce: 0.0344, aux_2.loss_dice: 0.3148, aux_2.acc_seg: 99.2780, loss: 0.5872\n",
      "2022-03-29 10:55:56,239 - mmseg - INFO - Iter [93150/160000]\tlr: 4.614e-03, eta: 13:32:33, time: 0.729, data_time: 0.006, memory: 2073, decode.loss_ce: 0.0636, decode.acc_seg: 96.3331, aux_0.loss_ce: 0.0633, aux_0.acc_seg: 96.3328, aux_1.loss_ce: 0.0657, aux_1.acc_seg: 96.1836, aux_2.loss_ce: 0.0309, aux_2.loss_dice: 0.3013, aux_2.acc_seg: 99.3341, loss: 0.5248\n",
      "2022-03-29 10:56:32,574 - mmseg - INFO - Iter [93200/160000]\tlr: 4.611e-03, eta: 13:31:56, time: 0.726, data_time: 0.005, memory: 2073, decode.loss_ce: 0.0787, decode.acc_seg: 95.4986, aux_0.loss_ce: 0.0782, aux_0.acc_seg: 95.5158, aux_1.loss_ce: 0.0812, aux_1.acc_seg: 95.3385, aux_2.loss_ce: 0.0337, aux_2.loss_dice: 0.3114, aux_2.acc_seg: 99.2944, loss: 0.5833\n",
      "2022-03-29 10:57:08,857 - mmseg - INFO - Iter [93250/160000]\tlr: 4.608e-03, eta: 13:31:20, time: 0.726, data_time: 0.006, memory: 2073, decode.loss_ce: 0.0655, decode.acc_seg: 96.3850, aux_0.loss_ce: 0.0663, aux_0.acc_seg: 96.3744, aux_1.loss_ce: 0.0693, aux_1.acc_seg: 96.2198, aux_2.loss_ce: 0.0314, aux_2.loss_dice: 0.3012, aux_2.acc_seg: 99.3393, loss: 0.5337\n",
      "2022-03-29 10:57:47,804 - mmseg - INFO - Iter [93300/160000]\tlr: 4.604e-03, eta: 13:30:45, time: 0.779, data_time: 0.059, memory: 2073, decode.loss_ce: 0.0737, decode.acc_seg: 95.5914, aux_0.loss_ce: 0.0740, aux_0.acc_seg: 95.5757, aux_1.loss_ce: 0.0758, aux_1.acc_seg: 95.4841, aux_2.loss_ce: 0.0333, aux_2.loss_dice: 0.3178, aux_2.acc_seg: 99.2994, loss: 0.5746\n",
      "2022-03-29 10:58:24,056 - mmseg - INFO - Iter [93350/160000]\tlr: 4.601e-03, eta: 13:30:08, time: 0.725, data_time: 0.006, memory: 2073, decode.loss_ce: 0.0733, decode.acc_seg: 95.9767, aux_0.loss_ce: 0.0733, aux_0.acc_seg: 95.9630, aux_1.loss_ce: 0.0771, aux_1.acc_seg: 95.7669, aux_2.loss_ce: 0.0331, aux_2.loss_dice: 0.3003, aux_2.acc_seg: 99.2988, loss: 0.5571\n"
     ]
    },
    {
     "name": "stderr",
     "output_type": "stream",
     "text": [
      "2022-03-29 10:59:00,279 - mmseg - INFO - Iter [93400/160000]\tlr: 4.598e-03, eta: 13:29:32, time: 0.725, data_time: 0.006, memory: 2073, decode.loss_ce: 0.0641, decode.acc_seg: 96.4664, aux_0.loss_ce: 0.0643, aux_0.acc_seg: 96.4503, aux_1.loss_ce: 0.0666, aux_1.acc_seg: 96.2807, aux_2.loss_ce: 0.0327, aux_2.loss_dice: 0.3009, aux_2.acc_seg: 99.2898, loss: 0.5286\n",
      "2022-03-29 10:59:36,655 - mmseg - INFO - Iter [93450/160000]\tlr: 4.595e-03, eta: 13:28:55, time: 0.727, data_time: 0.005, memory: 2073, decode.loss_ce: 0.0754, decode.acc_seg: 95.5445, aux_0.loss_ce: 0.0760, aux_0.acc_seg: 95.5234, aux_1.loss_ce: 0.0787, aux_1.acc_seg: 95.3461, aux_2.loss_ce: 0.0345, aux_2.loss_dice: 0.3137, aux_2.acc_seg: 99.2657, loss: 0.5784\n",
      "2022-03-29 11:00:12,997 - mmseg - INFO - Iter [93500/160000]\tlr: 4.592e-03, eta: 13:28:19, time: 0.727, data_time: 0.006, memory: 2073, decode.loss_ce: 0.0655, decode.acc_seg: 96.2604, aux_0.loss_ce: 0.0662, aux_0.acc_seg: 96.2625, aux_1.loss_ce: 0.0694, aux_1.acc_seg: 96.1245, aux_2.loss_ce: 0.0348, aux_2.loss_dice: 0.3108, aux_2.acc_seg: 99.2496, loss: 0.5467\n",
      "2022-03-29 11:00:46,730 - mmseg - INFO - Iter [93550/160000]\tlr: 4.589e-03, eta: 13:27:40, time: 0.675, data_time: 0.006, memory: 2073, decode.loss_ce: 0.0664, decode.acc_seg: 96.2126, aux_0.loss_ce: 0.0670, aux_0.acc_seg: 96.1894, aux_1.loss_ce: 0.0696, aux_1.acc_seg: 96.0018, aux_2.loss_ce: 0.0346, aux_2.loss_dice: 0.3133, aux_2.acc_seg: 99.2848, loss: 0.5510\n",
      "2022-03-29 11:01:23,095 - mmseg - INFO - Iter [93600/160000]\tlr: 4.586e-03, eta: 13:27:04, time: 0.727, data_time: 0.005, memory: 2073, decode.loss_ce: 0.0797, decode.acc_seg: 95.5546, aux_0.loss_ce: 0.0811, aux_0.acc_seg: 95.5226, aux_1.loss_ce: 0.0851, aux_1.acc_seg: 95.3118, aux_2.loss_ce: 0.0352, aux_2.loss_dice: 0.3362, aux_2.acc_seg: 99.2548, loss: 0.6172\n",
      "2022-03-29 11:01:59,332 - mmseg - INFO - Iter [93650/160000]\tlr: 4.583e-03, eta: 13:26:27, time: 0.724, data_time: 0.006, memory: 2073, decode.loss_ce: 0.0712, decode.acc_seg: 95.8113, aux_0.loss_ce: 0.0713, aux_0.acc_seg: 95.7961, aux_1.loss_ce: 0.0733, aux_1.acc_seg: 95.5575, aux_2.loss_ce: 0.0334, aux_2.loss_dice: 0.3157, aux_2.acc_seg: 99.2949, loss: 0.5649\n",
      "2022-03-29 11:02:35,723 - mmseg - INFO - Iter [93700/160000]\tlr: 4.580e-03, eta: 13:25:51, time: 0.728, data_time: 0.006, memory: 2073, decode.loss_ce: 0.0862, decode.acc_seg: 95.2902, aux_0.loss_ce: 0.0850, aux_0.acc_seg: 95.2899, aux_1.loss_ce: 0.0900, aux_1.acc_seg: 95.0878, aux_2.loss_ce: 0.0347, aux_2.loss_dice: 0.3266, aux_2.acc_seg: 99.2913, loss: 0.6226\n",
      "2022-03-29 11:03:12,016 - mmseg - INFO - Iter [93750/160000]\tlr: 4.577e-03, eta: 13:25:14, time: 0.725, data_time: 0.006, memory: 2073, decode.loss_ce: 0.1005, decode.acc_seg: 94.3244, aux_0.loss_ce: 0.1004, aux_0.acc_seg: 94.3349, aux_1.loss_ce: 0.1012, aux_1.acc_seg: 94.1625, aux_2.loss_ce: 0.0359, aux_2.loss_dice: 0.3167, aux_2.acc_seg: 99.2262, loss: 0.6548\n",
      "2022-03-29 11:03:48,282 - mmseg - INFO - Iter [93800/160000]\tlr: 4.574e-03, eta: 13:24:37, time: 0.726, data_time: 0.006, memory: 2073, decode.loss_ce: 0.0737, decode.acc_seg: 95.3850, aux_0.loss_ce: 0.0740, aux_0.acc_seg: 95.4137, aux_1.loss_ce: 0.0782, aux_1.acc_seg: 95.2049, aux_2.loss_ce: 0.0316, aux_2.loss_dice: 0.3175, aux_2.acc_seg: 99.3386, loss: 0.5751\n",
      "2022-03-29 11:04:24,575 - mmseg - INFO - Iter [93850/160000]\tlr: 4.571e-03, eta: 13:24:01, time: 0.726, data_time: 0.006, memory: 2073, decode.loss_ce: 0.0795, decode.acc_seg: 95.2529, aux_0.loss_ce: 0.0797, aux_0.acc_seg: 95.2450, aux_1.loss_ce: 0.0812, aux_1.acc_seg: 95.1398, aux_2.loss_ce: 0.0334, aux_2.loss_dice: 0.3215, aux_2.acc_seg: 99.2978, loss: 0.5954\n",
      "2022-03-29 11:05:00,945 - mmseg - INFO - Iter [93900/160000]\tlr: 4.568e-03, eta: 13:23:24, time: 0.727, data_time: 0.005, memory: 2073, decode.loss_ce: 0.0794, decode.acc_seg: 95.6780, aux_0.loss_ce: 0.0804, aux_0.acc_seg: 95.6293, aux_1.loss_ce: 0.0821, aux_1.acc_seg: 95.5144, aux_2.loss_ce: 0.0319, aux_2.loss_dice: 0.3110, aux_2.acc_seg: 99.3303, loss: 0.5849\n",
      "2022-03-29 11:05:37,256 - mmseg - INFO - Iter [93950/160000]\tlr: 4.565e-03, eta: 13:22:48, time: 0.726, data_time: 0.006, memory: 2073, decode.loss_ce: 0.0703, decode.acc_seg: 96.0097, aux_0.loss_ce: 0.0704, aux_0.acc_seg: 95.9852, aux_1.loss_ce: 0.0720, aux_1.acc_seg: 95.8101, aux_2.loss_ce: 0.0324, aux_2.loss_dice: 0.2996, aux_2.acc_seg: 99.3139, loss: 0.5447\n",
      "2022-03-29 11:06:16,161 - mmseg - INFO - Iter [94000/160000]\tlr: 4.562e-03, eta: 13:22:13, time: 0.778, data_time: 0.058, memory: 2073, decode.loss_ce: 0.0741, decode.acc_seg: 95.7619, aux_0.loss_ce: 0.0747, aux_0.acc_seg: 95.7548, aux_1.loss_ce: 0.0795, aux_1.acc_seg: 95.5419, aux_2.loss_ce: 0.0341, aux_2.loss_dice: 0.3102, aux_2.acc_seg: 99.2704, loss: 0.5726\n",
      "2022-03-29 11:06:52,510 - mmseg - INFO - Iter [94050/160000]\tlr: 4.559e-03, eta: 13:21:36, time: 0.727, data_time: 0.005, memory: 2073, decode.loss_ce: 0.0821, decode.acc_seg: 95.4323, aux_0.loss_ce: 0.0827, aux_0.acc_seg: 95.4383, aux_1.loss_ce: 0.0857, aux_1.acc_seg: 95.2711, aux_2.loss_ce: 0.0348, aux_2.loss_dice: 0.3185, aux_2.acc_seg: 99.2540, loss: 0.6037\n",
      "2022-03-29 11:07:28,941 - mmseg - INFO - Iter [94100/160000]\tlr: 4.556e-03, eta: 13:21:00, time: 0.728, data_time: 0.005, memory: 2073, decode.loss_ce: 0.0836, decode.acc_seg: 94.9853, aux_0.loss_ce: 0.0838, aux_0.acc_seg: 94.9547, aux_1.loss_ce: 0.0864, aux_1.acc_seg: 94.7791, aux_2.loss_ce: 0.0334, aux_2.loss_dice: 0.3138, aux_2.acc_seg: 99.3027, loss: 0.6010\n",
      "2022-03-29 11:08:05,270 - mmseg - INFO - Iter [94150/160000]\tlr: 4.553e-03, eta: 13:20:23, time: 0.727, data_time: 0.006, memory: 2073, decode.loss_ce: 0.0658, decode.acc_seg: 96.3411, aux_0.loss_ce: 0.0664, aux_0.acc_seg: 96.3135, aux_1.loss_ce: 0.0711, aux_1.acc_seg: 96.0972, aux_2.loss_ce: 0.0347, aux_2.loss_dice: 0.2966, aux_2.acc_seg: 99.2629, loss: 0.5346\n",
      "2022-03-29 11:08:38,933 - mmseg - INFO - Iter [94200/160000]\tlr: 4.550e-03, eta: 13:19:45, time: 0.673, data_time: 0.005, memory: 2073, decode.loss_ce: 0.0691, decode.acc_seg: 95.8595, aux_0.loss_ce: 0.0701, aux_0.acc_seg: 95.8535, aux_1.loss_ce: 0.0719, aux_1.acc_seg: 95.6970, aux_2.loss_ce: 0.0347, aux_2.loss_dice: 0.3023, aux_2.acc_seg: 99.2589, loss: 0.5480\n",
      "2022-03-29 11:09:15,275 - mmseg - INFO - Iter [94250/160000]\tlr: 4.547e-03, eta: 13:19:08, time: 0.727, data_time: 0.005, memory: 2073, decode.loss_ce: 0.0821, decode.acc_seg: 95.2164, aux_0.loss_ce: 0.0833, aux_0.acc_seg: 95.2325, aux_1.loss_ce: 0.0850, aux_1.acc_seg: 95.0723, aux_2.loss_ce: 0.0364, aux_2.loss_dice: 0.3237, aux_2.acc_seg: 99.2257, loss: 0.6104\n",
      "2022-03-29 11:09:51,655 - mmseg - INFO - Iter [94300/160000]\tlr: 4.544e-03, eta: 13:18:32, time: 0.728, data_time: 0.006, memory: 2073, decode.loss_ce: 0.0750, decode.acc_seg: 95.8554, aux_0.loss_ce: 0.0739, aux_0.acc_seg: 95.8657, aux_1.loss_ce: 0.0757, aux_1.acc_seg: 95.7045, aux_2.loss_ce: 0.0331, aux_2.loss_dice: 0.2999, aux_2.acc_seg: 99.2977, loss: 0.5577\n",
      "2022-03-29 11:10:28,041 - mmseg - INFO - Iter [94350/160000]\tlr: 4.541e-03, eta: 13:17:55, time: 0.728, data_time: 0.005, memory: 2073, decode.loss_ce: 0.0610, decode.acc_seg: 96.5508, aux_0.loss_ce: 0.0623, aux_0.acc_seg: 96.4963, aux_1.loss_ce: 0.0649, aux_1.acc_seg: 96.3821, aux_2.loss_ce: 0.0324, aux_2.loss_dice: 0.3026, aux_2.acc_seg: 99.3193, loss: 0.5233\n",
      "2022-03-29 11:11:04,346 - mmseg - INFO - Iter [94400/160000]\tlr: 4.538e-03, eta: 13:17:19, time: 0.726, data_time: 0.005, memory: 2073, decode.loss_ce: 0.0703, decode.acc_seg: 95.9061, aux_0.loss_ce: 0.0715, aux_0.acc_seg: 95.8915, aux_1.loss_ce: 0.0770, aux_1.acc_seg: 95.7472, aux_2.loss_ce: 0.0310, aux_2.loss_dice: 0.3003, aux_2.acc_seg: 99.3394, loss: 0.5500\n",
      "2022-03-29 11:11:40,627 - mmseg - INFO - Iter [94450/160000]\tlr: 4.535e-03, eta: 13:16:42, time: 0.726, data_time: 0.005, memory: 2073, decode.loss_ce: 0.0581, decode.acc_seg: 96.3424, aux_0.loss_ce: 0.0593, aux_0.acc_seg: 96.3196, aux_1.loss_ce: 0.0604, aux_1.acc_seg: 96.1805, aux_2.loss_ce: 0.0333, aux_2.loss_dice: 0.3088, aux_2.acc_seg: 99.3061, loss: 0.5200\n",
      "2022-03-29 11:12:16,964 - mmseg - INFO - Iter [94500/160000]\tlr: 4.531e-03, eta: 13:16:06, time: 0.726, data_time: 0.005, memory: 2073, decode.loss_ce: 0.0755, decode.acc_seg: 95.6606, aux_0.loss_ce: 0.0753, aux_0.acc_seg: 95.6203, aux_1.loss_ce: 0.0773, aux_1.acc_seg: 95.5161, aux_2.loss_ce: 0.0342, aux_2.loss_dice: 0.3104, aux_2.acc_seg: 99.3085, loss: 0.5728\n"
     ]
    },
    {
     "name": "stderr",
     "output_type": "stream",
     "text": [
      "2022-03-29 11:12:53,283 - mmseg - INFO - Iter [94550/160000]\tlr: 4.528e-03, eta: 13:15:29, time: 0.726, data_time: 0.006, memory: 2073, decode.loss_ce: 0.0712, decode.acc_seg: 95.9107, aux_0.loss_ce: 0.0691, aux_0.acc_seg: 95.9151, aux_1.loss_ce: 0.0733, aux_1.acc_seg: 95.7779, aux_2.loss_ce: 0.0335, aux_2.loss_dice: 0.3175, aux_2.acc_seg: 99.2853, loss: 0.5646\n",
      "2022-03-29 11:13:29,712 - mmseg - INFO - Iter [94600/160000]\tlr: 4.525e-03, eta: 13:14:53, time: 0.729, data_time: 0.006, memory: 2073, decode.loss_ce: 0.0681, decode.acc_seg: 96.0847, aux_0.loss_ce: 0.0694, aux_0.acc_seg: 96.0868, aux_1.loss_ce: 0.0710, aux_1.acc_seg: 95.9150, aux_2.loss_ce: 0.0325, aux_2.loss_dice: 0.3215, aux_2.acc_seg: 99.3185, loss: 0.5625\n",
      "2022-03-29 11:14:06,027 - mmseg - INFO - Iter [94650/160000]\tlr: 4.522e-03, eta: 13:14:16, time: 0.726, data_time: 0.006, memory: 2073, decode.loss_ce: 0.0823, decode.acc_seg: 95.5055, aux_0.loss_ce: 0.0827, aux_0.acc_seg: 95.5129, aux_1.loss_ce: 0.0868, aux_1.acc_seg: 95.3718, aux_2.loss_ce: 0.0351, aux_2.loss_dice: 0.3174, aux_2.acc_seg: 99.2533, loss: 0.6042\n",
      "2022-03-29 11:14:45,004 - mmseg - INFO - Iter [94700/160000]\tlr: 4.519e-03, eta: 13:13:41, time: 0.780, data_time: 0.059, memory: 2073, decode.loss_ce: 0.0786, decode.acc_seg: 95.1814, aux_0.loss_ce: 0.0777, aux_0.acc_seg: 95.1312, aux_1.loss_ce: 0.0814, aux_1.acc_seg: 94.9156, aux_2.loss_ce: 0.0343, aux_2.loss_dice: 0.3164, aux_2.acc_seg: 99.2797, loss: 0.5884\n",
      "2022-03-29 11:15:21,377 - mmseg - INFO - Iter [94750/160000]\tlr: 4.516e-03, eta: 13:13:05, time: 0.727, data_time: 0.005, memory: 2073, decode.loss_ce: 0.0652, decode.acc_seg: 96.1772, aux_0.loss_ce: 0.0666, aux_0.acc_seg: 96.1566, aux_1.loss_ce: 0.0679, aux_1.acc_seg: 96.0076, aux_2.loss_ce: 0.0337, aux_2.loss_dice: 0.3090, aux_2.acc_seg: 99.2802, loss: 0.5424\n",
      "2022-03-29 11:15:57,615 - mmseg - INFO - Iter [94800/160000]\tlr: 4.513e-03, eta: 13:12:28, time: 0.725, data_time: 0.006, memory: 2073, decode.loss_ce: 0.0648, decode.acc_seg: 96.3682, aux_0.loss_ce: 0.0652, aux_0.acc_seg: 96.3676, aux_1.loss_ce: 0.0679, aux_1.acc_seg: 96.2636, aux_2.loss_ce: 0.0326, aux_2.loss_dice: 0.3166, aux_2.acc_seg: 99.2985, loss: 0.5471\n",
      "2022-03-29 11:16:31,374 - mmseg - INFO - Iter [94850/160000]\tlr: 4.510e-03, eta: 13:11:50, time: 0.675, data_time: 0.006, memory: 2073, decode.loss_ce: 0.0800, decode.acc_seg: 95.4428, aux_0.loss_ce: 0.0795, aux_0.acc_seg: 95.4376, aux_1.loss_ce: 0.0826, aux_1.acc_seg: 95.2708, aux_2.loss_ce: 0.0349, aux_2.loss_dice: 0.3263, aux_2.acc_seg: 99.2628, loss: 0.6033\n",
      "2022-03-29 11:17:07,564 - mmseg - INFO - Iter [94900/160000]\tlr: 4.507e-03, eta: 13:11:13, time: 0.724, data_time: 0.006, memory: 2073, decode.loss_ce: 0.0829, decode.acc_seg: 95.3009, aux_0.loss_ce: 0.0831, aux_0.acc_seg: 95.3300, aux_1.loss_ce: 0.0852, aux_1.acc_seg: 95.1941, aux_2.loss_ce: 0.0340, aux_2.loss_dice: 0.3024, aux_2.acc_seg: 99.2796, loss: 0.5875\n",
      "2022-03-29 11:17:43,920 - mmseg - INFO - Iter [94950/160000]\tlr: 4.504e-03, eta: 13:10:37, time: 0.727, data_time: 0.006, memory: 2073, decode.loss_ce: 0.0689, decode.acc_seg: 96.0959, aux_0.loss_ce: 0.0697, aux_0.acc_seg: 96.0511, aux_1.loss_ce: 0.0726, aux_1.acc_seg: 95.9170, aux_2.loss_ce: 0.0336, aux_2.loss_dice: 0.3160, aux_2.acc_seg: 99.2829, loss: 0.5608\n",
      "2022-03-29 11:18:20,290 - mmseg - INFO - Iter [95000/160000]\tlr: 4.501e-03, eta: 13:10:00, time: 0.727, data_time: 0.005, memory: 2073, decode.loss_ce: 0.0836, decode.acc_seg: 95.3941, aux_0.loss_ce: 0.0848, aux_0.acc_seg: 95.3787, aux_1.loss_ce: 0.0856, aux_1.acc_seg: 95.2135, aux_2.loss_ce: 0.0342, aux_2.loss_dice: 0.3108, aux_2.acc_seg: 99.2700, loss: 0.5992\n"
     ]
    },
    {
     "name": "stdout",
     "output_type": "stream",
     "text": [
      "[>>>>>>>>>>>>>>>>>>>>>>>>>>>>>] 610/610, 26.6 task/s, elapsed: 23s, ETA:     0s"
     ]
    },
    {
     "name": "stderr",
     "output_type": "stream",
     "text": [
      "2022-03-29 11:18:43,248 - mmseg - INFO - per class results:\n",
      "2022-03-29 11:18:43,249 - mmseg - INFO - \n",
      "+------------+-------+-------+\n",
      "|   Class    |  IoU  |  Acc  |\n",
      "+------------+-------+-------+\n",
      "| background | 96.97 | 98.84 |\n",
      "|   human    | 53.27 | 64.62 |\n",
      "+------------+-------+-------+\n",
      "2022-03-29 11:18:43,249 - mmseg - INFO - Summary:\n",
      "2022-03-29 11:18:43,249 - mmseg - INFO - \n",
      "+-------+-------+-------+\n",
      "|  aAcc |  mIoU |  mAcc |\n",
      "+-------+-------+-------+\n",
      "| 97.07 | 75.12 | 81.73 |\n",
      "+-------+-------+-------+\n",
      "2022-03-29 11:18:43,252 - mmseg - INFO - Iter(val) [610]\taAcc: 0.9707, mIoU: 0.7512, mAcc: 0.8173, IoU.background: 0.9697, IoU.human: 0.5327, Acc.background: 0.9884, Acc.human: 0.6462\n",
      "2022-03-29 11:19:19,612 - mmseg - INFO - Iter [95050/160000]\tlr: 4.498e-03, eta: 13:09:39, time: 1.186, data_time: 0.465, memory: 2073, decode.loss_ce: 0.0724, decode.acc_seg: 95.5725, aux_0.loss_ce: 0.0715, aux_0.acc_seg: 95.5961, aux_1.loss_ce: 0.0744, aux_1.acc_seg: 95.3732, aux_2.loss_ce: 0.0326, aux_2.loss_dice: 0.3126, aux_2.acc_seg: 99.3229, loss: 0.5635\n",
      "2022-03-29 11:19:56,013 - mmseg - INFO - Iter [95100/160000]\tlr: 4.495e-03, eta: 13:09:03, time: 0.728, data_time: 0.006, memory: 2073, decode.loss_ce: 0.0628, decode.acc_seg: 96.4693, aux_0.loss_ce: 0.0635, aux_0.acc_seg: 96.4867, aux_1.loss_ce: 0.0675, aux_1.acc_seg: 96.3528, aux_2.loss_ce: 0.0314, aux_2.loss_dice: 0.3011, aux_2.acc_seg: 99.3450, loss: 0.5264\n",
      "2022-03-29 11:20:32,330 - mmseg - INFO - Iter [95150/160000]\tlr: 4.492e-03, eta: 13:08:26, time: 0.726, data_time: 0.005, memory: 2073, decode.loss_ce: 0.0641, decode.acc_seg: 96.1214, aux_0.loss_ce: 0.0651, aux_0.acc_seg: 96.1167, aux_1.loss_ce: 0.0683, aux_1.acc_seg: 95.9543, aux_2.loss_ce: 0.0328, aux_2.loss_dice: 0.3062, aux_2.acc_seg: 99.2850, loss: 0.5366\n",
      "2022-03-29 11:21:08,698 - mmseg - INFO - Iter [95200/160000]\tlr: 4.489e-03, eta: 13:07:50, time: 0.727, data_time: 0.006, memory: 2073, decode.loss_ce: 0.0697, decode.acc_seg: 95.9929, aux_0.loss_ce: 0.0715, aux_0.acc_seg: 95.9827, aux_1.loss_ce: 0.0734, aux_1.acc_seg: 95.8448, aux_2.loss_ce: 0.0331, aux_2.loss_dice: 0.3191, aux_2.acc_seg: 99.3001, loss: 0.5668\n",
      "2022-03-29 11:21:45,104 - mmseg - INFO - Iter [95250/160000]\tlr: 4.486e-03, eta: 13:07:13, time: 0.728, data_time: 0.006, memory: 2073, decode.loss_ce: 0.0765, decode.acc_seg: 95.7517, aux_0.loss_ce: 0.0744, aux_0.acc_seg: 95.7482, aux_1.loss_ce: 0.0790, aux_1.acc_seg: 95.5397, aux_2.loss_ce: 0.0342, aux_2.loss_dice: 0.3116, aux_2.acc_seg: 99.2619, loss: 0.5757\n",
      "2022-03-29 11:22:21,409 - mmseg - INFO - Iter [95300/160000]\tlr: 4.483e-03, eta: 13:06:36, time: 0.726, data_time: 0.006, memory: 2073, decode.loss_ce: 0.0803, decode.acc_seg: 95.3169, aux_0.loss_ce: 0.0841, aux_0.acc_seg: 95.3251, aux_1.loss_ce: 0.0824, aux_1.acc_seg: 95.1826, aux_2.loss_ce: 0.0340, aux_2.loss_dice: 0.3284, aux_2.acc_seg: 99.2784, loss: 0.6091\n",
      "2022-03-29 11:22:57,749 - mmseg - INFO - Iter [95350/160000]\tlr: 4.480e-03, eta: 13:06:00, time: 0.727, data_time: 0.005, memory: 2073, decode.loss_ce: 0.0667, decode.acc_seg: 96.0126, aux_0.loss_ce: 0.0653, aux_0.acc_seg: 96.0386, aux_1.loss_ce: 0.0722, aux_1.acc_seg: 95.8828, aux_2.loss_ce: 0.0349, aux_2.loss_dice: 0.3092, aux_2.acc_seg: 99.2533, loss: 0.5484\n",
      "2022-03-29 11:23:36,726 - mmseg - INFO - Iter [95400/160000]\tlr: 4.477e-03, eta: 13:05:25, time: 0.780, data_time: 0.058, memory: 2073, decode.loss_ce: 0.0704, decode.acc_seg: 95.9395, aux_0.loss_ce: 0.0702, aux_0.acc_seg: 95.9261, aux_1.loss_ce: 0.0726, aux_1.acc_seg: 95.8201, aux_2.loss_ce: 0.0315, aux_2.loss_dice: 0.3220, aux_2.acc_seg: 99.3390, loss: 0.5668\n",
      "2022-03-29 11:24:10,443 - mmseg - INFO - Iter [95450/160000]\tlr: 4.474e-03, eta: 13:04:47, time: 0.674, data_time: 0.006, memory: 2073, decode.loss_ce: 0.0722, decode.acc_seg: 96.4008, aux_0.loss_ce: 0.0732, aux_0.acc_seg: 96.3751, aux_1.loss_ce: 0.0746, aux_1.acc_seg: 96.2244, aux_2.loss_ce: 0.0327, aux_2.loss_dice: 0.3049, aux_2.acc_seg: 99.3074, loss: 0.5575\n",
      "2022-03-29 11:24:46,841 - mmseg - INFO - Iter [95500/160000]\tlr: 4.471e-03, eta: 13:04:10, time: 0.728, data_time: 0.005, memory: 2073, decode.loss_ce: 0.0683, decode.acc_seg: 95.8752, aux_0.loss_ce: 0.0670, aux_0.acc_seg: 95.8684, aux_1.loss_ce: 0.0709, aux_1.acc_seg: 95.7163, aux_2.loss_ce: 0.0354, aux_2.loss_dice: 0.3181, aux_2.acc_seg: 99.2547, loss: 0.5598\n",
      "2022-03-29 11:25:23,226 - mmseg - INFO - Iter [95550/160000]\tlr: 4.468e-03, eta: 13:03:34, time: 0.728, data_time: 0.006, memory: 2073, decode.loss_ce: 0.0812, decode.acc_seg: 95.3276, aux_0.loss_ce: 0.0831, aux_0.acc_seg: 95.2819, aux_1.loss_ce: 0.0864, aux_1.acc_seg: 95.0844, aux_2.loss_ce: 0.0366, aux_2.loss_dice: 0.3154, aux_2.acc_seg: 99.2220, loss: 0.6027\n",
      "2022-03-29 11:25:59,594 - mmseg - INFO - Iter [95600/160000]\tlr: 4.464e-03, eta: 13:02:57, time: 0.727, data_time: 0.005, memory: 2073, decode.loss_ce: 0.0689, decode.acc_seg: 96.0039, aux_0.loss_ce: 0.0695, aux_0.acc_seg: 96.0010, aux_1.loss_ce: 0.0727, aux_1.acc_seg: 95.9048, aux_2.loss_ce: 0.0334, aux_2.loss_dice: 0.3242, aux_2.acc_seg: 99.2962, loss: 0.5686\n",
      "2022-03-29 11:26:35,955 - mmseg - INFO - Iter [95650/160000]\tlr: 4.461e-03, eta: 13:02:21, time: 0.727, data_time: 0.005, memory: 2073, decode.loss_ce: 0.0668, decode.acc_seg: 96.2182, aux_0.loss_ce: 0.0695, aux_0.acc_seg: 96.2290, aux_1.loss_ce: 0.0711, aux_1.acc_seg: 96.0433, aux_2.loss_ce: 0.0342, aux_2.loss_dice: 0.3127, aux_2.acc_seg: 99.2747, loss: 0.5543\n",
      "2022-03-29 11:27:12,325 - mmseg - INFO - Iter [95700/160000]\tlr: 4.458e-03, eta: 13:01:44, time: 0.727, data_time: 0.005, memory: 2073, decode.loss_ce: 0.0702, decode.acc_seg: 96.1039, aux_0.loss_ce: 0.0687, aux_0.acc_seg: 96.1048, aux_1.loss_ce: 0.0711, aux_1.acc_seg: 96.0014, aux_2.loss_ce: 0.0326, aux_2.loss_dice: 0.2956, aux_2.acc_seg: 99.3181, loss: 0.5382\n",
      "2022-03-29 11:27:48,640 - mmseg - INFO - Iter [95750/160000]\tlr: 4.455e-03, eta: 13:01:08, time: 0.726, data_time: 0.005, memory: 2073, decode.loss_ce: 0.0729, decode.acc_seg: 95.6170, aux_0.loss_ce: 0.0730, aux_0.acc_seg: 95.6052, aux_1.loss_ce: 0.0757, aux_1.acc_seg: 95.4436, aux_2.loss_ce: 0.0344, aux_2.loss_dice: 0.3143, aux_2.acc_seg: 99.2721, loss: 0.5704\n",
      "2022-03-29 11:28:24,947 - mmseg - INFO - Iter [95800/160000]\tlr: 4.452e-03, eta: 13:00:31, time: 0.726, data_time: 0.006, memory: 2073, decode.loss_ce: 0.0686, decode.acc_seg: 96.1444, aux_0.loss_ce: 0.0688, aux_0.acc_seg: 96.1530, aux_1.loss_ce: 0.0721, aux_1.acc_seg: 95.9649, aux_2.loss_ce: 0.0318, aux_2.loss_dice: 0.2947, aux_2.acc_seg: 99.3198, loss: 0.5360\n",
      "2022-03-29 11:29:01,205 - mmseg - INFO - Iter [95850/160000]\tlr: 4.449e-03, eta: 12:59:54, time: 0.725, data_time: 0.006, memory: 2073, decode.loss_ce: 0.0629, decode.acc_seg: 96.0834, aux_0.loss_ce: 0.0643, aux_0.acc_seg: 96.0510, aux_1.loss_ce: 0.0661, aux_1.acc_seg: 95.9023, aux_2.loss_ce: 0.0343, aux_2.loss_dice: 0.3029, aux_2.acc_seg: 99.2459, loss: 0.5305\n",
      "2022-03-29 11:29:37,506 - mmseg - INFO - Iter [95900/160000]\tlr: 4.446e-03, eta: 12:59:18, time: 0.726, data_time: 0.006, memory: 2073, decode.loss_ce: 0.0674, decode.acc_seg: 96.0518, aux_0.loss_ce: 0.0683, aux_0.acc_seg: 96.0153, aux_1.loss_ce: 0.0728, aux_1.acc_seg: 95.8207, aux_2.loss_ce: 0.0323, aux_2.loss_dice: 0.3164, aux_2.acc_seg: 99.3078, loss: 0.5573\n",
      "2022-03-29 11:30:13,798 - mmseg - INFO - Iter [95950/160000]\tlr: 4.443e-03, eta: 12:58:41, time: 0.726, data_time: 0.006, memory: 2073, decode.loss_ce: 0.0668, decode.acc_seg: 96.0972, aux_0.loss_ce: 0.0675, aux_0.acc_seg: 96.1068, aux_1.loss_ce: 0.0700, aux_1.acc_seg: 95.9465, aux_2.loss_ce: 0.0331, aux_2.loss_dice: 0.3179, aux_2.acc_seg: 99.3002, loss: 0.5552\n",
      "2022-03-29 11:30:50,167 - mmseg - INFO - Iter [96000/160000]\tlr: 4.440e-03, eta: 12:58:05, time: 0.727, data_time: 0.005, memory: 2073, decode.loss_ce: 0.0838, decode.acc_seg: 95.2094, aux_0.loss_ce: 0.0825, aux_0.acc_seg: 95.2037, aux_1.loss_ce: 0.0843, aux_1.acc_seg: 95.0822, aux_2.loss_ce: 0.0361, aux_2.loss_dice: 0.3322, aux_2.acc_seg: 99.2832, loss: 0.6189\n",
      "2022-03-29 11:31:29,228 - mmseg - INFO - Iter [96050/160000]\tlr: 4.437e-03, eta: 12:57:30, time: 0.781, data_time: 0.059, memory: 2073, decode.loss_ce: 0.0784, decode.acc_seg: 95.4719, aux_0.loss_ce: 0.0797, aux_0.acc_seg: 95.4495, aux_1.loss_ce: 0.0818, aux_1.acc_seg: 95.3114, aux_2.loss_ce: 0.0346, aux_2.loss_dice: 0.3240, aux_2.acc_seg: 99.2905, loss: 0.5985\n"
     ]
    },
    {
     "name": "stderr",
     "output_type": "stream",
     "text": [
      "2022-03-29 11:32:02,920 - mmseg - INFO - Iter [96100/160000]\tlr: 4.434e-03, eta: 12:56:51, time: 0.674, data_time: 0.006, memory: 2073, decode.loss_ce: 0.0899, decode.acc_seg: 94.9228, aux_0.loss_ce: 0.0909, aux_0.acc_seg: 94.8726, aux_1.loss_ce: 0.0965, aux_1.acc_seg: 94.6223, aux_2.loss_ce: 0.0357, aux_2.loss_dice: 0.3152, aux_2.acc_seg: 99.2593, loss: 0.6282\n",
      "2022-03-29 11:32:39,194 - mmseg - INFO - Iter [96150/160000]\tlr: 4.431e-03, eta: 12:56:15, time: 0.726, data_time: 0.006, memory: 2073, decode.loss_ce: 0.0616, decode.acc_seg: 96.4033, aux_0.loss_ce: 0.0612, aux_0.acc_seg: 96.4012, aux_1.loss_ce: 0.0628, aux_1.acc_seg: 96.2851, aux_2.loss_ce: 0.0334, aux_2.loss_dice: 0.3090, aux_2.acc_seg: 99.3067, loss: 0.5280\n",
      "2022-03-29 11:33:15,528 - mmseg - INFO - Iter [96200/160000]\tlr: 4.428e-03, eta: 12:55:38, time: 0.727, data_time: 0.006, memory: 2073, decode.loss_ce: 0.0697, decode.acc_seg: 95.9675, aux_0.loss_ce: 0.0700, aux_0.acc_seg: 95.9270, aux_1.loss_ce: 0.0735, aux_1.acc_seg: 95.7682, aux_2.loss_ce: 0.0337, aux_2.loss_dice: 0.3163, aux_2.acc_seg: 99.2747, loss: 0.5633\n",
      "2022-03-29 11:33:51,936 - mmseg - INFO - Iter [96250/160000]\tlr: 4.425e-03, eta: 12:55:02, time: 0.728, data_time: 0.005, memory: 2073, decode.loss_ce: 0.0708, decode.acc_seg: 96.0849, aux_0.loss_ce: 0.0726, aux_0.acc_seg: 96.0174, aux_1.loss_ce: 0.0750, aux_1.acc_seg: 95.8558, aux_2.loss_ce: 0.0336, aux_2.loss_dice: 0.3059, aux_2.acc_seg: 99.3008, loss: 0.5579\n",
      "2022-03-29 11:34:28,300 - mmseg - INFO - Iter [96300/160000]\tlr: 4.422e-03, eta: 12:54:25, time: 0.727, data_time: 0.005, memory: 2073, decode.loss_ce: 0.0823, decode.acc_seg: 95.4399, aux_0.loss_ce: 0.0824, aux_0.acc_seg: 95.4182, aux_1.loss_ce: 0.0844, aux_1.acc_seg: 95.2096, aux_2.loss_ce: 0.0358, aux_2.loss_dice: 0.3314, aux_2.acc_seg: 99.2495, loss: 0.6162\n",
      "2022-03-29 11:35:04,618 - mmseg - INFO - Iter [96350/160000]\tlr: 4.419e-03, eta: 12:53:49, time: 0.726, data_time: 0.005, memory: 2073, decode.loss_ce: 0.0687, decode.acc_seg: 95.8087, aux_0.loss_ce: 0.0697, aux_0.acc_seg: 95.7742, aux_1.loss_ce: 0.0716, aux_1.acc_seg: 95.6598, aux_2.loss_ce: 0.0339, aux_2.loss_dice: 0.3152, aux_2.acc_seg: 99.2744, loss: 0.5591\n",
      "2022-03-29 11:35:40,961 - mmseg - INFO - Iter [96400/160000]\tlr: 4.416e-03, eta: 12:53:12, time: 0.727, data_time: 0.005, memory: 2073, decode.loss_ce: 0.0801, decode.acc_seg: 95.5580, aux_0.loss_ce: 0.0800, aux_0.acc_seg: 95.5595, aux_1.loss_ce: 0.0837, aux_1.acc_seg: 95.4140, aux_2.loss_ce: 0.0350, aux_2.loss_dice: 0.3216, aux_2.acc_seg: 99.2600, loss: 0.6004\n",
      "2022-03-29 11:36:17,323 - mmseg - INFO - Iter [96450/160000]\tlr: 4.413e-03, eta: 12:52:36, time: 0.727, data_time: 0.005, memory: 2073, decode.loss_ce: 0.0731, decode.acc_seg: 95.6036, aux_0.loss_ce: 0.0736, aux_0.acc_seg: 95.6181, aux_1.loss_ce: 0.0765, aux_1.acc_seg: 95.4371, aux_2.loss_ce: 0.0338, aux_2.loss_dice: 0.3289, aux_2.acc_seg: 99.2915, loss: 0.5859\n",
      "2022-03-29 11:36:53,699 - mmseg - INFO - Iter [96500/160000]\tlr: 4.410e-03, eta: 12:51:59, time: 0.728, data_time: 0.005, memory: 2073, decode.loss_ce: 0.0811, decode.acc_seg: 95.3084, aux_0.loss_ce: 0.0829, aux_0.acc_seg: 95.2582, aux_1.loss_ce: 0.0850, aux_1.acc_seg: 95.0806, aux_2.loss_ce: 0.0342, aux_2.loss_dice: 0.3301, aux_2.acc_seg: 99.2815, loss: 0.6133\n",
      "2022-03-29 11:37:30,063 - mmseg - INFO - Iter [96550/160000]\tlr: 4.406e-03, eta: 12:51:23, time: 0.727, data_time: 0.005, memory: 2073, decode.loss_ce: 0.0726, decode.acc_seg: 95.9847, aux_0.loss_ce: 0.0724, aux_0.acc_seg: 95.9487, aux_1.loss_ce: 0.0749, aux_1.acc_seg: 95.8104, aux_2.loss_ce: 0.0313, aux_2.loss_dice: 0.3152, aux_2.acc_seg: 99.3601, loss: 0.5664\n",
      "2022-03-29 11:38:06,422 - mmseg - INFO - Iter [96600/160000]\tlr: 4.403e-03, eta: 12:50:46, time: 0.727, data_time: 0.006, memory: 2073, decode.loss_ce: 0.0679, decode.acc_seg: 96.1248, aux_0.loss_ce: 0.0684, aux_0.acc_seg: 96.1305, aux_1.loss_ce: 0.0735, aux_1.acc_seg: 95.9616, aux_2.loss_ce: 0.0346, aux_2.loss_dice: 0.3199, aux_2.acc_seg: 99.2816, loss: 0.5643\n",
      "2022-03-29 11:38:42,662 - mmseg - INFO - Iter [96650/160000]\tlr: 4.400e-03, eta: 12:50:09, time: 0.725, data_time: 0.006, memory: 2073, decode.loss_ce: 0.0775, decode.acc_seg: 95.6964, aux_0.loss_ce: 0.0785, aux_0.acc_seg: 95.6640, aux_1.loss_ce: 0.0774, aux_1.acc_seg: 95.5922, aux_2.loss_ce: 0.0331, aux_2.loss_dice: 0.3189, aux_2.acc_seg: 99.3079, loss: 0.5854\n",
      "2022-03-29 11:39:19,015 - mmseg - INFO - Iter [96700/160000]\tlr: 4.397e-03, eta: 12:49:33, time: 0.727, data_time: 0.006, memory: 2073, decode.loss_ce: 0.0764, decode.acc_seg: 95.3963, aux_0.loss_ce: 0.0772, aux_0.acc_seg: 95.3740, aux_1.loss_ce: 0.0790, aux_1.acc_seg: 95.2173, aux_2.loss_ce: 0.0331, aux_2.loss_dice: 0.3129, aux_2.acc_seg: 99.3031, loss: 0.5786\n",
      "2022-03-29 11:39:55,358 - mmseg - INFO - Iter [96750/160000]\tlr: 4.394e-03, eta: 12:48:56, time: 0.727, data_time: 0.058, memory: 2073, decode.loss_ce: 0.0781, decode.acc_seg: 95.5210, aux_0.loss_ce: 0.0787, aux_0.acc_seg: 95.4981, aux_1.loss_ce: 0.0813, aux_1.acc_seg: 95.3741, aux_2.loss_ce: 0.0346, aux_2.loss_dice: 0.3037, aux_2.acc_seg: 99.2625, loss: 0.5764\n",
      "2022-03-29 11:40:31,665 - mmseg - INFO - Iter [96800/160000]\tlr: 4.391e-03, eta: 12:48:20, time: 0.726, data_time: 0.005, memory: 2073, decode.loss_ce: 0.0758, decode.acc_seg: 95.7325, aux_0.loss_ce: 0.0759, aux_0.acc_seg: 95.7306, aux_1.loss_ce: 0.0773, aux_1.acc_seg: 95.5502, aux_2.loss_ce: 0.0338, aux_2.loss_dice: 0.3095, aux_2.acc_seg: 99.2970, loss: 0.5723\n",
      "2022-03-29 11:41:07,993 - mmseg - INFO - Iter [96850/160000]\tlr: 4.388e-03, eta: 12:47:43, time: 0.726, data_time: 0.006, memory: 2073, decode.loss_ce: 0.0727, decode.acc_seg: 95.8575, aux_0.loss_ce: 0.0733, aux_0.acc_seg: 95.8416, aux_1.loss_ce: 0.0762, aux_1.acc_seg: 95.6926, aux_2.loss_ce: 0.0330, aux_2.loss_dice: 0.3066, aux_2.acc_seg: 99.2996, loss: 0.5619\n",
      "2022-03-29 11:41:44,281 - mmseg - INFO - Iter [96900/160000]\tlr: 4.385e-03, eta: 12:47:07, time: 0.727, data_time: 0.006, memory: 2073, decode.loss_ce: 0.0684, decode.acc_seg: 96.1484, aux_0.loss_ce: 0.0693, aux_0.acc_seg: 96.1939, aux_1.loss_ce: 0.0722, aux_1.acc_seg: 96.0408, aux_2.loss_ce: 0.0319, aux_2.loss_dice: 0.3227, aux_2.acc_seg: 99.3432, loss: 0.5645\n",
      "2022-03-29 11:42:20,582 - mmseg - INFO - Iter [96950/160000]\tlr: 4.382e-03, eta: 12:46:30, time: 0.726, data_time: 0.005, memory: 2073, decode.loss_ce: 0.0641, decode.acc_seg: 96.1983, aux_0.loss_ce: 0.0642, aux_0.acc_seg: 96.1878, aux_1.loss_ce: 0.0686, aux_1.acc_seg: 96.0487, aux_2.loss_ce: 0.0321, aux_2.loss_dice: 0.2923, aux_2.acc_seg: 99.3130, loss: 0.5213\n",
      "2022-03-29 11:42:56,928 - mmseg - INFO - Iter [97000/160000]\tlr: 4.379e-03, eta: 12:45:53, time: 0.727, data_time: 0.005, memory: 2073, decode.loss_ce: 0.0846, decode.acc_seg: 95.2107, aux_0.loss_ce: 0.0846, aux_0.acc_seg: 95.2082, aux_1.loss_ce: 0.0848, aux_1.acc_seg: 95.0258, aux_2.loss_ce: 0.0349, aux_2.loss_dice: 0.3257, aux_2.acc_seg: 99.2646, loss: 0.6146\n",
      "2022-03-29 11:43:33,291 - mmseg - INFO - Iter [97050/160000]\tlr: 4.376e-03, eta: 12:45:17, time: 0.727, data_time: 0.006, memory: 2073, decode.loss_ce: 0.0691, decode.acc_seg: 96.0904, aux_0.loss_ce: 0.0693, aux_0.acc_seg: 96.0916, aux_1.loss_ce: 0.0740, aux_1.acc_seg: 95.9016, aux_2.loss_ce: 0.0336, aux_2.loss_dice: 0.3178, aux_2.acc_seg: 99.2970, loss: 0.5639\n",
      "2022-03-29 11:44:09,613 - mmseg - INFO - Iter [97100/160000]\tlr: 4.373e-03, eta: 12:44:40, time: 0.726, data_time: 0.006, memory: 2073, decode.loss_ce: 0.0741, decode.acc_seg: 95.7677, aux_0.loss_ce: 0.0742, aux_0.acc_seg: 95.7675, aux_1.loss_ce: 0.0781, aux_1.acc_seg: 95.5954, aux_2.loss_ce: 0.0338, aux_2.loss_dice: 0.2993, aux_2.acc_seg: 99.2938, loss: 0.5594\n",
      "2022-03-29 11:44:45,905 - mmseg - INFO - Iter [97150/160000]\tlr: 4.370e-03, eta: 12:44:04, time: 0.725, data_time: 0.006, memory: 2073, decode.loss_ce: 0.0742, decode.acc_seg: 95.5012, aux_0.loss_ce: 0.0762, aux_0.acc_seg: 95.4736, aux_1.loss_ce: 0.0784, aux_1.acc_seg: 95.3745, aux_2.loss_ce: 0.0319, aux_2.loss_dice: 0.3098, aux_2.acc_seg: 99.3226, loss: 0.5706\n",
      "2022-03-29 11:45:22,138 - mmseg - INFO - Iter [97200/160000]\tlr: 4.367e-03, eta: 12:43:27, time: 0.725, data_time: 0.006, memory: 2073, decode.loss_ce: 0.0852, decode.acc_seg: 95.1795, aux_0.loss_ce: 0.0871, aux_0.acc_seg: 95.1691, aux_1.loss_ce: 0.0872, aux_1.acc_seg: 95.0178, aux_2.loss_ce: 0.0335, aux_2.loss_dice: 0.2975, aux_2.acc_seg: 99.2904, loss: 0.5906\n"
     ]
    },
    {
     "name": "stderr",
     "output_type": "stream",
     "text": [
      "2022-03-29 11:45:58,453 - mmseg - INFO - Iter [97250/160000]\tlr: 4.364e-03, eta: 12:42:50, time: 0.727, data_time: 0.006, memory: 2073, decode.loss_ce: 0.0953, decode.acc_seg: 94.8431, aux_0.loss_ce: 0.0969, aux_0.acc_seg: 94.7740, aux_1.loss_ce: 0.1001, aux_1.acc_seg: 94.6133, aux_2.loss_ce: 0.0350, aux_2.loss_dice: 0.3139, aux_2.acc_seg: 99.2598, loss: 0.6411\n",
      "2022-03-29 11:46:27,072 - mmseg - INFO - Iter [97300/160000]\tlr: 4.361e-03, eta: 12:42:09, time: 0.572, data_time: 0.006, memory: 2073, decode.loss_ce: 0.0646, decode.acc_seg: 96.1550, aux_0.loss_ce: 0.0644, aux_0.acc_seg: 96.1587, aux_1.loss_ce: 0.0685, aux_1.acc_seg: 95.9574, aux_2.loss_ce: 0.0327, aux_2.loss_dice: 0.3071, aux_2.acc_seg: 99.3132, loss: 0.5373\n",
      "2022-03-29 11:47:03,422 - mmseg - INFO - Iter [97350/160000]\tlr: 4.358e-03, eta: 12:41:32, time: 0.727, data_time: 0.005, memory: 2073, decode.loss_ce: 0.0712, decode.acc_seg: 96.0090, aux_0.loss_ce: 0.0704, aux_0.acc_seg: 96.0050, aux_1.loss_ce: 0.0730, aux_1.acc_seg: 95.8393, aux_2.loss_ce: 0.0332, aux_2.loss_dice: 0.3236, aux_2.acc_seg: 99.3168, loss: 0.5714\n",
      "2022-03-29 11:47:37,136 - mmseg - INFO - Iter [97400/160000]\tlr: 4.355e-03, eta: 12:40:54, time: 0.674, data_time: 0.006, memory: 2073, decode.loss_ce: 0.0720, decode.acc_seg: 95.7560, aux_0.loss_ce: 0.0729, aux_0.acc_seg: 95.7802, aux_1.loss_ce: 0.0745, aux_1.acc_seg: 95.6099, aux_2.loss_ce: 0.0355, aux_2.loss_dice: 0.3112, aux_2.acc_seg: 99.2288, loss: 0.5661\n",
      "2022-03-29 11:48:16,071 - mmseg - INFO - Iter [97450/160000]\tlr: 4.351e-03, eta: 12:40:19, time: 0.778, data_time: 0.059, memory: 2073, decode.loss_ce: 0.0761, decode.acc_seg: 95.4545, aux_0.loss_ce: 0.0765, aux_0.acc_seg: 95.4498, aux_1.loss_ce: 0.0792, aux_1.acc_seg: 95.1808, aux_2.loss_ce: 0.0352, aux_2.loss_dice: 0.3138, aux_2.acc_seg: 99.2375, loss: 0.5808\n",
      "2022-03-29 11:48:52,407 - mmseg - INFO - Iter [97500/160000]\tlr: 4.348e-03, eta: 12:39:43, time: 0.727, data_time: 0.006, memory: 2073, decode.loss_ce: 0.0709, decode.acc_seg: 95.8024, aux_0.loss_ce: 0.0701, aux_0.acc_seg: 95.8204, aux_1.loss_ce: 0.0754, aux_1.acc_seg: 95.6629, aux_2.loss_ce: 0.0328, aux_2.loss_dice: 0.3068, aux_2.acc_seg: 99.3056, loss: 0.5560\n",
      "2022-03-29 11:49:28,808 - mmseg - INFO - Iter [97550/160000]\tlr: 4.345e-03, eta: 12:39:06, time: 0.728, data_time: 0.005, memory: 2073, decode.loss_ce: 0.0787, decode.acc_seg: 95.6552, aux_0.loss_ce: 0.0794, aux_0.acc_seg: 95.5992, aux_1.loss_ce: 0.0816, aux_1.acc_seg: 95.4900, aux_2.loss_ce: 0.0334, aux_2.loss_dice: 0.3170, aux_2.acc_seg: 99.2935, loss: 0.5900\n",
      "2022-03-29 11:50:05,196 - mmseg - INFO - Iter [97600/160000]\tlr: 4.342e-03, eta: 12:38:30, time: 0.728, data_time: 0.006, memory: 2073, decode.loss_ce: 0.0667, decode.acc_seg: 95.9896, aux_0.loss_ce: 0.0688, aux_0.acc_seg: 95.9838, aux_1.loss_ce: 0.0696, aux_1.acc_seg: 95.8755, aux_2.loss_ce: 0.0330, aux_2.loss_dice: 0.3155, aux_2.acc_seg: 99.2978, loss: 0.5536\n",
      "2022-03-29 11:50:41,528 - mmseg - INFO - Iter [97650/160000]\tlr: 4.339e-03, eta: 12:37:53, time: 0.727, data_time: 0.006, memory: 2073, decode.loss_ce: 0.0648, decode.acc_seg: 96.3968, aux_0.loss_ce: 0.0646, aux_0.acc_seg: 96.3777, aux_1.loss_ce: 0.0667, aux_1.acc_seg: 96.2289, aux_2.loss_ce: 0.0339, aux_2.loss_dice: 0.3123, aux_2.acc_seg: 99.2812, loss: 0.5423\n",
      "2022-03-29 11:51:17,877 - mmseg - INFO - Iter [97700/160000]\tlr: 4.336e-03, eta: 12:37:17, time: 0.727, data_time: 0.005, memory: 2073, decode.loss_ce: 0.0668, decode.acc_seg: 96.0754, aux_0.loss_ce: 0.0667, aux_0.acc_seg: 96.0413, aux_1.loss_ce: 0.0700, aux_1.acc_seg: 95.8551, aux_2.loss_ce: 0.0325, aux_2.loss_dice: 0.2978, aux_2.acc_seg: 99.3022, loss: 0.5338\n",
      "2022-03-29 11:51:54,212 - mmseg - INFO - Iter [97750/160000]\tlr: 4.333e-03, eta: 12:36:40, time: 0.727, data_time: 0.005, memory: 2073, decode.loss_ce: 0.0726, decode.acc_seg: 95.8374, aux_0.loss_ce: 0.0726, aux_0.acc_seg: 95.8785, aux_1.loss_ce: 0.0752, aux_1.acc_seg: 95.7194, aux_2.loss_ce: 0.0333, aux_2.loss_dice: 0.2856, aux_2.acc_seg: 99.2852, loss: 0.5393\n",
      "2022-03-29 11:52:30,572 - mmseg - INFO - Iter [97800/160000]\tlr: 4.330e-03, eta: 12:36:04, time: 0.727, data_time: 0.006, memory: 2073, decode.loss_ce: 0.0792, decode.acc_seg: 95.6091, aux_0.loss_ce: 0.0789, aux_0.acc_seg: 95.6318, aux_1.loss_ce: 0.0820, aux_1.acc_seg: 95.4861, aux_2.loss_ce: 0.0310, aux_2.loss_dice: 0.3178, aux_2.acc_seg: 99.3532, loss: 0.5889\n",
      "2022-03-29 11:53:06,895 - mmseg - INFO - Iter [97850/160000]\tlr: 4.327e-03, eta: 12:35:27, time: 0.726, data_time: 0.006, memory: 2073, decode.loss_ce: 0.0634, decode.acc_seg: 96.2400, aux_0.loss_ce: 0.0626, aux_0.acc_seg: 96.2118, aux_1.loss_ce: 0.0665, aux_1.acc_seg: 96.0634, aux_2.loss_ce: 0.0330, aux_2.loss_dice: 0.3178, aux_2.acc_seg: 99.2971, loss: 0.5433\n",
      "2022-03-29 11:53:43,083 - mmseg - INFO - Iter [97900/160000]\tlr: 4.324e-03, eta: 12:34:50, time: 0.724, data_time: 0.006, memory: 2073, decode.loss_ce: 0.0613, decode.acc_seg: 96.2609, aux_0.loss_ce: 0.0623, aux_0.acc_seg: 96.2489, aux_1.loss_ce: 0.0643, aux_1.acc_seg: 96.1445, aux_2.loss_ce: 0.0315, aux_2.loss_dice: 0.3069, aux_2.acc_seg: 99.3325, loss: 0.5264\n",
      "2022-03-29 11:54:19,361 - mmseg - INFO - Iter [97950/160000]\tlr: 4.321e-03, eta: 12:34:14, time: 0.726, data_time: 0.006, memory: 2073, decode.loss_ce: 0.0730, decode.acc_seg: 95.9131, aux_0.loss_ce: 0.0735, aux_0.acc_seg: 95.9234, aux_1.loss_ce: 0.0759, aux_1.acc_seg: 95.7648, aux_2.loss_ce: 0.0326, aux_2.loss_dice: 0.2998, aux_2.acc_seg: 99.3182, loss: 0.5548\n",
      "2022-03-29 11:54:55,664 - mmseg - INFO - Iter [98000/160000]\tlr: 4.318e-03, eta: 12:33:37, time: 0.726, data_time: 0.005, memory: 2073, decode.loss_ce: 0.0771, decode.acc_seg: 95.5447, aux_0.loss_ce: 0.0768, aux_0.acc_seg: 95.5238, aux_1.loss_ce: 0.0788, aux_1.acc_seg: 95.3678, aux_2.loss_ce: 0.0334, aux_2.loss_dice: 0.3127, aux_2.acc_seg: 99.2885, loss: 0.5788\n",
      "2022-03-29 11:55:29,305 - mmseg - INFO - Iter [98050/160000]\tlr: 4.315e-03, eta: 12:32:59, time: 0.673, data_time: 0.006, memory: 2073, decode.loss_ce: 0.0837, decode.acc_seg: 95.1921, aux_0.loss_ce: 0.0838, aux_0.acc_seg: 95.1983, aux_1.loss_ce: 0.0880, aux_1.acc_seg: 95.0358, aux_2.loss_ce: 0.0337, aux_2.loss_dice: 0.3173, aux_2.acc_seg: 99.2935, loss: 0.6064\n",
      "2022-03-29 11:56:05,662 - mmseg - INFO - Iter [98100/160000]\tlr: 4.312e-03, eta: 12:32:22, time: 0.727, data_time: 0.006, memory: 2073, decode.loss_ce: 0.0758, decode.acc_seg: 95.8587, aux_0.loss_ce: 0.0773, aux_0.acc_seg: 95.8326, aux_1.loss_ce: 0.0781, aux_1.acc_seg: 95.6565, aux_2.loss_ce: 0.0343, aux_2.loss_dice: 0.3037, aux_2.acc_seg: 99.2603, loss: 0.5693\n",
      "2022-03-29 11:56:44,817 - mmseg - INFO - Iter [98150/160000]\tlr: 4.309e-03, eta: 12:31:48, time: 0.783, data_time: 0.059, memory: 2073, decode.loss_ce: 0.0691, decode.acc_seg: 96.0537, aux_0.loss_ce: 0.0696, aux_0.acc_seg: 96.0242, aux_1.loss_ce: 0.0732, aux_1.acc_seg: 95.8242, aux_2.loss_ce: 0.0342, aux_2.loss_dice: 0.3125, aux_2.acc_seg: 99.2779, loss: 0.5587\n",
      "2022-03-29 11:57:21,158 - mmseg - INFO - Iter [98200/160000]\tlr: 4.306e-03, eta: 12:31:11, time: 0.727, data_time: 0.005, memory: 2073, decode.loss_ce: 0.0730, decode.acc_seg: 95.6550, aux_0.loss_ce: 0.0732, aux_0.acc_seg: 95.6668, aux_1.loss_ce: 0.0757, aux_1.acc_seg: 95.4970, aux_2.loss_ce: 0.0356, aux_2.loss_dice: 0.3191, aux_2.acc_seg: 99.2458, loss: 0.5766\n",
      "2022-03-29 11:57:57,508 - mmseg - INFO - Iter [98250/160000]\tlr: 4.302e-03, eta: 12:30:35, time: 0.727, data_time: 0.005, memory: 2073, decode.loss_ce: 0.0780, decode.acc_seg: 95.4168, aux_0.loss_ce: 0.0787, aux_0.acc_seg: 95.3978, aux_1.loss_ce: 0.0809, aux_1.acc_seg: 95.2424, aux_2.loss_ce: 0.0363, aux_2.loss_dice: 0.3131, aux_2.acc_seg: 99.2189, loss: 0.5870\n",
      "2022-03-29 11:58:33,883 - mmseg - INFO - Iter [98300/160000]\tlr: 4.299e-03, eta: 12:29:58, time: 0.727, data_time: 0.005, memory: 2073, decode.loss_ce: 0.0700, decode.acc_seg: 96.0803, aux_0.loss_ce: 0.0714, aux_0.acc_seg: 96.0418, aux_1.loss_ce: 0.0734, aux_1.acc_seg: 95.8988, aux_2.loss_ce: 0.0336, aux_2.loss_dice: 0.3160, aux_2.acc_seg: 99.2851, loss: 0.5644\n",
      "2022-03-29 11:59:10,204 - mmseg - INFO - Iter [98350/160000]\tlr: 4.296e-03, eta: 12:29:21, time: 0.726, data_time: 0.006, memory: 2073, decode.loss_ce: 0.0654, decode.acc_seg: 96.2423, aux_0.loss_ce: 0.0657, aux_0.acc_seg: 96.2313, aux_1.loss_ce: 0.0682, aux_1.acc_seg: 96.0995, aux_2.loss_ce: 0.0329, aux_2.loss_dice: 0.3113, aux_2.acc_seg: 99.3052, loss: 0.5435\n"
     ]
    },
    {
     "name": "stderr",
     "output_type": "stream",
     "text": [
      "2022-03-29 11:59:46,542 - mmseg - INFO - Iter [98400/160000]\tlr: 4.293e-03, eta: 12:28:45, time: 0.727, data_time: 0.006, memory: 2073, decode.loss_ce: 0.0766, decode.acc_seg: 95.5998, aux_0.loss_ce: 0.0761, aux_0.acc_seg: 95.6208, aux_1.loss_ce: 0.0780, aux_1.acc_seg: 95.5200, aux_2.loss_ce: 0.0328, aux_2.loss_dice: 0.3059, aux_2.acc_seg: 99.3169, loss: 0.5694\n",
      "2022-03-29 12:00:22,822 - mmseg - INFO - Iter [98450/160000]\tlr: 4.290e-03, eta: 12:28:08, time: 0.725, data_time: 0.006, memory: 2073, decode.loss_ce: 0.0708, decode.acc_seg: 96.0549, aux_0.loss_ce: 0.0707, aux_0.acc_seg: 96.0353, aux_1.loss_ce: 0.0740, aux_1.acc_seg: 95.8372, aux_2.loss_ce: 0.0330, aux_2.loss_dice: 0.3150, aux_2.acc_seg: 99.3052, loss: 0.5636\n",
      "2022-03-29 12:00:59,126 - mmseg - INFO - Iter [98500/160000]\tlr: 4.287e-03, eta: 12:27:32, time: 0.726, data_time: 0.006, memory: 2073, decode.loss_ce: 0.0719, decode.acc_seg: 95.9355, aux_0.loss_ce: 0.0726, aux_0.acc_seg: 95.9492, aux_1.loss_ce: 0.0766, aux_1.acc_seg: 95.7643, aux_2.loss_ce: 0.0342, aux_2.loss_dice: 0.3197, aux_2.acc_seg: 99.2828, loss: 0.5750\n",
      "2022-03-29 12:01:35,461 - mmseg - INFO - Iter [98550/160000]\tlr: 4.284e-03, eta: 12:26:55, time: 0.727, data_time: 0.006, memory: 2073, decode.loss_ce: 0.0728, decode.acc_seg: 95.9238, aux_0.loss_ce: 0.0729, aux_0.acc_seg: 95.9138, aux_1.loss_ce: 0.0776, aux_1.acc_seg: 95.7942, aux_2.loss_ce: 0.0327, aux_2.loss_dice: 0.3081, aux_2.acc_seg: 99.3141, loss: 0.5641\n",
      "2022-03-29 12:02:11,786 - mmseg - INFO - Iter [98600/160000]\tlr: 4.281e-03, eta: 12:26:19, time: 0.726, data_time: 0.005, memory: 2073, decode.loss_ce: 0.0697, decode.acc_seg: 96.0020, aux_0.loss_ce: 0.0711, aux_0.acc_seg: 96.0034, aux_1.loss_ce: 0.0738, aux_1.acc_seg: 95.8306, aux_2.loss_ce: 0.0324, aux_2.loss_dice: 0.3271, aux_2.acc_seg: 99.3233, loss: 0.5741\n",
      "2022-03-29 12:02:48,115 - mmseg - INFO - Iter [98650/160000]\tlr: 4.278e-03, eta: 12:25:42, time: 0.727, data_time: 0.005, memory: 2073, decode.loss_ce: 0.0771, decode.acc_seg: 95.7729, aux_0.loss_ce: 0.0790, aux_0.acc_seg: 95.7464, aux_1.loss_ce: 0.0801, aux_1.acc_seg: 95.5768, aux_2.loss_ce: 0.0349, aux_2.loss_dice: 0.3254, aux_2.acc_seg: 99.2581, loss: 0.5964\n",
      "2022-03-29 12:03:21,802 - mmseg - INFO - Iter [98700/160000]\tlr: 4.275e-03, eta: 12:25:04, time: 0.674, data_time: 0.006, memory: 2073, decode.loss_ce: 0.0598, decode.acc_seg: 96.4316, aux_0.loss_ce: 0.0587, aux_0.acc_seg: 96.4606, aux_1.loss_ce: 0.0612, aux_1.acc_seg: 96.4097, aux_2.loss_ce: 0.0300, aux_2.loss_dice: 0.3149, aux_2.acc_seg: 99.3746, loss: 0.5246\n",
      "2022-03-29 12:03:58,166 - mmseg - INFO - Iter [98750/160000]\tlr: 4.272e-03, eta: 12:24:27, time: 0.727, data_time: 0.006, memory: 2073, decode.loss_ce: 0.0881, decode.acc_seg: 95.1113, aux_0.loss_ce: 0.0885, aux_0.acc_seg: 95.0890, aux_1.loss_ce: 0.0921, aux_1.acc_seg: 94.9273, aux_2.loss_ce: 0.0358, aux_2.loss_dice: 0.3256, aux_2.acc_seg: 99.2305, loss: 0.6302\n",
      "2022-03-29 12:04:34,551 - mmseg - INFO - Iter [98800/160000]\tlr: 4.269e-03, eta: 12:23:51, time: 0.728, data_time: 0.006, memory: 2073, decode.loss_ce: 0.0702, decode.acc_seg: 95.8846, aux_0.loss_ce: 0.0705, aux_0.acc_seg: 95.8754, aux_1.loss_ce: 0.0717, aux_1.acc_seg: 95.7281, aux_2.loss_ce: 0.0331, aux_2.loss_dice: 0.3126, aux_2.acc_seg: 99.2934, loss: 0.5580\n",
      "2022-03-29 12:05:13,616 - mmseg - INFO - Iter [98850/160000]\tlr: 4.266e-03, eta: 12:23:16, time: 0.781, data_time: 0.059, memory: 2073, decode.loss_ce: 0.0823, decode.acc_seg: 95.1618, aux_0.loss_ce: 0.0818, aux_0.acc_seg: 95.2041, aux_1.loss_ce: 0.0824, aux_1.acc_seg: 95.0418, aux_2.loss_ce: 0.0317, aux_2.loss_dice: 0.3088, aux_2.acc_seg: 99.3342, loss: 0.5869\n",
      "2022-03-29 12:05:49,939 - mmseg - INFO - Iter [98900/160000]\tlr: 4.263e-03, eta: 12:22:40, time: 0.727, data_time: 0.006, memory: 2073, decode.loss_ce: 0.0753, decode.acc_seg: 96.0112, aux_0.loss_ce: 0.0783, aux_0.acc_seg: 95.9321, aux_1.loss_ce: 0.0801, aux_1.acc_seg: 95.8107, aux_2.loss_ce: 0.0329, aux_2.loss_dice: 0.3220, aux_2.acc_seg: 99.3172, loss: 0.5886\n",
      "2022-03-29 12:06:26,311 - mmseg - INFO - Iter [98950/160000]\tlr: 4.260e-03, eta: 12:22:03, time: 0.727, data_time: 0.005, memory: 2073, decode.loss_ce: 0.0714, decode.acc_seg: 95.8447, aux_0.loss_ce: 0.0708, aux_0.acc_seg: 95.8440, aux_1.loss_ce: 0.0747, aux_1.acc_seg: 95.6676, aux_2.loss_ce: 0.0330, aux_2.loss_dice: 0.3238, aux_2.acc_seg: 99.3124, loss: 0.5737\n",
      "2022-03-29 12:07:02,637 - mmseg - INFO - Iter [99000/160000]\tlr: 4.257e-03, eta: 12:21:26, time: 0.726, data_time: 0.005, memory: 2073, decode.loss_ce: 0.0761, decode.acc_seg: 95.5425, aux_0.loss_ce: 0.0770, aux_0.acc_seg: 95.5143, aux_1.loss_ce: 0.0785, aux_1.acc_seg: 95.4228, aux_2.loss_ce: 0.0316, aux_2.loss_dice: 0.3045, aux_2.acc_seg: 99.3208, loss: 0.5677\n",
      "2022-03-29 12:07:38,981 - mmseg - INFO - Iter [99050/160000]\tlr: 4.253e-03, eta: 12:20:50, time: 0.727, data_time: 0.006, memory: 2073, decode.loss_ce: 0.0644, decode.acc_seg: 96.2396, aux_0.loss_ce: 0.0632, aux_0.acc_seg: 96.2294, aux_1.loss_ce: 0.0654, aux_1.acc_seg: 96.1437, aux_2.loss_ce: 0.0313, aux_2.loss_dice: 0.3181, aux_2.acc_seg: 99.3451, loss: 0.5425\n",
      "2022-03-29 12:08:15,320 - mmseg - INFO - Iter [99100/160000]\tlr: 4.250e-03, eta: 12:20:13, time: 0.727, data_time: 0.006, memory: 2073, decode.loss_ce: 0.0745, decode.acc_seg: 95.7727, aux_0.loss_ce: 0.0753, aux_0.acc_seg: 95.7951, aux_1.loss_ce: 0.0783, aux_1.acc_seg: 95.6244, aux_2.loss_ce: 0.0341, aux_2.loss_dice: 0.2987, aux_2.acc_seg: 99.2767, loss: 0.5610\n"
     ]
    },
    {
     "ename": "KeyboardInterrupt",
     "evalue": "",
     "output_type": "error",
     "traceback": [
      "\u001b[0;31m---------------------------------------------------------------------------\u001b[0m",
      "\u001b[0;31mKeyboardInterrupt\u001b[0m                         Traceback (most recent call last)",
      "\u001b[0;32m/tmp/ipykernel_177220/1011222107.py\u001b[0m in \u001b[0;36m<module>\u001b[0;34m\u001b[0m\n\u001b[0;32m----> 1\u001b[0;31m \u001b[0mtrain_segmentor\u001b[0m\u001b[0;34m(\u001b[0m\u001b[0mmodel\u001b[0m\u001b[0;34m,\u001b[0m \u001b[0mdatasets\u001b[0m\u001b[0;34m,\u001b[0m \u001b[0mcfg\u001b[0m\u001b[0;34m,\u001b[0m \u001b[0mdistributed\u001b[0m\u001b[0;34m=\u001b[0m\u001b[0;32mFalse\u001b[0m\u001b[0;34m,\u001b[0m \u001b[0mvalidate\u001b[0m\u001b[0;34m=\u001b[0m\u001b[0;32mTrue\u001b[0m\u001b[0;34m,\u001b[0m \u001b[0mmeta\u001b[0m\u001b[0;34m=\u001b[0m\u001b[0mdict\u001b[0m\u001b[0;34m(\u001b[0m\u001b[0;34m)\u001b[0m\u001b[0;34m)\u001b[0m\u001b[0;34m\u001b[0m\u001b[0;34m\u001b[0m\u001b[0m\n\u001b[0m",
      "\u001b[0;32m~/workspace/github/mmsegmentation/mmseg/apis/train.py\u001b[0m in \u001b[0;36mtrain_segmentor\u001b[0;34m(model, dataset, cfg, distributed, validate, timestamp, meta)\u001b[0m\n\u001b[1;32m    172\u001b[0m     \u001b[0;32melif\u001b[0m \u001b[0mcfg\u001b[0m\u001b[0;34m.\u001b[0m\u001b[0mload_from\u001b[0m\u001b[0;34m:\u001b[0m\u001b[0;34m\u001b[0m\u001b[0;34m\u001b[0m\u001b[0m\n\u001b[1;32m    173\u001b[0m         \u001b[0mrunner\u001b[0m\u001b[0;34m.\u001b[0m\u001b[0mload_checkpoint\u001b[0m\u001b[0;34m(\u001b[0m\u001b[0mcfg\u001b[0m\u001b[0;34m.\u001b[0m\u001b[0mload_from\u001b[0m\u001b[0;34m)\u001b[0m\u001b[0;34m\u001b[0m\u001b[0;34m\u001b[0m\u001b[0m\n\u001b[0;32m--> 174\u001b[0;31m     \u001b[0mrunner\u001b[0m\u001b[0;34m.\u001b[0m\u001b[0mrun\u001b[0m\u001b[0;34m(\u001b[0m\u001b[0mdata_loaders\u001b[0m\u001b[0;34m,\u001b[0m \u001b[0mcfg\u001b[0m\u001b[0;34m.\u001b[0m\u001b[0mworkflow\u001b[0m\u001b[0;34m)\u001b[0m\u001b[0;34m\u001b[0m\u001b[0;34m\u001b[0m\u001b[0m\n\u001b[0m",
      "\u001b[0;32m~/workspace/github/mmcv/mmcv/runner/iter_based_runner.py\u001b[0m in \u001b[0;36mrun\u001b[0;34m(self, data_loaders, workflow, max_iters, **kwargs)\u001b[0m\n\u001b[1;32m    132\u001b[0m                     \u001b[0;32mif\u001b[0m \u001b[0mmode\u001b[0m \u001b[0;34m==\u001b[0m \u001b[0;34m'train'\u001b[0m \u001b[0;32mand\u001b[0m \u001b[0mself\u001b[0m\u001b[0;34m.\u001b[0m\u001b[0miter\u001b[0m \u001b[0;34m>=\u001b[0m \u001b[0mself\u001b[0m\u001b[0;34m.\u001b[0m\u001b[0m_max_iters\u001b[0m\u001b[0;34m:\u001b[0m\u001b[0;34m\u001b[0m\u001b[0;34m\u001b[0m\u001b[0m\n\u001b[1;32m    133\u001b[0m                         \u001b[0;32mbreak\u001b[0m\u001b[0;34m\u001b[0m\u001b[0;34m\u001b[0m\u001b[0m\n\u001b[0;32m--> 134\u001b[0;31m                     \u001b[0miter_runner\u001b[0m\u001b[0;34m(\u001b[0m\u001b[0miter_loaders\u001b[0m\u001b[0;34m[\u001b[0m\u001b[0mi\u001b[0m\u001b[0;34m]\u001b[0m\u001b[0;34m,\u001b[0m \u001b[0;34m**\u001b[0m\u001b[0mkwargs\u001b[0m\u001b[0;34m)\u001b[0m\u001b[0;34m\u001b[0m\u001b[0;34m\u001b[0m\u001b[0m\n\u001b[0m\u001b[1;32m    135\u001b[0m \u001b[0;34m\u001b[0m\u001b[0m\n\u001b[1;32m    136\u001b[0m         \u001b[0mtime\u001b[0m\u001b[0;34m.\u001b[0m\u001b[0msleep\u001b[0m\u001b[0;34m(\u001b[0m\u001b[0;36m1\u001b[0m\u001b[0;34m)\u001b[0m  \u001b[0;31m# wait for some hooks like loggers to finish\u001b[0m\u001b[0;34m\u001b[0m\u001b[0;34m\u001b[0m\u001b[0m\n",
      "\u001b[0;32m~/workspace/github/mmcv/mmcv/runner/iter_based_runner.py\u001b[0m in \u001b[0;36mtrain\u001b[0;34m(self, data_loader, **kwargs)\u001b[0m\n\u001b[1;32m     65\u001b[0m             \u001b[0mself\u001b[0m\u001b[0;34m.\u001b[0m\u001b[0mlog_buffer\u001b[0m\u001b[0;34m.\u001b[0m\u001b[0mupdate\u001b[0m\u001b[0;34m(\u001b[0m\u001b[0moutputs\u001b[0m\u001b[0;34m[\u001b[0m\u001b[0;34m'log_vars'\u001b[0m\u001b[0;34m]\u001b[0m\u001b[0;34m,\u001b[0m \u001b[0moutputs\u001b[0m\u001b[0;34m[\u001b[0m\u001b[0;34m'num_samples'\u001b[0m\u001b[0;34m]\u001b[0m\u001b[0;34m)\u001b[0m\u001b[0;34m\u001b[0m\u001b[0;34m\u001b[0m\u001b[0m\n\u001b[1;32m     66\u001b[0m         \u001b[0mself\u001b[0m\u001b[0;34m.\u001b[0m\u001b[0moutputs\u001b[0m \u001b[0;34m=\u001b[0m \u001b[0moutputs\u001b[0m\u001b[0;34m\u001b[0m\u001b[0;34m\u001b[0m\u001b[0m\n\u001b[0;32m---> 67\u001b[0;31m         \u001b[0mself\u001b[0m\u001b[0;34m.\u001b[0m\u001b[0mcall_hook\u001b[0m\u001b[0;34m(\u001b[0m\u001b[0;34m'after_train_iter'\u001b[0m\u001b[0;34m)\u001b[0m\u001b[0;34m\u001b[0m\u001b[0;34m\u001b[0m\u001b[0m\n\u001b[0m\u001b[1;32m     68\u001b[0m         \u001b[0mself\u001b[0m\u001b[0;34m.\u001b[0m\u001b[0m_inner_iter\u001b[0m \u001b[0;34m+=\u001b[0m \u001b[0;36m1\u001b[0m\u001b[0;34m\u001b[0m\u001b[0;34m\u001b[0m\u001b[0m\n\u001b[1;32m     69\u001b[0m         \u001b[0mself\u001b[0m\u001b[0;34m.\u001b[0m\u001b[0m_iter\u001b[0m \u001b[0;34m+=\u001b[0m \u001b[0;36m1\u001b[0m\u001b[0;34m\u001b[0m\u001b[0;34m\u001b[0m\u001b[0m\n",
      "\u001b[0;32m~/workspace/github/mmcv/mmcv/runner/base_runner.py\u001b[0m in \u001b[0;36mcall_hook\u001b[0;34m(self, fn_name)\u001b[0m\n\u001b[1;32m    307\u001b[0m         \"\"\"\n\u001b[1;32m    308\u001b[0m         \u001b[0;32mfor\u001b[0m \u001b[0mhook\u001b[0m \u001b[0;32min\u001b[0m \u001b[0mself\u001b[0m\u001b[0;34m.\u001b[0m\u001b[0m_hooks\u001b[0m\u001b[0;34m:\u001b[0m\u001b[0;34m\u001b[0m\u001b[0;34m\u001b[0m\u001b[0m\n\u001b[0;32m--> 309\u001b[0;31m             \u001b[0mgetattr\u001b[0m\u001b[0;34m(\u001b[0m\u001b[0mhook\u001b[0m\u001b[0;34m,\u001b[0m \u001b[0mfn_name\u001b[0m\u001b[0;34m)\u001b[0m\u001b[0;34m(\u001b[0m\u001b[0mself\u001b[0m\u001b[0;34m)\u001b[0m\u001b[0;34m\u001b[0m\u001b[0;34m\u001b[0m\u001b[0m\n\u001b[0m\u001b[1;32m    310\u001b[0m \u001b[0;34m\u001b[0m\u001b[0m\n\u001b[1;32m    311\u001b[0m     \u001b[0;32mdef\u001b[0m \u001b[0mget_hook_info\u001b[0m\u001b[0;34m(\u001b[0m\u001b[0mself\u001b[0m\u001b[0;34m)\u001b[0m\u001b[0;34m:\u001b[0m\u001b[0;34m\u001b[0m\u001b[0;34m\u001b[0m\u001b[0m\n",
      "\u001b[0;32m~/workspace/github/mmcv/mmcv/runner/hooks/optimizer.py\u001b[0m in \u001b[0;36mafter_train_iter\u001b[0;34m(self, runner)\u001b[0m\n\u001b[1;32m     62\u001b[0m                 runner.log_buffer.update({'grad_norm': float(grad_norm)},\n\u001b[1;32m     63\u001b[0m                                          runner.outputs['num_samples'])\n\u001b[0;32m---> 64\u001b[0;31m         \u001b[0mrunner\u001b[0m\u001b[0;34m.\u001b[0m\u001b[0moptimizer\u001b[0m\u001b[0;34m.\u001b[0m\u001b[0mstep\u001b[0m\u001b[0;34m(\u001b[0m\u001b[0;34m)\u001b[0m\u001b[0;34m\u001b[0m\u001b[0;34m\u001b[0m\u001b[0m\n\u001b[0m\u001b[1;32m     65\u001b[0m \u001b[0;34m\u001b[0m\u001b[0m\n\u001b[1;32m     66\u001b[0m     \u001b[0;32mdef\u001b[0m \u001b[0mdetect_anomalous_parameters\u001b[0m\u001b[0;34m(\u001b[0m\u001b[0mself\u001b[0m\u001b[0;34m,\u001b[0m \u001b[0mloss\u001b[0m\u001b[0;34m,\u001b[0m \u001b[0mrunner\u001b[0m\u001b[0;34m)\u001b[0m\u001b[0;34m:\u001b[0m\u001b[0;34m\u001b[0m\u001b[0;34m\u001b[0m\u001b[0m\n",
      "\u001b[0;32m~/anaconda3/envs/python37/lib/python3.7/site-packages/torch/autograd/grad_mode.py\u001b[0m in \u001b[0;36mdecorate_context\u001b[0;34m(*args, **kwargs)\u001b[0m\n\u001b[1;32m     13\u001b[0m         \u001b[0;32mdef\u001b[0m \u001b[0mdecorate_context\u001b[0m\u001b[0;34m(\u001b[0m\u001b[0;34m*\u001b[0m\u001b[0margs\u001b[0m\u001b[0;34m,\u001b[0m \u001b[0;34m**\u001b[0m\u001b[0mkwargs\u001b[0m\u001b[0;34m)\u001b[0m\u001b[0;34m:\u001b[0m\u001b[0;34m\u001b[0m\u001b[0;34m\u001b[0m\u001b[0m\n\u001b[1;32m     14\u001b[0m             \u001b[0;32mwith\u001b[0m \u001b[0mself\u001b[0m\u001b[0;34m:\u001b[0m\u001b[0;34m\u001b[0m\u001b[0;34m\u001b[0m\u001b[0m\n\u001b[0;32m---> 15\u001b[0;31m                 \u001b[0;32mreturn\u001b[0m \u001b[0mfunc\u001b[0m\u001b[0;34m(\u001b[0m\u001b[0;34m*\u001b[0m\u001b[0margs\u001b[0m\u001b[0;34m,\u001b[0m \u001b[0;34m**\u001b[0m\u001b[0mkwargs\u001b[0m\u001b[0;34m)\u001b[0m\u001b[0;34m\u001b[0m\u001b[0;34m\u001b[0m\u001b[0m\n\u001b[0m\u001b[1;32m     16\u001b[0m         \u001b[0;32mreturn\u001b[0m \u001b[0mdecorate_context\u001b[0m\u001b[0;34m\u001b[0m\u001b[0;34m\u001b[0m\u001b[0m\n\u001b[1;32m     17\u001b[0m \u001b[0;34m\u001b[0m\u001b[0m\n",
      "\u001b[0;32m~/anaconda3/envs/python37/lib/python3.7/site-packages/torch/optim/sgd.py\u001b[0m in \u001b[0;36mstep\u001b[0;34m(self, closure)\u001b[0m\n\u001b[1;32m    104\u001b[0m                     \u001b[0;32melse\u001b[0m\u001b[0;34m:\u001b[0m\u001b[0;34m\u001b[0m\u001b[0;34m\u001b[0m\u001b[0m\n\u001b[1;32m    105\u001b[0m                         \u001b[0mbuf\u001b[0m \u001b[0;34m=\u001b[0m \u001b[0mparam_state\u001b[0m\u001b[0;34m[\u001b[0m\u001b[0;34m'momentum_buffer'\u001b[0m\u001b[0;34m]\u001b[0m\u001b[0;34m\u001b[0m\u001b[0;34m\u001b[0m\u001b[0m\n\u001b[0;32m--> 106\u001b[0;31m                         \u001b[0mbuf\u001b[0m\u001b[0;34m.\u001b[0m\u001b[0mmul_\u001b[0m\u001b[0;34m(\u001b[0m\u001b[0mmomentum\u001b[0m\u001b[0;34m)\u001b[0m\u001b[0;34m.\u001b[0m\u001b[0madd_\u001b[0m\u001b[0;34m(\u001b[0m\u001b[0md_p\u001b[0m\u001b[0;34m,\u001b[0m \u001b[0malpha\u001b[0m\u001b[0;34m=\u001b[0m\u001b[0;36m1\u001b[0m \u001b[0;34m-\u001b[0m \u001b[0mdampening\u001b[0m\u001b[0;34m)\u001b[0m\u001b[0;34m\u001b[0m\u001b[0;34m\u001b[0m\u001b[0m\n\u001b[0m\u001b[1;32m    107\u001b[0m                     \u001b[0;32mif\u001b[0m \u001b[0mnesterov\u001b[0m\u001b[0;34m:\u001b[0m\u001b[0;34m\u001b[0m\u001b[0;34m\u001b[0m\u001b[0m\n\u001b[1;32m    108\u001b[0m                         \u001b[0md_p\u001b[0m \u001b[0;34m=\u001b[0m \u001b[0md_p\u001b[0m\u001b[0;34m.\u001b[0m\u001b[0madd\u001b[0m\u001b[0;34m(\u001b[0m\u001b[0mbuf\u001b[0m\u001b[0;34m,\u001b[0m \u001b[0malpha\u001b[0m\u001b[0;34m=\u001b[0m\u001b[0mmomentum\u001b[0m\u001b[0;34m)\u001b[0m\u001b[0;34m\u001b[0m\u001b[0;34m\u001b[0m\u001b[0m\n",
      "\u001b[0;31mKeyboardInterrupt\u001b[0m: "
     ]
    }
   ],
   "source": [
    "train_segmentor(model, datasets, cfg, distributed=False, validate=True, meta=dict())"
   ]
  },
  {
   "cell_type": "code",
   "execution_count": null,
   "metadata": {},
   "outputs": [],
   "source": []
  },
  {
   "cell_type": "code",
   "execution_count": null,
   "metadata": {},
   "outputs": [],
   "source": [
    "img = mmcv.imread('../data/ade/ADEChallengeData2016/images-binary/validation/ADE_val_00000011.jpg')\n",
    "plt.imshow(img)"
   ]
  },
  {
   "cell_type": "code",
   "execution_count": null,
   "metadata": {},
   "outputs": [],
   "source": [
    "img = mmcv.imread('../data/ade/ADEChallengeData2016/images-binary/validation/ADE_val_00000011.jpg')\n",
    "\n",
    "model.cfg = cfg\n",
    "result = inference_segmentor(model, img)"
   ]
  },
  {
   "cell_type": "code",
   "execution_count": null,
   "metadata": {},
   "outputs": [],
   "source": [
    "np.asarray(result).max()"
   ]
  },
  {
   "cell_type": "code",
   "execution_count": null,
   "metadata": {},
   "outputs": [],
   "source": [
    "plt.figure(figsize=(8, 6))\n",
    "show_result_pyplot(model, img, result, palette)"
   ]
  },
  {
   "cell_type": "code",
   "execution_count": null,
   "metadata": {},
   "outputs": [],
   "source": [
    "img = mmcv.imread('../data/ade/ADEChallengeData2016/binary-labels/validation/ADE_val_00000011.png')\n",
    "img[img == 1] = 255\n",
    "plt.imshow(img, cmap=\"gray\")"
   ]
  },
  {
   "cell_type": "code",
   "execution_count": null,
   "metadata": {},
   "outputs": [],
   "source": [
    "img.max()"
   ]
  },
  {
   "cell_type": "code",
   "execution_count": null,
   "metadata": {},
   "outputs": [],
   "source": [
    "img.min()"
   ]
  },
  {
   "cell_type": "code",
   "execution_count": null,
   "metadata": {},
   "outputs": [],
   "source": [
    "# print('show video')\n",
    "# test a video and show the results\n",
    "video = mmcv.VideoReader('../data/ramp.mp4')"
   ]
  },
  {
   "cell_type": "code",
   "execution_count": null,
   "metadata": {},
   "outputs": [],
   "source": [
    "import time"
   ]
  },
  {
   "cell_type": "code",
   "execution_count": null,
   "metadata": {},
   "outputs": [],
   "source": [
    "video[1].shape"
   ]
  },
  {
   "cell_type": "code",
   "execution_count": null,
   "metadata": {},
   "outputs": [],
   "source": [
    "x = 100"
   ]
  },
  {
   "cell_type": "code",
   "execution_count": null,
   "metadata": {},
   "outputs": [],
   "source": [
    "%%time\n",
    "start = time.time()\n",
    "\n",
    "for frame in video[:x]: # time - how many frame per sec - metrics acc - IoU\n",
    "    result = inference_segmentor(model, frame)\n",
    "    #model.show_result(frame, result)\n",
    "\n",
    "end = time.time()"
   ]
  },
  {
   "cell_type": "code",
   "execution_count": null,
   "metadata": {},
   "outputs": [],
   "source": [
    "from humanfriendly import format_timespan\n",
    "print(\"Time:\", format_timespan(end-start))\n",
    "aux = (end-start)/len(video[:x])\n",
    "print(\"Time/frame:\", format_timespan(aux))\n",
    "print(\"FPS: \", 1/aux)"
   ]
  }
 ],
 "metadata": {
  "kernelspec": {
   "display_name": "Python 3 (ipykernel)",
   "language": "python",
   "name": "python3"
  },
  "language_info": {
   "codemirror_mode": {
    "name": "ipython",
    "version": 3
   },
   "file_extension": ".py",
   "mimetype": "text/x-python",
   "name": "python",
   "nbconvert_exporter": "python",
   "pygments_lexer": "ipython3",
   "version": "3.7.11"
  },
  "pycharm": {
   "stem_cell": {
    "cell_type": "raw",
    "metadata": {
     "collapsed": false
    },
    "source": []
   }
  }
 },
 "nbformat": 4,
 "nbformat_minor": 4
}
