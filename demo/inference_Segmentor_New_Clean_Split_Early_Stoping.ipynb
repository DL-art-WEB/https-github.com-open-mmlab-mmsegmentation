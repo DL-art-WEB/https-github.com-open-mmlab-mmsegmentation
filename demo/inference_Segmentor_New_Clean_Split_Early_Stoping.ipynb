{
 "cells": [
  {
   "cell_type": "code",
   "execution_count": 1,
   "metadata": {
    "scrolled": true
   },
   "outputs": [
    {
     "name": "stdout",
     "output_type": "stream",
     "text": [
      "nvcc: NVIDIA (R) Cuda compiler driver\n",
      "Copyright (c) 2005-2019 NVIDIA Corporation\n",
      "Built on Sun_Jul_28_19:07:16_PDT_2019\n",
      "Cuda compilation tools, release 10.1, V10.1.243\n",
      "gcc (Ubuntu 9.4.0-1ubuntu1~20.04.1) 9.4.0\n",
      "Copyright (C) 2019 Free Software Foundation, Inc.\n",
      "This is free software; see the source for copying conditions.  There is NO\n",
      "warranty; not even for MERCHANTABILITY or FITNESS FOR A PARTICULAR PURPOSE.\n",
      "\n"
     ]
    }
   ],
   "source": [
    "# Check nvcc version\n",
    "!nvcc -V\n",
    "# Check GCC version\n",
    "!gcc --version"
   ]
  },
  {
   "cell_type": "code",
   "execution_count": 2,
   "metadata": {},
   "outputs": [
    {
     "name": "stdout",
     "output_type": "stream",
     "text": [
      "1.11.0 True\n",
      "0.12.0\n",
      "0.22.1\n"
     ]
    }
   ],
   "source": [
    "# Check Pytorch installation\n",
    "import torch, torchvision\n",
    "print(torch.__version__, torch.cuda.is_available())\n",
    "print(torchvision.__version__)\n",
    "\n",
    "# Check MMSegmentation installation\n",
    "import mmseg\n",
    "print(mmseg.__version__)"
   ]
  },
  {
   "cell_type": "code",
   "execution_count": 3,
   "metadata": {},
   "outputs": [
    {
     "data": {
      "text/plain": [
       "tensor([0.], device='cuda:0')"
      ]
     },
     "execution_count": 3,
     "metadata": {},
     "output_type": "execute_result"
    }
   ],
   "source": [
    "# verify installation and cuda running\n",
    "torch.zeros(1).cuda()"
   ]
  },
  {
   "cell_type": "code",
   "execution_count": 4,
   "metadata": {},
   "outputs": [
    {
     "data": {
      "text/html": [
       "<style>.container { width:100% !important; }</style>"
      ],
      "text/plain": [
       "<IPython.core.display.HTML object>"
      ]
     },
     "metadata": {},
     "output_type": "display_data"
    }
   ],
   "source": [
    "from IPython.core.display import display, HTML\n",
    "display(HTML(\"<style>.container { width:100% !important; }</style>\"))\n",
    "\n",
    "# Python ≥3.5 is required\n",
    "import sys\n",
    "assert sys.version_info >= (3, 5)\n",
    "\n",
    "# Scikit-Learn ≥0.20 is required\n",
    "import sklearn\n",
    "assert sklearn.__version__ >= \"0.20\"\n",
    "\n",
    "# Common imports\n",
    "import numpy as np\n",
    "import os\n",
    "\n",
    "# to make this notebook's output stable across runs\n",
    "np.random.seed(42)\n",
    "\n",
    "# To plot pretty figures\n",
    "%matplotlib inline\n",
    "import matplotlib as mpl\n",
    "import matplotlib.pyplot as plt\n",
    "mpl.rc('axes', labelsize=14)\n",
    "mpl.rc('xtick', labelsize=12)\n",
    "mpl.rc('ytick', labelsize=12)\n",
    "plt.rc('font', size=12) \n",
    "plt.rc('figure', figsize = (12, 5))\n",
    "\n",
    "# Settings for the visualizations\n",
    "import seaborn as sns\n",
    "sns.set_style(\"whitegrid\")\n",
    "sns.set_context(\"notebook\", font_scale=1, rc={\"lines.linewidth\": 2,'font.family': [u'times']})\n",
    "\n",
    "import pandas as pd\n",
    "pd.set_option('display.max_rows', 25)\n",
    "pd.set_option('display.max_columns', 500)\n",
    "pd.set_option('display.max_colwidth', 50)\n",
    "\n",
    "# Ignore useless warnings (see SciPy issue #5998)\n",
    "import warnings\n",
    "warnings.filterwarnings(action=\"ignore\", message=\"^internal gelsd\")"
   ]
  },
  {
   "cell_type": "code",
   "execution_count": 5,
   "metadata": {
    "scrolled": true
   },
   "outputs": [
    {
     "name": "stdout",
     "output_type": "stream",
     "text": [
      "0\n",
      "1\n",
      "512\n",
      "2097152\n",
      "cuda:0\n"
     ]
    },
    {
     "name": "stderr",
     "output_type": "stream",
     "text": [
      "/home/user/anaconda3/envs/python37/lib/python3.7/site-packages/torch/cuda/memory.py:386: FutureWarning: torch.cuda.memory_cached has been renamed to torch.cuda.memory_reserved\n",
      "  FutureWarning)\n"
     ]
    }
   ],
   "source": [
    "from torchvision import datasets, models, transforms\n",
    "import torch.optim as optim\n",
    "\n",
    "if torch.cuda.is_available():\n",
    "    torch.cuda.init()\n",
    "    print(torch.cuda.current_device())\n",
    "    print(torch.cuda.device_count())\n",
    "    print(torch.cuda.memory_allocated())\n",
    "    print(torch.cuda.memory_cached())\n",
    "    cuda = torch.device('cuda')\n",
    "    cuda0 = torch.device('cuda:0')\n",
    "    print(cuda0)"
   ]
  },
  {
   "cell_type": "code",
   "execution_count": 6,
   "metadata": {},
   "outputs": [
    {
     "data": {
      "text/plain": [
       "'|===========================================================================|\\n|                  PyTorch CUDA memory summary, device ID 0                 |\\n|---------------------------------------------------------------------------|\\n|            CUDA OOMs: 0            |        cudaMalloc retries: 0         |\\n|===========================================================================|\\n|        Metric         | Cur Usage  | Peak Usage | Tot Alloc  | Tot Freed  |\\n|---------------------------------------------------------------------------|\\n| Allocated memory      |     512 B  |    3072 B  |    5632 B  |    5120 B  |\\n|       from large pool |       0 B  |       0 B  |       0 B  |       0 B  |\\n|       from small pool |     512 B  |    3072 B  |    5632 B  |    5120 B  |\\n|---------------------------------------------------------------------------|\\n| Active memory         |     512 B  |    3072 B  |    5632 B  |    5120 B  |\\n|       from large pool |       0 B  |       0 B  |       0 B  |       0 B  |\\n|       from small pool |     512 B  |    3072 B  |    5632 B  |    5120 B  |\\n|---------------------------------------------------------------------------|\\n| GPU reserved memory   |    2048 KB |    2048 KB |    2048 KB |       0 B  |\\n|       from large pool |       0 KB |       0 KB |       0 KB |       0 B  |\\n|       from small pool |    2048 KB |    2048 KB |    2048 KB |       0 B  |\\n|---------------------------------------------------------------------------|\\n| Non-releasable memory |    2047 KB |    2047 KB |    2052 KB |    5120 B  |\\n|       from large pool |       0 KB |       0 KB |       0 KB |       0 B  |\\n|       from small pool |    2047 KB |    2047 KB |    2052 KB |    5120 B  |\\n|---------------------------------------------------------------------------|\\n| Allocations           |       1    |       5    |      10    |       9    |\\n|       from large pool |       0    |       0    |       0    |       0    |\\n|       from small pool |       1    |       5    |      10    |       9    |\\n|---------------------------------------------------------------------------|\\n| Active allocs         |       1    |       5    |      10    |       9    |\\n|       from large pool |       0    |       0    |       0    |       0    |\\n|       from small pool |       1    |       5    |      10    |       9    |\\n|---------------------------------------------------------------------------|\\n| GPU reserved segments |       1    |       1    |       1    |       0    |\\n|       from large pool |       0    |       0    |       0    |       0    |\\n|       from small pool |       1    |       1    |       1    |       0    |\\n|---------------------------------------------------------------------------|\\n| Non-releasable allocs |       1    |       2    |       5    |       4    |\\n|       from large pool |       0    |       0    |       0    |       0    |\\n|       from small pool |       1    |       2    |       5    |       4    |\\n|---------------------------------------------------------------------------|\\n| Oversize allocations  |       0    |       0    |       0    |       0    |\\n|---------------------------------------------------------------------------|\\n| Oversize GPU segments |       0    |       0    |       0    |       0    |\\n|===========================================================================|\\n'"
      ]
     },
     "execution_count": 6,
     "metadata": {},
     "output_type": "execute_result"
    }
   ],
   "source": [
    "torch.cuda.memory_summary(device=None, abbreviated=False)"
   ]
  },
  {
   "cell_type": "code",
   "execution_count": 7,
   "metadata": {},
   "outputs": [],
   "source": [
    "torch.cuda.empty_cache()"
   ]
  },
  {
   "cell_type": "code",
   "execution_count": 8,
   "metadata": {
    "pycharm": {
     "is_executing": true
    }
   },
   "outputs": [],
   "source": [
    "from mmseg.apis import init_segmentor, inference_segmentor, show_result_pyplot\n",
    "from mmseg.core.evaluation import get_palette"
   ]
  },
  {
   "cell_type": "code",
   "execution_count": 9,
   "metadata": {
    "scrolled": true
   },
   "outputs": [
    {
     "name": "stdout",
     "output_type": "stream",
     "text": [
      "0.18.3\n"
     ]
    }
   ],
   "source": [
    "import os.path as osp\n",
    "import numpy as np\n",
    "from PIL import Image\n",
    "import skimage\n",
    "from skimage import io\n",
    "print(skimage.__version__)"
   ]
  },
  {
   "cell_type": "code",
   "execution_count": 10,
   "metadata": {},
   "outputs": [],
   "source": [
    "import mmcv"
   ]
  },
  {
   "cell_type": "code",
   "execution_count": 11,
   "metadata": {},
   "outputs": [
    {
     "data": {
      "text/plain": [
       "'1.4.8'"
      ]
     },
     "execution_count": 11,
     "metadata": {},
     "output_type": "execute_result"
    }
   ],
   "source": [
    "mmcv.__version__"
   ]
  },
  {
   "cell_type": "code",
   "execution_count": 12,
   "metadata": {},
   "outputs": [],
   "source": [
    "classes = ['background', 'human']\n",
    "palette = [[0,0,0], [255,0,0]]\n",
    "class_weight = [1.0, 6.0] # 0.10 human pixels"
   ]
  },
  {
   "cell_type": "code",
   "execution_count": 13,
   "metadata": {},
   "outputs": [],
   "source": [
    "import os.path as osp\n",
    "import mmcv\n",
    "import numpy as np\n",
    "from PIL import Image\n",
    "\n",
    "from mmseg.datasets.builder import DATASETS\n",
    "from mmseg.datasets.custom import CustomDataset\n",
    "\n",
    "\n",
    "@DATASETS.register_module()\n",
    "class HumanDataSet(CustomDataset):\n",
    "    CLASSES = classes\n",
    "    PALETTE = palette\n",
    "\n",
    "    def __init__(self, **kwargs):\n",
    "        super(HumanDataSet, self).__init__(**kwargs)\n",
    "        assert osp.exists(self.img_dir)\n",
    "\n",
    "    def results2img(self, results, imgfile_prefix, to_label_id, indices=None):\n",
    "        if indices is None:\n",
    "            indices = list(range(len(self)))\n",
    "\n",
    "        mmcv.mkdir_or_exist(imgfile_prefix)\n",
    "        result_files = []\n",
    "        for result, idx in zip(results, indices):\n",
    "\n",
    "            filename = self.img_infos[idx]['filename']\n",
    "            basename = osp.splitext(osp.basename(filename))[0]\n",
    "\n",
    "            png_filename = osp.join(imgfile_prefix, f'{basename}.png')\n",
    "\n",
    "            output = Image.fromarray(result.astype(np.uint8))\n",
    "            output.save(png_filename)\n",
    "            result_files.append(png_filename)\n",
    "\n",
    "        return result_files\n",
    "\n",
    "    def format_results(self,\n",
    "                       results,\n",
    "                       imgfile_prefix,\n",
    "                       to_label_id=True,\n",
    "                       indices=None):\n",
    "        \n",
    "        if indices is None:\n",
    "            indices = list(range(len(self)))\n",
    "\n",
    "        assert isinstance(results, list), 'results must be a list.'\n",
    "        assert isinstance(indices, list), 'indices must be a list.'\n",
    "\n",
    "        result_files = self.results2img(results, imgfile_prefix, to_label_id,\n",
    "                                        indices)\n",
    "        return result_files"
   ]
  },
  {
   "cell_type": "code",
   "execution_count": 14,
   "metadata": {},
   "outputs": [],
   "source": [
    "from mmcv import Config\n",
    "cfg = Config.fromfile('../configs/segmenter/segmenter_vit-s_mask_8x1_512x512_160k_ade20k.py')"
   ]
  },
  {
   "cell_type": "code",
   "execution_count": 15,
   "metadata": {},
   "outputs": [],
   "source": [
    "data_root = '../data/NewBinaryDataSet/binaryAnnotationsMIX30_v3_WithAddedNoHumanImages/'\n",
    "img_dir = 'humanImages'\n",
    "ann_dir = 'binaryAnnotations'"
   ]
  },
  {
   "cell_type": "code",
   "execution_count": 16,
   "metadata": {},
   "outputs": [],
   "source": [
    "decode_head_loss_weight = 1.0\n",
    "auxiliary_head_loss_weight = decode_head_loss_weight*0.4"
   ]
  },
  {
   "cell_type": "code",
   "execution_count": 17,
   "metadata": {},
   "outputs": [],
   "source": [
    "norm_config_type = 'LN'"
   ]
  },
  {
   "cell_type": "code",
   "execution_count": 18,
   "metadata": {},
   "outputs": [],
   "source": [
    "from mmseg.apis import set_random_seed\n",
    "# model settings\n",
    "cfg.backbone_norm_cfg = dict(type=norm_config_type, eps=1e-6, requires_grad=True)\n",
    "model = dict(\n",
    "    type='EncoderDecoder',\n",
    "    pretrained=None,\n",
    "    backbone=dict(\n",
    "        type='VisionTransformer',\n",
    "        img_size=(512, 512),\n",
    "        patch_size=16,\n",
    "        in_channels=3,\n",
    "        embed_dims=384,\n",
    "        num_layers=12,\n",
    "        num_heads=6,\n",
    "        drop_path_rate=0.1,\n",
    "        attn_drop_rate=0.0,\n",
    "        drop_rate=0.0,\n",
    "        final_norm=True,\n",
    "        norm_cfg=cfg.backbone_norm_cfg,\n",
    "        with_cls_token=True,\n",
    "        interpolate_mode='bicubic',\n",
    "    ),\n",
    "    decode_head=dict(\n",
    "        type='SegmenterMaskTransformerHead',\n",
    "        in_channels=384,\n",
    "        channels=384,\n",
    "        num_classes=2,\n",
    "        num_layers=2,\n",
    "        num_heads=6,\n",
    "        embed_dims=384,\n",
    "        dropout_ratio=0.0,\n",
    "        loss_decode=dict( # Config of loss function for the decode_head.\n",
    "                type='CrossEntropyLoss', # Type of loss used for segmentation.\n",
    "                loss_name='loss_ce',\n",
    "                use_sigmoid=False, # Whether use sigmoid activation for segmentation.\n",
    "                loss_weight=decode_head_loss_weight, # Loss weight of auxiliary head, which is usually 0.4 of decode head.\n",
    "                class_weight=class_weight\n",
    "        ),\n",
    "    ),\n",
    "    test_cfg=dict(mode='slide', crop_size=(512, 512), stride=(480, 480)),\n",
    ")\n"
   ]
  },
  {
   "cell_type": "raw",
   "metadata": {},
   "source": [
    "loss_decode=[ \n",
    "        dict( # Config of loss function for the decode_head.\n",
    "            type='CrossEntropyLoss', # Type of loss used for segmentation.\n",
    "            loss_name='loss_ce',\n",
    "            use_sigmoid=False, # Whether use sigmoid activation for segmentation.\n",
    "            loss_weight=decode_head_loss_weight, # Loss weight of auxiliary head, which is usually 0.4 of decode head.\n",
    "            #class_weight=class_weight\n",
    "        ),\n",
    "        dict( # Config of loss function for the decode_head.\n",
    "            type='DiceLoss', # Type of loss used for segmentation.\n",
    "            loss_name='loss_dice',\n",
    "            use_sigmoid=False, # Whether use sigmoid activation for segmentation.\n",
    "            loss_weight=decode_head_loss_weight, # Loss weight of auxiliary head, which is usually 0.4 of decode head.\n",
    "            class_weight=class_weight\n",
    "        )\n",
    "    ]"
   ]
  },
  {
   "cell_type": "code",
   "execution_count": 19,
   "metadata": {},
   "outputs": [],
   "source": [
    "############### start dataset \n",
    "cfg.dataset_type = 'HumanDataSet'  # Dataset type, this will be used to define the dataset.\n",
    "cfg.data_root = data_root  # Root path of data.\n",
    "cfg.img_norm_cfg = dict(  # Image normalization config to normalize the input images.\n",
    "    mean=[123.675, 116.28, 103.53],  # Mean values used to pre-training the pre-trained backbone models.\n",
    "    std=[58.395, 57.12, 57.375],  # Standard variance used to pre-training the pre-trained backbone models.\n",
    "    to_rgb=True)  # The channel orders of image used to pre-training the pre-trained backbone models.\n",
    "cfg.crop_size = (512, 512)  # The crop size during training.\n",
    "\n",
    "cfg.train_pipeline = [  # Training pipeline.\n",
    "    dict(type='LoadImageFromFile'),  # First pipeline to load images from file path.\n",
    "    dict(type='LoadAnnotations', reduce_zero_label=False),  # Second pipeline to load annotations for current image.\n",
    "    dict(type='Resize',  # Augmentation pipeline that resize the images and their annotations.\n",
    "        img_scale=(2048, 512),  # The largest scale of image.\n",
    "        ratio_range=(0.5, 2.0)), # The augmented scale range as ratio.\n",
    "    dict(type='RandomCrop',  # Augmentation pipeline that randomly crop a patch from current image.\n",
    "        crop_size=cfg.crop_size,  # The crop size of patch.\n",
    "        cat_max_ratio=0.75),  # The max area ratio that could be occupied by single category.\n",
    "    dict(\n",
    "        type='RandomFlip',  # Augmentation pipeline that flip the images and their annotations\n",
    "        flip_ratio=0.5),  # The ratio or probability to flip\n",
    "    dict(type='PhotoMetricDistortion'),  # Augmentation pipeline that distort current image with several photo metric methods.\n",
    "    dict(\n",
    "        type='Normalize',  # Augmentation pipeline that normalize the input images\n",
    "        **cfg.img_norm_cfg),\n",
    "    dict(type='Pad',  # Augmentation pipeline that pad the image to specified size.\n",
    "        size=cfg.crop_size,  # The output size of padding.\n",
    "        pad_val=0,  # The padding value for image.\n",
    "        seg_pad_val=255),  # The padding value of 'gt_semantic_seg'.\n",
    "    dict(type='DefaultFormatBundle'),  # Default format bundle to gather data in the pipeline\n",
    "    dict(type='Collect',  # Pipeline that decides which keys in the data should be passed to the segmentor\n",
    "        keys=['img', 'gt_semantic_seg'])\n",
    "]\n",
    "\n",
    "cfg.test_pipeline = [\n",
    "    dict(type='LoadImageFromFile'),  # First pipeline to load images from file path\n",
    "    dict(\n",
    "        type='MultiScaleFlipAug',  # An encapsulation that encapsulates the test time augmentations\n",
    "        img_scale=(2048, 512),  # Decides the largest scale for testing, used for the Resize pipeline\n",
    "        flip=False,  # Whether to flip images during testing\n",
    "        transforms=[\n",
    "            dict(type='Resize',  # Use resize augmentation\n",
    "                 keep_ratio=True),  # Whether to keep the ratio between height and width, the img_scale set here will be suppressed by the img_scale set above.\n",
    "            #dict(type='ResizeToMultiple', size_divisor=32),\n",
    "            dict(type='RandomFlip'),  # Thought RandomFlip is added in pipeline, it is not used when flip=False\n",
    "            dict(\n",
    "                type='Normalize',  # Normalization config, the values are from img_norm_cfg\n",
    "                 **cfg.img_norm_cfg),\n",
    "            dict(type='ImageToTensor', # Convert image to tensor\n",
    "                keys=['img']),\n",
    "            dict(type='Collect', # Collect pipeline that collect necessary keys for testing.\n",
    "                keys=['img'])\n",
    "        ]\n",
    "    )\n",
    "]\n",
    "cfg.data = dict(\n",
    "    samples_per_gpu=1,\n",
    "    workers_per_gpu=8,\n",
    "    train=dict(\n",
    "        type=cfg.dataset_type,\n",
    "        data_root=cfg.data_root,\n",
    "        img_dir=f'{img_dir}/training',\n",
    "        ann_dir=f'{ann_dir}/training',\n",
    "        pipeline=cfg.train_pipeline),\n",
    "    val=dict(\n",
    "        type=cfg.dataset_type,\n",
    "        data_root=cfg.data_root,\n",
    "        img_dir=f'{img_dir}/validation',\n",
    "        ann_dir=f'{ann_dir}/validation',\n",
    "        pipeline=cfg.test_pipeline),\n",
    "    test=dict(\n",
    "        type=cfg.dataset_type,\n",
    "        data_root=cfg.data_root,\n",
    "        img_dir=f'{img_dir}/validation',\n",
    "        ann_dir=f'{ann_dir}/validation',\n",
    "        pipeline=cfg.test_pipeline))\n",
    "############ end dataset"
   ]
  },
  {
   "cell_type": "code",
   "execution_count": 20,
   "metadata": {
    "scrolled": true
   },
   "outputs": [
    {
     "name": "stderr",
     "output_type": "stream",
     "text": [
      "2022-04-14 11:17:03,914 - mmseg - INFO - Loaded 43675 images\n"
     ]
    },
    {
     "name": "stdout",
     "output_type": "stream",
     "text": [
      "2\n"
     ]
    }
   ],
   "source": [
    "from mmseg.datasets import build_dataset\n",
    "from mmseg.models import build_segmentor\n",
    "from mmseg.apis import train_segmentor\n",
    "\n",
    "# Build the dataset\n",
    "datasets = [build_dataset(cfg.data.train)]\n",
    "#print(datasets[0].CLASSES)\n",
    "print(len(datasets[0].CLASSES))"
   ]
  },
  {
   "cell_type": "code",
   "execution_count": 21,
   "metadata": {},
   "outputs": [],
   "source": [
    "# modify num classes of the model in decode/auxiliary head\n",
    "cfg.model.decode_head.num_classes = len(datasets[0].CLASSES)"
   ]
  },
  {
   "cell_type": "code",
   "execution_count": 22,
   "metadata": {},
   "outputs": [],
   "source": [
    "# Set up working dir to save files and logs.\n",
    "cfg.work_dir = './work_dirs/test.segmentor.CAD.30e.5es.S'\n",
    "\n",
    "############ start default runtime\n",
    "cfg.log_config = dict(  # config to register logger hook\n",
    "    interval=100,  # Interval to print the log\n",
    "    hooks=[\n",
    "        dict(type='TensorboardLoggerHook'),  # The Tensorboard logger is also supported\n",
    "        dict(type='TextLoggerHook', by_epoch=True)\n",
    "    ]\n",
    ")\n",
    "cfg.dist_params = dict(backend='nccl')  # Parameters to setup distributed training, the port can also be set.\n",
    "cfg.log_level = 'INFO'  # The level of logging.\n",
    "cfg.load_from = None #'./work_dirs/testv1.cleaned_augmented_dataset.160000iter.earlystoping/best_mIoU_epoch_4.pth'  # load models as a pre-trained model from a given path. This will not resume training.\n",
    "cfg.resume_from = None #'./work_dirs/testv1.cleaned_augmented_dataset.160000iter.earlystoping/best_mIoU_epoch_4.pth'  # Resume checkpoints from a given path, the training will be resumed from the iteration when the checkpoint's is saved.\n",
    "cfg.workflow = [('train', 1)]  # , ('val', 1) Workflow for runner. [('train', 1)] means there is only one workflow and the workflow named 'train' is executed once. The workflow trains the model by 40000 iterations according to the `runner.max_iters`.\n",
    "cfg.cudnn_benchmark = True  # Whether use cudnn_benchmark to speed up, which is fast for fixed input size.\n",
    "############ end default runtime\n",
    "\n",
    "############ start schedule\n",
    "cfg.optimizer = dict(\n",
    "    type='SGD',\n",
    "    lr=0.01,\n",
    "    weight_decay=0.0005,\n",
    "    momentum=0.9\n",
    ")\n",
    "cfg.optimizer_config = dict()  # Config used to build the optimizer hook, refer to https://github.com/open-mmlab/mmcv/blob/master/mmcv/runner/hooks/optimizer.py#L8 for implementation details.\n",
    "cfg.lr_config = dict(\n",
    "    policy='poly',  # The policy of scheduler, also support Step, CosineAnnealing, Cyclic, etc. Refer to details of supported LrUpdater from https://github.com/open-mmlab/mmcv/blob/master/mmcv/runner/hooks/lr_updater.py#L9.\n",
    "    by_epoch=True,\n",
    "    warmup='linear',\n",
    "    warmup_iters=1,\n",
    "    warmup_ratio=1e-6,\n",
    "    warmup_by_epoch=True,\n",
    "    power=0.9,\n",
    "    min_lr=1e-4\n",
    ")\n",
    "# velocity = Momentum(velocity) + gradient(1-momentum)\n",
    "#cfg.momentum_config = dict(\n",
    "#    policy='LinearAnnealing',\n",
    "#    min_momentum=0.5,\n",
    "#    by_epoch=True,\n",
    "#    warmup='linear',\n",
    "#    warmup_iters=1,\n",
    "#    warmup_ratio=0.9\n",
    "#)\n",
    "cfg.runner=dict(\n",
    "    type='EpochBasedRunner', # Type of runner to use (i.e. IterBasedRunner or EpochBasedRunner)\n",
    "    max_epochs=50\n",
    ")\n",
    "cfg.checkpoint_config = dict(  # Config to set the checkpoint hook, Refer to https://github.com/open-mmlab/mmcv/blob/master/mmcv/runner/hooks/checkpoint.py for implementation.\n",
    "    by_epoch=True,  # Whether count by epoch or not.\n",
    "    interval=1,\n",
    "    meta=dict(\n",
    "        CLASSES=classes,\n",
    "        PALETTE=palette\n",
    "    )\n",
    ")\n",
    "cfg.evaluation = dict(  # The config to build the evaluation hook. Please refer to mmseg/core/evaluation/eval_hook.py for details.\n",
    "    interval=1,  # The interval of evaluation.\n",
    "    metric='mIoU',\n",
    "    pre_eval=True,\n",
    "    early_stopping=True,\n",
    "    max_epochs=5\n",
    ")\n",
    "\n",
    "############ end schedule"
   ]
  },
  {
   "cell_type": "code",
   "execution_count": 23,
   "metadata": {
    "scrolled": true
   },
   "outputs": [
    {
     "name": "stdout",
     "output_type": "stream",
     "text": [
      "Config:\n",
      "checkpoint = 'https://download.openmmlab.com/mmsegmentation/v0.5/pretrain/segmenter/vit_small_p16_384_20220308-410f6037.pth'\n",
      "backbone_norm_cfg = dict(type='LN', eps=1e-06, requires_grad=True)\n",
      "model = dict(\n",
      "    type='EncoderDecoder',\n",
      "    pretrained=\n",
      "    'https://download.openmmlab.com/mmsegmentation/v0.5/pretrain/segmenter/vit_small_p16_384_20220308-410f6037.pth',\n",
      "    backbone=dict(\n",
      "        type='VisionTransformer',\n",
      "        img_size=(512, 512),\n",
      "        patch_size=16,\n",
      "        in_channels=3,\n",
      "        embed_dims=384,\n",
      "        num_layers=12,\n",
      "        num_heads=6,\n",
      "        drop_path_rate=0.1,\n",
      "        attn_drop_rate=0.0,\n",
      "        drop_rate=0.0,\n",
      "        final_norm=True,\n",
      "        norm_cfg=dict(type='LN', eps=1e-06, requires_grad=True),\n",
      "        with_cls_token=True,\n",
      "        interpolate_mode='bicubic'),\n",
      "    decode_head=dict(\n",
      "        type='SegmenterMaskTransformerHead',\n",
      "        in_channels=384,\n",
      "        channels=384,\n",
      "        num_classes=2,\n",
      "        num_layers=2,\n",
      "        num_heads=6,\n",
      "        embed_dims=384,\n",
      "        dropout_ratio=0.0,\n",
      "        loss_decode=dict(\n",
      "            type='CrossEntropyLoss', use_sigmoid=False, loss_weight=1.0)),\n",
      "    test_cfg=dict(mode='slide', crop_size=(512, 512), stride=(480, 480)))\n",
      "dataset_type = 'HumanDataSet'\n",
      "data_root = '../data/NewBinaryDataSet/binaryAnnotationsMIX30_v3_WithAddedNoHumanImages/'\n",
      "img_norm_cfg = dict(\n",
      "    mean=[123.675, 116.28, 103.53], std=[58.395, 57.12, 57.375], to_rgb=True)\n",
      "crop_size = (512, 512)\n",
      "train_pipeline = [\n",
      "    dict(type='LoadImageFromFile'),\n",
      "    dict(type='LoadAnnotations', reduce_zero_label=False),\n",
      "    dict(type='Resize', img_scale=(2048, 512), ratio_range=(0.5, 2.0)),\n",
      "    dict(type='RandomCrop', crop_size=(512, 512), cat_max_ratio=0.75),\n",
      "    dict(type='RandomFlip', flip_ratio=0.5),\n",
      "    dict(type='PhotoMetricDistortion'),\n",
      "    dict(\n",
      "        type='Normalize',\n",
      "        mean=[123.675, 116.28, 103.53],\n",
      "        std=[58.395, 57.12, 57.375],\n",
      "        to_rgb=True),\n",
      "    dict(type='Pad', size=(512, 512), pad_val=0, seg_pad_val=255),\n",
      "    dict(type='DefaultFormatBundle'),\n",
      "    dict(type='Collect', keys=['img', 'gt_semantic_seg'])\n",
      "]\n",
      "test_pipeline = [\n",
      "    dict(type='LoadImageFromFile'),\n",
      "    dict(\n",
      "        type='MultiScaleFlipAug',\n",
      "        img_scale=(2048, 512),\n",
      "        flip=False,\n",
      "        transforms=[\n",
      "            dict(type='Resize', keep_ratio=True),\n",
      "            dict(type='RandomFlip'),\n",
      "            dict(\n",
      "                type='Normalize',\n",
      "                mean=[123.675, 116.28, 103.53],\n",
      "                std=[58.395, 57.12, 57.375],\n",
      "                to_rgb=True),\n",
      "            dict(type='ImageToTensor', keys=['img']),\n",
      "            dict(type='Collect', keys=['img'])\n",
      "        ])\n",
      "]\n",
      "data = dict(\n",
      "    samples_per_gpu=1,\n",
      "    workers_per_gpu=8,\n",
      "    train=dict(\n",
      "        type='HumanDataSet',\n",
      "        data_root=\n",
      "        '../data/NewBinaryDataSet/binaryAnnotationsMIX30_v3_WithAddedNoHumanImages/',\n",
      "        img_dir='humanImages/training',\n",
      "        ann_dir='binaryAnnotations/training',\n",
      "        pipeline=[\n",
      "            dict(type='LoadImageFromFile'),\n",
      "            dict(type='LoadAnnotations', reduce_zero_label=False),\n",
      "            dict(type='Resize', img_scale=(2048, 512), ratio_range=(0.5, 2.0)),\n",
      "            dict(type='RandomCrop', crop_size=(512, 512), cat_max_ratio=0.75),\n",
      "            dict(type='RandomFlip', flip_ratio=0.5),\n",
      "            dict(type='PhotoMetricDistortion'),\n",
      "            dict(\n",
      "                type='Normalize',\n",
      "                mean=[123.675, 116.28, 103.53],\n",
      "                std=[58.395, 57.12, 57.375],\n",
      "                to_rgb=True),\n",
      "            dict(type='Pad', size=(512, 512), pad_val=0, seg_pad_val=255),\n",
      "            dict(type='DefaultFormatBundle'),\n",
      "            dict(type='Collect', keys=['img', 'gt_semantic_seg'])\n",
      "        ]),\n",
      "    val=dict(\n",
      "        type='HumanDataSet',\n",
      "        data_root=\n",
      "        '../data/NewBinaryDataSet/binaryAnnotationsMIX30_v3_WithAddedNoHumanImages/',\n",
      "        img_dir='humanImages/validation',\n",
      "        ann_dir='binaryAnnotations/validation',\n",
      "        pipeline=[\n",
      "            dict(type='LoadImageFromFile'),\n",
      "            dict(\n",
      "                type='MultiScaleFlipAug',\n",
      "                img_scale=(2048, 512),\n",
      "                flip=False,\n",
      "                transforms=[\n",
      "                    dict(type='Resize', keep_ratio=True),\n",
      "                    dict(type='RandomFlip'),\n",
      "                    dict(\n",
      "                        type='Normalize',\n",
      "                        mean=[123.675, 116.28, 103.53],\n",
      "                        std=[58.395, 57.12, 57.375],\n",
      "                        to_rgb=True),\n",
      "                    dict(type='ImageToTensor', keys=['img']),\n",
      "                    dict(type='Collect', keys=['img'])\n",
      "                ])\n",
      "        ]),\n",
      "    test=dict(\n",
      "        type='HumanDataSet',\n",
      "        data_root=\n",
      "        '../data/NewBinaryDataSet/binaryAnnotationsMIX30_v3_WithAddedNoHumanImages/',\n",
      "        img_dir='humanImages/validation',\n",
      "        ann_dir='binaryAnnotations/validation',\n",
      "        pipeline=[\n",
      "            dict(type='LoadImageFromFile'),\n",
      "            dict(\n",
      "                type='MultiScaleFlipAug',\n",
      "                img_scale=(2048, 512),\n",
      "                flip=False,\n",
      "                transforms=[\n",
      "                    dict(type='Resize', keep_ratio=True),\n",
      "                    dict(type='RandomFlip'),\n",
      "                    dict(\n",
      "                        type='Normalize',\n",
      "                        mean=[123.675, 116.28, 103.53],\n",
      "                        std=[58.395, 57.12, 57.375],\n",
      "                        to_rgb=True),\n",
      "                    dict(type='ImageToTensor', keys=['img']),\n",
      "                    dict(type='Collect', keys=['img'])\n",
      "                ])\n",
      "        ]))\n",
      "log_config = dict(\n",
      "    interval=100,\n",
      "    hooks=[\n",
      "        dict(type='TensorboardLoggerHook'),\n",
      "        dict(type='TextLoggerHook', by_epoch=True)\n",
      "    ])\n",
      "dist_params = dict(backend='nccl')\n",
      "log_level = 'INFO'\n",
      "load_from = None\n",
      "resume_from = None\n",
      "workflow = [('train', 1)]\n",
      "cudnn_benchmark = True\n",
      "optimizer = dict(type='SGD', lr=0.01, weight_decay=0.0005, momentum=0.9)\n",
      "optimizer_config = dict()\n",
      "lr_config = dict(\n",
      "    policy='poly',\n",
      "    by_epoch=True,\n",
      "    warmup='linear',\n",
      "    warmup_iters=1,\n",
      "    warmup_ratio=1e-06,\n",
      "    warmup_by_epoch=True,\n",
      "    power=0.9,\n",
      "    min_lr=0.0001)\n",
      "runner = dict(type='EpochBasedRunner', max_epochs=50)\n",
      "checkpoint_config = dict(\n",
      "    by_epoch=True,\n",
      "    interval=1,\n",
      "    meta=dict(\n",
      "        CLASSES=['background', 'human'], PALETTE=[[0, 0, 0], [255, 0, 0]]))\n",
      "evaluation = dict(\n",
      "    interval=1,\n",
      "    metric='mIoU',\n",
      "    pre_eval=True,\n",
      "    early_stopping=True,\n",
      "    max_epochs=5)\n",
      "work_dir = './work_dirs/test.segmentor.CAD.30e.5es.S'\n",
      "seed = 0\n",
      "gpu_ids = range(0, 1)\n",
      "\n"
     ]
    }
   ],
   "source": [
    "# Set seed to facitate reproducing the result\n",
    "cfg.seed = 0\n",
    "set_random_seed(0, deterministic=False)\n",
    "cfg.gpu_ids = range(1)\n",
    "\n",
    "# Let's have a look at the final config used for training\n",
    "print(f'Config:\\n{cfg.pretty_text}')"
   ]
  },
  {
   "cell_type": "code",
   "execution_count": 24,
   "metadata": {
    "scrolled": false
   },
   "outputs": [
    {
     "name": "stderr",
     "output_type": "stream",
     "text": [
      "/home/user/workspace/github/mmsegmentation/mmseg/models/backbones/vit.py:193: UserWarning: DeprecationWarning: pretrained is deprecated, please use \"init_cfg\" instead\n",
      "  warnings.warn('DeprecationWarning: pretrained is deprecated, '\n"
     ]
    }
   ],
   "source": [
    "# Build the detector\n",
    "model = build_segmentor(cfg.model, train_cfg=cfg.get('train_cfg'), test_cfg=cfg.get('test_cfg'))"
   ]
  },
  {
   "cell_type": "code",
   "execution_count": 25,
   "metadata": {},
   "outputs": [],
   "source": [
    "# Add an attribute for visualization convenience\n",
    "model.CLASSES = datasets[0].CLASSES\n",
    "model.PALETTE = datasets[0].PALETTE\n",
    "\n",
    "# Create work_dir\n",
    "mmcv.mkdir_or_exist(osp.abspath(cfg.work_dir))"
   ]
  },
  {
   "cell_type": "code",
   "execution_count": 26,
   "metadata": {
    "scrolled": true
   },
   "outputs": [
    {
     "name": "stderr",
     "output_type": "stream",
     "text": [
      "2022-04-14 11:17:13,845 - mmseg - INFO - Loaded 4855 images\n",
      "2022-04-14 11:17:13,846 - mmseg - INFO - Start running, host: user@ESWS-VT02-01, work_dir: /home/user/workspace/github/mmsegmentation/demo/work_dirs/test.segmentor.CAD.30e.5es.S\n",
      "2022-04-14 11:17:13,846 - mmseg - INFO - Hooks will be executed in the following order:\n",
      "before_run:\n",
      "(VERY_HIGH   ) PolyLrUpdaterHook                  \n",
      "(NORMAL      ) CheckpointHook                     \n",
      "(LOW         ) EvalHook                           \n",
      "(VERY_LOW    ) TensorboardLoggerHook              \n",
      "(VERY_LOW    ) TextLoggerHook                     \n",
      " -------------------- \n",
      "before_train_epoch:\n",
      "(VERY_HIGH   ) PolyLrUpdaterHook                  \n",
      "(LOW         ) IterTimerHook                      \n",
      "(LOW         ) EvalHook                           \n",
      "(VERY_LOW    ) TensorboardLoggerHook              \n",
      "(VERY_LOW    ) TextLoggerHook                     \n",
      " -------------------- \n",
      "before_train_iter:\n",
      "(VERY_HIGH   ) PolyLrUpdaterHook                  \n",
      "(LOW         ) IterTimerHook                      \n",
      "(LOW         ) EvalHook                           \n",
      " -------------------- \n",
      "after_train_iter:\n",
      "(ABOVE_NORMAL) OptimizerHook                      \n",
      "(NORMAL      ) CheckpointHook                     \n",
      "(LOW         ) IterTimerHook                      \n",
      "(LOW         ) EvalHook                           \n",
      "(VERY_LOW    ) TensorboardLoggerHook              \n",
      "(VERY_LOW    ) TextLoggerHook                     \n",
      " -------------------- \n",
      "after_train_epoch:\n",
      "(NORMAL      ) CheckpointHook                     \n",
      "(LOW         ) EvalHook                           \n",
      "(VERY_LOW    ) TensorboardLoggerHook              \n",
      "(VERY_LOW    ) TextLoggerHook                     \n",
      " -------------------- \n",
      "before_val_epoch:\n",
      "(LOW         ) IterTimerHook                      \n",
      "(VERY_LOW    ) TensorboardLoggerHook              \n",
      "(VERY_LOW    ) TextLoggerHook                     \n",
      " -------------------- \n",
      "before_val_iter:\n",
      "(LOW         ) IterTimerHook                      \n",
      " -------------------- \n",
      "after_val_iter:\n",
      "(LOW         ) IterTimerHook                      \n",
      " -------------------- \n",
      "after_val_epoch:\n",
      "(VERY_LOW    ) TensorboardLoggerHook              \n",
      "(VERY_LOW    ) TextLoggerHook                     \n",
      " -------------------- \n",
      "after_run:\n",
      "(VERY_LOW    ) TensorboardLoggerHook              \n",
      "(VERY_LOW    ) TextLoggerHook                     \n",
      " -------------------- \n",
      "2022-04-14 11:17:13,846 - mmseg - INFO - workflow: [('train', 1)], max: 50 epochs\n",
      "2022-04-14 11:17:13,846 - mmseg - INFO - Checkpoints will be saved to /home/user/workspace/github/mmsegmentation/demo/work_dirs/test.segmentor.CAD.30e.5es.S by HardDiskBackend.\n",
      "2022-04-14 11:17:26,538 - mmseg - INFO - Epoch [1][100/43675]\tlr: 2.268e-05, eta: 3 days, 4:38:56, time: 0.126, data_time: 0.024, memory: 1060, decode.loss_ce: 0.4976, decode.acc_seg: 77.7878, loss: 0.4976\n",
      "2022-04-14 11:17:36,732 - mmseg - INFO - Epoch [1][200/43675]\tlr: 4.557e-05, eta: 2 days, 21:14:08, time: 0.102, data_time: 0.001, memory: 1060, decode.loss_ce: 0.3819, decode.acc_seg: 84.4421, loss: 0.3819\n",
      "2022-04-14 11:17:46,956 - mmseg - INFO - Epoch [1][300/43675]\tlr: 6.847e-05, eta: 2 days, 18:49:26, time: 0.102, data_time: 0.001, memory: 1060, decode.loss_ce: 0.4753, decode.acc_seg: 80.9757, loss: 0.4753\n",
      "2022-04-14 11:17:57,198 - mmseg - INFO - Epoch [1][400/43675]\tlr: 9.137e-05, eta: 2 days, 17:38:41, time: 0.102, data_time: 0.001, memory: 1060, decode.loss_ce: 0.4151, decode.acc_seg: 83.6624, loss: 0.4151\n",
      "2022-04-14 11:18:07,480 - mmseg - INFO - Epoch [1][500/43675]\tlr: 1.143e-04, eta: 2 days, 16:59:01, time: 0.103, data_time: 0.001, memory: 1060, decode.loss_ce: 0.4014, decode.acc_seg: 85.0401, loss: 0.4014\n",
      "2022-04-14 11:18:17,752 - mmseg - INFO - Epoch [1][600/43675]\tlr: 1.372e-04, eta: 2 days, 16:31:54, time: 0.103, data_time: 0.001, memory: 1060, decode.loss_ce: 0.4639, decode.acc_seg: 80.9435, loss: 0.4639\n",
      "2022-04-14 11:18:28,045 - mmseg - INFO - Epoch [1][700/43675]\tlr: 1.601e-04, eta: 2 days, 16:13:38, time: 0.103, data_time: 0.001, memory: 1060, decode.loss_ce: 0.4849, decode.acc_seg: 80.6562, loss: 0.4849\n",
      "2022-04-14 11:18:38,348 - mmseg - INFO - Epoch [1][800/43675]\tlr: 1.830e-04, eta: 2 days, 16:00:17, time: 0.103, data_time: 0.001, memory: 1060, decode.loss_ce: 0.4298, decode.acc_seg: 82.7549, loss: 0.4298\n",
      "2022-04-14 11:18:48,660 - mmseg - INFO - Epoch [1][900/43675]\tlr: 2.058e-04, eta: 2 days, 15:50:16, time: 0.103, data_time: 0.001, memory: 1060, decode.loss_ce: 0.7352, decode.acc_seg: 65.5550, loss: 0.7352\n",
      "2022-04-14 11:18:58,982 - mmseg - INFO - Epoch [1][1000/43675]\tlr: 2.287e-04, eta: 2 days, 15:42:34, time: 0.103, data_time: 0.001, memory: 1060, decode.loss_ce: 0.5012, decode.acc_seg: 77.3694, loss: 0.5012\n",
      "2022-04-14 11:19:09,303 - mmseg - INFO - Epoch [1][1100/43675]\tlr: 2.516e-04, eta: 2 days, 15:36:12, time: 0.103, data_time: 0.001, memory: 1060, decode.loss_ce: 0.4475, decode.acc_seg: 81.8838, loss: 0.4475\n",
      "2022-04-14 11:19:19,628 - mmseg - INFO - Epoch [1][1200/43675]\tlr: 2.745e-04, eta: 2 days, 15:31:00, time: 0.103, data_time: 0.001, memory: 1060, decode.loss_ce: 0.4254, decode.acc_seg: 83.1395, loss: 0.4254\n",
      "2022-04-14 11:19:29,953 - mmseg - INFO - Epoch [1][1300/43675]\tlr: 2.974e-04, eta: 2 days, 15:26:34, time: 0.103, data_time: 0.001, memory: 1060, decode.loss_ce: 0.4610, decode.acc_seg: 81.6269, loss: 0.4610\n",
      "2022-04-14 11:19:40,287 - mmseg - INFO - Epoch [1][1400/43675]\tlr: 3.203e-04, eta: 2 days, 15:22:59, time: 0.103, data_time: 0.001, memory: 1060, decode.loss_ce: 0.4291, decode.acc_seg: 82.5711, loss: 0.4291\n",
      "2022-04-14 11:19:50,631 - mmseg - INFO - Epoch [1][1500/43675]\tlr: 3.432e-04, eta: 2 days, 15:20:05, time: 0.103, data_time: 0.001, memory: 1060, decode.loss_ce: 0.4571, decode.acc_seg: 81.6363, loss: 0.4571\n",
      "2022-04-14 11:20:00,974 - mmseg - INFO - Epoch [1][1600/43675]\tlr: 3.661e-04, eta: 2 days, 15:17:31, time: 0.103, data_time: 0.001, memory: 1060, decode.loss_ce: 0.4530, decode.acc_seg: 81.3303, loss: 0.4530\n",
      "2022-04-14 11:20:11,327 - mmseg - INFO - Epoch [1][1700/43675]\tlr: 3.890e-04, eta: 2 days, 15:15:25, time: 0.104, data_time: 0.001, memory: 1060, decode.loss_ce: 0.4646, decode.acc_seg: 80.6561, loss: 0.4646\n",
      "2022-04-14 11:20:21,669 - mmseg - INFO - Epoch [1][1800/43675]\tlr: 4.119e-04, eta: 2 days, 15:13:19, time: 0.103, data_time: 0.001, memory: 1060, decode.loss_ce: 0.4177, decode.acc_seg: 82.7047, loss: 0.4177\n",
      "2022-04-14 11:20:32,020 - mmseg - INFO - Epoch [1][1900/43675]\tlr: 4.348e-04, eta: 2 days, 15:11:37, time: 0.104, data_time: 0.001, memory: 1060, decode.loss_ce: 0.4445, decode.acc_seg: 81.4375, loss: 0.4445\n",
      "2022-04-14 11:20:42,354 - mmseg - INFO - Epoch [1][2000/43675]\tlr: 4.577e-04, eta: 2 days, 15:09:45, time: 0.103, data_time: 0.001, memory: 1060, decode.loss_ce: 0.4165, decode.acc_seg: 83.0860, loss: 0.4165\n",
      "2022-04-14 11:20:52,694 - mmseg - INFO - Epoch [1][2100/43675]\tlr: 4.806e-04, eta: 2 days, 15:08:09, time: 0.103, data_time: 0.001, memory: 1060, decode.loss_ce: 0.3909, decode.acc_seg: 84.5936, loss: 0.3909\n",
      "2022-04-14 11:21:03,052 - mmseg - INFO - Epoch [1][2200/43675]\tlr: 5.035e-04, eta: 2 days, 15:06:58, time: 0.104, data_time: 0.001, memory: 1060, decode.loss_ce: 0.3997, decode.acc_seg: 84.7242, loss: 0.3997\n",
      "2022-04-14 11:21:13,393 - mmseg - INFO - Epoch [1][2300/43675]\tlr: 5.264e-04, eta: 2 days, 15:05:37, time: 0.103, data_time: 0.001, memory: 1060, decode.loss_ce: 0.4200, decode.acc_seg: 82.7062, loss: 0.4200\n",
      "2022-04-14 11:21:23,739 - mmseg - INFO - Epoch [1][2400/43675]\tlr: 5.493e-04, eta: 2 days, 15:04:25, time: 0.103, data_time: 0.001, memory: 1060, decode.loss_ce: 0.3749, decode.acc_seg: 84.5358, loss: 0.3749\n",
      "2022-04-14 11:21:34,090 - mmseg - INFO - Epoch [1][2500/43675]\tlr: 5.722e-04, eta: 2 days, 15:03:24, time: 0.104, data_time: 0.001, memory: 1060, decode.loss_ce: 0.4570, decode.acc_seg: 80.9493, loss: 0.4570\n",
      "2022-04-14 11:21:44,444 - mmseg - INFO - Epoch [1][2600/43675]\tlr: 5.951e-04, eta: 2 days, 15:02:28, time: 0.104, data_time: 0.001, memory: 1060, decode.loss_ce: 0.4092, decode.acc_seg: 83.5929, loss: 0.4092\n",
      "2022-04-14 11:21:54,796 - mmseg - INFO - Epoch [1][2700/43675]\tlr: 6.180e-04, eta: 2 days, 15:01:35, time: 0.104, data_time: 0.001, memory: 1060, decode.loss_ce: 0.3975, decode.acc_seg: 84.7921, loss: 0.3975\n"
     ]
    },
    {
     "name": "stderr",
     "output_type": "stream",
     "text": [
      "2022-04-14 11:22:05,170 - mmseg - INFO - Epoch [1][2800/43675]\tlr: 6.409e-04, eta: 2 days, 15:01:02, time: 0.104, data_time: 0.001, memory: 1060, decode.loss_ce: 0.4275, decode.acc_seg: 82.9183, loss: 0.4275\n",
      "2022-04-14 11:22:15,556 - mmseg - INFO - Epoch [1][2900/43675]\tlr: 6.638e-04, eta: 2 days, 15:00:39, time: 0.104, data_time: 0.001, memory: 1060, decode.loss_ce: 0.4333, decode.acc_seg: 82.6785, loss: 0.4333\n",
      "2022-04-14 11:22:25,930 - mmseg - INFO - Epoch [1][3000/43675]\tlr: 6.867e-04, eta: 2 days, 15:00:08, time: 0.104, data_time: 0.001, memory: 1060, decode.loss_ce: 0.3948, decode.acc_seg: 84.9357, loss: 0.3948\n",
      "2022-04-14 11:22:36,325 - mmseg - INFO - Epoch [1][3100/43675]\tlr: 7.096e-04, eta: 2 days, 14:59:53, time: 0.104, data_time: 0.001, memory: 1060, decode.loss_ce: 0.4576, decode.acc_seg: 80.8030, loss: 0.4576\n",
      "2022-04-14 11:22:46,713 - mmseg - INFO - Epoch [1][3200/43675]\tlr: 7.325e-04, eta: 2 days, 14:59:34, time: 0.104, data_time: 0.001, memory: 1060, decode.loss_ce: 0.3955, decode.acc_seg: 84.4351, loss: 0.3955\n",
      "2022-04-14 11:22:57,086 - mmseg - INFO - Epoch [1][3300/43675]\tlr: 7.554e-04, eta: 2 days, 14:59:06, time: 0.104, data_time: 0.001, memory: 1060, decode.loss_ce: 0.4042, decode.acc_seg: 84.1079, loss: 0.4042\n",
      "2022-04-14 11:23:07,450 - mmseg - INFO - Epoch [1][3400/43675]\tlr: 7.783e-04, eta: 2 days, 14:58:33, time: 0.104, data_time: 0.001, memory: 1060, decode.loss_ce: 0.3894, decode.acc_seg: 85.1720, loss: 0.3894\n",
      "2022-04-14 11:23:17,840 - mmseg - INFO - Epoch [1][3500/43675]\tlr: 8.012e-04, eta: 2 days, 14:58:17, time: 0.104, data_time: 0.001, memory: 1060, decode.loss_ce: 0.4526, decode.acc_seg: 81.0344, loss: 0.4526\n",
      "2022-04-14 11:23:28,234 - mmseg - INFO - Epoch [1][3600/43675]\tlr: 8.241e-04, eta: 2 days, 14:58:04, time: 0.104, data_time: 0.001, memory: 1060, decode.loss_ce: 0.4109, decode.acc_seg: 83.6704, loss: 0.4109\n",
      "2022-04-14 11:23:38,633 - mmseg - INFO - Epoch [1][3700/43675]\tlr: 8.469e-04, eta: 2 days, 14:57:54, time: 0.104, data_time: 0.001, memory: 1060, decode.loss_ce: 0.3936, decode.acc_seg: 84.6702, loss: 0.3936\n",
      "2022-04-14 11:23:49,021 - mmseg - INFO - Epoch [1][3800/43675]\tlr: 8.698e-04, eta: 2 days, 14:57:38, time: 0.104, data_time: 0.001, memory: 1060, decode.loss_ce: 0.4005, decode.acc_seg: 84.2651, loss: 0.4005\n",
      "2022-04-14 11:23:59,417 - mmseg - INFO - Epoch [1][3900/43675]\tlr: 8.927e-04, eta: 2 days, 14:57:26, time: 0.104, data_time: 0.001, memory: 1060, decode.loss_ce: 0.4323, decode.acc_seg: 82.3126, loss: 0.4323\n",
      "2022-04-14 11:24:09,820 - mmseg - INFO - Epoch [1][4000/43675]\tlr: 9.156e-04, eta: 2 days, 14:57:18, time: 0.104, data_time: 0.001, memory: 1060, decode.loss_ce: 0.4181, decode.acc_seg: 82.8712, loss: 0.4181\n",
      "2022-04-14 11:24:20,219 - mmseg - INFO - Epoch [1][4100/43675]\tlr: 9.385e-04, eta: 2 days, 14:57:09, time: 0.104, data_time: 0.001, memory: 1060, decode.loss_ce: 0.3976, decode.acc_seg: 83.9924, loss: 0.3976\n",
      "2022-04-14 11:24:30,621 - mmseg - INFO - Epoch [1][4200/43675]\tlr: 9.614e-04, eta: 2 days, 14:57:00, time: 0.104, data_time: 0.001, memory: 1060, decode.loss_ce: 0.4035, decode.acc_seg: 84.0778, loss: 0.4035\n",
      "2022-04-14 11:24:41,018 - mmseg - INFO - Epoch [1][4300/43675]\tlr: 9.843e-04, eta: 2 days, 14:56:49, time: 0.104, data_time: 0.001, memory: 1060, decode.loss_ce: 0.3815, decode.acc_seg: 85.4594, loss: 0.3815\n",
      "2022-04-14 11:24:51,420 - mmseg - INFO - Epoch [1][4400/43675]\tlr: 1.007e-03, eta: 2 days, 14:56:41, time: 0.104, data_time: 0.001, memory: 1060, decode.loss_ce: 0.4522, decode.acc_seg: 81.2806, loss: 0.4522\n",
      "2022-04-14 11:25:01,820 - mmseg - INFO - Epoch [1][4500/43675]\tlr: 1.030e-03, eta: 2 days, 14:56:32, time: 0.104, data_time: 0.001, memory: 1060, decode.loss_ce: 0.4061, decode.acc_seg: 83.4419, loss: 0.4061\n",
      "2022-04-14 11:25:12,220 - mmseg - INFO - Epoch [1][4600/43675]\tlr: 1.053e-03, eta: 2 days, 14:56:22, time: 0.104, data_time: 0.001, memory: 1060, decode.loss_ce: 0.4273, decode.acc_seg: 82.0664, loss: 0.4273\n",
      "2022-04-14 11:25:22,626 - mmseg - INFO - Epoch [1][4700/43675]\tlr: 1.076e-03, eta: 2 days, 14:56:15, time: 0.104, data_time: 0.001, memory: 1060, decode.loss_ce: 0.4172, decode.acc_seg: 83.5361, loss: 0.4172\n",
      "2022-04-14 11:25:33,022 - mmseg - INFO - Epoch [1][4800/43675]\tlr: 1.099e-03, eta: 2 days, 14:56:04, time: 0.104, data_time: 0.001, memory: 1060, decode.loss_ce: 0.4257, decode.acc_seg: 82.5647, loss: 0.4257\n",
      "2022-04-14 11:25:43,421 - mmseg - INFO - Epoch [1][4900/43675]\tlr: 1.122e-03, eta: 2 days, 14:55:54, time: 0.104, data_time: 0.001, memory: 1060, decode.loss_ce: 0.4090, decode.acc_seg: 83.6364, loss: 0.4090\n",
      "2022-04-14 11:25:53,823 - mmseg - INFO - Epoch [1][5000/43675]\tlr: 1.145e-03, eta: 2 days, 14:55:45, time: 0.104, data_time: 0.001, memory: 1060, decode.loss_ce: 0.4061, decode.acc_seg: 84.1994, loss: 0.4061\n",
      "2022-04-14 11:26:04,227 - mmseg - INFO - Epoch [1][5100/43675]\tlr: 1.167e-03, eta: 2 days, 14:55:37, time: 0.104, data_time: 0.001, memory: 1060, decode.loss_ce: 0.4530, decode.acc_seg: 81.2890, loss: 0.4530\n",
      "2022-04-14 11:26:14,624 - mmseg - INFO - Epoch [1][5200/43675]\tlr: 1.190e-03, eta: 2 days, 14:55:25, time: 0.104, data_time: 0.001, memory: 1060, decode.loss_ce: 0.4461, decode.acc_seg: 80.9099, loss: 0.4461\n",
      "2022-04-14 11:26:25,021 - mmseg - INFO - Epoch [1][5300/43675]\tlr: 1.213e-03, eta: 2 days, 14:55:15, time: 0.104, data_time: 0.001, memory: 1060, decode.loss_ce: 0.4469, decode.acc_seg: 81.2566, loss: 0.4469\n",
      "2022-04-14 11:26:35,544 - mmseg - INFO - Epoch [1][5400/43675]\tlr: 1.236e-03, eta: 2 days, 14:55:54, time: 0.105, data_time: 0.001, memory: 1060, decode.loss_ce: 0.4032, decode.acc_seg: 84.2422, loss: 0.4032\n",
      "2022-04-14 11:26:45,930 - mmseg - INFO - Epoch [1][5500/43675]\tlr: 1.259e-03, eta: 2 days, 14:55:38, time: 0.104, data_time: 0.001, memory: 1060, decode.loss_ce: 0.4136, decode.acc_seg: 83.2731, loss: 0.4136\n",
      "2022-04-14 11:26:56,326 - mmseg - INFO - Epoch [1][5600/43675]\tlr: 1.282e-03, eta: 2 days, 14:55:26, time: 0.104, data_time: 0.001, memory: 1060, decode.loss_ce: 0.4109, decode.acc_seg: 83.2090, loss: 0.4109\n",
      "2022-04-14 11:27:06,726 - mmseg - INFO - Epoch [1][5700/43675]\tlr: 1.305e-03, eta: 2 days, 14:55:15, time: 0.104, data_time: 0.001, memory: 1060, decode.loss_ce: 0.4675, decode.acc_seg: 79.8961, loss: 0.4675\n",
      "2022-04-14 11:27:17,118 - mmseg - INFO - Epoch [1][5800/43675]\tlr: 1.328e-03, eta: 2 days, 14:55:02, time: 0.104, data_time: 0.001, memory: 1060, decode.loss_ce: 0.4150, decode.acc_seg: 83.9367, loss: 0.4150\n",
      "2022-04-14 11:27:27,501 - mmseg - INFO - Epoch [1][5900/43675]\tlr: 1.351e-03, eta: 2 days, 14:54:45, time: 0.104, data_time: 0.001, memory: 1060, decode.loss_ce: 0.4297, decode.acc_seg: 82.7005, loss: 0.4297\n",
      "2022-04-14 11:27:37,877 - mmseg - INFO - Epoch [1][6000/43675]\tlr: 1.374e-03, eta: 2 days, 14:54:26, time: 0.104, data_time: 0.001, memory: 1060, decode.loss_ce: 0.3866, decode.acc_seg: 84.6682, loss: 0.3866\n",
      "2022-04-14 11:27:48,255 - mmseg - INFO - Epoch [1][6100/43675]\tlr: 1.396e-03, eta: 2 days, 14:54:08, time: 0.104, data_time: 0.001, memory: 1060, decode.loss_ce: 0.4435, decode.acc_seg: 81.7627, loss: 0.4435\n",
      "2022-04-14 11:27:58,639 - mmseg - INFO - Epoch [1][6200/43675]\tlr: 1.419e-03, eta: 2 days, 14:53:52, time: 0.104, data_time: 0.001, memory: 1060, decode.loss_ce: 0.4548, decode.acc_seg: 81.1471, loss: 0.4548\n",
      "2022-04-14 11:28:09,032 - mmseg - INFO - Epoch [1][6300/43675]\tlr: 1.442e-03, eta: 2 days, 14:53:40, time: 0.104, data_time: 0.001, memory: 1060, decode.loss_ce: 0.4343, decode.acc_seg: 82.1386, loss: 0.4343\n",
      "2022-04-14 11:28:19,414 - mmseg - INFO - Epoch [1][6400/43675]\tlr: 1.465e-03, eta: 2 days, 14:53:24, time: 0.104, data_time: 0.001, memory: 1060, decode.loss_ce: 0.4168, decode.acc_seg: 82.8570, loss: 0.4168\n",
      "2022-04-14 11:28:29,805 - mmseg - INFO - Epoch [1][6500/43675]\tlr: 1.488e-03, eta: 2 days, 14:53:11, time: 0.104, data_time: 0.001, memory: 1060, decode.loss_ce: 0.4185, decode.acc_seg: 83.4713, loss: 0.4185\n",
      "2022-04-14 11:28:40,188 - mmseg - INFO - Epoch [1][6600/43675]\tlr: 1.511e-03, eta: 2 days, 14:52:55, time: 0.104, data_time: 0.001, memory: 1060, decode.loss_ce: 0.3797, decode.acc_seg: 85.5385, loss: 0.3797\n",
      "2022-04-14 11:28:50,566 - mmseg - INFO - Epoch [1][6700/43675]\tlr: 1.534e-03, eta: 2 days, 14:52:38, time: 0.104, data_time: 0.001, memory: 1060, decode.loss_ce: 0.4353, decode.acc_seg: 82.5315, loss: 0.4353\n"
     ]
    },
    {
     "name": "stderr",
     "output_type": "stream",
     "text": [
      "2022-04-14 11:29:00,944 - mmseg - INFO - Epoch [1][6800/43675]\tlr: 1.557e-03, eta: 2 days, 14:52:21, time: 0.104, data_time: 0.001, memory: 1060, decode.loss_ce: 0.4329, decode.acc_seg: 81.9049, loss: 0.4329\n",
      "2022-04-14 11:29:16,384 - mmseg - INFO - Epoch [1][6900/43675]\tlr: 1.580e-03, eta: 2 days, 15:18:34, time: 0.154, data_time: 0.001, memory: 1060, decode.loss_ce: 0.4248, decode.acc_seg: 83.3407, loss: 0.4248\n",
      "2022-04-14 11:29:38,100 - mmseg - INFO - Epoch [1][7000/43675]\tlr: 1.603e-03, eta: 2 days, 16:16:40, time: 0.217, data_time: 0.001, memory: 1060, decode.loss_ce: 0.3740, decode.acc_seg: 85.7502, loss: 0.3740\n",
      "2022-04-14 11:29:59,815 - mmseg - INFO - Epoch [1][7100/43675]\tlr: 1.625e-03, eta: 2 days, 17:13:08, time: 0.217, data_time: 0.001, memory: 1060, decode.loss_ce: 0.3814, decode.acc_seg: 85.5792, loss: 0.3814\n",
      "2022-04-14 11:30:21,536 - mmseg - INFO - Epoch [1][7200/43675]\tlr: 1.648e-03, eta: 2 days, 18:08:03, time: 0.217, data_time: 0.001, memory: 1060, decode.loss_ce: 0.3967, decode.acc_seg: 84.3465, loss: 0.3967\n",
      "2022-04-14 11:30:43,248 - mmseg - INFO - Epoch [1][7300/43675]\tlr: 1.671e-03, eta: 2 days, 19:01:25, time: 0.217, data_time: 0.001, memory: 1060, decode.loss_ce: 0.4189, decode.acc_seg: 82.9773, loss: 0.4189\n",
      "2022-04-14 11:31:04,953 - mmseg - INFO - Epoch [1][7400/43675]\tlr: 1.694e-03, eta: 2 days, 19:53:15, time: 0.217, data_time: 0.001, memory: 1060, decode.loss_ce: 0.4402, decode.acc_seg: 81.6047, loss: 0.4402\n",
      "2022-04-14 11:31:26,651 - mmseg - INFO - Epoch [1][7500/43675]\tlr: 1.717e-03, eta: 2 days, 20:43:42, time: 0.217, data_time: 0.001, memory: 1060, decode.loss_ce: 0.4060, decode.acc_seg: 83.7405, loss: 0.4060\n",
      "2022-04-14 11:31:48,367 - mmseg - INFO - Epoch [1][7600/43675]\tlr: 1.740e-03, eta: 2 days, 21:32:53, time: 0.217, data_time: 0.001, memory: 1060, decode.loss_ce: 0.4490, decode.acc_seg: 81.6060, loss: 0.4490\n",
      "2022-04-14 11:32:10,090 - mmseg - INFO - Epoch [1][7700/43675]\tlr: 1.763e-03, eta: 2 days, 22:20:49, time: 0.217, data_time: 0.001, memory: 1060, decode.loss_ce: 0.4457, decode.acc_seg: 82.3259, loss: 0.4457\n",
      "2022-04-14 11:32:31,803 - mmseg - INFO - Epoch [1][7800/43675]\tlr: 1.786e-03, eta: 2 days, 23:07:27, time: 0.217, data_time: 0.001, memory: 1060, decode.loss_ce: 0.4416, decode.acc_seg: 82.1273, loss: 0.4416\n",
      "2022-04-14 11:32:53,543 - mmseg - INFO - Epoch [1][7900/43675]\tlr: 1.809e-03, eta: 2 days, 23:53:03, time: 0.217, data_time: 0.001, memory: 1060, decode.loss_ce: 0.3982, decode.acc_seg: 84.2201, loss: 0.3982\n",
      "2022-04-14 11:33:15,261 - mmseg - INFO - Epoch [1][8000/43675]\tlr: 1.831e-03, eta: 3 days, 0:37:23, time: 0.217, data_time: 0.001, memory: 1060, decode.loss_ce: 0.3901, decode.acc_seg: 84.7633, loss: 0.3901\n",
      "2022-04-14 11:33:36,951 - mmseg - INFO - Epoch [1][8100/43675]\tlr: 1.854e-03, eta: 3 days, 1:20:29, time: 0.217, data_time: 0.001, memory: 1060, decode.loss_ce: 0.4558, decode.acc_seg: 80.2766, loss: 0.4558\n",
      "2022-04-14 11:33:58,653 - mmseg - INFO - Epoch [1][8200/43675]\tlr: 1.877e-03, eta: 3 days, 2:02:34, time: 0.217, data_time: 0.001, memory: 1060, decode.loss_ce: 0.3989, decode.acc_seg: 84.7230, loss: 0.3989\n",
      "2022-04-14 11:34:20,386 - mmseg - INFO - Epoch [1][8300/43675]\tlr: 1.900e-03, eta: 3 days, 2:43:47, time: 0.217, data_time: 0.001, memory: 1060, decode.loss_ce: 0.4366, decode.acc_seg: 82.5717, loss: 0.4366\n",
      "2022-04-14 11:34:42,076 - mmseg - INFO - Epoch [1][8400/43675]\tlr: 1.923e-03, eta: 3 days, 3:23:49, time: 0.217, data_time: 0.001, memory: 1060, decode.loss_ce: 0.4184, decode.acc_seg: 83.4993, loss: 0.4184\n",
      "2022-04-14 11:35:03,783 - mmseg - INFO - Epoch [1][8500/43675]\tlr: 1.946e-03, eta: 3 days, 4:03:00, time: 0.217, data_time: 0.001, memory: 1060, decode.loss_ce: 0.4273, decode.acc_seg: 83.0654, loss: 0.4273\n",
      "2022-04-14 11:35:25,486 - mmseg - INFO - Epoch [1][8600/43675]\tlr: 1.969e-03, eta: 3 days, 4:41:11, time: 0.217, data_time: 0.001, memory: 1060, decode.loss_ce: 0.4387, decode.acc_seg: 81.4688, loss: 0.4387\n",
      "2022-04-14 11:35:47,196 - mmseg - INFO - Epoch [1][8700/43675]\tlr: 1.992e-03, eta: 3 days, 5:18:34, time: 0.217, data_time: 0.001, memory: 1060, decode.loss_ce: 0.4380, decode.acc_seg: 82.2597, loss: 0.4380\n",
      "2022-04-14 11:36:08,912 - mmseg - INFO - Epoch [1][8800/43675]\tlr: 2.015e-03, eta: 3 days, 5:55:06, time: 0.217, data_time: 0.001, memory: 1060, decode.loss_ce: 0.4278, decode.acc_seg: 82.2601, loss: 0.4278\n",
      "2022-04-14 11:36:30,627 - mmseg - INFO - Epoch [1][8900/43675]\tlr: 2.038e-03, eta: 3 days, 6:30:47, time: 0.217, data_time: 0.001, memory: 1060, decode.loss_ce: 0.3998, decode.acc_seg: 84.3746, loss: 0.3998\n",
      "2022-04-14 11:36:52,359 - mmseg - INFO - Epoch [1][9000/43675]\tlr: 2.060e-03, eta: 3 days, 7:05:45, time: 0.217, data_time: 0.001, memory: 1060, decode.loss_ce: 0.4203, decode.acc_seg: 83.2518, loss: 0.4203\n",
      "2022-04-14 11:37:14,086 - mmseg - INFO - Epoch [1][9100/43675]\tlr: 2.083e-03, eta: 3 days, 7:39:56, time: 0.217, data_time: 0.001, memory: 1060, decode.loss_ce: 0.3926, decode.acc_seg: 85.1074, loss: 0.3926\n",
      "2022-04-14 11:37:35,793 - mmseg - INFO - Epoch [1][9200/43675]\tlr: 2.106e-03, eta: 3 days, 8:13:15, time: 0.217, data_time: 0.001, memory: 1060, decode.loss_ce: 0.4060, decode.acc_seg: 84.3350, loss: 0.4060\n",
      "2022-04-14 11:37:57,469 - mmseg - INFO - Epoch [1][9300/43675]\tlr: 2.129e-03, eta: 3 days, 8:45:45, time: 0.217, data_time: 0.001, memory: 1060, decode.loss_ce: 0.4428, decode.acc_seg: 81.7151, loss: 0.4428\n",
      "2022-04-14 11:38:19,192 - mmseg - INFO - Epoch [1][9400/43675]\tlr: 2.152e-03, eta: 3 days, 9:17:44, time: 0.217, data_time: 0.001, memory: 1060, decode.loss_ce: 0.3871, decode.acc_seg: 84.1326, loss: 0.3871\n",
      "2022-04-14 11:38:40,862 - mmseg - INFO - Epoch [1][9500/43675]\tlr: 2.175e-03, eta: 3 days, 9:48:48, time: 0.217, data_time: 0.001, memory: 1060, decode.loss_ce: 0.4190, decode.acc_seg: 83.0258, loss: 0.4190\n",
      "2022-04-14 11:39:02,551 - mmseg - INFO - Epoch [1][9600/43675]\tlr: 2.198e-03, eta: 3 days, 10:19:19, time: 0.217, data_time: 0.001, memory: 1060, decode.loss_ce: 0.4572, decode.acc_seg: 80.4951, loss: 0.4572\n",
      "2022-04-14 11:39:24,253 - mmseg - INFO - Epoch [1][9700/43675]\tlr: 2.221e-03, eta: 3 days, 10:49:14, time: 0.217, data_time: 0.001, memory: 1060, decode.loss_ce: 0.4621, decode.acc_seg: 80.2204, loss: 0.4621\n",
      "2022-04-14 11:39:45,928 - mmseg - INFO - Epoch [1][9800/43675]\tlr: 2.244e-03, eta: 3 days, 11:18:26, time: 0.217, data_time: 0.001, memory: 1060, decode.loss_ce: 0.4132, decode.acc_seg: 83.6670, loss: 0.4132\n",
      "2022-04-14 11:40:07,615 - mmseg - INFO - Epoch [1][9900/43675]\tlr: 2.267e-03, eta: 3 days, 11:47:06, time: 0.217, data_time: 0.001, memory: 1060, decode.loss_ce: 0.4142, decode.acc_seg: 84.3685, loss: 0.4142\n",
      "2022-04-14 11:40:29,316 - mmseg - INFO - Epoch [1][10000/43675]\tlr: 2.289e-03, eta: 3 days, 12:15:14, time: 0.217, data_time: 0.001, memory: 1060, decode.loss_ce: 0.3976, decode.acc_seg: 84.7499, loss: 0.3976\n",
      "2022-04-14 11:40:50,993 - mmseg - INFO - Epoch [1][10100/43675]\tlr: 2.312e-03, eta: 3 days, 12:42:40, time: 0.217, data_time: 0.001, memory: 1060, decode.loss_ce: 0.4159, decode.acc_seg: 83.7490, loss: 0.4159\n",
      "2022-04-14 11:41:12,664 - mmseg - INFO - Epoch [1][10200/43675]\tlr: 2.335e-03, eta: 3 days, 13:09:35, time: 0.217, data_time: 0.001, memory: 1060, decode.loss_ce: 0.4251, decode.acc_seg: 82.8332, loss: 0.4251\n",
      "2022-04-14 11:41:34,360 - mmseg - INFO - Epoch [1][10300/43675]\tlr: 2.358e-03, eta: 3 days, 13:36:04, time: 0.217, data_time: 0.001, memory: 1060, decode.loss_ce: 0.4417, decode.acc_seg: 81.6831, loss: 0.4417\n",
      "2022-04-14 11:41:56,051 - mmseg - INFO - Epoch [1][10400/43675]\tlr: 2.381e-03, eta: 3 days, 14:01:58, time: 0.217, data_time: 0.001, memory: 1060, decode.loss_ce: 0.4068, decode.acc_seg: 84.6369, loss: 0.4068\n",
      "2022-04-14 11:42:17,727 - mmseg - INFO - Epoch [1][10500/43675]\tlr: 2.404e-03, eta: 3 days, 14:27:21, time: 0.217, data_time: 0.001, memory: 1060, decode.loss_ce: 0.4441, decode.acc_seg: 81.7668, loss: 0.4441\n",
      "2022-04-14 11:42:39,399 - mmseg - INFO - Epoch [1][10600/43675]\tlr: 2.427e-03, eta: 3 days, 14:52:14, time: 0.217, data_time: 0.001, memory: 1060, decode.loss_ce: 0.4341, decode.acc_seg: 82.1100, loss: 0.4341\n",
      "2022-04-14 11:43:01,096 - mmseg - INFO - Epoch [1][10700/43675]\tlr: 2.450e-03, eta: 3 days, 15:16:43, time: 0.217, data_time: 0.001, memory: 1060, decode.loss_ce: 0.4272, decode.acc_seg: 82.5697, loss: 0.4272\n"
     ]
    },
    {
     "name": "stderr",
     "output_type": "stream",
     "text": [
      "2022-04-14 11:43:22,781 - mmseg - INFO - Epoch [1][10800/43675]\tlr: 2.473e-03, eta: 3 days, 15:40:42, time: 0.217, data_time: 0.001, memory: 1060, decode.loss_ce: 0.4282, decode.acc_seg: 82.6246, loss: 0.4282\n",
      "2022-04-14 11:43:44,478 - mmseg - INFO - Epoch [1][10900/43675]\tlr: 2.495e-03, eta: 3 days, 16:04:18, time: 0.217, data_time: 0.001, memory: 1060, decode.loss_ce: 0.3918, decode.acc_seg: 85.0689, loss: 0.3918\n",
      "2022-04-14 11:44:06,172 - mmseg - INFO - Epoch [1][11000/43675]\tlr: 2.518e-03, eta: 3 days, 16:27:25, time: 0.217, data_time: 0.001, memory: 1060, decode.loss_ce: 0.4547, decode.acc_seg: 81.5416, loss: 0.4547\n",
      "2022-04-14 11:44:27,875 - mmseg - INFO - Epoch [1][11100/43675]\tlr: 2.541e-03, eta: 3 days, 16:50:10, time: 0.217, data_time: 0.001, memory: 1060, decode.loss_ce: 0.4471, decode.acc_seg: 81.3540, loss: 0.4471\n",
      "2022-04-14 11:44:49,603 - mmseg - INFO - Epoch [1][11200/43675]\tlr: 2.564e-03, eta: 3 days, 17:12:34, time: 0.217, data_time: 0.001, memory: 1060, decode.loss_ce: 0.4076, decode.acc_seg: 83.5526, loss: 0.4076\n",
      "2022-04-14 11:45:11,305 - mmseg - INFO - Epoch [1][11300/43675]\tlr: 2.587e-03, eta: 3 days, 17:34:30, time: 0.217, data_time: 0.001, memory: 1060, decode.loss_ce: 0.4326, decode.acc_seg: 81.6540, loss: 0.4326\n",
      "2022-04-14 11:45:33,002 - mmseg - INFO - Epoch [1][11400/43675]\tlr: 2.610e-03, eta: 3 days, 17:56:01, time: 0.217, data_time: 0.001, memory: 1060, decode.loss_ce: 0.4025, decode.acc_seg: 84.3652, loss: 0.4025\n",
      "2022-04-14 11:45:54,715 - mmseg - INFO - Epoch [1][11500/43675]\tlr: 2.633e-03, eta: 3 days, 18:17:12, time: 0.217, data_time: 0.001, memory: 1060, decode.loss_ce: 0.4014, decode.acc_seg: 84.1366, loss: 0.4014\n",
      "2022-04-14 11:46:16,434 - mmseg - INFO - Epoch [1][11600/43675]\tlr: 2.656e-03, eta: 3 days, 18:38:02, time: 0.217, data_time: 0.001, memory: 1060, decode.loss_ce: 0.4292, decode.acc_seg: 82.3297, loss: 0.4292\n",
      "2022-04-14 11:46:38,139 - mmseg - INFO - Epoch [1][11700/43675]\tlr: 2.679e-03, eta: 3 days, 18:58:28, time: 0.217, data_time: 0.001, memory: 1060, decode.loss_ce: 0.5143, decode.acc_seg: 76.9931, loss: 0.5143\n",
      "2022-04-14 11:46:59,876 - mmseg - INFO - Epoch [1][11800/43675]\tlr: 2.702e-03, eta: 3 days, 19:18:38, time: 0.217, data_time: 0.001, memory: 1060, decode.loss_ce: 0.4605, decode.acc_seg: 79.9564, loss: 0.4605\n",
      "2022-04-14 11:47:21,592 - mmseg - INFO - Epoch [1][11900/43675]\tlr: 2.724e-03, eta: 3 days, 19:38:24, time: 0.217, data_time: 0.001, memory: 1060, decode.loss_ce: 0.4381, decode.acc_seg: 82.6752, loss: 0.4381\n",
      "2022-04-14 11:47:43,311 - mmseg - INFO - Epoch [1][12000/43675]\tlr: 2.747e-03, eta: 3 days, 19:57:50, time: 0.217, data_time: 0.001, memory: 1060, decode.loss_ce: 0.3782, decode.acc_seg: 85.7281, loss: 0.3782\n",
      "2022-04-14 11:48:05,050 - mmseg - INFO - Epoch [1][12100/43675]\tlr: 2.770e-03, eta: 3 days, 20:17:01, time: 0.217, data_time: 0.001, memory: 1060, decode.loss_ce: 0.4042, decode.acc_seg: 84.3227, loss: 0.4042\n",
      "2022-04-14 11:48:26,800 - mmseg - INFO - Epoch [1][12200/43675]\tlr: 2.793e-03, eta: 3 days, 20:35:54, time: 0.217, data_time: 0.001, memory: 1060, decode.loss_ce: 0.4122, decode.acc_seg: 83.7958, loss: 0.4122\n",
      "2022-04-14 11:48:48,518 - mmseg - INFO - Epoch [1][12300/43675]\tlr: 2.816e-03, eta: 3 days, 20:54:23, time: 0.217, data_time: 0.001, memory: 1060, decode.loss_ce: 0.4661, decode.acc_seg: 80.3894, loss: 0.4661\n",
      "2022-04-14 11:49:10,239 - mmseg - INFO - Epoch [1][12400/43675]\tlr: 2.839e-03, eta: 3 days, 21:12:34, time: 0.217, data_time: 0.001, memory: 1060, decode.loss_ce: 0.4488, decode.acc_seg: 80.9549, loss: 0.4488\n",
      "2022-04-14 11:49:31,975 - mmseg - INFO - Epoch [1][12500/43675]\tlr: 2.862e-03, eta: 3 days, 21:30:29, time: 0.217, data_time: 0.001, memory: 1060, decode.loss_ce: 0.4120, decode.acc_seg: 83.2872, loss: 0.4120\n",
      "2022-04-14 11:49:53,700 - mmseg - INFO - Epoch [1][12600/43675]\tlr: 2.885e-03, eta: 3 days, 21:48:06, time: 0.217, data_time: 0.001, memory: 1060, decode.loss_ce: 0.4249, decode.acc_seg: 82.9479, loss: 0.4249\n",
      "2022-04-14 11:50:15,411 - mmseg - INFO - Epoch [1][12700/43675]\tlr: 2.908e-03, eta: 3 days, 22:05:22, time: 0.217, data_time: 0.001, memory: 1060, decode.loss_ce: 0.4375, decode.acc_seg: 81.8776, loss: 0.4375\n",
      "2022-04-14 11:50:37,121 - mmseg - INFO - Epoch [1][12800/43675]\tlr: 2.931e-03, eta: 3 days, 22:22:23, time: 0.217, data_time: 0.001, memory: 1060, decode.loss_ce: 0.4179, decode.acc_seg: 82.9904, loss: 0.4179\n",
      "2022-04-14 11:50:58,843 - mmseg - INFO - Epoch [1][12900/43675]\tlr: 2.953e-03, eta: 3 days, 22:39:09, time: 0.217, data_time: 0.001, memory: 1060, decode.loss_ce: 0.4331, decode.acc_seg: 82.6567, loss: 0.4331\n",
      "2022-04-14 11:51:20,549 - mmseg - INFO - Epoch [1][13000/43675]\tlr: 2.976e-03, eta: 3 days, 22:55:37, time: 0.217, data_time: 0.001, memory: 1060, decode.loss_ce: 0.4364, decode.acc_seg: 81.6390, loss: 0.4364\n",
      "2022-04-14 11:51:42,277 - mmseg - INFO - Epoch [1][13100/43675]\tlr: 2.999e-03, eta: 3 days, 23:11:53, time: 0.217, data_time: 0.001, memory: 1060, decode.loss_ce: 0.4215, decode.acc_seg: 81.3691, loss: 0.4215\n",
      "2022-04-14 11:52:03,988 - mmseg - INFO - Epoch [1][13200/43675]\tlr: 3.022e-03, eta: 3 days, 23:27:51, time: 0.217, data_time: 0.001, memory: 1060, decode.loss_ce: 0.4893, decode.acc_seg: 79.0340, loss: 0.4893\n",
      "2022-04-14 11:52:25,723 - mmseg - INFO - Epoch [1][13300/43675]\tlr: 3.045e-03, eta: 3 days, 23:43:38, time: 0.217, data_time: 0.001, memory: 1060, decode.loss_ce: 0.4481, decode.acc_seg: 81.0604, loss: 0.4481\n",
      "2022-04-14 11:52:47,425 - mmseg - INFO - Epoch [1][13400/43675]\tlr: 3.068e-03, eta: 3 days, 23:59:05, time: 0.217, data_time: 0.001, memory: 1060, decode.loss_ce: 0.3972, decode.acc_seg: 83.9689, loss: 0.3972\n",
      "2022-04-14 11:53:09,141 - mmseg - INFO - Epoch [1][13500/43675]\tlr: 3.091e-03, eta: 4 days, 0:14:21, time: 0.217, data_time: 0.001, memory: 1060, decode.loss_ce: 0.3973, decode.acc_seg: 84.8864, loss: 0.3973\n",
      "2022-04-14 11:53:30,868 - mmseg - INFO - Epoch [1][13600/43675]\tlr: 3.114e-03, eta: 4 days, 0:29:25, time: 0.217, data_time: 0.001, memory: 1060, decode.loss_ce: 0.4435, decode.acc_seg: 81.6406, loss: 0.4435\n",
      "2022-04-14 11:53:52,591 - mmseg - INFO - Epoch [1][13700/43675]\tlr: 3.137e-03, eta: 4 days, 0:44:14, time: 0.217, data_time: 0.001, memory: 1060, decode.loss_ce: 0.4425, decode.acc_seg: 81.4242, loss: 0.4425\n",
      "2022-04-14 11:54:14,305 - mmseg - INFO - Epoch [1][13800/43675]\tlr: 3.159e-03, eta: 4 days, 0:58:48, time: 0.217, data_time: 0.001, memory: 1060, decode.loss_ce: 0.4240, decode.acc_seg: 82.8165, loss: 0.4240\n",
      "2022-04-14 11:54:36,025 - mmseg - INFO - Epoch [1][13900/43675]\tlr: 3.182e-03, eta: 4 days, 1:13:12, time: 0.217, data_time: 0.001, memory: 1060, decode.loss_ce: 0.3961, decode.acc_seg: 84.5401, loss: 0.3961\n",
      "2022-04-14 11:54:57,725 - mmseg - INFO - Epoch [1][14000/43675]\tlr: 3.205e-03, eta: 4 days, 1:27:18, time: 0.217, data_time: 0.001, memory: 1060, decode.loss_ce: 0.4346, decode.acc_seg: 81.9468, loss: 0.4346\n",
      "2022-04-14 11:55:19,435 - mmseg - INFO - Epoch [1][14100/43675]\tlr: 3.228e-03, eta: 4 days, 1:41:15, time: 0.217, data_time: 0.001, memory: 1060, decode.loss_ce: 0.4255, decode.acc_seg: 82.7648, loss: 0.4255\n",
      "2022-04-14 11:55:41,130 - mmseg - INFO - Epoch [1][14200/43675]\tlr: 3.251e-03, eta: 4 days, 1:54:57, time: 0.217, data_time: 0.001, memory: 1060, decode.loss_ce: 0.4342, decode.acc_seg: 82.5750, loss: 0.4342\n",
      "2022-04-14 11:56:02,859 - mmseg - INFO - Epoch [1][14300/43675]\tlr: 3.274e-03, eta: 4 days, 2:08:33, time: 0.217, data_time: 0.001, memory: 1060, decode.loss_ce: 0.4608, decode.acc_seg: 80.3025, loss: 0.4608\n",
      "2022-04-14 11:56:24,577 - mmseg - INFO - Epoch [1][14400/43675]\tlr: 3.297e-03, eta: 4 days, 2:21:54, time: 0.217, data_time: 0.001, memory: 1060, decode.loss_ce: 0.4255, decode.acc_seg: 82.9204, loss: 0.4255\n",
      "2022-04-14 11:56:46,304 - mmseg - INFO - Epoch [1][14500/43675]\tlr: 3.320e-03, eta: 4 days, 2:35:06, time: 0.217, data_time: 0.001, memory: 1060, decode.loss_ce: 0.4280, decode.acc_seg: 82.9756, loss: 0.4280\n",
      "2022-04-14 11:57:08,032 - mmseg - INFO - Epoch [1][14600/43675]\tlr: 3.343e-03, eta: 4 days, 2:48:07, time: 0.217, data_time: 0.001, memory: 1060, decode.loss_ce: 0.4346, decode.acc_seg: 81.6180, loss: 0.4346\n",
      "2022-04-14 11:57:29,740 - mmseg - INFO - Epoch [1][14700/43675]\tlr: 3.366e-03, eta: 4 days, 3:00:54, time: 0.217, data_time: 0.001, memory: 1060, decode.loss_ce: 0.4260, decode.acc_seg: 82.3326, loss: 0.4260\n"
     ]
    },
    {
     "name": "stderr",
     "output_type": "stream",
     "text": [
      "2022-04-14 11:57:51,444 - mmseg - INFO - Epoch [1][14800/43675]\tlr: 3.388e-03, eta: 4 days, 3:13:30, time: 0.217, data_time: 0.001, memory: 1060, decode.loss_ce: 0.4243, decode.acc_seg: 82.2352, loss: 0.4243\n",
      "2022-04-14 11:58:13,169 - mmseg - INFO - Epoch [1][14900/43675]\tlr: 3.411e-03, eta: 4 days, 3:25:59, time: 0.217, data_time: 0.001, memory: 1060, decode.loss_ce: 0.4189, decode.acc_seg: 83.1743, loss: 0.4189\n",
      "2022-04-14 11:58:34,878 - mmseg - INFO - Epoch [1][15000/43675]\tlr: 3.434e-03, eta: 4 days, 3:38:14, time: 0.217, data_time: 0.001, memory: 1060, decode.loss_ce: 0.4177, decode.acc_seg: 83.3359, loss: 0.4177\n",
      "2022-04-14 11:58:56,595 - mmseg - INFO - Epoch [1][15100/43675]\tlr: 3.457e-03, eta: 4 days, 3:50:22, time: 0.217, data_time: 0.001, memory: 1060, decode.loss_ce: 0.4021, decode.acc_seg: 83.4612, loss: 0.4021\n",
      "2022-04-14 11:59:18,324 - mmseg - INFO - Epoch [1][15200/43675]\tlr: 3.480e-03, eta: 4 days, 4:02:21, time: 0.217, data_time: 0.001, memory: 1060, decode.loss_ce: 0.4242, decode.acc_seg: 82.7842, loss: 0.4242\n",
      "2022-04-14 11:59:40,041 - mmseg - INFO - Epoch [1][15300/43675]\tlr: 3.503e-03, eta: 4 days, 4:14:08, time: 0.217, data_time: 0.001, memory: 1060, decode.loss_ce: 0.3936, decode.acc_seg: 84.9919, loss: 0.3936\n",
      "2022-04-14 12:00:01,753 - mmseg - INFO - Epoch [1][15400/43675]\tlr: 3.526e-03, eta: 4 days, 4:25:45, time: 0.217, data_time: 0.001, memory: 1060, decode.loss_ce: 0.4184, decode.acc_seg: 83.1208, loss: 0.4184\n",
      "2022-04-14 12:00:23,457 - mmseg - INFO - Epoch [1][15500/43675]\tlr: 3.549e-03, eta: 4 days, 4:37:12, time: 0.217, data_time: 0.001, memory: 1060, decode.loss_ce: 0.4480, decode.acc_seg: 82.1247, loss: 0.4480\n",
      "2022-04-14 12:00:45,183 - mmseg - INFO - Epoch [1][15600/43675]\tlr: 3.572e-03, eta: 4 days, 4:48:33, time: 0.217, data_time: 0.001, memory: 1060, decode.loss_ce: 0.4468, decode.acc_seg: 82.2781, loss: 0.4468\n",
      "2022-04-14 12:01:06,904 - mmseg - INFO - Epoch [1][15700/43675]\tlr: 3.595e-03, eta: 4 days, 4:59:45, time: 0.217, data_time: 0.001, memory: 1060, decode.loss_ce: 0.4073, decode.acc_seg: 83.4486, loss: 0.4073\n",
      "2022-04-14 12:01:28,615 - mmseg - INFO - Epoch [1][15800/43675]\tlr: 3.617e-03, eta: 4 days, 5:10:46, time: 0.217, data_time: 0.001, memory: 1060, decode.loss_ce: 0.4234, decode.acc_seg: 82.0399, loss: 0.4234\n",
      "2022-04-14 12:01:50,346 - mmseg - INFO - Epoch [1][15900/43675]\tlr: 3.640e-03, eta: 4 days, 5:21:41, time: 0.217, data_time: 0.001, memory: 1060, decode.loss_ce: 0.4299, decode.acc_seg: 82.2955, loss: 0.4299\n",
      "2022-04-14 12:02:12,082 - mmseg - INFO - Epoch [1][16000/43675]\tlr: 3.663e-03, eta: 4 days, 5:32:28, time: 0.217, data_time: 0.001, memory: 1060, decode.loss_ce: 0.4418, decode.acc_seg: 82.1793, loss: 0.4418\n",
      "2022-04-14 12:02:33,806 - mmseg - INFO - Epoch [1][16100/43675]\tlr: 3.686e-03, eta: 4 days, 5:43:06, time: 0.217, data_time: 0.001, memory: 1060, decode.loss_ce: 0.4445, decode.acc_seg: 81.6733, loss: 0.4445\n",
      "2022-04-14 12:02:55,530 - mmseg - INFO - Epoch [1][16200/43675]\tlr: 3.709e-03, eta: 4 days, 5:53:35, time: 0.217, data_time: 0.001, memory: 1060, decode.loss_ce: 0.4237, decode.acc_seg: 82.8808, loss: 0.4237\n",
      "2022-04-14 12:03:17,263 - mmseg - INFO - Epoch [1][16300/43675]\tlr: 3.732e-03, eta: 4 days, 6:03:58, time: 0.217, data_time: 0.001, memory: 1060, decode.loss_ce: 0.3694, decode.acc_seg: 85.8439, loss: 0.3694\n",
      "2022-04-14 12:03:38,982 - mmseg - INFO - Epoch [1][16400/43675]\tlr: 3.755e-03, eta: 4 days, 6:14:11, time: 0.217, data_time: 0.001, memory: 1060, decode.loss_ce: 0.4273, decode.acc_seg: 82.7616, loss: 0.4273\n",
      "2022-04-14 12:04:00,706 - mmseg - INFO - Epoch [1][16500/43675]\tlr: 3.778e-03, eta: 4 days, 6:24:16, time: 0.217, data_time: 0.001, memory: 1060, decode.loss_ce: 0.3756, decode.acc_seg: 86.3056, loss: 0.3756\n",
      "2022-04-14 12:04:22,438 - mmseg - INFO - Epoch [1][16600/43675]\tlr: 3.801e-03, eta: 4 days, 6:34:16, time: 0.217, data_time: 0.001, memory: 1060, decode.loss_ce: 0.4468, decode.acc_seg: 81.8780, loss: 0.4468\n",
      "2022-04-14 12:04:44,149 - mmseg - INFO - Epoch [1][16700/43675]\tlr: 3.823e-03, eta: 4 days, 6:44:05, time: 0.217, data_time: 0.001, memory: 1060, decode.loss_ce: 0.3705, decode.acc_seg: 85.7977, loss: 0.3705\n",
      "2022-04-14 12:05:05,868 - mmseg - INFO - Epoch [1][16800/43675]\tlr: 3.846e-03, eta: 4 days, 6:53:48, time: 0.217, data_time: 0.001, memory: 1060, decode.loss_ce: 0.4385, decode.acc_seg: 81.9059, loss: 0.4385\n",
      "2022-04-14 12:05:27,594 - mmseg - INFO - Epoch [1][16900/43675]\tlr: 3.869e-03, eta: 4 days, 7:03:25, time: 0.217, data_time: 0.001, memory: 1060, decode.loss_ce: 0.4483, decode.acc_seg: 81.6812, loss: 0.4483\n",
      "2022-04-14 12:05:49,293 - mmseg - INFO - Epoch [1][17000/43675]\tlr: 3.892e-03, eta: 4 days, 7:12:51, time: 0.217, data_time: 0.001, memory: 1060, decode.loss_ce: 0.4170, decode.acc_seg: 83.5645, loss: 0.4170\n",
      "2022-04-14 12:06:11,030 - mmseg - INFO - Epoch [1][17100/43675]\tlr: 3.915e-03, eta: 4 days, 7:22:15, time: 0.217, data_time: 0.001, memory: 1060, decode.loss_ce: 0.4155, decode.acc_seg: 83.4730, loss: 0.4155\n",
      "2022-04-14 12:06:32,755 - mmseg - INFO - Epoch [1][17200/43675]\tlr: 3.938e-03, eta: 4 days, 7:31:31, time: 0.217, data_time: 0.001, memory: 1060, decode.loss_ce: 0.4299, decode.acc_seg: 82.9671, loss: 0.4299\n",
      "2022-04-14 12:06:54,468 - mmseg - INFO - Epoch [1][17300/43675]\tlr: 3.961e-03, eta: 4 days, 7:40:39, time: 0.217, data_time: 0.001, memory: 1060, decode.loss_ce: 0.4060, decode.acc_seg: 84.0727, loss: 0.4060\n",
      "2022-04-14 12:07:16,184 - mmseg - INFO - Epoch [1][17400/43675]\tlr: 3.984e-03, eta: 4 days, 7:49:40, time: 0.217, data_time: 0.001, memory: 1060, decode.loss_ce: 0.3429, decode.acc_seg: 87.5729, loss: 0.3429\n",
      "2022-04-14 12:07:37,909 - mmseg - INFO - Epoch [1][17500/43675]\tlr: 4.007e-03, eta: 4 days, 7:58:36, time: 0.217, data_time: 0.001, memory: 1060, decode.loss_ce: 0.4178, decode.acc_seg: 82.6232, loss: 0.4178\n",
      "2022-04-14 12:07:59,615 - mmseg - INFO - Epoch [1][17600/43675]\tlr: 4.030e-03, eta: 4 days, 8:07:24, time: 0.217, data_time: 0.001, memory: 1060, decode.loss_ce: 0.4006, decode.acc_seg: 84.0244, loss: 0.4006\n",
      "2022-04-14 12:08:21,344 - mmseg - INFO - Epoch [1][17700/43675]\tlr: 4.052e-03, eta: 4 days, 8:16:08, time: 0.217, data_time: 0.001, memory: 1060, decode.loss_ce: 0.4675, decode.acc_seg: 80.1837, loss: 0.4675\n",
      "2022-04-14 12:08:43,066 - mmseg - INFO - Epoch [1][17800/43675]\tlr: 4.075e-03, eta: 4 days, 8:24:45, time: 0.217, data_time: 0.001, memory: 1060, decode.loss_ce: 0.4128, decode.acc_seg: 83.9754, loss: 0.4128\n",
      "2022-04-14 12:09:04,774 - mmseg - INFO - Epoch [1][17900/43675]\tlr: 4.098e-03, eta: 4 days, 8:33:14, time: 0.217, data_time: 0.001, memory: 1060, decode.loss_ce: 0.4113, decode.acc_seg: 83.7720, loss: 0.4113\n",
      "2022-04-14 12:09:26,491 - mmseg - INFO - Epoch [1][18000/43675]\tlr: 4.121e-03, eta: 4 days, 8:41:39, time: 0.217, data_time: 0.001, memory: 1060, decode.loss_ce: 0.4415, decode.acc_seg: 80.9533, loss: 0.4415\n",
      "2022-04-14 12:09:48,216 - mmseg - INFO - Epoch [1][18100/43675]\tlr: 4.144e-03, eta: 4 days, 8:49:59, time: 0.217, data_time: 0.001, memory: 1060, decode.loss_ce: 0.4257, decode.acc_seg: 82.2216, loss: 0.4257\n",
      "2022-04-14 12:10:09,931 - mmseg - INFO - Epoch [1][18200/43675]\tlr: 4.167e-03, eta: 4 days, 8:58:12, time: 0.217, data_time: 0.001, memory: 1060, decode.loss_ce: 0.4187, decode.acc_seg: 83.5987, loss: 0.4187\n",
      "2022-04-14 12:10:31,646 - mmseg - INFO - Epoch [1][18300/43675]\tlr: 4.190e-03, eta: 4 days, 9:06:19, time: 0.217, data_time: 0.001, memory: 1060, decode.loss_ce: 0.3680, decode.acc_seg: 86.4824, loss: 0.3680\n",
      "2022-04-14 12:10:53,356 - mmseg - INFO - Epoch [1][18400/43675]\tlr: 4.213e-03, eta: 4 days, 9:14:20, time: 0.217, data_time: 0.001, memory: 1060, decode.loss_ce: 0.3809, decode.acc_seg: 84.4190, loss: 0.3809\n",
      "2022-04-14 12:11:15,061 - mmseg - INFO - Epoch [1][18500/43675]\tlr: 4.236e-03, eta: 4 days, 9:22:15, time: 0.217, data_time: 0.001, memory: 1060, decode.loss_ce: 0.4580, decode.acc_seg: 80.9303, loss: 0.4580\n",
      "2022-04-14 12:11:36,790 - mmseg - INFO - Epoch [1][18600/43675]\tlr: 4.259e-03, eta: 4 days, 9:30:08, time: 0.217, data_time: 0.001, memory: 1060, decode.loss_ce: 0.4536, decode.acc_seg: 80.3117, loss: 0.4536\n",
      "2022-04-14 12:11:58,497 - mmseg - INFO - Epoch [1][18700/43675]\tlr: 4.281e-03, eta: 4 days, 9:37:53, time: 0.217, data_time: 0.001, memory: 1060, decode.loss_ce: 0.4273, decode.acc_seg: 82.9062, loss: 0.4273\n"
     ]
    },
    {
     "name": "stderr",
     "output_type": "stream",
     "text": [
      "2022-04-14 12:12:20,206 - mmseg - INFO - Epoch [1][18800/43675]\tlr: 4.304e-03, eta: 4 days, 9:45:32, time: 0.217, data_time: 0.001, memory: 1060, decode.loss_ce: 0.3905, decode.acc_seg: 85.3541, loss: 0.3905\n",
      "2022-04-14 12:12:41,911 - mmseg - INFO - Epoch [1][18900/43675]\tlr: 4.327e-03, eta: 4 days, 9:53:06, time: 0.217, data_time: 0.001, memory: 1060, decode.loss_ce: 0.3831, decode.acc_seg: 85.3443, loss: 0.3831\n",
      "2022-04-14 12:13:03,621 - mmseg - INFO - Epoch [1][19000/43675]\tlr: 4.350e-03, eta: 4 days, 10:00:36, time: 0.217, data_time: 0.001, memory: 1060, decode.loss_ce: 0.4712, decode.acc_seg: 79.6238, loss: 0.4712\n",
      "2022-04-14 12:13:25,332 - mmseg - INFO - Epoch [1][19100/43675]\tlr: 4.373e-03, eta: 4 days, 10:08:01, time: 0.217, data_time: 0.001, memory: 1060, decode.loss_ce: 0.4255, decode.acc_seg: 83.4694, loss: 0.4255\n",
      "2022-04-14 12:13:47,053 - mmseg - INFO - Epoch [1][19200/43675]\tlr: 4.396e-03, eta: 4 days, 10:15:22, time: 0.217, data_time: 0.001, memory: 1060, decode.loss_ce: 0.4371, decode.acc_seg: 82.4733, loss: 0.4371\n",
      "2022-04-14 12:14:08,766 - mmseg - INFO - Epoch [1][19300/43675]\tlr: 4.419e-03, eta: 4 days, 10:22:38, time: 0.217, data_time: 0.001, memory: 1060, decode.loss_ce: 0.4419, decode.acc_seg: 81.8852, loss: 0.4419\n",
      "2022-04-14 12:14:30,463 - mmseg - INFO - Epoch [1][19400/43675]\tlr: 4.442e-03, eta: 4 days, 10:29:47, time: 0.217, data_time: 0.001, memory: 1060, decode.loss_ce: 0.4387, decode.acc_seg: 80.5993, loss: 0.4387\n",
      "2022-04-14 12:14:52,183 - mmseg - INFO - Epoch [1][19500/43675]\tlr: 4.465e-03, eta: 4 days, 10:36:53, time: 0.217, data_time: 0.001, memory: 1060, decode.loss_ce: 0.4083, decode.acc_seg: 84.3083, loss: 0.4083\n",
      "2022-04-14 12:15:13,893 - mmseg - INFO - Epoch [1][19600/43675]\tlr: 4.487e-03, eta: 4 days, 10:43:54, time: 0.217, data_time: 0.001, memory: 1060, decode.loss_ce: 0.3956, decode.acc_seg: 83.9948, loss: 0.3956\n",
      "2022-04-14 12:15:35,599 - mmseg - INFO - Epoch [1][19700/43675]\tlr: 4.510e-03, eta: 4 days, 10:50:51, time: 0.217, data_time: 0.001, memory: 1060, decode.loss_ce: 0.4012, decode.acc_seg: 83.5076, loss: 0.4012\n",
      "2022-04-14 12:15:57,323 - mmseg - INFO - Epoch [1][19800/43675]\tlr: 4.533e-03, eta: 4 days, 10:57:44, time: 0.217, data_time: 0.001, memory: 1060, decode.loss_ce: 0.4304, decode.acc_seg: 82.2222, loss: 0.4304\n",
      "2022-04-14 12:16:19,043 - mmseg - INFO - Epoch [1][19900/43675]\tlr: 4.556e-03, eta: 4 days, 11:04:33, time: 0.217, data_time: 0.001, memory: 1060, decode.loss_ce: 0.4477, decode.acc_seg: 80.6817, loss: 0.4477\n",
      "2022-04-14 12:16:40,754 - mmseg - INFO - Epoch [1][20000/43675]\tlr: 4.579e-03, eta: 4 days, 11:11:17, time: 0.217, data_time: 0.001, memory: 1060, decode.loss_ce: 0.4097, decode.acc_seg: 83.8937, loss: 0.4097\n",
      "2022-04-14 12:17:02,462 - mmseg - INFO - Epoch [1][20100/43675]\tlr: 4.602e-03, eta: 4 days, 11:17:56, time: 0.217, data_time: 0.001, memory: 1060, decode.loss_ce: 0.3931, decode.acc_seg: 84.5618, loss: 0.3931\n",
      "2022-04-14 12:17:24,177 - mmseg - INFO - Epoch [1][20200/43675]\tlr: 4.625e-03, eta: 4 days, 11:24:32, time: 0.217, data_time: 0.001, memory: 1060, decode.loss_ce: 0.4456, decode.acc_seg: 81.5841, loss: 0.4456\n",
      "2022-04-14 12:17:45,873 - mmseg - INFO - Epoch [1][20300/43675]\tlr: 4.648e-03, eta: 4 days, 11:31:02, time: 0.217, data_time: 0.001, memory: 1060, decode.loss_ce: 0.4483, decode.acc_seg: 81.1425, loss: 0.4483\n",
      "2022-04-14 12:18:07,596 - mmseg - INFO - Epoch [1][20400/43675]\tlr: 4.671e-03, eta: 4 days, 11:37:30, time: 0.217, data_time: 0.001, memory: 1060, decode.loss_ce: 0.5488, decode.acc_seg: 67.2516, loss: 0.5488\n",
      "2022-04-14 12:18:29,302 - mmseg - INFO - Epoch [1][20500/43675]\tlr: 4.694e-03, eta: 4 days, 11:43:53, time: 0.217, data_time: 0.001, memory: 1060, decode.loss_ce: 0.4392, decode.acc_seg: 83.4839, loss: 0.4392\n",
      "2022-04-14 12:18:51,019 - mmseg - INFO - Epoch [1][20600/43675]\tlr: 4.716e-03, eta: 4 days, 11:50:13, time: 0.217, data_time: 0.001, memory: 1060, decode.loss_ce: 0.3842, decode.acc_seg: 85.0250, loss: 0.3842\n",
      "2022-04-14 12:19:12,725 - mmseg - INFO - Epoch [1][20700/43675]\tlr: 4.739e-03, eta: 4 days, 11:56:28, time: 0.217, data_time: 0.001, memory: 1060, decode.loss_ce: 0.4075, decode.acc_seg: 83.1128, loss: 0.4075\n",
      "2022-04-14 12:19:34,427 - mmseg - INFO - Epoch [1][20800/43675]\tlr: 4.762e-03, eta: 4 days, 12:02:38, time: 0.217, data_time: 0.001, memory: 1060, decode.loss_ce: 0.4214, decode.acc_seg: 82.5068, loss: 0.4214\n",
      "2022-04-14 12:19:56,149 - mmseg - INFO - Epoch [1][20900/43675]\tlr: 4.785e-03, eta: 4 days, 12:08:47, time: 0.217, data_time: 0.001, memory: 1060, decode.loss_ce: 0.4548, decode.acc_seg: 80.5554, loss: 0.4548\n",
      "2022-04-14 12:20:17,845 - mmseg - INFO - Epoch [1][21000/43675]\tlr: 4.808e-03, eta: 4 days, 12:14:50, time: 0.217, data_time: 0.001, memory: 1060, decode.loss_ce: 0.3944, decode.acc_seg: 83.9960, loss: 0.3944\n",
      "2022-04-14 12:20:39,551 - mmseg - INFO - Epoch [1][21100/43675]\tlr: 4.831e-03, eta: 4 days, 12:20:50, time: 0.217, data_time: 0.001, memory: 1060, decode.loss_ce: 0.4460, decode.acc_seg: 81.4827, loss: 0.4460\n",
      "2022-04-14 12:21:01,271 - mmseg - INFO - Epoch [1][21200/43675]\tlr: 4.854e-03, eta: 4 days, 12:26:47, time: 0.217, data_time: 0.001, memory: 1060, decode.loss_ce: 0.4293, decode.acc_seg: 82.1734, loss: 0.4293\n",
      "2022-04-14 12:21:22,981 - mmseg - INFO - Epoch [1][21300/43675]\tlr: 4.877e-03, eta: 4 days, 12:32:40, time: 0.217, data_time: 0.001, memory: 1060, decode.loss_ce: 0.4303, decode.acc_seg: 82.0689, loss: 0.4303\n",
      "2022-04-14 12:21:44,693 - mmseg - INFO - Epoch [1][21400/43675]\tlr: 4.900e-03, eta: 4 days, 12:38:30, time: 0.217, data_time: 0.001, memory: 1060, decode.loss_ce: 0.4227, decode.acc_seg: 82.7129, loss: 0.4227\n",
      "2022-04-14 12:22:06,389 - mmseg - INFO - Epoch [1][21500/43675]\tlr: 4.923e-03, eta: 4 days, 12:44:15, time: 0.217, data_time: 0.001, memory: 1060, decode.loss_ce: 0.4408, decode.acc_seg: 81.0806, loss: 0.4408\n",
      "2022-04-14 12:22:28,099 - mmseg - INFO - Epoch [1][21600/43675]\tlr: 4.945e-03, eta: 4 days, 12:49:58, time: 0.217, data_time: 0.001, memory: 1060, decode.loss_ce: 0.4418, decode.acc_seg: 81.5618, loss: 0.4418\n",
      "2022-04-14 12:22:49,786 - mmseg - INFO - Epoch [1][21700/43675]\tlr: 4.968e-03, eta: 4 days, 12:55:35, time: 0.217, data_time: 0.001, memory: 1060, decode.loss_ce: 0.4389, decode.acc_seg: 81.8319, loss: 0.4389\n",
      "2022-04-14 12:23:11,490 - mmseg - INFO - Epoch [1][21800/43675]\tlr: 4.991e-03, eta: 4 days, 13:01:11, time: 0.217, data_time: 0.001, memory: 1060, decode.loss_ce: 0.3955, decode.acc_seg: 84.1337, loss: 0.3955\n",
      "2022-04-14 12:23:33,203 - mmseg - INFO - Epoch [1][21900/43675]\tlr: 5.014e-03, eta: 4 days, 13:06:44, time: 0.217, data_time: 0.001, memory: 1060, decode.loss_ce: 0.4494, decode.acc_seg: 80.5952, loss: 0.4494\n",
      "2022-04-14 12:23:54,906 - mmseg - INFO - Epoch [1][22000/43675]\tlr: 5.037e-03, eta: 4 days, 13:12:13, time: 0.217, data_time: 0.001, memory: 1060, decode.loss_ce: 0.3831, decode.acc_seg: 84.6217, loss: 0.3831\n",
      "2022-04-14 12:24:16,617 - mmseg - INFO - Epoch [1][22100/43675]\tlr: 5.060e-03, eta: 4 days, 13:17:39, time: 0.217, data_time: 0.001, memory: 1060, decode.loss_ce: 0.4078, decode.acc_seg: 83.8179, loss: 0.4078\n",
      "2022-04-14 12:24:38,320 - mmseg - INFO - Epoch [1][22200/43675]\tlr: 5.083e-03, eta: 4 days, 13:23:02, time: 0.217, data_time: 0.001, memory: 1060, decode.loss_ce: 0.4057, decode.acc_seg: 83.1010, loss: 0.4057\n",
      "2022-04-14 12:25:00,016 - mmseg - INFO - Epoch [1][22300/43675]\tlr: 5.106e-03, eta: 4 days, 13:28:21, time: 0.217, data_time: 0.001, memory: 1060, decode.loss_ce: 0.4343, decode.acc_seg: 81.1635, loss: 0.4343\n",
      "2022-04-14 12:25:21,730 - mmseg - INFO - Epoch [1][22400/43675]\tlr: 5.129e-03, eta: 4 days, 13:33:38, time: 0.217, data_time: 0.001, memory: 1060, decode.loss_ce: 0.4201, decode.acc_seg: 82.2748, loss: 0.4201\n",
      "2022-04-14 12:25:43,434 - mmseg - INFO - Epoch [1][22500/43675]\tlr: 5.151e-03, eta: 4 days, 13:38:52, time: 0.217, data_time: 0.001, memory: 1060, decode.loss_ce: 0.3834, decode.acc_seg: 83.8541, loss: 0.3834\n",
      "2022-04-14 12:26:05,126 - mmseg - INFO - Epoch [1][22600/43675]\tlr: 5.174e-03, eta: 4 days, 13:44:02, time: 0.217, data_time: 0.001, memory: 1060, decode.loss_ce: 0.4097, decode.acc_seg: 81.7009, loss: 0.4097\n",
      "2022-04-14 12:26:26,842 - mmseg - INFO - Epoch [1][22700/43675]\tlr: 5.197e-03, eta: 4 days, 13:49:11, time: 0.217, data_time: 0.001, memory: 1060, decode.loss_ce: 0.3908, decode.acc_seg: 84.1367, loss: 0.3908\n"
     ]
    },
    {
     "name": "stderr",
     "output_type": "stream",
     "text": [
      "2022-04-14 12:26:48,544 - mmseg - INFO - Epoch [1][22800/43675]\tlr: 5.220e-03, eta: 4 days, 13:54:15, time: 0.217, data_time: 0.001, memory: 1060, decode.loss_ce: 0.3525, decode.acc_seg: 86.1498, loss: 0.3525\n",
      "2022-04-14 12:27:10,234 - mmseg - INFO - Epoch [1][22900/43675]\tlr: 5.243e-03, eta: 4 days, 13:59:16, time: 0.217, data_time: 0.001, memory: 1060, decode.loss_ce: 0.3945, decode.acc_seg: 84.0710, loss: 0.3945\n",
      "2022-04-14 12:27:31,944 - mmseg - INFO - Epoch [1][23000/43675]\tlr: 5.266e-03, eta: 4 days, 14:04:16, time: 0.217, data_time: 0.001, memory: 1060, decode.loss_ce: 0.4409, decode.acc_seg: 81.2038, loss: 0.4409\n",
      "2022-04-14 12:27:51,207 - mmseg - INFO - Epoch [1][23100/43675]\tlr: 5.289e-03, eta: 4 days, 14:05:24, time: 0.193, data_time: 0.001, memory: 1060, decode.loss_ce: 0.4067, decode.acc_seg: 83.5662, loss: 0.4067\n",
      "2022-04-14 12:28:09,599 - mmseg - INFO - Epoch [1][23200/43675]\tlr: 5.312e-03, eta: 4 days, 14:05:11, time: 0.184, data_time: 0.001, memory: 1060, decode.loss_ce: 0.3598, decode.acc_seg: 85.7903, loss: 0.3598\n",
      "2022-04-14 12:28:27,974 - mmseg - INFO - Epoch [1][23300/43675]\tlr: 5.335e-03, eta: 4 days, 14:04:55, time: 0.184, data_time: 0.001, memory: 1060, decode.loss_ce: 0.3783, decode.acc_seg: 84.3788, loss: 0.3783\n",
      "2022-04-14 12:28:46,323 - mmseg - INFO - Epoch [1][23400/43675]\tlr: 5.358e-03, eta: 4 days, 14:04:37, time: 0.183, data_time: 0.001, memory: 1060, decode.loss_ce: 0.4303, decode.acc_seg: 82.0883, loss: 0.4303\n",
      "2022-04-14 12:29:04,691 - mmseg - INFO - Epoch [1][23500/43675]\tlr: 5.380e-03, eta: 4 days, 14:04:21, time: 0.184, data_time: 0.001, memory: 1060, decode.loss_ce: 0.4042, decode.acc_seg: 83.9033, loss: 0.4042\n",
      "2022-04-14 12:29:23,068 - mmseg - INFO - Epoch [1][23600/43675]\tlr: 5.403e-03, eta: 4 days, 14:04:06, time: 0.184, data_time: 0.001, memory: 1060, decode.loss_ce: 0.3714, decode.acc_seg: 85.7542, loss: 0.3714\n",
      "2022-04-14 12:29:41,423 - mmseg - INFO - Epoch [1][23700/43675]\tlr: 5.426e-03, eta: 4 days, 14:03:48, time: 0.184, data_time: 0.001, memory: 1060, decode.loss_ce: 0.4326, decode.acc_seg: 82.0972, loss: 0.4326\n",
      "2022-04-14 12:30:00,282 - mmseg - INFO - Epoch [1][23800/43675]\tlr: 5.449e-03, eta: 4 days, 14:04:17, time: 0.189, data_time: 0.001, memory: 1060, decode.loss_ce: 0.4545, decode.acc_seg: 80.8751, loss: 0.4545\n",
      "2022-04-14 12:30:17,198 - mmseg - INFO - Epoch [1][23900/43675]\tlr: 5.472e-03, eta: 4 days, 14:01:49, time: 0.169, data_time: 0.001, memory: 1060, decode.loss_ce: 0.4188, decode.acc_seg: 82.7904, loss: 0.4188\n",
      "2022-04-14 12:30:38,903 - mmseg - INFO - Epoch [1][24000/43675]\tlr: 5.495e-03, eta: 4 days, 14:06:33, time: 0.217, data_time: 0.001, memory: 1060, decode.loss_ce: 0.4397, decode.acc_seg: 82.1876, loss: 0.4397\n",
      "2022-04-14 12:31:00,619 - mmseg - INFO - Epoch [1][24100/43675]\tlr: 5.518e-03, eta: 4 days, 14:11:16, time: 0.217, data_time: 0.001, memory: 1060, decode.loss_ce: 0.3797, decode.acc_seg: 84.5580, loss: 0.3797\n",
      "2022-04-14 12:31:22,320 - mmseg - INFO - Epoch [1][24200/43675]\tlr: 5.541e-03, eta: 4 days, 14:15:55, time: 0.217, data_time: 0.001, memory: 1060, decode.loss_ce: 0.3888, decode.acc_seg: 84.5552, loss: 0.3888\n",
      "2022-04-14 12:31:44,023 - mmseg - INFO - Epoch [1][24300/43675]\tlr: 5.564e-03, eta: 4 days, 14:20:32, time: 0.217, data_time: 0.001, memory: 1060, decode.loss_ce: 0.3914, decode.acc_seg: 84.1196, loss: 0.3914\n",
      "2022-04-14 12:32:05,737 - mmseg - INFO - Epoch [1][24400/43675]\tlr: 5.586e-03, eta: 4 days, 14:25:07, time: 0.217, data_time: 0.001, memory: 1060, decode.loss_ce: 0.3820, decode.acc_seg: 84.9168, loss: 0.3820\n",
      "2022-04-14 12:32:27,437 - mmseg - INFO - Epoch [1][24500/43675]\tlr: 5.609e-03, eta: 4 days, 14:29:39, time: 0.217, data_time: 0.001, memory: 1060, decode.loss_ce: 0.3694, decode.acc_seg: 85.8588, loss: 0.3694\n",
      "2022-04-14 12:32:49,138 - mmseg - INFO - Epoch [1][24600/43675]\tlr: 5.632e-03, eta: 4 days, 14:34:08, time: 0.217, data_time: 0.001, memory: 1060, decode.loss_ce: 0.3822, decode.acc_seg: 84.1153, loss: 0.3822\n",
      "2022-04-14 12:33:10,848 - mmseg - INFO - Epoch [1][24700/43675]\tlr: 5.655e-03, eta: 4 days, 14:38:36, time: 0.217, data_time: 0.001, memory: 1060, decode.loss_ce: 0.3654, decode.acc_seg: 85.6369, loss: 0.3654\n",
      "2022-04-14 12:33:32,541 - mmseg - INFO - Epoch [1][24800/43675]\tlr: 5.678e-03, eta: 4 days, 14:43:00, time: 0.217, data_time: 0.001, memory: 1060, decode.loss_ce: 0.3826, decode.acc_seg: 84.9432, loss: 0.3826\n",
      "2022-04-14 12:33:54,240 - mmseg - INFO - Epoch [1][24900/43675]\tlr: 5.701e-03, eta: 4 days, 14:47:22, time: 0.217, data_time: 0.001, memory: 1060, decode.loss_ce: 0.4526, decode.acc_seg: 80.1330, loss: 0.4526\n",
      "2022-04-14 12:34:15,959 - mmseg - INFO - Epoch [1][25000/43675]\tlr: 5.724e-03, eta: 4 days, 14:51:43, time: 0.217, data_time: 0.001, memory: 1060, decode.loss_ce: 0.3857, decode.acc_seg: 84.1006, loss: 0.3857\n",
      "2022-04-14 12:34:37,657 - mmseg - INFO - Epoch [1][25100/43675]\tlr: 5.747e-03, eta: 4 days, 14:56:01, time: 0.217, data_time: 0.001, memory: 1060, decode.loss_ce: 0.3664, decode.acc_seg: 85.6823, loss: 0.3664\n",
      "2022-04-14 12:34:59,359 - mmseg - INFO - Epoch [1][25200/43675]\tlr: 5.770e-03, eta: 4 days, 15:00:17, time: 0.217, data_time: 0.001, memory: 1060, decode.loss_ce: 0.4242, decode.acc_seg: 82.1739, loss: 0.4242\n",
      "2022-04-14 12:35:21,055 - mmseg - INFO - Epoch [1][25300/43675]\tlr: 5.793e-03, eta: 4 days, 15:04:30, time: 0.217, data_time: 0.001, memory: 1060, decode.loss_ce: 0.3925, decode.acc_seg: 84.5306, loss: 0.3925\n",
      "2022-04-14 12:35:42,738 - mmseg - INFO - Epoch [1][25400/43675]\tlr: 5.815e-03, eta: 4 days, 15:08:39, time: 0.217, data_time: 0.001, memory: 1060, decode.loss_ce: 0.3700, decode.acc_seg: 84.5762, loss: 0.3700\n",
      "2022-04-14 12:36:04,441 - mmseg - INFO - Epoch [1][25500/43675]\tlr: 5.838e-03, eta: 4 days, 15:12:49, time: 0.217, data_time: 0.001, memory: 1060, decode.loss_ce: 0.3850, decode.acc_seg: 85.0711, loss: 0.3850\n",
      "2022-04-14 12:36:26,144 - mmseg - INFO - Epoch [1][25600/43675]\tlr: 5.861e-03, eta: 4 days, 15:16:56, time: 0.217, data_time: 0.001, memory: 1060, decode.loss_ce: 0.4418, decode.acc_seg: 81.6980, loss: 0.4418\n",
      "2022-04-14 12:36:47,842 - mmseg - INFO - Epoch [1][25700/43675]\tlr: 5.884e-03, eta: 4 days, 15:21:01, time: 0.217, data_time: 0.001, memory: 1060, decode.loss_ce: 0.4197, decode.acc_seg: 82.6298, loss: 0.4197\n",
      "2022-04-14 12:37:09,535 - mmseg - INFO - Epoch [1][25800/43675]\tlr: 5.907e-03, eta: 4 days, 15:25:03, time: 0.217, data_time: 0.001, memory: 1060, decode.loss_ce: 0.4149, decode.acc_seg: 83.0271, loss: 0.4149\n",
      "2022-04-14 12:37:31,230 - mmseg - INFO - Epoch [1][25900/43675]\tlr: 5.930e-03, eta: 4 days, 15:29:03, time: 0.217, data_time: 0.001, memory: 1060, decode.loss_ce: 0.4096, decode.acc_seg: 82.7299, loss: 0.4096\n",
      "2022-04-14 12:37:52,925 - mmseg - INFO - Epoch [1][26000/43675]\tlr: 5.953e-03, eta: 4 days, 15:33:01, time: 0.217, data_time: 0.001, memory: 1060, decode.loss_ce: 0.3704, decode.acc_seg: 85.0907, loss: 0.3704\n",
      "2022-04-14 12:38:14,630 - mmseg - INFO - Epoch [1][26100/43675]\tlr: 5.976e-03, eta: 4 days, 15:36:59, time: 0.217, data_time: 0.001, memory: 1060, decode.loss_ce: 0.4066, decode.acc_seg: 83.6644, loss: 0.4066\n",
      "2022-04-14 12:38:36,337 - mmseg - INFO - Epoch [1][26200/43675]\tlr: 5.999e-03, eta: 4 days, 15:40:54, time: 0.217, data_time: 0.001, memory: 1060, decode.loss_ce: 0.4121, decode.acc_seg: 83.3366, loss: 0.4121\n",
      "2022-04-14 12:38:58,014 - mmseg - INFO - Epoch [1][26300/43675]\tlr: 6.022e-03, eta: 4 days, 15:44:45, time: 0.217, data_time: 0.001, memory: 1060, decode.loss_ce: 0.3598, decode.acc_seg: 84.5112, loss: 0.3598\n",
      "2022-04-14 12:39:19,724 - mmseg - INFO - Epoch [1][26400/43675]\tlr: 6.044e-03, eta: 4 days, 15:48:36, time: 0.217, data_time: 0.001, memory: 1060, decode.loss_ce: 0.4346, decode.acc_seg: 81.8069, loss: 0.4346\n",
      "2022-04-14 12:39:41,417 - mmseg - INFO - Epoch [1][26500/43675]\tlr: 6.067e-03, eta: 4 days, 15:52:25, time: 0.217, data_time: 0.001, memory: 1060, decode.loss_ce: 0.4118, decode.acc_seg: 83.2638, loss: 0.4118\n",
      "2022-04-14 12:40:03,101 - mmseg - INFO - Epoch [1][26600/43675]\tlr: 6.090e-03, eta: 4 days, 15:56:11, time: 0.217, data_time: 0.001, memory: 1060, decode.loss_ce: 0.4027, decode.acc_seg: 83.0755, loss: 0.4027\n",
      "2022-04-14 12:40:24,810 - mmseg - INFO - Epoch [1][26700/43675]\tlr: 6.113e-03, eta: 4 days, 15:59:57, time: 0.217, data_time: 0.001, memory: 1060, decode.loss_ce: 0.4255, decode.acc_seg: 82.4136, loss: 0.4255\n"
     ]
    },
    {
     "name": "stderr",
     "output_type": "stream",
     "text": [
      "2022-04-14 12:40:46,515 - mmseg - INFO - Epoch [1][26800/43675]\tlr: 6.136e-03, eta: 4 days, 16:03:40, time: 0.217, data_time: 0.001, memory: 1060, decode.loss_ce: 0.4279, decode.acc_seg: 82.8432, loss: 0.4279\n",
      "2022-04-14 12:41:08,198 - mmseg - INFO - Epoch [1][26900/43675]\tlr: 6.159e-03, eta: 4 days, 16:07:20, time: 0.217, data_time: 0.001, memory: 1060, decode.loss_ce: 0.4212, decode.acc_seg: 81.9425, loss: 0.4212\n",
      "2022-04-14 12:41:29,890 - mmseg - INFO - Epoch [1][27000/43675]\tlr: 6.182e-03, eta: 4 days, 16:11:00, time: 0.217, data_time: 0.001, memory: 1060, decode.loss_ce: 0.3762, decode.acc_seg: 85.2328, loss: 0.3762\n",
      "2022-04-14 12:41:51,584 - mmseg - INFO - Epoch [1][27100/43675]\tlr: 6.205e-03, eta: 4 days, 16:14:37, time: 0.217, data_time: 0.001, memory: 1060, decode.loss_ce: 0.4506, decode.acc_seg: 80.9725, loss: 0.4506\n",
      "2022-04-14 12:42:13,265 - mmseg - INFO - Epoch [1][27200/43675]\tlr: 6.228e-03, eta: 4 days, 16:18:12, time: 0.217, data_time: 0.001, memory: 1060, decode.loss_ce: 0.3973, decode.acc_seg: 83.5497, loss: 0.3973\n",
      "2022-04-14 12:42:34,966 - mmseg - INFO - Epoch [1][27300/43675]\tlr: 6.250e-03, eta: 4 days, 16:21:47, time: 0.217, data_time: 0.001, memory: 1060, decode.loss_ce: 0.4313, decode.acc_seg: 81.7023, loss: 0.4313\n",
      "2022-04-14 12:42:56,665 - mmseg - INFO - Epoch [1][27400/43675]\tlr: 6.273e-03, eta: 4 days, 16:25:19, time: 0.217, data_time: 0.001, memory: 1060, decode.loss_ce: 0.4468, decode.acc_seg: 80.4784, loss: 0.4468\n",
      "2022-04-14 12:43:18,353 - mmseg - INFO - Epoch [1][27500/43675]\tlr: 6.296e-03, eta: 4 days, 16:28:49, time: 0.217, data_time: 0.001, memory: 1060, decode.loss_ce: 0.3846, decode.acc_seg: 84.1208, loss: 0.3846\n",
      "2022-04-14 12:43:40,047 - mmseg - INFO - Epoch [1][27600/43675]\tlr: 6.319e-03, eta: 4 days, 16:32:18, time: 0.217, data_time: 0.001, memory: 1060, decode.loss_ce: 0.4524, decode.acc_seg: 79.5453, loss: 0.4524\n",
      "2022-04-14 12:44:01,739 - mmseg - INFO - Epoch [1][27700/43675]\tlr: 6.342e-03, eta: 4 days, 16:35:45, time: 0.217, data_time: 0.001, memory: 1060, decode.loss_ce: 0.3972, decode.acc_seg: 82.9548, loss: 0.3972\n",
      "2022-04-14 12:44:23,433 - mmseg - INFO - Epoch [1][27800/43675]\tlr: 6.365e-03, eta: 4 days, 16:39:11, time: 0.217, data_time: 0.001, memory: 1060, decode.loss_ce: 0.3731, decode.acc_seg: 84.9639, loss: 0.3731\n",
      "2022-04-14 12:44:45,134 - mmseg - INFO - Epoch [1][27900/43675]\tlr: 6.388e-03, eta: 4 days, 16:42:35, time: 0.217, data_time: 0.001, memory: 1060, decode.loss_ce: 0.4059, decode.acc_seg: 84.0230, loss: 0.4059\n",
      "2022-04-14 12:45:06,823 - mmseg - INFO - Epoch [1][28000/43675]\tlr: 6.411e-03, eta: 4 days, 16:45:57, time: 0.217, data_time: 0.001, memory: 1060, decode.loss_ce: 0.3756, decode.acc_seg: 85.4973, loss: 0.3756\n",
      "2022-04-14 12:45:28,499 - mmseg - INFO - Epoch [1][28100/43675]\tlr: 6.434e-03, eta: 4 days, 16:49:16, time: 0.217, data_time: 0.001, memory: 1060, decode.loss_ce: 0.4018, decode.acc_seg: 82.8218, loss: 0.4018\n",
      "2022-04-14 12:45:50,189 - mmseg - INFO - Epoch [1][28200/43675]\tlr: 6.457e-03, eta: 4 days, 16:52:35, time: 0.217, data_time: 0.001, memory: 1060, decode.loss_ce: 0.4093, decode.acc_seg: 82.2138, loss: 0.4093\n",
      "2022-04-14 12:46:11,862 - mmseg - INFO - Epoch [1][28300/43675]\tlr: 6.479e-03, eta: 4 days, 16:55:51, time: 0.217, data_time: 0.001, memory: 1060, decode.loss_ce: 0.4057, decode.acc_seg: 83.5879, loss: 0.4057\n",
      "2022-04-14 12:46:33,553 - mmseg - INFO - Epoch [1][28400/43675]\tlr: 6.502e-03, eta: 4 days, 16:59:07, time: 0.217, data_time: 0.001, memory: 1060, decode.loss_ce: 0.4076, decode.acc_seg: 83.0740, loss: 0.4076\n",
      "2022-04-14 12:46:55,241 - mmseg - INFO - Epoch [1][28500/43675]\tlr: 6.525e-03, eta: 4 days, 17:02:21, time: 0.217, data_time: 0.001, memory: 1060, decode.loss_ce: 0.4052, decode.acc_seg: 83.5157, loss: 0.4052\n",
      "2022-04-14 12:47:16,933 - mmseg - INFO - Epoch [1][28600/43675]\tlr: 6.548e-03, eta: 4 days, 17:05:34, time: 0.217, data_time: 0.001, memory: 1060, decode.loss_ce: 0.3925, decode.acc_seg: 84.7144, loss: 0.3925\n",
      "2022-04-14 12:47:38,631 - mmseg - INFO - Epoch [1][28700/43675]\tlr: 6.571e-03, eta: 4 days, 17:08:46, time: 0.217, data_time: 0.001, memory: 1060, decode.loss_ce: 0.4166, decode.acc_seg: 82.5048, loss: 0.4166\n",
      "2022-04-14 12:48:00,310 - mmseg - INFO - Epoch [1][28800/43675]\tlr: 6.594e-03, eta: 4 days, 17:11:55, time: 0.217, data_time: 0.001, memory: 1060, decode.loss_ce: 0.3937, decode.acc_seg: 83.4317, loss: 0.3937\n",
      "2022-04-14 12:48:22,001 - mmseg - INFO - Epoch [1][28900/43675]\tlr: 6.617e-03, eta: 4 days, 17:15:03, time: 0.217, data_time: 0.001, memory: 1060, decode.loss_ce: 0.4456, decode.acc_seg: 82.0254, loss: 0.4456\n",
      "2022-04-14 12:48:43,697 - mmseg - INFO - Epoch [1][29000/43675]\tlr: 6.640e-03, eta: 4 days, 17:18:11, time: 0.217, data_time: 0.001, memory: 1060, decode.loss_ce: 0.3661, decode.acc_seg: 84.4464, loss: 0.3661\n",
      "2022-04-14 12:49:05,398 - mmseg - INFO - Epoch [1][29100/43675]\tlr: 6.663e-03, eta: 4 days, 17:21:17, time: 0.217, data_time: 0.001, memory: 1060, decode.loss_ce: 0.4298, decode.acc_seg: 81.8076, loss: 0.4298\n",
      "2022-04-14 12:49:27,097 - mmseg - INFO - Epoch [1][29200/43675]\tlr: 6.686e-03, eta: 4 days, 17:24:21, time: 0.217, data_time: 0.001, memory: 1060, decode.loss_ce: 0.4243, decode.acc_seg: 82.0643, loss: 0.4243\n",
      "2022-04-14 12:49:48,808 - mmseg - INFO - Epoch [1][29300/43675]\tlr: 6.708e-03, eta: 4 days, 17:27:26, time: 0.217, data_time: 0.001, memory: 1060, decode.loss_ce: 0.3896, decode.acc_seg: 84.5797, loss: 0.3896\n",
      "2022-04-14 12:50:10,504 - mmseg - INFO - Epoch [1][29400/43675]\tlr: 6.731e-03, eta: 4 days, 17:30:27, time: 0.217, data_time: 0.001, memory: 1060, decode.loss_ce: 0.3988, decode.acc_seg: 83.4812, loss: 0.3988\n",
      "2022-04-14 12:50:32,188 - mmseg - INFO - Epoch [1][29500/43675]\tlr: 6.754e-03, eta: 4 days, 17:33:27, time: 0.217, data_time: 0.001, memory: 1060, decode.loss_ce: 0.4171, decode.acc_seg: 82.0874, loss: 0.4171\n",
      "2022-04-14 12:50:53,892 - mmseg - INFO - Epoch [1][29600/43675]\tlr: 6.777e-03, eta: 4 days, 17:36:26, time: 0.217, data_time: 0.001, memory: 1060, decode.loss_ce: 0.4444, decode.acc_seg: 80.0185, loss: 0.4444\n",
      "2022-04-14 12:51:15,579 - mmseg - INFO - Epoch [1][29700/43675]\tlr: 6.800e-03, eta: 4 days, 17:39:23, time: 0.217, data_time: 0.001, memory: 1060, decode.loss_ce: 0.3886, decode.acc_seg: 84.6411, loss: 0.3886\n",
      "2022-04-14 12:51:37,273 - mmseg - INFO - Epoch [1][29800/43675]\tlr: 6.823e-03, eta: 4 days, 17:42:19, time: 0.217, data_time: 0.001, memory: 1060, decode.loss_ce: 0.3666, decode.acc_seg: 85.9805, loss: 0.3666\n",
      "2022-04-14 12:51:58,994 - mmseg - INFO - Epoch [1][29900/43675]\tlr: 6.846e-03, eta: 4 days, 17:45:16, time: 0.217, data_time: 0.001, memory: 1060, decode.loss_ce: 0.4135, decode.acc_seg: 82.8545, loss: 0.4135\n",
      "2022-04-14 12:52:20,696 - mmseg - INFO - Epoch [1][30000/43675]\tlr: 6.869e-03, eta: 4 days, 17:48:10, time: 0.217, data_time: 0.001, memory: 1060, decode.loss_ce: 0.3622, decode.acc_seg: 85.3588, loss: 0.3622\n",
      "2022-04-14 12:52:42,382 - mmseg - INFO - Epoch [1][30100/43675]\tlr: 6.892e-03, eta: 4 days, 17:51:01, time: 0.217, data_time: 0.001, memory: 1060, decode.loss_ce: 0.4498, decode.acc_seg: 80.9494, loss: 0.4498\n",
      "2022-04-14 12:53:04,103 - mmseg - INFO - Epoch [1][30200/43675]\tlr: 6.914e-03, eta: 4 days, 17:53:54, time: 0.217, data_time: 0.001, memory: 1060, decode.loss_ce: 0.4047, decode.acc_seg: 83.0235, loss: 0.4047\n",
      "2022-04-14 12:53:25,810 - mmseg - INFO - Epoch [1][30300/43675]\tlr: 6.937e-03, eta: 4 days, 17:56:44, time: 0.217, data_time: 0.001, memory: 1060, decode.loss_ce: 0.4303, decode.acc_seg: 81.6238, loss: 0.4303\n",
      "2022-04-14 12:53:47,514 - mmseg - INFO - Epoch [1][30400/43675]\tlr: 6.960e-03, eta: 4 days, 17:59:34, time: 0.217, data_time: 0.001, memory: 1060, decode.loss_ce: 0.4340, decode.acc_seg: 81.3265, loss: 0.4340\n",
      "2022-04-14 12:54:09,210 - mmseg - INFO - Epoch [1][30500/43675]\tlr: 6.983e-03, eta: 4 days, 18:02:21, time: 0.217, data_time: 0.001, memory: 1060, decode.loss_ce: 0.3678, decode.acc_seg: 84.7793, loss: 0.3678\n",
      "2022-04-14 12:54:30,920 - mmseg - INFO - Epoch [1][30600/43675]\tlr: 7.006e-03, eta: 4 days, 18:05:08, time: 0.217, data_time: 0.001, memory: 1060, decode.loss_ce: 0.3904, decode.acc_seg: 83.6620, loss: 0.3904\n",
      "2022-04-14 12:54:52,617 - mmseg - INFO - Epoch [1][30700/43675]\tlr: 7.029e-03, eta: 4 days, 18:07:53, time: 0.217, data_time: 0.001, memory: 1060, decode.loss_ce: 0.4192, decode.acc_seg: 82.4307, loss: 0.4192\n"
     ]
    },
    {
     "name": "stderr",
     "output_type": "stream",
     "text": [
      "2022-04-14 12:55:14,321 - mmseg - INFO - Epoch [1][30800/43675]\tlr: 7.052e-03, eta: 4 days, 18:10:37, time: 0.217, data_time: 0.001, memory: 1060, decode.loss_ce: 0.3973, decode.acc_seg: 83.9818, loss: 0.3973\n",
      "2022-04-14 12:55:36,021 - mmseg - INFO - Epoch [1][30900/43675]\tlr: 7.075e-03, eta: 4 days, 18:13:19, time: 0.217, data_time: 0.001, memory: 1060, decode.loss_ce: 0.3950, decode.acc_seg: 82.5267, loss: 0.3950\n",
      "2022-04-14 12:55:57,713 - mmseg - INFO - Epoch [1][31000/43675]\tlr: 7.098e-03, eta: 4 days, 18:16:00, time: 0.217, data_time: 0.001, memory: 1060, decode.loss_ce: 0.3991, decode.acc_seg: 84.3957, loss: 0.3991\n",
      "2022-04-14 12:56:19,426 - mmseg - INFO - Epoch [1][31100/43675]\tlr: 7.121e-03, eta: 4 days, 18:18:41, time: 0.217, data_time: 0.001, memory: 1060, decode.loss_ce: 0.3802, decode.acc_seg: 83.9720, loss: 0.3802\n",
      "2022-04-14 12:56:41,131 - mmseg - INFO - Epoch [1][31200/43675]\tlr: 7.143e-03, eta: 4 days, 18:21:21, time: 0.217, data_time: 0.001, memory: 1060, decode.loss_ce: 0.3566, decode.acc_seg: 86.5372, loss: 0.3566\n",
      "2022-04-14 12:57:02,830 - mmseg - INFO - Epoch [1][31300/43675]\tlr: 7.166e-03, eta: 4 days, 18:23:59, time: 0.217, data_time: 0.001, memory: 1060, decode.loss_ce: 0.3909, decode.acc_seg: 83.6195, loss: 0.3909\n",
      "2022-04-14 12:57:24,533 - mmseg - INFO - Epoch [1][31400/43675]\tlr: 7.189e-03, eta: 4 days, 18:26:36, time: 0.217, data_time: 0.001, memory: 1060, decode.loss_ce: 0.4342, decode.acc_seg: 80.9928, loss: 0.4342\n",
      "2022-04-14 12:57:46,235 - mmseg - INFO - Epoch [1][31500/43675]\tlr: 7.212e-03, eta: 4 days, 18:29:11, time: 0.217, data_time: 0.001, memory: 1060, decode.loss_ce: 0.4106, decode.acc_seg: 82.3267, loss: 0.4106\n",
      "2022-04-14 12:58:07,932 - mmseg - INFO - Epoch [1][31600/43675]\tlr: 7.235e-03, eta: 4 days, 18:31:46, time: 0.217, data_time: 0.001, memory: 1060, decode.loss_ce: 0.4560, decode.acc_seg: 79.3130, loss: 0.4560\n",
      "2022-04-14 12:58:29,643 - mmseg - INFO - Epoch [1][31700/43675]\tlr: 7.258e-03, eta: 4 days, 18:34:20, time: 0.217, data_time: 0.001, memory: 1060, decode.loss_ce: 0.4263, decode.acc_seg: 82.8192, loss: 0.4263\n",
      "2022-04-14 12:58:51,347 - mmseg - INFO - Epoch [1][31800/43675]\tlr: 7.281e-03, eta: 4 days, 18:36:52, time: 0.217, data_time: 0.001, memory: 1060, decode.loss_ce: 0.3632, decode.acc_seg: 85.1053, loss: 0.3632\n",
      "2022-04-14 12:59:13,041 - mmseg - INFO - Epoch [1][31900/43675]\tlr: 7.304e-03, eta: 4 days, 18:39:23, time: 0.217, data_time: 0.001, memory: 1060, decode.loss_ce: 0.4478, decode.acc_seg: 81.8821, loss: 0.4478\n",
      "2022-04-14 12:59:34,740 - mmseg - INFO - Epoch [1][32000/43675]\tlr: 7.327e-03, eta: 4 days, 18:41:53, time: 0.217, data_time: 0.001, memory: 1060, decode.loss_ce: 0.4530, decode.acc_seg: 81.1065, loss: 0.4530\n",
      "2022-04-14 12:59:56,436 - mmseg - INFO - Epoch [1][32100/43675]\tlr: 7.350e-03, eta: 4 days, 18:44:22, time: 0.217, data_time: 0.001, memory: 1060, decode.loss_ce: 0.4474, decode.acc_seg: 82.0066, loss: 0.4474\n",
      "2022-04-14 13:00:18,133 - mmseg - INFO - Epoch [1][32200/43675]\tlr: 7.372e-03, eta: 4 days, 18:46:50, time: 0.217, data_time: 0.001, memory: 1060, decode.loss_ce: 0.4254, decode.acc_seg: 82.3465, loss: 0.4254\n",
      "2022-04-14 13:00:39,835 - mmseg - INFO - Epoch [1][32300/43675]\tlr: 7.395e-03, eta: 4 days, 18:49:17, time: 0.217, data_time: 0.001, memory: 1060, decode.loss_ce: 0.3977, decode.acc_seg: 84.4785, loss: 0.3977\n",
      "2022-04-14 13:01:01,526 - mmseg - INFO - Epoch [1][32400/43675]\tlr: 7.418e-03, eta: 4 days, 18:51:42, time: 0.217, data_time: 0.001, memory: 1060, decode.loss_ce: 0.4352, decode.acc_seg: 82.2663, loss: 0.4352\n",
      "2022-04-14 13:01:23,212 - mmseg - INFO - Epoch [1][32500/43675]\tlr: 7.441e-03, eta: 4 days, 18:54:06, time: 0.217, data_time: 0.001, memory: 1060, decode.loss_ce: 0.4431, decode.acc_seg: 82.0436, loss: 0.4431\n",
      "2022-04-14 13:01:44,915 - mmseg - INFO - Epoch [1][32600/43675]\tlr: 7.464e-03, eta: 4 days, 18:56:30, time: 0.217, data_time: 0.001, memory: 1060, decode.loss_ce: 0.4378, decode.acc_seg: 81.3613, loss: 0.4378\n",
      "2022-04-14 13:02:06,622 - mmseg - INFO - Epoch [1][32700/43675]\tlr: 7.487e-03, eta: 4 days, 18:58:53, time: 0.217, data_time: 0.001, memory: 1060, decode.loss_ce: 0.4129, decode.acc_seg: 83.1961, loss: 0.4129\n",
      "2022-04-14 13:02:28,309 - mmseg - INFO - Epoch [1][32800/43675]\tlr: 7.510e-03, eta: 4 days, 19:01:14, time: 0.217, data_time: 0.001, memory: 1060, decode.loss_ce: 0.3704, decode.acc_seg: 86.1063, loss: 0.3704\n",
      "2022-04-14 13:02:50,020 - mmseg - INFO - Epoch [1][32900/43675]\tlr: 7.533e-03, eta: 4 days, 19:03:36, time: 0.217, data_time: 0.001, memory: 1060, decode.loss_ce: 0.4426, decode.acc_seg: 81.6347, loss: 0.4426\n",
      "2022-04-14 13:03:11,711 - mmseg - INFO - Epoch [1][33000/43675]\tlr: 7.556e-03, eta: 4 days, 19:05:55, time: 0.217, data_time: 0.001, memory: 1060, decode.loss_ce: 0.3666, decode.acc_seg: 86.0664, loss: 0.3666\n",
      "2022-04-14 13:03:33,415 - mmseg - INFO - Epoch [1][33100/43675]\tlr: 7.578e-03, eta: 4 days, 19:08:14, time: 0.217, data_time: 0.001, memory: 1060, decode.loss_ce: 0.4096, decode.acc_seg: 83.6568, loss: 0.4096\n",
      "2022-04-14 13:03:55,109 - mmseg - INFO - Epoch [1][33200/43675]\tlr: 7.601e-03, eta: 4 days, 19:10:32, time: 0.217, data_time: 0.001, memory: 1060, decode.loss_ce: 0.4233, decode.acc_seg: 83.0662, loss: 0.4233\n",
      "2022-04-14 13:04:16,799 - mmseg - INFO - Epoch [1][33300/43675]\tlr: 7.624e-03, eta: 4 days, 19:12:48, time: 0.217, data_time: 0.001, memory: 1060, decode.loss_ce: 0.4111, decode.acc_seg: 84.1953, loss: 0.4111\n",
      "2022-04-14 13:04:38,505 - mmseg - INFO - Epoch [1][33400/43675]\tlr: 7.647e-03, eta: 4 days, 19:15:04, time: 0.217, data_time: 0.001, memory: 1060, decode.loss_ce: 0.4352, decode.acc_seg: 81.4294, loss: 0.4352\n",
      "2022-04-14 13:05:00,220 - mmseg - INFO - Epoch [1][33500/43675]\tlr: 7.670e-03, eta: 4 days, 19:17:20, time: 0.217, data_time: 0.001, memory: 1060, decode.loss_ce: 0.4299, decode.acc_seg: 82.6219, loss: 0.4299\n",
      "2022-04-14 13:05:21,918 - mmseg - INFO - Epoch [1][33600/43675]\tlr: 7.693e-03, eta: 4 days, 19:19:34, time: 0.217, data_time: 0.001, memory: 1060, decode.loss_ce: 0.4008, decode.acc_seg: 83.9228, loss: 0.4008\n",
      "2022-04-14 13:05:43,629 - mmseg - INFO - Epoch [1][33700/43675]\tlr: 7.716e-03, eta: 4 days, 19:21:48, time: 0.217, data_time: 0.001, memory: 1060, decode.loss_ce: 0.3982, decode.acc_seg: 84.3396, loss: 0.3982\n",
      "2022-04-14 13:06:05,334 - mmseg - INFO - Epoch [1][33800/43675]\tlr: 7.739e-03, eta: 4 days, 19:24:01, time: 0.217, data_time: 0.001, memory: 1060, decode.loss_ce: 0.4035, decode.acc_seg: 83.6972, loss: 0.4035\n",
      "2022-04-14 13:06:27,025 - mmseg - INFO - Epoch [1][33900/43675]\tlr: 7.762e-03, eta: 4 days, 19:26:12, time: 0.217, data_time: 0.001, memory: 1060, decode.loss_ce: 0.4120, decode.acc_seg: 83.1451, loss: 0.4120\n",
      "2022-04-14 13:06:48,732 - mmseg - INFO - Epoch [1][34000/43675]\tlr: 7.785e-03, eta: 4 days, 19:28:23, time: 0.217, data_time: 0.001, memory: 1060, decode.loss_ce: 0.4127, decode.acc_seg: 83.2618, loss: 0.4127\n",
      "2022-04-14 13:07:10,426 - mmseg - INFO - Epoch [1][34100/43675]\tlr: 7.807e-03, eta: 4 days, 19:30:32, time: 0.217, data_time: 0.001, memory: 1060, decode.loss_ce: 0.4320, decode.acc_seg: 82.3876, loss: 0.4320\n",
      "2022-04-14 13:07:32,119 - mmseg - INFO - Epoch [1][34200/43675]\tlr: 7.830e-03, eta: 4 days, 19:32:40, time: 0.217, data_time: 0.001, memory: 1060, decode.loss_ce: 0.4542, decode.acc_seg: 80.0438, loss: 0.4542\n",
      "2022-04-14 13:07:53,822 - mmseg - INFO - Epoch [1][34300/43675]\tlr: 7.853e-03, eta: 4 days, 19:34:48, time: 0.217, data_time: 0.001, memory: 1060, decode.loss_ce: 0.4094, decode.acc_seg: 83.4671, loss: 0.4094\n",
      "2022-04-14 13:08:15,538 - mmseg - INFO - Epoch [1][34400/43675]\tlr: 7.876e-03, eta: 4 days, 19:36:56, time: 0.217, data_time: 0.001, memory: 1060, decode.loss_ce: 0.3727, decode.acc_seg: 86.0097, loss: 0.3727\n",
      "2022-04-14 13:08:37,239 - mmseg - INFO - Epoch [1][34500/43675]\tlr: 7.899e-03, eta: 4 days, 19:39:02, time: 0.217, data_time: 0.001, memory: 1060, decode.loss_ce: 0.3986, decode.acc_seg: 83.7761, loss: 0.3986\n",
      "2022-04-14 13:08:58,941 - mmseg - INFO - Epoch [1][34600/43675]\tlr: 7.922e-03, eta: 4 days, 19:41:07, time: 0.217, data_time: 0.001, memory: 1060, decode.loss_ce: 0.4918, decode.acc_seg: 78.5204, loss: 0.4918\n",
      "2022-04-14 13:09:20,646 - mmseg - INFO - Epoch [1][34700/43675]\tlr: 7.945e-03, eta: 4 days, 19:43:12, time: 0.217, data_time: 0.001, memory: 1060, decode.loss_ce: 0.3829, decode.acc_seg: 85.9033, loss: 0.3829\n"
     ]
    },
    {
     "name": "stderr",
     "output_type": "stream",
     "text": [
      "2022-04-14 13:09:42,335 - mmseg - INFO - Epoch [1][34800/43675]\tlr: 7.968e-03, eta: 4 days, 19:45:15, time: 0.217, data_time: 0.001, memory: 1060, decode.loss_ce: 0.4056, decode.acc_seg: 84.4962, loss: 0.4056\n",
      "2022-04-14 13:10:04,027 - mmseg - INFO - Epoch [1][34900/43675]\tlr: 7.991e-03, eta: 4 days, 19:47:17, time: 0.217, data_time: 0.001, memory: 1060, decode.loss_ce: 0.4347, decode.acc_seg: 82.8709, loss: 0.4347\n",
      "2022-04-14 13:10:25,716 - mmseg - INFO - Epoch [1][35000/43675]\tlr: 8.014e-03, eta: 4 days, 19:49:18, time: 0.217, data_time: 0.001, memory: 1060, decode.loss_ce: 0.4307, decode.acc_seg: 81.2048, loss: 0.4307\n",
      "2022-04-14 13:10:47,401 - mmseg - INFO - Epoch [1][35100/43675]\tlr: 8.036e-03, eta: 4 days, 19:51:19, time: 0.217, data_time: 0.001, memory: 1060, decode.loss_ce: 0.4769, decode.acc_seg: 80.2116, loss: 0.4769\n",
      "2022-04-14 13:11:09,095 - mmseg - INFO - Epoch [1][35200/43675]\tlr: 8.059e-03, eta: 4 days, 19:53:18, time: 0.217, data_time: 0.001, memory: 1060, decode.loss_ce: 0.4123, decode.acc_seg: 83.5996, loss: 0.4123\n",
      "2022-04-14 13:11:30,794 - mmseg - INFO - Epoch [1][35300/43675]\tlr: 8.082e-03, eta: 4 days, 19:55:18, time: 0.217, data_time: 0.001, memory: 1060, decode.loss_ce: 0.4292, decode.acc_seg: 82.3354, loss: 0.4292\n",
      "2022-04-14 13:11:52,491 - mmseg - INFO - Epoch [1][35400/43675]\tlr: 8.105e-03, eta: 4 days, 19:57:16, time: 0.217, data_time: 0.001, memory: 1060, decode.loss_ce: 0.3937, decode.acc_seg: 84.3107, loss: 0.3937\n",
      "2022-04-14 13:12:14,197 - mmseg - INFO - Epoch [1][35500/43675]\tlr: 8.128e-03, eta: 4 days, 19:59:15, time: 0.217, data_time: 0.001, memory: 1060, decode.loss_ce: 0.3678, decode.acc_seg: 85.0869, loss: 0.3678\n",
      "2022-04-14 13:12:35,893 - mmseg - INFO - Epoch [1][35600/43675]\tlr: 8.151e-03, eta: 4 days, 20:01:11, time: 0.217, data_time: 0.001, memory: 1060, decode.loss_ce: 0.4343, decode.acc_seg: 81.5009, loss: 0.4343\n",
      "2022-04-14 13:12:57,587 - mmseg - INFO - Epoch [1][35700/43675]\tlr: 8.174e-03, eta: 4 days, 20:03:07, time: 0.217, data_time: 0.001, memory: 1060, decode.loss_ce: 0.4275, decode.acc_seg: 82.8336, loss: 0.4275\n",
      "2022-04-14 13:13:19,284 - mmseg - INFO - Epoch [1][35800/43675]\tlr: 8.197e-03, eta: 4 days, 20:05:03, time: 0.217, data_time: 0.001, memory: 1060, decode.loss_ce: 0.3963, decode.acc_seg: 83.4418, loss: 0.3963\n",
      "2022-04-14 13:13:40,987 - mmseg - INFO - Epoch [1][35900/43675]\tlr: 8.220e-03, eta: 4 days, 20:06:58, time: 0.217, data_time: 0.001, memory: 1060, decode.loss_ce: 0.4515, decode.acc_seg: 81.2934, loss: 0.4515\n",
      "2022-04-14 13:14:02,687 - mmseg - INFO - Epoch [1][36000/43675]\tlr: 8.242e-03, eta: 4 days, 20:08:52, time: 0.217, data_time: 0.001, memory: 1060, decode.loss_ce: 0.3905, decode.acc_seg: 84.5928, loss: 0.3905\n",
      "2022-04-14 13:14:24,389 - mmseg - INFO - Epoch [1][36100/43675]\tlr: 8.265e-03, eta: 4 days, 20:10:45, time: 0.217, data_time: 0.001, memory: 1060, decode.loss_ce: 0.4282, decode.acc_seg: 82.0532, loss: 0.4282\n",
      "2022-04-14 13:14:46,082 - mmseg - INFO - Epoch [1][36200/43675]\tlr: 8.288e-03, eta: 4 days, 20:12:37, time: 0.217, data_time: 0.001, memory: 1060, decode.loss_ce: 0.3832, decode.acc_seg: 84.7673, loss: 0.3832\n",
      "2022-04-14 13:15:07,765 - mmseg - INFO - Epoch [1][36300/43675]\tlr: 8.311e-03, eta: 4 days, 20:14:28, time: 0.217, data_time: 0.001, memory: 1060, decode.loss_ce: 0.4199, decode.acc_seg: 81.8570, loss: 0.4199\n",
      "2022-04-14 13:15:29,456 - mmseg - INFO - Epoch [1][36400/43675]\tlr: 8.334e-03, eta: 4 days, 20:16:18, time: 0.217, data_time: 0.001, memory: 1060, decode.loss_ce: 0.4033, decode.acc_seg: 84.3917, loss: 0.4033\n",
      "2022-04-14 13:15:51,160 - mmseg - INFO - Epoch [1][36500/43675]\tlr: 8.357e-03, eta: 4 days, 20:18:09, time: 0.217, data_time: 0.001, memory: 1060, decode.loss_ce: 0.3646, decode.acc_seg: 84.8567, loss: 0.3646\n",
      "2022-04-14 13:16:12,850 - mmseg - INFO - Epoch [1][36600/43675]\tlr: 8.380e-03, eta: 4 days, 20:19:58, time: 0.217, data_time: 0.001, memory: 1060, decode.loss_ce: 0.4468, decode.acc_seg: 80.0265, loss: 0.4468\n",
      "2022-04-14 13:16:34,543 - mmseg - INFO - Epoch [1][36700/43675]\tlr: 8.403e-03, eta: 4 days, 20:21:47, time: 0.217, data_time: 0.001, memory: 1060, decode.loss_ce: 0.3892, decode.acc_seg: 83.3479, loss: 0.3892\n",
      "2022-04-14 13:16:56,245 - mmseg - INFO - Epoch [1][36800/43675]\tlr: 8.426e-03, eta: 4 days, 20:23:35, time: 0.217, data_time: 0.001, memory: 1060, decode.loss_ce: 0.4170, decode.acc_seg: 83.0992, loss: 0.4170\n",
      "2022-04-14 13:17:17,929 - mmseg - INFO - Epoch [1][36900/43675]\tlr: 8.449e-03, eta: 4 days, 20:25:21, time: 0.217, data_time: 0.001, memory: 1060, decode.loss_ce: 0.3981, decode.acc_seg: 83.7045, loss: 0.3981\n",
      "2022-04-14 13:17:39,632 - mmseg - INFO - Epoch [1][37000/43675]\tlr: 8.471e-03, eta: 4 days, 20:27:08, time: 0.217, data_time: 0.001, memory: 1060, decode.loss_ce: 0.4184, decode.acc_seg: 82.6798, loss: 0.4184\n",
      "2022-04-14 13:18:01,335 - mmseg - INFO - Epoch [1][37100/43675]\tlr: 8.494e-03, eta: 4 days, 20:28:55, time: 0.217, data_time: 0.001, memory: 1060, decode.loss_ce: 0.3999, decode.acc_seg: 83.2628, loss: 0.3999\n",
      "2022-04-14 13:18:23,007 - mmseg - INFO - Epoch [1][37200/43675]\tlr: 8.517e-03, eta: 4 days, 20:30:38, time: 0.217, data_time: 0.001, memory: 1060, decode.loss_ce: 0.3530, decode.acc_seg: 86.4334, loss: 0.3530\n",
      "2022-04-14 13:18:44,700 - mmseg - INFO - Epoch [1][37300/43675]\tlr: 8.540e-03, eta: 4 days, 20:32:23, time: 0.217, data_time: 0.001, memory: 1060, decode.loss_ce: 0.4419, decode.acc_seg: 81.9313, loss: 0.4419\n",
      "2022-04-14 13:19:06,384 - mmseg - INFO - Epoch [1][37400/43675]\tlr: 8.563e-03, eta: 4 days, 20:34:06, time: 0.217, data_time: 0.001, memory: 1060, decode.loss_ce: 0.4073, decode.acc_seg: 82.0128, loss: 0.4073\n",
      "2022-04-14 13:19:28,060 - mmseg - INFO - Epoch [1][37500/43675]\tlr: 8.586e-03, eta: 4 days, 20:35:48, time: 0.217, data_time: 0.001, memory: 1060, decode.loss_ce: 0.3786, decode.acc_seg: 84.5634, loss: 0.3786\n",
      "2022-04-14 13:19:49,764 - mmseg - INFO - Epoch [1][37600/43675]\tlr: 8.609e-03, eta: 4 days, 20:37:31, time: 0.217, data_time: 0.001, memory: 1060, decode.loss_ce: 0.4201, decode.acc_seg: 82.3235, loss: 0.4201\n",
      "2022-04-14 13:20:11,453 - mmseg - INFO - Epoch [1][37700/43675]\tlr: 8.632e-03, eta: 4 days, 20:39:12, time: 0.217, data_time: 0.001, memory: 1060, decode.loss_ce: 0.3994, decode.acc_seg: 83.7413, loss: 0.3994\n",
      "2022-04-14 13:20:33,128 - mmseg - INFO - Epoch [1][37800/43675]\tlr: 8.655e-03, eta: 4 days, 20:40:52, time: 0.217, data_time: 0.001, memory: 1060, decode.loss_ce: 0.3831, decode.acc_seg: 83.6427, loss: 0.3831\n",
      "2022-04-14 13:20:54,815 - mmseg - INFO - Epoch [1][37900/43675]\tlr: 8.678e-03, eta: 4 days, 20:42:32, time: 0.217, data_time: 0.001, memory: 1060, decode.loss_ce: 0.3845, decode.acc_seg: 82.8639, loss: 0.3845\n",
      "2022-04-14 13:21:16,504 - mmseg - INFO - Epoch [1][38000/43675]\tlr: 8.700e-03, eta: 4 days, 20:44:12, time: 0.217, data_time: 0.001, memory: 1060, decode.loss_ce: 0.3687, decode.acc_seg: 84.5298, loss: 0.3687\n",
      "2022-04-14 13:21:38,188 - mmseg - INFO - Epoch [1][38100/43675]\tlr: 8.723e-03, eta: 4 days, 20:45:50, time: 0.217, data_time: 0.001, memory: 1060, decode.loss_ce: 0.4197, decode.acc_seg: 81.9919, loss: 0.4197\n",
      "2022-04-14 13:21:59,894 - mmseg - INFO - Epoch [1][38200/43675]\tlr: 8.746e-03, eta: 4 days, 20:47:29, time: 0.217, data_time: 0.001, memory: 1060, decode.loss_ce: 0.4306, decode.acc_seg: 81.8753, loss: 0.4306\n",
      "2022-04-14 13:22:21,577 - mmseg - INFO - Epoch [1][38300/43675]\tlr: 8.769e-03, eta: 4 days, 20:49:07, time: 0.217, data_time: 0.001, memory: 1060, decode.loss_ce: 0.4189, decode.acc_seg: 82.8087, loss: 0.4189\n",
      "2022-04-14 13:22:43,269 - mmseg - INFO - Epoch [1][38400/43675]\tlr: 8.792e-03, eta: 4 days, 20:50:44, time: 0.217, data_time: 0.001, memory: 1060, decode.loss_ce: 0.4328, decode.acc_seg: 83.0391, loss: 0.4328\n",
      "2022-04-14 13:23:04,960 - mmseg - INFO - Epoch [1][38500/43675]\tlr: 8.815e-03, eta: 4 days, 20:52:20, time: 0.217, data_time: 0.001, memory: 1060, decode.loss_ce: 0.3988, decode.acc_seg: 84.4505, loss: 0.3988\n",
      "2022-04-14 13:23:26,650 - mmseg - INFO - Epoch [1][38600/43675]\tlr: 8.838e-03, eta: 4 days, 20:53:56, time: 0.217, data_time: 0.001, memory: 1060, decode.loss_ce: 0.4291, decode.acc_seg: 82.0941, loss: 0.4291\n",
      "2022-04-14 13:23:48,355 - mmseg - INFO - Epoch [1][38700/43675]\tlr: 8.861e-03, eta: 4 days, 20:55:32, time: 0.217, data_time: 0.001, memory: 1060, decode.loss_ce: 0.4434, decode.acc_seg: 81.3190, loss: 0.4434\n"
     ]
    },
    {
     "name": "stderr",
     "output_type": "stream",
     "text": [
      "2022-04-14 13:24:10,045 - mmseg - INFO - Epoch [1][38800/43675]\tlr: 8.884e-03, eta: 4 days, 20:57:07, time: 0.217, data_time: 0.001, memory: 1060, decode.loss_ce: 0.3860, decode.acc_seg: 84.4361, loss: 0.3860\n",
      "2022-04-14 13:24:31,734 - mmseg - INFO - Epoch [1][38900/43675]\tlr: 8.906e-03, eta: 4 days, 20:58:41, time: 0.217, data_time: 0.001, memory: 1060, decode.loss_ce: 0.4954, decode.acc_seg: 77.5467, loss: 0.4954\n",
      "2022-04-14 13:24:53,431 - mmseg - INFO - Epoch [1][39000/43675]\tlr: 8.929e-03, eta: 4 days, 21:00:14, time: 0.217, data_time: 0.001, memory: 1060, decode.loss_ce: 0.4341, decode.acc_seg: 81.5315, loss: 0.4341\n",
      "2022-04-14 13:25:15,130 - mmseg - INFO - Epoch [1][39100/43675]\tlr: 8.952e-03, eta: 4 days, 21:01:48, time: 0.217, data_time: 0.001, memory: 1060, decode.loss_ce: 0.3646, decode.acc_seg: 86.0889, loss: 0.3646\n",
      "2022-04-14 13:25:36,814 - mmseg - INFO - Epoch [1][39200/43675]\tlr: 8.975e-03, eta: 4 days, 21:03:20, time: 0.217, data_time: 0.001, memory: 1060, decode.loss_ce: 0.4383, decode.acc_seg: 81.7613, loss: 0.4383\n",
      "2022-04-14 13:25:58,496 - mmseg - INFO - Epoch [1][39300/43675]\tlr: 8.998e-03, eta: 4 days, 21:04:51, time: 0.217, data_time: 0.001, memory: 1060, decode.loss_ce: 0.4154, decode.acc_seg: 82.7041, loss: 0.4154\n",
      "2022-04-14 13:26:20,184 - mmseg - INFO - Epoch [1][39400/43675]\tlr: 9.021e-03, eta: 4 days, 21:06:22, time: 0.217, data_time: 0.001, memory: 1060, decode.loss_ce: 0.4119, decode.acc_seg: 83.7670, loss: 0.4119\n",
      "2022-04-14 13:26:41,865 - mmseg - INFO - Epoch [1][39500/43675]\tlr: 9.044e-03, eta: 4 days, 21:07:52, time: 0.217, data_time: 0.001, memory: 1060, decode.loss_ce: 0.4101, decode.acc_seg: 83.1453, loss: 0.4101\n",
      "2022-04-14 13:27:03,560 - mmseg - INFO - Epoch [1][39600/43675]\tlr: 9.067e-03, eta: 4 days, 21:09:22, time: 0.217, data_time: 0.001, memory: 1060, decode.loss_ce: 0.4191, decode.acc_seg: 83.2451, loss: 0.4191\n",
      "2022-04-14 13:27:25,264 - mmseg - INFO - Epoch [1][39700/43675]\tlr: 9.090e-03, eta: 4 days, 21:10:52, time: 0.217, data_time: 0.001, memory: 1060, decode.loss_ce: 0.4146, decode.acc_seg: 83.8311, loss: 0.4146\n",
      "2022-04-14 13:27:46,954 - mmseg - INFO - Epoch [1][39800/43675]\tlr: 9.113e-03, eta: 4 days, 21:12:21, time: 0.217, data_time: 0.001, memory: 1060, decode.loss_ce: 0.3923, decode.acc_seg: 84.3623, loss: 0.3923\n",
      "2022-04-14 13:28:08,655 - mmseg - INFO - Epoch [1][39900/43675]\tlr: 9.135e-03, eta: 4 days, 21:13:50, time: 0.217, data_time: 0.001, memory: 1060, decode.loss_ce: 0.3778, decode.acc_seg: 85.9565, loss: 0.3778\n",
      "2022-04-14 13:28:28,127 - mmseg - INFO - Epoch [1][40000/43675]\tlr: 9.158e-03, eta: 4 days, 21:13:19, time: 0.195, data_time: 0.001, memory: 1060, decode.loss_ce: 0.4241, decode.acc_seg: 82.9988, loss: 0.4241\n",
      "2022-04-14 13:28:46,448 - mmseg - INFO - Epoch [1][40100/43675]\tlr: 9.181e-03, eta: 4 days, 21:11:47, time: 0.183, data_time: 0.001, memory: 1060, decode.loss_ce: 0.4609, decode.acc_seg: 80.7874, loss: 0.4609\n",
      "2022-04-14 13:29:04,699 - mmseg - INFO - Epoch [1][40200/43675]\tlr: 9.204e-03, eta: 4 days, 21:10:10, time: 0.182, data_time: 0.001, memory: 1060, decode.loss_ce: 0.4366, decode.acc_seg: 82.1194, loss: 0.4366\n",
      "2022-04-14 13:29:22,968 - mmseg - INFO - Epoch [1][40300/43675]\tlr: 9.227e-03, eta: 4 days, 21:08:36, time: 0.183, data_time: 0.001, memory: 1060, decode.loss_ce: 0.4167, decode.acc_seg: 84.1388, loss: 0.4167\n",
      "2022-04-14 13:29:41,106 - mmseg - INFO - Epoch [1][40400/43675]\tlr: 9.250e-03, eta: 4 days, 21:06:55, time: 0.181, data_time: 0.001, memory: 1060, decode.loss_ce: 0.4212, decode.acc_seg: 83.2041, loss: 0.4212\n",
      "2022-04-14 13:29:59,395 - mmseg - INFO - Epoch [1][40500/43675]\tlr: 9.273e-03, eta: 4 days, 21:05:22, time: 0.183, data_time: 0.001, memory: 1060, decode.loss_ce: 0.4133, decode.acc_seg: 83.2316, loss: 0.4133\n",
      "2022-04-14 13:30:17,592 - mmseg - INFO - Epoch [1][40600/43675]\tlr: 9.296e-03, eta: 4 days, 21:03:45, time: 0.182, data_time: 0.001, memory: 1060, decode.loss_ce: 0.3773, decode.acc_seg: 85.3291, loss: 0.3773\n",
      "2022-04-14 13:30:36,253 - mmseg - INFO - Epoch [1][40700/43675]\tlr: 9.319e-03, eta: 4 days, 21:02:32, time: 0.187, data_time: 0.001, memory: 1060, decode.loss_ce: 0.4071, decode.acc_seg: 83.9842, loss: 0.4071\n",
      "2022-04-14 13:30:53,619 - mmseg - INFO - Epoch [1][40800/43675]\tlr: 9.342e-03, eta: 4 days, 21:00:13, time: 0.174, data_time: 0.001, memory: 1060, decode.loss_ce: 0.4278, decode.acc_seg: 82.7654, loss: 0.4278\n",
      "2022-04-14 13:31:14,113 - mmseg - INFO - Epoch [1][40900/43675]\tlr: 9.364e-03, eta: 4 days, 21:00:36, time: 0.205, data_time: 0.001, memory: 1060, decode.loss_ce: 0.3856, decode.acc_seg: 84.9319, loss: 0.3856\n",
      "2022-04-14 13:31:35,826 - mmseg - INFO - Epoch [1][41000/43675]\tlr: 9.387e-03, eta: 4 days, 21:02:04, time: 0.217, data_time: 0.001, memory: 1060, decode.loss_ce: 0.3525, decode.acc_seg: 86.4251, loss: 0.3525\n",
      "2022-04-14 13:31:57,519 - mmseg - INFO - Epoch [1][41100/43675]\tlr: 9.410e-03, eta: 4 days, 21:03:30, time: 0.217, data_time: 0.001, memory: 1060, decode.loss_ce: 0.3739, decode.acc_seg: 85.6362, loss: 0.3739\n",
      "2022-04-14 13:32:19,208 - mmseg - INFO - Epoch [1][41200/43675]\tlr: 9.433e-03, eta: 4 days, 21:04:55, time: 0.217, data_time: 0.001, memory: 1060, decode.loss_ce: 0.4269, decode.acc_seg: 82.6389, loss: 0.4269\n",
      "2022-04-14 13:32:40,910 - mmseg - INFO - Epoch [1][41300/43675]\tlr: 9.456e-03, eta: 4 days, 21:06:21, time: 0.217, data_time: 0.001, memory: 1060, decode.loss_ce: 0.4377, decode.acc_seg: 81.7104, loss: 0.4377\n",
      "2022-04-14 13:33:02,588 - mmseg - INFO - Epoch [1][41400/43675]\tlr: 9.479e-03, eta: 4 days, 21:07:45, time: 0.217, data_time: 0.001, memory: 1060, decode.loss_ce: 0.3881, decode.acc_seg: 83.9181, loss: 0.3881\n",
      "2022-04-14 13:33:24,279 - mmseg - INFO - Epoch [1][41500/43675]\tlr: 9.502e-03, eta: 4 days, 21:09:09, time: 0.217, data_time: 0.001, memory: 1060, decode.loss_ce: 0.4074, decode.acc_seg: 83.7954, loss: 0.4074\n",
      "2022-04-14 13:33:45,981 - mmseg - INFO - Epoch [1][41600/43675]\tlr: 9.525e-03, eta: 4 days, 21:10:33, time: 0.217, data_time: 0.001, memory: 1060, decode.loss_ce: 0.4458, decode.acc_seg: 81.3430, loss: 0.4458\n",
      "2022-04-14 13:34:07,662 - mmseg - INFO - Epoch [1][41700/43675]\tlr: 9.548e-03, eta: 4 days, 21:11:55, time: 0.217, data_time: 0.001, memory: 1060, decode.loss_ce: 0.3971, decode.acc_seg: 84.4609, loss: 0.3971\n",
      "2022-04-14 13:34:29,357 - mmseg - INFO - Epoch [1][41800/43675]\tlr: 9.570e-03, eta: 4 days, 21:13:18, time: 0.217, data_time: 0.001, memory: 1060, decode.loss_ce: 0.4630, decode.acc_seg: 80.3855, loss: 0.4630\n",
      "2022-04-14 13:34:51,046 - mmseg - INFO - Epoch [1][41900/43675]\tlr: 9.593e-03, eta: 4 days, 21:14:40, time: 0.217, data_time: 0.001, memory: 1060, decode.loss_ce: 0.3997, decode.acc_seg: 83.1623, loss: 0.3997\n",
      "2022-04-14 13:35:12,732 - mmseg - INFO - Epoch [1][42000/43675]\tlr: 9.616e-03, eta: 4 days, 21:16:01, time: 0.217, data_time: 0.001, memory: 1060, decode.loss_ce: 0.3954, decode.acc_seg: 84.2553, loss: 0.3954\n",
      "2022-04-14 13:35:34,413 - mmseg - INFO - Epoch [1][42100/43675]\tlr: 9.639e-03, eta: 4 days, 21:17:21, time: 0.217, data_time: 0.001, memory: 1060, decode.loss_ce: 0.3949, decode.acc_seg: 84.0731, loss: 0.3949\n",
      "2022-04-14 13:35:56,100 - mmseg - INFO - Epoch [1][42200/43675]\tlr: 9.662e-03, eta: 4 days, 21:18:42, time: 0.217, data_time: 0.001, memory: 1060, decode.loss_ce: 0.4727, decode.acc_seg: 80.1756, loss: 0.4727\n",
      "2022-04-14 13:36:17,779 - mmseg - INFO - Epoch [1][42300/43675]\tlr: 9.685e-03, eta: 4 days, 21:20:01, time: 0.217, data_time: 0.001, memory: 1060, decode.loss_ce: 0.4212, decode.acc_seg: 82.8666, loss: 0.4212\n",
      "2022-04-14 13:36:39,475 - mmseg - INFO - Epoch [1][42400/43675]\tlr: 9.708e-03, eta: 4 days, 21:21:21, time: 0.217, data_time: 0.001, memory: 1060, decode.loss_ce: 0.4320, decode.acc_seg: 82.3205, loss: 0.4320\n",
      "2022-04-14 13:37:01,175 - mmseg - INFO - Epoch [1][42500/43675]\tlr: 9.731e-03, eta: 4 days, 21:22:40, time: 0.217, data_time: 0.001, memory: 1060, decode.loss_ce: 0.4269, decode.acc_seg: 83.2758, loss: 0.4269\n",
      "2022-04-14 13:37:22,854 - mmseg - INFO - Epoch [1][42600/43675]\tlr: 9.754e-03, eta: 4 days, 21:23:58, time: 0.217, data_time: 0.001, memory: 1060, decode.loss_ce: 0.3720, decode.acc_seg: 85.3315, loss: 0.3720\n",
      "2022-04-14 13:37:44,548 - mmseg - INFO - Epoch [1][42700/43675]\tlr: 9.777e-03, eta: 4 days, 21:25:17, time: 0.217, data_time: 0.001, memory: 1060, decode.loss_ce: 0.4070, decode.acc_seg: 84.1631, loss: 0.4070\n"
     ]
    },
    {
     "name": "stderr",
     "output_type": "stream",
     "text": [
      "2022-04-14 13:38:06,252 - mmseg - INFO - Epoch [1][42800/43675]\tlr: 9.799e-03, eta: 4 days, 21:26:35, time: 0.217, data_time: 0.001, memory: 1060, decode.loss_ce: 0.4167, decode.acc_seg: 83.4996, loss: 0.4167\n",
      "2022-04-14 13:38:27,943 - mmseg - INFO - Epoch [1][42900/43675]\tlr: 9.822e-03, eta: 4 days, 21:27:52, time: 0.217, data_time: 0.001, memory: 1060, decode.loss_ce: 0.3867, decode.acc_seg: 85.2665, loss: 0.3867\n",
      "2022-04-14 13:38:49,634 - mmseg - INFO - Epoch [1][43000/43675]\tlr: 9.845e-03, eta: 4 days, 21:29:09, time: 0.217, data_time: 0.001, memory: 1060, decode.loss_ce: 0.4019, decode.acc_seg: 84.0723, loss: 0.4019\n",
      "2022-04-14 13:39:11,317 - mmseg - INFO - Epoch [1][43100/43675]\tlr: 9.868e-03, eta: 4 days, 21:30:25, time: 0.217, data_time: 0.001, memory: 1060, decode.loss_ce: 0.3982, decode.acc_seg: 84.0627, loss: 0.3982\n",
      "2022-04-14 13:39:33,010 - mmseg - INFO - Epoch [1][43200/43675]\tlr: 9.891e-03, eta: 4 days, 21:31:41, time: 0.217, data_time: 0.001, memory: 1060, decode.loss_ce: 0.4105, decode.acc_seg: 83.4969, loss: 0.4105\n",
      "2022-04-14 13:39:54,707 - mmseg - INFO - Epoch [1][43300/43675]\tlr: 9.914e-03, eta: 4 days, 21:32:56, time: 0.217, data_time: 0.001, memory: 1060, decode.loss_ce: 0.3926, decode.acc_seg: 84.4351, loss: 0.3926\n",
      "2022-04-14 13:40:16,421 - mmseg - INFO - Epoch [1][43400/43675]\tlr: 9.937e-03, eta: 4 days, 21:34:12, time: 0.217, data_time: 0.001, memory: 1060, decode.loss_ce: 0.4275, decode.acc_seg: 82.4642, loss: 0.4275\n",
      "2022-04-14 13:40:38,115 - mmseg - INFO - Epoch [1][43500/43675]\tlr: 9.960e-03, eta: 4 days, 21:35:27, time: 0.217, data_time: 0.001, memory: 1060, decode.loss_ce: 0.4096, decode.acc_seg: 83.4795, loss: 0.4096\n",
      "2022-04-14 13:40:59,820 - mmseg - INFO - Epoch [1][43600/43675]\tlr: 9.983e-03, eta: 4 days, 21:36:42, time: 0.217, data_time: 0.001, memory: 1060, decode.loss_ce: 0.4352, decode.acc_seg: 82.3409, loss: 0.4352\n",
      "2022-04-14 13:41:16,060 - mmseg - INFO - Saving checkpoint at 1 epochs\n"
     ]
    },
    {
     "name": "stdout",
     "output_type": "stream",
     "text": [
      "[>>>>>>>>>>>>>>>>>>>>>>>>>>>] 4855/4855, 6.7 task/s, elapsed: 723s, ETA:     0s"
     ]
    },
    {
     "name": "stderr",
     "output_type": "stream",
     "text": [
      "2022-04-14 13:53:19,279 - mmseg - INFO - per class results:\n",
      "2022-04-14 13:53:19,280 - mmseg - INFO - \n",
      "+------------+-------+-------+\n",
      "|   Class    |  IoU  |  Acc  |\n",
      "+------------+-------+-------+\n",
      "| background | 89.11 | 100.0 |\n",
      "|   human    |  0.0  |  0.0  |\n",
      "+------------+-------+-------+\n",
      "2022-04-14 13:53:19,280 - mmseg - INFO - Summary:\n",
      "2022-04-14 13:53:19,280 - mmseg - INFO - \n",
      "+-------+-------+------+\n",
      "|  aAcc |  mIoU | mAcc |\n",
      "+-------+-------+------+\n",
      "| 89.11 | 44.55 | 50.0 |\n",
      "+-------+-------+------+\n",
      "2022-04-14 13:53:19,517 - mmseg - INFO - Now best checkpoint is saved as best_mIoU_epoch_1.pth.\n",
      "2022-04-14 13:53:19,517 - mmseg - INFO - Best mIoU is 0.4455 at 1 epoch.\n",
      "2022-04-14 13:53:19,517 - mmseg - INFO - early stopping reset to 5\n",
      "2022-04-14 13:53:19,518 - mmseg - INFO - Early stopping: False\n",
      "2022-04-14 13:53:19,523 - mmseg - INFO - Epoch(val) [1][4855]\taAcc: 0.8911, mIoU: 0.4455, mAcc: 0.5000, IoU.background: 0.8911, IoU.human: 0.0000, Acc.background: 1.0000, Acc.human: 0.0000\n",
      "2022-04-14 13:53:43,325 - mmseg - INFO - Epoch [2][100/43675]\tlr: 9.822e-03, eta: 4 days, 21:27:16, time: 0.238, data_time: 0.022, memory: 1060, decode.loss_ce: 0.3687, decode.acc_seg: 84.9954, loss: 0.3687\n",
      "2022-04-14 13:54:05,007 - mmseg - INFO - Epoch [2][200/43675]\tlr: 9.822e-03, eta: 4 days, 21:28:30, time: 0.217, data_time: 0.001, memory: 1060, decode.loss_ce: 0.4104, decode.acc_seg: 83.7675, loss: 0.4104\n",
      "2022-04-14 13:54:26,716 - mmseg - INFO - Epoch [2][300/43675]\tlr: 9.822e-03, eta: 4 days, 21:29:45, time: 0.217, data_time: 0.001, memory: 1060, decode.loss_ce: 0.3963, decode.acc_seg: 83.3721, loss: 0.3963\n",
      "2022-04-14 13:54:48,409 - mmseg - INFO - Epoch [2][400/43675]\tlr: 9.822e-03, eta: 4 days, 21:30:58, time: 0.217, data_time: 0.001, memory: 1060, decode.loss_ce: 0.4073, decode.acc_seg: 83.7632, loss: 0.4073\n",
      "2022-04-14 13:55:10,093 - mmseg - INFO - Epoch [2][500/43675]\tlr: 9.822e-03, eta: 4 days, 21:32:11, time: 0.217, data_time: 0.001, memory: 1060, decode.loss_ce: 0.4479, decode.acc_seg: 81.3974, loss: 0.4479\n",
      "2022-04-14 13:55:31,794 - mmseg - INFO - Epoch [2][600/43675]\tlr: 9.822e-03, eta: 4 days, 21:33:24, time: 0.217, data_time: 0.001, memory: 1060, decode.loss_ce: 0.4258, decode.acc_seg: 82.4130, loss: 0.4258\n",
      "2022-04-14 13:55:53,491 - mmseg - INFO - Epoch [2][700/43675]\tlr: 9.822e-03, eta: 4 days, 21:34:37, time: 0.217, data_time: 0.001, memory: 1060, decode.loss_ce: 0.4134, decode.acc_seg: 82.7927, loss: 0.4134\n",
      "2022-04-14 13:56:15,162 - mmseg - INFO - Epoch [2][800/43675]\tlr: 9.822e-03, eta: 4 days, 21:35:48, time: 0.217, data_time: 0.001, memory: 1060, decode.loss_ce: 0.3947, decode.acc_seg: 84.3670, loss: 0.3947\n",
      "2022-04-14 13:56:36,851 - mmseg - INFO - Epoch [2][900/43675]\tlr: 9.822e-03, eta: 4 days, 21:36:59, time: 0.217, data_time: 0.001, memory: 1060, decode.loss_ce: 0.4383, decode.acc_seg: 82.5249, loss: 0.4383\n",
      "2022-04-14 13:56:58,548 - mmseg - INFO - Epoch [2][1000/43675]\tlr: 9.822e-03, eta: 4 days, 21:38:11, time: 0.217, data_time: 0.001, memory: 1060, decode.loss_ce: 0.4027, decode.acc_seg: 83.8209, loss: 0.4027\n",
      "2022-04-14 13:57:20,217 - mmseg - INFO - Epoch [2][1100/43675]\tlr: 9.822e-03, eta: 4 days, 21:39:20, time: 0.217, data_time: 0.001, memory: 1060, decode.loss_ce: 0.3857, decode.acc_seg: 84.3117, loss: 0.3857\n",
      "2022-04-14 13:57:41,888 - mmseg - INFO - Epoch [2][1200/43675]\tlr: 9.822e-03, eta: 4 days, 21:40:29, time: 0.217, data_time: 0.001, memory: 1060, decode.loss_ce: 0.3857, decode.acc_seg: 83.8889, loss: 0.3857\n",
      "2022-04-14 13:58:03,577 - mmseg - INFO - Epoch [2][1300/43675]\tlr: 9.822e-03, eta: 4 days, 21:41:39, time: 0.217, data_time: 0.001, memory: 1060, decode.loss_ce: 0.4493, decode.acc_seg: 80.3840, loss: 0.4493\n",
      "2022-04-14 13:58:25,271 - mmseg - INFO - Epoch [2][1400/43675]\tlr: 9.822e-03, eta: 4 days, 21:42:49, time: 0.217, data_time: 0.001, memory: 1060, decode.loss_ce: 0.4232, decode.acc_seg: 83.0944, loss: 0.4232\n",
      "2022-04-14 13:58:46,969 - mmseg - INFO - Epoch [2][1500/43675]\tlr: 9.822e-03, eta: 4 days, 21:43:58, time: 0.217, data_time: 0.001, memory: 1060, decode.loss_ce: 0.4436, decode.acc_seg: 81.0595, loss: 0.4436\n",
      "2022-04-14 13:59:08,654 - mmseg - INFO - Epoch [2][1600/43675]\tlr: 9.822e-03, eta: 4 days, 21:45:06, time: 0.217, data_time: 0.001, memory: 1060, decode.loss_ce: 0.4253, decode.acc_seg: 82.7475, loss: 0.4253\n",
      "2022-04-14 13:59:30,341 - mmseg - INFO - Epoch [2][1700/43675]\tlr: 9.822e-03, eta: 4 days, 21:46:14, time: 0.217, data_time: 0.001, memory: 1060, decode.loss_ce: 0.4317, decode.acc_seg: 82.6707, loss: 0.4317\n",
      "2022-04-14 13:59:52,023 - mmseg - INFO - Epoch [2][1800/43675]\tlr: 9.822e-03, eta: 4 days, 21:47:22, time: 0.217, data_time: 0.001, memory: 1060, decode.loss_ce: 0.3585, decode.acc_seg: 86.8317, loss: 0.3585\n",
      "2022-04-14 14:00:13,712 - mmseg - INFO - Epoch [2][1900/43675]\tlr: 9.822e-03, eta: 4 days, 21:48:29, time: 0.217, data_time: 0.001, memory: 1060, decode.loss_ce: 0.5010, decode.acc_seg: 78.5236, loss: 0.5010\n",
      "2022-04-14 14:00:35,370 - mmseg - INFO - Epoch [2][2000/43675]\tlr: 9.822e-03, eta: 4 days, 21:49:34, time: 0.217, data_time: 0.001, memory: 1060, decode.loss_ce: 0.4088, decode.acc_seg: 84.1433, loss: 0.4088\n",
      "2022-04-14 14:00:57,068 - mmseg - INFO - Epoch [2][2100/43675]\tlr: 9.822e-03, eta: 4 days, 21:50:41, time: 0.217, data_time: 0.001, memory: 1060, decode.loss_ce: 0.3894, decode.acc_seg: 84.3435, loss: 0.3894\n",
      "2022-04-14 14:01:18,755 - mmseg - INFO - Epoch [2][2200/43675]\tlr: 9.822e-03, eta: 4 days, 21:51:48, time: 0.217, data_time: 0.001, memory: 1060, decode.loss_ce: 0.4160, decode.acc_seg: 83.6027, loss: 0.4160\n",
      "2022-04-14 14:01:40,469 - mmseg - INFO - Epoch [2][2300/43675]\tlr: 9.822e-03, eta: 4 days, 21:52:54, time: 0.217, data_time: 0.001, memory: 1060, decode.loss_ce: 0.4157, decode.acc_seg: 83.2315, loss: 0.4157\n",
      "2022-04-14 14:02:02,174 - mmseg - INFO - Epoch [2][2400/43675]\tlr: 9.822e-03, eta: 4 days, 21:54:01, time: 0.217, data_time: 0.001, memory: 1060, decode.loss_ce: 0.4036, decode.acc_seg: 83.3016, loss: 0.4036\n",
      "2022-04-14 14:02:23,859 - mmseg - INFO - Epoch [2][2500/43675]\tlr: 9.822e-03, eta: 4 days, 21:55:05, time: 0.217, data_time: 0.001, memory: 1060, decode.loss_ce: 0.4277, decode.acc_seg: 81.9855, loss: 0.4277\n"
     ]
    },
    {
     "ename": "KeyboardInterrupt",
     "evalue": "",
     "output_type": "error",
     "traceback": [
      "\u001b[0;31m---------------------------------------------------------------------------\u001b[0m",
      "\u001b[0;31mKeyboardInterrupt\u001b[0m                         Traceback (most recent call last)",
      "\u001b[0;32m/tmp/ipykernel_1114354/1011222107.py\u001b[0m in \u001b[0;36m<module>\u001b[0;34m\u001b[0m\n\u001b[0;32m----> 1\u001b[0;31m \u001b[0mtrain_segmentor\u001b[0m\u001b[0;34m(\u001b[0m\u001b[0mmodel\u001b[0m\u001b[0;34m,\u001b[0m \u001b[0mdatasets\u001b[0m\u001b[0;34m,\u001b[0m \u001b[0mcfg\u001b[0m\u001b[0;34m,\u001b[0m \u001b[0mdistributed\u001b[0m\u001b[0;34m=\u001b[0m\u001b[0;32mFalse\u001b[0m\u001b[0;34m,\u001b[0m \u001b[0mvalidate\u001b[0m\u001b[0;34m=\u001b[0m\u001b[0;32mTrue\u001b[0m\u001b[0;34m,\u001b[0m \u001b[0mmeta\u001b[0m\u001b[0;34m=\u001b[0m\u001b[0mdict\u001b[0m\u001b[0;34m(\u001b[0m\u001b[0;34m)\u001b[0m\u001b[0;34m)\u001b[0m\u001b[0;34m\u001b[0m\u001b[0;34m\u001b[0m\u001b[0m\n\u001b[0m",
      "\u001b[0;32m~/workspace/github/mmsegmentation/mmseg/apis/train.py\u001b[0m in \u001b[0;36mtrain_segmentor\u001b[0;34m(model, dataset, cfg, distributed, validate, timestamp, meta)\u001b[0m\n\u001b[1;32m    172\u001b[0m     \u001b[0;32melif\u001b[0m \u001b[0mcfg\u001b[0m\u001b[0;34m.\u001b[0m\u001b[0mload_from\u001b[0m\u001b[0;34m:\u001b[0m\u001b[0;34m\u001b[0m\u001b[0;34m\u001b[0m\u001b[0m\n\u001b[1;32m    173\u001b[0m         \u001b[0mrunner\u001b[0m\u001b[0;34m.\u001b[0m\u001b[0mload_checkpoint\u001b[0m\u001b[0;34m(\u001b[0m\u001b[0mcfg\u001b[0m\u001b[0;34m.\u001b[0m\u001b[0mload_from\u001b[0m\u001b[0;34m)\u001b[0m\u001b[0;34m\u001b[0m\u001b[0;34m\u001b[0m\u001b[0m\n\u001b[0;32m--> 174\u001b[0;31m     \u001b[0mrunner\u001b[0m\u001b[0;34m.\u001b[0m\u001b[0mrun\u001b[0m\u001b[0;34m(\u001b[0m\u001b[0mdata_loaders\u001b[0m\u001b[0;34m,\u001b[0m \u001b[0mcfg\u001b[0m\u001b[0;34m.\u001b[0m\u001b[0mworkflow\u001b[0m\u001b[0;34m)\u001b[0m\u001b[0;34m\u001b[0m\u001b[0;34m\u001b[0m\u001b[0m\n\u001b[0m",
      "\u001b[0;32m~/workspace/github/mmcv/mmcv/runner/epoch_based_runner.py\u001b[0m in \u001b[0;36mrun\u001b[0;34m(self, data_loaders, workflow, max_epochs, **kwargs)\u001b[0m\n\u001b[1;32m    125\u001b[0m                     \u001b[0;32mif\u001b[0m \u001b[0mmode\u001b[0m \u001b[0;34m==\u001b[0m \u001b[0;34m'train'\u001b[0m \u001b[0;32mand\u001b[0m \u001b[0mself\u001b[0m\u001b[0;34m.\u001b[0m\u001b[0mepoch\u001b[0m \u001b[0;34m>=\u001b[0m \u001b[0mself\u001b[0m\u001b[0;34m.\u001b[0m\u001b[0m_max_epochs\u001b[0m\u001b[0;34m:\u001b[0m\u001b[0;34m\u001b[0m\u001b[0;34m\u001b[0m\u001b[0m\n\u001b[1;32m    126\u001b[0m                         \u001b[0;32mbreak\u001b[0m\u001b[0;34m\u001b[0m\u001b[0;34m\u001b[0m\u001b[0m\n\u001b[0;32m--> 127\u001b[0;31m                     \u001b[0mepoch_runner\u001b[0m\u001b[0;34m(\u001b[0m\u001b[0mdata_loaders\u001b[0m\u001b[0;34m[\u001b[0m\u001b[0mi\u001b[0m\u001b[0;34m]\u001b[0m\u001b[0;34m,\u001b[0m \u001b[0;34m**\u001b[0m\u001b[0mkwargs\u001b[0m\u001b[0;34m)\u001b[0m\u001b[0;34m\u001b[0m\u001b[0;34m\u001b[0m\u001b[0m\n\u001b[0m\u001b[1;32m    128\u001b[0m \u001b[0;34m\u001b[0m\u001b[0m\n\u001b[1;32m    129\u001b[0m         \u001b[0mtime\u001b[0m\u001b[0;34m.\u001b[0m\u001b[0msleep\u001b[0m\u001b[0;34m(\u001b[0m\u001b[0;36m1\u001b[0m\u001b[0;34m)\u001b[0m  \u001b[0;31m# wait for some hooks like loggers to finish\u001b[0m\u001b[0;34m\u001b[0m\u001b[0;34m\u001b[0m\u001b[0m\n",
      "\u001b[0;32m~/workspace/github/mmcv/mmcv/runner/epoch_based_runner.py\u001b[0m in \u001b[0;36mtrain\u001b[0;34m(self, data_loader, **kwargs)\u001b[0m\n\u001b[1;32m     49\u001b[0m             \u001b[0mself\u001b[0m\u001b[0;34m.\u001b[0m\u001b[0mcall_hook\u001b[0m\u001b[0;34m(\u001b[0m\u001b[0;34m'before_train_iter'\u001b[0m\u001b[0;34m)\u001b[0m\u001b[0;34m\u001b[0m\u001b[0;34m\u001b[0m\u001b[0m\n\u001b[1;32m     50\u001b[0m             \u001b[0mself\u001b[0m\u001b[0;34m.\u001b[0m\u001b[0mrun_iter\u001b[0m\u001b[0;34m(\u001b[0m\u001b[0mdata_batch\u001b[0m\u001b[0;34m,\u001b[0m \u001b[0mtrain_mode\u001b[0m\u001b[0;34m=\u001b[0m\u001b[0;32mTrue\u001b[0m\u001b[0;34m,\u001b[0m \u001b[0;34m**\u001b[0m\u001b[0mkwargs\u001b[0m\u001b[0;34m)\u001b[0m\u001b[0;34m\u001b[0m\u001b[0;34m\u001b[0m\u001b[0m\n\u001b[0;32m---> 51\u001b[0;31m             \u001b[0mself\u001b[0m\u001b[0;34m.\u001b[0m\u001b[0mcall_hook\u001b[0m\u001b[0;34m(\u001b[0m\u001b[0;34m'after_train_iter'\u001b[0m\u001b[0;34m)\u001b[0m\u001b[0;34m\u001b[0m\u001b[0;34m\u001b[0m\u001b[0m\n\u001b[0m\u001b[1;32m     52\u001b[0m             \u001b[0mself\u001b[0m\u001b[0;34m.\u001b[0m\u001b[0m_iter\u001b[0m \u001b[0;34m+=\u001b[0m \u001b[0;36m1\u001b[0m\u001b[0;34m\u001b[0m\u001b[0;34m\u001b[0m\u001b[0m\n\u001b[1;32m     53\u001b[0m \u001b[0;34m\u001b[0m\u001b[0m\n",
      "\u001b[0;32m~/workspace/github/mmcv/mmcv/runner/base_runner.py\u001b[0m in \u001b[0;36mcall_hook\u001b[0;34m(self, fn_name)\u001b[0m\n\u001b[1;32m    308\u001b[0m         \"\"\"\n\u001b[1;32m    309\u001b[0m         \u001b[0;32mfor\u001b[0m \u001b[0mhook\u001b[0m \u001b[0;32min\u001b[0m \u001b[0mself\u001b[0m\u001b[0;34m.\u001b[0m\u001b[0m_hooks\u001b[0m\u001b[0;34m:\u001b[0m\u001b[0;34m\u001b[0m\u001b[0;34m\u001b[0m\u001b[0m\n\u001b[0;32m--> 310\u001b[0;31m             \u001b[0mgetattr\u001b[0m\u001b[0;34m(\u001b[0m\u001b[0mhook\u001b[0m\u001b[0;34m,\u001b[0m \u001b[0mfn_name\u001b[0m\u001b[0;34m)\u001b[0m\u001b[0;34m(\u001b[0m\u001b[0mself\u001b[0m\u001b[0;34m)\u001b[0m\u001b[0;34m\u001b[0m\u001b[0;34m\u001b[0m\u001b[0m\n\u001b[0m\u001b[1;32m    311\u001b[0m \u001b[0;34m\u001b[0m\u001b[0m\n\u001b[1;32m    312\u001b[0m     \u001b[0;32mdef\u001b[0m \u001b[0mget_hook_info\u001b[0m\u001b[0;34m(\u001b[0m\u001b[0mself\u001b[0m\u001b[0;34m)\u001b[0m\u001b[0;34m:\u001b[0m\u001b[0;34m\u001b[0m\u001b[0;34m\u001b[0m\u001b[0m\n",
      "\u001b[0;32m~/workspace/github/mmcv/mmcv/runner/hooks/optimizer.py\u001b[0m in \u001b[0;36mafter_train_iter\u001b[0;34m(self, runner)\u001b[0m\n\u001b[1;32m     62\u001b[0m                 runner.log_buffer.update({'grad_norm': float(grad_norm)},\n\u001b[1;32m     63\u001b[0m                                          runner.outputs['num_samples'])\n\u001b[0;32m---> 64\u001b[0;31m         \u001b[0mrunner\u001b[0m\u001b[0;34m.\u001b[0m\u001b[0moptimizer\u001b[0m\u001b[0;34m.\u001b[0m\u001b[0mstep\u001b[0m\u001b[0;34m(\u001b[0m\u001b[0;34m)\u001b[0m\u001b[0;34m\u001b[0m\u001b[0;34m\u001b[0m\u001b[0m\n\u001b[0m\u001b[1;32m     65\u001b[0m \u001b[0;34m\u001b[0m\u001b[0m\n\u001b[1;32m     66\u001b[0m     \u001b[0;32mdef\u001b[0m \u001b[0mdetect_anomalous_parameters\u001b[0m\u001b[0;34m(\u001b[0m\u001b[0mself\u001b[0m\u001b[0;34m,\u001b[0m \u001b[0mloss\u001b[0m\u001b[0;34m,\u001b[0m \u001b[0mrunner\u001b[0m\u001b[0;34m)\u001b[0m\u001b[0;34m:\u001b[0m\u001b[0;34m\u001b[0m\u001b[0;34m\u001b[0m\u001b[0m\n",
      "\u001b[0;32m~/anaconda3/envs/python37/lib/python3.7/site-packages/torch/optim/optimizer.py\u001b[0m in \u001b[0;36mwrapper\u001b[0;34m(*args, **kwargs)\u001b[0m\n\u001b[1;32m     86\u001b[0m                 \u001b[0mprofile_name\u001b[0m \u001b[0;34m=\u001b[0m \u001b[0;34m\"Optimizer.step#{}.step\"\u001b[0m\u001b[0;34m.\u001b[0m\u001b[0mformat\u001b[0m\u001b[0;34m(\u001b[0m\u001b[0mobj\u001b[0m\u001b[0;34m.\u001b[0m\u001b[0m__class__\u001b[0m\u001b[0;34m.\u001b[0m\u001b[0m__name__\u001b[0m\u001b[0;34m)\u001b[0m\u001b[0;34m\u001b[0m\u001b[0;34m\u001b[0m\u001b[0m\n\u001b[1;32m     87\u001b[0m                 \u001b[0;32mwith\u001b[0m \u001b[0mtorch\u001b[0m\u001b[0;34m.\u001b[0m\u001b[0mautograd\u001b[0m\u001b[0;34m.\u001b[0m\u001b[0mprofiler\u001b[0m\u001b[0;34m.\u001b[0m\u001b[0mrecord_function\u001b[0m\u001b[0;34m(\u001b[0m\u001b[0mprofile_name\u001b[0m\u001b[0;34m)\u001b[0m\u001b[0;34m:\u001b[0m\u001b[0;34m\u001b[0m\u001b[0;34m\u001b[0m\u001b[0m\n\u001b[0;32m---> 88\u001b[0;31m                     \u001b[0;32mreturn\u001b[0m \u001b[0mfunc\u001b[0m\u001b[0;34m(\u001b[0m\u001b[0;34m*\u001b[0m\u001b[0margs\u001b[0m\u001b[0;34m,\u001b[0m \u001b[0;34m**\u001b[0m\u001b[0mkwargs\u001b[0m\u001b[0;34m)\u001b[0m\u001b[0;34m\u001b[0m\u001b[0;34m\u001b[0m\u001b[0m\n\u001b[0m\u001b[1;32m     89\u001b[0m             \u001b[0;32mreturn\u001b[0m \u001b[0mwrapper\u001b[0m\u001b[0;34m\u001b[0m\u001b[0;34m\u001b[0m\u001b[0m\n\u001b[1;32m     90\u001b[0m \u001b[0;34m\u001b[0m\u001b[0m\n",
      "\u001b[0;32m~/anaconda3/envs/python37/lib/python3.7/site-packages/torch/autograd/grad_mode.py\u001b[0m in \u001b[0;36mdecorate_context\u001b[0;34m(*args, **kwargs)\u001b[0m\n\u001b[1;32m     25\u001b[0m         \u001b[0;32mdef\u001b[0m \u001b[0mdecorate_context\u001b[0m\u001b[0;34m(\u001b[0m\u001b[0;34m*\u001b[0m\u001b[0margs\u001b[0m\u001b[0;34m,\u001b[0m \u001b[0;34m**\u001b[0m\u001b[0mkwargs\u001b[0m\u001b[0;34m)\u001b[0m\u001b[0;34m:\u001b[0m\u001b[0;34m\u001b[0m\u001b[0;34m\u001b[0m\u001b[0m\n\u001b[1;32m     26\u001b[0m             \u001b[0;32mwith\u001b[0m \u001b[0mself\u001b[0m\u001b[0;34m.\u001b[0m\u001b[0mclone\u001b[0m\u001b[0;34m(\u001b[0m\u001b[0;34m)\u001b[0m\u001b[0;34m:\u001b[0m\u001b[0;34m\u001b[0m\u001b[0;34m\u001b[0m\u001b[0m\n\u001b[0;32m---> 27\u001b[0;31m                 \u001b[0;32mreturn\u001b[0m \u001b[0mfunc\u001b[0m\u001b[0;34m(\u001b[0m\u001b[0;34m*\u001b[0m\u001b[0margs\u001b[0m\u001b[0;34m,\u001b[0m \u001b[0;34m**\u001b[0m\u001b[0mkwargs\u001b[0m\u001b[0;34m)\u001b[0m\u001b[0;34m\u001b[0m\u001b[0;34m\u001b[0m\u001b[0m\n\u001b[0m\u001b[1;32m     28\u001b[0m         \u001b[0;32mreturn\u001b[0m \u001b[0mcast\u001b[0m\u001b[0;34m(\u001b[0m\u001b[0mF\u001b[0m\u001b[0;34m,\u001b[0m \u001b[0mdecorate_context\u001b[0m\u001b[0;34m)\u001b[0m\u001b[0;34m\u001b[0m\u001b[0;34m\u001b[0m\u001b[0m\n\u001b[1;32m     29\u001b[0m \u001b[0;34m\u001b[0m\u001b[0m\n",
      "\u001b[0;32m~/anaconda3/envs/python37/lib/python3.7/site-packages/torch/optim/sgd.py\u001b[0m in \u001b[0;36mstep\u001b[0;34m(self, closure)\u001b[0m\n\u001b[1;32m    150\u001b[0m                   \u001b[0mdampening\u001b[0m\u001b[0;34m=\u001b[0m\u001b[0mdampening\u001b[0m\u001b[0;34m,\u001b[0m\u001b[0;34m\u001b[0m\u001b[0;34m\u001b[0m\u001b[0m\n\u001b[1;32m    151\u001b[0m                   \u001b[0mnesterov\u001b[0m\u001b[0;34m=\u001b[0m\u001b[0mnesterov\u001b[0m\u001b[0;34m,\u001b[0m\u001b[0;34m\u001b[0m\u001b[0;34m\u001b[0m\u001b[0m\n\u001b[0;32m--> 152\u001b[0;31m                   maximize=maximize,)\n\u001b[0m\u001b[1;32m    153\u001b[0m \u001b[0;34m\u001b[0m\u001b[0m\n\u001b[1;32m    154\u001b[0m             \u001b[0;31m# update momentum_buffers in state\u001b[0m\u001b[0;34m\u001b[0m\u001b[0;34m\u001b[0m\u001b[0;34m\u001b[0m\u001b[0m\n",
      "\u001b[0;32m~/anaconda3/envs/python37/lib/python3.7/site-packages/torch/optim/_functional.py\u001b[0m in \u001b[0;36msgd\u001b[0;34m(params, d_p_list, momentum_buffer_list, weight_decay, momentum, lr, dampening, nesterov, maximize)\u001b[0m\n\u001b[1;32m    184\u001b[0m                 \u001b[0mmomentum_buffer_list\u001b[0m\u001b[0;34m[\u001b[0m\u001b[0mi\u001b[0m\u001b[0;34m]\u001b[0m \u001b[0;34m=\u001b[0m \u001b[0mbuf\u001b[0m\u001b[0;34m\u001b[0m\u001b[0;34m\u001b[0m\u001b[0m\n\u001b[1;32m    185\u001b[0m             \u001b[0;32melse\u001b[0m\u001b[0;34m:\u001b[0m\u001b[0;34m\u001b[0m\u001b[0;34m\u001b[0m\u001b[0m\n\u001b[0;32m--> 186\u001b[0;31m                 \u001b[0mbuf\u001b[0m\u001b[0;34m.\u001b[0m\u001b[0mmul_\u001b[0m\u001b[0;34m(\u001b[0m\u001b[0mmomentum\u001b[0m\u001b[0;34m)\u001b[0m\u001b[0;34m.\u001b[0m\u001b[0madd_\u001b[0m\u001b[0;34m(\u001b[0m\u001b[0md_p\u001b[0m\u001b[0;34m,\u001b[0m \u001b[0malpha\u001b[0m\u001b[0;34m=\u001b[0m\u001b[0;36m1\u001b[0m \u001b[0;34m-\u001b[0m \u001b[0mdampening\u001b[0m\u001b[0;34m)\u001b[0m\u001b[0;34m\u001b[0m\u001b[0;34m\u001b[0m\u001b[0m\n\u001b[0m\u001b[1;32m    187\u001b[0m \u001b[0;34m\u001b[0m\u001b[0m\n\u001b[1;32m    188\u001b[0m             \u001b[0;32mif\u001b[0m \u001b[0mnesterov\u001b[0m\u001b[0;34m:\u001b[0m\u001b[0;34m\u001b[0m\u001b[0;34m\u001b[0m\u001b[0m\n",
      "\u001b[0;31mKeyboardInterrupt\u001b[0m: "
     ]
    }
   ],
   "source": [
    "train_segmentor(model, datasets, cfg, distributed=False, validate=True, meta=dict())"
   ]
  },
  {
   "cell_type": "code",
   "execution_count": null,
   "metadata": {},
   "outputs": [],
   "source": [
    "# human IoU above 70%\n"
   ]
  },
  {
   "cell_type": "code",
   "execution_count": null,
   "metadata": {},
   "outputs": [],
   "source": [
    "img = mmcv.imread('../data/ade/ADEChallengeData2016/images-binary/validation/ADE_val_00000011.jpg')\n",
    "plt.imshow(img)"
   ]
  },
  {
   "cell_type": "code",
   "execution_count": null,
   "metadata": {},
   "outputs": [],
   "source": [
    "img = mmcv.imread('../data/ade/ADEChallengeData2016/images-binary/validation/ADE_val_00000011.jpg')\n",
    "\n",
    "model.cfg = cfg\n",
    "result = inference_segmentor(model, img)"
   ]
  },
  {
   "cell_type": "code",
   "execution_count": null,
   "metadata": {},
   "outputs": [],
   "source": [
    "np.asarray(result).max()"
   ]
  },
  {
   "cell_type": "code",
   "execution_count": null,
   "metadata": {
    "scrolled": false
   },
   "outputs": [],
   "source": [
    "plt.figure(figsize=(8, 6))\n",
    "show_result_pyplot(model, img, result, palette)"
   ]
  },
  {
   "cell_type": "code",
   "execution_count": null,
   "metadata": {},
   "outputs": [],
   "source": [
    "img = mmcv.imread('../data/ade/ADEChallengeData2016/binary-labels/validation/ADE_val_00000011.png')\n",
    "img[img == 1] = 255\n",
    "plt.imshow(img, cmap=\"gray\")"
   ]
  },
  {
   "cell_type": "code",
   "execution_count": null,
   "metadata": {},
   "outputs": [],
   "source": [
    "img.max()"
   ]
  },
  {
   "cell_type": "code",
   "execution_count": null,
   "metadata": {},
   "outputs": [],
   "source": [
    "img.min()"
   ]
  },
  {
   "cell_type": "code",
   "execution_count": null,
   "metadata": {},
   "outputs": [],
   "source": [
    "# print('show video')\n",
    "# test a video and show the results\n",
    "video = mmcv.VideoReader('../data/ramp.mp4')"
   ]
  },
  {
   "cell_type": "code",
   "execution_count": null,
   "metadata": {},
   "outputs": [],
   "source": [
    "import time"
   ]
  },
  {
   "cell_type": "code",
   "execution_count": null,
   "metadata": {},
   "outputs": [],
   "source": [
    "video[1].shape"
   ]
  },
  {
   "cell_type": "code",
   "execution_count": null,
   "metadata": {},
   "outputs": [],
   "source": [
    "x = 100"
   ]
  },
  {
   "cell_type": "code",
   "execution_count": null,
   "metadata": {},
   "outputs": [],
   "source": [
    "%%time\n",
    "start = time.time()\n",
    "\n",
    "for frame in video[:x]: # time - how many frame per sec - metrics acc - IoU\n",
    "    result = inference_segmentor(model, frame)\n",
    "    #model.show_result(frame, result)\n",
    "\n",
    "end = time.time()"
   ]
  },
  {
   "cell_type": "code",
   "execution_count": null,
   "metadata": {},
   "outputs": [],
   "source": [
    "from humanfriendly import format_timespan\n",
    "aux0 = (end-start)\n",
    "print(\"Time:\", format_timespan(aux0))\n",
    "aux1 = aux0/x\n",
    "print(\"Time/frame:\", format_timespan(aux1))\n",
    "print(\"FPS: \", 1/aux1)"
   ]
  },
  {
   "cell_type": "code",
   "execution_count": null,
   "metadata": {},
   "outputs": [],
   "source": [
    "# display the training loss changes\n"
   ]
  },
  {
   "cell_type": "code",
   "execution_count": null,
   "metadata": {},
   "outputs": [],
   "source": []
  }
 ],
 "metadata": {
  "kernelspec": {
   "display_name": "Python 3 (ipykernel)",
   "language": "python",
   "name": "python3"
  },
  "language_info": {
   "codemirror_mode": {
    "name": "ipython",
    "version": 3
   },
   "file_extension": ".py",
   "mimetype": "text/x-python",
   "name": "python",
   "nbconvert_exporter": "python",
   "pygments_lexer": "ipython3",
   "version": "3.7.11"
  },
  "pycharm": {
   "stem_cell": {
    "cell_type": "raw",
    "metadata": {
     "collapsed": false
    },
    "source": []
   }
  }
 },
 "nbformat": 4,
 "nbformat_minor": 4
}
